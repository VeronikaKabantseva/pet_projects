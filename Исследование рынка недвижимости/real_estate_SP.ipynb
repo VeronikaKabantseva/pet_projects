{
 "cells": [
  {
   "cell_type": "markdown",
   "metadata": {},
   "source": [
    "# Исследование объявлений о продаже квартир\n",
    "\n",
    "Используя данные сервиса Яндекс.Недвижимость, определить рыночную стоимость объектов недвижимости и типичные параметры квартир. \n",
   ]
  },
  {
   "cell_type": "markdown",
   "metadata": {},
   "source": [
    "### Откройте файл с данными и изучите общую информацию. "
   ]
  },
  {
   "cell_type": "code",
   "execution_count": 1,
   "metadata": {},
   "outputs": [],
   "source": [
    "import pandas as pd  #импорт библиотек\n",
    "import seaborn as sns\n",
    "import matplotlib.pyplot as plt"
   ]
  },
  {
   "cell_type": "code",
   "execution_count": 2,
   "metadata": {},
   "outputs": [
    {
     "name": "stdout",
     "output_type": "stream",
     "text": [
      "<class 'pandas.core.frame.DataFrame'>\n",
      "RangeIndex: 23699 entries, 0 to 23698\n",
      "Data columns (total 22 columns):\n",
      " #   Column                Non-Null Count  Dtype  \n",
      "---  ------                --------------  -----  \n",
      " 0   total_images          23699 non-null  int64  \n",
      " 1   last_price            23699 non-null  float64\n",
      " 2   total_area            23699 non-null  float64\n",
      " 3   first_day_exposition  23699 non-null  object \n",
      " 4   rooms                 23699 non-null  int64  \n",
      " 5   ceiling_height        14504 non-null  float64\n",
      " 6   floors_total          23613 non-null  float64\n",
      " 7   living_area           21796 non-null  float64\n",
      " 8   floor                 23699 non-null  int64  \n",
      " 9   is_apartment          2775 non-null   object \n",
      " 10  studio                23699 non-null  bool   \n",
      " 11  open_plan             23699 non-null  bool   \n",
      " 12  kitchen_area          21421 non-null  float64\n",
      " 13  balcony               12180 non-null  float64\n",
      " 14  locality_name         23650 non-null  object \n",
      " 15  airports_nearest      18157 non-null  float64\n",
      " 16  cityCenters_nearest   18180 non-null  float64\n",
      " 17  parks_around3000      18181 non-null  float64\n",
      " 18  parks_nearest         8079 non-null   float64\n",
      " 19  ponds_around3000      18181 non-null  float64\n",
      " 20  ponds_nearest         9110 non-null   float64\n",
      " 21  days_exposition       20518 non-null  float64\n",
      "dtypes: bool(2), float64(14), int64(3), object(3)\n",
      "memory usage: 3.7+ MB\n"
     ]
    }
   ],
   "source": [
    "data = pd.read_csv('/datasets/real_estate_data.csv', sep = '\\t') #считывание данных из csv-файла\n",
    "data.info() #информация о датафрейме"
   ]
  },
  {
   "cell_type": "code",
   "execution_count": 3,
   "metadata": {
    "scrolled": true
   },
   "outputs": [
    {
     "data": {
      "text/html": [
       "<div>\n",
       "<style scoped>\n",
       "    .dataframe tbody tr th:only-of-type {\n",
       "        vertical-align: middle;\n",
       "    }\n",
       "\n",
       "    .dataframe tbody tr th {\n",
       "        vertical-align: top;\n",
       "    }\n",
       "\n",
       "    .dataframe thead th {\n",
       "        text-align: right;\n",
       "    }\n",
       "</style>\n",
       "<table border=\"1\" class=\"dataframe\">\n",
       "  <thead>\n",
       "    <tr style=\"text-align: right;\">\n",
       "      <th></th>\n",
       "      <th>total_images</th>\n",
       "      <th>last_price</th>\n",
       "      <th>total_area</th>\n",
       "      <th>first_day_exposition</th>\n",
       "      <th>rooms</th>\n",
       "      <th>ceiling_height</th>\n",
       "      <th>floors_total</th>\n",
       "      <th>living_area</th>\n",
       "      <th>floor</th>\n",
       "      <th>is_apartment</th>\n",
       "      <th>studio</th>\n",
       "      <th>open_plan</th>\n",
       "      <th>kitchen_area</th>\n",
       "      <th>balcony</th>\n",
       "      <th>locality_name</th>\n",
       "      <th>airports_nearest</th>\n",
       "      <th>cityCenters_nearest</th>\n",
       "      <th>parks_around3000</th>\n",
       "      <th>parks_nearest</th>\n",
       "      <th>ponds_around3000</th>\n",
       "      <th>ponds_nearest</th>\n",
       "      <th>days_exposition</th>\n",
       "    </tr>\n",
       "  </thead>\n",
       "  <tbody>\n",
       "    <tr>\n",
       "      <th>0</th>\n",
       "      <td>20</td>\n",
       "      <td>13000000.0</td>\n",
       "      <td>108.00</td>\n",
       "      <td>2019-03-07T00:00:00</td>\n",
       "      <td>3</td>\n",
       "      <td>2.70</td>\n",
       "      <td>16.0</td>\n",
       "      <td>51.00</td>\n",
       "      <td>8</td>\n",
       "      <td>NaN</td>\n",
       "      <td>False</td>\n",
       "      <td>False</td>\n",
       "      <td>25.00</td>\n",
       "      <td>NaN</td>\n",
       "      <td>Санкт-Петербург</td>\n",
       "      <td>18863.0</td>\n",
       "      <td>16028.0</td>\n",
       "      <td>1.0</td>\n",
       "      <td>482.0</td>\n",
       "      <td>2.0</td>\n",
       "      <td>755.0</td>\n",
       "      <td>NaN</td>\n",
       "    </tr>\n",
       "    <tr>\n",
       "      <th>1</th>\n",
       "      <td>7</td>\n",
       "      <td>3350000.0</td>\n",
       "      <td>40.40</td>\n",
       "      <td>2018-12-04T00:00:00</td>\n",
       "      <td>1</td>\n",
       "      <td>NaN</td>\n",
       "      <td>11.0</td>\n",
       "      <td>18.60</td>\n",
       "      <td>1</td>\n",
       "      <td>NaN</td>\n",
       "      <td>False</td>\n",
       "      <td>False</td>\n",
       "      <td>11.00</td>\n",
       "      <td>2.0</td>\n",
       "      <td>посёлок Шушары</td>\n",
       "      <td>12817.0</td>\n",
       "      <td>18603.0</td>\n",
       "      <td>0.0</td>\n",
       "      <td>NaN</td>\n",
       "      <td>0.0</td>\n",
       "      <td>NaN</td>\n",
       "      <td>81.0</td>\n",
       "    </tr>\n",
       "    <tr>\n",
       "      <th>2</th>\n",
       "      <td>10</td>\n",
       "      <td>5196000.0</td>\n",
       "      <td>56.00</td>\n",
       "      <td>2015-08-20T00:00:00</td>\n",
       "      <td>2</td>\n",
       "      <td>NaN</td>\n",
       "      <td>5.0</td>\n",
       "      <td>34.30</td>\n",
       "      <td>4</td>\n",
       "      <td>NaN</td>\n",
       "      <td>False</td>\n",
       "      <td>False</td>\n",
       "      <td>8.30</td>\n",
       "      <td>0.0</td>\n",
       "      <td>Санкт-Петербург</td>\n",
       "      <td>21741.0</td>\n",
       "      <td>13933.0</td>\n",
       "      <td>1.0</td>\n",
       "      <td>90.0</td>\n",
       "      <td>2.0</td>\n",
       "      <td>574.0</td>\n",
       "      <td>558.0</td>\n",
       "    </tr>\n",
       "    <tr>\n",
       "      <th>3</th>\n",
       "      <td>0</td>\n",
       "      <td>64900000.0</td>\n",
       "      <td>159.00</td>\n",
       "      <td>2015-07-24T00:00:00</td>\n",
       "      <td>3</td>\n",
       "      <td>NaN</td>\n",
       "      <td>14.0</td>\n",
       "      <td>NaN</td>\n",
       "      <td>9</td>\n",
       "      <td>NaN</td>\n",
       "      <td>False</td>\n",
       "      <td>False</td>\n",
       "      <td>NaN</td>\n",
       "      <td>0.0</td>\n",
       "      <td>Санкт-Петербург</td>\n",
       "      <td>28098.0</td>\n",
       "      <td>6800.0</td>\n",
       "      <td>2.0</td>\n",
       "      <td>84.0</td>\n",
       "      <td>3.0</td>\n",
       "      <td>234.0</td>\n",
       "      <td>424.0</td>\n",
       "    </tr>\n",
       "    <tr>\n",
       "      <th>4</th>\n",
       "      <td>2</td>\n",
       "      <td>10000000.0</td>\n",
       "      <td>100.00</td>\n",
       "      <td>2018-06-19T00:00:00</td>\n",
       "      <td>2</td>\n",
       "      <td>3.03</td>\n",
       "      <td>14.0</td>\n",
       "      <td>32.00</td>\n",
       "      <td>13</td>\n",
       "      <td>NaN</td>\n",
       "      <td>False</td>\n",
       "      <td>False</td>\n",
       "      <td>41.00</td>\n",
       "      <td>NaN</td>\n",
       "      <td>Санкт-Петербург</td>\n",
       "      <td>31856.0</td>\n",
       "      <td>8098.0</td>\n",
       "      <td>2.0</td>\n",
       "      <td>112.0</td>\n",
       "      <td>1.0</td>\n",
       "      <td>48.0</td>\n",
       "      <td>121.0</td>\n",
       "    </tr>\n",
       "    <tr>\n",
       "      <th>5</th>\n",
       "      <td>10</td>\n",
       "      <td>2890000.0</td>\n",
       "      <td>30.40</td>\n",
       "      <td>2018-09-10T00:00:00</td>\n",
       "      <td>1</td>\n",
       "      <td>NaN</td>\n",
       "      <td>12.0</td>\n",
       "      <td>14.40</td>\n",
       "      <td>5</td>\n",
       "      <td>NaN</td>\n",
       "      <td>False</td>\n",
       "      <td>False</td>\n",
       "      <td>9.10</td>\n",
       "      <td>NaN</td>\n",
       "      <td>городской посёлок Янино-1</td>\n",
       "      <td>NaN</td>\n",
       "      <td>NaN</td>\n",
       "      <td>NaN</td>\n",
       "      <td>NaN</td>\n",
       "      <td>NaN</td>\n",
       "      <td>NaN</td>\n",
       "      <td>55.0</td>\n",
       "    </tr>\n",
       "    <tr>\n",
       "      <th>6</th>\n",
       "      <td>6</td>\n",
       "      <td>3700000.0</td>\n",
       "      <td>37.30</td>\n",
       "      <td>2017-11-02T00:00:00</td>\n",
       "      <td>1</td>\n",
       "      <td>NaN</td>\n",
       "      <td>26.0</td>\n",
       "      <td>10.60</td>\n",
       "      <td>6</td>\n",
       "      <td>NaN</td>\n",
       "      <td>False</td>\n",
       "      <td>False</td>\n",
       "      <td>14.40</td>\n",
       "      <td>1.0</td>\n",
       "      <td>посёлок Парголово</td>\n",
       "      <td>52996.0</td>\n",
       "      <td>19143.0</td>\n",
       "      <td>0.0</td>\n",
       "      <td>NaN</td>\n",
       "      <td>0.0</td>\n",
       "      <td>NaN</td>\n",
       "      <td>155.0</td>\n",
       "    </tr>\n",
       "    <tr>\n",
       "      <th>7</th>\n",
       "      <td>5</td>\n",
       "      <td>7915000.0</td>\n",
       "      <td>71.60</td>\n",
       "      <td>2019-04-18T00:00:00</td>\n",
       "      <td>2</td>\n",
       "      <td>NaN</td>\n",
       "      <td>24.0</td>\n",
       "      <td>NaN</td>\n",
       "      <td>22</td>\n",
       "      <td>NaN</td>\n",
       "      <td>False</td>\n",
       "      <td>False</td>\n",
       "      <td>18.90</td>\n",
       "      <td>2.0</td>\n",
       "      <td>Санкт-Петербург</td>\n",
       "      <td>23982.0</td>\n",
       "      <td>11634.0</td>\n",
       "      <td>0.0</td>\n",
       "      <td>NaN</td>\n",
       "      <td>0.0</td>\n",
       "      <td>NaN</td>\n",
       "      <td>NaN</td>\n",
       "    </tr>\n",
       "    <tr>\n",
       "      <th>8</th>\n",
       "      <td>20</td>\n",
       "      <td>2900000.0</td>\n",
       "      <td>33.16</td>\n",
       "      <td>2018-05-23T00:00:00</td>\n",
       "      <td>1</td>\n",
       "      <td>NaN</td>\n",
       "      <td>27.0</td>\n",
       "      <td>15.43</td>\n",
       "      <td>26</td>\n",
       "      <td>NaN</td>\n",
       "      <td>False</td>\n",
       "      <td>False</td>\n",
       "      <td>8.81</td>\n",
       "      <td>NaN</td>\n",
       "      <td>посёлок Мурино</td>\n",
       "      <td>NaN</td>\n",
       "      <td>NaN</td>\n",
       "      <td>NaN</td>\n",
       "      <td>NaN</td>\n",
       "      <td>NaN</td>\n",
       "      <td>NaN</td>\n",
       "      <td>189.0</td>\n",
       "    </tr>\n",
       "    <tr>\n",
       "      <th>9</th>\n",
       "      <td>18</td>\n",
       "      <td>5400000.0</td>\n",
       "      <td>61.00</td>\n",
       "      <td>2017-02-26T00:00:00</td>\n",
       "      <td>3</td>\n",
       "      <td>2.50</td>\n",
       "      <td>9.0</td>\n",
       "      <td>43.60</td>\n",
       "      <td>7</td>\n",
       "      <td>NaN</td>\n",
       "      <td>False</td>\n",
       "      <td>False</td>\n",
       "      <td>6.50</td>\n",
       "      <td>2.0</td>\n",
       "      <td>Санкт-Петербург</td>\n",
       "      <td>50898.0</td>\n",
       "      <td>15008.0</td>\n",
       "      <td>0.0</td>\n",
       "      <td>NaN</td>\n",
       "      <td>0.0</td>\n",
       "      <td>NaN</td>\n",
       "      <td>289.0</td>\n",
       "    </tr>\n",
       "    <tr>\n",
       "      <th>10</th>\n",
       "      <td>5</td>\n",
       "      <td>5050000.0</td>\n",
       "      <td>39.60</td>\n",
       "      <td>2017-11-16T00:00:00</td>\n",
       "      <td>1</td>\n",
       "      <td>2.67</td>\n",
       "      <td>12.0</td>\n",
       "      <td>20.30</td>\n",
       "      <td>3</td>\n",
       "      <td>NaN</td>\n",
       "      <td>False</td>\n",
       "      <td>False</td>\n",
       "      <td>8.50</td>\n",
       "      <td>NaN</td>\n",
       "      <td>Санкт-Петербург</td>\n",
       "      <td>38357.0</td>\n",
       "      <td>13878.0</td>\n",
       "      <td>1.0</td>\n",
       "      <td>310.0</td>\n",
       "      <td>2.0</td>\n",
       "      <td>553.0</td>\n",
       "      <td>137.0</td>\n",
       "    </tr>\n",
       "    <tr>\n",
       "      <th>11</th>\n",
       "      <td>9</td>\n",
       "      <td>3300000.0</td>\n",
       "      <td>44.00</td>\n",
       "      <td>2018-08-27T00:00:00</td>\n",
       "      <td>2</td>\n",
       "      <td>NaN</td>\n",
       "      <td>5.0</td>\n",
       "      <td>31.00</td>\n",
       "      <td>4</td>\n",
       "      <td>False</td>\n",
       "      <td>False</td>\n",
       "      <td>False</td>\n",
       "      <td>6.00</td>\n",
       "      <td>1.0</td>\n",
       "      <td>Ломоносов</td>\n",
       "      <td>48252.0</td>\n",
       "      <td>51677.0</td>\n",
       "      <td>0.0</td>\n",
       "      <td>NaN</td>\n",
       "      <td>0.0</td>\n",
       "      <td>NaN</td>\n",
       "      <td>7.0</td>\n",
       "    </tr>\n",
       "    <tr>\n",
       "      <th>12</th>\n",
       "      <td>10</td>\n",
       "      <td>3890000.0</td>\n",
       "      <td>54.00</td>\n",
       "      <td>2016-06-30T00:00:00</td>\n",
       "      <td>2</td>\n",
       "      <td>NaN</td>\n",
       "      <td>5.0</td>\n",
       "      <td>30.00</td>\n",
       "      <td>5</td>\n",
       "      <td>NaN</td>\n",
       "      <td>False</td>\n",
       "      <td>False</td>\n",
       "      <td>9.00</td>\n",
       "      <td>0.0</td>\n",
       "      <td>Сертолово</td>\n",
       "      <td>NaN</td>\n",
       "      <td>NaN</td>\n",
       "      <td>NaN</td>\n",
       "      <td>NaN</td>\n",
       "      <td>NaN</td>\n",
       "      <td>NaN</td>\n",
       "      <td>90.0</td>\n",
       "    </tr>\n",
       "    <tr>\n",
       "      <th>13</th>\n",
       "      <td>20</td>\n",
       "      <td>3550000.0</td>\n",
       "      <td>42.80</td>\n",
       "      <td>2017-07-01T00:00:00</td>\n",
       "      <td>2</td>\n",
       "      <td>2.56</td>\n",
       "      <td>5.0</td>\n",
       "      <td>27.00</td>\n",
       "      <td>5</td>\n",
       "      <td>NaN</td>\n",
       "      <td>False</td>\n",
       "      <td>False</td>\n",
       "      <td>5.20</td>\n",
       "      <td>1.0</td>\n",
       "      <td>Петергоф</td>\n",
       "      <td>37868.0</td>\n",
       "      <td>33058.0</td>\n",
       "      <td>1.0</td>\n",
       "      <td>294.0</td>\n",
       "      <td>3.0</td>\n",
       "      <td>298.0</td>\n",
       "      <td>366.0</td>\n",
       "    </tr>\n",
       "    <tr>\n",
       "      <th>14</th>\n",
       "      <td>1</td>\n",
       "      <td>4400000.0</td>\n",
       "      <td>36.00</td>\n",
       "      <td>2016-06-23T00:00:00</td>\n",
       "      <td>1</td>\n",
       "      <td>NaN</td>\n",
       "      <td>6.0</td>\n",
       "      <td>17.00</td>\n",
       "      <td>1</td>\n",
       "      <td>NaN</td>\n",
       "      <td>False</td>\n",
       "      <td>False</td>\n",
       "      <td>8.00</td>\n",
       "      <td>0.0</td>\n",
       "      <td>Пушкин</td>\n",
       "      <td>20782.0</td>\n",
       "      <td>30759.0</td>\n",
       "      <td>0.0</td>\n",
       "      <td>NaN</td>\n",
       "      <td>1.0</td>\n",
       "      <td>96.0</td>\n",
       "      <td>203.0</td>\n",
       "    </tr>\n",
       "    <tr>\n",
       "      <th>15</th>\n",
       "      <td>16</td>\n",
       "      <td>4650000.0</td>\n",
       "      <td>39.00</td>\n",
       "      <td>2017-11-18T00:00:00</td>\n",
       "      <td>1</td>\n",
       "      <td>NaN</td>\n",
       "      <td>14.0</td>\n",
       "      <td>20.50</td>\n",
       "      <td>5</td>\n",
       "      <td>NaN</td>\n",
       "      <td>False</td>\n",
       "      <td>False</td>\n",
       "      <td>7.60</td>\n",
       "      <td>1.0</td>\n",
       "      <td>Санкт-Петербург</td>\n",
       "      <td>12900.0</td>\n",
       "      <td>14259.0</td>\n",
       "      <td>1.0</td>\n",
       "      <td>590.0</td>\n",
       "      <td>1.0</td>\n",
       "      <td>296.0</td>\n",
       "      <td>19.0</td>\n",
       "    </tr>\n",
       "    <tr>\n",
       "      <th>16</th>\n",
       "      <td>11</td>\n",
       "      <td>6700000.0</td>\n",
       "      <td>82.00</td>\n",
       "      <td>2017-11-23T00:00:00</td>\n",
       "      <td>3</td>\n",
       "      <td>3.05</td>\n",
       "      <td>5.0</td>\n",
       "      <td>55.60</td>\n",
       "      <td>1</td>\n",
       "      <td>NaN</td>\n",
       "      <td>False</td>\n",
       "      <td>False</td>\n",
       "      <td>9.00</td>\n",
       "      <td>NaN</td>\n",
       "      <td>Санкт-Петербург</td>\n",
       "      <td>22108.0</td>\n",
       "      <td>10698.0</td>\n",
       "      <td>3.0</td>\n",
       "      <td>420.0</td>\n",
       "      <td>0.0</td>\n",
       "      <td>NaN</td>\n",
       "      <td>397.0</td>\n",
       "    </tr>\n",
       "    <tr>\n",
       "      <th>17</th>\n",
       "      <td>6</td>\n",
       "      <td>4180000.0</td>\n",
       "      <td>36.00</td>\n",
       "      <td>2016-09-09T00:00:00</td>\n",
       "      <td>1</td>\n",
       "      <td>NaN</td>\n",
       "      <td>17.0</td>\n",
       "      <td>16.50</td>\n",
       "      <td>7</td>\n",
       "      <td>NaN</td>\n",
       "      <td>False</td>\n",
       "      <td>False</td>\n",
       "      <td>11.00</td>\n",
       "      <td>1.0</td>\n",
       "      <td>Санкт-Петербург</td>\n",
       "      <td>33564.0</td>\n",
       "      <td>14616.0</td>\n",
       "      <td>0.0</td>\n",
       "      <td>NaN</td>\n",
       "      <td>1.0</td>\n",
       "      <td>859.0</td>\n",
       "      <td>571.0</td>\n",
       "    </tr>\n",
       "    <tr>\n",
       "      <th>18</th>\n",
       "      <td>8</td>\n",
       "      <td>3250000.0</td>\n",
       "      <td>31.00</td>\n",
       "      <td>2017-01-27T00:00:00</td>\n",
       "      <td>1</td>\n",
       "      <td>2.50</td>\n",
       "      <td>5.0</td>\n",
       "      <td>19.40</td>\n",
       "      <td>2</td>\n",
       "      <td>NaN</td>\n",
       "      <td>False</td>\n",
       "      <td>False</td>\n",
       "      <td>5.60</td>\n",
       "      <td>1.0</td>\n",
       "      <td>Санкт-Петербург</td>\n",
       "      <td>44060.0</td>\n",
       "      <td>10842.0</td>\n",
       "      <td>1.0</td>\n",
       "      <td>759.0</td>\n",
       "      <td>0.0</td>\n",
       "      <td>NaN</td>\n",
       "      <td>168.0</td>\n",
       "    </tr>\n",
       "    <tr>\n",
       "      <th>19</th>\n",
       "      <td>16</td>\n",
       "      <td>14200000.0</td>\n",
       "      <td>121.00</td>\n",
       "      <td>2019-01-09T00:00:00</td>\n",
       "      <td>3</td>\n",
       "      <td>2.75</td>\n",
       "      <td>16.0</td>\n",
       "      <td>76.00</td>\n",
       "      <td>8</td>\n",
       "      <td>NaN</td>\n",
       "      <td>False</td>\n",
       "      <td>False</td>\n",
       "      <td>12.00</td>\n",
       "      <td>NaN</td>\n",
       "      <td>Санкт-Петербург</td>\n",
       "      <td>38900.0</td>\n",
       "      <td>12843.0</td>\n",
       "      <td>0.0</td>\n",
       "      <td>NaN</td>\n",
       "      <td>0.0</td>\n",
       "      <td>NaN</td>\n",
       "      <td>97.0</td>\n",
       "    </tr>\n",
       "  </tbody>\n",
       "</table>\n",
       "</div>"
      ],
      "text/plain": [
       "    total_images  last_price  total_area first_day_exposition  rooms  \\\n",
       "0             20  13000000.0      108.00  2019-03-07T00:00:00      3   \n",
       "1              7   3350000.0       40.40  2018-12-04T00:00:00      1   \n",
       "2             10   5196000.0       56.00  2015-08-20T00:00:00      2   \n",
       "3              0  64900000.0      159.00  2015-07-24T00:00:00      3   \n",
       "4              2  10000000.0      100.00  2018-06-19T00:00:00      2   \n",
       "5             10   2890000.0       30.40  2018-09-10T00:00:00      1   \n",
       "6              6   3700000.0       37.30  2017-11-02T00:00:00      1   \n",
       "7              5   7915000.0       71.60  2019-04-18T00:00:00      2   \n",
       "8             20   2900000.0       33.16  2018-05-23T00:00:00      1   \n",
       "9             18   5400000.0       61.00  2017-02-26T00:00:00      3   \n",
       "10             5   5050000.0       39.60  2017-11-16T00:00:00      1   \n",
       "11             9   3300000.0       44.00  2018-08-27T00:00:00      2   \n",
       "12            10   3890000.0       54.00  2016-06-30T00:00:00      2   \n",
       "13            20   3550000.0       42.80  2017-07-01T00:00:00      2   \n",
       "14             1   4400000.0       36.00  2016-06-23T00:00:00      1   \n",
       "15            16   4650000.0       39.00  2017-11-18T00:00:00      1   \n",
       "16            11   6700000.0       82.00  2017-11-23T00:00:00      3   \n",
       "17             6   4180000.0       36.00  2016-09-09T00:00:00      1   \n",
       "18             8   3250000.0       31.00  2017-01-27T00:00:00      1   \n",
       "19            16  14200000.0      121.00  2019-01-09T00:00:00      3   \n",
       "\n",
       "    ceiling_height  floors_total  living_area  floor is_apartment  studio  \\\n",
       "0             2.70          16.0        51.00      8          NaN   False   \n",
       "1              NaN          11.0        18.60      1          NaN   False   \n",
       "2              NaN           5.0        34.30      4          NaN   False   \n",
       "3              NaN          14.0          NaN      9          NaN   False   \n",
       "4             3.03          14.0        32.00     13          NaN   False   \n",
       "5              NaN          12.0        14.40      5          NaN   False   \n",
       "6              NaN          26.0        10.60      6          NaN   False   \n",
       "7              NaN          24.0          NaN     22          NaN   False   \n",
       "8              NaN          27.0        15.43     26          NaN   False   \n",
       "9             2.50           9.0        43.60      7          NaN   False   \n",
       "10            2.67          12.0        20.30      3          NaN   False   \n",
       "11             NaN           5.0        31.00      4        False   False   \n",
       "12             NaN           5.0        30.00      5          NaN   False   \n",
       "13            2.56           5.0        27.00      5          NaN   False   \n",
       "14             NaN           6.0        17.00      1          NaN   False   \n",
       "15             NaN          14.0        20.50      5          NaN   False   \n",
       "16            3.05           5.0        55.60      1          NaN   False   \n",
       "17             NaN          17.0        16.50      7          NaN   False   \n",
       "18            2.50           5.0        19.40      2          NaN   False   \n",
       "19            2.75          16.0        76.00      8          NaN   False   \n",
       "\n",
       "    open_plan  kitchen_area  balcony              locality_name  \\\n",
       "0       False         25.00      NaN            Санкт-Петербург   \n",
       "1       False         11.00      2.0             посёлок Шушары   \n",
       "2       False          8.30      0.0            Санкт-Петербург   \n",
       "3       False           NaN      0.0            Санкт-Петербург   \n",
       "4       False         41.00      NaN            Санкт-Петербург   \n",
       "5       False          9.10      NaN  городской посёлок Янино-1   \n",
       "6       False         14.40      1.0          посёлок Парголово   \n",
       "7       False         18.90      2.0            Санкт-Петербург   \n",
       "8       False          8.81      NaN             посёлок Мурино   \n",
       "9       False          6.50      2.0            Санкт-Петербург   \n",
       "10      False          8.50      NaN            Санкт-Петербург   \n",
       "11      False          6.00      1.0                  Ломоносов   \n",
       "12      False          9.00      0.0                  Сертолово   \n",
       "13      False          5.20      1.0                   Петергоф   \n",
       "14      False          8.00      0.0                     Пушкин   \n",
       "15      False          7.60      1.0            Санкт-Петербург   \n",
       "16      False          9.00      NaN            Санкт-Петербург   \n",
       "17      False         11.00      1.0            Санкт-Петербург   \n",
       "18      False          5.60      1.0            Санкт-Петербург   \n",
       "19      False         12.00      NaN            Санкт-Петербург   \n",
       "\n",
       "    airports_nearest  cityCenters_nearest  parks_around3000  parks_nearest  \\\n",
       "0            18863.0              16028.0               1.0          482.0   \n",
       "1            12817.0              18603.0               0.0            NaN   \n",
       "2            21741.0              13933.0               1.0           90.0   \n",
       "3            28098.0               6800.0               2.0           84.0   \n",
       "4            31856.0               8098.0               2.0          112.0   \n",
       "5                NaN                  NaN               NaN            NaN   \n",
       "6            52996.0              19143.0               0.0            NaN   \n",
       "7            23982.0              11634.0               0.0            NaN   \n",
       "8                NaN                  NaN               NaN            NaN   \n",
       "9            50898.0              15008.0               0.0            NaN   \n",
       "10           38357.0              13878.0               1.0          310.0   \n",
       "11           48252.0              51677.0               0.0            NaN   \n",
       "12               NaN                  NaN               NaN            NaN   \n",
       "13           37868.0              33058.0               1.0          294.0   \n",
       "14           20782.0              30759.0               0.0            NaN   \n",
       "15           12900.0              14259.0               1.0          590.0   \n",
       "16           22108.0              10698.0               3.0          420.0   \n",
       "17           33564.0              14616.0               0.0            NaN   \n",
       "18           44060.0              10842.0               1.0          759.0   \n",
       "19           38900.0              12843.0               0.0            NaN   \n",
       "\n",
       "    ponds_around3000  ponds_nearest  days_exposition  \n",
       "0                2.0          755.0              NaN  \n",
       "1                0.0            NaN             81.0  \n",
       "2                2.0          574.0            558.0  \n",
       "3                3.0          234.0            424.0  \n",
       "4                1.0           48.0            121.0  \n",
       "5                NaN            NaN             55.0  \n",
       "6                0.0            NaN            155.0  \n",
       "7                0.0            NaN              NaN  \n",
       "8                NaN            NaN            189.0  \n",
       "9                0.0            NaN            289.0  \n",
       "10               2.0          553.0            137.0  \n",
       "11               0.0            NaN              7.0  \n",
       "12               NaN            NaN             90.0  \n",
       "13               3.0          298.0            366.0  \n",
       "14               1.0           96.0            203.0  \n",
       "15               1.0          296.0             19.0  \n",
       "16               0.0            NaN            397.0  \n",
       "17               1.0          859.0            571.0  \n",
       "18               0.0            NaN            168.0  \n",
       "19               0.0            NaN             97.0  "
      ]
     },
     "execution_count": 3,
     "metadata": {},
     "output_type": "execute_result"
    }
   ],
   "source": [
    "pd.set_option('display.max_columns', None)\n",
    "data.head(20) #первые 10 строк датафрейма\n"
   ]
  },
  {
   "cell_type": "code",
   "execution_count": 4,
   "metadata": {},
   "outputs": [
    {
     "data": {
      "image/png": "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\n",
      "text/plain": [
       "<Figure size 1080x1440 with 20 Axes>"
      ]
     },
     "metadata": {
      "needs_background": "light"
     },
     "output_type": "display_data"
    }
   ],
   "source": [
    "data.hist(bins = 100, figsize=(15, 20)); #гистограмма числовых столбцов таблицы"
   ]
  },
  {
   "cell_type": "markdown",
   "metadata": {},
   "source": [
    "Вывод: После получения первичной информации о данных можно судить об их несовершенности - большое количество пропусков в разных столбцах, неккоректные типы данных, наличие аномалий. Для дальнейшего анализа необходимо провести предобработку данных."
   ]
  },
  {
   "cell_type": "markdown",
   "metadata": {},
   "source": [
    "### Предобработка данных"
   ]
  },
  {
   "cell_type": "markdown",
   "metadata": {},
   "source": [
    "#### Для начала изучим пропущенные значения и заполним пропущенные там, где это возможно."
   ]
  },
  {
   "cell_type": "code",
   "execution_count": 5,
   "metadata": {
    "scrolled": true
   },
   "outputs": [
    {
     "data": {
      "text/plain": [
       "total_images                0\n",
       "last_price                  0\n",
       "total_area                  0\n",
       "first_day_exposition        0\n",
       "rooms                       0\n",
       "ceiling_height           9195\n",
       "floors_total               86\n",
       "living_area              1903\n",
       "floor                       0\n",
       "is_apartment            20924\n",
       "studio                      0\n",
       "open_plan                   0\n",
       "kitchen_area             2278\n",
       "balcony                 11519\n",
       "locality_name              49\n",
       "airports_nearest         5542\n",
       "cityCenters_nearest      5519\n",
       "parks_around3000         5518\n",
       "parks_nearest           15620\n",
       "ponds_around3000         5518\n",
       "ponds_nearest           14589\n",
       "days_exposition          3181\n",
       "dtype: int64"
      ]
     },
     "execution_count": 5,
     "metadata": {},
     "output_type": "execute_result"
    }
   ],
   "source": [
    "data.isna().sum() #количество пропусков и в каких столбцах"
   ]
  },
  {
   "cell_type": "markdown",
   "metadata": {},
   "source": [
    "Пропуски в столбцах 'airports_nearest', 'parks_around3000', 'parks_nearest', 'ponds_around3000', 'ponds_nearest' логично заполнить не представляется возможным. Остальные пропуски вполне можно заполнить."
   ]
  },
  {
   "cell_type": "markdown",
   "metadata": {},
   "source": [
    "Данные по столбцам 'balcony' заменим на 0, так как логично предположить, что если нет информации о количестве, значит из нет вообще. Аналогично заменим пропуски в столбце 'is apartment' на значение False."
   ]
  },
  {
   "cell_type": "code",
   "execution_count": 6,
   "metadata": {},
   "outputs": [],
   "source": [
    "data['balcony'] = data['balcony'].fillna(0) #заполнение пропусков\n",
    "data['is_apartment'] = data['is_apartment'].fillna(False) #заполнение пропусков"
   ]
  },
  {
   "cell_type": "markdown",
   "metadata": {},
   "source": [
    "Заменим пропуски в столбце 'floors_total' на данные из столбца 'floor'. Можно предположить, что общее количество этажей точно не будет равно нулю или меньше указанного этажа."
   ]
  },
  {
   "cell_type": "code",
   "execution_count": 7,
   "metadata": {},
   "outputs": [],
   "source": [
    "data['floors_total'] = data['floors_total'].fillna(data['floor'])"
   ]
  },
  {
   "cell_type": "markdown",
   "metadata": {},
   "source": [
    "Заменим значения 'locality_name' на пустые строки для возможности их дальнейшей обработки."
   ]
  },
  {
   "cell_type": "code",
   "execution_count": 8,
   "metadata": {},
   "outputs": [],
   "source": [
    "data['locality_name'] = data['locality_name'].fillna('')"
   ]
  },
  {
   "cell_type": "markdown",
   "metadata": {},
   "source": [
    "Значения в колонке 'ceiling_height' заполним медианной высотой потолков из всего датасета. Просто среднее значение брать нельзя, потому что оно более чувствительно к выбросам. На данном этапе эти выбросы еще не устранены."
   ]
  },
  {
   "cell_type": "code",
   "execution_count": 9,
   "metadata": {},
   "outputs": [],
   "source": [
    "data['ceiling_height'] = data['ceiling_height'].fillna(data['ceiling_height'].median())"
   ]
  },
  {
   "cell_type": "markdown",
   "metadata": {},
   "source": [
    "Заполним значения в колонках 'living_area', 'kitchen_area' медианными значениями в зависимости от количества комнат."
   ]
  },
  {
   "cell_type": "code",
   "execution_count": 11,
   "metadata": {},
   "outputs": [],
   "source": [
    "for t in data['rooms'].unique():\n",
    "        data.loc[(data['rooms'] == t) & (data['living_area'].isna()),'living_area'] = \\\n",
    "        data.loc[(data['rooms'] == t), 'living_area'].median()"
   ]
  },
  {
   "cell_type": "code",
   "execution_count": 12,
   "metadata": {},
   "outputs": [
    {
     "name": "stderr",
     "output_type": "stream",
     "text": [
      "/opt/conda/lib/python3.9/site-packages/numpy/lib/nanfunctions.py:1117: RuntimeWarning: Mean of empty slice\n",
      "  return np.nanmean(a, axis, out=out, keepdims=keepdims)\n"
     ]
    }
   ],
   "source": [
    "for t in data['rooms'].unique():\n",
    "        data.loc[(data['rooms'] == t) & (data['kitchen_area'].isna()),'kitchen_area'] = \\\n",
    "        data.loc[(data['rooms'] == t), 'kitchen_area'].median()"
   ]
  },
  {
   "cell_type": "markdown",
   "metadata": {},
   "source": [
    "Проверим результат устранения пропущенных значений."
   ]
  },
  {
   "cell_type": "code",
   "execution_count": 13,
   "metadata": {},
   "outputs": [
    {
     "data": {
      "text/plain": [
       "total_images                0\n",
       "last_price                  0\n",
       "total_area                  0\n",
       "first_day_exposition        0\n",
       "rooms                       0\n",
       "ceiling_height              0\n",
       "floors_total                0\n",
       "living_area                 0\n",
       "floor                       0\n",
       "is_apartment                0\n",
       "studio                      0\n",
       "open_plan                   0\n",
       "kitchen_area              197\n",
       "balcony                     0\n",
       "locality_name               0\n",
       "airports_nearest         5542\n",
       "cityCenters_nearest      5519\n",
       "parks_around3000         5518\n",
       "parks_nearest           15620\n",
       "ponds_around3000         5518\n",
       "ponds_nearest           14589\n",
       "days_exposition          3181\n",
       "dtype: int64"
      ]
     },
     "execution_count": 13,
     "metadata": {},
     "output_type": "execute_result"
    }
   ],
   "source": [
    "data.isna().sum() "
   ]
  },
  {
   "cell_type": "markdown",
   "metadata": {},
   "source": [
    "О каждой квартире в базе содержится два типа данных: добавленные пользователем и картографические. Например, к первому типу относятся площадь квартиры, её этаж и количество балконов, ко второму — расстояния до центра города, аэропорта и ближайшего парка. К причинам пропусков в данных, добавленных пользователем можно отнести: Не было необходимости предоставлять эти данные, неизвестно значение определенных данных, например, жилой площади и площади кухни. К пропускам в картографическиз данных могли привести проблемы на этапе загрузки и на этапе выгрузки данных, неправильный запрос, недостаточность данных."
   ]
  },
  {
   "cell_type": "markdown",
   "metadata": {},
   "source": [
    "#### Рассмотрим типы данных в каждом столбце:"
   ]
  },
  {
   "cell_type": "code",
   "execution_count": 14,
   "metadata": {
    "scrolled": true
   },
   "outputs": [
    {
     "name": "stdout",
     "output_type": "stream",
     "text": [
      "<class 'pandas.core.frame.DataFrame'>\n",
      "RangeIndex: 23699 entries, 0 to 23698\n",
      "Data columns (total 22 columns):\n",
      " #   Column                Non-Null Count  Dtype  \n",
      "---  ------                --------------  -----  \n",
      " 0   total_images          23699 non-null  int64  \n",
      " 1   last_price            23699 non-null  float64\n",
      " 2   total_area            23699 non-null  float64\n",
      " 3   first_day_exposition  23699 non-null  object \n",
      " 4   rooms                 23699 non-null  int64  \n",
      " 5   ceiling_height        23699 non-null  float64\n",
      " 6   floors_total          23699 non-null  float64\n",
      " 7   living_area           23699 non-null  float64\n",
      " 8   floor                 23699 non-null  int64  \n",
      " 9   is_apartment          23699 non-null  bool   \n",
      " 10  studio                23699 non-null  bool   \n",
      " 11  open_plan             23699 non-null  bool   \n",
      " 12  kitchen_area          23502 non-null  float64\n",
      " 13  balcony               23699 non-null  float64\n",
      " 14  locality_name         23699 non-null  object \n",
      " 15  airports_nearest      18157 non-null  float64\n",
      " 16  cityCenters_nearest   18180 non-null  float64\n",
      " 17  parks_around3000      18181 non-null  float64\n",
      " 18  parks_nearest         8079 non-null   float64\n",
      " 19  ponds_around3000      18181 non-null  float64\n",
      " 20  ponds_nearest         9110 non-null   float64\n",
      " 21  days_exposition       20518 non-null  float64\n",
      "dtypes: bool(3), float64(14), int64(3), object(2)\n",
      "memory usage: 3.5+ MB\n"
     ]
    }
   ],
   "source": [
    "data.info()"
   ]
  },
  {
   "cell_type": "markdown",
   "metadata": {},
   "source": [
    "Заменим тип данных столбца 'first_day_exposition' на datetime, чтобы в дальнейшем можно было \"вытащить\" нужные данные. \n"
   ]
  },
  {
   "cell_type": "code",
   "execution_count": 15,
   "metadata": {},
   "outputs": [],
   "source": [
    "data['first_day_exposition'] = pd.to_datetime(data['first_day_exposition'], format = '%Y-%m-%d')"
   ]
  },
  {
   "cell_type": "markdown",
   "metadata": {},
   "source": [
    "Заменим тип данных столбцов 'floors_total', 'balcony' на целочисленный тип integer, так как эти данные не могут быть вещественными.\n"
   ]
  },
  {
   "cell_type": "code",
   "execution_count": 16,
   "metadata": {},
   "outputs": [
    {
     "data": {
      "text/html": [
       "<div>\n",
       "<style scoped>\n",
       "    .dataframe tbody tr th:only-of-type {\n",
       "        vertical-align: middle;\n",
       "    }\n",
       "\n",
       "    .dataframe tbody tr th {\n",
       "        vertical-align: top;\n",
       "    }\n",
       "\n",
       "    .dataframe thead th {\n",
       "        text-align: right;\n",
       "    }\n",
       "</style>\n",
       "<table border=\"1\" class=\"dataframe\">\n",
       "  <thead>\n",
       "    <tr style=\"text-align: right;\">\n",
       "      <th></th>\n",
       "      <th>total_images</th>\n",
       "      <th>last_price</th>\n",
       "      <th>total_area</th>\n",
       "      <th>first_day_exposition</th>\n",
       "      <th>rooms</th>\n",
       "      <th>ceiling_height</th>\n",
       "      <th>floors_total</th>\n",
       "      <th>living_area</th>\n",
       "      <th>floor</th>\n",
       "      <th>is_apartment</th>\n",
       "      <th>studio</th>\n",
       "      <th>open_plan</th>\n",
       "      <th>kitchen_area</th>\n",
       "      <th>balcony</th>\n",
       "      <th>locality_name</th>\n",
       "      <th>airports_nearest</th>\n",
       "      <th>cityCenters_nearest</th>\n",
       "      <th>parks_around3000</th>\n",
       "      <th>parks_nearest</th>\n",
       "      <th>ponds_around3000</th>\n",
       "      <th>ponds_nearest</th>\n",
       "      <th>days_exposition</th>\n",
       "    </tr>\n",
       "  </thead>\n",
       "  <tbody>\n",
       "    <tr>\n",
       "      <th>0</th>\n",
       "      <td>20</td>\n",
       "      <td>13000000.0</td>\n",
       "      <td>108.00</td>\n",
       "      <td>2019-03-07</td>\n",
       "      <td>3</td>\n",
       "      <td>2.70</td>\n",
       "      <td>16</td>\n",
       "      <td>51.0</td>\n",
       "      <td>8</td>\n",
       "      <td>False</td>\n",
       "      <td>False</td>\n",
       "      <td>False</td>\n",
       "      <td>25.00</td>\n",
       "      <td>0</td>\n",
       "      <td>Санкт-Петербург</td>\n",
       "      <td>18863.0</td>\n",
       "      <td>16028.0</td>\n",
       "      <td>1.0</td>\n",
       "      <td>482.0</td>\n",
       "      <td>2.0</td>\n",
       "      <td>755.0</td>\n",
       "      <td>NaN</td>\n",
       "    </tr>\n",
       "    <tr>\n",
       "      <th>1</th>\n",
       "      <td>7</td>\n",
       "      <td>3350000.0</td>\n",
       "      <td>40.40</td>\n",
       "      <td>2018-12-04</td>\n",
       "      <td>1</td>\n",
       "      <td>2.65</td>\n",
       "      <td>11</td>\n",
       "      <td>18.6</td>\n",
       "      <td>1</td>\n",
       "      <td>False</td>\n",
       "      <td>False</td>\n",
       "      <td>False</td>\n",
       "      <td>11.00</td>\n",
       "      <td>2</td>\n",
       "      <td>посёлок Шушары</td>\n",
       "      <td>12817.0</td>\n",
       "      <td>18603.0</td>\n",
       "      <td>0.0</td>\n",
       "      <td>NaN</td>\n",
       "      <td>0.0</td>\n",
       "      <td>NaN</td>\n",
       "      <td>81.0</td>\n",
       "    </tr>\n",
       "    <tr>\n",
       "      <th>2</th>\n",
       "      <td>10</td>\n",
       "      <td>5196000.0</td>\n",
       "      <td>56.00</td>\n",
       "      <td>2015-08-20</td>\n",
       "      <td>2</td>\n",
       "      <td>2.65</td>\n",
       "      <td>5</td>\n",
       "      <td>34.3</td>\n",
       "      <td>4</td>\n",
       "      <td>False</td>\n",
       "      <td>False</td>\n",
       "      <td>False</td>\n",
       "      <td>8.30</td>\n",
       "      <td>0</td>\n",
       "      <td>Санкт-Петербург</td>\n",
       "      <td>21741.0</td>\n",
       "      <td>13933.0</td>\n",
       "      <td>1.0</td>\n",
       "      <td>90.0</td>\n",
       "      <td>2.0</td>\n",
       "      <td>574.0</td>\n",
       "      <td>558.0</td>\n",
       "    </tr>\n",
       "    <tr>\n",
       "      <th>3</th>\n",
       "      <td>0</td>\n",
       "      <td>64900000.0</td>\n",
       "      <td>159.00</td>\n",
       "      <td>2015-07-24</td>\n",
       "      <td>3</td>\n",
       "      <td>2.65</td>\n",
       "      <td>14</td>\n",
       "      <td>45.0</td>\n",
       "      <td>9</td>\n",
       "      <td>False</td>\n",
       "      <td>False</td>\n",
       "      <td>False</td>\n",
       "      <td>9.50</td>\n",
       "      <td>0</td>\n",
       "      <td>Санкт-Петербург</td>\n",
       "      <td>28098.0</td>\n",
       "      <td>6800.0</td>\n",
       "      <td>2.0</td>\n",
       "      <td>84.0</td>\n",
       "      <td>3.0</td>\n",
       "      <td>234.0</td>\n",
       "      <td>424.0</td>\n",
       "    </tr>\n",
       "    <tr>\n",
       "      <th>4</th>\n",
       "      <td>2</td>\n",
       "      <td>10000000.0</td>\n",
       "      <td>100.00</td>\n",
       "      <td>2018-06-19</td>\n",
       "      <td>2</td>\n",
       "      <td>3.03</td>\n",
       "      <td>14</td>\n",
       "      <td>32.0</td>\n",
       "      <td>13</td>\n",
       "      <td>False</td>\n",
       "      <td>False</td>\n",
       "      <td>False</td>\n",
       "      <td>41.00</td>\n",
       "      <td>0</td>\n",
       "      <td>Санкт-Петербург</td>\n",
       "      <td>31856.0</td>\n",
       "      <td>8098.0</td>\n",
       "      <td>2.0</td>\n",
       "      <td>112.0</td>\n",
       "      <td>1.0</td>\n",
       "      <td>48.0</td>\n",
       "      <td>121.0</td>\n",
       "    </tr>\n",
       "    <tr>\n",
       "      <th>...</th>\n",
       "      <td>...</td>\n",
       "      <td>...</td>\n",
       "      <td>...</td>\n",
       "      <td>...</td>\n",
       "      <td>...</td>\n",
       "      <td>...</td>\n",
       "      <td>...</td>\n",
       "      <td>...</td>\n",
       "      <td>...</td>\n",
       "      <td>...</td>\n",
       "      <td>...</td>\n",
       "      <td>...</td>\n",
       "      <td>...</td>\n",
       "      <td>...</td>\n",
       "      <td>...</td>\n",
       "      <td>...</td>\n",
       "      <td>...</td>\n",
       "      <td>...</td>\n",
       "      <td>...</td>\n",
       "      <td>...</td>\n",
       "      <td>...</td>\n",
       "      <td>...</td>\n",
       "    </tr>\n",
       "    <tr>\n",
       "      <th>23694</th>\n",
       "      <td>9</td>\n",
       "      <td>9700000.0</td>\n",
       "      <td>133.81</td>\n",
       "      <td>2017-03-21</td>\n",
       "      <td>3</td>\n",
       "      <td>3.70</td>\n",
       "      <td>5</td>\n",
       "      <td>73.3</td>\n",
       "      <td>3</td>\n",
       "      <td>False</td>\n",
       "      <td>False</td>\n",
       "      <td>False</td>\n",
       "      <td>13.83</td>\n",
       "      <td>0</td>\n",
       "      <td>Санкт-Петербург</td>\n",
       "      <td>24665.0</td>\n",
       "      <td>4232.0</td>\n",
       "      <td>1.0</td>\n",
       "      <td>796.0</td>\n",
       "      <td>3.0</td>\n",
       "      <td>381.0</td>\n",
       "      <td>NaN</td>\n",
       "    </tr>\n",
       "    <tr>\n",
       "      <th>23695</th>\n",
       "      <td>14</td>\n",
       "      <td>3100000.0</td>\n",
       "      <td>59.00</td>\n",
       "      <td>2018-01-15</td>\n",
       "      <td>3</td>\n",
       "      <td>2.65</td>\n",
       "      <td>5</td>\n",
       "      <td>38.0</td>\n",
       "      <td>4</td>\n",
       "      <td>False</td>\n",
       "      <td>False</td>\n",
       "      <td>False</td>\n",
       "      <td>8.50</td>\n",
       "      <td>0</td>\n",
       "      <td>Тосно</td>\n",
       "      <td>NaN</td>\n",
       "      <td>NaN</td>\n",
       "      <td>NaN</td>\n",
       "      <td>NaN</td>\n",
       "      <td>NaN</td>\n",
       "      <td>NaN</td>\n",
       "      <td>45.0</td>\n",
       "    </tr>\n",
       "    <tr>\n",
       "      <th>23696</th>\n",
       "      <td>18</td>\n",
       "      <td>2500000.0</td>\n",
       "      <td>56.70</td>\n",
       "      <td>2018-02-11</td>\n",
       "      <td>2</td>\n",
       "      <td>2.65</td>\n",
       "      <td>3</td>\n",
       "      <td>29.7</td>\n",
       "      <td>1</td>\n",
       "      <td>False</td>\n",
       "      <td>False</td>\n",
       "      <td>False</td>\n",
       "      <td>8.80</td>\n",
       "      <td>0</td>\n",
       "      <td>село Рождествено</td>\n",
       "      <td>NaN</td>\n",
       "      <td>NaN</td>\n",
       "      <td>NaN</td>\n",
       "      <td>NaN</td>\n",
       "      <td>NaN</td>\n",
       "      <td>NaN</td>\n",
       "      <td>NaN</td>\n",
       "    </tr>\n",
       "    <tr>\n",
       "      <th>23697</th>\n",
       "      <td>13</td>\n",
       "      <td>11475000.0</td>\n",
       "      <td>76.75</td>\n",
       "      <td>2017-03-28</td>\n",
       "      <td>2</td>\n",
       "      <td>3.00</td>\n",
       "      <td>17</td>\n",
       "      <td>30.5</td>\n",
       "      <td>12</td>\n",
       "      <td>False</td>\n",
       "      <td>False</td>\n",
       "      <td>False</td>\n",
       "      <td>23.30</td>\n",
       "      <td>2</td>\n",
       "      <td>Санкт-Петербург</td>\n",
       "      <td>39140.0</td>\n",
       "      <td>10364.0</td>\n",
       "      <td>2.0</td>\n",
       "      <td>173.0</td>\n",
       "      <td>3.0</td>\n",
       "      <td>196.0</td>\n",
       "      <td>602.0</td>\n",
       "    </tr>\n",
       "    <tr>\n",
       "      <th>23698</th>\n",
       "      <td>4</td>\n",
       "      <td>1350000.0</td>\n",
       "      <td>32.30</td>\n",
       "      <td>2017-07-21</td>\n",
       "      <td>1</td>\n",
       "      <td>2.50</td>\n",
       "      <td>5</td>\n",
       "      <td>12.3</td>\n",
       "      <td>1</td>\n",
       "      <td>False</td>\n",
       "      <td>False</td>\n",
       "      <td>False</td>\n",
       "      <td>9.00</td>\n",
       "      <td>0</td>\n",
       "      <td>поселок Новый Учхоз</td>\n",
       "      <td>NaN</td>\n",
       "      <td>NaN</td>\n",
       "      <td>NaN</td>\n",
       "      <td>NaN</td>\n",
       "      <td>NaN</td>\n",
       "      <td>NaN</td>\n",
       "      <td>NaN</td>\n",
       "    </tr>\n",
       "  </tbody>\n",
       "</table>\n",
       "<p>23699 rows × 22 columns</p>\n",
       "</div>"
      ],
      "text/plain": [
       "       total_images  last_price  total_area first_day_exposition  rooms  \\\n",
       "0                20  13000000.0      108.00           2019-03-07      3   \n",
       "1                 7   3350000.0       40.40           2018-12-04      1   \n",
       "2                10   5196000.0       56.00           2015-08-20      2   \n",
       "3                 0  64900000.0      159.00           2015-07-24      3   \n",
       "4                 2  10000000.0      100.00           2018-06-19      2   \n",
       "...             ...         ...         ...                  ...    ...   \n",
       "23694             9   9700000.0      133.81           2017-03-21      3   \n",
       "23695            14   3100000.0       59.00           2018-01-15      3   \n",
       "23696            18   2500000.0       56.70           2018-02-11      2   \n",
       "23697            13  11475000.0       76.75           2017-03-28      2   \n",
       "23698             4   1350000.0       32.30           2017-07-21      1   \n",
       "\n",
       "       ceiling_height  floors_total  living_area  floor  is_apartment  studio  \\\n",
       "0                2.70            16         51.0      8         False   False   \n",
       "1                2.65            11         18.6      1         False   False   \n",
       "2                2.65             5         34.3      4         False   False   \n",
       "3                2.65            14         45.0      9         False   False   \n",
       "4                3.03            14         32.0     13         False   False   \n",
       "...               ...           ...          ...    ...           ...     ...   \n",
       "23694            3.70             5         73.3      3         False   False   \n",
       "23695            2.65             5         38.0      4         False   False   \n",
       "23696            2.65             3         29.7      1         False   False   \n",
       "23697            3.00            17         30.5     12         False   False   \n",
       "23698            2.50             5         12.3      1         False   False   \n",
       "\n",
       "       open_plan  kitchen_area  balcony        locality_name  \\\n",
       "0          False         25.00        0      Санкт-Петербург   \n",
       "1          False         11.00        2       посёлок Шушары   \n",
       "2          False          8.30        0      Санкт-Петербург   \n",
       "3          False          9.50        0      Санкт-Петербург   \n",
       "4          False         41.00        0      Санкт-Петербург   \n",
       "...          ...           ...      ...                  ...   \n",
       "23694      False         13.83        0      Санкт-Петербург   \n",
       "23695      False          8.50        0                Тосно   \n",
       "23696      False          8.80        0     село Рождествено   \n",
       "23697      False         23.30        2      Санкт-Петербург   \n",
       "23698      False          9.00        0  поселок Новый Учхоз   \n",
       "\n",
       "       airports_nearest  cityCenters_nearest  parks_around3000  parks_nearest  \\\n",
       "0               18863.0              16028.0               1.0          482.0   \n",
       "1               12817.0              18603.0               0.0            NaN   \n",
       "2               21741.0              13933.0               1.0           90.0   \n",
       "3               28098.0               6800.0               2.0           84.0   \n",
       "4               31856.0               8098.0               2.0          112.0   \n",
       "...                 ...                  ...               ...            ...   \n",
       "23694           24665.0               4232.0               1.0          796.0   \n",
       "23695               NaN                  NaN               NaN            NaN   \n",
       "23696               NaN                  NaN               NaN            NaN   \n",
       "23697           39140.0              10364.0               2.0          173.0   \n",
       "23698               NaN                  NaN               NaN            NaN   \n",
       "\n",
       "       ponds_around3000  ponds_nearest  days_exposition  \n",
       "0                   2.0          755.0              NaN  \n",
       "1                   0.0            NaN             81.0  \n",
       "2                   2.0          574.0            558.0  \n",
       "3                   3.0          234.0            424.0  \n",
       "4                   1.0           48.0            121.0  \n",
       "...                 ...            ...              ...  \n",
       "23694               3.0          381.0              NaN  \n",
       "23695               NaN            NaN             45.0  \n",
       "23696               NaN            NaN              NaN  \n",
       "23697               3.0          196.0            602.0  \n",
       "23698               NaN            NaN              NaN  \n",
       "\n",
       "[23699 rows x 22 columns]"
      ]
     },
     "execution_count": 16,
     "metadata": {},
     "output_type": "execute_result"
    }
   ],
   "source": [
    "data.astype({ \"floors_total\": \"int64\", \"balcony\": \"int64\"})"
   ]
  },
  {
   "cell_type": "markdown",
   "metadata": {},
   "source": [
    "Заменим тип данных столбца 'is_apartment' на булевый тип bool, так как в данном столбце возможно только два варианта заполнения."
   ]
  },
  {
   "cell_type": "code",
   "execution_count": 17,
   "metadata": {},
   "outputs": [],
   "source": [
    "data['is_apartment'] = data['is_apartment'].astype('bool')"
   ]
  },
  {
   "cell_type": "markdown",
   "metadata": {},
   "source": [
    "Изменим название столбца 'cityCenters_nearest' в соответствие со змеиным регистром."
   ]
  },
  {
   "cell_type": "code",
   "execution_count": 18,
   "metadata": {},
   "outputs": [],
   "source": [
    "data = data.rename(columns = {'cityCenters_nearest': 'city_centers_nearest'})"
   ]
  },
  {
   "cell_type": "markdown",
   "metadata": {},
   "source": [
    "#### Изучим и устраним дубликаты."
   ]
  },
  {
   "cell_type": "markdown",
   "metadata": {},
   "source": [
    "Найдем уникальные значения населенных пунктов"
   ]
  },
  {
   "cell_type": "code",
   "execution_count": 19,
   "metadata": {},
   "outputs": [
    {
     "data": {
      "text/plain": [
       "array(['Санкт-Петербург', 'посёлок Шушары', 'городской посёлок Янино-1',\n",
       "       'посёлок Парголово', 'посёлок Мурино', 'Ломоносов', 'Сертолово',\n",
       "       'Петергоф', 'Пушкин', 'деревня Кудрово', 'Коммунар', 'Колпино',\n",
       "       'поселок городского типа Красный Бор', 'Гатчина', 'поселок Мурино',\n",
       "       'деревня Фёдоровское', 'Выборг', 'Кронштадт', 'Кировск',\n",
       "       'деревня Новое Девяткино', 'посёлок Металлострой',\n",
       "       'посёлок городского типа Лебяжье',\n",
       "       'посёлок городского типа Сиверский', 'поселок Молодцово',\n",
       "       'поселок городского типа Кузьмоловский',\n",
       "       'садовое товарищество Новая Ропша', 'Павловск',\n",
       "       'деревня Пикколово', 'Всеволожск', 'Волхов', 'Кингисепп',\n",
       "       'Приозерск', 'Сестрорецк', 'деревня Куттузи', 'посёлок Аннино',\n",
       "       'поселок городского типа Ефимовский', 'посёлок Плодовое',\n",
       "       'деревня Заклинье', 'поселок Торковичи', 'поселок Первомайское',\n",
       "       'Красное Село', 'посёлок Понтонный', 'Сясьстрой', 'деревня Старая',\n",
       "       'деревня Лесколово', 'посёлок Новый Свет', 'Сланцы',\n",
       "       'село Путилово', 'Ивангород', 'Мурино', 'Шлиссельбург',\n",
       "       'Никольское', 'Зеленогорск', 'Сосновый Бор', 'поселок Новый Свет',\n",
       "       'деревня Оржицы', 'деревня Кальтино', 'Кудрово',\n",
       "       'поселок Романовка', 'посёлок Бугры', 'поселок Бугры',\n",
       "       'поселок городского типа Рощино', 'Кириши', 'Луга', 'Волосово',\n",
       "       'Отрадное', 'село Павлово', 'поселок Оредеж', 'село Копорье',\n",
       "       'посёлок городского типа Красный Бор', 'посёлок Молодёжное',\n",
       "       'Тихвин', 'посёлок Победа', 'деревня Нурма',\n",
       "       'поселок городского типа Синявино', 'Тосно',\n",
       "       'посёлок городского типа Кузьмоловский', 'посёлок Стрельна',\n",
       "       'Бокситогорск', 'посёлок Александровская', 'деревня Лопухинка',\n",
       "       'Пикалёво', 'поселок Терволово',\n",
       "       'поселок городского типа Советский', 'Подпорожье',\n",
       "       'посёлок Петровское', 'посёлок городского типа Токсово',\n",
       "       'поселок Сельцо', 'посёлок городского типа Вырица',\n",
       "       'деревня Кипень', 'деревня Келози', 'деревня Вартемяги',\n",
       "       'посёлок Тельмана', 'поселок Севастьяново',\n",
       "       'городской поселок Большая Ижора', '', 'городской посёлок Павлово',\n",
       "       'деревня Агалатово', 'посёлок Новогорелово',\n",
       "       'городской посёлок Лесогорский', 'деревня Лаголово',\n",
       "       'поселок Цвелодубово', 'поселок городского типа Рахья',\n",
       "       'поселок городского типа Вырица', 'деревня Белогорка',\n",
       "       'поселок Заводской', 'городской посёлок Новоселье',\n",
       "       'деревня Большие Колпаны', 'деревня Горбунки', 'деревня Батово',\n",
       "       'деревня Заневка', 'деревня Иссад', 'Приморск',\n",
       "       'городской посёлок Фёдоровское', 'деревня Мистолово',\n",
       "       'Новая Ладога', 'поселок Зимитицы', 'поселок Барышево',\n",
       "       'деревня Разметелево', 'поселок городского типа имени Свердлова',\n",
       "       'деревня Пеники', 'поселок Рябово', 'деревня Пудомяги',\n",
       "       'поселок станции Корнево', 'деревня Низино', 'деревня Бегуницы',\n",
       "       'посёлок Поляны', 'городской посёлок Мга', 'поселок Елизаветино',\n",
       "       'посёлок городского типа Кузнечное', 'деревня Колтуши',\n",
       "       'поселок Запорожское', 'посёлок городского типа Рощино',\n",
       "       'деревня Гостилицы', 'деревня Малое Карлино',\n",
       "       'посёлок Мичуринское', 'посёлок городского типа имени Морозова',\n",
       "       'посёлок Песочный', 'посёлок Сосново', 'деревня Аро',\n",
       "       'поселок Ильичёво', 'посёлок городского типа Тайцы',\n",
       "       'деревня Малое Верево', 'деревня Извара', 'поселок станции Вещево',\n",
       "       'село Паша', 'деревня Калитино',\n",
       "       'посёлок городского типа Ульяновка', 'деревня Чудской Бор',\n",
       "       'поселок городского типа Дубровка', 'деревня Мины',\n",
       "       'поселок Войсковицы', 'посёлок городского типа имени Свердлова',\n",
       "       'деревня Коркино', 'посёлок Ропша',\n",
       "       'поселок городского типа Приладожский', 'посёлок Щеглово',\n",
       "       'посёлок Гаврилово', 'Лодейное Поле', 'деревня Рабитицы',\n",
       "       'поселок городского типа Никольский', 'деревня Кузьмолово',\n",
       "       'деревня Малые Колпаны', 'поселок Тельмана',\n",
       "       'посёлок Петро-Славянка', 'городской посёлок Назия',\n",
       "       'посёлок Репино', 'посёлок Ильичёво', 'поселок Углово',\n",
       "       'поселок Старая Малукса', 'садовое товарищество Рахья',\n",
       "       'поселок Аннино', 'поселок Победа', 'деревня Меньково',\n",
       "       'деревня Старые Бегуницы', 'посёлок Сапёрный', 'поселок Семрино',\n",
       "       'поселок Гаврилово', 'поселок Глажево', 'поселок Кобринское',\n",
       "       'деревня Гарболово', 'деревня Юкки',\n",
       "       'поселок станции Приветнинское', 'деревня Мануйлово',\n",
       "       'деревня Пчева', 'поселок Поляны', 'поселок Цвылёво',\n",
       "       'поселок Мельниково', 'посёлок Пудость', 'посёлок Усть-Луга',\n",
       "       'Светогорск', 'Любань', 'поселок Селезнёво',\n",
       "       'поселок городского типа Рябово', 'Каменногорск', 'деревня Кривко',\n",
       "       'поселок Глебычево', 'деревня Парицы', 'поселок Жилпосёлок',\n",
       "       'посёлок городского типа Мга', 'городской поселок Янино-1',\n",
       "       'посёлок Войскорово', 'село Никольское', 'посёлок Терволово',\n",
       "       'поселок Стеклянный', 'посёлок городского типа Важины',\n",
       "       'посёлок Мыза-Ивановка', 'село Русско-Высоцкое',\n",
       "       'поселок городского типа Лебяжье',\n",
       "       'поселок городского типа Форносово', 'село Старая Ладога',\n",
       "       'поселок Житково', 'городской посёлок Виллози', 'деревня Лампово',\n",
       "       'деревня Шпаньково', 'деревня Лаврики', 'посёлок Сумино',\n",
       "       'посёлок Возрождение', 'деревня Старосиверская',\n",
       "       'посёлок Кикерино', 'поселок Возрождение',\n",
       "       'деревня Старое Хинколово', 'посёлок Пригородный',\n",
       "       'посёлок Торфяное', 'городской посёлок Будогощь',\n",
       "       'поселок Суходолье', 'поселок Красная Долина', 'деревня Хапо-Ое',\n",
       "       'поселок городского типа Дружная Горка', 'поселок Лисий Нос',\n",
       "       'деревня Яльгелево', 'посёлок Стеклянный', 'село Рождествено',\n",
       "       'деревня Старополье', 'посёлок Левашово', 'деревня Сяськелево',\n",
       "       'деревня Камышовка',\n",
       "       'садоводческое некоммерческое товарищество Лесная Поляна',\n",
       "       'деревня Хязельки', 'поселок Жилгородок',\n",
       "       'посёлок городского типа Павлово', 'деревня Ялгино',\n",
       "       'поселок Новый Учхоз', 'городской посёлок Рощино',\n",
       "       'поселок Гончарово', 'поселок Почап', 'посёлок Сапёрное',\n",
       "       'посёлок Платформа 69-й километр', 'поселок Каложицы',\n",
       "       'деревня Фалилеево', 'деревня Пельгора',\n",
       "       'поселок городского типа Лесогорский', 'деревня Торошковичи',\n",
       "       'посёлок Белоостров', 'посёлок Алексеевка', 'поселок Серебрянский',\n",
       "       'поселок Лукаши', 'поселок Петровское', 'деревня Щеглово',\n",
       "       'поселок Мичуринское', 'деревня Тарасово', 'поселок Кингисеппский',\n",
       "       'посёлок при железнодорожной станции Вещево', 'поселок Ушаки',\n",
       "       'деревня Котлы', 'деревня Сижно', 'деревня Торосово',\n",
       "       'посёлок Форт Красная Горка', 'поселок городского типа Токсово',\n",
       "       'деревня Новолисино', 'посёлок станции Громово', 'деревня Глинка',\n",
       "       'посёлок Мельниково', 'поселок городского типа Назия',\n",
       "       'деревня Старая Пустошь', 'поселок Коммунары', 'поселок Починок',\n",
       "       'посёлок городского типа Вознесенье', 'деревня Разбегаево',\n",
       "       'посёлок городского типа Рябово', 'поселок Гладкое',\n",
       "       'посёлок при железнодорожной станции Приветнинское',\n",
       "       'поселок Тёсово-4', 'посёлок Жилгородок', 'деревня Бор',\n",
       "       'посёлок Коробицыно', 'деревня Большая Вруда', 'деревня Курковицы',\n",
       "       'посёлок Лисий Нос', 'городской посёлок Советский',\n",
       "       'посёлок Кобралово', 'деревня Суоранда', 'поселок Кобралово',\n",
       "       'поселок городского типа Кондратьево',\n",
       "       'коттеджный поселок Счастье', 'поселок Любань', 'деревня Реброво',\n",
       "       'деревня Зимитицы', 'деревня Тойворово', 'поселок Семиозерье',\n",
       "       'поселок Лесное', 'поселок Совхозный', 'поселок Усть-Луга',\n",
       "       'посёлок Ленинское', 'посёлок Суйда',\n",
       "       'посёлок городского типа Форносово', 'деревня Нижние Осельки',\n",
       "       'посёлок станции Свирь', 'поселок Перово', 'Высоцк',\n",
       "       'поселок Гарболово', 'село Шум', 'поселок Котельский',\n",
       "       'поселок станции Лужайка', 'деревня Большая Пустомержа',\n",
       "       'поселок Красносельское', 'деревня Вахнова Кара', 'деревня Пижма',\n",
       "       'коттеджный поселок Кивеннапа Север', 'поселок Коробицыно',\n",
       "       'поселок Ромашки', 'посёлок Перово', 'деревня Каськово',\n",
       "       'деревня Куровицы', 'посёлок Плоское', 'поселок Сумино',\n",
       "       'поселок городского типа Большая Ижора', 'поселок Кирпичное',\n",
       "       'деревня Ям-Тесово', 'деревня Раздолье', 'деревня Терпилицы',\n",
       "       'посёлок Шугозеро', 'деревня Ваганово', 'поселок Пушное',\n",
       "       'садовое товарищество Садко', 'посёлок Усть-Ижора',\n",
       "       'деревня Выскатка', 'городской посёлок Свирьстрой',\n",
       "       'поселок Громово', 'деревня Кисельня', 'посёлок Старая Малукса',\n",
       "       'деревня Трубников Бор', 'поселок Калитино',\n",
       "       'посёлок Высокоключевой', 'садовое товарищество Приладожский',\n",
       "       'посёлок Пансионат Зелёный Бор', 'деревня Ненимяки',\n",
       "       'поселок Пансионат Зелёный Бор', 'деревня Снегирёвка',\n",
       "       'деревня Рапполово', 'деревня Пустынка', 'поселок Рабитицы',\n",
       "       'деревня Большой Сабск', 'деревня Русско', 'деревня Лупполово',\n",
       "       'деревня Большое Рейзино', 'деревня Малая Романовка',\n",
       "       'поселок Дружноселье', 'поселок Пчевжа', 'поселок Володарское',\n",
       "       'деревня Нижняя', 'коттеджный посёлок Лесное', 'деревня Тихковицы',\n",
       "       'деревня Борисова Грива', 'посёлок Дзержинского'], dtype=object)"
      ]
     },
     "execution_count": 19,
     "metadata": {},
     "output_type": "execute_result"
    }
   ],
   "source": [
    "data['locality_name'].unique()"
   ]
  },
  {
   "cell_type": "code",
   "execution_count": 20,
   "metadata": {},
   "outputs": [
    {
     "data": {
      "text/plain": [
       "365"
      ]
     },
     "execution_count": 20,
     "metadata": {},
     "output_type": "execute_result"
    }
   ],
   "source": [
    "len(data['locality_name'].unique()) #количество уникальных значений населенных пунктов."
   ]
  },
  {
   "cell_type": "markdown",
   "metadata": {},
   "source": [
    "Напишем функцию, которая осталвяет только название населенного пункта."
   ]
  },
  {
   "cell_type": "code",
   "execution_count": 21,
   "metadata": {},
   "outputs": [],
   "source": [
    "def clean(name):\n",
    "    splited_name = name.split(' ')\n",
    "    words_for_remove = {'село', 'поселок', 'посёлок', 'деревня', 'городского', 'типа', 'садовое', 'товарищество'} #set()\n",
    "    good_words = [word for word in splited_name if word.lower() not in words_for_remove]\n",
    "    return ' '.join(good_words)\n",
    "\n",
    "data['locality_name'] = data['locality_name'].apply(clean)"
   ]
  },
  {
   "cell_type": "code",
   "execution_count": 22,
   "metadata": {},
   "outputs": [
    {
     "data": {
      "text/plain": [
       "318"
      ]
     },
     "execution_count": 22,
     "metadata": {},
     "output_type": "execute_result"
    }
   ],
   "source": [
    "len(data['locality_name'].unique())"
   ]
  },
  {
   "cell_type": "markdown",
   "metadata": {},
   "source": [
    "Устраним неявные дубликаты\n"
   ]
  },
  {
   "cell_type": "code",
   "execution_count": 23,
   "metadata": {},
   "outputs": [
    {
     "data": {
      "text/html": [
       "<div>\n",
       "<style scoped>\n",
       "    .dataframe tbody tr th:only-of-type {\n",
       "        vertical-align: middle;\n",
       "    }\n",
       "\n",
       "    .dataframe tbody tr th {\n",
       "        vertical-align: top;\n",
       "    }\n",
       "\n",
       "    .dataframe thead th {\n",
       "        text-align: right;\n",
       "    }\n",
       "</style>\n",
       "<table border=\"1\" class=\"dataframe\">\n",
       "  <thead>\n",
       "    <tr style=\"text-align: right;\">\n",
       "      <th></th>\n",
       "      <th>total_images</th>\n",
       "      <th>last_price</th>\n",
       "      <th>total_area</th>\n",
       "      <th>first_day_exposition</th>\n",
       "      <th>rooms</th>\n",
       "      <th>ceiling_height</th>\n",
       "      <th>floors_total</th>\n",
       "      <th>living_area</th>\n",
       "      <th>floor</th>\n",
       "      <th>is_apartment</th>\n",
       "      <th>studio</th>\n",
       "      <th>open_plan</th>\n",
       "      <th>kitchen_area</th>\n",
       "      <th>balcony</th>\n",
       "      <th>locality_name</th>\n",
       "      <th>airports_nearest</th>\n",
       "      <th>city_centers_nearest</th>\n",
       "      <th>parks_around3000</th>\n",
       "      <th>parks_nearest</th>\n",
       "      <th>ponds_around3000</th>\n",
       "      <th>ponds_nearest</th>\n",
       "      <th>days_exposition</th>\n",
       "    </tr>\n",
       "  </thead>\n",
       "  <tbody>\n",
       "    <tr>\n",
       "      <th>0</th>\n",
       "      <td>20</td>\n",
       "      <td>13000000.0</td>\n",
       "      <td>108.00</td>\n",
       "      <td>2019-03-07</td>\n",
       "      <td>3</td>\n",
       "      <td>2.70</td>\n",
       "      <td>16.0</td>\n",
       "      <td>51.0</td>\n",
       "      <td>8</td>\n",
       "      <td>False</td>\n",
       "      <td>False</td>\n",
       "      <td>False</td>\n",
       "      <td>25.00</td>\n",
       "      <td>0.0</td>\n",
       "      <td>Санкт-Петербург</td>\n",
       "      <td>18863.0</td>\n",
       "      <td>16028.0</td>\n",
       "      <td>1.0</td>\n",
       "      <td>482.0</td>\n",
       "      <td>2.0</td>\n",
       "      <td>755.0</td>\n",
       "      <td>NaN</td>\n",
       "    </tr>\n",
       "    <tr>\n",
       "      <th>1</th>\n",
       "      <td>7</td>\n",
       "      <td>3350000.0</td>\n",
       "      <td>40.40</td>\n",
       "      <td>2018-12-04</td>\n",
       "      <td>1</td>\n",
       "      <td>2.65</td>\n",
       "      <td>11.0</td>\n",
       "      <td>18.6</td>\n",
       "      <td>1</td>\n",
       "      <td>False</td>\n",
       "      <td>False</td>\n",
       "      <td>False</td>\n",
       "      <td>11.00</td>\n",
       "      <td>2.0</td>\n",
       "      <td>Шушары</td>\n",
       "      <td>12817.0</td>\n",
       "      <td>18603.0</td>\n",
       "      <td>0.0</td>\n",
       "      <td>NaN</td>\n",
       "      <td>0.0</td>\n",
       "      <td>NaN</td>\n",
       "      <td>81.0</td>\n",
       "    </tr>\n",
       "    <tr>\n",
       "      <th>2</th>\n",
       "      <td>10</td>\n",
       "      <td>5196000.0</td>\n",
       "      <td>56.00</td>\n",
       "      <td>2015-08-20</td>\n",
       "      <td>2</td>\n",
       "      <td>2.65</td>\n",
       "      <td>5.0</td>\n",
       "      <td>34.3</td>\n",
       "      <td>4</td>\n",
       "      <td>False</td>\n",
       "      <td>False</td>\n",
       "      <td>False</td>\n",
       "      <td>8.30</td>\n",
       "      <td>0.0</td>\n",
       "      <td>Санкт-Петербург</td>\n",
       "      <td>21741.0</td>\n",
       "      <td>13933.0</td>\n",
       "      <td>1.0</td>\n",
       "      <td>90.0</td>\n",
       "      <td>2.0</td>\n",
       "      <td>574.0</td>\n",
       "      <td>558.0</td>\n",
       "    </tr>\n",
       "    <tr>\n",
       "      <th>3</th>\n",
       "      <td>0</td>\n",
       "      <td>64900000.0</td>\n",
       "      <td>159.00</td>\n",
       "      <td>2015-07-24</td>\n",
       "      <td>3</td>\n",
       "      <td>2.65</td>\n",
       "      <td>14.0</td>\n",
       "      <td>45.0</td>\n",
       "      <td>9</td>\n",
       "      <td>False</td>\n",
       "      <td>False</td>\n",
       "      <td>False</td>\n",
       "      <td>9.50</td>\n",
       "      <td>0.0</td>\n",
       "      <td>Санкт-Петербург</td>\n",
       "      <td>28098.0</td>\n",
       "      <td>6800.0</td>\n",
       "      <td>2.0</td>\n",
       "      <td>84.0</td>\n",
       "      <td>3.0</td>\n",
       "      <td>234.0</td>\n",
       "      <td>424.0</td>\n",
       "    </tr>\n",
       "    <tr>\n",
       "      <th>4</th>\n",
       "      <td>2</td>\n",
       "      <td>10000000.0</td>\n",
       "      <td>100.00</td>\n",
       "      <td>2018-06-19</td>\n",
       "      <td>2</td>\n",
       "      <td>3.03</td>\n",
       "      <td>14.0</td>\n",
       "      <td>32.0</td>\n",
       "      <td>13</td>\n",
       "      <td>False</td>\n",
       "      <td>False</td>\n",
       "      <td>False</td>\n",
       "      <td>41.00</td>\n",
       "      <td>0.0</td>\n",
       "      <td>Санкт-Петербург</td>\n",
       "      <td>31856.0</td>\n",
       "      <td>8098.0</td>\n",
       "      <td>2.0</td>\n",
       "      <td>112.0</td>\n",
       "      <td>1.0</td>\n",
       "      <td>48.0</td>\n",
       "      <td>121.0</td>\n",
       "    </tr>\n",
       "    <tr>\n",
       "      <th>...</th>\n",
       "      <td>...</td>\n",
       "      <td>...</td>\n",
       "      <td>...</td>\n",
       "      <td>...</td>\n",
       "      <td>...</td>\n",
       "      <td>...</td>\n",
       "      <td>...</td>\n",
       "      <td>...</td>\n",
       "      <td>...</td>\n",
       "      <td>...</td>\n",
       "      <td>...</td>\n",
       "      <td>...</td>\n",
       "      <td>...</td>\n",
       "      <td>...</td>\n",
       "      <td>...</td>\n",
       "      <td>...</td>\n",
       "      <td>...</td>\n",
       "      <td>...</td>\n",
       "      <td>...</td>\n",
       "      <td>...</td>\n",
       "      <td>...</td>\n",
       "      <td>...</td>\n",
       "    </tr>\n",
       "    <tr>\n",
       "      <th>23694</th>\n",
       "      <td>9</td>\n",
       "      <td>9700000.0</td>\n",
       "      <td>133.81</td>\n",
       "      <td>2017-03-21</td>\n",
       "      <td>3</td>\n",
       "      <td>3.70</td>\n",
       "      <td>5.0</td>\n",
       "      <td>73.3</td>\n",
       "      <td>3</td>\n",
       "      <td>False</td>\n",
       "      <td>False</td>\n",
       "      <td>False</td>\n",
       "      <td>13.83</td>\n",
       "      <td>0.0</td>\n",
       "      <td>Санкт-Петербург</td>\n",
       "      <td>24665.0</td>\n",
       "      <td>4232.0</td>\n",
       "      <td>1.0</td>\n",
       "      <td>796.0</td>\n",
       "      <td>3.0</td>\n",
       "      <td>381.0</td>\n",
       "      <td>NaN</td>\n",
       "    </tr>\n",
       "    <tr>\n",
       "      <th>23695</th>\n",
       "      <td>14</td>\n",
       "      <td>3100000.0</td>\n",
       "      <td>59.00</td>\n",
       "      <td>2018-01-15</td>\n",
       "      <td>3</td>\n",
       "      <td>2.65</td>\n",
       "      <td>5.0</td>\n",
       "      <td>38.0</td>\n",
       "      <td>4</td>\n",
       "      <td>False</td>\n",
       "      <td>False</td>\n",
       "      <td>False</td>\n",
       "      <td>8.50</td>\n",
       "      <td>0.0</td>\n",
       "      <td>Тосно</td>\n",
       "      <td>NaN</td>\n",
       "      <td>NaN</td>\n",
       "      <td>NaN</td>\n",
       "      <td>NaN</td>\n",
       "      <td>NaN</td>\n",
       "      <td>NaN</td>\n",
       "      <td>45.0</td>\n",
       "    </tr>\n",
       "    <tr>\n",
       "      <th>23696</th>\n",
       "      <td>18</td>\n",
       "      <td>2500000.0</td>\n",
       "      <td>56.70</td>\n",
       "      <td>2018-02-11</td>\n",
       "      <td>2</td>\n",
       "      <td>2.65</td>\n",
       "      <td>3.0</td>\n",
       "      <td>29.7</td>\n",
       "      <td>1</td>\n",
       "      <td>False</td>\n",
       "      <td>False</td>\n",
       "      <td>False</td>\n",
       "      <td>8.80</td>\n",
       "      <td>0.0</td>\n",
       "      <td>Рождествено</td>\n",
       "      <td>NaN</td>\n",
       "      <td>NaN</td>\n",
       "      <td>NaN</td>\n",
       "      <td>NaN</td>\n",
       "      <td>NaN</td>\n",
       "      <td>NaN</td>\n",
       "      <td>NaN</td>\n",
       "    </tr>\n",
       "    <tr>\n",
       "      <th>23697</th>\n",
       "      <td>13</td>\n",
       "      <td>11475000.0</td>\n",
       "      <td>76.75</td>\n",
       "      <td>2017-03-28</td>\n",
       "      <td>2</td>\n",
       "      <td>3.00</td>\n",
       "      <td>17.0</td>\n",
       "      <td>30.5</td>\n",
       "      <td>12</td>\n",
       "      <td>False</td>\n",
       "      <td>False</td>\n",
       "      <td>False</td>\n",
       "      <td>23.30</td>\n",
       "      <td>2.0</td>\n",
       "      <td>Санкт-Петербург</td>\n",
       "      <td>39140.0</td>\n",
       "      <td>10364.0</td>\n",
       "      <td>2.0</td>\n",
       "      <td>173.0</td>\n",
       "      <td>3.0</td>\n",
       "      <td>196.0</td>\n",
       "      <td>602.0</td>\n",
       "    </tr>\n",
       "    <tr>\n",
       "      <th>23698</th>\n",
       "      <td>4</td>\n",
       "      <td>1350000.0</td>\n",
       "      <td>32.30</td>\n",
       "      <td>2017-07-21</td>\n",
       "      <td>1</td>\n",
       "      <td>2.50</td>\n",
       "      <td>5.0</td>\n",
       "      <td>12.3</td>\n",
       "      <td>1</td>\n",
       "      <td>False</td>\n",
       "      <td>False</td>\n",
       "      <td>False</td>\n",
       "      <td>9.00</td>\n",
       "      <td>0.0</td>\n",
       "      <td>Новый Учхоз</td>\n",
       "      <td>NaN</td>\n",
       "      <td>NaN</td>\n",
       "      <td>NaN</td>\n",
       "      <td>NaN</td>\n",
       "      <td>NaN</td>\n",
       "      <td>NaN</td>\n",
       "      <td>NaN</td>\n",
       "    </tr>\n",
       "  </tbody>\n",
       "</table>\n",
       "<p>23699 rows × 22 columns</p>\n",
       "</div>"
      ],
      "text/plain": [
       "       total_images  last_price  total_area first_day_exposition  rooms  \\\n",
       "0                20  13000000.0      108.00           2019-03-07      3   \n",
       "1                 7   3350000.0       40.40           2018-12-04      1   \n",
       "2                10   5196000.0       56.00           2015-08-20      2   \n",
       "3                 0  64900000.0      159.00           2015-07-24      3   \n",
       "4                 2  10000000.0      100.00           2018-06-19      2   \n",
       "...             ...         ...         ...                  ...    ...   \n",
       "23694             9   9700000.0      133.81           2017-03-21      3   \n",
       "23695            14   3100000.0       59.00           2018-01-15      3   \n",
       "23696            18   2500000.0       56.70           2018-02-11      2   \n",
       "23697            13  11475000.0       76.75           2017-03-28      2   \n",
       "23698             4   1350000.0       32.30           2017-07-21      1   \n",
       "\n",
       "       ceiling_height  floors_total  living_area  floor  is_apartment  studio  \\\n",
       "0                2.70          16.0         51.0      8         False   False   \n",
       "1                2.65          11.0         18.6      1         False   False   \n",
       "2                2.65           5.0         34.3      4         False   False   \n",
       "3                2.65          14.0         45.0      9         False   False   \n",
       "4                3.03          14.0         32.0     13         False   False   \n",
       "...               ...           ...          ...    ...           ...     ...   \n",
       "23694            3.70           5.0         73.3      3         False   False   \n",
       "23695            2.65           5.0         38.0      4         False   False   \n",
       "23696            2.65           3.0         29.7      1         False   False   \n",
       "23697            3.00          17.0         30.5     12         False   False   \n",
       "23698            2.50           5.0         12.3      1         False   False   \n",
       "\n",
       "       open_plan  kitchen_area  balcony    locality_name  airports_nearest  \\\n",
       "0          False         25.00      0.0  Санкт-Петербург           18863.0   \n",
       "1          False         11.00      2.0           Шушары           12817.0   \n",
       "2          False          8.30      0.0  Санкт-Петербург           21741.0   \n",
       "3          False          9.50      0.0  Санкт-Петербург           28098.0   \n",
       "4          False         41.00      0.0  Санкт-Петербург           31856.0   \n",
       "...          ...           ...      ...              ...               ...   \n",
       "23694      False         13.83      0.0  Санкт-Петербург           24665.0   \n",
       "23695      False          8.50      0.0            Тосно               NaN   \n",
       "23696      False          8.80      0.0      Рождествено               NaN   \n",
       "23697      False         23.30      2.0  Санкт-Петербург           39140.0   \n",
       "23698      False          9.00      0.0      Новый Учхоз               NaN   \n",
       "\n",
       "       city_centers_nearest  parks_around3000  parks_nearest  \\\n",
       "0                   16028.0               1.0          482.0   \n",
       "1                   18603.0               0.0            NaN   \n",
       "2                   13933.0               1.0           90.0   \n",
       "3                    6800.0               2.0           84.0   \n",
       "4                    8098.0               2.0          112.0   \n",
       "...                     ...               ...            ...   \n",
       "23694                4232.0               1.0          796.0   \n",
       "23695                   NaN               NaN            NaN   \n",
       "23696                   NaN               NaN            NaN   \n",
       "23697               10364.0               2.0          173.0   \n",
       "23698                   NaN               NaN            NaN   \n",
       "\n",
       "       ponds_around3000  ponds_nearest  days_exposition  \n",
       "0                   2.0          755.0              NaN  \n",
       "1                   0.0            NaN             81.0  \n",
       "2                   2.0          574.0            558.0  \n",
       "3                   3.0          234.0            424.0  \n",
       "4                   1.0           48.0            121.0  \n",
       "...                 ...            ...              ...  \n",
       "23694               3.0          381.0              NaN  \n",
       "23695               NaN            NaN             45.0  \n",
       "23696               NaN            NaN              NaN  \n",
       "23697               3.0          196.0            602.0  \n",
       "23698               NaN            NaN              NaN  \n",
       "\n",
       "[23699 rows x 22 columns]"
      ]
     },
     "execution_count": 23,
     "metadata": {},
     "output_type": "execute_result"
    }
   ],
   "source": [
    "data.drop_duplicates(keep = 'first')"
   ]
  },
  {
   "cell_type": "markdown",
   "metadata": {},
   "source": [
    "#### Найдем и устраним редкие и аномальные значения."
   ]
  },
  {
   "cell_type": "markdown",
   "metadata": {},
   "source": [
    "Проанализировав гистограммы, построенные в начале проекта, можно сделать вывод о наличии аномальных значений в столбцах 'ceiling_height' и редких значений в столбцах 'total_area' 'living_area', 'kitchen_area'."
   ]
  },
  {
   "cell_type": "markdown",
   "metadata": {},
   "source": [
    "Для начала обработаем аномлаьные значения высоты потолков. Логично предположить, что на самом деле это вещественные значения: 2.5 м и 3.2 м. \n",
    "Также для устранения выбросов приму максимальное значения высоты потолков за 4,3м. Минимальное - 2,5м."
   ]
  },
  {
   "cell_type": "code",
   "execution_count": 24,
   "metadata": {},
   "outputs": [],
   "source": [
    "data.loc[data['ceiling_height'] > 25, 'ceiling_height'] = \\\n",
    "data.loc[data['ceiling_height'] > 25, 'ceiling_height']/10"
   ]
  },
  {
   "cell_type": "code",
   "execution_count": 25,
   "metadata": {},
   "outputs": [],
   "source": [
    "data['ceiling_height'] = round(data['ceiling_height'],2) #округление значений высоты потолков"
   ]
  },
  {
   "cell_type": "code",
   "execution_count": 26,
   "metadata": {},
   "outputs": [],
   "source": [
    "new_data = data.query('2.5 < ceiling_height < 4.3') #отфильтруем нужные значения"
   ]
  },
  {
   "cell_type": "markdown",
   "metadata": {},
   "source": [
    "Ограничим значения общей площади до 200. Значения больше 200 составляют меньше 2%, их удаление не повлияет на результат анализа, но позволит получить более наглядные графики. "
   ]
  },
  {
   "cell_type": "code",
   "execution_count": 27,
   "metadata": {},
   "outputs": [
    {
     "data": {
      "text/plain": [
       "0.009578463226296468"
      ]
     },
     "execution_count": 27,
     "metadata": {},
     "output_type": "execute_result"
    }
   ],
   "source": [
    "(data['total_area'] > 200).mean()"
   ]
  },
  {
   "cell_type": "code",
   "execution_count": 28,
   "metadata": {},
   "outputs": [],
   "source": [
    "new_data = new_data.query('total_area < 200')"
   ]
  },
  {
   "cell_type": "markdown",
   "metadata": {},
   "source": [
    "Также ограничим значения жилой площади до 125м2 и кухонь до 40м2"
   ]
  },
  {
   "cell_type": "code",
   "execution_count": 29,
   "metadata": {},
   "outputs": [],
   "source": [
    "new_data = new_data.query('living_area < 125')"
   ]
  },
  {
   "cell_type": "code",
   "execution_count": 30,
   "metadata": {},
   "outputs": [],
   "source": [
    "new_data = new_data.query('kitchen_area < 40')"
   ]
  },
  {
   "cell_type": "code",
   "execution_count": 31,
   "metadata": {},
   "outputs": [
    {
     "data": {
      "text/plain": [
       "0.8233258787290603"
      ]
     },
     "execution_count": 31,
     "metadata": {},
     "output_type": "execute_result"
    }
   ],
   "source": [
    "new_data.shape[0] / data.shape[0]"
   ]
  },
  {
   "cell_type": "code",
   "execution_count": 32,
   "metadata": {},
   "outputs": [],
   "source": [
    "data = new_data #чтобы не переписывать последующий код :)"
   ]
  },
  {
   "cell_type": "markdown",
   "metadata": {},
   "source": [
    "### Посчитайте и добавьте в таблицу новые столбцы"
   ]
  },
  {
   "cell_type": "markdown",
   "metadata": {},
   "source": [
    "#### Добавим в таблицу новый столбец 'price_one_metr' с ценой одного квадратного метра"
   ]
  },
  {
   "cell_type": "code",
   "execution_count": 33,
   "metadata": {},
   "outputs": [],
   "source": [
    "data['price_one_metr'] = round((data['last_price'] / data['total_area']), 2)"
   ]
  },
  {
   "cell_type": "markdown",
   "metadata": {},
   "source": [
    "#### Добавим три столбца 'day_exposition', 'month_exposition', 'year_exposition' с данными, содержащими день недели, месяц и год публикации объявления соответственно."
   ]
  },
  {
   "cell_type": "code",
   "execution_count": 34,
   "metadata": {},
   "outputs": [],
   "source": [
    "data['day_exposition'] = data['first_day_exposition'].dt.weekday"
   ]
  },
  {
   "cell_type": "code",
   "execution_count": 35,
   "metadata": {},
   "outputs": [],
   "source": [
    "data['month_exposition'] = data['first_day_exposition'].dt.month"
   ]
  },
  {
   "cell_type": "code",
   "execution_count": 36,
   "metadata": {},
   "outputs": [],
   "source": [
    "data['year_exposition'] = data['first_day_exposition'].dt.year"
   ]
  },
  {
   "cell_type": "markdown",
   "metadata": {},
   "source": [
    "#### Для добавления в датафрейм столбца, содержащего тип этажа квартиры, напишем функцию:"
   ]
  },
  {
   "cell_type": "code",
   "execution_count": 37,
   "metadata": {},
   "outputs": [],
   "source": [
    "def type_floor(row):\n",
    "    floor = row['floor']\n",
    "    floors_total = row['floors_total']\n",
    "    if floor == 1:\n",
    "        return 'первый'\n",
    "    elif floor == floors_total:\n",
    "        return 'последний'\n",
    "    else:\n",
    "        return 'другой'\n",
    "\n",
    "data['type_of_floor'] = data.apply(type_floor, axis=1)\n",
    "    \n"
   ]
  },
  {
   "cell_type": "markdown",
   "metadata": {},
   "source": [
    "#### Добавим в таблицу новый столбец 'сity_сenters_km' с данными о расстоянии до центра города в км."
   ]
  },
  {
   "cell_type": "code",
   "execution_count": 38,
   "metadata": {},
   "outputs": [],
   "source": [
    "data['сity_сenters_km'] = round((data['city_centers_nearest'] / 1000), 0)"
   ]
  },
  {
   "cell_type": "markdown",
   "metadata": {},
   "source": [
    "Для проверки созданных столбцов выведем на экран первые 10 строк датафрейма"
   ]
  },
  {
   "cell_type": "code",
   "execution_count": 39,
   "metadata": {},
   "outputs": [
    {
     "data": {
      "text/html": [
       "<div>\n",
       "<style scoped>\n",
       "    .dataframe tbody tr th:only-of-type {\n",
       "        vertical-align: middle;\n",
       "    }\n",
       "\n",
       "    .dataframe tbody tr th {\n",
       "        vertical-align: top;\n",
       "    }\n",
       "\n",
       "    .dataframe thead th {\n",
       "        text-align: right;\n",
       "    }\n",
       "</style>\n",
       "<table border=\"1\" class=\"dataframe\">\n",
       "  <thead>\n",
       "    <tr style=\"text-align: right;\">\n",
       "      <th></th>\n",
       "      <th>total_images</th>\n",
       "      <th>last_price</th>\n",
       "      <th>total_area</th>\n",
       "      <th>first_day_exposition</th>\n",
       "      <th>rooms</th>\n",
       "      <th>ceiling_height</th>\n",
       "      <th>floors_total</th>\n",
       "      <th>living_area</th>\n",
       "      <th>floor</th>\n",
       "      <th>is_apartment</th>\n",
       "      <th>studio</th>\n",
       "      <th>open_plan</th>\n",
       "      <th>kitchen_area</th>\n",
       "      <th>balcony</th>\n",
       "      <th>locality_name</th>\n",
       "      <th>airports_nearest</th>\n",
       "      <th>city_centers_nearest</th>\n",
       "      <th>parks_around3000</th>\n",
       "      <th>parks_nearest</th>\n",
       "      <th>ponds_around3000</th>\n",
       "      <th>ponds_nearest</th>\n",
       "      <th>days_exposition</th>\n",
       "      <th>price_one_metr</th>\n",
       "      <th>day_exposition</th>\n",
       "      <th>month_exposition</th>\n",
       "      <th>year_exposition</th>\n",
       "      <th>type_of_floor</th>\n",
       "      <th>сity_сenters_km</th>\n",
       "    </tr>\n",
       "  </thead>\n",
       "  <tbody>\n",
       "    <tr>\n",
       "      <th>0</th>\n",
       "      <td>20</td>\n",
       "      <td>13000000.0</td>\n",
       "      <td>108.00</td>\n",
       "      <td>2019-03-07</td>\n",
       "      <td>3</td>\n",
       "      <td>2.70</td>\n",
       "      <td>16.0</td>\n",
       "      <td>51.00</td>\n",
       "      <td>8</td>\n",
       "      <td>False</td>\n",
       "      <td>False</td>\n",
       "      <td>False</td>\n",
       "      <td>25.00</td>\n",
       "      <td>0.0</td>\n",
       "      <td>Санкт-Петербург</td>\n",
       "      <td>18863.0</td>\n",
       "      <td>16028.0</td>\n",
       "      <td>1.0</td>\n",
       "      <td>482.0</td>\n",
       "      <td>2.0</td>\n",
       "      <td>755.0</td>\n",
       "      <td>NaN</td>\n",
       "      <td>120370.37</td>\n",
       "      <td>3</td>\n",
       "      <td>3</td>\n",
       "      <td>2019</td>\n",
       "      <td>другой</td>\n",
       "      <td>16.0</td>\n",
       "    </tr>\n",
       "    <tr>\n",
       "      <th>1</th>\n",
       "      <td>7</td>\n",
       "      <td>3350000.0</td>\n",
       "      <td>40.40</td>\n",
       "      <td>2018-12-04</td>\n",
       "      <td>1</td>\n",
       "      <td>2.65</td>\n",
       "      <td>11.0</td>\n",
       "      <td>18.60</td>\n",
       "      <td>1</td>\n",
       "      <td>False</td>\n",
       "      <td>False</td>\n",
       "      <td>False</td>\n",
       "      <td>11.00</td>\n",
       "      <td>2.0</td>\n",
       "      <td>Шушары</td>\n",
       "      <td>12817.0</td>\n",
       "      <td>18603.0</td>\n",
       "      <td>0.0</td>\n",
       "      <td>NaN</td>\n",
       "      <td>0.0</td>\n",
       "      <td>NaN</td>\n",
       "      <td>81.0</td>\n",
       "      <td>82920.79</td>\n",
       "      <td>1</td>\n",
       "      <td>12</td>\n",
       "      <td>2018</td>\n",
       "      <td>первый</td>\n",
       "      <td>19.0</td>\n",
       "    </tr>\n",
       "    <tr>\n",
       "      <th>2</th>\n",
       "      <td>10</td>\n",
       "      <td>5196000.0</td>\n",
       "      <td>56.00</td>\n",
       "      <td>2015-08-20</td>\n",
       "      <td>2</td>\n",
       "      <td>2.65</td>\n",
       "      <td>5.0</td>\n",
       "      <td>34.30</td>\n",
       "      <td>4</td>\n",
       "      <td>False</td>\n",
       "      <td>False</td>\n",
       "      <td>False</td>\n",
       "      <td>8.30</td>\n",
       "      <td>0.0</td>\n",
       "      <td>Санкт-Петербург</td>\n",
       "      <td>21741.0</td>\n",
       "      <td>13933.0</td>\n",
       "      <td>1.0</td>\n",
       "      <td>90.0</td>\n",
       "      <td>2.0</td>\n",
       "      <td>574.0</td>\n",
       "      <td>558.0</td>\n",
       "      <td>92785.71</td>\n",
       "      <td>3</td>\n",
       "      <td>8</td>\n",
       "      <td>2015</td>\n",
       "      <td>другой</td>\n",
       "      <td>14.0</td>\n",
       "    </tr>\n",
       "    <tr>\n",
       "      <th>3</th>\n",
       "      <td>0</td>\n",
       "      <td>64900000.0</td>\n",
       "      <td>159.00</td>\n",
       "      <td>2015-07-24</td>\n",
       "      <td>3</td>\n",
       "      <td>2.65</td>\n",
       "      <td>14.0</td>\n",
       "      <td>45.00</td>\n",
       "      <td>9</td>\n",
       "      <td>False</td>\n",
       "      <td>False</td>\n",
       "      <td>False</td>\n",
       "      <td>9.50</td>\n",
       "      <td>0.0</td>\n",
       "      <td>Санкт-Петербург</td>\n",
       "      <td>28098.0</td>\n",
       "      <td>6800.0</td>\n",
       "      <td>2.0</td>\n",
       "      <td>84.0</td>\n",
       "      <td>3.0</td>\n",
       "      <td>234.0</td>\n",
       "      <td>424.0</td>\n",
       "      <td>408176.10</td>\n",
       "      <td>4</td>\n",
       "      <td>7</td>\n",
       "      <td>2015</td>\n",
       "      <td>другой</td>\n",
       "      <td>7.0</td>\n",
       "    </tr>\n",
       "    <tr>\n",
       "      <th>5</th>\n",
       "      <td>10</td>\n",
       "      <td>2890000.0</td>\n",
       "      <td>30.40</td>\n",
       "      <td>2018-09-10</td>\n",
       "      <td>1</td>\n",
       "      <td>2.65</td>\n",
       "      <td>12.0</td>\n",
       "      <td>14.40</td>\n",
       "      <td>5</td>\n",
       "      <td>False</td>\n",
       "      <td>False</td>\n",
       "      <td>False</td>\n",
       "      <td>9.10</td>\n",
       "      <td>0.0</td>\n",
       "      <td>городской Янино-1</td>\n",
       "      <td>NaN</td>\n",
       "      <td>NaN</td>\n",
       "      <td>NaN</td>\n",
       "      <td>NaN</td>\n",
       "      <td>NaN</td>\n",
       "      <td>NaN</td>\n",
       "      <td>55.0</td>\n",
       "      <td>95065.79</td>\n",
       "      <td>0</td>\n",
       "      <td>9</td>\n",
       "      <td>2018</td>\n",
       "      <td>другой</td>\n",
       "      <td>NaN</td>\n",
       "    </tr>\n",
       "    <tr>\n",
       "      <th>6</th>\n",
       "      <td>6</td>\n",
       "      <td>3700000.0</td>\n",
       "      <td>37.30</td>\n",
       "      <td>2017-11-02</td>\n",
       "      <td>1</td>\n",
       "      <td>2.65</td>\n",
       "      <td>26.0</td>\n",
       "      <td>10.60</td>\n",
       "      <td>6</td>\n",
       "      <td>False</td>\n",
       "      <td>False</td>\n",
       "      <td>False</td>\n",
       "      <td>14.40</td>\n",
       "      <td>1.0</td>\n",
       "      <td>Парголово</td>\n",
       "      <td>52996.0</td>\n",
       "      <td>19143.0</td>\n",
       "      <td>0.0</td>\n",
       "      <td>NaN</td>\n",
       "      <td>0.0</td>\n",
       "      <td>NaN</td>\n",
       "      <td>155.0</td>\n",
       "      <td>99195.71</td>\n",
       "      <td>3</td>\n",
       "      <td>11</td>\n",
       "      <td>2017</td>\n",
       "      <td>другой</td>\n",
       "      <td>19.0</td>\n",
       "    </tr>\n",
       "    <tr>\n",
       "      <th>7</th>\n",
       "      <td>5</td>\n",
       "      <td>7915000.0</td>\n",
       "      <td>71.60</td>\n",
       "      <td>2019-04-18</td>\n",
       "      <td>2</td>\n",
       "      <td>2.65</td>\n",
       "      <td>24.0</td>\n",
       "      <td>30.50</td>\n",
       "      <td>22</td>\n",
       "      <td>False</td>\n",
       "      <td>False</td>\n",
       "      <td>False</td>\n",
       "      <td>18.90</td>\n",
       "      <td>2.0</td>\n",
       "      <td>Санкт-Петербург</td>\n",
       "      <td>23982.0</td>\n",
       "      <td>11634.0</td>\n",
       "      <td>0.0</td>\n",
       "      <td>NaN</td>\n",
       "      <td>0.0</td>\n",
       "      <td>NaN</td>\n",
       "      <td>NaN</td>\n",
       "      <td>110544.69</td>\n",
       "      <td>3</td>\n",
       "      <td>4</td>\n",
       "      <td>2019</td>\n",
       "      <td>другой</td>\n",
       "      <td>12.0</td>\n",
       "    </tr>\n",
       "    <tr>\n",
       "      <th>8</th>\n",
       "      <td>20</td>\n",
       "      <td>2900000.0</td>\n",
       "      <td>33.16</td>\n",
       "      <td>2018-05-23</td>\n",
       "      <td>1</td>\n",
       "      <td>2.65</td>\n",
       "      <td>27.0</td>\n",
       "      <td>15.43</td>\n",
       "      <td>26</td>\n",
       "      <td>False</td>\n",
       "      <td>False</td>\n",
       "      <td>False</td>\n",
       "      <td>8.81</td>\n",
       "      <td>0.0</td>\n",
       "      <td>Мурино</td>\n",
       "      <td>NaN</td>\n",
       "      <td>NaN</td>\n",
       "      <td>NaN</td>\n",
       "      <td>NaN</td>\n",
       "      <td>NaN</td>\n",
       "      <td>NaN</td>\n",
       "      <td>189.0</td>\n",
       "      <td>87454.76</td>\n",
       "      <td>2</td>\n",
       "      <td>5</td>\n",
       "      <td>2018</td>\n",
       "      <td>другой</td>\n",
       "      <td>NaN</td>\n",
       "    </tr>\n",
       "    <tr>\n",
       "      <th>10</th>\n",
       "      <td>5</td>\n",
       "      <td>5050000.0</td>\n",
       "      <td>39.60</td>\n",
       "      <td>2017-11-16</td>\n",
       "      <td>1</td>\n",
       "      <td>2.67</td>\n",
       "      <td>12.0</td>\n",
       "      <td>20.30</td>\n",
       "      <td>3</td>\n",
       "      <td>False</td>\n",
       "      <td>False</td>\n",
       "      <td>False</td>\n",
       "      <td>8.50</td>\n",
       "      <td>0.0</td>\n",
       "      <td>Санкт-Петербург</td>\n",
       "      <td>38357.0</td>\n",
       "      <td>13878.0</td>\n",
       "      <td>1.0</td>\n",
       "      <td>310.0</td>\n",
       "      <td>2.0</td>\n",
       "      <td>553.0</td>\n",
       "      <td>137.0</td>\n",
       "      <td>127525.25</td>\n",
       "      <td>3</td>\n",
       "      <td>11</td>\n",
       "      <td>2017</td>\n",
       "      <td>другой</td>\n",
       "      <td>14.0</td>\n",
       "    </tr>\n",
       "    <tr>\n",
       "      <th>11</th>\n",
       "      <td>9</td>\n",
       "      <td>3300000.0</td>\n",
       "      <td>44.00</td>\n",
       "      <td>2018-08-27</td>\n",
       "      <td>2</td>\n",
       "      <td>2.65</td>\n",
       "      <td>5.0</td>\n",
       "      <td>31.00</td>\n",
       "      <td>4</td>\n",
       "      <td>False</td>\n",
       "      <td>False</td>\n",
       "      <td>False</td>\n",
       "      <td>6.00</td>\n",
       "      <td>1.0</td>\n",
       "      <td>Ломоносов</td>\n",
       "      <td>48252.0</td>\n",
       "      <td>51677.0</td>\n",
       "      <td>0.0</td>\n",
       "      <td>NaN</td>\n",
       "      <td>0.0</td>\n",
       "      <td>NaN</td>\n",
       "      <td>7.0</td>\n",
       "      <td>75000.00</td>\n",
       "      <td>0</td>\n",
       "      <td>8</td>\n",
       "      <td>2018</td>\n",
       "      <td>другой</td>\n",
       "      <td>52.0</td>\n",
       "    </tr>\n",
       "    <tr>\n",
       "      <th>12</th>\n",
       "      <td>10</td>\n",
       "      <td>3890000.0</td>\n",
       "      <td>54.00</td>\n",
       "      <td>2016-06-30</td>\n",
       "      <td>2</td>\n",
       "      <td>2.65</td>\n",
       "      <td>5.0</td>\n",
       "      <td>30.00</td>\n",
       "      <td>5</td>\n",
       "      <td>False</td>\n",
       "      <td>False</td>\n",
       "      <td>False</td>\n",
       "      <td>9.00</td>\n",
       "      <td>0.0</td>\n",
       "      <td>Сертолово</td>\n",
       "      <td>NaN</td>\n",
       "      <td>NaN</td>\n",
       "      <td>NaN</td>\n",
       "      <td>NaN</td>\n",
       "      <td>NaN</td>\n",
       "      <td>NaN</td>\n",
       "      <td>90.0</td>\n",
       "      <td>72037.04</td>\n",
       "      <td>3</td>\n",
       "      <td>6</td>\n",
       "      <td>2016</td>\n",
       "      <td>последний</td>\n",
       "      <td>NaN</td>\n",
       "    </tr>\n",
       "    <tr>\n",
       "      <th>13</th>\n",
       "      <td>20</td>\n",
       "      <td>3550000.0</td>\n",
       "      <td>42.80</td>\n",
       "      <td>2017-07-01</td>\n",
       "      <td>2</td>\n",
       "      <td>2.56</td>\n",
       "      <td>5.0</td>\n",
       "      <td>27.00</td>\n",
       "      <td>5</td>\n",
       "      <td>False</td>\n",
       "      <td>False</td>\n",
       "      <td>False</td>\n",
       "      <td>5.20</td>\n",
       "      <td>1.0</td>\n",
       "      <td>Петергоф</td>\n",
       "      <td>37868.0</td>\n",
       "      <td>33058.0</td>\n",
       "      <td>1.0</td>\n",
       "      <td>294.0</td>\n",
       "      <td>3.0</td>\n",
       "      <td>298.0</td>\n",
       "      <td>366.0</td>\n",
       "      <td>82943.93</td>\n",
       "      <td>5</td>\n",
       "      <td>7</td>\n",
       "      <td>2017</td>\n",
       "      <td>последний</td>\n",
       "      <td>33.0</td>\n",
       "    </tr>\n",
       "    <tr>\n",
       "      <th>14</th>\n",
       "      <td>1</td>\n",
       "      <td>4400000.0</td>\n",
       "      <td>36.00</td>\n",
       "      <td>2016-06-23</td>\n",
       "      <td>1</td>\n",
       "      <td>2.65</td>\n",
       "      <td>6.0</td>\n",
       "      <td>17.00</td>\n",
       "      <td>1</td>\n",
       "      <td>False</td>\n",
       "      <td>False</td>\n",
       "      <td>False</td>\n",
       "      <td>8.00</td>\n",
       "      <td>0.0</td>\n",
       "      <td>Пушкин</td>\n",
       "      <td>20782.0</td>\n",
       "      <td>30759.0</td>\n",
       "      <td>0.0</td>\n",
       "      <td>NaN</td>\n",
       "      <td>1.0</td>\n",
       "      <td>96.0</td>\n",
       "      <td>203.0</td>\n",
       "      <td>122222.22</td>\n",
       "      <td>3</td>\n",
       "      <td>6</td>\n",
       "      <td>2016</td>\n",
       "      <td>первый</td>\n",
       "      <td>31.0</td>\n",
       "    </tr>\n",
       "    <tr>\n",
       "      <th>15</th>\n",
       "      <td>16</td>\n",
       "      <td>4650000.0</td>\n",
       "      <td>39.00</td>\n",
       "      <td>2017-11-18</td>\n",
       "      <td>1</td>\n",
       "      <td>2.65</td>\n",
       "      <td>14.0</td>\n",
       "      <td>20.50</td>\n",
       "      <td>5</td>\n",
       "      <td>False</td>\n",
       "      <td>False</td>\n",
       "      <td>False</td>\n",
       "      <td>7.60</td>\n",
       "      <td>1.0</td>\n",
       "      <td>Санкт-Петербург</td>\n",
       "      <td>12900.0</td>\n",
       "      <td>14259.0</td>\n",
       "      <td>1.0</td>\n",
       "      <td>590.0</td>\n",
       "      <td>1.0</td>\n",
       "      <td>296.0</td>\n",
       "      <td>19.0</td>\n",
       "      <td>119230.77</td>\n",
       "      <td>5</td>\n",
       "      <td>11</td>\n",
       "      <td>2017</td>\n",
       "      <td>другой</td>\n",
       "      <td>14.0</td>\n",
       "    </tr>\n",
       "    <tr>\n",
       "      <th>16</th>\n",
       "      <td>11</td>\n",
       "      <td>6700000.0</td>\n",
       "      <td>82.00</td>\n",
       "      <td>2017-11-23</td>\n",
       "      <td>3</td>\n",
       "      <td>3.05</td>\n",
       "      <td>5.0</td>\n",
       "      <td>55.60</td>\n",
       "      <td>1</td>\n",
       "      <td>False</td>\n",
       "      <td>False</td>\n",
       "      <td>False</td>\n",
       "      <td>9.00</td>\n",
       "      <td>0.0</td>\n",
       "      <td>Санкт-Петербург</td>\n",
       "      <td>22108.0</td>\n",
       "      <td>10698.0</td>\n",
       "      <td>3.0</td>\n",
       "      <td>420.0</td>\n",
       "      <td>0.0</td>\n",
       "      <td>NaN</td>\n",
       "      <td>397.0</td>\n",
       "      <td>81707.32</td>\n",
       "      <td>3</td>\n",
       "      <td>11</td>\n",
       "      <td>2017</td>\n",
       "      <td>первый</td>\n",
       "      <td>11.0</td>\n",
       "    </tr>\n",
       "  </tbody>\n",
       "</table>\n",
       "</div>"
      ],
      "text/plain": [
       "    total_images  last_price  total_area first_day_exposition  rooms  \\\n",
       "0             20  13000000.0      108.00           2019-03-07      3   \n",
       "1              7   3350000.0       40.40           2018-12-04      1   \n",
       "2             10   5196000.0       56.00           2015-08-20      2   \n",
       "3              0  64900000.0      159.00           2015-07-24      3   \n",
       "5             10   2890000.0       30.40           2018-09-10      1   \n",
       "6              6   3700000.0       37.30           2017-11-02      1   \n",
       "7              5   7915000.0       71.60           2019-04-18      2   \n",
       "8             20   2900000.0       33.16           2018-05-23      1   \n",
       "10             5   5050000.0       39.60           2017-11-16      1   \n",
       "11             9   3300000.0       44.00           2018-08-27      2   \n",
       "12            10   3890000.0       54.00           2016-06-30      2   \n",
       "13            20   3550000.0       42.80           2017-07-01      2   \n",
       "14             1   4400000.0       36.00           2016-06-23      1   \n",
       "15            16   4650000.0       39.00           2017-11-18      1   \n",
       "16            11   6700000.0       82.00           2017-11-23      3   \n",
       "\n",
       "    ceiling_height  floors_total  living_area  floor  is_apartment  studio  \\\n",
       "0             2.70          16.0        51.00      8         False   False   \n",
       "1             2.65          11.0        18.60      1         False   False   \n",
       "2             2.65           5.0        34.30      4         False   False   \n",
       "3             2.65          14.0        45.00      9         False   False   \n",
       "5             2.65          12.0        14.40      5         False   False   \n",
       "6             2.65          26.0        10.60      6         False   False   \n",
       "7             2.65          24.0        30.50     22         False   False   \n",
       "8             2.65          27.0        15.43     26         False   False   \n",
       "10            2.67          12.0        20.30      3         False   False   \n",
       "11            2.65           5.0        31.00      4         False   False   \n",
       "12            2.65           5.0        30.00      5         False   False   \n",
       "13            2.56           5.0        27.00      5         False   False   \n",
       "14            2.65           6.0        17.00      1         False   False   \n",
       "15            2.65          14.0        20.50      5         False   False   \n",
       "16            3.05           5.0        55.60      1         False   False   \n",
       "\n",
       "    open_plan  kitchen_area  balcony      locality_name  airports_nearest  \\\n",
       "0       False         25.00      0.0    Санкт-Петербург           18863.0   \n",
       "1       False         11.00      2.0             Шушары           12817.0   \n",
       "2       False          8.30      0.0    Санкт-Петербург           21741.0   \n",
       "3       False          9.50      0.0    Санкт-Петербург           28098.0   \n",
       "5       False          9.10      0.0  городской Янино-1               NaN   \n",
       "6       False         14.40      1.0          Парголово           52996.0   \n",
       "7       False         18.90      2.0    Санкт-Петербург           23982.0   \n",
       "8       False          8.81      0.0             Мурино               NaN   \n",
       "10      False          8.50      0.0    Санкт-Петербург           38357.0   \n",
       "11      False          6.00      1.0          Ломоносов           48252.0   \n",
       "12      False          9.00      0.0          Сертолово               NaN   \n",
       "13      False          5.20      1.0           Петергоф           37868.0   \n",
       "14      False          8.00      0.0             Пушкин           20782.0   \n",
       "15      False          7.60      1.0    Санкт-Петербург           12900.0   \n",
       "16      False          9.00      0.0    Санкт-Петербург           22108.0   \n",
       "\n",
       "    city_centers_nearest  parks_around3000  parks_nearest  ponds_around3000  \\\n",
       "0                16028.0               1.0          482.0               2.0   \n",
       "1                18603.0               0.0            NaN               0.0   \n",
       "2                13933.0               1.0           90.0               2.0   \n",
       "3                 6800.0               2.0           84.0               3.0   \n",
       "5                    NaN               NaN            NaN               NaN   \n",
       "6                19143.0               0.0            NaN               0.0   \n",
       "7                11634.0               0.0            NaN               0.0   \n",
       "8                    NaN               NaN            NaN               NaN   \n",
       "10               13878.0               1.0          310.0               2.0   \n",
       "11               51677.0               0.0            NaN               0.0   \n",
       "12                   NaN               NaN            NaN               NaN   \n",
       "13               33058.0               1.0          294.0               3.0   \n",
       "14               30759.0               0.0            NaN               1.0   \n",
       "15               14259.0               1.0          590.0               1.0   \n",
       "16               10698.0               3.0          420.0               0.0   \n",
       "\n",
       "    ponds_nearest  days_exposition  price_one_metr  day_exposition  \\\n",
       "0           755.0              NaN       120370.37               3   \n",
       "1             NaN             81.0        82920.79               1   \n",
       "2           574.0            558.0        92785.71               3   \n",
       "3           234.0            424.0       408176.10               4   \n",
       "5             NaN             55.0        95065.79               0   \n",
       "6             NaN            155.0        99195.71               3   \n",
       "7             NaN              NaN       110544.69               3   \n",
       "8             NaN            189.0        87454.76               2   \n",
       "10          553.0            137.0       127525.25               3   \n",
       "11            NaN              7.0        75000.00               0   \n",
       "12            NaN             90.0        72037.04               3   \n",
       "13          298.0            366.0        82943.93               5   \n",
       "14           96.0            203.0       122222.22               3   \n",
       "15          296.0             19.0       119230.77               5   \n",
       "16            NaN            397.0        81707.32               3   \n",
       "\n",
       "    month_exposition  year_exposition type_of_floor  сity_сenters_km  \n",
       "0                  3             2019        другой             16.0  \n",
       "1                 12             2018        первый             19.0  \n",
       "2                  8             2015        другой             14.0  \n",
       "3                  7             2015        другой              7.0  \n",
       "5                  9             2018        другой              NaN  \n",
       "6                 11             2017        другой             19.0  \n",
       "7                  4             2019        другой             12.0  \n",
       "8                  5             2018        другой              NaN  \n",
       "10                11             2017        другой             14.0  \n",
       "11                 8             2018        другой             52.0  \n",
       "12                 6             2016     последний              NaN  \n",
       "13                 7             2017     последний             33.0  \n",
       "14                 6             2016        первый             31.0  \n",
       "15                11             2017        другой             14.0  \n",
       "16                11             2017        первый             11.0  "
      ]
     },
     "execution_count": 39,
     "metadata": {},
     "output_type": "execute_result"
    }
   ],
   "source": [
    "data.head(15)"
   ]
  },
  {
   "cell_type": "markdown",
   "metadata": {},
   "source": [
    "### Исследовательский анализ данных"
   ]
  },
  {
   "cell_type": "markdown",
   "metadata": {},
   "source": [
    "#### Общая площадь"
   ]
  },
  {
   "cell_type": "code",
   "execution_count": 40,
   "metadata": {},
   "outputs": [
    {
     "data": {
      "text/plain": [
       "count    19512.000000\n",
       "mean        59.614927\n",
       "std         26.599489\n",
       "min         12.000000\n",
       "25%         40.500000\n",
       "50%         53.400000\n",
       "75%         71.500000\n",
       "max        199.200000\n",
       "Name: total_area, dtype: float64"
      ]
     },
     "execution_count": 40,
     "metadata": {},
     "output_type": "execute_result"
    }
   ],
   "source": [
    "data['total_area'].describe()"
   ]
  },
  {
   "cell_type": "code",
   "execution_count": 41,
   "metadata": {
    "scrolled": true
   },
   "outputs": [
    {
     "data": {
      "image/png": "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\n",
      "text/plain": [
       "<Figure size 432x288 with 1 Axes>"
      ]
     },
     "metadata": {
      "needs_background": "light"
     },
     "output_type": "display_data"
    }
   ],
   "source": [
    "data['total_area'].plot(kind = 'hist', bins = 100, grid = True, range = (11, 200))\n",
    "plt.title('Общая площадь')\n",
    "plt.show()"
   ]
  },
  {
   "cell_type": "markdown",
   "metadata": {},
   "source": [
    "Вывод: Наибольшее количество объявлений у квартир с общей площадью от 30 до 40м2."
   ]
  },
  {
   "cell_type": "markdown",
   "metadata": {},
   "source": [
    "#### Жилая площадь"
   ]
  },
  {
   "cell_type": "code",
   "execution_count": 42,
   "metadata": {},
   "outputs": [
    {
     "data": {
      "text/plain": [
       "count    19512.000000\n",
       "mean        33.576625\n",
       "std         17.372071\n",
       "min          2.000000\n",
       "25%         18.400000\n",
       "50%         30.500000\n",
       "75%         43.000000\n",
       "max        124.900000\n",
       "Name: living_area, dtype: float64"
      ]
     },
     "execution_count": 42,
     "metadata": {},
     "output_type": "execute_result"
    }
   ],
   "source": [
    "data['living_area'].describe()"
   ]
  },
  {
   "cell_type": "code",
   "execution_count": 43,
   "metadata": {},
   "outputs": [
    {
     "data": {
      "image/png": "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\n",
      "text/plain": [
       "<Figure size 432x288 with 1 Axes>"
      ]
     },
     "metadata": {
      "needs_background": "light"
     },
     "output_type": "display_data"
    }
   ],
   "source": [
    "data['living_area'].plot(kind = 'hist', bins = 100, grid = True, range = (0, 125))\n",
    "plt.title('Жилая площадь')\n",
    "plt.show()"
   ]
  },
  {
   "cell_type": "markdown",
   "metadata": {},
   "source": [
    "Вывод: На гистограммы видно, что чаще всего встречаются значения 18, 30 и 45м2 у жилой площади."
   ]
  },
  {
   "cell_type": "markdown",
   "metadata": {},
   "source": [
    "#### Площадь кухни"
   ]
  },
  {
   "cell_type": "code",
   "execution_count": 44,
   "metadata": {},
   "outputs": [
    {
     "data": {
      "text/plain": [
       "count    19512.000000\n",
       "mean        10.544717\n",
       "std          4.451939\n",
       "min          1.300000\n",
       "25%          8.000000\n",
       "50%          9.500000\n",
       "75%         12.000000\n",
       "max         39.900000\n",
       "Name: kitchen_area, dtype: float64"
      ]
     },
     "execution_count": 44,
     "metadata": {},
     "output_type": "execute_result"
    }
   ],
   "source": [
    "data['kitchen_area'].describe()"
   ]
  },
  {
   "cell_type": "code",
   "execution_count": 45,
   "metadata": {},
   "outputs": [
    {
     "data": {
      "image/png": "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\n",
      "text/plain": [
       "<Figure size 432x288 with 1 Axes>"
      ]
     },
     "metadata": {
      "needs_background": "light"
     },
     "output_type": "display_data"
    }
   ],
   "source": [
    "data['kitchen_area'].plot(kind = 'hist', bins = 100, grid = True, range = (0, 40))\n",
    "plt.title('Площадь кухни')\n",
    "plt.show()"
   ]
  },
  {
   "cell_type": "markdown",
   "metadata": {},
   "source": [
    "Вывод: Наиболее встречающиеся значения площади кухни находятся в интервале от 5 до 15м2."
   ]
  },
  {
   "cell_type": "markdown",
   "metadata": {},
   "source": [
    "#### Цена объекта"
   ]
  },
  {
   "cell_type": "code",
   "execution_count": 46,
   "metadata": {},
   "outputs": [
    {
     "data": {
      "text/plain": [
       "count    1.951200e+04\n",
       "mean     6.253459e+06\n",
       "std      5.803685e+06\n",
       "min      4.300000e+05\n",
       "25%      3.550000e+06\n",
       "50%      4.850000e+06\n",
       "75%      7.000000e+06\n",
       "max      2.892384e+08\n",
       "Name: last_price, dtype: float64"
      ]
     },
     "execution_count": 46,
     "metadata": {},
     "output_type": "execute_result"
    }
   ],
   "source": [
    "data['last_price'].describe()"
   ]
  },
  {
   "cell_type": "code",
   "execution_count": 47,
   "metadata": {},
   "outputs": [],
   "source": [
    "data['short_price'] = data['last_price'] / 1000000"
   ]
  },
  {
   "cell_type": "code",
   "execution_count": 48,
   "metadata": {},
   "outputs": [
    {
     "data": {
      "image/png": "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\n",
      "text/plain": [
       "<Figure size 432x288 with 1 Axes>"
      ]
     },
     "metadata": {
      "needs_background": "light"
     },
     "output_type": "display_data"
    }
   ],
   "source": [
    "data['short_price'].plot(kind = 'hist', bins = 500, grid = True, range = (0,15))\n",
    "plt.title('Цена')\n",
    "plt.show()"
   ]
  },
  {
   "cell_type": "markdown",
   "metadata": {},
   "source": [
    "Вывод: Цены на квартиры колеблются от 2,5 до 8,5 млн. Наиболее часто встречаются квартиры со стоимостью 3,5 - 4,5млн."
   ]
  },
  {
   "cell_type": "markdown",
   "metadata": {},
   "source": [
    "#### Количество комнат"
   ]
  },
  {
   "cell_type": "code",
   "execution_count": 49,
   "metadata": {},
   "outputs": [
    {
     "data": {
      "text/plain": [
       "count    19512.000000\n",
       "mean         2.045664\n",
       "std          0.984746\n",
       "min          1.000000\n",
       "25%          1.000000\n",
       "50%          2.000000\n",
       "75%          3.000000\n",
       "max          8.000000\n",
       "Name: rooms, dtype: float64"
      ]
     },
     "execution_count": 49,
     "metadata": {},
     "output_type": "execute_result"
    }
   ],
   "source": [
    "data['rooms'].describe()"
   ]
  },
  {
   "cell_type": "code",
   "execution_count": 50,
   "metadata": {},
   "outputs": [
    {
     "data": {
      "image/png": "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\n",
      "text/plain": [
       "<Figure size 432x288 with 1 Axes>"
      ]
     },
     "metadata": {
      "needs_background": "light"
     },
     "output_type": "display_data"
    }
   ],
   "source": [
    "data['rooms'].plot(kind = 'hist', bins = 15, grid = True)\n",
    "plt.title('Количество комнат')\n",
    "plt.show()"
   ]
  },
  {
   "cell_type": "markdown",
   "metadata": {},
   "source": [
    "Вывод: Наиболее часто продают одно- и двух-комнатные квартиры."
   ]
  },
  {
   "cell_type": "markdown",
   "metadata": {},
   "source": [
    "#### Высота потолков"
   ]
  },
  {
   "cell_type": "code",
   "execution_count": 51,
   "metadata": {},
   "outputs": [
    {
     "data": {
      "text/plain": [
       "count    19512.000000\n",
       "mean         2.724486\n",
       "std          0.198490\n",
       "min          2.510000\n",
       "25%          2.650000\n",
       "50%          2.650000\n",
       "75%          2.730000\n",
       "max          4.250000\n",
       "Name: ceiling_height, dtype: float64"
      ]
     },
     "execution_count": 51,
     "metadata": {},
     "output_type": "execute_result"
    }
   ],
   "source": [
    "data['ceiling_height'].describe()"
   ]
  },
  {
   "cell_type": "code",
   "execution_count": 52,
   "metadata": {},
   "outputs": [
    {
     "data": {
      "image/png": "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\n",
      "text/plain": [
       "<Figure size 432x288 with 1 Axes>"
      ]
     },
     "metadata": {
      "needs_background": "light"
     },
     "output_type": "display_data"
    }
   ],
   "source": [
    "data['ceiling_height'].plot(kind = 'hist', bins = 10, grid = True, range = (2.3, 4.5))\n",
    "plt.title('Высота потолков')\n",
    "plt.show()"
   ]
  },
  {
   "cell_type": "markdown",
   "metadata": {},
   "source": [
    "Вывод: Средняя высота потолков от 2,5 до 2,7м."
   ]
  },
  {
   "cell_type": "markdown",
   "metadata": {},
   "source": [
    "#### Этаж квартиры"
   ]
  },
  {
   "cell_type": "code",
   "execution_count": 53,
   "metadata": {},
   "outputs": [
    {
     "data": {
      "text/plain": [
       "count    19512.000000\n",
       "mean         6.152317\n",
       "std          5.082616\n",
       "min          1.000000\n",
       "25%          2.000000\n",
       "50%          5.000000\n",
       "75%          8.000000\n",
       "max         33.000000\n",
       "Name: floor, dtype: float64"
      ]
     },
     "execution_count": 53,
     "metadata": {},
     "output_type": "execute_result"
    }
   ],
   "source": [
    "data['floor'].describe()"
   ]
  },
  {
   "cell_type": "code",
   "execution_count": 54,
   "metadata": {},
   "outputs": [
    {
     "data": {
      "image/png": "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\n",
      "text/plain": [
       "<Figure size 432x288 with 1 Axes>"
      ]
     },
     "metadata": {
      "needs_background": "light"
     },
     "output_type": "display_data"
    }
   ],
   "source": [
    "data['floor'].plot(kind = 'hist', bins = 15, grid = True, range = (1, 33))\n",
    "plt.title('Квартиры по этажам')\n",
    "plt.show()"
   ]
  },
  {
   "cell_type": "markdown",
   "metadata": {},
   "source": [
    "Вывод: Наиболее часто продаются квартиры на нижних этажах."
   ]
  },
  {
   "cell_type": "markdown",
   "metadata": {},
   "source": [
    "#### Тип этажа квартиры"
   ]
  },
  {
   "cell_type": "code",
   "execution_count": 55,
   "metadata": {},
   "outputs": [
    {
     "data": {
      "text/plain": [
       "count      19512\n",
       "unique         3\n",
       "top       другой\n",
       "freq       14512\n",
       "Name: type_of_floor, dtype: object"
      ]
     },
     "execution_count": 55,
     "metadata": {},
     "output_type": "execute_result"
    }
   ],
   "source": [
    "data['type_of_floor'].describe()"
   ]
  },
  {
   "cell_type": "markdown",
   "metadata": {},
   "source": [
    "Построим сводную таблицу для рассчета количества типа этажей"
   ]
  },
  {
   "cell_type": "code",
   "execution_count": 56,
   "metadata": {
    "scrolled": true
   },
   "outputs": [
    {
     "data": {
      "text/html": [
       "<div>\n",
       "<style scoped>\n",
       "    .dataframe tbody tr th:only-of-type {\n",
       "        vertical-align: middle;\n",
       "    }\n",
       "\n",
       "    .dataframe tbody tr th {\n",
       "        vertical-align: top;\n",
       "    }\n",
       "\n",
       "    .dataframe thead th {\n",
       "        text-align: right;\n",
       "    }\n",
       "</style>\n",
       "<table border=\"1\" class=\"dataframe\">\n",
       "  <thead>\n",
       "    <tr style=\"text-align: right;\">\n",
       "      <th></th>\n",
       "      <th>floor</th>\n",
       "    </tr>\n",
       "    <tr>\n",
       "      <th>type_of_floor</th>\n",
       "      <th></th>\n",
       "    </tr>\n",
       "  </thead>\n",
       "  <tbody>\n",
       "    <tr>\n",
       "      <th>другой</th>\n",
       "      <td>14512</td>\n",
       "    </tr>\n",
       "    <tr>\n",
       "      <th>первый</th>\n",
       "      <td>2314</td>\n",
       "    </tr>\n",
       "    <tr>\n",
       "      <th>последний</th>\n",
       "      <td>2686</td>\n",
       "    </tr>\n",
       "  </tbody>\n",
       "</table>\n",
       "</div>"
      ],
      "text/plain": [
       "               floor\n",
       "type_of_floor       \n",
       "другой         14512\n",
       "первый          2314\n",
       "последний       2686"
      ]
     },
     "execution_count": 56,
     "metadata": {},
     "output_type": "execute_result"
    }
   ],
   "source": [
    "data_type_floor = data.pivot_table(index = 'type_of_floor', values = 'floor', aggfunc = 'count') \n",
    "data_type_floor"
   ]
  },
  {
   "cell_type": "code",
   "execution_count": 57,
   "metadata": {},
   "outputs": [
    {
     "data": {
      "image/png": "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\n",
      "text/plain": [
       "<Figure size 432x288 with 1 Axes>"
      ]
     },
     "metadata": {
      "needs_background": "light"
     },
     "output_type": "display_data"
    }
   ],
   "source": [
    "sns.barplot(x = data_type_floor.index, y = data_type_floor['floor'])#построение барплота с помощью библиотеки Seaborn\n",
    "plt.title('Тип этажа')\n",
    "plt.show()"
   ]
  },
  {
   "cell_type": "markdown",
   "metadata": {},
   "source": [
    "Вывод: Количество объявлений о продаже квартир на первых и последних этажах много меньше, чем остальных, что достаточно логично."
   ]
  },
  {
   "cell_type": "markdown",
   "metadata": {},
   "source": [
    "#### Общее количество этажей"
   ]
  },
  {
   "cell_type": "code",
   "execution_count": 58,
   "metadata": {},
   "outputs": [
    {
     "data": {
      "text/plain": [
       "count    19512.00000\n",
       "mean        11.22089\n",
       "std          6.83689\n",
       "min          1.00000\n",
       "25%          5.00000\n",
       "50%          9.00000\n",
       "75%         16.00000\n",
       "max         60.00000\n",
       "Name: floors_total, dtype: float64"
      ]
     },
     "execution_count": 58,
     "metadata": {},
     "output_type": "execute_result"
    }
   ],
   "source": [
    "data['floors_total'].describe()"
   ]
  },
  {
   "cell_type": "code",
   "execution_count": 59,
   "metadata": {},
   "outputs": [
    {
     "data": {
      "image/png": "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\n",
      "text/plain": [
       "<Figure size 432x288 with 1 Axes>"
      ]
     },
     "metadata": {
      "needs_background": "light"
     },
     "output_type": "display_data"
    }
   ],
   "source": [
    "data['floors_total'].plot(kind = 'hist', bins = 20, grid = True, range = (1, 60))\n",
    "plt.title('Количество этажей')\n",
    "plt.show()"
   ]
  },
  {
   "cell_type": "markdown",
   "metadata": {},
   "source": [
    "Вывод: Чаще всего продают квартиры в домах с 5 и 9 этажами."
   ]
  },
  {
   "cell_type": "markdown",
   "metadata": {},
   "source": [
    "#### Расстояние до центра города в метрах"
   ]
  },
  {
   "cell_type": "code",
   "execution_count": 60,
   "metadata": {},
   "outputs": [
    {
     "data": {
      "text/plain": [
       "count    15091.000000\n",
       "mean     13904.348950\n",
       "std       8442.462507\n",
       "min        181.000000\n",
       "25%       8777.000000\n",
       "50%      12944.000000\n",
       "75%      16167.000000\n",
       "max      65968.000000\n",
       "Name: city_centers_nearest, dtype: float64"
      ]
     },
     "execution_count": 60,
     "metadata": {},
     "output_type": "execute_result"
    }
   ],
   "source": [
    "data['city_centers_nearest'].describe()"
   ]
  },
  {
   "cell_type": "code",
   "execution_count": 61,
   "metadata": {},
   "outputs": [
    {
     "data": {
      "image/png": "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\n",
      "text/plain": [
       "<Figure size 432x288 with 1 Axes>"
      ]
     },
     "metadata": {
      "needs_background": "light"
     },
     "output_type": "display_data"
    }
   ],
   "source": [
    "data['city_centers_nearest'].plot(kind = 'hist', bins = 50, grid = True, range = (180, 66e3))\n",
    "plt.title('Растояние до центра')\n",
    "plt.show()"
   ]
  },
  {
   "cell_type": "markdown",
   "metadata": {},
   "source": [
    "Вывод: Медианное расстояние до центра города в пределах 12 км."
   ]
  },
  {
   "cell_type": "markdown",
   "metadata": {},
   "source": [
    "#### Расстояние до ближайшего аэропорта"
   ]
  },
  {
   "cell_type": "code",
   "execution_count": 62,
   "metadata": {},
   "outputs": [
    {
     "data": {
      "text/plain": [
       "count    15072.000000\n",
       "mean     28531.106688\n",
       "std      12291.981713\n",
       "min          0.000000\n",
       "25%      18732.000000\n",
       "50%      26585.000000\n",
       "75%      36615.500000\n",
       "max      84869.000000\n",
       "Name: airports_nearest, dtype: float64"
      ]
     },
     "execution_count": 62,
     "metadata": {},
     "output_type": "execute_result"
    }
   ],
   "source": [
    "data['airports_nearest'].describe()"
   ]
  },
  {
   "cell_type": "code",
   "execution_count": 63,
   "metadata": {},
   "outputs": [
    {
     "data": {
      "image/png": "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\n",
      "text/plain": [
       "<Figure size 432x288 with 1 Axes>"
      ]
     },
     "metadata": {
      "needs_background": "light"
     },
     "output_type": "display_data"
    }
   ],
   "source": [
    "data['airports_nearest'].plot(kind = 'hist', bins = 50, grid = True, range = (0, 84e3))\n",
    "plt.title('Расстояние до аэропорта')\n",
    "plt.show()"
   ]
  },
  {
   "cell_type": "markdown",
   "metadata": {},
   "source": [
    "Вывод: Медианное расстояние до ближайшего аэропорта - 26 км."
   ]
  },
  {
   "cell_type": "markdown",
   "metadata": {},
   "source": [
    "#### Расстояние до ближайшего парка"
   ]
  },
  {
   "cell_type": "code",
   "execution_count": 64,
   "metadata": {},
   "outputs": [
    {
     "data": {
      "text/plain": [
       "count    6714.000000\n",
       "mean      494.862079\n",
       "std       355.406297\n",
       "min         1.000000\n",
       "25%       285.000000\n",
       "50%       451.000000\n",
       "75%       613.000000\n",
       "max      3190.000000\n",
       "Name: parks_nearest, dtype: float64"
      ]
     },
     "execution_count": 64,
     "metadata": {},
     "output_type": "execute_result"
    }
   ],
   "source": [
    "data['parks_nearest'].describe()"
   ]
  },
  {
   "cell_type": "code",
   "execution_count": 65,
   "metadata": {},
   "outputs": [
    {
     "data": {
      "image/png": "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\n",
      "text/plain": [
       "<Figure size 432x288 with 1 Axes>"
      ]
     },
     "metadata": {
      "needs_background": "light"
     },
     "output_type": "display_data"
    }
   ],
   "source": [
    "data['parks_nearest'].plot(kind = 'hist', bins = 50, grid = True, range = (0, 3e3))\n",
    "plt.title('Расстояние до парка')\n",
    "plt.show()"
   ]
  },
  {
   "cell_type": "markdown",
   "metadata": {},
   "source": [
    "Вывод: У большинства квртир парк находится в пределах 450-500 метров."
   ]
  },
  {
   "cell_type": "markdown",
   "metadata": {},
   "source": [
    "#### День и месяц публикации объявления"
   ]
  },
  {
   "cell_type": "code",
   "execution_count": 66,
   "metadata": {},
   "outputs": [
    {
     "data": {
      "image/png": "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\n",
      "text/plain": [
       "<Figure size 432x288 with 1 Axes>"
      ]
     },
     "metadata": {
      "needs_background": "light"
     },
     "output_type": "display_data"
    }
   ],
   "source": [
    "data['day_exposition'].plot(kind = 'hist', bins = 7, grid = True, range = (0, 6))\n",
    "plt.title('День публикации')\n",
    "plt.show()"
   ]
  },
  {
   "cell_type": "code",
   "execution_count": 67,
   "metadata": {},
   "outputs": [
    {
     "data": {
      "image/png": "iVBORw0KGgoAAAANSUhEUgAAAYsAAAEICAYAAACuxNj9AAAAOXRFWHRTb2Z0d2FyZQBNYXRwbG90bGliIHZlcnNpb24zLjMuNCwgaHR0cHM6Ly9tYXRwbG90bGliLm9yZy8QVMy6AAAACXBIWXMAAAsTAAALEwEAmpwYAAAXm0lEQVR4nO3de5RlZX3m8e9jt0YuhoaF1jCANmqLoq2ILTBxkilEkUsUNRODQWyQpJ01OF7Sa6QxTsAwuogJ6jhGQysdbirinRjUtCStcSbIRQmNoKGVRmkRVBAEHLH1N3+cXXJsqnqfqq5zqarvZ61a5+x377PP7z11eep99z77pKqQJGl7HjbsAiRJo8+wkCS1MiwkSa0MC0lSK8NCktTKsJCGLMnDh12D1MawkAYsyYFJPpFkc5K7gT8Zdk1SG8NCI6H5w/lAkj23af9akkqydEilzaokTwAuBy4FnlRVu1XVXwy5LKmVYaFRcjPw8omFJMuBnYdXTl/8D+DtVXVeVT0w7GKkXhkWGiUXAq/sWl4JXNC9QZLfSPJXSb6T5PYkf5Nkp671xya5Nsk9Sb6V5Mim/SlJ/k/Tfm+SXyQ5sVl3RpKLuvaxeHujmWb7nzf7mfiqJEuTPLupa1HX9i9N8q/N4sHAU5PcmuQHSS5Msts2+68k9zX7/XmS/9m0n5jky13bvbHZ9nnb9iPJI5N8MclfdG3/0STfT3J3ki8leWrXuvMmnqdZfmKS6lre9jV6b/PcT5zi8Zc16xdP9hpq7jEsNEquAH6z+cO+CDgOuGibbc4CngQcCDwR2Bv4M4AkB9MJl/8OLAF+B9jcPO504EZgj6raFfiXHaz1I1W1a7OvJRONVXUV8CPgiK5tT+DB0NsZ+K2mtv2AXYD3TGyYZOJ38unNvj842ZMn2QN4LfDjSdYtBi4B/q2qTu1a9VlgGfAY4KtT7btNkicBR21n/WHA02eyb40uw0KjZmJ08Xw6f9y3TKxIEmAV8IaqurOqfgK8jU6oAJwMrKuq9VX1y6raUlXf6Nr3IgbzM38+8Iqm5j2AFwAf6lr/jqr6dlXdC5wGHNf1H/gjmtu2Kao3AeuAu7dpT9O+K/BfuldU1bqq+klV/Qw4A3jGtqOaHr0NOHOyFc336O00Aa75w7DQqLkQ+EPgRLaZggIeTec/82uS/DjJj4HPNe0A+wLfmmK/fwo8Hri/edyhs1r1r7sIeGGSXYCXAf9cVbc1634G3NK17S3AYmCsWd6jub1rqp0neVyz37+cZPVLgKcAT+XB14Uki5Kc1UzN3cODI649H7qLqSU5FNifTiBO5mXAD4F/nM5+NfoMC42UqrqFzoHuo4FPbLP6h8BPgadW1ZLma7dmugbgu8ATptjvt4B/Bc6pqiV0prz6oqq20JnmeimdKagLu1Z/B3hc1/Jjga3A7c3yk4DbmlHHVM6kc5D8J5Os+zZwGHAu8N6u9j8EjgWeB+wGLG3a096jX/N24LSq+sUk6x7e1HbqJOs0xxkWGkUnA8+tqvu6G6vql8D7gXcmeQxAkr2TvKDZ5FzgpCSHJ3lYs+7JzXaHAi+mM+0zCBcAbwSW8+uh92HgDUn2S7IrnSmdj1TV1ua04TXAp7az3ycChwDnTLH+2iZo3gI8OckfNO2PojOq+RGd0dnbZtCn5wK/rKrPTLH+BOD/VtV1M9i3RpxhoZFTVd+qqqunWH0qsAm4oplO+QKdaRGq6krgJOCddObyvwg8rnmH9PuB11XVPVPs9yXNGUq38uAUzY4cBP8knRHEJ6vq/q728+hMU32Jzgjq/wGvadZdTGeEsWY7+x0D3lxVP9/ekzfHJU4C3tWE0AV0pry2ADcw+cjqtV2vwT8DJOl+DfaiE4BT2Z3OqcGah+KHH0mTS7K5qpbuwOO/Bby6qr4we1UN1o6+Bpo/HFlIU/ty+yaTS/J7QDH3D/TO+DXQ/OLIQpplSTYABwAnVNXnh1yONCsMC0lSK6ehJEmt5uV1W/bcc89aunTpsMvYrvvuu49ddtll2GXMivnSl/nSD7Avo2rU+3LNNdf8sKoePdm6eRkWS5cu5eqrpzrzcjRs2LCB8fHxYZcxK+ZLX+ZLP8C+jKpR70uSW6Za5zSUJKmVYSFJamVYSJJaGRaSpFaGhSSplWEhSWplWEiSWhkWkqRWhoUkqdW8fAf3KFu65u8BWL18Kyc292fL5rOOmdX9SdIERxaSpFaGhSSplWEhSWplWEiSWhkWkqRWhoUkqZVhIUlqZVhIkloZFpKkVr6Dex5ZOsvvCN+W7xCXFq6+jSyS7Jvkn5LckOTrSV7XtO+RZH2Sm5rb3Zv2JHl3kk1JrktyUNe+Vjbb35RkZb9qliRNrp/TUFuB1VV1AHAocEqSA4A1wOVVtQy4vFkGOApY1nytAt4HnXABTgcOAQ4GTp8IGEnSYPQtLKrqtqr6anP/J8CNwN7AscD5zWbnAy9u7h8LXFAdVwBLkuwFvABYX1V3VtVdwHrgyH7VLUl6qIEc4E6yFHgm8BVgrKpua1Z9Hxhr7u8NfLfrYbc2bVO1S5IGpO8HuJPsCnwceH1V3ZPkV+uqqpLULD3PKjrTV4yNjbFhw4bZ2O2sW718KwBjOz14f66Y6jW99957R/b1no750g+wL6NqLvelr2GR5OF0guKDVfWJpvn2JHtV1W3NNNMdTfsWYN+uh+/TtG0Bxrdp37Dtc1XVWmAtwIoVK2p8fHzbTUbCiV2fZ3H2xrl1Mtrm48cnbd+wYQOj+npPx3zpB9iXUTWX+9LPs6ECnAvcWFXv6Fp1KTBxRtNK4NNd7a9szoo6FLi7ma76PHBEkt2bA9tHNG2SpAHp57+2zwFOADYmubZpexNwFnBJkpOBW4CXNesuA44GNgH3AycBVNWdSc4Ermq2+/OqurOPdUuSttG3sKiqLwOZYvXhk2xfwClT7GsdsG72qpM01/XzTai+AfWh5takuYZqql/O2fg8cX85pdHmtaEkSa0MC0lSK8NCktTKsJAktTIsJEmtDAtJUivDQpLUyrCQJLUyLCRJrQwLSVIrw0KS1MqwkCS1MiwkSa0MC0lSK8NCktTKsJAktTIsJEmtDAtJUivDQpLUys/gltQXU31m+3TNxme8a8c5spAktTIsJEmtDAtJUivDQpLUyrCQJLUyLCRJrQwLSVIrw0KS1MqwkCS1MiwkSa283Ie0gM3WJTk0/zmykCS1MiwkSa0MC0lSK8NCktTKsJAktTIsJEmtDAtJUivDQpLUqm9hkWRdkjuSXN/VdkaSLUmubb6O7lp3WpJNSb6Z5AVd7Uc2bZuSrOlXvZKkqfVzZHEecOQk7e+sqgObr8sAkhwAHAc8tXnMe5MsSrII+GvgKOAA4OXNtpKkAerb5T6q6ktJlva4+bHAxVX1M+DmJJuAg5t1m6rq2wBJLm62vWG269X81stlLVYv38qJM7j8xeazjplJSdKckqrq3847YfGZqnpas3wGcCJwD3A1sLqq7kryHuCKqrqo2e5c4LPNbo6sqj9q2k8ADqmq10zyXKuAVQBjY2PPuvjii/vWrx2xccvdAIztBLf/dMjFzJLZ6MvyvXebnWKmMPG6b89M+9Hv2mfi3nvvZdddd23drpfXZdiG8bvSr+9pr9+XYTnssMOuqaoVk60b9IUE3wecCVRzezbwqtnYcVWtBdYCrFixosbHx2djt7Nu4j/X1cu3cvbG+XEdx9noy+bjx2enmCn0MmKYaT/6XftMbNiwgV5+B2Yykhq0Yfyu9Ot72uv3ZRQN9DtQVbdP3E/yfuAzzeIWYN+uTfdp2thOuyRpQAZ66mySvboWXwJMnCl1KXBckt9Ish+wDLgSuApYlmS/JI+gcxD80kHWLEnq48giyYeBcWDPJLcCpwPjSQ6kMw21GXg1QFV9PckldA5cbwVOqapfNPt5DfB5YBGwrqq+3q+aJUmT6+fZUC+fpPnc7Wz/VuCtk7RfBlw2i6VJkqZpfhxhleaxmXya3UxPA5am4uU+JEmtDAtJUiunoaQdNJNpImmucWQhSWplWEiSWvU0DZVkeVVt7HcxkjQK+jW1OHGW2ly8+GSvI4v3JrkyyX9NMnpXTZMk9VVPYVFVvw0cT+c6Tdck+VCS5/e1MknSyOj5mEVV3QS8GTgV+E/Au5N8I8lL+1WcJGk09BQWSZ6e5J3AjcBzgRdW1VOa++/sY32SpBHQ6/ss/jfwAeBNVfWrjyGpqu8leXNfKpMkjYxew+IY4KddV4J9GPDIqrq/qi7sW3WSpJHQ6zGLLwA7dS3v3LRJkhaAXsPikVV178RCc3/n/pQkSRo1vYbFfUkOmlhI8ixgwB+hLkkall6PWbwe+GiS7wEB/h3wB/0qSpI0WnoKi6q6KsmTgf2bpm9W1c/7V5YkaZRM5xLlzwaWNo85KAlVdUFfqpIkjZReLyR4IfAE4FrgF01zAfMyLPx8Akn6db2OLFYAB1RV9bMYSdJo6vVsqOvpHNSWJC1AvY4s9gRuSHIl8LOJxqp6UV+qkiSNlF7D4ox+FiFJGm29njr7xSSPA5ZV1ReS7Aws6m9pkqRR0eslyv8Y+BhwTtO0N/CpPtUkSRoxvR7gPgV4DnAP/OqDkB7Tr6IkSaOl17D4WVU9MLGQZDGd91lIkhaAXsPii0neBOzUfPb2R4G/619ZkqRR0mtYrAF+AGwEXg1cRufzuCVJC0CvZ0P9Enh/8yVJWmB6vTbUzUxyjKKqHj/rFWlB8npc0mibzrWhJjwS+H1gj9kvR5I0ino6ZlFVP+r62lJV7wKO6W9pkqRR0es01EFdiw+jM9KYzmdhSJLmsF7/4J/ddX8rsBl42axXI0kaSb2eDXVYvwuRJI2uXqeh/mR766vqHbNTjiRpFE3nbKhnA5c2yy8ErgRu6kdRkqTR0us7uPcBDqqq1VW1GngW8NiqektVvWWyByRZl+SOJNd3te2RZH2Sm5rb3Zv2JHl3kk1Jrus+oJ5kZbP9TUlWzryrkqSZ6jUsxoAHupYfaNq25zzgyG3a1gCXV9Uy4PJmGeAoYFnztQp4H3TCBTgdOAQ4GDh9ImAkSYPTa1hcAFyZ5IwkZwBfAc7f3gOq6kvAnds0H9v1uPOBF3e1X1AdVwBLkuwFvABYX1V3VtVdwHoeGkCSpD7r9Wyotyb5LPDbTdNJVfW1GTzfWFXd1tz/Pg+OTvYGvtu13a1N21TtD5FkFZ1RCWNjY2zYsGEG5XWsXr51xo/t1dhOg3meQZgvfZkv/QD7Mqom+rIjf5+GZTpvrNsZuKeq/jbJo5PsV1U3z/SJq6qSzNpnYlTVWmAtwIoVK2p8fHzG+zpxANcpWr18K2dvnB/va5wvfZkv/QD7Mqom+rL5+PFhlzJtvX6s6unAqcBpTdPDgYtm8Hy3N9NLNLd3NO1bgH27ttunaZuqXZI0QL0es3gJ8CLgPoCq+h7wqBk836XAxBlNK4FPd7W/sjkr6lDg7ma66vPAEUl2bw5sH9G0SZIGqNex3QPd00ZJdml7QJIPA+PAnklupXNW01nAJUlOBm7hwUuGXAYcDWwC7gdOAqiqO5OcCVzVbPfnVbXtQXNJUp/1GhaXJDmHzllKfwy8ipYPQqqql0+x6vBJti3glCn2sw5Y12OdkqQ+aA2LJAE+AjwZuAfYH/izqlrf59okSSOiNSya6afLqmo5nfc5SJIWmF4PcH81ybP7WokkaWT1esziEOAVSTbTOSMqdAYdT+9XYZKk0bHdsEjy2Kr6Dp3LbkiSFqi2kcWn6Fxt9pYkH6+q3xtATZKkEdN2zCJd9x/fz0IkSaOrLSxqivuSpAWkbRrqGUnuoTPC2Km5Dw8e4P7NvlYnSRoJ2w2Lqlo0qEIkSaOr1/dZSJIWMMNCktTKsJAktTIsJEmtDAtJUivDQpLUyrCQJLUyLCRJrQwLSVIrw0KS1MqwkCS1MiwkSa0MC0lSK8NCktTKsJAktTIsJEmtDAtJUivDQpLUyrCQJLUyLCRJrQwLSVIrw0KS1MqwkCS1MiwkSa0MC0lSK8NCktTKsJAktTIsJEmtDAtJUquhhEWSzUk2Jrk2ydVN2x5J1ie5qbndvWlPkncn2ZTkuiQHDaNmSVrIhjmyOKyqDqyqFc3yGuDyqloGXN4sAxwFLGu+VgHvG3ilkrTAjdI01LHA+c3984EXd7VfUB1XAEuS7DWE+iRpwUpVDf5Jk5uBu4ACzqmqtUl+XFVLmvUB7qqqJUk+A5xVVV9u1l0OnFpVV2+zz1V0Rh6MjY096+KLL55xfRu33D3jx/ZqbCe4/ad9f5qBmC99mS/9APsyqib6snzv3YZdyqQOO+ywa7pme37N4kEX0/iPVbUlyWOA9Um+0b2yqirJtFKsqtYCawFWrFhR4+PjMy7uxDV/P+PH9mr18q2cvXFYL//smi99mS/9APsyqib6svn48WGXMm1DmYaqqi3N7R3AJ4GDgdsnppea2zuazbcA+3Y9fJ+mTZI0IAMPiyS7JHnUxH3gCOB64FJgZbPZSuDTzf1LgVc2Z0UdCtxdVbcNuGxJWtCGMbYbAz7ZOSzBYuBDVfW5JFcBlyQ5GbgFeFmz/WXA0cAm4H7gpMGXLEkL28DDoqq+DTxjkvYfAYdP0l7AKQMoTZI0hVE6dVaSNKIMC0lSK8NCktTKsJAktTIsJEmtDAtJUivDQpLUyrCQJLUyLCRJrQwLSVIrw0KS1MqwkCS1MiwkSa0MC0lSK8NCktTKsJAktTIsJEmtDAtJUivDQpLUyrCQJLUyLCRJrQwLSVIrw0KS1MqwkCS1MiwkSa0MC0lSK8NCktTKsJAktTIsJEmtDAtJUivDQpLUyrCQJLUyLCRJrQwLSVIrw0KS1MqwkCS1MiwkSa0MC0lSK8NCktRqzoRFkiOTfDPJpiRrhl2PJC0kcyIskiwC/ho4CjgAeHmSA4ZblSQtHHMiLICDgU1V9e2qegC4GDh2yDVJ0oKRqhp2Da2S/GfgyKr6o2b5BOCQqnpN1zargFXN4v7ANwde6PTsCfxw2EXMkvnSl/nSD7Avo2rU+/K4qnr0ZCsWD7qSfqmqtcDaYdfRqyRXV9WKYdcxG+ZLX+ZLP8C+jKq53Je5Mg21Bdi3a3mfpk2SNABzJSyuApYl2S/JI4DjgEuHXJMkLRhzYhqqqrYmeQ3weWARsK6qvj7ksnbUnJky68F86ct86QfYl1E1Z/syJw5wS5KGa65MQ0mShsiwkCS1MiwGLMm+Sf4pyQ1Jvp7kdcOuaUckWZTka0k+M+xadkSSJUk+luQbSW5M8h+GXdNMJXlD87N1fZIPJ3nksGvqVZJ1Se5Icn1X2x5J1ie5qbndfZg19mKKfvxl8/N1XZJPJlkyxBKnzbAYvK3A6qo6ADgUOGWOX7rkdcCNwy5iFvwv4HNV9WTgGczRPiXZG3gtsKKqnkbnhJDjhlvVtJwHHLlN2xrg8qpaBlzeLI+683hoP9YDT6uqpwP/Bpw26KJ2hGExYFV1W1V9tbn/Ezp/lPYeblUzk2Qf4BjgA8OuZUck2Q34HeBcgKp6oKp+PNSidsxiYKcki4Gdge8NuZ6eVdWXgDu3aT4WOL+5fz7w4kHWNBOT9aOq/qGqtjaLV9B5v9icYVgMUZKlwDOBrwy5lJl6F/BG4JdDrmNH7Qf8APjbZkrtA0l2GXZRM1FVW4C/Ar4D3AbcXVX/MNyqdthYVd3W3P8+MDbMYmbJq4DPDruI6TAshiTJrsDHgddX1T3Drme6kvwucEdVXTPsWmbBYuAg4H1V9UzgPubGVMdDNPP5x9IJwH8P7JLkFcOtavZU51z/OX2+f5I/pTMd/cFh1zIdhsUQJHk4naD4YFV9Ytj1zNBzgBcl2UznKsDPTXLRcEuasVuBW6tqYoT3MTrhMRc9D7i5qn5QVT8HPgH81pBr2lG3J9kLoLm9Y8j1zFiSE4HfBY6vOfYmN8NiwJKEztz4jVX1jmHXM1NVdVpV7VNVS+kcQP3HqpqT/8FW1feB7ybZv2k6HLhhiCXtiO8AhybZuflZO5w5erC+y6XAyub+SuDTQ6xlxpIcSWfa9kVVdf+w65kuw2LwngOcQOc/8Wubr6OHXZT4b8AHk1wHHAi8bbjlzEwzOvoY8FVgI53f8TlziYkkHwb+Bdg/ya1JTgbOAp6f5CY6I6ezhlljL6box3uARwHrm9/7vxlqkdPk5T4kSa0cWUiSWhkWkqRWhoUkqZVhIUlqZVhIkloZFpKkVoaFJKnV/wfZSurEXKCpSwAAAABJRU5ErkJggg==\n",
      "text/plain": [
       "<Figure size 432x288 with 1 Axes>"
      ]
     },
     "metadata": {
      "needs_background": "light"
     },
     "output_type": "display_data"
    }
   ],
   "source": [
    "data['month_exposition'].plot(kind = 'hist', bins = 13, grid = True, range = (1, 13))\n",
    "plt.title('Месяц публикации')\n",
    "plt.show()"
   ]
  },
  {
   "cell_type": "markdown",
   "metadata": {},
   "source": [
    "Вывод: Чаще всего объявления публикуют в будние дни. Наименьшее выкладывание объявлений в январе, мае и декабре."
   ]
  },
  {
   "cell_type": "markdown",
   "metadata": {},
   "source": [
    "#### Как быстро продавались квартиры"
   ]
  },
  {
   "cell_type": "code",
   "execution_count": 68,
   "metadata": {},
   "outputs": [
    {
     "data": {
      "text/plain": [
       "count    17083.000000\n",
       "mean       182.499093\n",
       "std        220.224898\n",
       "min          2.000000\n",
       "25%         45.000000\n",
       "50%         97.000000\n",
       "75%        235.000000\n",
       "max       1572.000000\n",
       "Name: days_exposition, dtype: float64"
      ]
     },
     "execution_count": 68,
     "metadata": {},
     "output_type": "execute_result"
    }
   ],
   "source": [
    "data['days_exposition'].describe()"
   ]
  },
  {
   "cell_type": "code",
   "execution_count": 69,
   "metadata": {},
   "outputs": [
    {
     "data": {
      "text/plain": [
       "<AxesSubplot:ylabel='Frequency'>"
      ]
     },
     "execution_count": 69,
     "metadata": {},
     "output_type": "execute_result"
    },
    {
     "data": {
      "image/png": "iVBORw0KGgoAAAANSUhEUgAAAYsAAAD4CAYAAAAdIcpQAAAAOXRFWHRTb2Z0d2FyZQBNYXRwbG90bGliIHZlcnNpb24zLjMuNCwgaHR0cHM6Ly9tYXRwbG90bGliLm9yZy8QVMy6AAAACXBIWXMAAAsTAAALEwEAmpwYAAAVTUlEQVR4nO3df5CdVXnA8e8jUfkRJfzQbSZJXawZLWPUwgo4aLuBqhFUbItWBzXY1HRGtFjolGAdse04jX8ogtNaU6GCpQZFLRS1isGt4x+ARNFEkBIwKGskVWIwiGL06R/3BG6um33v3b2/7/czc2ff95zz3vuc5bJPzjnvj8hMJEmazeN6HYAkqf+ZLCRJlUwWkqRKJgtJUiWThSSp0oJeB9AJRx99dI6Pj8/5+IceeojDDjusfQH1uVHrL9jnUWGfW7N58+YfZeZTZqobymQxPj7OrbfeOufjp6ammJycbF9AfW7U+gv2eVTY59ZExL0HqnMaSpJUyWQhSapkspAkVTJZSJIqmSwkSZVMFpKkSiYLSVIlk4UkqZLJQpJUaSiv4B4U4+s+u9/+9vWn9ygSSZqdIwtJUiWThSSpkslCklTJZCFJqmSykCRVMllIkiqZLCRJlUwWkqRKJgtJUiWThSSpkslCklTJZCFJqmSykCRV6liyiIjLI2JnRGytKzsyIm6IiLvKzyNKeUTEpRGxLSK+FRHH1R2zurS/KyJWdypeSdKBdXJk8VFgVUPZOmBTZi4HNpV9gJcBy8trLfAhqCUX4CLgROAE4KJ9CUaS1D0dSxaZ+RXggYbiM4AryvYVwKvqyq/MmpuARRGxGHgpcENmPpCZu4Ab+M0EJEnqsG6vWYxl5o6y/UNgrGwvAb5f1+6+UnagcklSF/XsSXmZmRGR7Xq/iFhLbQqLsbExpqam5vxee/bsmdfxzTp/xd799rvxmTPpVn/7iX0eDfa5fbqdLO6PiMWZuaNMM+0s5dPAsrp2S0vZNDDZUD410xtn5gZgA8DExEROTk7O1KwpU1NTzOf4Zp3d+FjVszr/mTPpVn/7iX0eDfa5fbo9DXUdsO+MptXAtXXlbyxnRZ0E7C7TVV8AXhIRR5SF7ZeUMklSF3VsZBERH6c2Kjg6Iu6jdlbTeuATEbEGuBd4TWn+OeA0YBvwM+BNAJn5QET8A/C10u7vM7Nx0VyS1GEdSxaZ+boDVJ06Q9sEzjnA+1wOXN7G0CRJLfIKbklSJZOFJKmSyUKSVMlkIUmqZLKQJFUyWUiSKpksJEmVTBaSpEomC0lSJZOFJKmSyUKSVMlkIUmqZLKQJFUyWUiSKpksJEmVTBaSpEomC0lSJZOFJKmSyUKSVMlkIUmqZLKQJFUyWUiSKpksJEmVTBaSpEomC0lSpQW9DkAHNr7us/vtb19/eo8ikTTqHFlIkiqZLCRJlUwWkqRKPUkWEfFXEfHtiNgaER+PiIMj4piIuDkitkXE1RHxhNL2iWV/W6kf70XMkjTKup4sImIJ8JfARGY+GzgIeC3wXuDizHwGsAtYUw5ZA+wq5ReXdpKkLurVNNQC4JCIWAAcCuwATgGuKfVXAK8q22eUfUr9qRER3QtVkhSZ2f0PjTgXeA/wMPBF4FzgpjJ6ICKWAZ/PzGdHxFZgVWbeV+ruBk7MzB81vOdaYC3A2NjY8Rs3bpxzfHv27GHhwoVzPr5ZW6Z377e/YsnhLdW3S7f620/s82iwz61ZuXLl5sycmKmu69dZRMQR1EYLxwA/AT4JrJrv+2bmBmADwMTERE5OTs75vaamppjP8c06u/E6irMmW6pvl271t5/Y59Fgn9unF9NQfwh8NzP/LzN/CXwaOBlYVKalAJYC02V7GlgGUOoPB37c3ZAlabT1Ill8DzgpIg4taw+nArcDXwbOLG1WA9eW7evKPqX+xuzF3JkkjbCuJ4vMvJnaQvXXgS0lhg3ABcB5EbENOAq4rBxyGXBUKT8PWNftmCVp1PXk3lCZeRFwUUPxPcAJM7T9OfDqbsQlSZqZV3BLkiqZLCRJlUwWkqRKJgtJUiWThSSpkslCklTJZCFJqmSykCRVMllIkir15AruQTLeeOfX9af3KBJJ6h1HFpKkSiYLSVIlk4UkqZLJQpJUqalkERErOh2IJKl/NTuy+OeIuCUi3hIRh3c0IklS32kqWWTmi4CzqD0Le3NE/EdEvLijkUmS+kbTaxaZeRfwTmqPP/0D4NKI+E5E/HGngpMk9Ydm1yyeExEXA3cApwCvyMzfLdsXdzA+SVIfaPYK7g8CHwHekZkP7yvMzB9ExDs7EtmA8opvScOo2WRxOvBwZv4KICIeBxycmT/LzI91LDpJUl9ods3iS8AhdfuHljJJ0ghoNlkcnJl79u2U7UM7E5Ikqd80myweiojj9u1ExPHAw7O0lyQNkWbXLN4OfDIifgAE8FvAn3YqKElSf2kqWWTm1yLiWcAzS9GdmfnLzoUlSeonrTz86PnAeDnmuIggM6/sSFSSpL7SVLKIiI8BvwPcBvyqFCdgspCkEdDsyGICODYzs5PBSJL6U7NnQ22ltqjdFhGxKCKuKfeWuiMiXhARR0bEDRFxV/l5RGkbEXFpRGyLiG/Vn5UlSeqOZpPF0cDtEfGFiLhu32sen3sJ8N+Z+SzgudTuObUO2JSZy4FNZR/gZcDy8loLfGgenytJmoNmp6He3a4PLM/D+H3gbIDMfAR4JCLOACZLsyuAKWp3uD0DuLJMgd1URiWLM3NHu2KSJM0uml2GiIinAcsz80sRcShwUGb+tOUPjHgesAG4ndqoYjNwLjCdmYtKmwB2ZeaiiLgeWJ+ZXy11m4ALMvPWhvddS23kwdjY2PEbN25sNbRH7dmzh4ULFwKwZXr3rG1XLNn/WVCN7RvrW2nbynvNR31/R4V9Hg32uTUrV67cnJkTM9U1ezbUm6n9IT6S2llRS4B/AU6dQzwLgOOAt2XmzRFxCY9NOQGQmRkRLS2mZ+YGakmIiYmJnJycnENoNVNTU+w7/uyGu8g22n7W/p/T2L6xvpW2rbzXfNT3d1TY59Fgn9un2TWLc4CTgQfh0QchPXWOn3kfcF9m3lz2r6GWPO6PiMUA5efOUj9N7Ql9+ywtZZKkLml2zeIXmflIbXYIImIBtessWpaZP4yI70fEMzPzTmqjk9vLazWwvvy8thxyHfDWiNgInAjs7qf1isbnV0jSMGo2WfxPRLwDOKQ8e/stwH/N43PfBlwVEU8A7gHeRG2U84mIWAPcC7ymtP0ccBqwDfhZaStJ6qJmk8U6YA2wBfgLan/APzLXD83M26hd6NfoN9ZAyllQ58z1syRJ89fsjQR/DfxreUmSRkyzZ0N9lxnWKDLz6W2PSJLUd1q5N9Q+BwOvpnYarSRpBDR16mxm/rjuNZ2ZHwBO72xokqR+0ew0VP3N+x5HbaTRyrMwJEkDrNk/+O+r294LbOexU1slSUOu2bOhVnY6EElS/2p2Guq82eoz8/3tCUeS1I9aORvq+dRuvQHwCuAW4K5OBCVJ6i/NJoulwHH7bkkeEe8GPpuZr+9UYJKk/tHsXWfHgEfq9h8pZZKkEdDsyOJK4JaI+EzZfxW1p9lpQDTeHXf7ei+TkdS8Zs+Gek9EfB54USl6U2Z+o3NhSZL6SSsX1h0KPJiZ/xYRT4mIYzLzu50KrJe2TO+ufEKeJI2SptYsIuIi4ALgwlL0eODfOxWUJKm/NLvA/UfAK4GHADLzB8CTOhWUJKm/NJssHikPIUqAiDiscyFJkvpNs2sWn4iIDwOLIuLNwJ/hg5CaUn8WkmcgSRpUlckiIgK4GngW8CDwTOBdmXlDh2MbOo2nr0rSoKhMFpmZEfG5zFwBmCAkaQQ1Ow319Yh4fmZ+raPRjDhHHpL6VbPJ4kTg9RGxndoZUUFt0PGcTgUmSeofsyaLiPjtzPwe8NIuxSNJ6kNVI4v/pHa32Xsj4lOZ+SddiEmS1GeqrrOIuu2ndzIQSVL/qkoWeYBtSdIIqZqGem5EPEhthHFI2YbHFrif3NHoJEl9YdZkkZkHdSsQSVL/avbeUJKkEdazZBERB0XENyLi+rJ/TETcHBHbIuLqiHhCKX9i2d9W6sd7FbMkjapejizOBe6o238vcHFmPgPYBawp5WuAXaX84tJuJI2v++yjL0nqpp4ki4hYCpwOfKTsB3AKcE1pcgW153wDnMFjz/u+Bji1tJckdUnUHlPR5Q+NuAb4R2oPUPpr4GzgpjJ6ICKWAZ/PzGdHxFZgVWbeV+ruBk7MzB81vOdaYC3A2NjY8Rs3bpxzfDsf2M39D8/58K5YseTwltpvmd59wOP37NnDwoUL2xLXoLDPo8E+t2blypWbM3NiprpWnsHdFhHxcmBnZm6OiMl2vW9mbgA2AExMTOTk5Nzf+oNXXcv7tnT9V9OS7WdNttS+8Zni9cdPTU0xn9/XILLPo8E+t08v/iKeDLwyIk4DDgaeDFxC7cFKCzJzL7AUmC7tp4FlwH0RsQA4HPhx98OWpNHV9TWLzLwwM5dm5jjwWuDGzDwL+DJwZmm2Gri2bF9X9in1N2Yv5s4kaYT103UWFwDnRcQ24CjgslJ+GXBUKT8PWNej+CRpZPV0Yj4zp4Cpsn0PcMIMbX4OvLqrgQ2AxtNnfb63pE7qp5GFJKlPmSwkSZVMFpKkSiYLSVKl/r7yTE1zwVtSJzmykCRVMllIkiqZLCRJlUwWkqRKLnCLLdO797srrYvjkhqZLIaUT9OT1E5OQ0mSKpksJEmVnIYaUfXTVOev6GEgkgaCyUKVvDpcktNQkqRKJgtJUiWThSSpkslCklTJZCFJqmSykCRV8tRZ/QZvFSKpkSMLSVIlRxaat3HvWCsNPUcWkqRKJgtJUiWnodQyF8Cl0WOyUFtVJZLGNQ1vUigNBqehJEmVuj6yiIhlwJXAGJDAhsy8JCKOBK4GxoHtwGsyc1dEBHAJcBrwM+DszPx6t+NW/3FUInVPL0YWe4HzM/NY4CTgnIg4FlgHbMrM5cCmsg/wMmB5ea0FPtT9kCVptHU9WWTmjn0jg8z8KXAHsAQ4A7iiNLsCeFXZPgO4MmtuAhZFxOLuRi1Joy0ys3cfHjEOfAV4NvC9zFxUygPYlZmLIuJ6YH1mfrXUbQIuyMxbG95rLbWRB2NjY8dv3LhxznHtfGA39z8858MHztghdK2/K5Ycvt/+lunds9bPZj7H7tmzh4ULFzbdfhjY59Ewnz6vXLlyc2ZOzFTXs7OhImIh8Cng7Zn5YC0/1GRmRkRLWSwzNwAbACYmJnJycnLOsX3wqmt535bROVHs/BV7u9ffLQ81FCw4YH3VGsTZjWsWZ002HcbU1BTz+Y4MIvs8GjrV5578RYyIx1NLFFdl5qdL8f0RsTgzd5Rppp2lfBpYVnf40lKmIecCttQ/ur5mUaaYLgPuyMz311VdB6wu26uBa+vK3xg1JwG7M3NH1wKWJPVkZHEy8AZgS0TcVsreAawHPhERa4B7gdeUus9RO212G7VTZ9/U1WglSd1PFmWhOg5QfeoM7RM4p6NBSZJm5RXckqRKJgtJUqXROT9UA6/Vu936UCapfRxZSJIqObLQ0Jht5NFYd/6Kvftd1OfIQ5qdIwtJUiWThSSpktNQ0gyqbjXi4rlGjclCwueKS1WchpIkVXJkIXWYd8/VMHBkIUmq5MhC6rL5jDQcpahXTBZSE1q54K+df8BdeFe/MFlIfcTkoH5lspDarJt/8FsZ1WyZ3u0tTjRnJgupxwZhNOFaiUwWkgATgmZnspCGyGyjlPNXNN+23eZzexSTWH8wWUiaUbfOAPNU4sFgspA0b/267lK1qD/biMdEtD+ThaSuqkos863v1LHd1I93NTZZSNIczJZ4+uUPfDuZLCQNjd98fO7cj221ftiZLCSpzfrlBIB2MllIUpe1c92lW8nDZCFJHdbJKazG9/7oqsM68jk+z0KSVMlkIUmqNDDJIiJWRcSdEbEtItb1Oh5JGiUDkSwi4iDgn4CXAccCr4uIY3sblSSNjoFIFsAJwLbMvCczHwE2Amf0OCZJGhmRmb2OoVJEnAmsysw/L/tvAE7MzLfWtVkLrC27zwTunMdHHg38aB7HD5pR6y/Y51Fhn1vztMx8ykwVQ3PqbGZuADa0470i4tbMnGjHew2CUesv2OdRYZ/bZ1CmoaaBZXX7S0uZJKkLBiVZfA1YHhHHRMQTgNcC1/U4JkkaGQMxDZWZeyPircAXgIOAyzPz2x38yLZMZw2QUesv2OdRYZ/bZCAWuCVJvTUo01CSpB4yWUiSKpks6gzrLUUi4vKI2BkRW+vKjoyIGyLirvLziFIeEXFp+R18KyKO613kcxcRyyLiyxFxe0R8OyLOLeVD2++IODgibomIb5Y+/10pPyYibi59u7qcJEJEPLHsbyv14z3twBxFxEER8Y2IuL7sD3t/t0fEloi4LSJuLWUd/16bLIohv6XIR4FVDWXrgE2ZuRzYVPah1v/l5bUW+FCXYmy3vcD5mXkscBJwTvnvOcz9/gVwSmY+F3gesCoiTgLeC1ycmc8AdgFrSvs1wK5SfnFpN4jOBe6o2x/2/gKszMzn1V1P0fnvdWb6qi3yvwD4Qt3+hcCFvY6rjf0bB7bW7d8JLC7bi4E7y/aHgdfN1G6QX8C1wItHpd/AocDXgROpXc27oJQ/+j2ndnbhC8r2gtIueh17i/1cWv44ngJcD8Qw97fEvh04uqGs499rRxaPWQJ8v27/vlI2rMYyc0fZ/iEwVraH7vdQpht+D7iZIe93mZK5DdgJ3ADcDfwkM/eWJvX9erTPpX43cFRXA56/DwB/A/y67B/FcPcXIIEvRsTmcpsj6ML3eiCus1BnZWZGxFCeQx0RC4FPAW/PzAcj4tG6Yex3Zv4KeF5ELAI+AzyrtxF1TkS8HNiZmZsjYrLH4XTTCzNzOiKeCtwQEd+pr+zU99qRxWNG7ZYi90fEYoDyc2cpH5rfQ0Q8nlqiuCozP12Kh77fAJn5E+DL1KZhFkXEvn8Y1vfr0T6X+sOBH3c30nk5GXhlRGyndifqU4BLGN7+ApCZ0+XnTmr/IDiBLnyvTRaPGbVbilwHrC7bq6nN6e8rf2M5i+IkYHfd8HZgRG0IcRlwR2a+v65qaPsdEU8pIwoi4hBqazR3UEsaZ5ZmjX3e97s4E7gxy8T2IMjMCzNzaWaOU/v/9cbMPIsh7S9ARBwWEU/atw28BNhKN77XvV6s6acXcBrwv9Tmef+21/G0sV8fB3YAv6Q2Z7mG2lztJuAu4EvAkaVtUDsr7G5gCzDR6/jn2OcXUpvb/RZwW3mdNsz9Bp4DfKP0eSvwrlL+dOAWYBvwSeCJpfzgsr+t1D+9132YR98ngeuHvb+lb98sr2/v+zvVje+1t/uQJFVyGkqSVMlkIUmqZLKQJFUyWUiSKpksJEmVTBaSpEomC0lSpf8H57DMUi4X7bUAAAAASUVORK5CYII=\n",
      "text/plain": [
       "<Figure size 432x288 with 1 Axes>"
      ]
     },
     "metadata": {
      "needs_background": "light"
     },
     "output_type": "display_data"
    }
   ],
   "source": [
    "data['days_exposition'].plot(kind = 'hist', bins = 80, grid = True, range = (0, 500))"
   ]
  },
  {
   "cell_type": "code",
   "execution_count": 70,
   "metadata": {},
   "outputs": [
    {
     "data": {
      "text/plain": [
       "<AxesSubplot:ylabel='Frequency'>"
      ]
     },
     "execution_count": 70,
     "metadata": {},
     "output_type": "execute_result"
    },
    {
     "data": {
      "image/png": "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\n",
      "text/plain": [
       "<Figure size 432x288 with 1 Axes>"
      ]
     },
     "metadata": {
      "needs_background": "light"
     },
     "output_type": "display_data"
    }
   ],
   "source": [
    "data['days_exposition'].plot(kind = 'hist', bins = 80, grid = True, range = (40, 120))"
   ]
  },
  {
   "cell_type": "markdown",
   "metadata": {},
   "source": [
    "При увеличении гистограммы видны пики при значениях 45, 60, 80, 90 и 115 дней. Возможно это связано с автоматическим снятием объявления при отсутствии продления."
   ]
  },
  {
   "cell_type": "code",
   "execution_count": 71,
   "metadata": {},
   "outputs": [
    {
     "data": {
      "text/plain": [
       "16053    2.0\n",
       "16212    2.0\n",
       "13061    2.0\n",
       "17018    3.0\n",
       "4665     3.0\n",
       "        ... \n",
       "23651    NaN\n",
       "23674    NaN\n",
       "23684    NaN\n",
       "23694    NaN\n",
       "23696    NaN\n",
       "Name: days_exposition, Length: 19512, dtype: float64"
      ]
     },
     "execution_count": 71,
     "metadata": {},
     "output_type": "execute_result"
    }
   ],
   "source": [
    "data['days_exposition'].sort_values()"
   ]
  },
  {
   "cell_type": "markdown",
   "metadata": {},
   "source": [
    "Вывод: Медианное значение продаж - 93 дня. Быстрыми продажами можно считать продажу квартиры до 10 дней, необычно долгие продажи растягиваются на года."
   ]
  },
  {
   "cell_type": "markdown",
   "metadata": {},
   "source": [
    "#### Зависимость цены от разных факторов"
   ]
  },
  {
   "cell_type": "markdown",
   "metadata": {},
   "source": [
    "##### Зависимость цены от общей площади, площади кухни и жилой площади"
   ]
  },
  {
   "cell_type": "markdown",
   "metadata": {},
   "source": [
    "Чтобы определить взаимосвязь двух факторов, необходимо определить коэффициент Пирсона и построить диаграмму рассеяния."
   ]
  },
  {
   "cell_type": "code",
   "execution_count": 72,
   "metadata": {},
   "outputs": [
    {
     "data": {
      "text/plain": [
       "<AxesSubplot:xlabel='total_area'>"
      ]
     },
     "execution_count": 72,
     "metadata": {},
     "output_type": "execute_result"
    },
    {
     "data": {
      "image/png": "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\n",
      "text/plain": [
       "<Figure size 432x288 with 1 Axes>"
      ]
     },
     "metadata": {
      "needs_background": "light"
     },
     "output_type": "display_data"
    }
   ],
   "source": [
    "data.plot(x = 'total_area', y = 'last_price', alpha = 0.3, style = 'o')"
   ]
  },
  {
   "cell_type": "markdown",
   "metadata": {},
   "source": [
    "Вывод: На графике видна аномалия в диапазоне 30.000.000.000, для более точного построения графика отфильтруем такие значения."
   ]
  },
  {
   "cell_type": "code",
   "execution_count": 73,
   "metadata": {},
   "outputs": [
    {
     "data": {
      "text/plain": [
       "<AxesSubplot:xlabel='total_area'>"
      ]
     },
     "execution_count": 73,
     "metadata": {},
     "output_type": "execute_result"
    },
    {
     "data": {
      "image/png": "iVBORw0KGgoAAAANSUhEUgAAAXQAAAESCAYAAADtzi4UAAAAOXRFWHRTb2Z0d2FyZQBNYXRwbG90bGliIHZlcnNpb24zLjMuNCwgaHR0cHM6Ly9tYXRwbG90bGliLm9yZy8QVMy6AAAACXBIWXMAAAsTAAALEwEAmpwYAADUQklEQVR4nOz9e5Bc55neCf6+c897VlbWDSgUCgAJkBQoUCIotiQ3RXW3xmp5Ijx2yOOmd73r9UQo7PXOzsR6InZmYmMmdmIj5r/ZcNjh8SjGjp6eHWlty71td5stW7ZEsbslUQQvIMELAAJVKBRQVVlVec889/PtH19mMqtQV1wIkMonggSQec7Jc/nO+73f+z7v8wopJSOMMMIII3z6oT3sExhhhBFGGOH+YGTQRxhhhBE+IxgZ9BFGGGGEzwhGBn2EEUYY4TOCkUEfYYQRRviMYGTQRxhhhBE+I3ioBl0I8U+EEBUhxKUDbPv/FkK83fvvihCi/gmc4ggjjDDCpwbiYfLQhRAvAG3g96SUZw+x338KfEFK+Tcf2MmNMMIII3zK8FA9dCnlq0B1+DMhxCkhxA+FEG8IIf5ECPHEDru+BHz/EznJEUYYYYRPCYyHfQI74LvA35JSXhVCPA/8Q+A3+l8KIY4DJ4AfP6TzG2GEEUZ4JPFIGXQhRBb4CvDPhRD9j+1tm/0O8AMpZfxJntsII4wwwqOOR8qgo0JAdSnlM3ts8zvA3/lkTmeEEUYY4dODR4q2KKVsAgtCiL8CIBTO9b/vxdPHgJ8/pFMcYYQRRnhk8bBpi99HGeczQohlIcR/AvzvgP9ECHEReA/4i0O7/A7w/5UjicgRRhhhhDvwUGmLI4wwwggj3D88UiGXEUYYYYQR7h4PLSlaLpfl/Pz8w/r5EUYYYYRPJd54440NKeXETt89NIM+Pz/PhQsXHtbPjzDCCCN8KiGEuLHbd6OQywgjjDDCZwQjgz7CCCOM8BnByKCPMMIII3xGMDLoI4wwwgifEYwM+ggjjDDCZwT7slyEEA7wKkoky0AJY/2327axgd8DngU2gb8qpVy872c7wgifMqzUXS4u16l2AkoZi3OzRWaKqXve9n7s9zDwaTnXT8t5bse+laJCyR5mpJRtIYQJ/Cnwn0kpfzG0zf8Z+LyU8m8JIX4H+EtSyr+613HPnz8vR7TFzwY+rYP/QWOl7vKj99fIOQYZ26DjR7S8iG88NXXH/TnMtv3tLy7XWVjvcKPa5fRUltmx9L77PUwc9hrv9jfudSx+Eud5LxBCvCGlPL/Td/uGXKRCu/dPs/ff9lngLwL/S+/vPwB+Uwzp347w2UV/8LtBTDlr4wYxP3p/jZW6+9DP64eXVvjeazf44aWVh3I+F5fr5ByDnGOiCUHOMck5BheX6/e07fA9b3oBugYfVTrUu8Ge+z0s9J/F3//xVRY22oRxsu813u3v3I+xeJhn8ajhQDF0IYQuhHgbqAA/klK+tm2To8BNACllBDSA8R2O8x0hxAUhxIX19fV7OvERHg08ioP/UZlkqp2AjL01qpmxDaqd4J62Hb7nbT+mmLJImTqLG90993sYGH4WmgCB4O2bDaodH7i/53q/xuJhnsWjhgNVivaaSTwjhCgC/z8hxFkp5b6NnXc4zndRHYk4f/78SBXsM4BqJ6Cc3dqDJGMbbLT9h3RGW19sYPDnxeX6A10yb1/uC6DjR4Pfp/fvUsa6Y99SxjrwtsP3POcYeFGMY+o0vXDP/R4Ghp9FPmXiR8lg8ill7Pt6rvc6FvvP773bDSxd48mZwuDcOn6EAH54aeWRDi0eiuUipawDPwG+ue2rW8AxACGEARRQydERPuPoG6JhPGyDcr89rIOEb3ZaFWy0fJbrLi0vJJGSlhfS8iLOzRbv2P/cbJGWF+277Urd5cZmhx+9v8qbS1XG0hZukFB3AzKWsedvPAwMP4v58SxukCBJaHrhfT/XexmLw8/v6aMFml7EL65vstH2aXkhy3WXjZb/0Fd9+2Ffgy6EmOh55gghUsA3gA+3bfavgP9j7+/fBn480iz/1cBBDdEnifs5yRw0fLPTcn+2lKacMUlZOhttn5Sl75pYmymm+MZTU3tu2z+XqbyDoWk03JDr6x2m8hZxIsmnjD1/42Fg+FmUMhbPHCsiJUjkfT/X4bG40fb5s4/W+cnlCrWOv6/hHX5+5azD8ydKFFIG7yzXSVk65Yx6no9SaHEnHCTkMgP8L0IIHTUB/DMp5R8JIf474IKU8l8B/xj4X4UQHwFVVCOKEX4F0DdEF5frbLR9ShmLXzs5/lANyrnZIj96fw1gC0vh107ekdbZFxeX68SJ5GqlRcuLyDkGE1nnjvDNbst9N4z55tmZO467GxtjppgafPeTy5Ut3w0bnaxtsLjRZb3t0w1i/rPfPP3IGPFhbH8Wpi44Uc5uMeT3iyXVH4uvXK7ws2ublLMWXzk1jm3o/Oj9tT0nj+3Pr5Sx+fKpMhttn2+eneF7r93YcdX3UaX1SIVh9jXoUsp3gC/s8Pl/M/R3D/gr9/fURvi0oG+IHhXcz0lmYb3DUrVL2tbJOyZeFHNlrYUXbu1RfpgY+DAtThOC165v8vK7K3z5ZImnZgpcXG6QcwzKWRVj7hujYaNTytiUMjaJlGy0/Ufq/g9jv2cxfC+2X+/dGvWxjMVvPDG55VnA3jmU3Z5fP25+6VYD29B4ciZPKaOewXKty1K1y0whdce593/vkzb0j1qT6BFGuC+4X5NM3Q3QNEiZ6lVJmQZeGFN3t8bjD7Mq6HvaYSx5Z7lBytIoZ2yurLW5uNzkzFRux4TuYSaNRwl7PYsHkcC+m+ToTs9vue5CInFMnc/PFvnlQpXXFqo8Nz+GbehcWWtzZip/x7m/cnmNMOa+TVKHwaj0f4QR9kAhZZIk4AYxUkrcICZJ1OfDOEgMvI9+onBxs03K0kiZKvYdJZI4kVRaW+O9/YTuTN7htYVN/s17K7xxY5Ob1e5Dz1fcK6qdAD+KefNGjZ9eqfDmjRp+FN8TRfBucig7Pb/huHk5a/NrJ8fJOwbv3mqQsnSOl9IcHdv6fDO2waXbzYdG5R156COMsAdOTmRxTJ2NVkDTC8nZJkfHshzZJbF5EA+sb3BaXkS+59V5YULONslY8g5Psr/0v7jc4PRUjkrTZ6MdUOtGvPTcsUc23HIQCCSvL9YppiwV0goTXl+scf548a6Pebc5lO3Pb3vcvJSxtsTVf3hpZccVk5TsGG//JKi8Iw99hBH2wLnZIoam8fhUll9/fILHp7IYmnZPXnGfjWFoAjeMcIMYN4yZL6eZzNvomriDNQSSnGMwV8pwfr7En//cNM+fKLHS9O7btT4cCKQERI8UJ6T6N3dfaH6Y1dJe2M/T343h9fTRwkOj8o489BFG2AMHTbAehqnxMRtDDNgYn5/NY+oahqbx0nNzrDS9Lb/3k8uVh+b1PUhI4EsnSixVO2oF5Bh86USJRMod7yl8nGwUvSNIBKWMxUzeYaXp3bdE5H6e/m5jA7hvLKvDYl9xrgeFT7s418WlGi9fWmGt6TGVd/jW2RnOzY097NMaYQjbDYIp4Jc3agd+Zgc10juJOS1Xu5RzNhL23fcgv/HDSyu4Qbxled/yQlKWviMt8lHF9uutdQIcU7/jurwwGiQWh+8pmmC2mMKPEn65UEUIeG5+DDdIuLBY49n54oFEyg7zbB81Bcy9xLlGHvpd4OJSje++ukAxY3CkkKLhhXz31QW+8wIjo/6IYDsd7v3bDX70foXHpzIHemaHodNtZ2qEccJitUu1G/DlU+X7wnK4n9z6h4WVussPLtyk2g0IY4mpCwwhyGcsZotbr8vUBTlH38IgqXZVovTJ6TxXl6qMZUyQgqVNF4SkmDHYaAXMlTJ7smUO82zvli31sKi8oxj6XeDlSysUMwZjaRtN0xhL2xQzBi9fWnnYp/YrgYOU4m+v3PxgtUUhbRCE8kDP7DBCT9ulBhY3uhQckyiRe+57GBGxmWKKc7MFPlxt8vK7t/lwtcm52cKnKiH6yuU1FqtdNKFRSJloQqPqhhhC3hHvltyZWAxjSRgnALS8CMfQcUyNlq9i1wXHpOWHg+13kntYqbv87s8WePdWnauVFvVu+MhWfd4NRh76XWCt6XGksPVFKjgmtxuPlq7DZxEH9a62c5Hr3YBSyqQbRbS9kErTpxOEuFHMSt29wzAehsu8nR/e8sOeh2nsue9hONhqCd/giek8zx4v0fEjLi43mMw7hzbqDytceOl2k4KjpBAAUpaOlCbLdY+//fXTW7bdiXNv6oJ+srQvSoYU5GwThKThhhScjxOP2xOR/bFT7YRMZG38KOHtm3WeOVakmDY/9fkIGHnod4WpvEPDC7d81vBCpvLOQzqjXx0c1HPezlAopi0aPfrf9Y0OYSKVF2gaO3rFw/tXOwFvLlX50fur3Njs3LHtdraDoQnq3Yj58exgm51YDncrmXsv3OZ+uLDtRxwppGj7Ed99dYGLS7VDHedusIXN0seA1bIVOzFISmmLUtam5YXMlTLUOiF1N2BuPMVE1qHeiSjnrF01hfr3UBlz2eP/ayxutj8VBVoHwcig3wW+dXaGeiei1vVJkoRa16feifjWpyg59WnFQY3gdoPw5HSORjei40WYmiCIYrp+zJdPlXc0jP39b1a7vLVUo+GGGJrGVN65YwLYTpM7PZXlxEQGUxd7CpYdpgDm+nqby6utQfFNtePflYLk/QgX3m3zkKePFqh3I9wwUkVaYUS9q2h+27ET9fCF0xOUMyYXblR5Z7nO6ckM548XSSTMFB2+88IJjhRTu1IV+2NnvpzGDWPcIMbWNdZb/qe+QKuPUcjlLnBubozvvKBejtsNl6m8w3/87LFRQvQTwEHL37dTyp6YyfP0kTy/+/MbtIKQsbTNVx8rc3Iiy0bb5/XF6h2MhG88NcXv/myBKJGkdA03DHnlyjphlHBlrcnf+frjA4MxnARbqbu8cnmNCzeqSKkM2TeemqLS9Pjdny0MQh1fOj5GxVMGfa9E50rdZanaRdcExZSFFya8fbPBY5OZHQuc9sK9hgvvRXvlxTOTbHQCqm2fhhtg6honJjK8eGZyx+2HxcpeuVzhX7+zQjlr8fTRArah0/IiXjyz9XfP7fH7/bFTytg8c6wwEDcrZaxHSqHyXjAy6HeJc3NjIwP+EHAYtsdOTINQsoX+V+0E/HKhSiG1s4E6Pp7hRBl+fm2TSjMgY+uYpuC9201+8OYy3/7i7I4StznH4GunJwfn9/6tOr//1soWZtTvv7XCX/7CDKFkT477xeU6Z6byXLxZY7XhEfckAtpewG8fclXYDxeOpT/ODxwmXHgv2iszxRTf/uLsoeh8/fu5sNFmImch0HhnuckzxwqDldVBDfHw2CmmLR6f0pguOJ8ZYw4jgz7CpwzDnve1Spu6G1BImYOQyX4v5vYJ4YOVBkLAkzP5QWwaFCNjLGNz6VaDlbpLECVkHRPL0AiimFLGotr27zAouxm8f3phmYm8PTCk/T9/eaPGf/Wtp/Y852onUInEoTa9pi7ohslBb9sA3zo7w3dfXQCUZ97wQuqdiP/42WMH2v9euwIdls7Xv59RIsk7Jv1WxYsbXZ6ZKx4qkfkoSj3fb4wM+gifCO5noUV/v0rTZ7rgDDz1gyz9t7/UQZzw3PzYQBIVwI9ifn69ytfPTPL52SLvrzRpdAOOjwtAx48S5ssZwji5I4a9m8Fba3k8Npnd8vlBQx2ljMVr1zcZz1rMjqUBtcpIZHJoVcJ7DRduD3lVOwEfrDQI4oQfXlq57zKx/fvZZ7WkTAPH1Gh64V0lMh81qef7jZFBH+GB435rXsO9L/372/QrMEEZj8XNNm8t1XBMJW9bztp8/miB1xeqrDQ8Tk1kOVrMouuQCO0Og7JbjH8qt3OoI2sbgwYJAgm9/w9Peudmi7z87grljI2UEi9McMOYz8/m70qV8NzcGJN5ZzDBrjQ9Jnegbu6479AK585qzfiO59rPJ1y63URKmBtLUUibSMQdpfs7TQb9+zk/nuXtm3UgQiZgaOJTV1j1SWDEchnhgeOwlLuDsCi2s12qHZ/Lq6p7zGGYFzuxWaJYMpGzePumMnhnjxZ5fCpH2jKZzqfQNEmtE1LK2ncwI3YTbPqr52fvYEat1j1SloEbxGgCLtyo8/piDU2ILUVGM8UUXz5ZQiJpeiG2ofHMMZUYfJBt9XbCMPvkneU6hZTB8ydKlLPOHc+1Xxn66pUNVmoel1dbfP+XN/k3763SdENeX6xx4UYdTbDrOfTvp6kLPj9boOWGvHtLPRfFSx9hGCODPsIDx2H41gc1Nlt54j5v32zQ8kNmCs5dGajVpkuUSAqOxZMzeXK2NeAolzIWX5gb46mZLH4c44UqTLM9ITp8vO2Vj7/5uRm+88IJsrbB7YZL1jY4Pz/GUzOqQcLSpksxZTGWMVmqdu4wji+emeJEOcsX58Z4Zq6IqWt3TbW7V077TDHFN8/OcPZogS+fKm8JVw0/14vLdZaqHerdCF3XkFLiWBordZ+fXdtgLGNSTFksbbq7nsPw/ax1AjRN47efnuEvfP4Ijqkf+DnfLdXy04ZRyGWEB4792nsNx9UPGkoZXvpfX+8ghERKwYly7lDhF2DAZnn2uI0mxGCCcAyNpqu60+ua4P/yGwfr27lbnHY7M+of/uQql1dbdIKIpc0u8+Npso5Js1e0NpxsnCmmOFqw+acXlllreUzlHP7q+dktoY2dchQ7fX7QxGafLvjuLZU4Pnskv4UmuNNzXa51WWt6fO+1G7x3u8GNape8Y6lkcpJgaRqb3YDaik/aMpjM2QRxvOs5DN/PH15aYbrgHDrM9iBCfofFgxTrGsbIoI/wwLFfe6/hl6zjR5zaljzc6UUfTm6uNl1mCg4nyrlBCOKw0rLDxqnPU/5gpUkiVYn6bmyIe1HjG+aWG5rGlUqbufE0471ruFVzWW26fO+1GzS6ARcWa0wXHR6bzA5oj+Wcw2Sv2Gm7wTo3u3N/0q4fcnWtRZQojfX58SymLu4ok//Bm8ssrHcopg3afsS/fPs2/+6DCr/15BQvnpm847ku17q8sVjn/PwY5ayNpWustwJMTcM2dYSEjW6AgUAzdNwg5upah8cmM8DO9QTD9/e92w2ePlogx8cTyEGe893kW+6nAf4kJ5RRyGWEB4792nsNL/vrbnDg6sn+0v+bZ2c4PZXfss1hGRDbY9+mrnGinOU//Y3H+ebZmT1lc3cKD+23xO9zy6UUeFHM0TGHKE64sdllrpThZrXLhcUaU3mHctbmlwtVGl6IqWl3VHjuFkJ5+dLKHZ9HScJ7K02aXoSpaXhhzC+ub7Jcd+8ok6+2fcYyqgXfasPHNgyklFxZaw0M+fBzXWt6nJ8f41gpjSYET84UKKYNVpsefhgTJZIwkmi6xuxYiiBOCJMYyc7VtNvvr6VrvL6oqmQP85wPE/Lb77neDe6XbMNBMPLQR/hEsF97L1AvWSFl9jr0HFwm9n5Iy26nMwqUvOtPLld29dAuLteJE8nVSouWF/V0QhxeuVwhjOWeHlm1E3B0LDXoLRpECWems7S9hERKVpsuz84XmSsp77UbxhQck0rTJ9vzMPu0x12pkk2PZ4+Xtnxeafo4ps5z8yUWN7q0/FAVVWXMO8rkwzihYFks1DrYhk4Ux6w2fTo9VtArl+Gl5+cH+33vtRtbzqOUsfjtszP80bsrdMOIbhCRdwxiKZFIjhZSpC2dlh9tWQX1veM/ubqOpWs8OVMYTBC/uL7JByvNgSzx8HPezas+bHPt+924+l65+4fByKCP8FCw20t2ciI7iKXvV/wx/AKbOnihauV2twUjw6Xmaoms78lxX1jvsFTtkrZ11Q8zirmy1sINI752enJPg/BxGbpFKaOM7nDDiu3GsZi2cIOIOPpYyapf4bkrVTLv3PH5ZiegnLUoZexBMjORd/YxLWUsTF3Di2K6kcp33G646EKjlDYRCH5+vbpvTH0i5/DSc3MA/Is3l9GFIGVqhImk0vY5f3yMrz4+MWjSMRyeEAiEYKCIWMpYfOlEiXd2GBt7hTUOO+HfbwN82AnlXjAKuYzwULAbva/vVX3z7Ax/7fnjBw539HnjXz8zues+B8VBl8h1N0DTIGUaCCFImQaaBpvt/Zf4e10/3Cnc9ezcGA03Io7lHYJwux3rW2dn7vhc1wSTua33Zifjcm62SClrU+uEaMBa3SNOIOvoTOXTCA3GMxYXl+uD8NL19TavLWxys9rdch4vnplkLGPx5x4rEyeKd553TDp+xB+8fZt3btYHYanhe593TATagG0EYBsaL5yeuGNs7PXMDttj9DCiaQfBfs/6fmJk0Ed4KDjsS7YdDzIuedCYayGl4stuECv1wCAmSWA8u79B2O/6txuBiZzNl06UOD6eHtAev/PCCc7Nje16rHNzY3d8/tJzx3ZsQr3duPR1V56bHyOfMumEEZNZkydmCug6uEHCmek819fbg4n1sckcp6dyXF5rca3S3nJN1U6AH8WcmsyQtnVq3QAvTMjbBhI5iFMvrHcG976viigTBmyj3Qzhfs/sIE5CH/fbAN/rWD8M9g25CCGOAb8HTKF6un5XSvn3tm3zIvAvgYXeR78vpfzv7uuZjvBIYzj8cZAKQDhYGfZucdF7XRbvxWIoZSxu1VzW2x4tT4UbvDDGNLQt5e0nJ7I4ps5GK1BUQwlxovRVXluocnoqu6W/5cly5g6aZj+8VO0EWyajVy6v8eZSlc12wHjW4sxUjvG0yZIfKQnY8TSTQ4JalabHW0s1Fja6ICVvL9V4Zm7sjt9YXG/z4WqT2w0P29T56slx/uIX7uTT95/PS88f56Xnj/P9125wpceMsQ2dM1N5TF3QcENmCqlBOGGulGEsbd3R67SUsXhrqcZkzmEiJ7hGC9tQeuRt/2OxtFv17l2xjQ4T1tiPwfIgNF8+KcmBg8TQI+DvSinfFELkgDeEED+SUr6/bbs/kVL+h/f/FEd41DEcv9SEOFA5+GGbL2+Pi95LXHI/GtlM3uEP31bKiJoQvL/SJIwlv312asv1nJstUmn6PD6VxY9iXl+sISX82skybhBzea2JF8acnMhyspwZUAg1Aa9d3+QHF26Stg2eOfZxY+MfvLlMsxNQdUNKaZtSxuJ2zeNPP9oknzKYKTggBRdu1NloBXz7/DEqTY/vvrqAZQgVZ5eS1xdr2KbG1dXWoLFy2wv540trWIbgiekcCfDurRZfPuUdSPq2n+gdjkMXU9aOnvH2ifXcbJFXLleouwHFlEXDjdAFFNL2oLPTTknxPttoP4/2oHHyg1II9zLAnxSn/G6wb8hFSrkipXyz9/cW8AFw9EGf2AifHgyHP5aqnT0rAA9DCdsrrDK8LN5o+/zZR+v85HKFWsffl162X7hmpenx7HyRgmOxtNmlkDJ5YipH0413jc2+e6tB3jF4cibHUrXD9Y02KVNnLG3xzbMzrDQ9co5BGCe8s9xEExqJlNQ6AR9VOtS7ATnHpNr2+Wi9TTFlkbYN0pZJmCRU2x5BlJC2TNK2QTFlUe0qr77ftMKPYhxTZyxtk7VNPlxpU+0q/fGcY/LGUp1ixqSYttnoBIdqbrFb2ODEROZA8eaZYoqXnpsjTqDS8slZBuNZC11og85O/aT43YQnDhrWuNdQ3f2mNN5vHIrlIoSYB74AvLbD118WQlwEbgP/hZTyvR32/w7wHYC5ublDn+wIjyaGwx8tLyLf85p3qng8CCWs7wH98NIK0/kUJycyA0ZG/1j9F/gP3lrm339YwdQ1Tk1kcMNk36KN/cI11U7A7FiauVKGlh/ueT19T67aCdCE4J3lBilLI++YuGHEz65t8uKZycFvvr1UJ0kkK40uN+supqZxtJhmcaNLKWMTxgmdMMYxP/a1olgSSqWB3odjajTcmGonYGGjgwAWNjtkbZNiyiRtaVS7ARM5GxUpVX1Vx9MWCEG3Rz08THOLYa+1/4yur7dZqnY5M5Xn6FhqTwbJsChYf7/HJ7MU0+YgTt0PbdyNx3uQ/e41VHe/KY33Gwc26EKILPAvgP9cStnc9vWbwHEpZVsI8S3gD4DHtx9DSvld4LsA58+f36GT4GcHj/Ky7F6x/doEchD+uKN5L1s9tv1eqOEl8UzBoemFvH2zwTPHCpQy9h3e341qlzPTuUEnn48qqvJwrxdsv3DN8Pf7Xc/wMV+7vknK0kiZ6rUSaJSzignSP+Zq02O95eGYOildJ5KSW/UuQa+bvalrZEwdL0wGzZQNXWAKga59LEblhQmmrhQLO36EBLK2gR/GrIUxWdugmLa2NFYupi06YYyl66QsNWHcTS/cvuhWtRsQxpI4TnhrqYoXFjgxkdkz3rzTpPBJapPfK4Xwk+SU3w0OxHIRQpgoY/6/SSl/f/v3UsqmlLLd+/vLgCmEKN/XM/0U4VFflt0Ldrq2jU7IcrW7Y/Pe/eh4sPWFGvaATpRzSCkQQnJ9vXPHsfqFPcWUpWiDlk7K1Kk0/T1lZfdjMQx/v9/1DB9zsxMgEwaMFzeMOTOdo9oJBsesdfxenwp1vjlbFdp0fMXiKGVtHpvIUncDun5EN1DVoaWsg2VodIOQrh9RdwNKaQuQPDdfIggTLENHSokfJ6y3Ap6YyW5prPzsXJF6J6Te9SlnrLvuhfvK5TUWq100oVFImeRTNqahU0wbh6KMHoZ5cr9wrwyW+01pvN84CMtFAP8Y+EBK+T/sss00sCallEKIL6Emis37eqafIjzqy7J7wU7XNltULJCUpeOGMc/NjwFyR2bCTN7h+6/fJE4k4xmLybyNoWmDJfrCeoemF/SYDwYnymmqHZ9r620kynj3453VXpFMv/EBqFBEpeXzzFxx12vYj8Uw/P1+1zN8zC+fLHFlrU3TC8nZJmems5i6RsrSB8d8c6nKrZqLpek8MZ3DjxKW6y4SScrS+fYXZwEGGuJtT3WyPzmRoemFbLYDso7B+eNFnpop8M/euIlAcHw8zc16FzeICeKEfMpgOu/w4pmpwfFuVLtMF2zcIGKt5XGinD10L9yVussfX1oliiXdIGIyp8SypDS5dHv7wv3weNAr23tlsNyPquQHiYOEXL4K/HXgXSHE273P/mtgDkBK+Y+AbwN/WwgRAS7wO1LKz3RIZS886suye8Fu1+aG8Raa2k5QL2uDM1M5Ki2XjbZP3Q146bm5QbXfjWoXXUOFUKKYhY0uU3lV2fjEdH5L5aapqyKZq5U2EOEYOnU3QNfEvh7XQeO0jW44aHPXr2Ldbb8Xz0wRxtzBBOm/7H2P9HbdZaMV0PJDShmb09M5jvS+6+Ol5+e3hJ+Gj/eNp5SR/tH7a1i6hhAQxRpJDF86MU7G0ZESwvjjcwtjOH+8dMdxDmMs++cTxpK0pRHFsLDR4UQ5g67Bvb7xezFQgPva8epe9n2U29jta9CllH9KPwi3+zb/APgH9+ukPu34JEt9P2ncy7UNe/fHSqqVWssLWWl6nOt9f3oqy0eVDl6Y4Jg6Xhjzy8Uav/nEnaX0Xhiha4LHJ7NUWi6VloeuicEEcbfoG5Y4kSxVu2garNQ9Fjc6/Ot3VvjKqXFePDO5Iw3T1AVeGO0qQTBMdRw2rjN551BSwurfBk/OFHj7Zp31tpKj3ej46HqKZ44VMXWxZdt7WTGu1F1+92cLVDshlqFR64SMZzUsXWO51qWQsnormbvHbtd7EG2cTxKfFKf8bjDScnkAeNSXZfeCe7m2g7JLsrbB4kZ3ELrIWNqgl+bwfm4Y842nJrm4XMc2Nc4dG7svS/S+YblaaZG2daJYst4KyFg6c+UUV9ZahLHc4ikPGxvl/U7ueB47eXgnyxle/WiDatsnjBNMXeNqpY0hxJ5SwuWs0m9/5liRP3qnixCSKGagezKs0XKvRVg/en+NaidgImujC0GtG9D1Q6JEUnPDQfPmfoelu8Fu4+P1xSrPzZc+kyHM+42RQX8AeNSXZfeCva5tv/jnQdklw8JRLS9EDrFotu/3ILylvmHpUzCv19tkbJ1IJkSJ5MZml7YfcaveZX48s6tXOZaxdrwX28/5+6/dYGFd8fcLVi/UtN4hbWlbGjpsv18fV1RazI+nFX1Ro6d7slXjvONHhHEyUFg0NMHpqa2TxW7oT3ApU+fyWotYSnK2QZQkBLHkaDHNbz05RTeI+Hv//irHS2lOTGQOPbnu2ghFcKDipRFGBv2B4VFelt0rdrq2g1Tg7efd7/b9t87OcHG5set+9xsfGxZFWXSDBEMTIOHqWpu0pTORtVlvB9yub/LVx8rkhvb3o4R/98Eac6U0YaxkeK+utvj2+WM7jol3bzUopo1BYjdlGsi0ZLMd7CklPNyseb3l0/QizkxmBxrnJyYygyTrDy7c5P3VFkEY44YRCWDp2oE86j7HvumGdIOYjGWgm3Ct4vHkkRxfP6NUQT6qdNA1aHoBbuAcOizSf/61bkCl6bPZUfmQ46U7VSP7E9tnmR58NxiJc41wX3CQCrz9qvkOIzK13VDcz56RfWrbRNah68ckMqETREQ9rvixsQx+JJnI2pSzFpdXt7I73ljcpONHA1qfJjQWq11euby24+8JAchtaSopyDrGrtc9fK/eWa4zXXD4C09PU845hLHconE+U0xh6ipM4kUJ+ZTF8fEM6+2AVy5X9r0fpYy6xvGczZmpHJau4YYJliEoZyxKGYvFjS4pU6eYsgbaLIcVS5sppjg3W+DKWovNjk85a3JmKkckxYAWO0w1nOl1avos0oPvFiMPfYQDYy9v6KDMnp0KS7Y3kTiskNduq4NzswVWmt6hvbfhsJIXxmhCstZSnZQem8yia6LHMc+SSMnPrm3S8sKBF7242eXERGZQGJSy9D1pfWeP5Llwo07Hj2h4IU0vIkkSvna6fKCVXjeIKKQcimmbkxNqrdCPn/fv8Y+vVMhaBnOlLNmedko3CHn3VoOX9rkf52aL/OCNmyQxqlGFH4OQTOcdql3F9+9X1HpRvEWbZac+pXt51CtNj+dPjG/xxlteOKDFDucdXu4lkSdyNvPj2S21DL+qXvrIQx/hQNivWOqwBRf3s/hquHPQn1xd52qlRbXj8/3Xl+76+MpbLHJiIsPnjhb5zScmODWRodoOWK538cKQxc0ObpDw5ZOlLV700bEUAsH19RaXbte5vq4aQe9G63vxzBSllMmNaoemF+IYgrG0RSTFruc7fP+m8ymaXsTbN+uDgqp+E+7+No5hECWS6xtt2r0wDlL0ipz2h0Bwo9bho0qbWleFYBxLY6Xhc7PaJWOp9oFukGzRZtnep3S/Z76bDK6EQRGSYgA1qHZCJrI2fpQMrn2v1nK/Chh56CMcCPsVSx2W/XI/i6926hz0zs0GxbR518ffyetPWQYrdY/pokPBMWm4ITc23IEueR+L623++NIaxYxJxtTpBDG3ah6/fXZqx9+aKaY4OZklkvKOxs27ne/w/Ts5keHPPtqg1g1YrnU4NaEqRMs5a7DN8VKajyodLAPWml10LUPDCzl/vLjvvXjlcgVDExiaYCrvYOiClh9jdSNeeLzMatOlkDKpuwFnpnJ3aLPsdM67PZOD0GL7x+kb85RlABGLm20e13O7OhG/ChgZ9BEOhP1CKodl9tzP4qvhzkGg/gySmCDW7/r4OxmfRjegG4TcrEmWpcvx8TTPzhcHPPo+CmmTI2MOYSjphBGm0Dky5iDhDq55//5I4MunymhDLvNOreH62H7/BGBoGm1fCYihCWrdkMcmlU7L07MFVpsuK3WfG0GIFyY8NpEdVJIOY3tY5CeX11RlqJ/QCX3iWKIJSOKE6UKKREr+2vPH99VmOcgzP4hj0D/OfDnN2zdVstw2NNZbPtP51GeCHny3GBn0EQ6Eg3hOh2H23M/iq0LKpOlGKrRganhhgqXpPWGqj3EvIkx9VUNT13j6SAEvTHDDmCCK+ZOr61uMtETwtdMTLG26rDZdOn5Mkkj+/YcVvmXqA+3zYRbIYRs03Njs8NZSnYmeTst41mE8J7ENjS/OlWh5IR+uNrccM2MZjGUSxjIm8+UM+V2OPbwyuVVz+WClxXjGIoxjkhh0XWDrGp0w5qdXKrzw+ASw//M/6BjazzEYprc+c6zA4kaX9d62D6vY6FHByKCPcCAcJqRyECrZ/Sy+2t45KGebPDtfZK3pb0lWHub4243P4mYbx9SxDG0gBNb2Ql65vM6TM/ktyVhTB9swmC+nqbshY2mbhY0WKVPno0qHrG0MePaHDVn1De50PkXTjWh4AVdWW5wopzF0gzNT+cExiilrQHu8vt4h4xikbXNQeNTywjv48ovrbdZa/iD00/YipvMOyzUPIUBogBR4oWQ8Y1DrBPTleffDQa9xv4lhJz2g6YLzK2/MYWTQRzggDhpSOUxHmIOGaPoTxMJ6Z0ddld3K6X/jzBQrTe++iDCtt3zGMhYCcEOlG7Pe9vCihCdnCgOqJiihspYXsbDRxjE0EJK2H/PETA5T0wfa5/1wQ//62n7IrXqXYsraVYZ2OBSUsQ0WN9uYhsZ6K+C3ny5vKSTqF/dcXK6z2nSZKTicKH8cY/ajhJ9d2+Q3npgceON/9M4qTx3NMZF18KKYD1ZbHC+luV13kQgcQyeME2IpOVrKUEqbyL2VQe7qme+G/fSAPkkcxHH5pHnyI4M+woHRH4jbe2AOD9DdEl9/8NYydTdkrekxlXdUt/peInGv4+2kq9J0I5yeTG5/otjNUAzHtg97rd94aopXLq9x4UaV1aaHrQk2Oz6vLVZBgqULzh8f2xIy+FiSYIq//+MmmgAtEaRMjWuVNnnHIGWZVDsBH6w0qHUD3lmuc2Yqz2OTucFktNuLPxwKKmUsSpkScyWVFDV1QSLlFs932Nt1A8UPr3YCFjfbvLVUxzE0wjhBE4L1tkcpa1JthUzmUqRMg7xjsNbyeWwqR7UdECYxtm5QyqpJteWG3Njs8L3XbhzIYB2Etjr87Lcbw730gCY/QeN5EMfloM7N/YR4WKKI58+flxcuXHgovz3C3WEv9b/+AP2HP7lK043oBBE522S+nKbaCfijd1Y4d6yg2CFeSL0T8Ze/MMOthr/n8X54aQU3iLlaaSlGg2ngBjG2ofH4VPaOZsQP4nrjRPLa9Q3+9KMNECimhyaoNAOenFGJxXo33FJS/9Lz870CJ4+rlTaxTFipe0RJQhjFlHMOacsgZWpIQEqlyQLwwUqDIE749ccn7jBK/fuxE097N6mB7ddyZa2FpqFCNeMZDEPnmWMF3r3VACn5cK3F54+O4Zga622P91da/NYTk1xf77DScDF0jWOlFC03IoglX31sfEsz7IMYrO1jabnW5cpaeyAbMJN3Bj1Yh8dGx484NZm9I3l8rdImYxt7jqX7id2ew/B4PMg2dwMhxBtSyvM7fTfy0Ec4MPajna3UXZaqXXRNDDoIvX2zwcJ6k7G0yVhaeZb9P//phWV+++mZPWls23VVQGmeN3ux8cMITB3We+vz29++WeP9lSaaEMRSUml6zI9nOD6eYqnq8s/fuMlEzsYxNGxTp5S1Wam7vcbIV9A1QTltIyTcqrs0gpibm11OT+e4WXWZH09jmBqXbtWJEnBMgUDs2GB7tzj0boZrqxIkXFlr0XSVqJYmYLMbUM7YLG50yTkGDTfkiak8ttG7x5bBXzg7xYmJHLahk3N0On6MoWnYhkbWFixsdNhoBcyX04Pq0IPc2/5Yqnb8O2QDvv/6Tc5M5e4YG7fq3R0Tq3U32KJ786AFvA7C2HkYMtojgz7CgbHXAO3Lq7a9iIYXERUl5YyNF0Xcbni8cHpiy34Fx+TSrca+okvbdVVSpoEXJuRsc0cWyE6GG9jSMm0/bZX+cV69ss7VngF0gxhT17AFBLHS/i5mLG5sdrBNvadLrtgfWUsZtW+enWGulKbpRjQ9pX1+ciLDv353BS+MuV13uV13ub7R5lQ5ixvGnJ0tgBTkHW1Ho3TY3MP2Jf9KwyNjG0wXUkznHa5UWtzwOwRxzOdnx7ix4fLsfHGLx92vuC2kTU5MTA7u6X//xx+QcyxSlj6YvD8/m8cNYy4u1Xj50sqOIbbtY6kvG9CfqHOOSZxIKi13EFbpj41CytxR36aQMj9RAa+DMHZKGYtbNZf1tkfLi3rceYeZ4uFa/h0GI4M+woGxqxoe9ORVQ+ZKaapdldwLo4SpvM1UwSHZFtlreCFTud1Fl/roe6QTWYcray28MCZJ4OhY9g6GxG4xy44fsFhVycZCStEa+9oqLz0/v+W8Vuour1xe4+fXq7TckGonwDF0EgSJTBBCw9IlDS8kAWxD5/REllNTquTeDSMqLRe71+T55ER2y7L71SsV2n6EhqDpRdiGTsMLWKp1Eagm24amcWZaVVvuJ5+wF3ZaUSWJpNYJmCtlAJ0zU3murbfY7ATMFB3+8hdm+OWNGu8s15nKO3zp+Ngg9LH9nrbckI22TyFlMplzlBrjaovJnMV3X12gmDE4UkjR8EK+++oC33mBgVEfHks7yQaMZ6w7rrvjR4Nk+CuXK7y+WEUIJZ0wljY/0R4EB2HszOQd/vDtFYoZ445CtAeFUen/CAfGbv0YQfbkVTWurLZZbbpYukbWNjg9lec3Tk9S70TUuj5Jkgx6Wf7V87P79nfse6QzRYe5ktJKP1ZKcWTw+c4J2WGBsJ9fr1JwTFKWPqAcFpw7tVX6E8KVtTbljM1k3qbhRoRJQiltEEYJfhSjaxDGkoYbMlVwKKQ/NiKOobPRDgaGZPs9u1ppq9CRUKJctqEhgPWWjwRubrYHDbHh3ozSTmX0xYyJ11NclFKi6zA7lubLJ8ucmy1yq+HzxHSebz19hCem8/zowwpRkmy5p3Ei+fGH60zkHXQh6Pox19fbtDyfjXbArbpHMWMwlrbRNI2xtE0xY/DypZUdx9JOsgGTeRtdE1vGxnK1S60T8Adv3eLicoPHJrN87fQkjmls6Wt7N71CD4v9hOZA6dI8O1+k4Fi0/IiCYw0K0R4URh76CAfG9uW+AEwdXluokrV1Ks2AThCTsVWz4ndvNZjIO3z7i7N8+ZTHy5dWuN1wmco7g16Wu1UX7hQ62S+R1Jd5vbpUpeVFdP2QjXbApVsNqp2AJ6ZzTBd6S3gh79BW6U8IUSLJOwZp2+B4OcXtmgo3lPMOGso7H8vonJ0pcLycZr0VDoqa6m6AHyXUOv6A+XG0YPPLGzXWmh71TsCpySy36y6Vlk/TCzE1wXja5Pz8GO+vtGj7EcW0dc8ywTutqIopC7OsDWLkOcdgtphmpugMrj+MVd6g5UXc2OxiaFrPo1f3+OfXN9joBORTPtN5h04Qsdr0eP92wNGxFL+43mQ8YzKeDZjMpcg6ykO93fhYs2V4LOVTxh2yAYam8dJzcwPaqUCCJnBMnaan4u0fVTpEcUK9G7He9rENQTln7dot6n5jv5VSv2FL/97B3tW/9wMjgz7CodAfxMPhjel8ivdXGoSx5OhYik4Q0XAjiilzi4TrsAF/b6WpSuZ3MNR3S/cSwC8XqoxlTDZbPheWakSJxDI0Nls+rzZ9jo45lDI2pqbxtTNb4/rX19s03Ygb1S6W0JgtpfjcTAHXj5FSYuhwbCzL6cksf+Oratn8o/fXKKQsKk2fSsvHj2KmsjaO+TF7443FOufnx3j2eIkoWub1GzXavlJUtHUNTdMwDbV6eGo6x1rTwzH1QzUP2fFZ7VCAU0pblLI2s8XUllDBudkiP7lcQROCd5YbpCyNvGOSMjXeWqqhCej4MZW2T7MbcKyUphvEdAOXI0UbS9fwwwTH0DA1wUYnxDQ02n7MyXKWMImZyjuD5zt8LX/pC0qz/WNHQeU53ltpUspYfP2M6krlmGr11fZjiimLzbbPn1zd5PRUjomsxXrbJ4zZtVvUJ42H0YpyFHIZ4a6wXRzKDRNMXdDxI44UU8yPZ/nzZ2e2FJ0cVGHxINrqO0MiBHS8iIvLDTQhSJk6lgZ+IkFKKk2fIEoIE8lTM/kt57ZUVd185ktpOkHM5TWl2mgbGvmUxdNHi8yPq7APfOxlHimmmBtP85tPTvLlkyWeOloYnPtGK6CYMVhve9S7AWEi8cMYQ6jEqhclRHFCxjG4Xff44vESx8cz/LXnj/PNszNbJs/DKEcOF+CUsyabHZ8ray1eOD3Bt784u2OooK97nrI0UqaBEIKsbdD2IxY2OnT8kDhJaPsxeUtVpaYtnQ9W2pi6xkTOppx3+NzRPEkiqbZDTB2urbeod1Sjkt2uBZSa4tfPTBLG4Jj6lu+vr7cH4aOcY7DR9ri82uJW3eV2o8tmx2ciZx9ag/1BYrcQ5YMKA8HIQx/hLrG1wMXmyekcyzWXlaZPAmQsncurTU5PfdzL56AKi/vRvXbzViWC5+bH+MmH6/hRQs7RyVgGDS9kPKsTRQkSJVQ1kXW2iGpd7BX3XK20MU2Nx6cyLG52+GClxbPHxzg/Pz7wrFpeODjn7YUy/+AnVxEI8o7i4Lf8kIKjmBmLG92BtxzGqp2dHyWYmpr0JrM2tqENdNT3u297tbnbsyH33NiOHuy52SIvv7tCOWMjpcQLE2rdkKdn8jTDmJobMpa2GE9b1N2IqYLgzFSOWjdkdiyNH8U4hk6qkObZOcn7K21afoxjaANFyh9eWtlzDOx2rcN0xWLK4pfXqzQ8lUzt+jHrTZ9TE7lHqjXd/aiMPSxGBn2Eu8L25eTZowVu1rp0/JCWqxFGSryqlLYGbc4Oysvda6m6VzimlLFwg5jJvM1sKUUUSQxdcbpzlkFLKpbEF+dKd8Qyqx0V/+2X0wdRwueO5HFMg996anpLIctujRt+9P5aj75IT6O7gaEpRo+i24WESdLzNAXlrMVq0ydOYtKmhq7BawubzJXS/PDSysBA73Tftpftbw9L7Ucx3WlCnCmm+PLJElfW2gNNnImcRTFtMWfqg991DB2z4SqFw7ZPOWNxeirXk0JQ1NJC2uHFM+lB8Vef3XKQRuGagKs32rR8dQ75lM5aw+d2vUI5axFGCcdKaTphjKEJMrbOTCFFvRs+8JDGYXEYwbr7gZFBH+GucCdtK6bS9BlLm5i6hkBg6RqZoUKTg8YU96KEbffgwjhhYaPN3/9xk6ePFtho+RiaYDbv8N5qC00T5B2Dph+RJHD++NiOv/uxgp8qpwd6S2X2POe+cXz1yjq2oTFTSLG42SVlSRxDY63RZaUZMFNwiGKJ68cYuooz65rGWMqg2k1o+TH1bkghZXC77rLe8rlaafPtL84Ozi2MJYubbVpexHLNZSKrPP23l+qDKtVXLsNLz8/vSzHdLT/x4pkpwphBxeXPr0XUuxG/drIAwNs3VRentKXjhhFeGPOFuSLtIDoQtXS/MSCQvL5Yp5iyyDsmGy2fP7vW4sxUli8eH+fyapN3bjf4/NE8f/kLR1nY6JKyNGxdTS7TBedXWj53FEMf4a6wnba12lQVj8/Nj/P0bJEnj+QpZx0qTX/QQeagMcW9KGHDVLxqx+ftmw0EAk2ouCuaYDJnoRkaT01nOVpMIYE4ht84Xeb4eGbH393t3L51dmbXcx6OB2tCdfVZ3OwyP57GNjRqXZ+1VsDXzpSZG09h6NCNEvK2wfFymjhJ6IYJj03meOHUOFnHJJ+2KKQsNE2wsN7hlcsVzs0WWa67/OL6Jl4YY2oa9W5AtRPws4828KOEvGMiEPz8enVQpboXxXS3/MT2e396KsuJiQymLiimTR6fVEZ6tUe9++pjZaYLKUgkjqntSy3dfwwIxT4SioK00fExdTGIqX/1sQmenRvD1HVOlLM8c6w4WCmUMuavvOLivlouQohjwO8BqrU3fFdK+fe2bSOAvwd8C+gCf0NK+eZexx1puXy6sB/L4nuv3eBmtUMQy0GjCSklH9xuYOgaaVtnKu/wWDnNRxtd1poeWdsgbxvUvWhQIPLUzMd9QFWQQyIRW8SZ+oU6b96o4UcJiK064ClLH2zbP9+ZvLNvf9HdrnH48+FzurHZYTqf4lgpzZtLVXUuUqhzOT7Gv31vleW6ov0JAcdLaUq9gplEMrjmF89M8fd/fBXH1EgSQaXl0g1jNMDUNf7SF2f54aUVGt2QsYzNdN6h5Qfc2OxiaTpPHMnT9iJu1jq4YczTRwv8ja+coNL07qjW/LNrG3do7RTT6pyGm1Rsr7Qd/qzW8QeMkz4Oo1Gy11j63ms30IRgqdqh5UUsbXaZG1c5gK+dngRgo+3zZx9t8BtPTD4w3Zb7rZJ4P493r1ouEfB3pZRvCiFywBtCiB9JKd8f2ua3gcd7/z0P/I+9P0f4DOAgNMJSxsIPE65W2oCSl/2o0uJKpc35+TGOFFLcbrj86dVNvvHUJL92cpyfXlnnjcUapayFlPD+rQZpc4Xf+tw0KUvnlwuqEvC5+bEB2+HcbIGLy6pLTdMLsQyBF8iBDrgfxVy4UR28OF8/MzkwyvsVdOwW79yJqpmxDd5aqtN0IzK2ahn39s06jiloejE3q13eWa6TMnXGczpIwdVKm8msxRMzBf721x/b8htdP2Zxs8N6L2SkC0Hbj2j5EU8dyZO1TUoZCy+UzJczQIYPV1pEuqTphVxda6lzLdi8s9zg//EH75KxDb5wTNElO37Ey++ucGGphi5UJWYYSepuyGOTGVKmxvdfW+Tn16uMZyzOTOe3aMkMG+rvvXbjnsrs94or9/MgX5xTYa83b9RoeEoyuQ/b0PjKqfEtTaPvZ7LxfqkkDss+36h2OT2V3bG5yf3EvgZdSrkCrPT+3hJCfAAcBYYN+l8Efk8qd/8XQoiiEGKmt+8In3IchJ2iNMnXeHwyS6XlUml5LG52eepIntkxVVgRhJJC2uCD1RZBJGl2QkIpaXsRR8fS1LsRTd9jYaNN1jEYy5ggBUubLl/sxb5Xmt6AOSCRA5XCUsai2vH56ZV1vDDpFT1pXK20eWoqy48+rKikZCyxdI1XLld46bm5Lfoih70PE1mbhhdw6VadrGPghRErDcVqWW26jKVNEgG1Togfx+horCYe0zusDGIpWWv4aDo03JBEChIZk3d0LtyocWI8i0AjZak4+hfnSpwoZ1lv+yxudEhbOqW0xXLdJW0aSJlQ6wRcrXxM9/vlopIzEELQ9mNydkgxraiKpYxFFCdM5B00TXHRnzlW3FFs67D86t1WODt5qtvzJ+WcxY3NLo9N5LZIA9+tcT2Ih3w/+t0OTwpNLxgUQu3U3OR+4lAxdCHEPPAF4LVtXx0Fbg79e7n32fb9vyOEuCCEuLC+vn7IUx3hYWG3TuzD3dWHS/SPlTL85pNTHB9P89hEdrBNN4oo2Ab1bkDLD6l5ARlTJ0YihIqDG5rgRrVLy1NevmNqtHp9MjO2wcJ6Z/Binj1SoJS2BjrgFxar3K6p8EI/Dv3+7Qb/6NVrvaYTMX6U0PQi/DDh+6/f3JPLvd99mC+naXkR795q4IWq2KWUsTg1kaGQMsmnDDZbAX6YYGkaUZyw0vDuaAdxcbnOF+aKZGyNIIjRhMDUQCZwvJQhSSQSxRqSCTTdkJYXcmwsxRePjzGVtxV9sBOCFMyWUsQJqs+qpbG42ebSrTr1Toihq+8NTXC77nGt0kJKybGxNH6cqMkl/ni/7c8ZDsev3ppnELy+WOPCjTqaYEc+/fYY/pFiiu+8cIKZorNrif1+OCiPf6Xu8sNLK/zw0gqXV1UNQh873Ye9MDwp9AuhUqZqbnI3xzsoDsxyEUJkgX8B/OdSyuZ+2+8EKeV3ge+CiqHfzTF+FfFJdz3ZjoN6ZNuX0m8t1VSZfE8uN20Y1L2AYtoiZ5skCYQkaAhWGkqVLowTRY0zdYI4IWuZ5Gz1ux+sNPjlQpXrG23KWYvJXAo0gRdGuGHMStNjrpRirenx7nIdBIRRjBdKyhkH21At5IIoxgsjDF07lJckkPz82oZqz9aLP9u6oJgyCWNJzjZUVyJd48PVJk1XJSEbXgAIMpbOdMG5o2FbtROQtnSKGYu1ZoCGoluCoNIKmMxZgOCZYwU+WGmSSEhZOt8+fwyA3/3ZAuvtgEAmPD6VIeeYA7qmY+g0vZAbm11SlsDUDdKWicgK6m5Iww2xDJ04SSikFKe70nI5Uc7S9HamAR6GXz1s2K4uVXdcdW1/BjuFZO62Ucn2c4CdPe5hj3qm4ND0Qt6+2Rjo6hyWDjlMz+wrhSrZAuWcPCh65YEMuhDCRBnz/01K+fs7bHILODb079neZyPcIx5G15PtuNv+n986O8N3X10AlFyuZQoa1YgvzZeYLjikLJ3VukfKNvDDmDCKSaRAQ2Dpgg9vtzgy5vC10xPcrHb56ZUN5kopJnOqPdrVSpvHJ7OMZWy+eXaGX17f5Ea1SzdQxSwgqHQ8JLDe8dQEgArF1N2A4+PZA3tJK3WXjU6oJA3SBhstjzeXqtS7Aefnx3n66MeCWomUaEC1GyIRjKVM4gS6YUy+VxgzjD5V70g+za1ql5YfIWNBztFwA1XQMysTTF3jRDl7x7P/G185wY/eX0Pcgls1l2vrbYI4oZS2qLsBeccgShIcw8AwBI1uQLXj4wcxui4YS5tcqbQ5WnRoexF1N8QNIwxN7PqcD8qvHuaVv7FUYyxtMZmzCeIYeHASt8NO0Hu3Gzx9tECOjx2S7b87bPRPlHO8fbOOEJLr66ox+GE1dYadoH5+xQtjcrY5WNE8CHrlviGXHoPlHwMfSCn/h102+1fA/0Eo/BrQGMXP7w/uvgz+/uEgynI74dzcGN954QRZ2xiIcv3ffusxnpjJk0j4D56aZDJvI4Qqgc+nTIppEyEE1yodjo2lKKVNEonqiZl3yDsm1zfaXKt0WGu6XFtvDoxyxtZpuhGmJjB0DQQYuiBtanT8hE5Pk6XjR+hCKG2TIT75Dy+t8L3XbvQ6Dd0pRzBbTPFrJ8cV972qXvSpvINE8vbNBtWOomj+/NoG760ogapS2iSWgAYzRaUjc2Iis+1OKapextGZzDmDRhopy+Dp2QIpy6DtJbve95liinOzBdwwptoNsQ2dE+UMAtFrDGJxspxhquBwYjxLO1Ccdl0XzBZTPDaVAymodyJmCrbidLcCpnI2pg4/uVzZ8Z4cBGqyUmykUtpU3afWOoO+0g/CU90eYrF0jdcXa1tCKNt/dzicVspYPHOsSN4xWG26dxXm6Yelbla7LGy0aLg+i5tdBPKujndQHMRD/yrw14F3hRBv9z77r4E5ACnlPwJeRlEWP0LRFv9P9/1Mf0XxMLqe7ITDVLxtDxH9ja+c2LFXJMCJcpaso3HpVpMgThhPO+g6rDRc1loeup7i62cm+cnlCh0v4upah6xjkLZ0gijhvdstPndEFb3MjmUw9SotL2SzE2DpGsWUiWnolDMWQZyw0QmxNJ3z82MYmraFT77XKqj/HDQhyNnWoEXb9UqbpU0XP45YrnVJmzoZx2A8a2HpOtcqHc7OFihnbNwwYr0VMJN3+OGllUGS8BfXN9EELNdcvFDyxHQOELhhTDFtUkgZtPxo73ve9PiNJyYJ44TFDaVJM1M0Bu3wVuruoMmHZWiUSikMTSNtGxi64LHJNB+td0iFOv/B56Z5aibPxeXGQGTsblaGK3WX9243ubbeJmNqxBLWWj4aMF2wHpinuj3E8uRMgV9c3+SDlSZnpvNcXm2y2Qn48snSoIp5e1ixlLEw9Tznjo3dVbu4/iTbF0c7Npbh2eM2HS+i1gl27aN6rzgIy+VPYe+23j12y9+5Xyc1wsd4GIpt94KVussP3lym2vYJ42TANPn2F2cH1L/+941uyEeVFrLXPCLvmFiGxnK9i23opEyDphvygws3WWt5vL/SpB1E6JqDmTIJkwTb1Gh0w14iq0kQgm3qZFMahlDl9EeKDsW0RduL2OwGjKdtpvI2L55Rxmk/fRFQz+H92w0+WG1xZbVJIW1Rzlj4UcLRYpp61+dKpc1kzuaLx4vUuxF+lPDYVJaVepfVhkcQJUznbV79aIPZYgpNCH65UGWt6TE3lmZ2zKbrx0znU2QcnTBKiBLFV5/Op7ZQN7dz6ocnnOHQT3/inymm+Pb5Y1xcrhPECZau8eSMmggXN9s03ZDPzxYGk+9B7sl+4+BH76/hR5KT5TTv3WoSJpKpnI2mCa5tdPjSiQfDVtnuBJUyFl86UeIX1zf4s482KGctvnJqHNvQB5PU3YYV9zzXpsfzJ0qDe1ft+Lx3u0m1G/DlU+UHEj4dlf4/4ngQA+1B4pXLFRbWO4xlTAqWhRfFg4rHl54/PvjeMjQ2OgFZx2S14RHGMUEk2ez46JqgkDKRSBzTYLHaRRf0epWabHYDvDAmZRucP1bkvZUWU4UUWdsglzZodiMm8iYpw6DhBnhRwlTO4dnj6S33sI+DrIJaXZ8fvLGMZWhIKan3Gip88ViRcs4m4+i4UcKpcpZ6N2K+nObtmw0SmdANYk5P50gSiJOEhfUOUzmHpaq6T5ae4VbdI5eymClYLG62OVJMk7FUQZKUgpMTKtlZ74Z8//WbPH+itK2DkOKiDydsTV3bMvEPZIx7Y8rUBRnb4HE9x3Q+teOKZK97shf6XvJE1ubyaou58Sz0ZHFniimSRDKWsQ9tzPdyFvrYyQmyDRUee2I6v+Xz/rl+8+zMfRfS2n4PFze6FBzliPTDp/3fHxn0XxHcD8W2g7JktvKFJfT+f9B9ShmL1xY2KWWsQbVoyjSQadXs4iXg3VsNimmD1YaHbai+mYYmWNzskHV0qu2Ao6VUT5TJoNYNBy/BkzMFbte7mLpG1jH5zSem+GClQTlrkXNMhCY4N1vk2nqHWidAz6lWbm0/ZraU3tXb3E8M7JXLFf7nP1lAQE90LCKMwTYEa22fY2GEGyQcL6VBSFabiprmhRFXVltYhkbBsZgvp3n3VoOsLgaaLHnHxMkqRo9taFRjSSIliUy4vNbhaFE1iHj3lmoD13JD4kRuaULhBRF1VyUx/SjGixLeXKry9JECf/PXT255Tu/crPNRpY0bhqRMk8cms3z+WPGOMXXQlWH//rx7q7Gl8rVvzObLaV6/UcXWNbqBSri2/Ihff6y8Y0J6r7G6n7PQx25O0H59Rw8aVjzo+7T9Hrb8EFMXgzZ723//fmBk0D8FuBfFtoOyZIa30wS8vlhHSvjSidKO3ed3O/ZyzcUydNLWkBckBX2xQiHUv7thTLpn9B1T52gxxcmJLIubHZ6cySHQcMOYjK2BUKrqkkRJptomGVPH1AWbnYCvnFKrlZxt4kcJzxwr0vRCvnZ6kpYXcuFGdcuLXO34XF/vsNpUSb6ZvMPF5Qa1bkCl6bPZCdA1wTeemOBH76+xsNGm60d4UUKCpGCb6CmNRjeg0lQT05mpPA034OV3V6h3Q06UI8o5C8PQmC2lmS+nKWVscrbZ48R/3PgaKZjOp5gvp1lreXzuSIEvnyrz795f5fJamyems5Szitlz6XaT6bzNH75ziySR5B2TphdSaflkLB0v6nl/ts7akNzwj95fo9b1ee16FS+KqHdDhICr621OjO9AEzzAyrDvMS+sdyimDZCCCzfqbLQCyrk+1c9mbizFu7cbSCBl6iSx5I8vrfK5I/lBDPsgY7XvDOzmLPSxmxN0cbl+z+HLw7DOtt9DQxNbhM7u5vf3w0ic6zOOg7Jkhrdb2nQppizGMiZL1c6B9ukf+8R4mqXNDm6gGCVuENPwQs4eUaX5Z4/kaXghhhAEUUwQKfbJ6akcp6dynJrIsN4KSGTC52fzFFIWK3WPphdhGTpPTucJk4SlWhcvjHlyOsvl1RY/vVJhrdnlneUar9/YpNL0BnogZ4/k6fSSin1Br5YfMlNwcIOYi8sNjhZsrqy12Oz4lLMmZ6Zyg36aDTfEiyQSsHVlNONYDhpfPD6pqhg/WOmV3xdt/ChmpeFxqpwh5xiDgpL5cpqVpstyzWW17vHe7Sa3G13mxlN8sNJESpXE04QSpDJ1wUZLcZfbbkS9G/DLxSqbbZX0jRLJUtVls61atRmawNAUayaOJReX64Pn9NZSnc22x82aixsmCCHQNcE//OkCF5dqW57tQZhNr1xe483FKqtNl5WGRywlxZRFtRsAclB8lLI0Co5JzjLJWDqGrmEbOn64tcBnv7Hadwa2YMhZ2H7+3zw7s6VRyP1oOHEY1tleQmcPquHFyEP/jOOgsdDh7fpd2IFBIcROWto78XufnS9Rc9dIZELDjTF1wXwpzYtnpgB48cwUG62Am0KwsNEmZelM5CxOTGTQNcHf+frjwMdiUKensmx2AjK2jmMoTZTZsQyPTWYASSQFDTfC0CS36j5+lGAZGqaucWWtxUvPzTGZdwae0vX1DkIoyYAT5dzAW/vljRrPnxjf4r29v9Kg0vR7fVI12l5EIgEkYZIQJ/D8/BgpS+f1xSqFlMGJcoacbbLe9mi4IbfqqqlFLNVLbJsCP0iYyNlYhsbcWBo3jKh2VC/SL50oDTw2CTw5k2Np0+VapcnVSkcZATfCEn4vyergByoBm7LANnTiBDa7IUJIXr2yTjeIyNkGVytt/DDG0jU0IWj3whCtKOblSyt3yCDstDLsP//r621+/EEFgImcTRTDwkaH+fE0iQSJ4BtPqdZxbT/mzFSOpXqXKJakbZ3j42kkbJEW2G+snj2S58KNOkIIHFPDC9WK7fzx4q7jf/v13Gv48rC5he33cLceuvcLI4P+GcBeMb2DxkKHt1NhAaVi2I/3KS1tuWW52ef3Pn+iNGBW2IbObz4xyVjG3vF8htkWC+sZ6q4SXjrS86CGt+uj1g1putGg6cKZ6SzFtMVPr1Q4f7zEVM7h99+4yVLNJU4SylmLiazFYtXlv/z9d0BKah2fVqDavZWzNt94cnJwDzK2wVrT49njpS33pJy1WNrs0ugERAmqb2YcKz2YRDKZt3jySIFvnp0ZvOh/enWDK5UWWdvA0gSL9ZCcozOWNrhZ7fDReofxrEXDDcnYGtP5NOVcjiPFFGM9XZX3EhViWtpU6omOpbPSDEAofn3WMXAjid9R/TcTJHGsOgwFUYymqcTt7brPU0c0NGFwYbFK24/wg4SsoyOEKrBqdEPGsxZrB+hEv0WfxI1IWTqVlk/KNgYOwLVKG8vQSKTcotboBjFiSXVyEkLgBjG2oW0RU7ux2cELY+ZKGaqdgMXNNustf5DL6DsD1W6wo7NwENxrw4nt71O1E/DBSoMgTrY0JXlQv78fRgb9U479YnoHZckMbzc3nuL1xdoght5fGqqEjr4jv7dPwzqIcNJeg3qnyenkRHYgmdtHywuRUqkrvr5Y5fJai4ytM9Yzln/w9goTWZNKOyCKE7pBgmMIhBC0/Ih/8/46uZTJuWNKiXAq7+zAjNBZaXpkLJ2jRYfFzW7vPHTGsjYZU2ejpVYt/RddkvT2FtxuekRxTNuHtKUxlrZxDI1qJ8DUdLpBhKnpvdi9R8YyaHoRuiZY2uzQDeLeigBWai7FrIWpq/vf9WNiKal3Q4JIbRTFCcs1l6yt44YxmibIWBo3awFeJBlLGdzyPdqeKm5xTA03SpjKpwYNnPfCcLihE0ScLGfoBDGVpottCFwv4kbN5emjBT4/W7xDIdPQBG4YDfIjU3mL1xdr5Htj1w8TLizWaLoha00fTQNDU+yU/pjuOwMPSwZj+D3xo2RHRdCHqck+iqF/yrFfTO+gVZ7D2yUSzh8v8tz8GIn8uLJNwpbkYp/f60fJXQsnDWM3ESVTwI8/XOMf/+k1fu/nC0pnvNrl2JiaeK6sKREpITQaboQbxDiWxu2Wjy4EkQRDB4QgZRrECSQkvHp1Y89GFqtNn6+dLnOinCGKJbqAsYyFYxrEcUKSSD5cbfG7P1tgJu8oxkmY8NhEhm4/UWnrzI2nqHVD1loeUSKJE0nWMXBMg6YfomkqFDRbSvP8iRINN0TTBBNZhzNTGZUEFOCFCXOlFJaukUsZuEFEN1QVpKWMhYak7UdU2gFumDCZdbi43MQxdOZLafKORTGlPOQgUp2TZgsOhqbxrQMUz/TDQj+9ssaFGzV+sbCJpQvSpkEQSTa6AXOlFF9/Yopy1h6Mxb5C5ump3Jb8yErD25IzOFZKc35+jPdvN4kSScGx+MJckaxt9LpSXeXicp1zs8UtsfFPEsPvyTvLdQopo0chdR5KFfd2jDz0TzkOEtPrD/q+ZzNs7Iex33Jwp1ZohiZ4+miBl4aaI9xtFdxOIkr1bsgfXFwhSlTjDC+MWap1MTWljbK42aXS9CikTDpBQpwkhHFC1jYIw5hcWqflJ+hCEEuwDEEiwRQam71J6GQ5w0rTo+NH3Kp3KaRMTk5kOV5Kc2oyO+gn6scJuoAwkpSyFrahNFLUPW1wbrbArXqXaidE1wWTORsQVNvBoHF2peljmUogzNAEDTdU2i5CccI1ofbrq1SuNDwcS3nlbS9C0zQm8w7LvaRwwTE5WrC53fTxYzA0EJroiZvF3K67bHZUGb+hCz5/rEjBMbi00sQ2dM7OFvgrzx67I36+00pJAK98WKHhhZRSJhttn7WmTzmrdOffulnjK6fGt4Tz+mNxppjipeeP89RMnpcvrfCL65tsdgJ+/bHylu2PjqVI28oxqHcDLt1SxVw5y6CQNh64F3wQSmL/PRku5tp+vQ8LIw/9U46+kR3G9hj5QeVD98NOrdCaXsRGy+fiUu1QEqU7aabsJNNbabncqnUJQxUrLqZUfPzaZofVps/Zo3lsU6fWDcnaGuMZC03T8GLZK2vX0DSNWEpEr8gnStSxToxnep2NGrhBzFjGJIgSPlhpUesEFNPG4N5K4MR4hnLWIeMY5ByLjK2z2Q5oehHv3qrz8qUVvnR8jJVahzdv1rhVdblV77LZ9pGxSjZrAh6fzGLqgoYXknNMTk/lOFFOD36rT2fcbAest3yKKYOCY+KYGmsNl82WRxhLxtIWj09mVcI1UTrvKcsg3aOB1l3V8zOOExIJUSIppgx0XePrZyb57l8/z//rL31+R2O+07Osd33qboCl6xTSivvvRTFrTZ+fX9vgyekctqHvOhaVsWzwxHSebz19hMcmsny42t7CR++Hv5ZrXd6+2eB2zaPgmMRSstEOCOPkgXnBh31PDvLufdIYGfRPOQ5CxXrlsuJSv7lU4+2l+l2/FDPFFOWM0hYJY4lj6jx/osRsKc3LvVLxfsHLm0s1FjbavHK5Mth/vxdmpxdkabNLw4tAQNo0CBPJR+sdwlCVr1u6WvJmLAND0yikLQqO8uTKGYs4STAEBDHEEsJYecauH7HR9vlb/58L/OTDNa5VWryz3EQTGhM5iytrLTZ61aAtLyRr6zimTseP0ITA0NQEVO2GFNMmE1mb5arLP/nTRT7a6GIIgWEKBNANIgwdqp2QM9NZMpbBWMbieCnD8ydK6JrYEvKZK2WodUIWN9vMFCyytsWx8TTn50uMZ23CRPLc8SJfOTVOgoYfS0xdw9AFlqEzU3QwNBV+s00VQjN0wRMzefIpi6ePFu/Q1xnGbmG85brHTNEhbWpUOx7dMOFkOcOJcppC2iSKJct1d9exuP24T87kEULJIm/v43plrY0Qkkiq5LwEjhbTLG50H5iW+GGF8O4HDfJ+YxRy+ZRjPyrWSt3l59erlDM2ecfACxPevtng87N5VhveQCTqoCESieDLp8pblpmJlKw1PU6Us7yz3CBlaeQdEzeM+Nm1TV7stYHbS5caoNbxt7RAsw2NuhsynjFpuAGbnQA3inH9mFLGYr6c4cKNTdZbAV4Qst5OsOo6EzmbUymD1bZqpBz3EothAokETSSkLIOUbeAFMd0g4p+/cYupnM3sWJpyXrXEy1pGj9deVbrhuuDcsSLLNZfNjk/Lj/nckRwTWcVnjxJJtesjgLlSmrobESUSP4xoeCHljM3ZIwUkYkd2z2TeUT1Tw5jn5sd4bSEhjCXLtS4ZWydjG5wqZ3j3dsR41qGUMWn5VW7VQ9p+RCIllqFRdGzW2y6WLijnHF54fIJaN6DphvhRsm+4Yqcwnh8lLFW7VNtKUbITxBhC4EcW0zmbiZzNbCmNF0a7tobrH7fPYGl5ESlTUOuEd2z/s2ubNL2AZUBKOFnOkrF1VhouP7+maJp7sUrupur5biiJ91su4F4xMuifAewV+764XGc8YyE0EEKQstSS+M0bdTRNMF1wKGdtlmtdXrm8zvFSmhMTmQOXM8PHy+TLq01Sljao5BNolLPWwGC/emUdTUA+pTSiSxmLjG1wrdKm0vTJOQZfOTXO5dUWf/bRBl85Nc652SLv3KzywVoHR9exdEEnSVhreFyzW2y2QzQklmkQJiEaMDeepumG6FqEoWlkTY2OrzjkhqFhagIhJS03Ik4SYqnqUFt+QMu3uHa9RcrU+WClgRtInj9RAiFZWO/yzs0GjqUKd3QhabohH95uknV0MrZOKCWGJtA0nYwlqbR84kSSxPDkTJ5QQjmj7k/dDbi+3t7jOUou3KgzO+YQxTFXKm2iOCHvGLT8kJWGixCC2VKaZLNLGCeU0jZxEuGFkrGMwQuPT3CinOUEHzdyHp7sd4oX70TNe+XDCvVeu7s4UVyelKGxWvcQUlBMqWfphvGu6oSljMWtmsvVSnsw6dfdAMfSB71f+zgxkcENnIE2ua7Detvjdt0FxIErmA9a9bzX2N4rhPKgaYiHxcigf8ZR7QScmc7zznKDfvNmScL1jTbfenqGnGNS7fh8VOmga9D0AtzAOXA5c5+q+K2zM/zjP1ugnLGRUnGib9Y61Ds+//a9VRxTp5g2OTWZxY8S3r5Z55ljRTp+xFtLNQppk4mczfx4lq8+NjEwPmMZi7dv1hhLGfix6kU5mXeodQJu1DyOFBxMXSeMVWWqrgk+Wu9Q6DXNsA0dN4yU/LZQMUY3jNEsg7YXous6piFxDMWQCeI2QZRgG7Fa8seCD1abOKZOpeWRJAmaZhFGCW0vwjZ0iikdCWRtA1MIhKnOxw1j0pZBLBMKaYupvM2ffbROGKkVQjmrqmAXNzr863dW+Mqp8cFqRkFNHAjJWsvHMlSEdDLvIKWg1g0wNI0nZ/JMZm38SD3XtXbEF+YKTObUZD3ci7NPV92L7rr9Gb++sMFK0yNIJPmUqlHoBDFhAoW0ia5DvXtnd6PtE8ZM3uGVyxV0TXVS8sIEKQWnpzJ3dA8aXq3Nj6dYaXgsrKvCpedObE28bhe32tIl6Ua7l3SWLFU7g+bTOwlifdqE8HbCyKB/xtHvov7MsaKSSfVCDE01NpgdSwNKBS5lKl5ys5eog50H/V7LzC+vNLiypn6j60fcWG8TJKALFd9da6iqy2dmi6RtnQuLm3R8pZo30TNIfUNfTCsWxdfPTNIOYo6PZ7FNnTCW+FFMtlf5CKBrMJ5RbcOCKKHaVt14Wl6Irmv4keog1M8YCYmSJYgScroGUrLR8XEDSRglPZEwnxjJRNbCj2JqXRW+yVg6mh9SzjpouoYmYH4ijUyg5QWU0jY1NyRj69Q6KomXMnWeny/y9nITS9douRFZR3C77hIlUEpZzJVTXFlrEcZyMJFKlFe5VO1Q6waU0hbzpQwJkqePFlmudWj7Ibah8bmjBRY2uny16BBEkmePj7FcVUwYN4zvCAfsFf7qKw++cnmNCzeqvH2zwUTeounGGLpOyTLI2DFtP2Yia9MNI9bbPtMFZ88J4+Jyg2LKBMQdRWL9sMbwfv3V2ru3mnzl1DgTOZvHJnP7skqGQyerTQ83CHFDlRieH88OxtZ2PIohlMNiZNA/4+h7HTnH4JljYwOv4/QUg+Vlv9Tfi+JBZehwBd9wxd+wx7V9mfzimSnCWLE0fnhphSBJ8CPFuzZiQcpSFYy1bogfx3x4u8XJiSxRItlsB0zkHSBicbPN43pOeXXFFJ8/WuDGZpduqJQEHUPQ9lVnoiBOEEAlSnB7RtwxdVVBKSGKEno2mzgGX6p/R4nENCCIYjpBRCIFhpD4UULsgqYLdARNLyaM3V6MGiXbamhkbANT19js+CzXXGpdH1vX+Zt/bp43b9T48ZV1wjhhLGPxlZMlVpoBt2ouWUunG4S0XI3Vpq+qWNseK01XNeBoe1xebfC5o0VubHaYzqcGXqUfJSAFtqH1mlErauP8eJZ//+EabS8kZeocKSplSRXTVsZ8O11VtYYTXF2q9qSElRxCpeXy1lINXQiq3ZDTU1mWNrsIAWEMUZJgaDqGppGy1X1UGuzmlhXdK5crLGy0lZyvYzA/niXnGEjgiekc24vE+h738ESTw6T8mLNltXaYqucwlqy3fLReVazqLFXn8cksM8WdC6ketRDKYTFiuXzGsVth0YtnpgYZ+oxlUHcD3CBhfjxLtePz+mINS9cGbJQfvLnMDy7c3JGh0qci/uRyBVNHccWrHdpejACiWMWa236M31NQ1ITGWNbi+HiasbTJtfU2602v1/7M38IW+CvPHsMy9F6M2CCR0PIjMo5O0w2ptD0qbY9ESnShmiNXOwG9aAVISHqNIoSAmUKKtGWgCVWiHsUJaV3DsbRec2awNQ1bVz09q52AIEyIogQ3TPCDmKYX4IVqciw6JlnLIEok//KdFYJY8p0XTvF3//wZTk1meetmk42WqjhtuAEtL6YVREgk9a5PtRsRxAk68O5yi7dvNtEETOUdLizWuFntDpgvdTdgbjxFqydwtlxz+f4vb7Cw3kYCnSCm4QaDIqCfXdvc8ZkJ4JcLVfxITYgfVTpcvFmj1lEJ1nduNfDDmI8qHSZzFmEsKedUqKkTRrhRTNbUMTWN5+bGmB9PD1rVXVyq8bNrmwgBecccrLz8KKGYsvZkhuxEXe2zWg7KKulv98FKg5mCRRBJOkHEbDGFEJLLa82HykR5kBh56L8C2M3r6C8v8yll0M9M5SimTX5+bWNLBV/OMam26wA82Wv31veSXrm8NvDK+0vrlqfEoDZbAbqmkXM0mn5EJ4gQwqDWCRnLqOIZP04o55S3VOuGJCgPa9jbOzc3xvnjBX65UKPtKy/9ueNjZCyTt5aqtP2EWCbomuD4eBohBBsdVSXa9VX1pmVqWLpA18AyNMbSFuWshRdJ4jjhdtNjs+Wj98MymgApB5Q/QxNEcQJJQtuPub7RwdQ0xtMmSzWlpHh6Msf1jTaVpsfj0znKWYeUoRHEMWutkEJKvW6FtIXrx3T9iCgBXUqqnZBy1sKxBJoGS5suXzyu+OGrTZfj4xmemx+D3srDCyPyGYuiGxDHEjdQNMzPHy1SSJssbrZ7htzahVUkB+qFlZaPpev4sYrTVzsBK3VVaHV6MkfGtpjKC5puQMeLaHuqQjVnwTOzeco5Z9CqbrnW5X/9+Q28MMINImbHMmQdA4i4vNrk+ZPjPe7/zmGNvRKTBw2J9Lf7Bz9pYhkGj00aCAEJDHT2P81e+F4YGfRHABeXarx8aYW1psdU3uFbZ2fuKPa4G+xX9TZs6IdV4Lar/oEKNfQ7EVY7PosbXVaaLh/ebnJyIsPxcmbAXAEIYolpaIS9xg0CSdeP8aOY6+uCpwwNL4hY2OySsXTGsxaGpvH00cKOrIXlukcxY2L5OjerHZbrHrbhIxF85VSJjU7A2zfr1L2QUtqikLKYH88SxDHrLZ+nprNcXlMxZ8cyMDTJe7ebdIKYgmMwnrFw/Qi3J3AVRCEyAUtXyn6xBDcEJERuiB1p6JpqQC00obzhhQ1cX/UBvXSriSThjZt1CrbBkYIDQrDR9jHDGL+XC9A1DdvQAMlaw8M0NYopg9WeWNbsWBrH1PlrQw0cAH54aQXHNKg0PZ48kuLYeJoray3q3YDJnM16Sz3HvlZ8Hx/HnAXPzY+xtOmq+HzKImPqNLyIUgbyKYO2H3G74TKRs/jKqQkuLG7S9CL+3OMTnOkVEb22sNkrtFLJ9Xdu1llreoRhzO26x+W1Nqcm0kzmU3hhPBiDuxnU3RKTJ8uZLRTb7eG+7Zgppvj1xye4XXfZaAW0fBWzL+csjuyiIPmw9GHuJ0YG/SHj4lKN7766QDFjcKSQouGFfPfVBb7zAvdk1A8jxA9bjfsPL63gBvGW782e61rt+Pzso03W2x636i5uEJNtG2Qdg3o3GiQ0LUPjC8fHWFjvsNrw6AYJxbRB1lKViheXG4xlTOJEslwLVIm7qTGWNrhV7/ZK9ZXqYN0NaXshG+0AEGx2A9KmKiqK44RfLFQxNBVbFkKw0QpwTI3Nlg9C0vVCXr/RQNeg4JggE65tqBCILlT4pu3HaEKFX0Bt1/RD3EgSJDGmJjAEhFLF4wspE0MINtoBqSAm75jkLIOOF7Nc7VLt+IqL70e9yk7l6WuAZqpS/rGMhUCFSbwwRtcEBhJTU2GnaifA1MW2SkslXfvz65tMZGw6YUwYSco5m2LK4J3lJpfX2pTSJl85VdpSuVnt+Hyw0sSPVGHZVN4ZrAL8KGG57mJrAsvQyDiGyidIScdLMHWBpgm+9fQMc6XM4JhxIqk0feZKGS7darDWW+W0evTKThBzs+pS74TMlzP7ykLs5IWfLGe4uNw48FgeHCvv8Idvr2AaSu3xcle16Ps7Xzt51+/Jo46RQX/IePnSCsWMwVhaZeX7f+6kT30Y9KtDh3tMDmtP74WdvKRS1oZEcmGxxlpLaX3bhkbK0Kl2QrKWz8nJ7CCh+fhkFi+S/NrJMm8sVXGDCNAwBRQzFlfWmtxquBwfyxDGqpdoEGv8YqHGyYkMm62AufE0622lFVJp+UQJRHFMPmXS8SKCSBn6QZceRycONQIpsSUYBkQxCA1sXZCg9F86foQuBPmUyXQhxc1ql04QoSGYKjhEsUQTEMQJSRIjBfiREufSBZiGUKuAtMEbSzU0XWCbSodcF5JuEOPFCWGU0PIiwgSMHjEjkRI3gJmCEq+63XBJEslE1kYXUOkEOJZBIWXwx73q2y+fLHFxqcbF5QZRknCzqmLgK02Pctbmo0qLjY7LR5UOGUdnKucwnrW4UukSxfDU0UJPlVIpaD4xneWjSps/+2iTJ6eznJrMcrXiESeSjG3Q9kM0BI9NqnyKFEqgba6UHjCj+ihnrd5ECzc2uyof0/FBqlWaECrpaRkalqEd2rkA7rph9UrT4/R0hgs3aiSJZDxj4Zg6P/pwnaeOFvctdhsZ9BEOjbWmx5HC1oFT6L3od4u9qkPdMN53/528pG9/cZZK0+O//P138MKEMJEcG3NImQbLNZelzS6WoXOr3uXizTpTOZsra206QUSlFVBwDCZyFmnLJEkSWl5ImMBStUucJNiGTtrUafshyzWXnGPgRzFJj9Nu6jppS7De9rE0gScE3SAikmDqEMaSTpCQNgXjGQPQiGLJZM7BMnSaXsCtahcp1bZHCzYIKGdtGt2AWscniKETROiaWpG4QaKOL5SWSywVRVIgud3ostrUCENoypANw8cxNVpe3EvGCjq9/TVUlWoUqibJgoSbNQ9d84h7Zax1V5XvHy86nBhPq76fUcyJ8TT/9r01vvfaEk/O5HFMnbRlcKKc5cpaCzeIODmR5ufXq2hC42gxRTlj0wkiWl7AxWWfjY7Pu7caaJrgsXKW9283Gc/ZPHUkz3rTw49bPDmdJYkTblS7bLR8so6BqVkcKaQI4oQ/vbrOlbUWf3J1nccmszx9dIxSxmIyl6LWVYlKCQRxjBvEpG2dRCoefZioCSG6y+bIu1Wuvr5Y3TNMUu2oZuKnp3KDYjcpVbHXQZtqfNowMugPGVN5h4YXDjxzgIYXHkifejfsVh16ebXF8wcskti500qDYtokYxqst32qnZCjRYN8SudmLWS14RLFCVnb5EqlQyx7FD9L673MqqHBrarbk7JVcehukJB1TGKpDGkiJUEk6YYxBduk4UWqOtILOV5K0/FjOkGXcs4hiBOabohjQtoyiZKYMFYJvPWmixequH29G2HpOlJK4iRivR1gmQbLtQ43a92eJICSBggjCKKkVzCu/mcIkAnoKMaMG0oMLcE0IGXpvVivBAEZW0PXdLp+RJyo4/aZ00EksXTFtoniBEPXe4U2GuNZm7lShq6vmCagkqP5lEnbj1iudgklPDWdI5dSwlyL1S5hokIKpybUmFmqdsmnTFKWzuXVNn4MjmkgSHhtYRND1zhaTDOZtxnLmPz645N4YcTJiSyartrFtYOQyyttxjIqfLZccwfNqT9cadHoRnxhbgxdE7z03DFWmh6ljKmaf1sGhhCYvaKunKP6aV7b6PLTKxVytsnceOpAzgXs3FTilwuqQ9ReHn8pY/HWUo2UqXO73sINlOrmTMEeaMHcTXXoo4wRbfEh41tnZ6h3ImpdnyRJqHV96p3oQPrUu6FfHeoGqkO9lBJJwkY7uGu6Vn9p+thklk4Yk3cspJSsNlyabsTcWIp82uKZuRK6BkmSYOkGx0tZTk3mSNsmnTBireERC0UvtHTR83o1un5IIpXEbNo0qHV9Gm7Eesej1vZJpFq+24ZO249w/YiOHxFFCV7PMERJRMMN6QYhURzhxwmrTY+1pk/LD4mSBDeISGLl4a3Uu9zY6KJrilli6gxoi/0UcP8FSRk6hq76V0a9ZGnaMiikTKJEJVK9MMYxdXRNJ2VqhIkcePbDpiuMIWOb2KaB3Yunh1KStgwsU/DGUkNNeIaGrmm0fdXdZ62lCqZ+sbDJ9UobP06YL6URCKbzDrZhKIXGts9qw+XyqpIKEDKh3g3wQ0mUSMI4odLyqHcD1lsBfq/5dF+P3TF11ho+hbRBgiRJZI8V5FBMmxQcS/1G01WVpXNjfPPsDP/3bz7JV0+VyVg6fhQTxDHFlEHONqm0fExNoCG4uFzjf/rpdf7grWW+/9rivqqf2+mKH6w0EEJJKewlonVutogXxnyw0iSMlCRDN4zY7Pb1XR5Nga17wb4GXQjxT4QQFSHEpV2+f1EI0RBCvN3777+5/6f52cW5uTG+88IJsrbB7YZL1jb4zgsn7il+XspY2IbGM8eK2Iaq/pQSvnJq/6q33eRt+/zgp4+OMZmzsUzBWMYikhJN6xWLWDqNbsBH622aXoQXqi5HADP5XmjDDSk6uloGWzpRHCNJcCNJ1tLIp02COKblKl2WlGlwbDzFRivg5HiGybzNUzM5dF0pGU7kbabzDnpPW1zJ5CqP1Oo1InbDRMXEw144RINS2kAIgRcpry3vGDiWgYYYvBSaBrapvGeE8sSPFFPYlkbOMSmmzV7TCMXQUazGhPG0iW0YigM/hFiqiSJBdTAqpk2KaYPTUznmShk0TbDa8ECo+4WuNGbavkoIV1o+QkjiBOpewEerbaodHyHgxTNluoGa0LwgotoOFb/e0tnohAgS3FA1tVDnIml6EUeLKS6vtpBShRpKGZsvHh9jbjzN2SMF/DAhTFQ1r6krM3hmJsepiSzHxzN3sKa+ff4Yz50ocWYmx7FSmtmxDBlHtahzDJ0PV5sfdyMSggs36vzgws09jfr2WoogTnhufmzQ9hDYUYFxppjiczN5dF3rXbtgbjzdC7+IHY99r01aHjYOEnL5XeAfAL+3xzZ/IqX8D+/LGf0KYCea1H/1rafuet/dNClyjsFcKc2bN+p8sNGm1lHd2F88owbsdkW6RjfkvZUW5azFmenclhZir1/f5L3VJkGUqNJ5FMMha+vMlZQ+y62GSxhLvCChE0R4QYwfNai7ISlTo5i2yNgJUhGgcSwD29AUVTJMuNXwWGl6JImS5l1reuRsjULKptH1+cN32li97KKpa7ihisVP5CzFyIgh52g0vBAQ6EKFOGKAWIU+LF152NVOhNUL+XhRDOjEUllgTaiCJIGKtyeaJGOp5hMSGEuZIFWxlJLsNcnaJnGSUMrarDa6JD1lx50gUbLAhbSJLjTq3RoSepxvgyemc4SxJIoSam5IFCV0/Jh8yqDpxaQMQSeI8YOIt5ZUy7cVmdD1A1bqrpowTI1TExliqTTU07be6/Wp8gSmrpF3DNK2znor4CunxnvVlQmLG12WNrtIJLapKd17P6TVjYhkwttBDSkkiZQ7Kh7Oj6dZaXhkLEXJbG1G2IZGGMestwPiRGIbGg0v4pgQVLvBvvH0fgjw4lKNVz6s8M9WlpnI2jx7vMjJidyuYZJ82uI/euYoS9WOqo9wDOZKGRIp7zj2TnhQlOIHhX0NupTyVSHE/CdwLr8SuBea1EH37Xsdr1xe48cfrtPyI05OZMhaJhdu1NloBbxwemJABesr0t2qd5krpXGDmH/xxjJCgyiSfO+1RaI4IUgkrh/3+lVCxjIxdI0kiXn/turUY5sCTSjJWD+EmhtScHSCOGGtEQAJQmh03JBS1qIRJARRQtox0VHCWVGiwg+TOZu1ls9as4kXJggBfqTi17oGaUNwux6y3vRJWzqakHQDSZSo5FeI8oY1AKkoh3GPcRJJMKVUQmKRkgDQNXrt6RRE7y9hAs04ImVr+B2lpx4lyuPXdYEbmuQcjccnc1iaxuVVpZneD7P04+fD9t2NJG4zwDGgYFukbVXQs9GB5+fH2OyEVJoebU8ZX8vQKKQs1VjEsXhiKsvtukeUeNysdak0fbxYNU6OpZps/RgEyWCisg2dyFLiXoZGr5qyxamJDE/N5Hn1yjqL1S4Fx2SqYA9i6EGUcGOji20I8mmTm/UuWctg/kx6i3ohMBifT83keOXyOn4oyaUMShmThY0OiVRNSuhlKG43XMpZ60D65n2Kb1/VseWH/Jv31vhzj0eMZ5wdRbT6WkZ9+QT4WHVyr/fs4nKdi0s1XlusMVdK3VdK8YPE/UqKflkIcRG4DfwXUsr37tNxP3O4F5rUYfadKaYYy9jMjqXQNPGxpG3PI3r50gpPTOe3KNKtNlwqDR83jKl2QzKmUhG8XfcoZSxSpobrx5i6KhgSAqYLaRKZ4EVxr0WYqn7MWAZSRgSRMogpXWBZAl0zsU3Fs3aCGD9USdQjY2kVx0RiGTrdIKbqhsRJQtNXEgKGJogTxU2PE+iEkkLKRBOqiEnTBEGUYGjgx9viiWpRQAJIASlDkHMsGt0AW5Nq37hfPdnbRUVaEBpYukbWtuj6IR1fFQQhQKCSu/mUxfn5Eq9crmBoqirV0FQCNWF3eBHMlQzGMw5pWydlaHSChHOzRS6vNlWTDikwNRXy0YUqSGp6EZrQOFZM8d7tBq0gIm0aRFKFkJCSzZbHE0cKTOcdFjc7GJqglDYpZW02mj6PT2VJmQYnJ7JcXG5g6ir0FCYJ5azN4+dy3K67XLrV4FgpRSwTml7MbCnNXClD3Q05OZEbjEE1Jnsqh2ttPnekCEISRDFxIgjCmDCKiZMEiWAqb6nwUTc8UBJymOJbSFlUWi4bsc8Ht1v8P//i8TtWnX2Fx4vLDeBgCorDTtP1jQ6OqVHtqDaB94tS/CBxPwz6m8BxKWVbCPEt4A+Ax3faUAjxHeA7AHNzc/fhpz99uBea1GH3rfbU/grWxy+LY2o03Jha1+PZ48pr6YtzmbrgSqUFCEwBfo8lI3q0PTeQpGxDGYtOQNMNuFZpIZF4YcyRvEPbg6xjIgRomiBKVDWlpmkEsWqJFsYJhZTF0bEUlbZPoxNS6/hsdAKiROLoKrbt9raNEmWcEykHzSpAxaRrXUWXa7mR+s1e0hI+NqQJoA3tF/b44p0gIoglKVNwZqbAesun0Q3o9oqqEql+g0QlUTu+hy56sXCZMJY2MXWNMzM5ukHMSsMjiCVPH83z3kqLpHcCfc9/JwjgsYk8JyezSClpuAFHi2lmig45x2CmkGKulAYE1zfa3K5HWJqS+tUFnJjI8t5KAyFVTkE3BClDRxeCME6YzDk8fbTA/3W2wErT4/p6m7eX6kwXHI4U0syX05QyNi0v5MPVJi+emaTeVd2SlqpdsrbOWMbm28/OognBT69UyPcciaYX3jEG++OzP6ZAMYaeOVbgWqVF1Y3Y7AQYmqDlhQRRjG1qXFyqAexZpTlM8c06Blknx/x4htsNd2DMf/DmMtW2r0TUdI1S1uaFx8qsNL0DKSgOO011V1UdRwncqHZIGQadIMSNYlbq7iMZZ79ngy6lbA79/WUhxD8UQpSllBs7bPtd4LsA58+f3yXC+NnGvdCkhvftl9+vt31KGXPHAVbKWJi6hhfFAw9dcboFU3lncKycbbLZ9ml6MXEsMXRIpKDlRWQsA8fUabjhQNwqihXzQROCbqgEt6SUfLjWxjZ1yjmbjieUbKtj4SUSGSn1uwQVH5/KWapARki6YYQXKQaEkAmdQPbUEdUqoI+dBkz/M79nMC1tZ494+2deDKle1tILJVdWm6qQqGfEd/qtBGXkBWqy8nrURtePMHQNP0oYT1s0/YhiyqTtBXQDOTDsw+hPDBKouSrc4EVq9XNiIsM3z85Q6/hcuFFH1zQcU+NIIcVKw8UxNXK2wVjaJOuosFfKUswZUxc96V7FDCplTM71jHm1E3Cyp9C4kwytEOzYgKLjR9yquRwrpcnZSg8dIQfKnMPjd3hMDW9XytgcH88QxAmGENysucRSNfWe6vU/vV13qTT9XcOP+1F8X7lcYWG9w1jGpGBZeFHMwnqHcsbipW3SCbth2Gkqpi26gQrFLddc5sezSCBjGo9sNek90xaFENNCqJEhhPhS75ib93rczyruhSbV33ep2uGtpToNT3k60/nUjs1sz80WKWVtah1F5ev6EXVX6Wpv6WE5nmJxs4Mm4EQ5g0DgJ0rjRMXYlbdn64KwJ1MbRYqSV+sGSlJV1zANjShOaHoRWVsnY1n0Wyy3/BC/J3V7pJiimFYc6I4fE4ZJb1JIBr0/E5Sx6xvWBHa2stsQ7JGMBDU4+9FTt+fKawK8KCGKVYhkv5+RgK4J9J6Al6bpPHt8jJxjUO0GqvuSbTBTTJNzNIxtb5nO1nNca3p0g5BaJ6SUtZnJO/zw0gq1rvJgW15Iww1JWRovnpnk62cmef5kCSEEta5POWNhaIJOEGLqit+O0Dh3bIxvnZ0ZNMHuKy4uVbss9wTF+uj4EWeP5Lm81kQIuaUBxfn5IpfXmoOxUncDah3V+3R4/A6P7Z22c8OI6YJDIWVx9miBIwWHUtamlDJIWwYbrYCcY/BKT7XxH/7kKv/9y+/zP/7kI37Ya8C9F8X33VsNimmDlKkYTCnToJg2ePdWY79hM8BwX9tn55Tc9HLdxdE1giim68d8+VT5gTWqvlfs66ELIb4PvAiUhRDLwH8LmABSyn8EfBv420KICHCB35FS/kp63wfBvYjo9/f93Z8tECUJExl7IIjV8sI7ur5cXK6jC0WR69MOzx8vDlguwz0sp/IOOcekG6ik52bLo+FF3Kp7ZB2D6ZyFpusEsY+hCbwer9fWVNl724/Imhq1UGmZlHMWM3mTGzWfKFYTgKbHdGO4dKuO1StgMXWNnK1R9xP8cOuwSYCUrgxoFO3seQ+FvA+E7cfQegeJ9gp073ScRNL2IpDw7q06labLVx8fRxMCP4q4UQsxNZWINHWdIErwoxg/3spJB8V4+ajS5isnx5HA//ynC5SzKmex0fK51Wgwnbf5+plJ/qMvzAIqNOCFMQ035KuPlbm63qba9mn6EZqEM9M5fuf8LC9fWqHaCZnI2oPwypmpPJfXWgBUmj6bnWBQIPTerQbvLjdpegH5lMWvP1bic0eK2EaLlKXjhjHnjxcBQSJVBejw+D03WxiwQrK2wdFiarDdkzN5ShmLly+tIhKIpORYwUEKMWiu0pf8/cJckZtVF02Dphv1+P2CZ2az/NG7a2x2fMYzNv/7548x2ZsAP6q0yNomc6U02f4KWIotq7z9MCx7MV/O8OceL/OHF2+jmwLH0vnqY2VOTmRJpHwkq0nFw7K958+flxcuXHgov/1pw/ZEz/X19h1L5v4A+2vPH9+S2BlOBO21ROwLcoWx5N+9v8LVSptuqMq4yxmLx6Zy/NaTUyxudvhwpcmtuupnmbEU42Bps0MQJ1i6jpJmVQnK6YLDyfE0v1isIZNk4GknEiwD5f1HKja+PdRhamBoGlImaJrANDTaXrwljn6v0FGTQnTI/fqhHUOowqhYJqRMJVJm6YoTr+kaT03lGMuonq1dP2Jho01vHkAAliEwdMFU1uKpo2PcqnVp+0o7vtENmchaHB1z0DSdvGPtWqOwWzLw3Vv1XjcoiRvGPHOsQDFt8fZS7f/f3ptH2ZGe532/r/a73769oYFuoAEMBjMkhpgFw+FQ5GQURuKIljiiTImkqChMHFNM4sRJLMeSbDGSjk5iWyeylZCRjiIrsmSRkkVHMh1R1Cj0kCNzmYWzcDALBoO9G7133732+vLHd+9Fd6MBNNa+DdRzTqMb1XWrv1u36q33e7/nfR6W24pCOJRXLfznay7fPrFEMWNQckzaQULLD/m+A4PcO1biiUNjl6XNXum6615jx+eancYul1YYkbN0xkrZDoXVY6HhEwOWJhgfyKHrYBuKAvmNY4vcu7NAyTGpeSGzNZ99g1nesavEd88scWy2iaFr3D2Sx9B1qm7AXcM59g7nN62muJ6qWO5o/qw35chY+iX9U28mhBDflVIe2eh3aet/n2MjquLZ5TaOqa9RvVtdx7wWJk03Mzm12KTZYUwYusZQzibvGCSJ5PRim8mhPN9+e5m8pTPXCHo2a2GodEsMkaB1HIGiRDEyji+0FIe6HRLHyvczTiTtEExN9rLj9XE6ShTtLkzAFuCHCRoXZ7jXg2s9VtzRkLEMAw1JGEDTV125hqba3h1TqK5Ry+C9dw3y+vkGby820TsPKq3DnjF1wXTNY7DgstT28QNJvVNOq/kxRiNkKA+mAZ9/+m0ev2ekF7S7tfH1gaoraDVcUNZ+GUvd6qcX2xwY1Yil5JG9g2uC1DNvzZOzlBtRlEhlep3EvHC6yscf3rPhtfilF84xVLCRwOvna8qP1dTXuBR1SxMrrYBvnVgiY2odjXrBXD2ikrVod8Tbvn1yiZGCjRsmDGQNTi42mRzKEUQRb9c9DIM1QnZvzTb49kkXL07QhPKt9aOEk0tt7hrOUclZRLHslZyuRBPuSlzcs6PIQ3sqquSy3Gaq6jJe7n+v0bT1v8+xOjh325wPjhZ5a655Ta4vl8JYOcPh8RKvTdd4c6ZBw1eGC1lT5/Rii2NzDV49X6PphwwWLBKUrKvioUMgO7VpIYmkCti6gLYfU3UDNCl7crhCyF7wNjTVrKNtMC0Wq74ypo5taFdVXrmZEALyttmTL0AoRhBCI4glEkkYSaJEMTzeubPM/uEctq736uemLjA0jYanqJ7VdghSydcKIdA0TXHvw5iGH7PUDFjsWMd97fVZ/uG/Pcq/f2MOTYg1bkRw4RqYHMz3JCBsQ4mbNbyIUsa86BpphRGOqbFvKI+pqzb5oq2y7fXKhN11ldPLbd6aa6AJwWvTDc4utzv9Ahdcik4uNPmr1+dwTFWyyNkG7TAmZ+k8sq/CSNGmlDF4c67JWNFhIGtjahqLzYBEJkyvtCk4ikkzkLmwINrwQlbaIe0o7rC0NHKWye5KhsGcySP7Btk3lGW8kl1z/1yu/r3R/TZeyTKUM7dFN2maofc5NqIq7hpQZgHdC0ygssWu1rSAi5g00ysus3WXLzx7ZsPszhTwV28uUO34UtqmzmIzQAj1MAijhCiOeWuuwd3DOeYyJqamMVtv88pUrbeAGUtBHKtsHSD0YzTAC1QaLjrc7W4+7kcXujO7pZQuA0QTkLF1Ej+m7kaq0WlVRO8G+6ssf98QdANInCinJJlAjKTphZ1uzJgdRZuhvMXppRZnjs1T9SImB7OcWGgSS0nDS9BE3Cs/na+2oaMyEsXK8s7QletS3Q2pt9Vn829enMILYnKmxlIr4HtTNfYOZTlfdfnc03Umyhm+dWKRZhAzXHC4ezhHDCw0/J4b1CtT1YuukZypbPS6lECAlbZPvhP41/uQnlluEcWSqRXJ+ZpH1tYwNJ3FesC+kTxN3+MvX5slThL2D+e5d6zEUN5m6K7hNSWLmarL733rFG4QUbRNGl5IwTHwGjHLjYCcYzCcd8hYBhnrQg463/DQNMjoek+EbjBvk8iEJw6N8MShMb7w7JkNk5vLUX03oga7Ybwl5ZWrRZqh9zkqOYuplTYvnlnhG2/N8+KZFaZW2j1q2/cfHCGMJY5p9FgMiw2fqarby+DPLbd54fQKo0WHobzN+arLbz9zipmq0tOeqXp8/hsn8UI1/bUMVQNueCFtT+mxVPI2H3lgnEf2DlL1Ig6M5Dm52GS25vX0TyJQWemqoCtRZY1Iqq8wUe34XXSDcbgqKscSLKFKDE03JkrUMdZzuVezYG41hFQiV1JKkkQ9wBJ54YETS5ir+zxzbJ635xvU3IicpanGGglepKzkpFQPuThWD0MpJaYhSKSiYoaRapOPUdz/hqd06MNEUvcj2kFELBOeOb6AELDcDPiLo3NU2yG6UFzvb51YxjY07ttV5lPv3duZjV3MtrprtICla0yttDg+1+C504u8cb7BuzsmGIK1PqTnll3mah4ZU6fphYRxgheGVL2Ahhvw1myD04st6m7ImaUW3zqx2JsldmeM3TLOcitkJG8jOzM10xCUcwYRkl0DGcbKDv/Fo3sII3osl6WWMuYeK2UuKUK3mrXSxeVowle7f78hzdD7HF3XlXLO6CwEBZxZavPQY+om26hertzeo14GP1t3eWiy3Ku5LzYCyjmDhabHRCXLQtMjSRLOLLUJogTHNBEiZKmpjjGUd9g3rBgSXdXDo9NVpaWdJPhxjKGpoLw+W9YVs2/N9s1k1IEEI+yYVHTur42C99WyXG4ETA0Gchb7R3I8d2oFL0zQewYWajyGprKlIJGcW3IZLSr6aMOP0YXE1C7slzV1oo6+iRdJklhp1RiakknQNdCkRjFrECXQDmKyHcleL1QaPEkiafsJb8zUMQ2NrKljaMpZaSnxeW26zi8/eahXJljNtlIPHNVEY43m+c6ZFaSUDOVt3rmzyHTN75Ry1vqQZgwDP44RQv2dVhATdTp/vzdV43zdJWuq7LkdJrihx9HpKo/dPdILkt3rVxl8CNo1F8fSsQ0lhBYn8Hc/cKA37qGCw1eOznC+5lJ2LL5vf5GxUpbTS03qXoihiTUidIfHy3zphXMstwPCWOnRV7IWHz0yseFneykLvH6sl2+ENKD3OWbqHkcmB1hoer3a513DBWbqHofZ3BTx/3z6OPN1n1OLLQq2yWy9zY5ihoanIuVczceLEsV4yFmcWW4TxRLH1JgYyLBnMKdEvs4us9Dwmau2ee5MlShSmirdDFpHfde4ELSlvKAzrosLAW8jGJo6RrdJKALiK9BPtqLcYumKt/5LH76PP3tpij/8zhnmaj7huoFJocS9mkFMfb5JGMW0wqSjsaL2yXYWLpebPoahMZZTpZzFhk87iNhRyvDeu4Z6fqHLrYDZmotj6tTdENeKqLYDLEN0MvgITcBsFBPFsH84x92jeRLYUB5ivu7x9WPzxIlyaVpqBUwO5nhkb6WnZnhuuc3nnz7OWx2q46LlU2+HFByNoK147cN5m7m6jxtE7BnMcmqpiW3oPSXM2brPYN7i1GKLB3aHvSD59LF5hjqUyqobsrOUodr2mW94lLMmn3hYdZSv9hPtzjK62b2pC+6fGOgF38cPjqz9wHoLNGqxo+lHfP3YHLKzDrR6Mfl6aMXrsRVepWlA73MstwJ2DWSYqFyw/lrNgV3fPXp0us7x+UbHGUfyjrESZ5fbyughSDjhN1lpKQOFu0ZUnXSh6eFHMQ03ou13sr9A/TxX97A0wdnlJsN5h1YQcWyuiRepBc7V/O1uoF6tIw5ryxCrsT67TpKL6YNbkYFfCa0QhBvwu399kuWWT9OP1gZzOu9DgogTWn5E0wuJVgt/qV/TdCOkhChJyOsGh8fL5GyD755ZZr4JjqkjgIGMRb3t44YRiVSv1pH4scQREj/orlskNPy4V86ZqrosuyHv3lO+6H3MVF2++Pw5dE0wmLNVZ+VSm71DOY5O18k7Shf9rbk6K+2QnK2jCaE6haUkjGEwZ9L0YqXVHiq3p9PLbdwgwdJUjX98IMuOok3NjZD2Wu569/qt5GzunyhxerFNLCV7hnJ86r17ASX4FSUJ83Wfl85W+fqxBT7x8ASHdw9cMfi+MlVlvJzh3h1FQN1P3zm5RBAnPLp/aEPWy+XUFzeLrfIqTQN6n+NKUgHdKeJKW7nen15s4YVq/3/78nm+9vo8k4NZ3p5rYeiCIIppeiEvnPbYPZDl7fk6pxZaHV0OSRAl1FzQhOywLASnO41CAo2m5xN2BLLWB9peVs4FnvXqDHr9ay71+itt6wfkLYOn31pgvuF2vEQvfmBBp6u007i00XsJJDgdiQNdwHdOLWEIsE2dgaxSJXxztk7eMjhfDyg6FhMV5YPqI9g74LCnkuXlqRq2ppyawhh0XWDrqhcAot6iNFzIHP/6+AJnllrcPVLodVYWHYPp5RZBAu8aL7HU8piv+6AJBrMWM3WX5XZIFMUYus6ussNwwUJKwdklxXApmBqGgFagxLzm6x47ShlaQcxH7t+1ZnFxdYmjnLU4MKqxo+Ss4a5HScLb8y0yps5IwabqBnzx+bOMFJ0rBt/1M9jTS03KWYMwltdkh7dZbJVXaRrQ+wwbNYg88/Yiy83qGsGhjz6oOgZXd49OrbTxo5iRQkYZKfsxJxab1L0AIQRnltpomqDsqAaYl6dqtPyYoGOyHMRS+awJgR9JKlnlmjPVCjANjbxlcHqpDeICT2WjwL6mXX8V+jHbvlZUPSWjEMaKS76R3IApwDJ1bEuHljLs6J4zuHAuChkTx9TImgYnFlvEiaScM3n/XYNIKXh1usbx+SYySWj7kjdmGsRJQjlj0fZjpqpqYRqpJHPztk4US4JYfZZjWZMzKy2+enSGUwst3pitY+uCMytt2n7Mq+drvGtXmbxjsGsgw18fW2RiMINj6MzUPKSQDGYs6p6y8Wt6yk3KNmLO16Du6tw1WsAwBJpQxhUIQZRIgjBmth5TyVuMD2R4/ODomnN0pRLHcktJKWRMvSd5W85YzDe8TQXH9QlRw4swNaWF08XN8BDdKq/SNKD3ETaapj3z1gL13qr7qpW3VRgrqzr3GzN1Klkb21QXfs5W308sttlVdhgp2gg03DBkrJRhseGz1PQRmkAkihcdRBd8NBMEc82AJJE03JBFQ8MLJVnrAml8TWdnR2e84Oh4YYzoUPCCTup6uwRzUMJhUUf3xe+IdK2HrgkcXWPvUJ6lht/ZV3Hwjc5iMUDDj3BDiBwoZgxMTSNr63zrxDLDedXYtdAMevLABcekFUiW2x6twGSkaDNStDm77OIYgqylE8QSM1EmFgmS+UbATNXjfLXN+aqLqWtkDB0hYb4RcHy+zv0TA8SJpJA12D2Qpe6F6EJjIGNiGTrLbR/H6Bzb0Bgq2DimRtVVmu1CiA77R7kqlRylqeKGMaWMxX/5vr0bBuDLZdnKF7TKSOFCcPSieNMa6usXOQ1NUPNC7hkr9Pa5WhbLZmrjW+VVmgb0PsJG07Tltrpov++u4d5+63VbQF1ATS8iSsIOr1kxHUxdoGvQDhOKtkEsVQv4a9M1tYCmKe3yrGnQ9EPiWLXn5yyNhhtimQalrEHDjZhacQmipCdqtR5dKRY3UFRDTcg1tfTbKaALoR5Xl3pPSpFRUs6ayiqvYDHbCepwQebAQBlluBJ0EWOZAl3TsHTVcKQDA3lbuSd1FC6jRHWjBpFQLkD1AMdSBthZU6fhRRiaRsbSsE2dWjtkopxhoelxZtntjEk5CNmmwXBB0R3nGz66Jvihd46yo6SacQSCo9NVGl5EIiUrLR8poWArtynHMMiaCcfm6uRMnaoXYulazxjajxJ2VzK8d//gNWmIHx4v8/VjC1TdgHJGKSi6QcL4SH5TwXH9DODu0QKLDb9nRn61LJbN1sa3ii2TBvQ+wkbTtDC+mG290dRtrOgQJJKWF1GwdfwgZqUVoAt4cKLMmSWXhqc0w5vtkEgqCpcuBA0/UqWYrAX4eLFE13VkrLjTQtOQhKruqKmqzKU44F3zCdVkdGPb9PsJUSxxDEE7kpcUDbN0xaIoOgZ7B3MsNvzeom/33JkGWIZOK4jxwoggFlhGQtMLlQ9qotrWSxmTlXagzr+UnU5cgaFruFHM7sEsYyWHs8ttzFaARGLoGo6hY+Thvoly7/NHCkxDEMaCvUNZzi21QcAH7h3p8be7wegdOwssNH0S2kgpqbZDirYyxXDMTuekqWMaGj/4zlH+7SvnMYQgn7HIWToF2+A9+4fWWL5dDcbKGT7x8ARffP4s8w2PobzF+EgeXRObNnJePwPoZtjXwmLZbG38RrJlrgZpQN8kbgUFaaNpmjJZXtsXv9HU7fWZOpOVDEen6yy2AvK2wXDeQgL3jJXI2SbPnlpioeGTdKiEugB0HU1KVtoBrqkTx5LBrEnLT9CB5XaA7JR4kvjyIlZb2bl5q5EA7ejSQSoBwliwq+xwz44i3zy5xEjJYXrZ681kTA1s08DWNbyOmbUQSgfHCy6UcUoZo7O4KXFDiamrco2qxwsMoXTugygiZ+uUszmKtkE9iJVRtVCzup3lDHsqWY6er+MHMVJIwjCmHcXsGcyuGb+pC54/vcxSw2e55SOlYCBv4YYJtqFR9QIMXyNj6ewt5cjbBnuHC9wzWqTmqQa10ZJSAzV1cVnLt0thtUhW3jbYU8lSylrXff9dD4vlamrjN4Itc7VIO0U3ge40a7Wm9Eb649eLjbr3KlmLSt6+rH76TNXlWyeWGCk6PHZwhHvHipSzyuj5nh0FXp2qcWKxScuP1ghhJQiiOCaUEMZg6xrFjIljdqbTpq6mpokyhLiSIqE6ZooupEw4NtvkqdfneXuuwWzVUzINnbsuTKDlRYyVHcaKljLQSACpgrYGhImy6RMdcbIwTNA1JSXrh4miDyaSEwsNztd8xooOURTz8lSNWjsgY6os/fhcC0vXGB/I4PkRfpxgaYK5po8fxLxjrIgbxHzphXN86cUpHFNncjDLbN0HIXjXriLj5SwCSSuICULV6dryIxZqPhnLwA1i3rN/kEpOJRK7KzlMXWxa7381uv6hTT9iZymDBI5ON3jnWJEnDo1tmY5Kv3eSphn6JnCrKEgbTdO6HW1X4toO5RWtsOjoFMdKiq+cqPZ0y9RYboY4lk6UQBglaNqFxStTU80yQSIZKdokEnYPZgkTyULDo+ndroWTC7jRDBwNJas7U/fYN5xjrh70DKs1LtAcIwlNP6TqSfK2ThDFquO2o5sedGJH2w8pZEyCMAYkGUPHzOtYhiCIJIYGu8oZpYDZjhkp2shE0PBjNE3w6N4B3DBmvuFzaLyMbQrOLLsMFQRDBafnD7rcVg5FbhDxjWMLSKBo2Cy2AgSweyinGDZZm2o7IGsqhcN3jCl/2gImj+yt8MZMne9NVXns7uFrKjWs9g8F+sbPs987SdOAvgncSgpSd5rWLfF0BbcuN8VcbgUc3FHge1PKDTCMY6aWXRbbPo6pMVpwCGWCqelkLZj3Y2Ss9FIkqqNRGQsnTK94JMhenfZS/OnbDTd6wVYCYWeBeWbFXcPRX637LoG5mkeUCHQh0YWGY2jERkI7SHr6NUJo7B3MstwKMQ1BKWNhmxrTKy66UHK8jqlzeqlFKWMqCdoo5tDOMm6o9HgmOtIPQ3kbTQi+8uo07UDpkp+vuUwOKuPnc8tt9fBIEjKGxlLLoxUaPavBMJb8zQd3A5KTCy2+fXKR0WKDfcM5KjmbSs7m0f1DLDb9axa0Wu0f2kXJMTlfu7Gz4qvFVtXGN4s0oG8Ct5qCdKmV9NXekKuDfCVn4QbKvODVqRpvztVxDJ3Du0q8dr7OS2eq+GFMO4mJkwvMjKDzg6WjeMMx2KZa9Kz7SoDJTq+Qa4JAlamsJKElLsxwNnpwhElHoRIwDNHRy1HGFxqK1hglkukVj5yjqIY1N6QgDcYHMiw2A1Vjl6pzcyBn0w4Sch0NdMfQmW94HJ5QmW3LjwjjhIVGgCa0zjoNvHyuxmy1rTjfpkHeMgmihEgmzNc9KjkLP0pwTJ1vvr2AQJBzdEaLDg0/5OVzNe6fKFHJ2dd9f1zJP3QrsRW18c0iraFvAtfjA3ot2EiTOU4kX3z+3IZ1/O74TF0jZxvcPVpgopLjvvEBDEPgRjGmppT+1JRdQTExoB2A76t6bBRL2h3pQ8Wbvilvsa9w8bLzjUMslZiWeYk/YAAaEoSifYaREjuLO2bKQigp3qGciRcltPwYw9DQBZxaaLLcCnAMjbGSTSlncmA0j2NqtPyQYsZQzBQ36LFCutfKGzN1xsoOQRzTCmJ2DmQRQtIKEgY6CcL+oWxPutfUIGvpuH7MnkqWhhey1FksfXiygpQCIVTGfiPujw8dGrusf2iKjZHmX5vArZ5mbVTimW+4NNyQ4/MNGl7UUahTnqBPHBrrjW+27jJWctg7VOhlSBlTp+XHqslnnZ540impJICMlcPQ6hLL7cQd3wgaHapl5/86oGmKenm9pSYDdQzHVPZpNTe6SB5A01StXdMlcWdWpAvRcxiKOp+JH0HB1rBMnbmqix8rYTSkoGCrzt+7hnOA4Mxym+87MIgfyh63/BMP7+5drz/wjlH+j39fx9I1dpZspqsez7y1QBjFHU2fAIkgaxvsGcpwZqmFrumUMhZH9pRJpMYLZ5dxDI37J8pUchaljMWpxQYzNZf7d5cve39shjF2ePcAn36MnrLiaNHhJx6a2NL6+XZAGtA3iVs5zdqoxHNu2aXmKhPdomPiRcpswutk3N2xvXR2pWNM0QTyPa3yrKUh0fGjqBeoEtY2nV6GhXfbottEZWjgBgmmoSEkaCa0O4JXpnZBAtjQILjCGrGtgaZrxB1Cvm1o+GHCRlTsJIFYJsSxxDLANgwMHfYO5zi50ELToOgohx8/gh220dNVMTXBvWMFvDDG1AXnVlweu3uY9+4f7JXm7t9dvihgjpUzPHb3MDNVj1fOrRDESro3iRMaXkQ7TMiYGqYhmKv77B8p8N79Q2ssD91QTd26SUMlZ2HqRQ5PDFy2bn41olWHdw+kAfwqkQb0PsRGK+krbshwwSJjqo8sYxp4obJ3m6m6fP3YPF97c56WF9AOE2ZrHtMrLmHHPUgIsA1xRyxwXg1MTbkDdR2S3A7/ezXrRUpVOunOaK4EPwEtSTreoYpu6K/rru0ePwKSUEnXDuRMDJSFXxDFWIbWcS3SaYcBiRCcXW5jGzq2rlHJWcw1PLwwIWPolLKSr70+y+mlNrsGMjyyd/CiYN7Njk8uNPnmiSWiKCaKYkxNMNfp8tQNgUDQ9hMcUyUEyiov7F2PlawFmlizbTNsj40YYyvtgN/71in2DOZumczs7Yq0ht6H6JZ4VnsY3rezSMZUXF8pVfdgkqjA8Fevz/HS2RWaXohlGB2xqISzSy7VdgBSUncjotuffXjV0DSBrgmCUC1iqvadC99BzVy6nbEbiXBteFzRKWclEMsLLk6mAMeEgn2h0cbQYLSoHtZ+AnuHsnzs4T08urdC3jEZyJoUHBNdE8pMQ4OBvEXBMZmv++Qsg5ofMlV1map6ZEyDuhvy/OkVvvTiVK9fopsdz1Q9Gl5IteVzelmpJ1qGRoLEMXUMoZO1DAbyJnsHlU75+uvxo0cm+OiD41fts7ne73a55XN8rtkrM96sHo87BWmG3ifYqK64fup6vuqy2AioeyEF22TXQJ4T8w1OLTZ56WyVjKUrl5xI0g5iSo7O2RVlOGC3AtVlqIVr7N7udCSxCrabOSWXkjtYDw1loeaGklhCrqupBggJuoRspxEnkpBzDCTQ8kPVxBWqWvpM3WNnWfnHGrpGXggcUydj6mgIWkFEECecr7ZYakdkTQ3b0DE0DSlkzzij2y/xylSVOJEcn28SywRLN4CAph8zVs5g6co5ydQFmhDYuk6QJNimfsmS49Vm0uvLiacX22gaDOfsmypne6cgDeh9gM3UFQ+Pl5mv+xwYzfemuFPLbeYbARMDWRVA/IiFRkA5o6NpGivtmFhKDE1jVznLcjug3lZ65ikUwpt0KrxVB47WnW9DCLzO4nPegrxt4IUJedtgKGdhWQaLDZ9WEFPOaIwWHbKWzkzVY8DWaAUJgzmLcystvDAm0XUGswZzjYAkCbB0HcfSObXYYlc501MlXG4FSr9dJsxUPfKOTt7T8cOE0wtNHENjpR2iawJTV7TJWjvihw6tlby9HhmM9eXEhaaPoQkmB/O9fS7X47EVLkDbCWlA7wNsphN1I6bNUMFmfCCD0BRv99hsA00I3DChmDFohyGjeQtLFxQdk1gmOJaOG0W3PXtlq7CRlo2UAkuThB2rPi+WlExBJWuAEOweyJCxDWUg4occGMkzXsmybzDLbCNgvu4RJ5C1Ndphws6OXK5Esm+ogB/FvDlbJ05U9T+SkpxlsNRSRtGrFy5fOrtCw4uwDR3LUMamtunT8CIsXTBWdNANNRPIWgb3j+d58oHx3nt55ewKX3z+HHEiGcxZeGHMfN3ftBPPxdexyY5iZg1n/VIc9q1yAdpOuGJAF0L8LvDDwLyU8tAGvxfAbwAfAtrAp6SUL97ogd7O2Iim6EcxL5xZZrnTcg2SaluZKpQyJpWcxbnlNrV2wPem60gplQa5lNRiJZGbJJKxksNSK8A2dbwwwQvSYH6j0fVMvRRiKXt0RUuDjKWhd8yKC46JFIIwSjA1wWjB5tCukuon2FFktBjyynQVCxDSQNcSLFNncjCn/GVHClTbIa/P1JUhN0pYyzSUSUkrjHt8cCVFO89yK2AwZxFECUIT3LerRCVnMVHJ8f0HRy6ZASvLurMXLOtC5SR010juqkokq8s33SC9mcXVrXIB2k7YTIb+e8DngN+/xO9/CDjQ+XoE+M3O9xRXQHf6+OzJJepuyEDOYkcxQzlrcGyuSdEx0ITgG2/Nq/bwOKGUtRjIWfhRzDfeWsDQBaNFm7obstBMcAO1aGYbGuWsyVS1jRcknK+6uEFMkNbPbzzkheYksYEV3er/W4aGZWgM5SwcU+c/vmeYqhux3AoZ7pglV3JKjG3fcJ6Vlk8QJ9TcgIVGwMHBHFlb5625Bm4Y45g6uys5xsoZRgsOS01VqoliyWjJYSTvrJGSGMiYHfprzFgpw1jJRtd0RgoqS14fbFfLT6y0gk5mbivLuo6C4nzdxzGvXk0Rrq7H42ZJcNxOZZwrBnQp5TNCiMnL7PIk8PtSSgl8RwhRFkKMSSlnbtQgb0d0M5MoUTQ55VoTY+iCF8+2GchaPLJ3kKPTVartUC2MaRpSKo/JN2bqHbYLjBQy2IbGTM0jEEo4aSBrs9LyafsJpi4I4+TmtUPe4UhQp9Y2NUYLNvN1FzdS2bK2ah+AUsbCMjR2lrMstXzKWZsffWCiV0rI2Uav0/I9+wZ5+tg8j+4f4uWzVSzdoO4FzNY9EgkP7Snz1lyz8wck51ba2KbGuycHKGWV9+aRPeU1pYoH9lSwTZ1nji+ia6oMM1LIrNEX79Jgv3ViiaG8Uu10g5hvnViinDHworhHn3VMjfmGz/27y2vOydUEyc32eNwMCY7brYxzI2rou4Bzq/4/1dl2UUAXQnwa+DTA7t27b8Cf3h7Y6OLuTh+PzzXJGDoF22Sm1qbuRTiGxlBe6T4fm2vgBhErbgBSOcCYmmCpHVDOmrhxTNMPOb3Uot1xCnKDiIWWx0orIIoVa8GP5IaNLSluDDQBcZKw1ApoR+v4wB3SuUApKxY1C4nk0M4ikgtZ6tePzfHCmWWkhN0DGb5+bI7XzquOztm6x1IzwAtjmn5EFEuq7YBSxqAdRBQyBkVHxw0lz51dYVfR5tDOMo8fHL2oVHFoV5lixmSu7jFRWcv97tbIzyy1yJjK9ep7U3XunygxlFcBNZYCiHAMfY2sQBc3K0jeKKXD1ffjmaUWO4qZ26aMc0sXRaWUvw38NsCRI0fuiPByqYu76YfcNVJgtt5moREgJWQsg5obkiSS6arq9FtqBtiGhqUbNL2Qph9RzJgYhmKyWAYsNnySRJLptDT6UYIZyl4TTMtP0oai64Ap1GLm6jq5hmrbNwRINJIkIYxBFxd0cARgGSjFStnlt0uQkoJtsG+4sCa7DGM4sqeCHyU8d2oZN4xwdI3Xl13Or7QxNEHOMWj7McWsQSuI8KKY4UKG+3aVMHWdhhfihrHStu8ce6NSxfhAFsfU+clH9vS2ra6RW4ZAE0r+d6zocHqxzcEdBb51YokHxkrMN1zmG95FsgJw82rdN0KCY/39+NLZKnU3Imcbvc/iVpg53yzciIA+DUys+v94Z9sdg8tNLy91cU9X27T8iJafEEQJTT9GIClnTBBwbLbB1EqbxYZLENPxQEwUlcwN2Fly8EOJGye4oRLfSpIETVdGvU0vIIhvfy2WW4HVcrerkSQQAoae9OiPmlB6MF19HK+TrRtCNRAhoekFnFtpE0t4rznYu34KjkEYS54+Ns9Sw6fuq7r6fbuKnF1u0XQjJbSmC4JQ2QEGYUI5a/DCmRXGBzKMD2SRUlL3QsbLGb5+bJ4zSy1eOruCYyohCInyJL17NL/m/XR56oM5m5VWQBhLkkRybL6BvdzCDYvcuyPPWNlRdEkJpYzJTN1jpOr2rvmbKTd9vRIc6+/H4bxNzQs4vdSkkqsA/WVYcbW4EZ2iXwZ+Wii8B6jdSfXzK7kZre+MA3VxlzNWx8xXUHdDoiTGjxPcMGG+7lNzfRYaPoauITSI4lhJqXbqq3nH5PGDQwzkLCRqgWogZzOQMcmZRi+Yp2Xz60O3RX/9uUxWbTd0TTUTCRCaIGcJLF0xWrowdNg5kGG0aKPpOiutkHLG4MWzK/zG197ilbMr+FHCy+eqNL2QWIIhNObrPpoQDOZMrI4doaWrBUgpJaaugRRU2wGOobZ7YULBNvGjhG+dWGK06OCHCW/ONDg+3yCIEmpuxGIrXNORqQKxMmIeKWQ6C7EeTS8iZ+nU3IhIKmpjzja4Z0eRu0YKF13z/ezqs/5+nBzKkiR0rBlvvpLqzcZmaItfBB4HhoQQU8D/DJgAUsrfAr6Coiy+jaIt/uc3a7D9iCtNL9cv5Cy3At6YqRHECYd2lhjImbSmQpZaAX4o0Tt+kQLwwoiSY5A3dapuiBdKTFMwlDHZN5xjuuYzmLMgUfS0th+x3A5praKypBn69WH1wub6c9kN8m6Q9ITORKcNN+8YJImEICZr6WiaIIzVsfKWToLkfM0jTpSRyIn5JkutACFgoekztewikdi6xpuzNQQC29LQhNJwEUJJ5FZyJjUvVJ2nYYRAww1jDu7I88ZMnaG8xe5KjtOLLdp+jBvFVN2QI3sGOF91+dzTx3n/gWEOjyvVRD9MOD7fJGNpZCyDqhsipCrRHNpVxtQFXzk6wz07ipe85vvZ1Wf9/VjJ2RwYzTNX9/rSsOJqsRmWyyeu8HsJ/Dc3bETbDFeaXq6+uLu1USHg4ckBbEOn7oZU3RAEWKYgjFUDSjeILLvRBUockNE1Gl7ETM2jYKsFMTdKlIBXp70/xY3F5dYfur/rZvLdZ6kbRFiGTtHRCToF9DiJ8SLlKNXVurctZTu31Az43lQVQ9dY6mSLGpBIyZszDYYKDpWcTRwrT09LTyhnTYYLDpOVLAeGc7w202Aob/Gu8SKmrrHUCnjvfhVEJXBwrADATM3l1GIbx1QiXN0M+/B4SXUjj+SVXLMXMVKw+Y/uHmHvkCrPJFIyV/d4aE9lzXlYfc33s6vPRg8bQ9P41Hv39sX4rhdpp+h14kpUqtUX9/OnlyllDO4dK1LJqYfAyYUWxYzBcisiipPeQmbXf3K1fogAWmGMJuCF0ysM5S1WWj6lrPruhXeGXdxWYiPvUa2zcfX2MAbHAE1oGJoyVE4SgWlAK5Cq2SiRWIZACI0dJZszy20aXohl6NgdM4kEiRAacRJjGzaWo64KxzTQgSBKMHSNyeEcj+4f6snmZiydR/dVsDtlmIJt4oUJCPVAGMhZIAVFR+tduzN1r3et2qZGImFHMcNEJdt7Xy0/YrToXJE+2K+uPv38sLkRSAP6dWIz08vuxd3N5jWhqrHLrUBJ3CYRfnRxQ8pFLeRAFKsAstwMaLoBmqZRsBXDwugYM6S4edhwcXTVxu6CqCaURkvNiyg6BsWMiWlo5G2Dl88us9DwWWotkjV0dpQs7ts1wGzNpxqFOIbANkxyXQGvOGbFDclaFgMZg6GCSd2NCRPJo/uH2DWQoeVHvDJVW0MN7K7vAOwezPD86RWkhJypIxPwIlWagQsZ9ma6OD90aIxXpmq91/VTSWUz6NeHzY1AGtCvE1fzxK/kLKZXXBaaHnM1n7MrLfw4Io43L8vardXqAsIERJIw2/DTDtA+QYxaDLVNjRgQQrBrIINjGYwVM7w1VyOIFUNGF5IgTpipBThmHV1TglitIMENA2xDMFKwmW0kjBUzHNlTZnrF49RSG0MIBvMWC02Pk4vNNQ5WG+n/uGHMkT1lQPDqdA2J7Pl/wsaLlpe7tkeKzm2b5W5npAH9BmCzT/yxosO/e3mGcs6g5YcsNlTHX5hc/eLl6mw+9NNo3k+IEijqGjtKGSYrGWzT4NXpKq4fcWyuiSbAMDSEANPQsE2Ncyseh3apRqP5mothaL1+BF0IDu0sUchY3JNRfp+vTq8wV/cZLWU2dLDqYqNr8/FO5q2osPKyGfblZHPTAN5/SAP6TUSXX/y9c1Xenm8y13DJmjqOmWW27lFzI4QUyJSL0tfImAJD0wjCmPXPzvWt/aAezo5pEIYx94yVMHTBy+dWmKsHxIkqxQihdVgpsLPocGqpxb6hAnsGJW/N6pxebnf00iXvHCug6xc4kI6pUXVDRgvOhg5WV8LtXke+k5EG9OvA5RqKuvXHlbbPsyeXsS2Nlq9S8ZfPVWn7Ee1QCX5oGwg6pdh6OAYEkTLZDkLlxeroHe65puGGCRqqvGIayhSiHcTIRLKnkmVXxWGm5rJ3KM9EJUPdjWgFIYmUGBrYpo6tCzK2Qc4yaPoBDT8GBOWMxcRAhoYXs3Mgy9sdzZbBnEXVDbB1jYGcytYdU2OpGTBdbZOxNL56dOaKAlNphn17Ig3oXJva2pX0Krr89G+eWCSfMQijhMWGx7lQ+Zz5aQDvazi6wNIFUio/0J4xtNCwtAsLnwJlwN3yYzRNYBka79iRJ58xOb3s4hg+P3r/Lo7N1Sk7CX4Yc2yuiR8m6JokijWWGgHvnhzg2FyLckaVTxKZsNCIuWc0R9YyGa8ou7Y4SdA1wd+4bwzL1FlsBMzUPBYaPoN5pdbZpSHeCIGp20mJ8E7AHR/Qr1VI6EoNRS+fXeHUQptnTy+CFHhhBAL81NdzW8AxNUxNoGk6iVRBFCkJo4QAMDShdNABiUBoirk0nDNxI0kulkxWMuRsk1emaoyXM7y90OLgjhJuEDHfCPHjmKJt8OBEiT1DOapuzGLLZ7bmkjUNChmD4WKGQ7tKnFxoMVt3+cC9o70uxr96fY4Do3kkCRlLQ0rBvuHcDdNOud2UCO8E3PEB/WqEhFZnK6+drzExkOH4XJOGrzw+dw9mcMOYV86u8NzplY4+tqDZaYNO0mC+beCGMZm8TdHUqbsBbrC24QuUaYUmwNQEsSYIpeKM502dKEk4udDmB9+5g4JjYOowWcny7ZOLSCEYKlqUHJMfeMcOhgs233hrHkNXDw1D04ilRO9cO5Wcjalr3L97rc9stw4+U/PYUcywbzjXY63cCO2UK90bafbef7gRWi7bGpfSWun6MHaxXrMlCGP+4ugcyy2foqN0M54/vUKtHfD5p98mThLOr7jonfp40rEfS9Hf0ABbp2PPJnHDhJxjMVKwMUSniQjF95eATFTwH8jb7Cpn0HXBXCtAE7LnJpSzDSSCx+4eJoglg3mbfUN59g3nOL3Uxo8Szq94rLQDdpQy3DNWIGcb1L2IxWZwSX2RsXKGJw6N8cShMQ7uKPSCOdwY7ZTL3RtX0jBKsTW44zP0zYrmr89WMpaJqQsWmj6DeRuEZKkZcHapyWw9oODotAIlsqQBa6WKUvQjdKCUM4hjSZRIJIK6G2DogiiWSpyrUzeXEixdPai9MKHuhkxUMoyVMiy1A2puREKbmZrLUMFiZznDTN3jvl0lNKH13H7cMOLYbB0pJIZQAg8Z06BoG0y5LicWGrw5W+dDh8Yumf12m9tW2gHzdZ+lVtCRtZ3YcP/N4nL3RmoH15+44zP0w+NlGl5Ewwsvq7a2PluRSO4dK9L0Io6er3F0qsbUcoumr1rzzyy1aQYJ7SDVIt8uiIEwStA0GM5blDMGSeeBLBDouiBj6mRMHdvUsA0DCcofNGcRxVKVOmo+DT/CFEqq9runq4wVHZZbgXL/CWPcIEZKiUxgqRWwq5Rh90AWQ1eLn60wZvdAhv3Dee7ZUeSVqdols18liFXirbkGSy2fobzJwdHCZV+zGVzu3tjszDbFrcUdn6F3b4avHJ1hru4xWnQ2zIbWZysF2+R8rY1latw1kmd6xeXccptWM8AxBe0g6bHLU6eg7QGBElDzQqhkTASCkbxFwbGIpWSu7tL2Y6JEqgVRTWCbGkM5h4GsiRdJJe9QtHH9mJofcs+OAvuGCszUPSodmuH9EyVOL7apeyGGJnh0nxK6euFMlZ2lLFKCbRgEcczk4OYWOWfqHo/sHVyTTTe88Loy5svx1W+GHVyK68cdH9DVwk6Ne3YUeWhPpaeJMVJ01twI3WlttR0y33B5a7bBy1M1HEOp49XciOV2gEDiRyJtFepjmJoqlZiGIOooIZqGIOjY9Bk6VN2QIAooZEwWWz6jBYuMqRMnksBTYvNhklDJmgwXLXaWs+RtnROLLZJEcniizH3jqrU+kZLFps/3HxzpsUbu313udWg+fnAUgMVGwHJbfeUtndGszaFdZeDKi5w3y1TiUnz1fpbIvZNxxwf0zdYCu5n8F58/x0LD4/RSi1YQ4gaChhfR9OOeWXDa+dnfqGRNam7UU0nMWkp3pWBr6JrAC2Nqbkze0TF0jZG8zXTNxdSVFnklJ9E1HU2DomOyv5LlubNVgihGSpisqOvm1ekaBdvs1dA38g69b1cJUNfXR49M8MpUlSBOCKMEx9R5dbra02kZKzu997CeYSKQtzRjTrtN+xN3fEC/msxmpu4xVrJ55VyVmhuhCw2BpB3EvTp5Gsr7GxqgazoZM8aLlZOIY+roHW/QgbxJrR3R9ENsXUOgrgfH0LF0Qc4xKdkGbhThh5Llls9/qHlU8hYjuRwLLY+jM02WXSWGVfMCziy1eeixgd4Yut6h3cy2y+2er3u8dHaFc8ttzq24HBjJcddwgZobcmbR5dOP7QU25ocvtkJIAsYr2VuWMafdpv2HOz6gX00t8NRCi+dPLxNJVR83NaWMF6VRfNvAEJCzdSzTZkhT4lQr7ZBAJpSzOpauI2XEaMGi4SdYhoZj6QzlLWbrHqWsMujOCKi7ysTb1DWKtoltGeiuzmBeXVNnVlwO7Sxy17CqoR/m0jPCP3vpHEenm5RzBllTZyBrcmK+jYZg33CB/cP5yx5jvAxeGJOx9DRjvoNxxwf0q6kFVt2AIFJ+jUsNRQ2LOqm5RmousR0QSWUPV8wow4eMKYilpOlFtLyEkgOVnEnDDfHDBENT9fJ3jZeovx1h6BpRHHO+5gNJR4cnYbkdYhkaQZRQzpg0/JA9lSwP7q70auhw6Rnht08uM1HJMpC1ma667ChmKNgxEsGDewY2dQw3jNc0HqW483DHB/TNsFy69cpTi03mqh5uGNPyQ6L4QoklDebbA4aOKmcYmnIZkhp7BnPMVF2aXsxAzmS22mKpFSiLt7xFww/5zkmXyYpDK5BM11wEXUcpQRIrE++qq4J6O4hwTIOCrTLo7oxvpupyZqnFS2erDOdtJoeyVHKqZOKGMaVOxp01dcI4IWtpLLeDNceAq5tVprizcMfz0FezXD50386LOL+rO+JyloEbx7TDhIyppfXybQhFCdRo+BGOqSOBycEcB0cL5B0dP0qwTYu9w1lKWQvHMihnTO4ezeNGkp3lDGGUUGuHAOypZDB0WGr6LNQ96m7AbNVDSkkxo/e422NFh796fY6MqTNTdXnh7BJffvk8r06v0PAiDo4WqHnqmCOFDH6UUPNCyo51UW/EZnsnUtx5uOMD+up6pCYEBcckShJ+71un+MKzZ/i9b50iShIKjslSK6TgWOwayGBqWpqVb0NECTTdgNmajy4Ek4NZDE2jkLH4sQd3sW84B0IyXs7y7slBHtpTYd9wgbxjMN/wiRLVPFTKmiRoOKbBo/sGsQ2NhaZPw42YHMwyOZjl9ZkGXhjxA+8YZabuESUJ842A8YEsg1mLII554UyVw+MlfvyhCaqtiJW2T9bSGMxZeGHC3uEsGUtfI4jVZZh06+Xrf5/izsUdX3JZX49cbvkcn2sSJQkP7anw0tkV6m5E3jbwo5iJAYfpFZeqlzbzb0cYGhQzFoYuGCrYSFTGPlq0eHu+xUzdJYiSjq7KBXPk04stxooO79k3yHS1xVIrwdYgYymTZccyOFhweN+BYbwoxg0SDozkGcjZjJUzPH1snvm6rzpNLZ2hgs0+KZlveMzUPZ44NManH4OvHJ3hfM1ltOjwqfdOcnj3wIbvI2WYpNgId3xAX1+PPL3YVq3fOWXmPFywqbkhR6dreGHCfM1jpu4Spun5tkScQCIlY+UMmgYP7h7Aj2K+8dYi51dcDo7lKVkGL03XcMNlDk+UFRPGDfnh+3YAUM7aRDEkiaTWjrCNkIJjsLPkIITouAhFzDdcbFNNgis5i5fOVhkpXEgevChmKG/12uUP7x7oBfDuus1rz55JlQxTbBp3fMllfT3yzFKLM0tt5mo+L55dRhdw9FyNP3/1PAsNj+mqS5qc9zcEyqhZR1FLNS5c6KYOJcdguRkyXXV5c7bOd04u4YUx9+wsMFLIMDlS4IHxMkkieXO2Tt42+BuHRrENg5fPVRnIWuRsg4ytk7MNDE1QsE1KmQvB2jF0FptBb6Hy8HgZXRNU3QApJW4Y4QYJI4XMRYuZqZJhimvFpjJ0IcQTwG+g7pHfkVL+43W//xTwa8B0Z9PnpJS/cwPHeVPQzYJafsR0tY1AURNHCg45W+eVcyu8Pd+k7kUkiaQhI4I0M+97ZEwNSxfomiCMExq+0l6xhPpdkEAxo0S27tlRZKbmUc4YDOVsmp7KrFtBRCVv8ei+If6r77+LmarLb3ztLXRNMJi1QMJ0tU3RMQjjhCOTA8w3AuUDGse8OdtgsRUQxgkrLZ/HD47yiYcn+OLzZ5lveAzlLcZH8uiauGgxM1UyTHGtuGJAF0LowOeBHwCmgOeFEF+WUr6+btc/llL+nZswxpuC1d12+0fytPyIZ08t8/BkhVOLLY7PtVhpB7T9mCCUmDoIkfLN+x2i8xXGksGCTRAlxFI1/1i6IE5gMG9iG4pWGMaK331qsUXWrKMJGC3ZOB1xrDPLbWaqLmPlDLsrWepuRN0LqeQsHtxTppy1eHu+Qd42KWZMTi40eelsjaYXct94kUrW5oUzVRYbAR89MsHf/cDdvDJV5eRCk9m6SzmjpGiBXrC+Wbosm0VqXLF9sZkM/d3A21LKkwBCiD8CngTWB/RthVemqsSJ5Ph8g4YXUXAMGm7IQNaglDFpeTGnlyMSKdF1gaYJ/CiVwu13WBqYukYklSqiY+o4hobsCJlnLI1K1qKUtQmjiC999ywzVY8gSvB8jziB5bZP0bE4MJLj7tF8LzPeN5zHDeKLFA33Dec5PF7mlakqJxaajBRtDo0XGc4r7RUhBMvtgFemqr3Gn/m6z1gpc1H7/1YrGaa2c9sbm6mh7wLOrfr/VGfbevxNIcT3hBBfEkJsqKwvhPi0EOIFIcQLCwsL1zDcG4dTCy3emmvgR0nPcajmhpxbdpHAwbECg1kbXdOQUuJHCXFKPO97SAkFx2CsmCGJJbV2SM7SMXUNx9AZKzkkCE4sNPjumSrnqy6OpVPOmASJRApJEiuD6IxlkLX0C4uWl+F/d92D3rmzxK6yw9Aq9yDH1Ahj2TvORlTZgmP0MvWt5JlfaWwp+hs3alH03wGTUsp3AX8F/MuNdpJS/raU8oiU8sjw8PAN+tPXhqoboGmQMY0eM2GoYDFX85habvPSuRXcMCKMlW5LGsz7D7pQNMTe/wHDUJ+tpWvoGgxklcbKYM6kkjUp2CZvzTaV1ZypESXQ8CIMHSpZi0rWYrhoYegaC82Avzw6S1cMeTP870rOwtQ1vOiC4aAXJpgdEwy4su3hVvLMU+MKNUv56tEZvvDsGb56dGZbLUZvpuQyDazOuMe5sPgJgJRyadV/fwf4p9c/tJuLUsak7ka4QYxjanhhQpKAZWoM5S2Onq+x2PSIEtnTa0nRf9CFIO4IFieA0HQGc5Yy5hYwUclhGRpLTZ+6F9EMIgayBkEsafkxfpTg6Bp1N2IwbzNb8/DihNG8Q8YULLVCFlthr45+Jf734fEyx+ebnFpoIbMSpKDmhUxWsr0MezMlla3imV9Nued2rLVv95LTZjL054EDQoi9QggL+Djw5dU7CCFWKwJ9GHjjxg3x5mDfcJ4Do3lsQ6PuhYRxzELDI5GqLlp1I+JE8ZZT9A8UFRFylkYiwY8vqM9rQN7S0DRBzQ0xBCAkdTdkru4RJgmnF1u0/Ijlps9Q3mIoZyEFtMOYdhAr42cpafgB842A/UM5xsuZTZccxsoZPvrgOA9PDuCFCX6sZHQ/emSiFxD6uXV/s2O7XamV273kdMUMXUoZCSH+DvCXqPvpd6WUrwkhfgV4QUr5ZeC/E0J8GOWFvAx86iaO+ZqxOqMQSFpBzIHRPHN1l6dem+PMchsdyYobgVQZXxrP+wd6h2WUs3X8MF6jpSM63/0wxtR1BEpZ8fhsAy+SgKSgg9aRbJBAK4jZUXTQGx5xrLpDbU1j/3CWjGXRCiLiRK2fuGHMZjFWzvCJR/bwiVXbutP4C9lsiZm613dSt5s1rrhdqZVbzTC6XmyKhy6l/ArwlXXbPrvq558Hfv7GDu3SuJap3kZTKZKA2ZrLXxydpRVE5Eyd+YafdoH2IQQX6uX37CjyxkwNmSS94GwZGpomCWJJztY7++uUsibnq21A4AaSnUWbRhCTtw2COMEyNQpZiyN7B5lvuISRxI8TLF1jfLSArguOzdZ55DqMIja69l6ZqvXtNH4z5Z7tHvguhe2uZLntOkWvdaq3fioVxgnL7YBvnVyi6UcYAuYbnnKxSbFlWH9BalwoswjA0jV2VzLousbYQIa7dxSYHMyhC2h5Ei+U1N2IOEkoZQwKjoGpaRRsg0RCM4ixDZ0gihFCcHBHgR9/aIKH9gwwXHD44KEdTA7mGSsrSqFMYKkVXFc5ZLtP4zdCN/CtxnYKfJdCP5fDNoNtF9Cv9eZYvXq/3PJ5+VyNlhdxdqnF+ZU2x+bbeJufVae4SRBA2dEoOZpiohgwWrTJOwYZ22R8IIOh6xwYzlNwTAayFtWWTzNIeiUyN4iIEewo2mRMHYmk5oXkbQ1T18jbOm4kuXs4x/0TA5i68oU9tLOIbejcP1Hqra1IJI/uq1xXJn07Mke2e+C7FLa7kuW2E+fazFRvo5LM6qnU0ekaZxaanK/7LDa9NJD3CUTnH8c0uHesyPH5Jkmi6IWFjMHuSo4HdpfZN5znAweH+cJz55ittVlqq0xRF6BrECaSggbnVjzeva+CF8bUvQgvUPvlbIMDw3kG8vaaOjHQK43cv7vcc696/ODodb2v7T6N3wi3s0n0dlay3HYB/Uo3x0zV5UsvTrHc9AnjBFPXOD7f5LG7hnhlqsZKO+DlqSrzdY96O6SdCm3ddAg2Z57dDehCCBJg90AG29TRNUHWNrh/osz4QJaWHzHvRfzkuyf4lf/3dQxdiWFlLF0xk2RCwwuRCFZaIZWsxUjRYabqMlyw2FHKsLuSI5GSn3xkz5ox3IwgdTU2h9sJ2znwXQ/6ma657QL6lW6Orx+b59RCi4GcScmy8KKYUwsthnIWP/COUT7/9HEWah4r7QA/zcxvKjRA66geBonSwgHImRqNjsrZam0cibogh/ImfhSTd0w+cM8wIHBM/SJGRSihnLMQAmIpsA2NKE5wQ2iEMXsHszw8OcCr0zVsQ+NHDu+k0ungPLvcYq7u8YV18rQ3I0jdztnsnYZ+56lvu4B+pZvj1eka5azR0aSGejvkrdkaL55d5vRSizNLTRxLI2lt5bu4M5AAliaIEqk8OAVoQiARWJpyD8pYKghLqX5vmxrlnM2HDo3x+MERxsoZvvDsmQ1r0ItNn9GCQxQnLLciIMHU1FMj75j87Afv4fDuAR7v3ISmrpFIydRKm++ernJkcuCW3ZR3ajZ7u6Hf6ZrbLqDD5W8OIQCpbuq5mstLZ6voutLFfv18nWdPrpBIxVFOcfORJBINiAGZQMZW5RTb0NAS1RJvagZZS0NqcGR3hV/40Dsuaqe/VJntY0fG+fX/720qOTVbq3sRUsJnHrvg9rM+CZirexyZHGCiohyJVt+U3e/9OJ1OsfXod7rmtgzol8OhnUVeOFNFCMHxhSa6Dq4fE8QSL2wSJWmz0K2Ao0MQg66jJBV0VSP3I8X9ztpGh6VkECcSEJQyJv/l+/ZdFEAvV2br7vvHL0wx1/C4e9ThY0fG+cA7x9YcY3US8IVnz2x4U56YbzJf9/t2Op1i69HvC9y3XUB//OAoi42A5XZAtR1g6xrtIGKwYLPY2L40se2GMFaNQIM5G1MTLLV8TN1A0yBr6liGzmN3D2EZGovNAF0TfOLh3YwUnXUdleXLltlmqi6hhMfvGdl0Rn2pm7LqBuwoOX07nU6x9ej3Be5tFdA3s7o8Vs7w0SMTvDJV5e35JudXWui6jhskNP0ozc5vERJASIgSia5pDOUz2IaGBPYM5rh3rIAbxkxUchyeGOjxly+34LT+s77WBapL3ZSljHnJWn2KFND/C9zbJqBf7c270goQAqbrAaYOuuhO7VPcCmgdTrgbxEgJgzmLSEresaPIe+8aopy1WGz6a2iDXz06c1ULTte6QHWpm7JrR9iv0+lrRT/T7LYj+nmBe9sE9M3evK+cXeFffPMU55ZcwiRmKGtSbYcsNIN0IfQWQQMcQ6khOqYyl3DDGENXSoinF9sMFSIypramvHJyocldI4U1x7pchnw9C1SXuin7eTp9LbjVNLswDJmamsLzvBt+7DsNjuMwPj6OaZpX3rmDbRPQN9sh+i++eYrjcw2kVFl6nEhiKTfX2ZLihkB2/u2WVx6ZHOBrby4gpWSp6bPQ8EkSyaFdJRxTLY4+e3KJV6dqnFpo8vDewR5f/HIZ8o1eoOr36fS14FbT7KampigUCkxOTiK6jQcprhpSSpaWlpiammLv3r2bft22Ceirb97lVsDppSYLDXXTdc0Hvn5snrPLbfwoJowkDT/qmASn8fxWQgJBLBnMWfwn947wvakqdS/E0mGxKShnDNqhkqsNY8n3pmpkLI19I3nOLLZIWObhyQFsQ79shnwzFqhu5HS6H0odt5pm53leGsxvAIQQDA4OcrVWndsmoHdv3mo75OWzyyy3Q7wwBin50gvn+OiRCV6drpE1NBbCRNHjDEE73OqR33mwNHh4ssz7D4wQJ/DGTIOdZYehvEMYS/woRosSZmoep5eaZCyNjGngGDpRLCk6Bq9O13j/geENM+TVgdLUBV4Y4YbxlmfU6/X2F1sh4+XMllIgt4JmlwbzG4NrOY/bJqB3p8Off/o4Z1c8KlmLvUM5gkjyzROLnFhsstwK8OME2zSoex5h6h13QyEAU1c18ssJmj2yt8I//fH7Afi9b51CAl6Q4IUxGaujeNkMsE1Jw4sodoKNFybsKDrcv7vMYtPniUNjFx17o5pww4v4gXeMbGlpZP24vn1ikZobMVpweqqgcOspkGNFhy8+f444UTOmkaKNoWnbel0gxaWxreRzx8oZJCjrOFNwfL7J96arSCTLrZDRgs1c3adga2gCYinR02ThmqGhGoK6sHSlRx5cJpiXHMHPfvAeQC0wLrcCJgYytMKY6apH2w+RUpIgGcrbGJrADZW3qxvGTA5lL5tB9qu2+PpxRYmknDU4vdTs7XOrJXPVjKHGwdECQ3mTpZbPW3MNDo+X+mZdYDsbMvcjtlVABzVdPLvUIoyVV2TDCzm10Ga25nJgtMhQzmK24eMYGoauYetCeUum2BQESkzLEIp6aGiid5HYhk6SSPQNrhqBMqG4f3yAw7sHegFuuGAzVs4ylLPQhWS+4eNHMXcN5/hb37eXu0cLLDQCEpnwrvEipq5dpKu9+qZ/5q0F/HUzr37QFl+veV6wTZBKZ72LW02B7H4GE5UsD+0Z5IPvHOORvYPM1PuDgXKzfEnz+fw1ve6f//N/Trvdvq6/3cVv/dZv8fu///s35FhXg20X0PO2QZRI3CBWN7EUCKE0XE4vtblvvIgfJRSyFjsKFkITmLq2/d7oFsDSIGtpGDoYOpi6hkRiaJA1IGvpBOu4/ALV5p+3NQ6MKo1xuBDgJgfzaEKwdzjP7koW29TZNZDhb71vH4d3D/CJR/bwCx+6l0f2DZJI1hgKzFRdvvjsaf7Xv3iDZ08uoQmlqPjcqeU1AbwfuOLrHXwmh7LUvBBDE1tmANHvxhr9Ntu6UQE9iiI+85nP8NM//dM3YFRXh21TQ+9iZzlD3Ys4vdDqGANLihmTSs4iY+qcXGhz72iBrG0wV/OYMFXNoO3HTFW9tFP0MtAEjBYsztc94ggSmaBrkLUMspZgIGfjhjFBlBB1RLcsQ8M2NXK2waFdJcxO+l7JWUyvuCw0PbwwohXEmLrGw5MDfOq9e9dM+S/XBXpqsclQzkZo8L2pGpODWepegzdmajy6f6hvuOLrGTemrjFZyTJUsLeMAtnvuiM3m4HTbDZ58sknWVlZIQxDfvVXf5Unn3ySVqvFT/zETzA1NUUcx/ziL/4ic3NznD9/nu///u9naGiIp59+esNj5vN5/vbf/ts89dRT7Nixgz/6oz9ieHiYxx9/nPvvv5//8B/+A5/4xCdoNBrk83l+9md/lrfffpvPfOYzLCwsoOs6f/Inf8L+/fv5tV/7Nf71v/7X+L7PRz7yEX75l3/5ut/ztgvo+4bzOKZOrR2StXXqXkTBMShlLCQJi62A/+iuQV45X6cdxpQzJlnLwM8k7BvK8p1TywSxotZ1KzESlZnmbUNN/7fw/W0lYglxAgINIRKQICXYls5Q3gIhMA0dXRcUbEEQJxQci7yjk7MN4gQemCgCajHu3708QzlnsKPoUPNCqq2IDx0a21RQ62ZvUaJYL2rFX+mtdDXO+4krvhGH/aNHJrZ0XP2uO3KzHziO4/Cnf/qnFItFFhcXec973sOHP/xhvvrVr7Jz507+/M//HIBarUapVOLXf/3XefrppxkaGrrkMVutFkeOHOGf/bN/xq/8yq/wy7/8y3zuc58DIAgCXnjhBQB+6Zd+qfeaT37yk/zcz/0cH/nIR/A8jyRJeOqppzh+/DjPPfccUko+/OEP88wzz/DYY49d13vedgH98HiZ+brPvuEcAkE7jJmutslaOlLCXUM5ztcDdpYzNN2YRhDSDCLu21kiaxvousabs010XRDHEklCECU4pgpIsHmHndsNcaJMlHOWDhi0g4iiY5C3NNpRwnDeZqxo0fAShADph2RtjaxlULANJivZnl3bTN3jockyi42Ahh9Sciz2D+eZqXsc3sRYutlbwTbxwoSMpeMYOnUvxDZ03n9geEMWzFai31rC+71R6mY/cKSU/MIv/ALPPPMMmqYxPT3N3Nwc9913H3/v7/09/sE/+Af88A//MO9///s3fUxN0/jYxz4GwE/91E/xYz/2Y73fdbevRqPRYHp6mo985COAesgAPPXUUzz11FM88MADgJpNHD9+/M4L6N2L9OvH4NsnlxnMWfyN+3ZiG2oxrVUIeHuhTd4yedd4kbfmm0RxQsbSMDRBKWvzqe8bYqUdMFfzOTZbByHJmAaWoVNtB6oZaavf6BZA0zr65ZpaDLUMDcfUsTvt+wdGCrx2voauBTy4u8z+kQJzdY+lVsCj+yo8fvACx3q5FTA+kGV3Jdc7fiLlpqfT3extcijLy+dqAEgSDE30VZbZ7+i3h8xq3OwHzh/+4R+ysLDAd7/7XUzTZHJyEs/zuPvuu3nxxRf5yle+wj/6R/+ID3zgA3z2s5+9pr+xmiuey+Uus+daSCn5+Z//eX7mZ37mmv7upbDtAjqoC+ETj0zy+MHRXiNHxtJ5z75Bnj42z8OTNmeXXII45sBIniSRNP2IR/aWWGyFDOVt9gzmaI1ETA7nIJHkHIP5us/ZpRazda+Xrd9JsHVVdgK10KwJlZGEiWR8wOGB3WXuGslzeLzETN1juRUwOZTbsAPyeqfT3eyt4Bi8a7zIsdkGi82A9+4f7DkZpdj+uJkPnFqtxsjICKZp8vTTT3PmzBkAzp8/T6VS4ad+6qcol8v8zu/8DgCFQoFGo3HZkkuSJHzpS1/i4x//OF/4whd43/ved9kxFAoFxsfH+bM/+zN+9Ed/FN/3ieOYD37wg/ziL/4in/zkJ8nn80xPT2OaJiMjI9f1nrdlQO9io4uhkrNwg5gH9wz0tjW8kIyl88ShsV43X6/O+eA4oGq2jqnzk49M8EfPTTFbd/vGc1RAz/XnSjCF8trc6BiGDkl88XEEUHIM3rGzQMOLmKp6WLpgYiBDEEkSAfuGcr2H5lg5c8WyyfVOp1dnb24Y88i+wVQlMMVV4ZOf/CQ/8iM/wn333ceRI0e45x7VH/Hqq6/y9//+30fTNEzT5Dd/8zcB+PSnP80TTzzBzp07L7komsvleO655/jVX/1VRkZG+OM//uMrjuMP/uAP+Jmf+Rk++9nPYpomf/Inf8IP/uAP8sYbb/Doo48CarH1X/2rf3XdAV1IeeVqsRDiCeA3UBTl35FS/uN1v7eB3wceApaAj0kpT1/umEeOHJHdBYQbidUde6sDydW0XP/W08d56vU53pip426hRGPXhzNraewqZZiuurSC5KJFW4GiHOYdA9PQCaOIjGUipSSIEvwwwo0Uf3wgazGSNzi97OJFkrxlsHc4x4GhPO/aPUC1HfLWXJ3pqosEDo4W+PGHJnp2bleDftAySXFr8cYbb3Dvvfdu9TBuGvL5PM1m88o73iBsdD6FEN+VUh7ZaP8rZuhCCB34PPADwBTwvBDiy1LK11ft9reAFSnlXUKIjwP/BLh4heAW4EbU5Z58YJysbfLgRJN/8+IUK5frc0edxJgLC6ldzruuC8JYrmHTXAndbLzoaIQJFDMmTx7eyROHxvi/v3mSF85USRJIkoiqGxHEYJuCe0bzFDM2VTfkiXeO8t79Q3zl6AynFpsgBXeN5DsemhKJQHR4PhJuWrDt5/ptihS3IzZTcnk38LaU8iSAEOKPgCeB1QH9SeCXOj9/CficEELIzaT/NwHXG0guPBRsLFPnL1+b5cxim2jdfllTUMmYDBYd5useK60Ay9AYLjgYGtQ7D4KmH5BIgZQJccKa+rxjaoyVHOJEYhoaUSTZVXYYH8xx367SmnrxPyi+gy+9cI7ljkphEMWcmGtgWzqRlGgC3r23wo8+MK7KIteQVadIkQIeeeQRfH/tAv4f/MEf3NLs/FqwmYC+Czi36v9TwCOX2kdKGQkhasAgsLh6JyHEp4FPA+zevfsah3xr0H0oPHFojP/00Um+fmyeV6drtP2InK0zPpCjnDXpZryVnMVY0eH1mRpHz9dV16CUIATtIMILE6SUCCFwTI2saZCzdYqOSQKUMxZ7hzdeYFw9pq69XreM8clH9vQWKNOyRop+QPc638549tlnt3oIXEs+fEsXRaWUvw38Nqga+q3829cDxarZwyc2se/Nzoo3mn1shtedIsWtgOM4LC0tMTg4uO2D+laia3DR5a1vFpsJ6NPAxKr/j3e2bbTPlBDCAEqoxdEUKVLcQRgfH2dqauqqjRlSXIyuBd3VYDMB/XnggBBiLypwfxz4yXX7fBn4z4BvAx8F/v1W1c9TpEixdTBN86os01LcWFwxoHdq4n8H+EsUbfF3pZSvCSF+BXhBSvll4F8AfyCEeBtYRgX9FClSpEhxC7GpGrqU8ivAV9Zt++yqnz3gx2/s0FKkSJEixdUglQlPkSJFitsEm+oUvSl/WIgF4MyW/PFLY4h1VMs+Q7+PD/p/jP0+PkjHeCPQ7+ODax/jHinl8Ea/2LKA3o8QQrxwqZbafkC/jw/6f4z9Pj5Ix3gj0O/jg5szxrTkkiJFihS3CdKAniJFihS3CdKAvha/vdUDuAL6fXzQ/2Ps9/FBOsYbgX4fH9yEMaY19BQpUqS4TZBm6ClSpEhxmyAN6ClSpEhxm+CODOhCiAkhxNNCiNeFEK8JIf5uZ/svCSGmhRAvd74+tMXjPC2EeLUzlhc62ypCiL8SQhzvfN8S0XMhxMFV5+llIURdCPHfb/U5FEL8rhBiXghxdNW2Dc+ZUPjfhRBvCyG+J4R4cAvH+GtCiDc74/hTIUS5s31SCOGuOp+/tUXju+TnKoT4+c45PCaE+ODNHt9lxvjHq8Z3Wgjxcmf7VpzDS8WYm3stSinvuC9gDHiw83MBeAt4B8qk42e3enyrxnkaGFq37Z8CP9f5+eeAf9IH49SBWWDPVp9D4DHgQeDolc4Z8CHgL1BGUe8Bnt3CMf4gYHR+/ierxji5er8tHN+Gn2vnvnkFsIG9wAlA34oxrvv9/wZ8dgvP4aVizE29Fu/IDF1KOSOlfLHzcwN4A2XSsR3wJPAvOz//S+BHt24oPXwAOCGl3PLOXynlMyiBuNW41Dl7Evh9qfAdoCyEGNuKMUopn5JSdk2xvoOSqd4SXOIcXgpPAn8kpfSllKeAt1EuZzcVlxujUELsPwF88WaP41K4TIy5qdfiHRnQV0MIMQk8AHQtSv5OZ8rzu1tVzlgFCTwlhPiuUG5PAKNSypnOz7PA6NYMbQ0+ztqbp5/OIVz6nG3kxtUPD/b/ApWtdbFXCPGSEOIbQoj3b9Wg2Phz7cdz+H5gTkp5fNW2LTuH62LMTb0W7+iALoTIA/8G+O+llHXgN4H9wP3ADGratpV4n5TyQeCHgP9GCPHY6l9KNVfbUt6pEMICPgz8SWdTv53DNeiHc3Y5CCH+IRABf9jZNAPsllI+APyPwBeEEMUtGFpff67r8AnWJhhbdg43iDE93Ixr8Y4N6EIIE3Wi/1BK+f8ASCnnpJSxlDIB/i9uwdTxcpBSTne+zwN/2hnPXHcq1vk+v3UjBNTD5kUp5Rz03zns4FLnbDNuXLcMQohPAT8MfLJzs9MpZSx1fv4uqkZ9960e22U+1347hwbwY8Afd7dt1TncKMZwk6/FOzKgd2ps/wJ4Q0r566u2r65ZfQQ4uv61twpCiJwQotD9GbVodpQL7lB0vv/brRlhD2uyoX46h6twqXP2ZeCnOwyD9wC1VdPhWwohxBPA/wR8WErZXrV9WAihd37eBxwATm7B+C71uX4Z+LgQwhbK1ewA8NytHt8q/CfAm1LKqe6GrTiHl4ox3Oxr8Vau/PbLF/A+1FTne8DLna8PAX8AvNrZ/mVgbAvHuA/FHngFeA34h53tg8DXgOPA/wdUtnCMOZR3bGnVti09h6iHywwQouqQf+tS5wzFKPg8KmN7FTiyhWN8G1VD7V6Pv9XZ9292Pv+XgReBH9mi8V3ycwX+YeccHgN+aKvOYWf77wGfWbfvVpzDS8WYm3otpq3/KVKkSHGb4I4suaRIkSLF7Yg0oKdIkSLFbYI0oKdIkSLFbYI0oKdIkSLFbYI0oKdIkSLFbYI0oKdIkSLFbYI0oKfYdhBClIUQ//UV9pkUQvzkJo41uVqCNUWK7Yw0oKfYjigDlw3oKMnUKwb0G4FOu3mKFFuONKCn2I74x8D+jlnBr3W+jgplBvKxVfu8v7PP/9DJxP9aCPFi5+u9m/lDl3qdEOLxzvYvA68LIfTOOJ7vKBL+TGe/vBDia53XviqEePJmnJAUKSA1iU6xDdGRI/1/pZSHhBB/E/gM8AQwBDwPPAIcRBky/HDnNVkgkVJ6QogDwBellEdWH+sSf+tSr3sc+HPgkJTyVEfeeERK+atCCBv4JvDjqHb+rJSyLoQYQmmdH5DpjZfiJiCdKqbY7ngfKsjGKCW7bwAPA/V1+5nA54QQ9wMxm1fbu9zrnpPK1AGUeNq7hBAf7fy/hBKBmgL+l470cYLSuB5FaWGnSHFDkQb0FHcK/gdgDjiMKjV6N+B1rVU/C+C/lVL+5eoXdyRxh4GHpJShEOI04FzD+FOkuCLSGnqK7YgGyqcR4K+Bj3Vq2MMor8nn1u0DKmOekUrP+z9F+aBuBpt93V8C/1VHAxshxN0d2eMSMN8J5t+P8l1NkeKmIM3QU2w7SCmXhBDf7NAN/wIlUfoKSq70f5JSzgohloBYCPEKSlL1/wT+jRDip4Gvsja7vhw2+7rfQTFrXuxoYS+g/CL/EPh3QohXgReAN6/y7aZIsWmki6IpUqRIcZsgLbmkSJEixW2CtOSSIgUghPgg8E/WbT4lpfzIVownRYprQVpySZEiRYrbBGnJJUWKFCluE6QBPUWKFCluE6QBPUWKFCluE6QBPUWKFCluE/z/9bzn7YGJOBQAAAAASUVORK5CYII=\n",
      "text/plain": [
       "<Figure size 432x288 with 1 Axes>"
      ]
     },
     "metadata": {
      "needs_background": "light"
     },
     "output_type": "display_data"
    }
   ],
   "source": [
    "data_good = data.query('last_price < 30000000')\n",
    "data_good.plot(x = 'total_area', y = 'last_price', alpha = 0.3, style = 'o')"
   ]
  },
  {
   "cell_type": "code",
   "execution_count": 74,
   "metadata": {},
   "outputs": [
    {
     "data": {
      "text/plain": [
       "0.779904430168159"
      ]
     },
     "execution_count": 74,
     "metadata": {},
     "output_type": "execute_result"
    }
   ],
   "source": [
    "data_good['last_price'].corr(data_good['total_area']) #нахождение коэффициента Пирсона"
   ]
  },
  {
   "cell_type": "markdown",
   "metadata": {},
   "source": [
    "Коэффициент Пирсона больше 0, что говорит о прямопорциональной зависимост:, чем больше общая площадь, тем больше цена на квартиру "
   ]
  },
  {
   "cell_type": "markdown",
   "metadata": {},
   "source": [
    "Для построения графиков жилой площади и площади кухни тоже воспользуемся отфильтрованными данными."
   ]
  },
  {
   "cell_type": "code",
   "execution_count": 75,
   "metadata": {},
   "outputs": [
    {
     "data": {
      "text/plain": [
       "0.652146143361333"
      ]
     },
     "execution_count": 75,
     "metadata": {},
     "output_type": "execute_result"
    }
   ],
   "source": [
    "data_good['last_price'].corr(data_good['living_area'])#нахождение коэффициента Пирсона"
   ]
  },
  {
   "cell_type": "code",
   "execution_count": 76,
   "metadata": {},
   "outputs": [
    {
     "data": {
      "text/plain": [
       "<AxesSubplot:xlabel='living_area'>"
      ]
     },
     "execution_count": 76,
     "metadata": {},
     "output_type": "execute_result"
    },
    {
     "data": {
      "image/png": "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\n",
      "text/plain": [
       "<Figure size 432x288 with 1 Axes>"
      ]
     },
     "metadata": {
      "needs_background": "light"
     },
     "output_type": "display_data"
    }
   ],
   "source": [
    "data_good.plot(x = 'living_area', y = 'last_price', alpha = 0.1, style = 'o')"
   ]
  },
  {
   "cell_type": "code",
   "execution_count": 77,
   "metadata": {},
   "outputs": [
    {
     "data": {
      "text/plain": [
       "0.5448150970156289"
      ]
     },
     "execution_count": 77,
     "metadata": {},
     "output_type": "execute_result"
    }
   ],
   "source": [
    "data_good['last_price'].corr(data_good['kitchen_area'])#нахождение коэффициента Пирсона"
   ]
  },
  {
   "cell_type": "code",
   "execution_count": 78,
   "metadata": {},
   "outputs": [
    {
     "data": {
      "text/plain": [
       "<AxesSubplot:xlabel='kitchen_area'>"
      ]
     },
     "execution_count": 78,
     "metadata": {},
     "output_type": "execute_result"
    },
    {
     "data": {
      "image/png": "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\n",
      "text/plain": [
       "<Figure size 432x288 with 1 Axes>"
      ]
     },
     "metadata": {
      "needs_background": "light"
     },
     "output_type": "display_data"
    }
   ],
   "source": [
    "data_good.plot(x = 'kitchen_area', y = 'last_price', alpha = 0.1, style = 'o')"
   ]
  },
  {
   "cell_type": "markdown",
   "metadata": {},
   "source": [
    "Вывод: Судя по графикам, можно сделать вывод, что зависимости жилой площади и плозади кухни от цены на квартиру прямой нет. Данные распределены более-менее равномерно."
   ]
  },
  {
   "cell_type": "markdown",
   "metadata": {},
   "source": [
    "#####  Зависимость цены от количества комнат\n",
    "Для нахождения зависимости цены от количества комнат, необходимо построить сводную таблицу с медианными знаечниями и график с данными параметрами."
   ]
  },
  {
   "cell_type": "code",
   "execution_count": 79,
   "metadata": {},
   "outputs": [],
   "source": [
    "price_rooms = data.pivot_table(index = 'rooms', values = 'last_price', aggfunc = ['median'])"
   ]
  },
  {
   "cell_type": "code",
   "execution_count": 80,
   "metadata": {},
   "outputs": [
    {
     "data": {
      "text/plain": [
       "<AxesSubplot:xlabel='rooms'>"
      ]
     },
     "execution_count": 80,
     "metadata": {},
     "output_type": "execute_result"
    },
    {
     "data": {
      "image/png": "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\n",
      "text/plain": [
       "<Figure size 432x288 with 1 Axes>"
      ]
     },
     "metadata": {
      "needs_background": "light"
     },
     "output_type": "display_data"
    }
   ],
   "source": [
    "price_rooms.plot()"
   ]
  },
  {
   "cell_type": "markdown",
   "metadata": {},
   "source": [
    "Вывод: Учитывая положительный коэффициент Пирсона и график цены от количества комнат, можно сделать вывод о прямопропорциональной зависимости данных параметров. Чем больше комнат - тем дороже квартира. "
   ]
  },
  {
   "cell_type": "markdown",
   "metadata": {},
   "source": [
    "##### Зависимость цены от этажа, на котором расположена квартира\n",
    "Для нахождения зависимости цены от типа этажа, необходимо построить сводную таблицу с медианными знаечниями и график с данными параметрами."
   ]
  },
  {
   "cell_type": "code",
   "execution_count": 81,
   "metadata": {},
   "outputs": [],
   "source": [
    "price_type_of_floor = data.pivot_table(index = 'type_of_floor', values = 'last_price', aggfunc = ['median'])"
   ]
  },
  {
   "cell_type": "code",
   "execution_count": 82,
   "metadata": {},
   "outputs": [
    {
     "data": {
      "text/plain": [
       "<AxesSubplot:xlabel='type_of_floor'>"
      ]
     },
     "execution_count": 82,
     "metadata": {},
     "output_type": "execute_result"
    },
    {
     "data": {
      "image/png": "iVBORw0KGgoAAAANSUhEUgAAAYEAAAESCAYAAAAbq2nJAAAAOXRFWHRTb2Z0d2FyZQBNYXRwbG90bGliIHZlcnNpb24zLjMuNCwgaHR0cHM6Ly9tYXRwbG90bGliLm9yZy8QVMy6AAAACXBIWXMAAAsTAAALEwEAmpwYAAA1vUlEQVR4nO3dd1gUZ9fH8e8BUeygYEXFGhuIgCX2aNREjRqNLZrerdE0UzWJT/pr7Jpm8iRiii0mJsauqCkGFBv2jjGKiFhRhPv9Y1ceVFDQhWF3z+e6cmWZmZ05kM2eve/Z+Y0YY1BKKeWePKwuQCmllHW0CSillBvTJqCUUm5Mm4BSSrkxbQJKKeXGtAkopZQbs7QJiMh0ETkmIluyuX1vEYkVka0iMjO361NKKVcnVl4nICKtgDPA18aY+jfYtibwA9DWGJMoImWMMcfyok6llHJVlo4EjDGRwImMy0Skuoj8JiLRIrJaRGrbVz0BTDbGJNqfqw1AKaVuUX48J/ApMMQYEwY8D0yxL68F1BKRtSLyp4jcZVmFSinlIgpYXUBGIlIMaAbMEpHLiwvZ/10AqAm0AQKASBEJMsaczOMylVLKZeSrJoBtZHLSGBOSybo44C9jTAqwT0R2YmsKf+dhfUop5VLy1XSQMeYUtjf4XgBi08C++kdsowBExA/b9NBeC8pUSimXYfVXRL8F/gBuE5E4EXkM6A88JiIbga1AN/vmi4AEEYkFVgAvGGMSrKhbKaVchaVfEVVKKWWtfDUdpJRSKm9ZdmLYz8/PBAYGWnV4pZRyStHR0ceNMf6O2p9lTSAwMJCoqCirDq+UUk5JRA44cn86HaSUUm5Mm4BSSrkxbQJKKeXG8tsVw0q5lZSUFOLi4khOTra6FJXPeHt7ExAQgJeXV64eR5uAUhaKi4ujePHiBAYGkiEvS7k5YwwJCQnExcVRtWrVXD1WtqaDRGS/iGwWkRgRueYrPfZ4hwkisltENolIqONLVcr1JCcnU7p0aW0A6goiQunSpfNkhJiTkcAdxpjjWay7G1uYW02gCTDV/m+l1A1oA1CZyavXhaNODHfDdncwY4z5E/ARkfIO2vcVjp1KZvqafbmxa6WUcjvZbQIGWGy/29eTmayvCBzK8HOcfdkVRORJEYkSkaj4+PicVwt89/ch3loQy9z1cTf1fKVUzokIzz33XPrPH330EaNHj87VYwYGBtKzZ8/0n2fPns3DDz+cq8d0R9ltAi2MMaHYpn0G2e8NnGPGmE+NMeHGmHB//5u76nlgm+o0rVaKV+ZtZvu/p25qH0qpnClUqBBz587l+PGsZoRzR3R0NLGxsXl6THeTrSZgjDls//cxYB7Q+KpNDgOVMvwcYF/mcAU8PZjQryElvL14ZsZ6TiWn5MZhlFIZFChQgCeffJKPP/74mnX79++nbdu2BAcH065dOw4ePAjAww8/zNChQ2nWrBnVqlVj9uzZ6c/58MMPadSoEcHBwYwaNSrL4z733HP85z//uWb5iRMn6N69O8HBwTRt2pRNmzYBMHr0aB599FHatGlDtWrVmDBhQvpzZsyYQePGjQkJCeGpp54iNTX1pv8eruSGTUBEiopI8cuPgQ7Alqs2+wl40P4toaZAkjHmiMOrtStT3JtJ94dy8MQ5Xpy1CY3DVir3DRo0iIiICJKSkq5YPmTIEB566CE2bdpE//79GTp0aPq6I0eOsGbNGhYsWMDIkSMBWLx4Mbt27WLdunXExMQQHR1NZGRkpsfs3bs369evZ/fu3VcsHzVqFA0bNmTTpk288847PPjgg+nrtm/fzqJFi1i3bh1vvvkmKSkpbNu2je+//561a9cSExODp6cnERERjvrTOLXsjATKAmvsN3lZB/xijPlNRJ4Wkaft2/yK7S5fu4HPgIG5Um0GjauWYuRdtflt6798oSeKlcp1JUqU4MEHH7zi0zXAH3/8wf333w/AAw88wJo1a9LXde/eHQ8PD+rWrcvRo0cBWxNYvHgxDRs2JDQ0lO3bt7Nr165Mj+np6ckLL7zAu+++e8XyNWvW8MADDwDQtm1bEhISOHXKNj3cuXNnChUqhJ+fH2XKlOHo0aMsW7aM6OhoGjVqREhICMuWLWPvXr0xIWTjK6LGmL1Ag0yWT8vw2ACDHFvajT3esirRBxJ5d+F2GlTyoVFgqbwuQSm38uyzzxIaGsojjzySre0LFSqU/vjyiN0Yw8svv8xTTz2VrX088MADvPvuu9SvXz/Hx/T09OTSpUsYY3jooYeuaSbKybODRIQPegVTybcwgyLWE3/6gtUlKeXSSpUqRe/evfniiy/SlzVr1ozvvvsOgIiICFq2bHndfXTs2JHp06dz5swZAA4fPsyxY8cAaNeuHYcPX3k60cvLi+HDh19xPqJly5bp0zkrV67Ez8+PEiVKZHnMdu3aMXv27PTjnDhxggMHHJrI7LScugkAlPD2YuqAME4lpzD02w1cSk2zuiSlXNpzzz13xbeEJk6cyJdffklwcDDffPMN48ePv+7zO3TowP3338/tt99OUFAQ9913H6dPnyYtLY3du3dTqtS1I/rHHnuMS5cupf88evRooqOjCQ4OZuTIkfz3v/+97jHr1q3LmDFj6NChA8HBwbRv354jR3LttKVTsewew+Hh4caRN5WZHR3H87M2MrBNdV68q7bD9qtUbtq2bRt16tSxuox8YcuWLUyfPp2xY8daXUq+kdnrQ0SijTHhjjqG048ELrsvLIB+jSsxZeUelsYetbocpVQO1a9fXxuABVymCQCMuqce9SuWYMQPMRxMOGd1OUople+5VBPw9vJkav8wAAbOjCY5RS8GUUqp63GpJgBQqVQRPu4TwpbDp3jz561Wl6OUUvmayzUBgHZ1yjKwTXW+XXeIWVGHbvwEpZRyUy7ZBABGtK/F7dVK89qPW4j9R4PmlFIqMy7bBC4HzfkU8WJgRLQGzSmlVCZctgkA+BcvxOT7Q4lLPM/zP2zUoDmlMnH+/Hlat26dK6magYGB6ReWNWvWzOH7/+qrrxg8eHCOn7d//35mzpzpsDo6derEyZMnc/y8BQsW8MYbbzisjpvh0k0AIDywFCPvrs3i2KN8tloDo5S62vTp0+nRoweenp65epzff/89V/efE45qAsYY0tLS+PXXX/Hx8cnx8zt37szPP//MuXPWfaU9J/cYdlqPtajK+oOJvP/bDhoE+NCkWmmrS1LqGm/+vNXh56/qVijBqHvqXXebiIiI9DfElStXMmrUKHx8fNi8eTO9e/cmKCiI8ePHc/78eX788UeqV69OfHw8Tz/9dPq9A8aNG0fz5s1JSEigX79+HD58mNtvv/2K0XexYsU4c+YMZ86coVu3biQmJpKSksKYMWPo1q0b+/fv5+6776ZFixb8/vvvVKxYkfnz51O4cOFs/a4///wzY8aM4eLFi5QuXZqIiAjKli3LqlWrGDZsGGDLG4uMjGTkyJFs27aNkJAQHnroIYYPH37N/r766ivmzZtHUlIShw8fZsCAAYwaNYr9+/fTsWNHmjRpQnR0NL/++iutW7cmKioKPz8/vv76az766CNEJD1KI6u/l4jQpk0bFixYQO/evbP1ezqay48EwPYf/v2ewVQpVYTB327g2Olkq0tSKl+4ePEie/fuJTAwMH3Zxo0bmTZtGtu2beObb75h586drFu3jscff5yJEycCMGzYMIYPH87ff//NnDlzePzxxwF48803adGiBVu3buXee+9Nf9PLyNvbm3nz5rF+/XpWrFjBc889l94sdu3axaBBg9i6dSs+Pj7MmTMn279LixYt+PPPP9mwYQN9+/blgw8+AGy3wpw8eTIxMTGsXr2awoUL895779GyZUtiYmIybQCXrVu3jjlz5rBp0yZmzZrF5aibXbt2MXDgQLZu3UqVKlXSt9+6dStjxoxh+fLlbNy4MT1HKau/F0B4eDirV6/O9u/paG4xEgAo7u3FlAGhdJ+8liEzNxDxeBMKeLpFD1RO4kaf2HPD8ePHr5nGaNSoEeXLlwegevXqdOjQAYCgoCBWrFgBwNKlS6+47eOpU6c4c+YMkZGRzJ07F7BNdfj6+l5zTGMMr7zyCpGRkXh4eHD48OH0ew1UrVqVkJAQAMLCwti/f3+2f5e4uDj69OnDkSNHuHjxIlWrVgWgefPmjBgxgv79+9OjRw8CAgKyvc/27dtTurRt5qBHjx6sWbOG7t27U6VKFZo2bXrN9suXL6dXr174+fkBpIfhZfX3KlasGGXKlOGff/7Jdk2O5lbvgrXLleCde4P4a98JPlq80+pylLJc4cKFSU6+cmScMY/fw8Mj/WcPD4/0JM+0tDT+/PNPYmJiiImJ4fDhwxQrVixbx4yIiCA+Pp7o6GhiYmIoW7Zseg2Z3Qsgu4YMGcLgwYPZvHkzn3zySfo+R44cyeeff8758+dp3rw527dvz/Y+RSTTn4sWLZrtfcD1/17JycnZnvLKDW7VBAB6hAZwf5PKTFu1hyUaNKfcnK+vL6mpqdc0ghvp0KFD+tQQQExMDACtWrVKP7+wcOFCEhMTr3luUlISZcqUwcvLixUrVmQr13/SpElMmjTputskJSVRsWJFgCuipffs2UNQUBAvvfQSjRo1Yvv27RQvXpzTp0/f8LhLlizhxIkT6edDmjdvft3t27Zty6xZs0hISABs9y2ArP9eADt37sz2DXNyg9s1AYA3utQlqGJJRvwQw4GEs1aXo5SlOnTocMUtIbNjwoQJREVFERwcTN26dZk2zXajwVGjRhEZGUm9evWYO3culStXvua5/fv3JyoqiqCgIL7++mtq175x9Pv27dvTp2WyMnr0aHr16kVYWFj6dAzYTsLWr1+f4OBgvLy8uPvuuwkODsbT05MGDRpccbOaqzVu3JiePXsSHBxMz549CQ+/foJzvXr1ePXVV2ndujUNGjRgxIgRQNZ/L4AVK1bQuXPnG/4Nco0xxpJ/wsLCjJUOJpw1waMXmbvGRZrzFy9ZWotyX7GxsVaXYKKjo82AAQOsLuO6OnfubC5cuJCnx/zyyy/NoEGDcvUY//77r2nbtm2W6zN7fQBRxoHvxW45EoDLQXMN2HbkFG/M32J1OUpZJjQ0lDvuuCNXLhZzlAULFlCwYEGry3C4gwcP8n//93+W1uA23w7KTNvaZRl8Rw0mrdhNeJVS9G5UyeqSlLLEo48+anUJllm0aBEvvfTSFcuqVq3KvHnzePjhh3P12I0aNcrV/WeHWzcBgOHta7HhUCKvz99CvYolqFehpNUlKTdjjLnmWygq73Ts2JGOHTtaXcY1TB7F3LjtdNBlnh7C+L4N8S1SkGdmrCfpvAbNqbzj7e1NQkKC5lqpKxhjSEhIwNvbO9eP5fYjAQC/YoWY3D+UPp/8wfOzNvLpA2H6yUzliYCAAOLi4oiPj7e6FJXPeHt75+jCtpulTcAurIovr3Sqw1sLYvkkci9Pt65udUnKDXh5eaVf2aqUFdx+OiijR5oH0jm4PB/8tp0/9yZYXY5SSuU6bQIZXA6aC/QryuCZGzh2SoPmlFKuTZvAVYoVKsC0AWGcvXCJwd9u4FJqmtUlKaVUrtEmkIlaZYvzbo8g1u07wYeLdlhdjlJK5RptAlno3rAiA5pW5pPIvfy25V+ry1FKqVyhTeA6Xu9SlwYBJXlh1kb2HdegOaWU68l2ExARTxHZICILMllXWURW2NdvEpFOji3TGoUKeDK5fyiensIzM6I5fzH/ZqsopdTNyMlIYBiwLYt1rwE/GGMaAn2BKbdaWH4R4FuEj/uEsOPoaV6fv0Wv7FRKuZRsNQERCQA6A59nsYkBStgflwSsu1daLrjjtjIMuaMGs6Pj+P7vQ1aXo5RSDpPdkcA44EUgq+9LjgYGiEgc8CswJLONRORJEYkSkShnu0x+2J21aFnTjzd+2sqWw0lWl6OUUg5xwyYgIl2AY8aY6Ots1g/4yhgTAHQCvhGRa/ZtjPnUGBNujAn39/e/6aKtcDlornTRgjwTEU3SOQ2aU0o5v+yMBJoDXUVkP/Ad0FZEZly1zWPADwDGmD8Ab8APF1OqaEEm9w/l36RknpsVQ1qanh9QSjm3GzYBY8zLxpgAY0wgtpO+y40xA67a7CDQDkBE6mBrAs4135NNoZV9ebVTHZZuO8a0yD1Wl6OUUrfkpq8TEJG3RKSr/cfngCdEZCPwLfCwceGv0TzULJB7GlTgo0U7+H3PcavLUUqpmyZWvVeHh4ebqKgoS47tCGcvXKLrpDUknU/hl6EtKVsi92/+oJRSIhJtjAl31P70iuGbVNQeNHfuYiqDZ64nRYPmlFJOSJvALahpD5r7e38i7y/cbnU5SimVY9oEblG3kIo8eHsVPl+zj4Wbj1hdjlJK5Yg2AQd4tXMdGlTy4YXZm9gbf8bqcpRSKtu0CThAoQKeTOkfipenMDBivQbNKaWchjYBB6noU5hxfRuy4+hpXv1xswbNKaWcgjYBB2pdy5+hbWsyd/1hvl2nQXNKqfxPm4CDDW1Xk1a1/Bn901Y2x2nQnFIqf9Mm4GCeHsK4PiH4FbMFzZ08d9HqkpRSKkvaBHJBqaIFmTIgjKOnkhnxw0YNmlNK5VvaBHJJSCUfXu9Sl+XbjzF1lQbNKaXyJ20CueiBplXo2qAC/7d4B2t3a9CcUir/0SaQi0SEd3sEUc2/GEO/3cC/SclWl6SUUlfQJpDLbEFzoZxPSWWQBs0ppfIZbQJ5oEaZ4rzfM5joA4m8+6sGzSml8g9tAnnkngYVeLhZINPX7uOXTRo0p5TKH7QJ5KFXOtWhYWUfXpy9kT0aNKeUyge0CeShggU8mHx/KIW8PHlmRjTnLl6yuiSllJvTJpDHKvgUZnzfEHYdO8Or87Zo0JxSylLaBCzQsqY/w++sxbwNh4n466DV5Sil3Jg2AYsMvqMGbW7z562fY9kUd9LqcpRSbkqbgEU8PISPe4fgX7wQz8xYT+JZDZpTSuU9bQIW8i1akCn9Q4k/fYHhP8Ro0JxSKs9pE7BYg0o+vH5PXVbuiGfyit1Wl6OUcjPaBPKBAU0q0z2kAmOX7mT1rniry1FKuRFtAvmAiPBOjyBqlinGsO9i+OfkeatLUkq5CW0C+USRggWYOiCMC/aguYuXNGhOKZX7tAnkI9X9i/HBfQ3YcPAk7/y6zepylFJuQJtAPtM5uDyPNA/kq9/38/PGf6wuRynl4rQJ5EMv312H0Mo+jJyzid3HNGhOKZV7st0ERMRTRDaIyIIs1vcWkVgR2SoiMx1XovspWMCDyf3/FzR39oIGzSmlckdORgLDgEwnqkWkJvAy0NwYUw949tZLc2/lSxZmQt+G7I4/wyvzNmvQnFIqV2SrCYhIANAZ+DyLTZ4AJhtjEgGMMcccU557a1HTj+fa12J+zD/M+POA1eUopVxQdkcC44AXgay+t1gLqCUia0XkTxG5K7ONRORJEYkSkaj4eL0oKjsGtqlB29pleGtBLDGHTlpdjlLKxdywCYhIF+CYMSb6OpsVAGoCbYB+wGci4nP1RsaYT40x4caYcH9//5ur2M14eAhjezegbAlvBkWs54QGzSmlHCg7I4HmQFcR2Q98B7QVkRlXbRMH/GSMSTHG7AN2YmsKygF8ivwvaO7Z72NI1aA5pZSD3LAJGGNeNsYEGGMCgb7AcmPMgKs2+xHbKAAR8cM2PbTXoZW6ueAAH0Z1rUvkzngmLt9ldTlKKRdx09cJiMhbItLV/uMiIEFEYoEVwAvGmARHFKj+5/7GlenRsCLjl+1i1U49p6KUunVi1VcPw8PDTVRUlCXHdmbnL6bSffJajp1OZsHQllT0KWx1SUqpPCQi0caYcEftT68YdjKFC3oydUAoKamGQREaNKeUujXaBJxQNf9ifHBfMDGHTvKfX2KtLkcp5cS0CTipTkHleaxFVf77xwF+0qA5pdRN0ibgxEbeXZvwKr6MnLOJXUdPW12OUsoJaRNwYl6eHky6P5QiBT15JmK9Bs0ppXJMm4CTK1fSmwl9G7I3/gwj52rQnFIqZ7QJuIBmNfx4rsNt/LzxH77+Q4PmlFLZp03ARTzTujrtapdhzC+xrD+YaHU5SiknoU3ARdiC5kIoV9IWNJdw5oLVJSmlnIA2ARdSsogXU/uHkXD2ogbNKaWyRZuAi6lfsSRvdq3H6l3HGb9Mg+aUUtenTcAF9W1UiZ6hAUxcvouVO/Qmb0qprGkTcEEiwpju9bmtbHGe/T6GuMRzVpeklMqntAm4KFvQXBip9qC5C5dSrS5JKbd38txFRs7ZxJ74M1aXkk6bgAur6leUD3sFszEuiTELtlldjlJubeHmI9w5NpJZ0XFE788/X+MuYHUBKnfdVb88T7Ssymer9xEe6Eu3kIpWl6SUWzl2OplR87eycMu/1KtQgv8+2oh6FUpaXVY6bQJu4MW7ahNz6CQj52ymTvkS1Cpb3OqSlHJ5xhhmR8cx5pdtnE9J5aW7avN4y6p4eeavCZj8VY3KFZeD5ooWKsDTM6I5o0FzSuWqQyfO8eD0dbwwexO1yhZj4bCWPNOmer5rAKBNwG2ULeHNxH4N2X/8LC/N2aRBc0rlgrQ0w1dr99FxXCTrDyTydrd6fP/k7VT3L2Z1aVnS6SA3cnv10rzQsTbv/7adsMq+PNqiqtUlKeUydh87zUtzNhN9IJHWtfz5z731CfAtYnVZN6RNwM083boa0QcSeefXbTSoVJKwKqWsLkkpp5aSmsankXsZv3QXRQp5MrZ3A+5tWBERsbq0bNHpIDcjIvxf7wZU8CnMoIgNHNegOaVu2pbDSXSbtJYPF+2gfd2yLBnemh6hAU7TAECbgFsqWdiLKf1DOXHuIsO+26BBc0rlUHJKKu//tp1uk9cSf+YC0waEMbl/KP7FC1ldWo5pE3BT9SuW5O1u9Vi7O4FxS3daXY5STmPdvhN0Gr+aqSv3cF9oAEuHt+au+uWsLuum6TkBN9anUWWi9icycfluQiv7ckftMlaXpFS+debCJd5fuJ1v/jxAgG9hZjzWhBY1/awu65bpSMDNvd29PnXKl+DZ72M4dEKD5pTKzIodx+gwdhUz/jrAo82rsnh4K5doAKBNwO15e3kytX8oaWmGQTM1aE6pjBLPXmTE9zE88uXfFClUgNlPN+ONe+pSpKDrTKJoE1AE+hXlo94N2BSXxFs/x1pdjlKWM8bwy6YjtP94FT9t/IehbWvwy9AWhFXxtbo0h3OddqZuScd65XiqVTU+idxLeKAv9zYMsLokpSxx7FQyr/24hcWxRwmqWJJvHmtCnfIlrC4r12gTUOle6HgbGw6d5OW5tqC52uVc94Wv1NWMMcyKiuPtX2K5eCmNl++uzWMtqlIgH+b9OJJr/3YqRwp4ejCpX0OKe3vxzIz1nE5OsbokpfLEwYRzDPjiL16cs4k65Uvw27OteKp1dZdvAJCDJiAiniKyQUQWXGebniJiRCTcMeWpvFamhDeT+jXk4IlzvDhbg+aUa0tNM3yxxhb4tvFQEmO61+e7J5pS1a+o1aXlmZy0uWFAlrenEpHi9m3+utWilLWaVCvNix1vY+GWf/lizT6ry1EqV+w6epr7pv3O2wtiaVqtFIuHt2JA0yp4eDhP5IMjZKsJiEgA0Bn4/DqbvQ28DyQ7oC5lsSdbVaND3bK8t3A7UftPWF2OUg5z8VIaE5btovOENew/fpZxfUKY/nAjKvgUtro0S2R3JDAOeBFIy2yliIQClYwxv1xvJyLypIhEiUhUfHx8jgpVeUtE+LBXAyr6FmbQzPUaNKdcwqa4k3SdtIaxS3bSsX45loxoTXcnSvzMDTdsAiLSBThmjInOYr0HMBZ47kb7MsZ8aowJN8aE+/v757hYlbdKFvZiav8wTp5LYei3GjSnnNf5i6m8++s2uk9eS+K5i3z2YDgT+zXEr5jzBb45WnZGAs2BriKyH/gOaCsiMzKsLw7UB1bat2kK/KQnh11D3QoleLt7fX7fk8DYJTusLkepHPtzbwJ3j4/kk8i99GlUiSUjWtO+blmry8o3bnidgDHmZeBlABFpAzxvjBmQYX0SkB6iISIr7dtEObhWZZHe4ZWI3p/I5BV7CK3sS7s6+j+Qyv9OJ6fw3sLtRPx1kMqlijDz8SY0q+EaeT+OdNNfghWRt0SkqyOLUfnXm93qUbd8CYZr0JxyAsu3H6XDx5F8u+4gj7eoyqJnW2kDyIJY9T3w8PBwExWlgwVncjDhHJ0nrqZK6SLMfroZ3l6eVpek1BVOnL3IWz9v5ceYf6hVthjv9wymYWXXyvsRkWhjjMOm213/cjjlMJVLF2Fs7xC2HD7Fmxo0p/IRYww/bfyHO8eu4pfNR3j2zposGNLS5RpAbtDsIJUj7euW5enW1Zm2ag9hVXy5L0yD5pS1/k1K5rUfN7N02zEaVPLhg57B3FauuNVlOQ1tAirHnu9Qi5hDibw6bzP1KpRw6YRFlX8ZY/ju70O888s2UtLSeK1zHR5pXhVPN7vi91bpdJDKsQKeHkzsF0rJwl48MyOaUxo0p/LYgYSz3P/ZX7w8dzP1K5Zk0bOteLxlNW0AN0GbgLop/sULMen+UA4lnufFWRo0p/JGaprh89V76Tguki2Hk3i3RxAzn2hCldLuE/jmaNoE1E1rXLUUI++qzW9b/+Xz1Ro0p3LXjn9P02Pq74z5ZRstavixZERr+jWu7NaRD46g5wTULXm8ZVWiDyTy3m/baVDJh8ZVS1ldknIxFy+lMXnFbqas3E1xby8m9GvIPcHl9c3fQXQkoG6JiPBBr2Aq+RZm8Mz1HDutIbLKcWIOnaTLxNWMX7aLzkHlWTqiNV0bVNAG4EDaBNQtK+HtxdQBYZxKtgXNXUrNNGxWqWw7fzGVMQti6TFlLaeTLzH94XDG9W1IqaIFrS7N5WgTUA5Rp3wJxnQP4s+9J/i/JTutLkc5sd/3HKfjuEg+X7OPfo0rs3h4K9rW1ryq3KLnBJTD3BcWQPSBE0xdaQua06RGlROnklN499dtfLvuEIGli/Ddk01pWq201WW5PB0JKIcadU896lcswYgfYjiYoEFzKnuWxh6l/dhVfP/3IZ5qVY2Fw1ppA8gj2gSUQ3l7eTK1fxgCPBMRTXJKqtUlqXzs+JkLDPl2A49/HYVvkYL8OKg5L3eqQ+GCGk6YV7QJKIerVKoIH/cJYes/pxg1f6vV5ah8yBjDjxsO037sKhZt+Zfn2tfip8EtCA7wsbo0t6PnBFSuaFenLAPbVGfKyj2EBfrSO7yS1SWpfOKfk+d57cctLN9+jIaVbYFvNctq4JtVtAmoXDOifS1iDp3k9R+3UK9CCepVKGl1ScpCaWmGmesO8t7C7aSmGd7oUpeHmgVq3o/FdDpI5ZoCnh5M6NcQnyJeDIxYT9J5DZpzV/uOn6XfZ3/y2o9baFDJFvj2aAtN/MwPtAmoXOVXrBCT7w/lcOJ5Xpi1UYPm3Myl1DQ+WbWHu8ZFEnvkFB/0DGbGY02oXLqI1aUpO20CKteFB5Zi5N21WRx7lE8j91pdjsojsf+c4t4pv/Puwu20ruXP0hGt6d2okkY+5DN6TkDlicdaVGX9wUQ+WLSDkEo+NNHvgLusC5dSmbR8N1NX7sGniBeT7w+lU1A5ffPPp3QkoPKEiPB+z2CqlCrC4G83cOyUBs25ougDiXSesIaJy3fTNaQCS4a3prMmfuZr2gRUninu7cWUAaGcTk5hsAbNuZRzFy/x5s9buW/a75y7cIkvH2nE2N4h+GrgW76nTUDlqdrlSvDOvUGs23eCDxfvsLoc5QBrdh2nw8eRfLl2Pw80rcLiEa2547YyVpelsknPCag81yM0gKgDiXyyai+hlX3pWK+c1SWpm5B0LoX//BrLD1FxVPMryg9P3a43FXJC2gSUJd7oUpfNcUk8/8NGbhtSnEA/vUesM/lty7+8Pn8LJ85e5Jk21RnWribeXpr344x0OkhZwtvLkyn9Q/HwEJ6JWK9Bc04i/vQFBkWs5+kZ0fgXK8T8Qc156a7a2gCcmDYBZRlb0FwDth05xes/brG6HHUdxhjmRMdx59hVLIk9ygsdb2P+4ObUr6hRIM5Op4OUpdrWLsuQtjWYuHw34YG+9GlU2eqS1FUOnzzPK3M3s2pnPGFVfHm/ZzA1yhSzuizlINoElOWevbMWGw6e5PX5W6lXoaR+uswn0tIMM/46wPsLt2OA0ffU5cHbA/HQvB+XotNBynKeHsL4viGUKlJQg+byiT3xZ+jz6R+8MX8roVV8WfRsKx5uXlUbgAvKdhMQEU8R2SAiCzJZN0JEYkVkk4gsE5Eqji1TubrSxQoxuX8o/5w8z3M/bCQtTYPmrJCSmsaUlbu5e/xqdh49w0e9GvD1o42pVEoD31xVTkYCw4BtWazbAIQbY4KB2cAHt1qYcj9hVXx5pVMdlm47yicaNJfnthxOovvktXzw2w7a1S7DkhGtuC8sQCMfXFy2moCIBACdgc8zW2+MWWGMuXxX8T+BAMeUp9zNI80D6Rxcng8XbeePPQlWl+MWklNS+XDRdrpNXsvRUxeY2j+UqQPCKFPc2+rSVB7I7khgHPAikJ2wl8eAhZmtEJEnRSRKRKLi4+OzeWjlTi4HzQX6FWWIBs3luqj9J+g0YTWTV+zh3oYVWTqiFXcHlbe6LJWHbtgERKQLcMwYE52NbQcA4cCHma03xnxqjAk3xoT7+/vnuFjlHooVKsC0AWGcvXCJwTM3kKJBcw539sIlRv+0lV6f/MGFlDS+frQxH/VqgE8RDXxzN9kZCTQHuorIfuA7oK2IzLh6IxG5E3gV6GqMueDQKpXbqVW2OO/2CGLd/hN8uEiD5hxp1c54OnwcyX//2M9DtweyeHgrWtXSD2Xu6obXCRhjXgZeBhCRNsDzxpgBGbcRkYbAJ8Bdxphjji9TuaPuDSsSdeAEn0buJbSyD3fV12mKW3Hy3EXeXrCNOevjqO5flFlP3U54oAa+ububvlhMRN4CoowxP2Gb/ikGzLJ/k+CgMaarY0pU7ux1e9DcC7M2cVu5ElTVoLmbsnDzEV6fv5XEcxcZfEcNBretoXk/CgCx6sbf4eHhJioqypJjK+cSl3iOLhPXUK6EN/MGNqdwQX3zyq5jp5J5Y/5Wftv6L/UqlOCD+4KpV0GvyHZmIhJtjAl31P70imGV7wX4FuHjPiHsOHqa137cglUfXJyJMYZZUYe4c+wqlu84xkt31Wb+oObaANQ1NDtIOYU7bivDkLY1mbBsF+GBvvRrrEFzWTl04hyvzNvM6l3HaRToy3s9g6nur4FvKnPaBJTTGNauJhsOJjLqp60EVdSguaulphm+/mM/Hy7agQBvd6tH/yZVNO9HXZdOBymnYQuaa0jpogV5ekY0Sec0aO6y3cdO0/uTP3jz51gaBZZi8YjWPKCJnyobtAkop1KqaEEm9w/l6KlkRvwQ4/ZBcympaUxavotO49ewJ/4MY3s34KtHGlHRp7DVpSknoU1AOZ3Qyr682qkOy7YfY+qqPVaXY5kth5PoOmktHy3eSft6ZVkyvDU9QjXwTeWMnhNQTumhZoFEHzzJ/y3eQcPKPjSr7md1SXkmOSWVcUt38dnqvZQqWpBPHgijY71yVpelnJSOBJRTEhHe6xFEVb+iDP12A/8muUfQ3Lp9J+g0fjXTVu3hvtAAlg5vrQ1A3RJtAsppFbUHzZ27mMrgmetdOmjudHIKr/+4hd6f/EFKWhoRjzfh/fuCKVnEy+rSlJPTJqCcWk170FzUgUTeW7jd6nJyxYodx+j4cSQz/jrAo82rsujZVjSv4T7TXyp36TkB5fS6hVQk+kAiX6zZR1gVXzq5SB5+4tmLvL0glrkbDlOzTDHmPNOM0Mq+VpelXIw2AeUSXu1ch41xSbw4exO1yxWnmhNfIWuM4ZfNRxg1fytJ51MY2rYGg9rWoFABzUxSjqfTQcolFCrgyZT+oXh5Cs/MWM+5i5esLummHD2VzFPfRDN45gYq+BTm5yEtGNHhNm0AKtdoE1Auo6JPYcb1bcjOY6d5bZ5zBc0ZY/j+74PcOXYVq3bG80qn2swb2Iw65UtYXZpycTodpFxK61r+DGtXk3FLdxEW6Ev/JlWsLumGDiacY+TcTfy+J4EmVUul32NZqbygTUC5nKFta7L+4Ene/CmWoIolCQ7wsbqkTKWmGb76fT8fLdqBp4fwn3vr069RZc37UXlKp4OUy/HwEMb1CcGvWEGembGek+cuWl3SNXYePU3Pqb/z9oJYbq9emiUjWmnip7KENgHlkkoVLciUAWEcO53M8O/zT9DcxUtpTFi2i84TVnMg4Szj+4bwxUPhlC+pgW/KGtoElMsKqeTD613qsmJHPFNW7ra6HDYeOknXSWsYu2Qnd9Uvz9IRrekWUlED35Sl9JyAcmkPNK1C1P5Exi7ZSUglX1rUzPsrbc9fTOXjpTv5fPVe/IsX4rMHw2lft2ye16FUZnQkoFyaiPBujyCq+Rdj6HcbOJJ0Pk+P/8eeBO4eH8mnkXvp06gyS0a01gag8hVtAsrl2YLmQklOSWVQxHouXsr9oLlTySm8Mm8z/T77EwPMfKIJ7/YIooS3Br6p/EWbgHILNcoU5/2ewaw/eJJ3F27L1WMt336UDmMj+W7dQZ5oWZXfhrVyq/sdKOei5wSU27inQQWiDyTy5dr9hFXxpUtwBYfuP+HMBd5aEMv8mH+4rWxxpj0QRkglH4ceQylH0yag3MorneqwMe4kL83eRO1yJahR5taD5owx/LTxH978OZbTySk8e2dNBrapQcECOtBW+Z++SpVbKVjAg8n3h1LIy5OBEdG3HDR3JOk8j/83imHfxVCpVBEWDGnJs3fW0gagnIa+UpXbqeBTmPF9Q9h17AyvzN18U0FzaWmGmX8dpMPYSNbuOc5rnesw95lm3FaueC5UrFTu0ekg5ZZa1vRn+J21GLtkJ2GBpXigafaD5vYfP8vIuZv4c+8Jbq9Wmvd6BlGltAa+KeekTUC5rcF31GD9wUTe/jmW4IolaXCDk7ipaYbpa/bxf0t24OXhwXs9gujTqJJe8aucmk4HKbfl4SF83DsE/+KFGBixnsSzWQfN7fj3ND2mrOU/v26jRQ0/loxoTd/GlbUBKKenTUC5Nd+iBZnSP5T40xd4NpOguQuXUvl4yU66TFxNXOJ5JvZryGcPhlOupLdFFSvlWNluAiLiKSIbRGRBJusKicj3IrJbRP4SkUCHVqlULmpQyYfX76nLqp3xTFz+v6C5DQcTuWfiGsYv20XnoPIsGdGaexpU0E//yqXk5JzAMGAbkNn97h4DEo0xNUSkL/A+0McB9SmVJwY0qUz0/hOMW7aT2uWLs27fCaav3Ue5Et5MfzictrU170e5pmw1AREJADoD/wFGZLJJN2C0/fFsYJKIiHGmm7wqtyYivNMjiNgjp3jqm2gABjStzEt31aa45v0oF5bdkcA44EUgqy9BVwQOARhjLolIElAaOJ5xIxF5EngSoHLlyjdRrlK5p0jBAkwbEMZHi3fw4O2BNK1W2uqSlMp1NzwnICJdgGPGmOhbPZgx5lNjTLgxJtzf3/9Wd6eUw1XzL8aU/mHaAJTbyM6J4eZAVxHZD3wHtBWRGVdtcxioBCAiBYCSQIID61RKKZULbtgEjDEvG2MCjDGBQF9guTFmwFWb/QQ8ZH98n30bPR+glFL53E1fMSwibwFRxpifgC+Ab0RkN3ACW7NQSimVz+WoCRhjVgIr7Y/fyLA8GejlyMKUUkrlPr1iWCml3Jg2AaWUcmPaBJRSyo1pE1BKKTcmVn2TU0TigQM3+XQ/rroaOZ/QunJG68q5/Fqb1pUzt1JXFWOMw662tawJ3AoRiTLGhFtdx9W0rpzRunIuv9amdeVMfqpLp4OUUsqNaRNQSik35qxN4FOrC8iC1pUzWlfO5dfatK6cyTd1OeU5AaWUUo7hrCMBpZRSDqBNQCml3JjbNAER+VpEokTkG6trUa5LRPqJyF8iskZE6lldj3I/IvK+iPwtIgtEpNANt9dzAkop5b7yfCQgIn4iclFEYkRkt71btRGRSBH5RUR2iMg0EfEQkUdFZFyG5z4hIh+LSKCInLfvI0ZEvravbyciG0Rks4hMv9wFRWS/iPjZH88QkS15/Xur3JfJ62KfiHwlIv4iMsf+6ehvEWlu3360iHwjIn+IyC4RecK+vI2IJNn3sVdERtiXPywik646ZriIrMywv+ftj+8UESMi+eKCIHV913ntBIrIchHZJCLLRKSyffuyIjJPRDba/2mWyX4OXn69iEh1EflNRKJFZLWI1M5w7En2bWNE5Mzl14yIrMz4+hGRM/Z/txGRBfbHpUTkZIbX3coMzx9z+TnXY8V0kCcQZ4wJAR7PsLwxMASoC1QHegA/APeIiJd9m0eA6fbHe4wxIfZ/HhQRb+AroI8xJgjbvRKeyXhgEQkC6ufKb6Xyi/TXBfCCfdl44GNjTCOgJ/B5hu2DgbbA7cAbIlLBvny1fR99gKvvpJcdbwC7b+J5yjqZvXYmAv81xgQDEcAE+/IJwCpjTAMgFNhqX+4J7LLvI/2eK9i+EjrEGBMGPA9MybDOE3jN/pyoHNb8MnDw6oUiUgZol50dWNEEimG7+9jV1hlj9hpjUoFvgRbGmDPAcqCLvXN6GWM2Z7Hf24B9xpid9p//C7S6apsxwKhb/g2Us7kTmCQiMdhuhVpCRIrZ1803xpw3xhwHVmD7MALQ0r79Cv73Pz5AH/sntr9FpEtmBxORnsDf2O69rZzb7cBM++NvgBb2x22BqQDGmFRjTJJ9eWEgOeMO7K+1ZsAs+2vqE6B8hk2yek8EiLg8OrHvO+N+KwJNgXmZPO914J0b/G7ALdxe8hZUBeIyWX71yYnLP38OvAJsB768heM2A84AG29hH8o5eQBN7XfASycikPXrbrUxpot9GjFaRL6zL//eGDNYRGpiu8tet6ue74ntU2QXYLbjfgXlJCoA/1y1zAM4af+kn5ms3hMB+htjouB/00EZjALexvbellEgUN8YM8T+Gr8uK0YCvYAFmSxvLCJVRcQD2xB8DYAx5i+gEnA/thFCVnYAgSJSw/7zA8CqDOtHc+XwTLmPxdimGgEQkZAM67qJiLeIlAbaYPsEn9E5bJ/Arv6WxQky/xA1APjVPrJQzu93/nfP9P7AavvjZdinm0XEU0RK2pf3AtZm3IEx5hSwT0R62bcXEWlgf1wF26ggpx9OqwOBxpjFmawbRQ5mPPK0CYjIQOBJ4Hn78OZzoCVQAtv/fJOAbcA+rhzi/ACsNcYkZrVv+6e8R7ANuTYDacC0DJv8ZYzZ47jfRjmRoUC4/eReLPB0hnWbsE35/Am8bYy5/Cnu8nTQemBshuF+DxFZg+1N4AWuVRYYmwu/g7LGEOAREdmE7YPlMPvyYcAd9veaaKCuiHwAFAUmZ7Kf/sBjIrIR2/mDyyPIv4HSwAb76y0c+DAbddUm6w+1ccaYyGzsA8jjr4iKyGhgpf2G9ZeXdcGWrX2fMSarOdYF2E7sLcuLOpV7sL8ezxhjPrK6FuWeRGSlMabNVctmG2Puy6sa8no6aDYQe9Wy9UCmE1ci4iMiO4Hz2gCUUi7orUyWfZyXBejFYkop5cbcJjZCKaXUtbQJKKWUG9MmoJRSbkybgFJKuTFtAipfsn8zbKDFNfQSkW0isuI623xrv/5guD1wLM++2qeUI2gTUPmVD2BpEwAeA54wxtyR2UoRKQc0MsYEG2Mc9rU+EfF01L6UuhFtAiq/eg+obg/PmiUi3S+vEJEIEekmtmjn+fb43F0iMirDNgNEZJ39+Z9c741VbDeC2SwiW0TkffuyN7CFhX0hIlldwbkYqGg/Rsur9plVrPn14s7fF5H12KIHlMoT2gRUfjUSe7QvtjiRhwHsGS3NgF/s2zXGFg8dDPQSW75/HWz5U83tz0/Fdtn+NezR0e9jS4UMARqJSHdjzFvYYn37G2Myi4cA6Mr/4ocvZ8qQVax5NuLOE4wxocaY71Aqj2gTUPmeMWYVUFNE/IF+wBxjzCX76iXGmARjzHlgLrZP7+2AMOBvex5LO6BaFrtvhC3KJN6+zwiujSDPqaxizW8Ud/79LR5XqRyzIkpaqZvxNbaEzr7YggIvyywKWrDdCOTlPKrNUc5aXYByPzoSUPnVaaB4hp+/Ap4FMMZkzJ9qL7Zb7BUGumOL8V0G3Ge/u9LlW/BVyeI464DWYrvtqSe2kcaqLLbNrqxizW8Ud65UntORgMqXjDEJIrJWbPeDXmiMeUFEtgE/XrXpOmAOEADMyHADjteAxfb7U6QAg4ADmRzniIiMxBYnLcAvxpj5t1h7sohcjjUvgC0ueJox5kJmy2/lWErdKg2QU05BRIoAm4HQy9n+IvIwEG6MGWxlbUo5M50OUvmeiNyJ7WZDEzPc3EUp5QA6ElBuQ0T+4trbRD5gjNl8g+d1xPY10oz2GWPudWR9SllBm4BSSrkxnQ5SSik3pk1AKaXcmDYBpZRyY9oElFLKjf0/GAaSfuT7JkEAAAAASUVORK5CYII=\n",
      "text/plain": [
       "<Figure size 432x288 with 1 Axes>"
      ]
     },
     "metadata": {
      "needs_background": "light"
     },
     "output_type": "display_data"
    }
   ],
   "source": [
    "price_type_of_floor.plot()"
   ]
  },
  {
   "cell_type": "markdown",
   "metadata": {},
   "source": [
    "Вывод: По графику видно, что цена квартир на первом этаже значительно ниже, чем на других. Цена на последнем выше, чем на первом, но также ниже других."
   ]
  },
  {
   "cell_type": "markdown",
   "metadata": {},
   "source": [
    "##### Зависимость цены от даты размещения (день недели, месяц, год)"
   ]
  },
  {
   "cell_type": "code",
   "execution_count": 83,
   "metadata": {},
   "outputs": [],
   "source": [
    "price_day = data.pivot_table(index = 'day_exposition', values = 'last_price', aggfunc = ['median'])"
   ]
  },
  {
   "cell_type": "code",
   "execution_count": 84,
   "metadata": {},
   "outputs": [
    {
     "data": {
      "text/plain": [
       "<AxesSubplot:xlabel='day_exposition'>"
      ]
     },
     "execution_count": 84,
     "metadata": {},
     "output_type": "execute_result"
    },
    {
     "data": {
      "image/png": "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\n",
      "text/plain": [
       "<Figure size 432x288 with 1 Axes>"
      ]
     },
     "metadata": {
      "needs_background": "light"
     },
     "output_type": "display_data"
    }
   ],
   "source": [
    "price_day.plot()"
   ]
  },
  {
   "cell_type": "markdown",
   "metadata": {},
   "source": [
    "Вывод: Самые высокие цены на квартиры выставляют во вторник, в выходные устанавливают наоборот низкие цены."
   ]
  },
  {
   "cell_type": "code",
   "execution_count": 85,
   "metadata": {},
   "outputs": [],
   "source": [
    "price_month = data.pivot_table(index = 'month_exposition', values = 'last_price', aggfunc = ['median'])"
   ]
  },
  {
   "cell_type": "code",
   "execution_count": 86,
   "metadata": {},
   "outputs": [
    {
     "data": {
      "text/plain": [
       "<AxesSubplot:xlabel='month_exposition'>"
      ]
     },
     "execution_count": 86,
     "metadata": {},
     "output_type": "execute_result"
    },
    {
     "data": {
      "image/png": "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\n",
      "text/plain": [
       "<Figure size 432x288 with 1 Axes>"
      ]
     },
     "metadata": {
      "needs_background": "light"
     },
     "output_type": "display_data"
    }
   ],
   "source": [
    "price_month.plot()"
   ]
  },
  {
   "cell_type": "markdown",
   "metadata": {},
   "source": [
    "Вывод: Самые дорогие объявляения были выставлены в апреле, самые низкие в июне. Падение цен летом может быть объяснено низкой покупательской способностью в этом сезоне или необходимостью быстрее продать квартиру."
   ]
  },
  {
   "cell_type": "code",
   "execution_count": 87,
   "metadata": {},
   "outputs": [],
   "source": [
    "price_year = data.pivot_table(index = 'year_exposition', values = 'last_price', aggfunc = 'median')"
   ]
  },
  {
   "cell_type": "code",
   "execution_count": 88,
   "metadata": {},
   "outputs": [
    {
     "data": {
      "text/plain": [
       "<AxesSubplot:xlabel='year_exposition'>"
      ]
     },
     "execution_count": 88,
     "metadata": {},
     "output_type": "execute_result"
    },
    {
     "data": {
      "image/png": "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\n",
      "text/plain": [
       "<Figure size 432x288 with 1 Axes>"
      ]
     },
     "metadata": {
      "needs_background": "light"
     },
     "output_type": "display_data"
    }
   ],
   "source": [
    "price_year.plot()"
   ]
  },
  {
   "cell_type": "markdown",
   "metadata": {},
   "source": [
    "Вывод: До 2014 года стоимость недвижимости была высокая, с 2014-2017 наблюдается спад цен, начиная с 2017 можно увидеть снова рост цен на недвижимость."
   ]
  },
  {
   "cell_type": "markdown",
   "metadata": {},
   "source": [
    "#### Средняя цена одного квадратного метра в 10 населённых пунктах с наибольшим числом объявлений."
   ]
  },
  {
   "cell_type": "code",
   "execution_count": 89,
   "metadata": {},
   "outputs": [
    {
     "data": {
      "text/html": [
       "<div>\n",
       "<style scoped>\n",
       "    .dataframe tbody tr th:only-of-type {\n",
       "        vertical-align: middle;\n",
       "    }\n",
       "\n",
       "    .dataframe tbody tr th {\n",
       "        vertical-align: top;\n",
       "    }\n",
       "\n",
       "    .dataframe thead th {\n",
       "        text-align: right;\n",
       "    }\n",
       "</style>\n",
       "<table border=\"1\" class=\"dataframe\">\n",
       "  <thead>\n",
       "    <tr style=\"text-align: right;\">\n",
       "      <th></th>\n",
       "      <th>Количество_объявлений</th>\n",
       "      <th>Средняя цена</th>\n",
       "    </tr>\n",
       "    <tr>\n",
       "      <th>locality_name</th>\n",
       "      <th></th>\n",
       "      <th></th>\n",
       "    </tr>\n",
       "  </thead>\n",
       "  <tbody>\n",
       "    <tr>\n",
       "      <th>Санкт-Петербург</th>\n",
       "      <td>13108</td>\n",
       "      <td>114688.188249</td>\n",
       "    </tr>\n",
       "    <tr>\n",
       "      <th>Мурино</th>\n",
       "      <td>551</td>\n",
       "      <td>85302.233267</td>\n",
       "    </tr>\n",
       "    <tr>\n",
       "      <th>Кудрово</th>\n",
       "      <td>446</td>\n",
       "      <td>95040.479552</td>\n",
       "    </tr>\n",
       "    <tr>\n",
       "      <th>Шушары</th>\n",
       "      <td>406</td>\n",
       "      <td>78390.379064</td>\n",
       "    </tr>\n",
       "    <tr>\n",
       "      <th>Всеволожск</th>\n",
       "      <td>361</td>\n",
       "      <td>69144.528172</td>\n",
       "    </tr>\n",
       "    <tr>\n",
       "      <th>Парголово</th>\n",
       "      <td>307</td>\n",
       "      <td>90394.026710</td>\n",
       "    </tr>\n",
       "    <tr>\n",
       "      <th>Пушкин</th>\n",
       "      <td>280</td>\n",
       "      <td>104680.828893</td>\n",
       "    </tr>\n",
       "    <tr>\n",
       "      <th>Гатчина</th>\n",
       "      <td>235</td>\n",
       "      <td>68989.100936</td>\n",
       "    </tr>\n",
       "    <tr>\n",
       "      <th>Колпино</th>\n",
       "      <td>233</td>\n",
       "      <td>75222.484077</td>\n",
       "    </tr>\n",
       "    <tr>\n",
       "      <th>Выборг</th>\n",
       "      <td>195</td>\n",
       "      <td>58518.441846</td>\n",
       "    </tr>\n",
       "  </tbody>\n",
       "</table>\n",
       "</div>"
      ],
      "text/plain": [
       "                 Количество_объявлений   Средняя цена\n",
       "locality_name                                        \n",
       "Санкт-Петербург                  13108  114688.188249\n",
       "Мурино                             551   85302.233267\n",
       "Кудрово                            446   95040.479552\n",
       "Шушары                             406   78390.379064\n",
       "Всеволожск                         361   69144.528172\n",
       "Парголово                          307   90394.026710\n",
       "Пушкин                             280  104680.828893\n",
       "Гатчина                            235   68989.100936\n",
       "Колпино                            233   75222.484077\n",
       "Выборг                             195   58518.441846"
      ]
     },
     "execution_count": 89,
     "metadata": {},
     "output_type": "execute_result"
    }
   ],
   "source": [
    "local_ad = data.pivot_table(index = 'locality_name', values = 'price_one_metr', aggfunc = ['count', 'mean'])\n",
    "#построение сводной таблицы по населеным пунткам\n",
    "local_ad.columns = ['Количество_объявлений', 'Средняя цена']\n",
    "#переименование столбцов сводной таблицы\n",
    "local_ad_sort = local_ad.sort_values(by = 'Количество_объявлений', ascending = False).head(10)\n",
    "#вывод 10 значений с наиболшим числом объявлений\n",
    "local_ad_sort"
   ]
  },
  {
   "cell_type": "code",
   "execution_count": 90,
   "metadata": {},
   "outputs": [
    {
     "data": {
      "text/plain": [
       "<AxesSubplot:xlabel='locality_name'>"
      ]
     },
     "execution_count": 90,
     "metadata": {},
     "output_type": "execute_result"
    },
    {
     "data": {
      "image/png": "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\n",
      "text/plain": [
       "<Figure size 432x288 with 1 Axes>"
      ]
     },
     "metadata": {
      "needs_background": "light"
     },
     "output_type": "display_data"
    }
   ],
   "source": [
    "local_ad_sort.plot(kind = 'bar')"
   ]
  },
  {
   "cell_type": "markdown",
   "metadata": {},
   "source": [
    "Вывод: Самая высокая стоимость квадратного метра в Санкт-Петербурге и составляет в среднем 114700руб. Самая низкая стоимость в Выборге и составляет 58500 руб."
   ]
  },
  {
   "cell_type": "markdown",
   "metadata": {},
   "source": [
    "#### Средняя цена каждого километра в Санкт-Петербурге"
   ]
  },
  {
   "cell_type": "code",
   "execution_count": 91,
   "metadata": {},
   "outputs": [
    {
     "data": {
      "text/html": [
       "<div>\n",
       "<style scoped>\n",
       "    .dataframe tbody tr th:only-of-type {\n",
       "        vertical-align: middle;\n",
       "    }\n",
       "\n",
       "    .dataframe tbody tr th {\n",
       "        vertical-align: top;\n",
       "    }\n",
       "\n",
       "    .dataframe thead th {\n",
       "        text-align: right;\n",
       "    }\n",
       "</style>\n",
       "<table border=\"1\" class=\"dataframe\">\n",
       "  <thead>\n",
       "    <tr style=\"text-align: right;\">\n",
       "      <th></th>\n",
       "      <th>price_one_metr</th>\n",
       "    </tr>\n",
       "    <tr>\n",
       "      <th>сity_сenters_km</th>\n",
       "      <th></th>\n",
       "    </tr>\n",
       "  </thead>\n",
       "  <tbody>\n",
       "    <tr>\n",
       "      <th>0.0</th>\n",
       "      <td>208887.490000</td>\n",
       "    </tr>\n",
       "    <tr>\n",
       "      <th>1.0</th>\n",
       "      <td>155725.381366</td>\n",
       "    </tr>\n",
       "    <tr>\n",
       "      <th>2.0</th>\n",
       "      <td>149804.647159</td>\n",
       "    </tr>\n",
       "    <tr>\n",
       "      <th>3.0</th>\n",
       "      <td>120021.184846</td>\n",
       "    </tr>\n",
       "    <tr>\n",
       "      <th>4.0</th>\n",
       "      <td>127154.478636</td>\n",
       "    </tr>\n",
       "    <tr>\n",
       "      <th>5.0</th>\n",
       "      <td>136508.764813</td>\n",
       "    </tr>\n",
       "    <tr>\n",
       "      <th>6.0</th>\n",
       "      <td>145520.760287</td>\n",
       "    </tr>\n",
       "    <tr>\n",
       "      <th>7.0</th>\n",
       "      <td>153861.491005</td>\n",
       "    </tr>\n",
       "    <tr>\n",
       "      <th>8.0</th>\n",
       "      <td>124768.517833</td>\n",
       "    </tr>\n",
       "    <tr>\n",
       "      <th>9.0</th>\n",
       "      <td>115046.297060</td>\n",
       "    </tr>\n",
       "    <tr>\n",
       "      <th>10.0</th>\n",
       "      <td>115160.497312</td>\n",
       "    </tr>\n",
       "    <tr>\n",
       "      <th>11.0</th>\n",
       "      <td>109932.657010</td>\n",
       "    </tr>\n",
       "    <tr>\n",
       "      <th>12.0</th>\n",
       "      <td>108018.055992</td>\n",
       "    </tr>\n",
       "    <tr>\n",
       "      <th>13.0</th>\n",
       "      <td>108886.644447</td>\n",
       "    </tr>\n",
       "    <tr>\n",
       "      <th>14.0</th>\n",
       "      <td>104338.081334</td>\n",
       "    </tr>\n",
       "    <tr>\n",
       "      <th>15.0</th>\n",
       "      <td>105490.233970</td>\n",
       "    </tr>\n",
       "    <tr>\n",
       "      <th>16.0</th>\n",
       "      <td>101851.837765</td>\n",
       "    </tr>\n",
       "    <tr>\n",
       "      <th>17.0</th>\n",
       "      <td>97894.418847</td>\n",
       "    </tr>\n",
       "    <tr>\n",
       "      <th>18.0</th>\n",
       "      <td>97761.969086</td>\n",
       "    </tr>\n",
       "    <tr>\n",
       "      <th>19.0</th>\n",
       "      <td>100088.067190</td>\n",
       "    </tr>\n",
       "    <tr>\n",
       "      <th>20.0</th>\n",
       "      <td>103048.349714</td>\n",
       "    </tr>\n",
       "    <tr>\n",
       "      <th>21.0</th>\n",
       "      <td>94785.560364</td>\n",
       "    </tr>\n",
       "    <tr>\n",
       "      <th>22.0</th>\n",
       "      <td>91417.292926</td>\n",
       "    </tr>\n",
       "    <tr>\n",
       "      <th>23.0</th>\n",
       "      <td>90970.083803</td>\n",
       "    </tr>\n",
       "    <tr>\n",
       "      <th>24.0</th>\n",
       "      <td>84962.459200</td>\n",
       "    </tr>\n",
       "    <tr>\n",
       "      <th>25.0</th>\n",
       "      <td>91245.723333</td>\n",
       "    </tr>\n",
       "    <tr>\n",
       "      <th>26.0</th>\n",
       "      <td>88759.015294</td>\n",
       "    </tr>\n",
       "    <tr>\n",
       "      <th>27.0</th>\n",
       "      <td>132115.710000</td>\n",
       "    </tr>\n",
       "    <tr>\n",
       "      <th>28.0</th>\n",
       "      <td>81161.914286</td>\n",
       "    </tr>\n",
       "    <tr>\n",
       "      <th>29.0</th>\n",
       "      <td>71565.976000</td>\n",
       "    </tr>\n",
       "  </tbody>\n",
       "</table>\n",
       "</div>"
      ],
      "text/plain": [
       "                 price_one_metr\n",
       "сity_сenters_km                \n",
       "0.0               208887.490000\n",
       "1.0               155725.381366\n",
       "2.0               149804.647159\n",
       "3.0               120021.184846\n",
       "4.0               127154.478636\n",
       "5.0               136508.764813\n",
       "6.0               145520.760287\n",
       "7.0               153861.491005\n",
       "8.0               124768.517833\n",
       "9.0               115046.297060\n",
       "10.0              115160.497312\n",
       "11.0              109932.657010\n",
       "12.0              108018.055992\n",
       "13.0              108886.644447\n",
       "14.0              104338.081334\n",
       "15.0              105490.233970\n",
       "16.0              101851.837765\n",
       "17.0               97894.418847\n",
       "18.0               97761.969086\n",
       "19.0              100088.067190\n",
       "20.0              103048.349714\n",
       "21.0               94785.560364\n",
       "22.0               91417.292926\n",
       "23.0               90970.083803\n",
       "24.0               84962.459200\n",
       "25.0               91245.723333\n",
       "26.0               88759.015294\n",
       "27.0              132115.710000\n",
       "28.0               81161.914286\n",
       "29.0               71565.976000"
      ]
     },
     "execution_count": 91,
     "metadata": {},
     "output_type": "execute_result"
    }
   ],
   "source": [
    "data_spb = data.query('locality_name == \"Санкт-Петербург\"')\n",
    "#найдем объявления только из Санкт-Петербурга\n",
    "data_spb_pt = data_spb.pivot_table(index = 'сity_сenters_km', values = 'price_one_metr', aggfunc = 'mean')\n",
    "#построим сводную таблицу по расстянию до центра и средней ценой\n",
    "data_spb_pt"
   ]
  },
  {
   "cell_type": "code",
   "execution_count": 92,
   "metadata": {},
   "outputs": [
    {
     "data": {
      "text/plain": [
       "<AxesSubplot:xlabel='сity_сenters_km'>"
      ]
     },
     "execution_count": 92,
     "metadata": {},
     "output_type": "execute_result"
    },
    {
     "data": {
      "image/png": "iVBORw0KGgoAAAANSUhEUgAAAYsAAAEHCAYAAABfkmooAAAAOXRFWHRTb2Z0d2FyZQBNYXRwbG90bGliIHZlcnNpb24zLjMuNCwgaHR0cHM6Ly9tYXRwbG90bGliLm9yZy8QVMy6AAAACXBIWXMAAAsTAAALEwEAmpwYAAA4OklEQVR4nO3deXhU1fnA8e+bjSxAQiYBAllZlV0Ii+KOLForaq1AtaJVccGl2lZtbauta639WamCpUIBRYVSW1BRpFiKoixh34SEPSxJICxJIPv5/TFncIxJJvvMJO/nefJk5r3n3nsuA/Nyzzn3HDHGoJRSSlUnwNsVUEop5fs0WSillPJIk4VSSimPNFkopZTySJOFUkopj4K8XYGGFhMTY5KTk71dDaWU8ivr1q07ZoyJrWp7s0sWycnJpKWlebsaSinlV0Rkf3XbtRlKKaWUR5oslFJKeaTJQimllEfNrs9CKdW4SkpKyMzMpLCw0NtVUXUQGhpKfHw8wcHBtdpPk4VSqlYyMzNp06YNycnJiIi3q6NqwRjD8ePHyczMJCUlpVb7ajOUUqpWCgsLcTgcmij8kIjgcDjqdFeoyUIpVWuaKPxXXT87TRbW2n25zFt7wNvVUEopn6TJwvpo8xGe+XAHur6HUkp9lyYLKzE6nPyiUnILir1dFaVUA/ntb3/Lf/7zH29Xo0k8//zzjXp8TRZWckw4APuOn/FyTZRSDaGsrIzf//73XHXVVd6uSpOoKlkYYygvL6/38XXorJUYHQHAgdwCBiW183JtlPIPv/tgG9sPn27QY/bq1Janvt+72jL79u1jzJgxDBo0iPXr19O7d2/mzJlDr169GDduHEuXLuWxxx7jk08+4dprr+Wmm25i7dq1PPzwwxQUFNCqVSuWLVtGeHg4TzzxBMuXL6eoqIjJkydzzz33VHpOYwyPPfYYH3/8MSLCr3/9a8aNG8fy5ct5+umniYmJYevWrQwaNIi3334bEWHdunU8+uij5OfnExMTw6xZs4iLi6v0+JdffjkXXHABn3/+OQUFBcyZM4cXXniBLVu2MG7cOJ599lkA3n77baZMmUJxcTFDhw5l6tSpPPnkk5w9e5YBAwbQu3dvnnvuOUaPHs3QoUNZt24dixcvJikpqV6fiyYLKyE6DBHYr3cWSvmFnTt3MmPGDIYPH85PfvITpk6dCoDD4WD9+vUAfPLJJwAUFxczbtw45s2bx+DBgzl9+jRhYWHMmDGDyMhI1q5dS1FREcOHD2fUqFGVPoPw/vvvs3HjRjZt2sSxY8cYPHgwl156KQAbNmxg27ZtdOrUieHDh7Ny5UqGDh3Kgw8+yMKFC4mNjWXevHk8+eSTzJw5s8prCgkJIS0tjVdffZWxY8eybt06oqOj6dq1K4888gjZ2dnMmzePlStXEhwczP3338/cuXN58cUXee2119i4cSPgTKbp6enMnj2bYcOGNciftyYLq1VQIHFtQzmgyUKpGvN0B9CYEhISGD58OAC33norU6ZMAWDcuHHfKbtz507i4uIYPHgwAG3btgXg008/ZfPmzSxYsACAU6dOkZ6eXmmy+OKLL5gwYQKBgYF06NCByy67jLVr19K2bVuGDBlCfHw8AAMGDGDfvn1ERUWxdetWRo4cCTibxaq6q3C57rrrAOjbty+9e/c+V75Lly4cPHiQL774gnXr1p27jrNnz9K+fftKj5WUlNRgiQI0WXxLoiOc/bmaLJTyBxWfF3C9j4iIqPExjDH85S9/YfTo0fWqS6tWrc69DgwMpLS0FGMMvXv35quvvqr1cQICAr51zICAgHPHnDhxIi+88ILHY9Xmz6EmtIPbTVJ0hDZDKeUnDhw4cO6L+J133uHiiy+usmzPnj05cuQIa9euBSAvL4/S0lJGjx7NtGnTKCkpAWDXrl0UFBRUeoxLLrmEefPmUVZWRk5ODitWrGDIkCHVnjMnJ+dcHUtKSti2bVudrtVlxIgRLFiwgOzsbAByc3PZv9+5DEVwcPC562gMmizcJDrCOZZfREFRqberopTyoGfPnrz++uucf/75nDhxgvvuu6/KsiEhIcybN48HH3yQ/v37M3LkSAoLC7nrrrvo1asXAwcOpE+fPtxzzz2Ullb+7/+GG26gX79+9O/fnyuvvJKXXnqJjh07VnvOBQsW8Pjjj9O/f38GDBjAl19+Wa9r7tWrF88++yyjRo2iX79+jBw5kiNHjgAwadIk+vXrxy233FKvc1RFmttDaKmpqaauK+V9uPkwD7yzgY8fvoTz49o2cM2Uah527NjB+eef79U67Nu3j2uvvZatW7d6tR7+qrLPUETWGWNSq9rH452FiCSIyH9FZLuIbBORh208WkSWiki6/d3OxkVEpohIhohsFpGBbseaaMuni8hEt/ggEdli95kitvGxqnM0liQ7fFabopRS6ttq0gxVCvzMGNMLGAZMFpFewBPAMmNMd2CZfQ9wNdDd/kwCpoHzix94ChgKDAGecvvynwbc7bbfGBuv6hyNItHhfDBv//HK2yyVUr4hOTm50e4qtmzZwoABA771M3To0AY7/uTJk79z/L///e8NdvzG4nE0lDHmCHDEvs4TkR1AZ2AscLktNhtYDjxu43OMs31rlYhEiUicLbvUGJMLICJLgTEishxoa4xZZeNzgOuBj6s5R6OIDAumXXiwjohSygNjTLOdebZv377nnldoDK+//nqjHbsm6tr1UKsObhFJBi4AVgMdbCIBOAp0sK87Awfddsu0serimZXEqeYcFes1SUTSRCQtJyenNpf0HYmOCH3WQqlqhIaGcvz4cZ100w+5Fj8KDQ2t9b41fs5CRFoD/wR+aow57f6/CmOMEZFG/ZtT3TmMMdOB6eDs4K7PeZKiw9lw8ER9DqFUsxYfH09mZib1/Y+Z8g7Xsqq1VaNkISLBOBPFXGPM+zacJSJxxpgjtpkp28YPAQluu8fb2CG+aVJyxZfbeHwl5as7R6NJcoTz0ZYjlJSVExyoI4uVqig4OLjWS3Iq/1eT0VACzAB2GGP+z23TIsA1omkisNAtfpsdFTUMOGWbkpYAo0Skne3YHgUssdtOi8gwe67bKhyrsnM0msTocMrKDYdOnG3sUymllN+oyZ3FcODHwBYR2WhjvwJeBOaLyJ3AfuBmu20xcA2QAZwB7gAwxuSKyDPAWlvu967ObuB+YBYQhrNj+2Mbr+ocjSbJYYfP5p4hOaZhH5dXSil/VZPRUF8AVQ17GFFJeQNMruJYM4HvTLlojEkD+lQSP17ZORpTkh0+e+B4ARDblKdWSimfpY3yFbRv04rQ4ABdBEkppdxosqhARHRCQaWUqkCTRSUSHeEcyNWnuJVSykWTRSWSosM5kHtGHzpSSilLk0UlkhzhFJaUk51X5O2qKKWUT9BkUYlEh84+q5RS7jRZVCIpWmefVUopd5osKtG5XRiBAcIBnX1WKaUATRaVCg4MoFNUqDZDKaWUpcmiCs5nLbQZSimlQJNFlZIc4boIklJKWZosqpDkCOfkmRJOnS3xdlWUUsrrNFlUITHaOXxWV81TSilNFlVyzT67X6f9UEopTRZVSTz3rIXeWSillCaLKkS0CiKmdStthlJKKTRZVMs5IkqboZRSSpNFNZKiw/XOQiml0GRRrURHOEdOF1JYUubtqiillFdpsqhGsiMCYyDzhN5dKKVaNo/JQkRmiki2iGx1iw0QkVUislFE0kRkiI2LiEwRkQwR2SwiA932mSgi6fZnolt8kIhssftMERGx8WgRWWrLLxWRdg176Z4lOnRElFJKQc3uLGYBYyrEXgJ+Z4wZAPzWvge4GuhufyYB08D5xQ88BQwFhgBPuX35TwPudtvPda4ngGXGmO7AMvu+SSXp8FmllAJqkCyMMSuA3IphoK19HQkctq/HAnOM0yogSkTigNHAUmNMrjHmBLAUGGO3tTXGrDLONUznANe7HWu2fT3bLd5koiNCaN0qSKcqV0q1eEF13O+nwBIReRlnwrnIxjsDB93KZdpYdfHMSuIAHYwxR+zro0CHqiojIpNw3smQmJhY+6up+rgkRofr7LNKqRavrh3c9wGPGGMSgEeAGQ1Xpe+ydx2mmu3TjTGpxpjU2NjYBj23zj6rlFJ1TxYTgfft63/g7IcAOAQkuJWLt7Hq4vGVxAGybDMV9nd2HetaL4mOcDJzz1JWXmWuUkqpZq+uyeIwcJl9fSWQbl8vAm6zo6KGAadsU9ISYJSItLMd26OAJXbbaREZZkdB3QYsdDuWa9TURLd4k0qKjqC4rJyjpwu9cXqllPIJHvssRORd4HIgRkQycY5quht4VUSCgEJsfwGwGLgGyADOAHcAGGNyReQZYK0t93tjjKvT/H6cI67CgI/tD8CLwHwRuRPYD9xc56ush3Ozzx4roHNUmDeqoJRSXucxWRhjJlSxaVAlZQ0wuYrjzARmVhJPA/pUEj8OjPBUv8b2zVTlZ8714iulVEujT3B7EBcZRnCg6LMWSqkWTZOFB4EBQkK7cA7o7LNKqRZMk0UNJDrC9c5CKdWiabKoAddU5c4uGaWUank0WdRAoiOCvKJSTpwp8XZVlFLKKzRZ1MA3Ewpqv4VSqmXSZFEDSTpVuVKqhdNkUQMJOlW5UqqF02RRA6HBgcRFhrJfh88qpVooTRY1lGhHRCmlVEukyaKGdKpypVRLpsmihpIcEeTkFXGmuNTbVVFKqSanyaKGEm0nty6xqpRqiTRZ1JAOn1VKtWSaLGooKToCQDu5lVItkiaLGooMDyYyLJh9+hS3UqoF0mRRC0mOcO2zUEq1SJosaiHJEaF9FkqpFkmTRS0kRYdz6ORZSsrKvV0VpZRqUh6ThYjMFJFsEdlaIf6giHwtIttE5CW3+C9FJENEdorIaLf4GBvLEJEn3OIpIrLaxueJSIiNt7LvM+z25Aa54npIdIRTVm44fPKst6uilFJNqiZ3FrOAMe4BEbkCGAv0N8b0Bl628V7AeKC33WeqiASKSCDwOnA10AuYYMsC/AF4xRjTDTgB3GnjdwInbPwVW86rknRCQaVUC+UxWRhjVgC5FcL3AS8aY4psmWwbHwu8Z4wpMsbsBTKAIfYnwxizxxhTDLwHjBURAa4EFtj9ZwPXux1rtn29ABhhy3tNksM5fFan/VBKtTR17bPoAVxim4f+JyKDbbwzcNCtXKaNVRV3ACeNMaUV4t86lt1+ypb3mvZtWtEqKIADOnxWKdXCBNVjv2hgGDAYmC8iXRqsVrUkIpOASQCJiYmNdp6AACExOlyboZRSLU5d7ywygfeN0xqgHIgBDgEJbuXibayq+HEgSkSCKsRx38duj7Tlv8MYM90Yk2qMSY2Nja3jJdVMkkOThVKq5alrsvg3cAWAiPQAQoBjwCJgvB3JlAJ0B9YAa4HuduRTCM5O8EXGGAP8F7jJHncisNC+XmTfY7d/Zst7VWJ0BAdyz+ADVVFKqSbjsRlKRN4FLgdiRCQTeAqYCcy0w2mLgYn2i3ybiMwHtgOlwGRjTJk9zgPAEiAQmGmM2WZP8Tjwnog8C2wAZtj4DOAtEcnA2cE+vgGut96SY8I5W1JGTl4R7duGers6SinVJDwmC2PMhCo23VpF+eeA5yqJLwYWVxLfg3O0VMV4IfBDT/Vraq6pyvfnntFkoZRqMfQJ7lpyDZ/97OtsbYpSSrUYmixqKdkRzpjeHZm2fDeP/3MzRaVl3q6SUko1Ok0WtSQiTL1lIA9d2Y35aZlMmL6K7NOF3q5Wkzl6qpDycr2jUqql0WRRBwEBwqOjejL1loHsOJLH91/7go0HT3q7Wo3uo81HuPDFZfxrwyHPhZVSzYomi3q4pm8c799/EcGBAdz816/457pMb1ep0aTty+WR+RsxBlak53i7OkqpJqbJop7Oj2vLogcuZlBiO372j008++F2SpvZFOZ7cvK5a04anaPCuLRHLF/tPq6d+0q1MJosGkB0RAhz7hzC7Rcl8+YXe7lj1lpOnin2drUaxLH8Im7/+1oCRZh1x2DG9O5Idl4Re4/p/FhKtSSaLBpIcGAAT1/Xm5d+0I/Ve3K57rWV7MrK83a16uVscRl3zU4jO6+QNyemkuSIYFiXaABW7ak4EbFSqjnTZNHAbh6cwLuThnG2pIwbXl/Jf7ZnebtKdVJWbnj4vQ1syjzJq+Mv4ILEdgCkxETQvk0rVu2pdJoupVQzpcmiEQxKascHD1xMckwEj8zf6Hd9GMYYnvlwO59uz+Kpa3sxunfHc9tEhGFdHKzao/0WSrUkmiwaScfIUO65rCt5haVsP3La29WplRlf7GXWl/u48+IUbh+e8p3tw7o4tN9CqRZGk0UjGpbibN9f7Uft+x9vOcJzi3dwdZ+OPHnN+ZWWubCrcw0q7bdQquXQZNGI2rcNJSUmgtV7/eNLdd3+XH46byMXJETxyrgBBARUvoptsiOcDm1b8ZX2WyjVYmiyaGRDkqNZuy/X56fI2HusgLtmpxEXGcqbEwcTGhxYZVntt1Cq5dFk0ciGdonm1NkSvj7qu8Noj+cXcfvf1yAizLpjCNERIR73GdbFQU5eEXu030KpFkGTRSMb2sXZvr9mr2822RSXlnPv2+s4esr5LEVyTESN9hvWxdVv4ZvXpZRqWJosGlnnqDA6R4X5bL/F0x9sY+2+E/zxh/0ZaJ+lqAlXv4V2civVMmiyaAJDu0SzZm+uz7Xvz129n3dWH+C+y7tyXf9OtdpX+y2Ualk0WTSBYSkOjhcUszsn39tVOWftvlyeWriNy3vG8vNRPet0jAu130KpFkOTRRMYkuJb8ykdPnmW+95eR2J0OK+Ov4DAKobIeuLqt/hqt/ZbKNXceUwWIjJTRLJFZGsl234mIkZEYux7EZEpIpIhIptFZKBb2Ykikm5/JrrFB4nIFrvPFBERG48WkaW2/FIRqXmDuo9Jsu37vtBvUVhSxj1vraOwpJzptw0iMiy4zsdKcoTTsW2odnIr1QLU5M5iFjCmYlBEEoBRwAG38NVAd/szCZhmy0YDTwFDgSHAU25f/tOAu932c53rCWCZMaY7sMy+90siwtAUB2v2erd93xjDE//czNbDp/jzuAF0a9+mXsdz9ltEs2qP7/XHKKUalsdkYYxZAVT2X+JXgMcA92+JscAc47QKiBKROGA0sNQYk2uMOQEsBcbYbW2NMauM89tmDnC927Fm29ez3eJ+aUhKNFmni9h//IzX6vDm53v598bDPHpVD67q1aFBjjmsi4Nj+UXsztF+C6Waszr1WYjIWOCQMWZThU2dgYNu7zNtrLp4ZiVxgA7GmCP29VGgYb7dvMS1DsRqLz1vsWJXDi987Jzz6YEruzXYcfV5C6VahlonCxEJB34F/Lbhq1M5e9dRZTuHiEwSkTQRScvJ8c31obvGtsYREeKVfov9xwt48N0N9OjQhpd/2B/bLdQgtN9CqZahLncWXYEUYJOI7APigfUi0hE4BCS4lY23seri8ZXEAbJsMxX2d3ZVFTLGTDfGpBpjUmNjY+twSY1PRBiSEt3kM9DmF5Vy95w0ROBvt6US0SqoQY8vIlzY1aH9Fko1c7VOFsaYLcaY9saYZGNMMs6mo4HGmKPAIuA2OypqGHDKNiUtAUaJSDvbsT0KWGK3nRaRYXYU1G3AQnuqRYBr1NREt7jfGpoSzaGTZ8k80TT9FuXlhp/N38junAJe/9FAEqLDG+U8w7pE234L33mORCnVsGoydPZd4Cugp4hkisid1RRfDOwBMoC/AfcDGGNygWeAtfbn9zaGLfOm3Wc38LGNvwiMFJF04Cr73q99M09U09xd/OWzDJZsy+JX15zP8G4xjXaec89b+MhzJEqphuexTcIYM8HD9mS31waYXEW5mcDMSuJpQJ9K4seBEZ7q5096dmhDZFgwq/fkcuPAeM871MOyHVm88p9d3DiwMz8Zntyo50qMDicu0tlv8eNhSY16LqWUd+gT3E0oIEAYnBzd6COi9h8v4JF5G+nTuS3P39C3QTu0K+OaJ2q1zhOlVLOlyaKJDesSzb7jZ8g6Xdgoxz9bXMa9b69HRJh2y6BqFzFqSM5+C9+a/0op1XA0WTQx1zxRjTGE1hjDk//ewtdHT/Pn8QMarUO7MtpvoVTzpsmiifWKa0vrVkGsboTnEuauPsD76w/x8IjuXNGzfYMfvzqJ0eF0igxllU4qqFSzpMmiiQUFBpCa3K7BR0RtOHCC333gnHL8oSu7N+ixa0LXt1CqedNk4QVDUqJJz87neH5RgxzveH4R989dT4e2ofx53AAC6jjleH0N6+JctyMjW/stlKpKTl4RY19fyf7j/jWfmiYLLxia0nDPW5SVGx56bwPHC4p549ZBRIWH1PuYdaXzRCnl2Zq9uWw6eJIv/azJVpOFF/TtHElYcGCDdHL/6dOdrMw4zrPX96FP58gGqF3dJUSHOfsttJNbqSrtysoDYJ/eWShPQoICGJgUVe9k8em2o0xdvpsJQxK4OTXB8w6NTPstlPIsPdsmCz9bjliThZcMTXHw9dHTnDpTUqf99x4r4GfzN9EvPpKnvt+7gWtXd9pvoVT1dmU5/214c22butBk4SVDU6IxBtbuq/3dxZniUu57ex2BgcLUWwY22YN3NXFhV9fzFv7VHqtUUyguLWffsQICxNkMVV7uP3fgmiy8pH9CFCFBAbWe+sMYw6/e38LOrDymjL+A+HZN9+BdTcS3C6NzVJh2citVib3HCigtNwxKakdhSTlZeY0zk0Nj0GThJaHBgQxIqH2/hfvSqJf28L21O0SEobout1KV2mk7t0f16gjAvmP+0xSlycKLhqVEs/XQKfKLSmtU/s3P9/Dc4h1c07cjk69ouKVRG9qwLg5yC4pJ134Lpb4lPSuPAIErznPOsOBPI6I0WXjRkBQH5QbSatBvMXV5Bs9+tIPv9Y3j1fEXeO3Bu5q4UJ+3UKpSu7LySHZEkBITQUhggF+NiNJk4UUDk6IIChCPTVGv/iedlz7ZydgBnXh1/ACCA337Y9N+C6Uql56VT/cOrQkMEBKiw/TOQtVMeEgQfeMjq3yS2xjDnz7deW4Ro/+7eQBBPp4owNlvcXG3GD77OvvcA0hKtXSFJWXsO15Azw5tAEiJidA+C1VzQ1McbM48ydnism/FjTH84ZOd/OWzDMYPTuDlm/oT6MNNTxX9bFQPWrcKYvLc9ZwprlmfjFLN2Z6cAsoNdLfJIskRwf5c/xk+q8nCy4Z2iaakzLD+wIlzMWMMz360gzf+t5tbhyXy/A19fbqPojLt24by53EXkJGTz28XbvN2dZTyOteT2z1sskiOifCr4bOaLLwsNakdAfLNYkjGGJ5etI0ZX+zl9ouSeWZsH79LFC4Xd4/hwSu7s2BdJv9IO+jt6ijlVbuy8ggKEFJiIgBIcTh/7/WTTm6PyUJEZopItohsdYv9UUS+FpHNIvIvEYly2/ZLEckQkZ0iMtotPsbGMkTkCbd4ioistvF5IhJi463s+wy7PbmhLtqXtAkNpnenSFbvOU55ueHJf29l9lf7ufuSFJ76fq9GXz+7sT08ojvDukTzm4Vbtf9CtWi7svJJjokgJMj5tZvkcD5Q6y/TftTkzmIWMKZCbCnQxxjTD9gF/BJARHoB44Hedp+pIhIoIoHA68DVQC9ggi0L8AfgFWNMN+AEcKeN3wmcsPFXbLlmaWhKNBsOnuQXCzbzzuoD3H95V351zfl+nygAAgOEKeMv0P4L1eKlZ+XRo0Prc+87RYX51fBZj8nCGLMCyK0Q+9QY4/pXvwqIt6/HAu8ZY4qMMXuBDGCI/ckwxuwxxhQD7wFjxflteCWwwO4/G7je7Viz7esFwAhpDt+elRiSEk1xaTn/XJ/JQyO684vRPZtFonDR/gvV0hWWlLE/9wzd27c5F/O34bMN0WfxE+Bj+7oz4N44nWljVcUdwEm3xOOKf+tYdvspW/47RGSSiKSJSFpOTk69L6ipDe3ioGtsBL8Y3ZNHR/ZoVonCRfsvVEuWkZ2PMd90brv40/DZeiULEXkSKAXmNkx16sYYM90Yk2qMSY2N9b35kjyJDAtm2c8u9+kpPBqC9l+oluqbkVCtvxVPdkT4zeyzdU4WInI7cC1wi/lmxrhDgPsqPPE2VlX8OBAlIkEV4t86lt0eacsrP6X9F6ql2pWVT3CgkGxHQrkkxURQVOofw2frlCxEZAzwGHCdMcb9HmoRMN6OZEoBugNrgLVAdzvyKQRnJ/gim2T+C9xk958ILHQ71kT7+ibgM6PTmPo97b9QLVF6Vh4pMRHfmarHn4bP1mTo7LvAV0BPEckUkTuB14A2wFIR2SgibwAYY7YB84HtwCfAZGNMme1zeABYAuwA5tuyAI8Dj4pIBs4+iRk2PgNw2PijwLnhtsq/af+Faml2ZeWfe3LbXXKMc/isP/RbBHkqYIyZUEl4RiUxV/nngOcqiS8GFlcS34NztFTFeCHwQ0/1U/7p4RHdWbP3OL9ZuJX+CVHf6fhTqrk4W1zGwRNn+MHA+O9si4t0Dp/d7wcjojwmC6Uag6v/4popnzN57noeuLIb5cZQWmYoKzeUlrv/Lnf+LjN0iW3NNX07NssRY6p5+mYkVOvvbAsMEBId4X7RDKXJQnlN+7ahvDr+AibOXMPD722s8X6je3fgxRv70S4ipPEqp1QDcY38q6wZCiDZEe4XT3FrslBeNbxbDF/+8kpOny0lKEAIDBCCAu3vgAD72/k+QITZX+7jpSVfc/Wrn/N/4/pzUdcYb1+CUtXalZ1HSGAAyXZ6j4qSHRF8nn6M8nLj0/PAabJQXte+TSjta9hlcfelXbiwq4OH3t3ALW+u5t7LuvLIVT3OzbejlK9Jz8qnS2xElWvRJNvhs0dPF9IpKqyJa1dz+i9M+Z0+nSP58KGLGT84gWnLd3PTG1/6RZuvapl2Hs2rsgkKnHcW4PvrcWuyUH4pPCSIF27sxxu3DmT/8TN8b8rnzE87iD6Ko3xJQVEph06epUf773Zuu/jL8FlNFsqvjekTxyc/vYR+8ZE8tmAzD7y7gVNnSrxdLaUASM/OB6ru3AboFBlGSFCA3lko1djiIsOYe9cwHhvTkyVbj3L1qyuqXNdcqabkGglV2bBZl4AAITE63OenKtcObtUsBAYI91/ejeFdY3j4vQ2Mm/4VgxLbcVG3GIZ3dXBBYjvtBFdNLj0rj5CgAJIcEdWWc00o6Ms0WahmpX9CFB8+dAnTV+zhfzuzee2zdKYsSycsOJAhKdEM7+ZgeLcYzu/Y1uMwxfJyQ05+EYdOnuXQibOcOFPM6N4d6dA2tImuRvm7XVn5dIttTaCHv2spMeF8np7j08NnNVmoZqd1qyAeHdmDR0f24NSZElbtPc7KjGOszDjG84ud651ER4RwYRcHF3VzkBgdzuGTZzl0spBDJ87a12c5cuosJWXf7jD/4yc7+cWYntwyNMnjF4BS6Vl5DEmJ9lguyeH7w2c1WahmLTI8mNG9OzK6d0cAjp4q5Mvdx1iZ4UwgH205cq5sgECHtqF0igpjQEIU1/SNo3O7MDpHhdI5KhyD4bmPdvDbhdv45/pDPH9DH3p3ivTWpSkfl1dYwuFThdV2bruk2KnL9x0r0GShlC/oGBnKjQPjuXFgPMYY9hwr4FheEZ2iwugYGfqdKaQrmvOTISzadJhnPtzOda+t5M6LU/jpVd0JD9F/SurbXCOhajJJZpJ9unvf8TNc5KNroOnfcNViiQhdY1vTNbbqkSqV7TN2QGcu6xHLHz75mukr9vDR5iP8fmxvRpzfoRFrq/xNeg1GQrn4w/BZHR6iVB1EhYfwwo39WHDvhUS0CuTO2Wnc9/Y6jp6qfsUzYwzZec6msLdW7ecPn3zN+gMnmqjWqintysonNDiAhHaVzwnlLiBASIr27dln9c5CqXpITY7mwwcv4W+f72HKsnQ+Tz/Gz0f1YMLQRA6dOMvunAIysvPZnZN/7nde4TfLyYrAtOW7uaxHLA9f1Z2Bie28eDWqIe3KyqNb+9Y1Ht2U5Ijw6XUtNFkoVU8hQQFMvqIb1/aL4zcLt/H0B9v53YfbcZ95pEPbVnSNbc31AzrTrb2z6atb+9a0Dg3i7VX7mb5iDzdO/VKTRjOSnpXPRV0dNS7v68NnNVko1UCSHBHMvmMwH289ytZDp+hiE0KX2AjahgZXud+9l3Xlx8OSeKsZJA1jDOWGFj+s+NTZEo6ertlIKBdfn31Wk4VSDUhEuKZvHNf0javVfhGtgipNGpf2iOXhEd0ZlOTbSSP7dCHz0w7y7pqDtG4VxLx7hhEV3nIXp8rIrnnntsu52Wd9dPisdnAr5UNcSePzx67gl1efx9ZDp/jBtC+5beYaNvhYR3h5ueGL9GPc9/Y6LnrxM17+dBfx7cLYe6yASXPWUVhS5u0qes2urJoPm3VJts9a7PXRfguPyUJEZopItohsdYtFi8hSEUm3v9vZuIjIFBHJEJHNIjLQbZ+Jtny6iEx0iw8SkS12nyliF1eu6hxKtQQRrYK4p0LSuGHql9z71jp25+R7tW65BcVMX7GbK/+0nFtnrGbVnuP85OIU/vvzy5l3z4X86eb+rNmXy8/mb6K8vGVOGb8rK4+w4EA61+IOIa5tKCFBAT67xGpNmqFmAa8Bc9xiTwDLjDEvisgT9v3jwNVAd/szFJgGDBWRaOApIBUwwDoRWWSMOWHL3A2sBhYDY4CPqzmHUi2GK2ncOiyJGV/s5a//283SHVmMH5zAw1d1p32bppmnyhhD2v4TzF21n8VbjlJcVs7g5Hb89KoejOnTkdDgwHNlv9+/E0dPFfLc4h3ERYby62t7NUkdfUl6Vj7dO9R8JBT4/vBZj8nCGLNCRJIrhMcCl9vXs4HlOL/IxwJzjHMFmlUiEiUicbbsUmNMLoCILAXGiMhyoK0xZpWNzwGux5ksqjqHUi1ORKsgHhrRnR8NTeQvy9KZu/oA/9pwiLsu6cKkS7vQulXDdz8aY9iZlceSrVl8uPkw6dn5tGkVxIQhCfxoaBI9O1bdxHLXJSkcOnmWN7/YS1xUGHdenNLg9fNlu7LyuKR7bK33S47x3eGzdf0b1sEY45pU5yjgenS1M3DQrVymjVUXz6wkXt05vkNEJgGTABITE2t7LUr5jZjWrfjd2D7cMTyFP366kynL0pm7aj8PjejOhCGJ9Z6GvbzcsDHzJEu2HWXJ1qPsO34GERiU2I4//KAv3+/fqUZTm4gIv7m2F0dPFfLsR9uJiwytdae/vzp1poTsvKJadW67JDvCWbHLN4fP1vu/I8YYIyKN2jDp6RzGmOnAdIDU1NSW2UiqWpTkmAhe/9FAJl1ykhc+3sFTi7Yxc+VefjG6J9/rG4ft+quR0rJy1uzN5ZNtR1my7ShZp4sIChAu7Org7ku7MLJXhzo1dwUGCH8eP4Bb3lzNT+dtJLZNKwYne56B1d/tOjcSquad2y6u4bNHThfWqr+jKdQ1WWSJSJwx5ohtZsq28UNAglu5eBs7xDdNSq74chuPr6R8dedQSln9E6J49+5hLN+Zw4sff80D72zgjc676dmhLUEBQlCgEBwYQKDrdYDzdXCgEBQYQEZ2Pv/ZkcXJMyWEBgdwWY9YxvTpyJU9OxAZXvWzITUVGhzIm7el8oNpX3L3nDQW3HsR3apZj7o5cK2O170OdxYpdvjs/mMFzSZZLAImAi/a3wvd4g+IyHs4O7hP2S/7JcDzbiOaRgG/NMbkishpERmGs4P7NuAvHs6hlHIjIlxxXnsu7RHLvzYcYsYXe1m15zil5eWUlRtKygylZeWUlBvK7I9Lm9Agrjq/A6N7d+SyHrGEhQRWc6a6aRcRwqw7hnDjtJXc/vc1vH//RU3WMe8Nu47mERFSu5FQLkluw2cv6hbT0FWrF4/JQkTexXlXECMimThHNb0IzBeRO4H9wM22+GLgGiADOAPcAWCTwjPAWlvu967ObuB+nCOuwnB2bH9s41WdQylVicAA4aZB8dw0KL7acuXlhlKbNFx3GI0t0RHOzNsHM+6vq/jJrLXMm3QhEY3QKe8LdmXl061Dm1o1Bbq4hs/64nrcNRkNNaGKTSMqKWuAyVUcZyYws5J4GtCnkvjxys6hlKqfgAAhxAudp/3io5h6y0DumpPG/XPX8+bEVI/rh/ij9Ow8rujZvk77uobP7vPBZy2a3yellPJZV5zXnmev78P/duXw639txZjmNR4lt6CYY/nFdercdkmOifDPOwullGpIE4YkcuTkWaZ8lsGWQ6e457IufK9vXJM0hzW2+nRuu6TERPA/Hxw+6/+fjlLK7zwysgcv/7A/xWXlPPzeRi5/eTmzVu7lTHGp5519mGt1vOoeWPQkyRFOsR0+60s0WSilmpyIszP+059eypu3pdKxbShPf7Cd4S9+xitLd5FbUOztKtbJriznU+4d29Z9tFeK2+yzvkSThVLKawIChKt6dWDBfRex4N4LSU2O5tVl6Vz04jJ+u3ArB3N9r6O3Oruy8ujeoXWdRkK5uGaf9bX1uLXPQinlE1KTo0lNjiYjO4/pK/bw7poDvL1qP9/r14nr+neiXXgwbcOCaRMaRNvQYMJDAuv1pVxTxpganyc9O59RvaqcmahGOrYNpZUPDp/VZKGU8ind2rfhpZv687NRPZm5ci/vrDrAB5sOf6dcYICcSxyu347WITx4Zfd69Rm4e3vVfp77aAc9OrTm2n6d+F6/uCoXJjqWX0RuQXGtVserTECAkOQIZ+8x37qr0mShlPJJHdqG8surz+fBK7uTnpVHXmEppwtLnL/PllR47fz9RcYx/vt1Nn8efwEj6/E//PJywwsf7+Bvn+9lSEo0Z4vLeG7xDp5bvIPUpHZc2y+Oa/rFfetJdNdIqLpMIFhRsiPC56Yq12ShlPJprVsFcUEN1yI/eqqQSW+lMemtNH4+qif3X9611k1VZ4vLeGTeRj7ZdpTbLkzit9f2IigwgL3HCvho82E+2HSEpz/Yzu8+3M6wFAfX9o/j6j5xpNdhdbyqJMdEsNzHhs9Kc3soJjU11aSlpXm7GkopLyksKeMXCzbzwabDjB3QiT/8oN+3FmeqTk5eEXfNSWNz5kl+/b1e/GR4cqXJJj0rjw82H+HDTYfZc6yAwAChXXgwxaXlbHpqVL37Ut5ZfYBf/WsLK5+4sskmFBSRdcaY1Kq2652FUqpZCQ0OZMr4AZzXsQ1/XLKTfccK+OuPU+kYWf1w1vSsPO6YtZZj+UW8cesgRvfuWGXZ7h3a8OjINjxyVXe2HznNh5uPsHjLES7uFtUgne7JjnDAOXzWV2af1WShlGp2RITJV3Sje/vWPDJvI9e99gXTb0tlQEJUpeVXZhzj3rfX0SookPn3XEi/+MrLVXae3p0i6d0pksfHnNdg9XcNn917rIDhPjL7rD5noZRqtkb17sg/77+IkKAAbv7rVyzceOg7ZeanHWTizDXERYby78kX1ThRNCbX8FlfWmJVk4VSqlk7r2NbFj1wMRckRPHwexv5wydfU15uMMbw8pKdPLZgM8O6OFhw30XEtwv3dnUB3xw+q81QSqlmLzoihLfuHMrTH2xj2vLdpGflER4SxKJNhxmXmsCzN/TxuenSfW34rCYLpVSLEBIUwHPX9+G8jm343QfbKSs3/GJ03YbXNoUUHxs+q8lCKdViiAi3XZhMn86RnCkq4+LuvtF5XJkkRwTFpeUcPnXWJ5rHNFkopVqcgTV8yM+bkmOcCWL/8TM+kSx8q5FOKaUU4OyzAHym30KThVJK+SBfm322XslCRB4RkW0islVE3hWRUBFJEZHVIpIhIvNEJMSWbWXfZ9jtyW7H+aWN7xSR0W7xMTaWISJP1KeuSinlTwICxKdGRNU5WYhIZ+AhINUY0wcIBMYDfwBeMcZ0A04Ad9pd7gRO2Pgrthwi0svu1xsYA0wVkUARCQReB64GegETbFmllGoRBiW343+7cli3P9fbVal3M1QQECYiQUA4cAS4Elhgt88Grrevx9r32O0jxDlebSzwnjGmyBizF8gAhtifDGPMHmNMMfCeLauUUi3C42POo1NUGJPnbuB4fpFX61LnZGGMOQS8DBzAmSROAeuAk8YY16rrmUBn+7ozcNDuW2rLO9zjFfapKv4dIjJJRNJEJC0nJ6eul6SUUj4lMiyYqbcMJPdMMY/M30R5ufdmCa9PM1Q7nP/TTwE6ARE4m5GanDFmujEm1RiTGhsb640qKKVUo+jTOZKnvt+LFbtyeP2/GV6rR32aoa4C9hpjcowxJcD7wHAgyjZLAcQDrpm7DgEJAHZ7JHDcPV5hn6riSinVovxoSCLXD+jEK//ZxZcZx7xSh/okiwPAMBEJt30PI4DtwH+Bm2yZicBC+3qRfY/d/plxrry0CBhvR0ulAN2BNcBaoLsdXRWCsxN8UT3qq5RSfklEeO6GvnSJbc1D720g63Rhk9ehPn0Wq3F2VK8HtthjTQceBx4VkQycfRIz7C4zAIeNPwo8YY+zDZiPM9F8Akw2xpTZfo0HgCXADmC+LauUUi1ORKsgpt0ykIKiMh58dwOlZeVNen5dVlUppfzI++szeXT+Ju67vGuDLrjkaVlVfYJbKaX8yI0D45kwJIFpy3fz2ddZTXZeTRZKKeVnnvp+b3rFteWReZvIPNE0CyRpslBKKT8TGhzI1FsGUlZumPzOBopLG7//QpOFUkr5oeSYCP54Uz82HTzJ84t3NPr5NFkopZSfurpvHHcMT2bWl/tYvOVIo55Lk4VSSvmxX159PgMSonhsweZGnaFWk4VSSvmxkKAAXr9lIPHtwjh1tqTRzqPLqiqllJ/rHBXG4ocuISBAGu0cemehlFLNQGMmCtBkoZRSqgY0WSillPJIk4VSSimPNFkopZTySJOFUkopjzRZKKWU8kiThVJKKY+a3eJHIpID7K/j7jGAdxa4bTzN7Zqa2/VA87um5nY90PyuqbLrSTLGxFa1Q7NLFvUhImnVrRTlj5rbNTW364Hmd03N7Xqg+V1TXa5Hm6GUUkp5pMlCKaWUR5osvm26tyvQCJrbNTW364Hmd03N7Xqg+V1Tra9H+yyUUkp5pHcWSimlPNJkoZRSyiNNFpaIjBGRnSKSISJPeLs+9SUi+0Rki4hsFJE0b9enLkRkpohki8hWt1i0iCwVkXT7u50361gbVVzP0yJyyH5OG0XkGm/WsbZEJEFE/isi20Vkm4g8bON++TlVcz1++zmJSKiIrBGRTfaafmfjKSKy2n7nzRORkGqPo30WICKBwC5gJJAJrAUmGGO2e7Vi9SAi+4BUY4zfPkgkIpcC+cAcY0wfG3sJyDXGvGiTejtjzOPerGdNVXE9TwP5xpiXvVm3uhKROCDOGLNeRNoA64Drgdvxw8+pmuu5GT/9nEREgAhjTL6IBANfAA8DjwLvG2PeE5E3gE3GmGlVHUfvLJyGABnGmD3GmGLgPWCsl+vU4hljVgC5FcJjgdn29Wyc/5D9QhXX49eMMUeMMevt6zxgB9AZP/2cqrkev2Wc8u3bYPtjgCuBBTbu8TPSZOHUGTjo9j4TP/8LgvMvw6cisk5EJnm7Mg2ogzHmiH19FOjgzco0kAdEZLNtpvKL5prKiEgycAGwmmbwOVW4HvDjz0lEAkVkI5ANLAV2AyeNMaW2iMfvPE0WzdfFxpiBwNXAZNsE0qwYZxuqv7ejTgO6AgOAI8CfvFqbOhKR1sA/gZ8aY067b/PHz6mS6/Hrz8kYU2aMGQDE42xJOa+2x9Bk4XQISHB7H29jfssYc8j+zgb+hfMvSHOQZduVXe3L2V6uT70YY7LsP+Ry4G/44edk28H/Ccw1xrxvw377OVV2Pc3hcwIwxpwE/gtcCESJSJDd5PE7T5OF01qgux0dEAKMBxZ5uU51JiIRtnMOEYkARgFbq9/LbywCJtrXE4GFXqxLvbm+UK0b8LPPyXaezgB2GGP+z22TX35OVV2PP39OIhIrIlH2dRjOgTw7cCaNm2wxj5+Rjoay7FC4PwOBwExjzHPerVHdiUgXnHcTAEHAO/54PSLyLnA5zumUs4CngH8D84FEnFPR32yM8YtO4yqu53KcTRsG2Afc49bW7/NE5GLgc2ALUG7Dv8LZzu93n1M11zMBP/2cRKQfzg7sQJw3CPONMb+33xPvAdHABuBWY0xRlcfRZKGUUsoTbYZSSinlkSYLpZRSHmmyUEop5ZEmC6WUUh5pslBKKeWRJgullFIeabJQzZqI3Csit9nXt4tIJy/X51eNfPxZInKT55JK1Y4mC9WsGWPeMMbMsW9vB7yaLHA+4FUrdgp9pbxKk4VqVkTkNjsz6CYRecsuWvNz+7/tVGCuXbzmeyLyb7f9RorIv6o57hgRWW+Pu8zGIuwMpGtEZIOIjLXx20XkfRH5xC7+85KNvwiE2fPPtbFb7f4bReSvrsQgIvki8icR2QRcKCIvinNBns0iUqM1FUTkGXunESjOxbBesOdJE5GBIrJERHaLyL11+sNWLYsxRn/0p1n8AL1xLmIVY99HA08DP7fvl+NcEApAgK+BWPv+HeD7VRw3FucU9imu49rfz+OcIgEgyp47AucdzB4gEgjFOd1Fgi2X73bc84EPgGD7fipwm31tcE6RAeAAdvLNjAtR1fwZzMI5388fgTfc9tkH3GdfvwJsBtrYa8vy9menP77/o3cWqjm5EviHsasDmmrmIjLGGOAt4FY7ydqFwMdVFB8GrDDG7K1w3FHAE3adgOU4E0Oi3bbMGHPKGFMIbAeSKjnuCGAQsNYeYwTQxW4rwznzKcApoBCYISI3Amequi7rN0CkMeZee50urskxtwCrjTF5xpgcoMg10ZxSVQnyXESpZuvvOP9nX4gzyZR6KF+RAD8wxuz8VlBkKOA+IVsZlf9bE2C2MeaXlWwrNMaUARhjSkVkCM5kchPwAM7EWJW1wCARia6QMF11Kq9Qv/Iq6qfUOXpnoZqTz4AfiogDQESiK2zPw9n0AoAx5jBwGPg1zsRRlVXApSKSUuG4S4AH7bTWiMgFNahjiV0vAWAZcJOItHcdV0S+cwdiF+KJNMYsBh4B+ns4xyfAi8BHrqnqlaov/d+EajaMMdtE5DngfyJShnPa5X1uRWYBb4jIWeBCY8xZYC7Ofosd1Rw3R5xL074vIgE4F/IZCTyDc1r7zTa+F7jWQzWn2/LrjTG3iMivcS5/GwCUAJNx9nG4awMsFJFQnHcjj3o4B8aYf9hEschOv69UvegU5apFE5HXgA3GmBnerotSvkyThWqxRGQdUACMNNUs+qKU0mSh1LeIyGqgVYXwj40xW7xRn6qIyJPADyuE/2H8cEVE5R80WSillPJIR0MppZTySJOFUkopjzRZKKWU8kiThVJKKY/+H87hZmU36KEmAAAAAElFTkSuQmCC\n",
      "text/plain": [
       "<Figure size 432x288 with 1 Axes>"
      ]
     },
     "metadata": {
      "needs_background": "light"
     },
     "output_type": "display_data"
    }
   ],
   "source": [
    "data_spb_pt.plot() #построим график зависимости цены от расстояния до центра"
   ]
  },
  {
   "cell_type": "markdown",
   "metadata": {},
   "source": [
    "Вывод: На графике видно, что чем дальше от центра, тем ниже цена за квадратный метр. На графике видны пики - исключения цен на расстоянии 7км и 27 км от центра, возможно там располагаются районы квартир бизнес-класса с более высокой стоимостью за квадратный метр."
   ]
  },
  {
   "cell_type": "markdown",
   "metadata": {},
   "source": [
    "### Общий вывод"
   ]
  },
  {
   "cell_type": "markdown",
   "metadata": {},
   "source": [
    "Был проведен анализ базы данных сервиса Яндекс Недвижимость — архив объявлений за несколько лет о продаже квартир в Санкт-Петербурге и соседних населённых пунктах.</b>\n",
    "\n",
    "В результате анализа была выполнена предобработка данных, в ходе которой изучены и заполнены пропущенные знаечния, где это возможно, изменены типы данных с пояснением, устранены неявные дубликаты, устранены аномальные значения. Также в общую таблицу были добавлены столбцы, содержащие полезную информацию для дальнейшего анализа.</b>\n",
    "\n",
    "При изучении зависимости цены от различных параметров, замечено, что цена зависит от общей площади, количестве комнат и типе этажа. Чем больше общая площадь и количество комнат, тем дороже квартира. У квартир на первом и последнем этажах цены меньше, чем у других квартир.</b>\n",
    "\n",
    "На стоимость квартиры также влияет день и месяц размещения объявления. Так, летом в выходные дни выкладывают самые выгодные предложения по продаже квартир. </b>\n",
    "\n",
    "Самым дорогим по стоимости квадратного метра населенным пунктом является непосредственно сам Санкт-Петербург, там стоимость составляет 114700руб/м2. Наиболее доступным жильем в Ленинградской области является город Выборг - там стоимость квадратного метра самая низкая при оптимальном количестве объявлений и составляет 58500руб/м2.</b>\n",
    "\n",
    "Также проанализировано влияние расстояния до центра на стоимость квартиры в Санкт-Петербурге из чего сделан вывод, что чем дальше от центра, тем квартиры дешевле. К примеру стоимость квадратного метра квартиры в центре составляет 209тыс.руб, а у квартир на расстоянии 29км стоимость - 71тыс.руб/м2. Исключения составляют квартиры на расстоянии 7км и 27 км от центра, возможно там располагаются районы квартир бизнес-класса с более высокой стоимостью за квадратный метр.</b> \n",
    "\n",
    "График зависимости цены от года публикации объявления показывает, что до 2017 года стоимость на недвижимость снижалась, после 2017 наоборот росла.\n"
   ]
  }
 ],
 "metadata": {
  "ExecuteTimeLog": [
   {
    "duration": 437,
    "start_time": "2023-01-22T19:22:37.538Z"
   },
   {
    "duration": 152,
    "start_time": "2023-01-22T19:23:24.246Z"
   },
   {
    "duration": 91,
    "start_time": "2023-01-22T19:23:37.318Z"
   },
   {
    "duration": 43,
    "start_time": "2023-01-22T19:32:03.368Z"
   },
   {
    "duration": 85,
    "start_time": "2023-01-22T19:32:08.558Z"
   },
   {
    "duration": 48,
    "start_time": "2023-01-22T19:32:11.080Z"
   },
   {
    "duration": 2141,
    "start_time": "2023-01-22T19:32:17.808Z"
   },
   {
    "duration": 25,
    "start_time": "2023-01-22T19:32:57.018Z"
   },
   {
    "duration": 42,
    "start_time": "2023-01-22T19:33:34.074Z"
   },
   {
    "duration": 9,
    "start_time": "2023-01-22T19:43:05.243Z"
   },
   {
    "duration": 46,
    "start_time": "2023-01-22T19:57:04.182Z"
   },
   {
    "duration": 34,
    "start_time": "2023-01-22T19:59:55.758Z"
   },
   {
    "duration": 24,
    "start_time": "2023-01-22T20:01:46.090Z"
   },
   {
    "duration": 15,
    "start_time": "2023-01-22T20:02:03.531Z"
   },
   {
    "duration": 36,
    "start_time": "2023-01-22T20:02:37.644Z"
   },
   {
    "duration": 4,
    "start_time": "2023-01-22T20:22:57.078Z"
   },
   {
    "duration": 33,
    "start_time": "2023-01-22T20:23:00.734Z"
   },
   {
    "duration": 12,
    "start_time": "2023-01-22T20:24:01.385Z"
   },
   {
    "duration": 11,
    "start_time": "2023-01-22T20:24:34.703Z"
   },
   {
    "duration": 12,
    "start_time": "2023-01-22T20:26:05.315Z"
   },
   {
    "duration": 34,
    "start_time": "2023-01-22T20:26:10.432Z"
   },
   {
    "duration": 34,
    "start_time": "2023-01-22T20:26:26.961Z"
   },
   {
    "duration": 9,
    "start_time": "2023-01-22T20:27:15.215Z"
   },
   {
    "duration": 9,
    "start_time": "2023-01-22T20:27:37.141Z"
   },
   {
    "duration": 6,
    "start_time": "2023-01-22T20:30:18.776Z"
   },
   {
    "duration": 9,
    "start_time": "2023-01-22T20:30:56.838Z"
   },
   {
    "duration": 8,
    "start_time": "2023-01-22T20:31:07.072Z"
   },
   {
    "duration": 6,
    "start_time": "2023-01-22T20:31:13.036Z"
   },
   {
    "duration": 1238,
    "start_time": "2023-01-22T20:33:16.496Z"
   },
   {
    "duration": 62,
    "start_time": "2023-01-22T20:33:55.344Z"
   },
   {
    "duration": 49,
    "start_time": "2023-01-22T20:34:15.056Z"
   },
   {
    "duration": 1250,
    "start_time": "2023-01-22T20:34:41.343Z"
   },
   {
    "duration": 1302,
    "start_time": "2023-01-22T20:35:09.585Z"
   },
   {
    "duration": 1258,
    "start_time": "2023-01-22T20:36:01.025Z"
   },
   {
    "duration": 1281,
    "start_time": "2023-01-22T20:37:04.457Z"
   },
   {
    "duration": 1142,
    "start_time": "2023-01-22T20:37:28.424Z"
   },
   {
    "duration": 1225,
    "start_time": "2023-01-22T20:37:33.557Z"
   },
   {
    "duration": 1163,
    "start_time": "2023-01-22T20:38:17.840Z"
   },
   {
    "duration": 12,
    "start_time": "2023-01-22T20:38:37.943Z"
   },
   {
    "duration": 5,
    "start_time": "2023-01-22T20:39:04.529Z"
   },
   {
    "duration": 1256,
    "start_time": "2023-01-22T20:41:07.361Z"
   },
   {
    "duration": 1219,
    "start_time": "2023-01-22T20:41:49.222Z"
   },
   {
    "duration": 1179,
    "start_time": "2023-01-22T20:42:16.098Z"
   },
   {
    "duration": 1263,
    "start_time": "2023-01-22T20:42:23.545Z"
   },
   {
    "duration": 708,
    "start_time": "2023-01-24T18:23:03.471Z"
   },
   {
    "duration": 2496,
    "start_time": "2023-01-24T18:23:13.187Z"
   },
   {
    "duration": 10,
    "start_time": "2023-01-24T18:23:30.014Z"
   },
   {
    "duration": 6,
    "start_time": "2023-01-24T18:23:44.583Z"
   },
   {
    "duration": 10,
    "start_time": "2023-01-24T18:23:49.414Z"
   },
   {
    "duration": 42,
    "start_time": "2023-01-24T18:23:58.694Z"
   },
   {
    "duration": 5,
    "start_time": "2023-01-24T18:24:15.917Z"
   },
   {
    "duration": 5,
    "start_time": "2023-01-24T18:30:57.534Z"
   },
   {
    "duration": 15,
    "start_time": "2023-01-24T18:36:19.135Z"
   },
   {
    "duration": 88,
    "start_time": "2023-01-24T18:51:08.201Z"
   },
   {
    "duration": 10,
    "start_time": "2023-01-24T18:54:36.900Z"
   },
   {
    "duration": 12,
    "start_time": "2023-01-24T18:54:39.437Z"
   },
   {
    "duration": 36,
    "start_time": "2023-01-24T18:54:50.596Z"
   },
   {
    "duration": 82,
    "start_time": "2023-01-24T18:58:10.841Z"
   },
   {
    "duration": 1181,
    "start_time": "2023-01-24T18:59:44.708Z"
   },
   {
    "duration": 1417,
    "start_time": "2023-01-24T19:00:04.520Z"
   },
   {
    "duration": 16,
    "start_time": "2023-01-24T19:00:08.052Z"
   },
   {
    "duration": 85,
    "start_time": "2023-01-24T19:02:41.525Z"
   },
   {
    "duration": 73,
    "start_time": "2023-01-24T19:02:49.218Z"
   },
   {
    "duration": 14,
    "start_time": "2023-01-24T19:03:16.466Z"
   },
   {
    "duration": 11,
    "start_time": "2023-01-24T19:03:43.259Z"
   },
   {
    "duration": 14,
    "start_time": "2023-01-24T19:03:52.555Z"
   },
   {
    "duration": 18,
    "start_time": "2023-01-24T19:03:56.970Z"
   },
   {
    "duration": 8,
    "start_time": "2023-01-24T19:04:02.338Z"
   },
   {
    "duration": 22,
    "start_time": "2023-01-24T19:04:09.207Z"
   },
   {
    "duration": 14,
    "start_time": "2023-01-24T19:04:44.523Z"
   },
   {
    "duration": 63,
    "start_time": "2023-01-24T19:05:52.871Z"
   },
   {
    "duration": 60,
    "start_time": "2023-01-24T19:06:11.312Z"
   },
   {
    "duration": 7,
    "start_time": "2023-01-24T19:07:00.936Z"
   },
   {
    "duration": 84,
    "start_time": "2023-01-24T19:10:28.025Z"
   },
   {
    "duration": 1346,
    "start_time": "2023-01-24T19:10:39.775Z"
   },
   {
    "duration": 1342,
    "start_time": "2023-01-24T19:11:54.752Z"
   },
   {
    "duration": 94,
    "start_time": "2023-01-24T19:12:24.804Z"
   },
   {
    "duration": 8,
    "start_time": "2023-01-24T19:12:58.071Z"
   },
   {
    "duration": 20,
    "start_time": "2023-01-24T19:13:04.005Z"
   },
   {
    "duration": 13,
    "start_time": "2023-01-24T19:13:21.232Z"
   },
   {
    "duration": 4,
    "start_time": "2023-01-24T19:14:36.824Z"
   },
   {
    "duration": 7,
    "start_time": "2023-01-24T19:18:01.360Z"
   },
   {
    "duration": 8,
    "start_time": "2023-01-24T19:18:22.305Z"
   },
   {
    "duration": 5,
    "start_time": "2023-01-24T19:18:42.250Z"
   },
   {
    "duration": 5,
    "start_time": "2023-01-24T19:18:55.292Z"
   },
   {
    "duration": 7,
    "start_time": "2023-01-24T19:19:06.414Z"
   },
   {
    "duration": 4,
    "start_time": "2023-01-24T19:20:18.866Z"
   },
   {
    "duration": 28,
    "start_time": "2023-01-24T19:20:27.465Z"
   },
   {
    "duration": 28,
    "start_time": "2023-01-24T19:21:01.636Z"
   },
   {
    "duration": 28,
    "start_time": "2023-01-24T19:21:34.851Z"
   },
   {
    "duration": 6,
    "start_time": "2023-01-24T19:25:07.421Z"
   },
   {
    "duration": 5,
    "start_time": "2023-01-24T19:25:30.506Z"
   },
   {
    "duration": 7,
    "start_time": "2023-01-24T19:27:31.737Z"
   },
   {
    "duration": 569,
    "start_time": "2023-01-24T19:27:41.709Z"
   },
   {
    "duration": 805,
    "start_time": "2023-01-24T19:28:00.294Z"
   },
   {
    "duration": 7,
    "start_time": "2023-01-24T19:29:12.403Z"
   },
   {
    "duration": 6,
    "start_time": "2023-01-24T19:29:21.895Z"
   },
   {
    "duration": 7,
    "start_time": "2023-01-24T19:29:47.166Z"
   },
   {
    "duration": 27,
    "start_time": "2023-01-24T19:29:55.321Z"
   },
   {
    "duration": 5,
    "start_time": "2023-01-24T19:36:57.938Z"
   },
   {
    "duration": 14,
    "start_time": "2023-01-24T19:39:01.583Z"
   },
   {
    "duration": 1772,
    "start_time": "2023-01-24T19:40:02.382Z"
   },
   {
    "duration": 4,
    "start_time": "2023-01-24T19:40:40.526Z"
   },
   {
    "duration": 1279,
    "start_time": "2023-01-24T19:40:50.434Z"
   },
   {
    "duration": 29,
    "start_time": "2023-01-24T19:41:17.276Z"
   },
   {
    "duration": 41,
    "start_time": "2023-01-24T19:42:12.795Z"
   },
   {
    "duration": 41,
    "start_time": "2023-01-24T19:42:20.224Z"
   },
   {
    "duration": 37,
    "start_time": "2023-01-24T19:43:18.562Z"
   },
   {
    "duration": 10,
    "start_time": "2023-01-24T19:43:32.302Z"
   },
   {
    "duration": 7,
    "start_time": "2023-01-24T19:43:39.734Z"
   },
   {
    "duration": 7,
    "start_time": "2023-01-24T19:43:43.501Z"
   },
   {
    "duration": 6,
    "start_time": "2023-01-24T19:43:59.091Z"
   },
   {
    "duration": 11,
    "start_time": "2023-01-24T19:44:11.595Z"
   },
   {
    "duration": 5,
    "start_time": "2023-01-24T19:47:38.207Z"
   },
   {
    "duration": 37,
    "start_time": "2023-01-24T19:47:42.522Z"
   },
   {
    "duration": 5,
    "start_time": "2023-01-24T19:48:07.889Z"
   },
   {
    "duration": 28,
    "start_time": "2023-01-24T19:48:16.600Z"
   },
   {
    "duration": 4,
    "start_time": "2023-01-24T19:48:48.039Z"
   },
   {
    "duration": 27,
    "start_time": "2023-01-24T19:48:50.711Z"
   },
   {
    "duration": 7,
    "start_time": "2023-01-24T19:52:30.801Z"
   },
   {
    "duration": 22,
    "start_time": "2023-01-24T19:59:27.658Z"
   },
   {
    "duration": 15,
    "start_time": "2023-01-24T20:00:09.933Z"
   },
   {
    "duration": 62,
    "start_time": "2023-01-24T20:01:47.643Z"
   },
   {
    "duration": 11,
    "start_time": "2023-01-24T20:02:05.632Z"
   },
   {
    "duration": 11,
    "start_time": "2023-01-24T20:02:12.978Z"
   },
   {
    "duration": 7,
    "start_time": "2023-01-24T20:02:17.585Z"
   },
   {
    "duration": 45,
    "start_time": "2023-01-24T20:02:23.945Z"
   },
   {
    "duration": 44,
    "start_time": "2023-01-24T20:02:36.180Z"
   },
   {
    "duration": 6,
    "start_time": "2023-01-24T20:02:44.475Z"
   },
   {
    "duration": 48,
    "start_time": "2023-01-24T20:04:13.379Z"
   },
   {
    "duration": 70,
    "start_time": "2023-01-24T20:05:42.570Z"
   },
   {
    "duration": 68,
    "start_time": "2023-01-24T20:05:52.485Z"
   },
   {
    "duration": 70,
    "start_time": "2023-01-24T20:05:57.003Z"
   },
   {
    "duration": 71,
    "start_time": "2023-01-24T20:06:05.226Z"
   },
   {
    "duration": 64,
    "start_time": "2023-01-24T20:06:09.715Z"
   },
   {
    "duration": 62,
    "start_time": "2023-01-24T20:06:23.418Z"
   },
   {
    "duration": 61,
    "start_time": "2023-01-24T20:06:41.672Z"
   },
   {
    "duration": 68,
    "start_time": "2023-01-24T20:07:06.939Z"
   },
   {
    "duration": 71,
    "start_time": "2023-01-24T20:07:15.162Z"
   },
   {
    "duration": 70,
    "start_time": "2023-01-24T20:08:19.434Z"
   },
   {
    "duration": 487,
    "start_time": "2023-01-24T20:09:26.164Z"
   },
   {
    "duration": 48,
    "start_time": "2023-01-24T20:09:26.653Z"
   },
   {
    "duration": 2460,
    "start_time": "2023-01-24T20:09:26.703Z"
   },
   {
    "duration": 14,
    "start_time": "2023-01-24T20:09:29.166Z"
   },
   {
    "duration": 9,
    "start_time": "2023-01-24T20:09:29.181Z"
   },
   {
    "duration": 7,
    "start_time": "2023-01-24T20:09:29.192Z"
   },
   {
    "duration": 1318,
    "start_time": "2023-01-24T20:09:29.201Z"
   },
   {
    "duration": 1290,
    "start_time": "2023-01-24T20:09:30.520Z"
   },
   {
    "duration": 1255,
    "start_time": "2023-01-24T20:09:31.811Z"
   },
   {
    "duration": 12,
    "start_time": "2023-01-24T20:09:33.069Z"
   },
   {
    "duration": 8,
    "start_time": "2023-01-24T20:09:33.083Z"
   },
   {
    "duration": 10,
    "start_time": "2023-01-24T20:09:33.093Z"
   },
   {
    "duration": 19,
    "start_time": "2023-01-24T20:09:33.105Z"
   },
   {
    "duration": 10,
    "start_time": "2023-01-24T20:09:33.126Z"
   },
   {
    "duration": 8,
    "start_time": "2023-01-24T20:09:33.138Z"
   },
   {
    "duration": 51,
    "start_time": "2023-01-24T20:09:33.148Z"
   },
   {
    "duration": 43,
    "start_time": "2023-01-24T20:09:33.201Z"
   },
   {
    "duration": 6,
    "start_time": "2023-01-24T20:09:33.246Z"
   },
   {
    "duration": 8,
    "start_time": "2023-01-24T20:09:33.255Z"
   },
   {
    "duration": 15,
    "start_time": "2023-01-24T20:09:33.265Z"
   },
   {
    "duration": 25,
    "start_time": "2023-01-24T20:09:33.282Z"
   },
   {
    "duration": 100,
    "start_time": "2023-01-24T20:09:33.308Z"
   },
   {
    "duration": 0,
    "start_time": "2023-01-24T20:09:33.410Z"
   },
   {
    "duration": 56,
    "start_time": "2023-01-24T20:16:37.180Z"
   },
   {
    "duration": 55,
    "start_time": "2023-01-24T20:16:44.516Z"
   },
   {
    "duration": 55,
    "start_time": "2023-01-24T20:16:54.221Z"
   },
   {
    "duration": 17,
    "start_time": "2023-01-24T20:20:39.477Z"
   },
   {
    "duration": 95,
    "start_time": "2023-01-24T20:29:00.624Z"
   },
   {
    "duration": 100,
    "start_time": "2023-01-24T20:29:23.311Z"
   },
   {
    "duration": 112,
    "start_time": "2023-01-24T20:29:47.272Z"
   },
   {
    "duration": 521,
    "start_time": "2023-01-24T20:30:13.547Z"
   },
   {
    "duration": 49,
    "start_time": "2023-01-24T20:30:14.071Z"
   },
   {
    "duration": 2429,
    "start_time": "2023-01-24T20:30:14.122Z"
   },
   {
    "duration": 13,
    "start_time": "2023-01-24T20:30:16.554Z"
   },
   {
    "duration": 9,
    "start_time": "2023-01-24T20:30:16.569Z"
   },
   {
    "duration": 6,
    "start_time": "2023-01-24T20:30:16.580Z"
   },
   {
    "duration": 1295,
    "start_time": "2023-01-24T20:30:16.588Z"
   },
   {
    "duration": 1306,
    "start_time": "2023-01-24T20:30:17.885Z"
   },
   {
    "duration": 1259,
    "start_time": "2023-01-24T20:30:19.193Z"
   },
   {
    "duration": 25,
    "start_time": "2023-01-24T20:30:20.454Z"
   },
   {
    "duration": 11,
    "start_time": "2023-01-24T20:30:20.482Z"
   },
   {
    "duration": 11,
    "start_time": "2023-01-24T20:30:20.495Z"
   },
   {
    "duration": 9,
    "start_time": "2023-01-24T20:30:20.508Z"
   },
   {
    "duration": 21,
    "start_time": "2023-01-24T20:30:20.518Z"
   },
   {
    "duration": 11,
    "start_time": "2023-01-24T20:30:20.541Z"
   },
   {
    "duration": 108,
    "start_time": "2023-01-24T20:30:20.554Z"
   },
   {
    "duration": 20,
    "start_time": "2023-01-24T20:30:20.664Z"
   },
   {
    "duration": 33,
    "start_time": "2023-01-24T20:30:20.686Z"
   },
   {
    "duration": 20,
    "start_time": "2023-01-24T20:30:20.721Z"
   },
   {
    "duration": 6,
    "start_time": "2023-01-24T20:30:20.743Z"
   },
   {
    "duration": 5,
    "start_time": "2023-01-24T20:30:20.751Z"
   },
   {
    "duration": 27,
    "start_time": "2023-01-24T20:30:20.758Z"
   },
   {
    "duration": 107,
    "start_time": "2023-01-24T20:30:20.787Z"
   },
   {
    "duration": 0,
    "start_time": "2023-01-24T20:30:20.896Z"
   },
   {
    "duration": 97,
    "start_time": "2023-01-24T20:30:45.904Z"
   },
   {
    "duration": 17,
    "start_time": "2023-01-24T20:30:50.634Z"
   },
   {
    "duration": 87,
    "start_time": "2023-01-24T20:32:14.833Z"
   },
   {
    "duration": 8,
    "start_time": "2023-01-24T20:32:30.872Z"
   },
   {
    "duration": 98,
    "start_time": "2023-01-24T20:32:34.758Z"
   },
   {
    "duration": 490,
    "start_time": "2023-01-24T20:32:55.483Z"
   },
   {
    "duration": 48,
    "start_time": "2023-01-24T20:32:55.975Z"
   },
   {
    "duration": 2454,
    "start_time": "2023-01-24T20:32:56.025Z"
   },
   {
    "duration": 12,
    "start_time": "2023-01-24T20:32:58.483Z"
   },
   {
    "duration": 23,
    "start_time": "2023-01-24T20:32:58.497Z"
   },
   {
    "duration": 23,
    "start_time": "2023-01-24T20:32:58.521Z"
   },
   {
    "duration": 1423,
    "start_time": "2023-01-24T20:32:58.546Z"
   },
   {
    "duration": 1391,
    "start_time": "2023-01-24T20:32:59.971Z"
   },
   {
    "duration": 1349,
    "start_time": "2023-01-24T20:33:01.364Z"
   },
   {
    "duration": 23,
    "start_time": "2023-01-24T20:33:02.716Z"
   },
   {
    "duration": 18,
    "start_time": "2023-01-24T20:33:02.740Z"
   },
   {
    "duration": 14,
    "start_time": "2023-01-24T20:33:02.760Z"
   },
   {
    "duration": 9,
    "start_time": "2023-01-24T20:33:02.776Z"
   },
   {
    "duration": 9,
    "start_time": "2023-01-24T20:33:02.787Z"
   },
   {
    "duration": 7,
    "start_time": "2023-01-24T20:33:02.798Z"
   },
   {
    "duration": 114,
    "start_time": "2023-01-24T20:33:02.807Z"
   },
   {
    "duration": 35,
    "start_time": "2023-01-24T20:33:02.922Z"
   },
   {
    "duration": 7,
    "start_time": "2023-01-24T20:33:02.959Z"
   },
   {
    "duration": 7,
    "start_time": "2023-01-24T20:33:02.968Z"
   },
   {
    "duration": 6,
    "start_time": "2023-01-24T20:33:02.977Z"
   },
   {
    "duration": 56,
    "start_time": "2023-01-24T20:33:02.984Z"
   },
   {
    "duration": 77,
    "start_time": "2023-01-24T20:33:03.041Z"
   },
   {
    "duration": 0,
    "start_time": "2023-01-24T20:33:03.119Z"
   },
   {
    "duration": 46,
    "start_time": "2023-01-25T07:58:04.335Z"
   },
   {
    "duration": 703,
    "start_time": "2023-01-25T07:58:32.159Z"
   },
   {
    "duration": 43,
    "start_time": "2023-01-25T07:58:32.863Z"
   },
   {
    "duration": 2201,
    "start_time": "2023-01-25T07:58:32.908Z"
   },
   {
    "duration": 8,
    "start_time": "2023-01-25T07:58:35.111Z"
   },
   {
    "duration": 20,
    "start_time": "2023-01-25T07:58:35.121Z"
   },
   {
    "duration": 7,
    "start_time": "2023-01-25T07:58:35.143Z"
   },
   {
    "duration": 1179,
    "start_time": "2023-01-25T07:58:35.151Z"
   },
   {
    "duration": 1198,
    "start_time": "2023-01-25T07:58:36.332Z"
   },
   {
    "duration": 1145,
    "start_time": "2023-01-25T07:58:37.532Z"
   },
   {
    "duration": 14,
    "start_time": "2023-01-25T07:58:38.679Z"
   },
   {
    "duration": 8,
    "start_time": "2023-01-25T07:58:38.694Z"
   },
   {
    "duration": 9,
    "start_time": "2023-01-25T07:58:38.704Z"
   },
   {
    "duration": 12,
    "start_time": "2023-01-25T07:58:38.714Z"
   },
   {
    "duration": 3,
    "start_time": "2023-01-25T07:58:38.745Z"
   },
   {
    "duration": 10,
    "start_time": "2023-01-25T07:58:38.750Z"
   },
   {
    "duration": 94,
    "start_time": "2023-01-25T07:58:38.761Z"
   },
   {
    "duration": 25,
    "start_time": "2023-01-25T07:58:38.857Z"
   },
   {
    "duration": 5,
    "start_time": "2023-01-25T07:58:38.883Z"
   },
   {
    "duration": 7,
    "start_time": "2023-01-25T07:58:38.890Z"
   },
   {
    "duration": 13,
    "start_time": "2023-01-25T07:58:38.898Z"
   },
   {
    "duration": 34,
    "start_time": "2023-01-25T07:58:38.912Z"
   },
   {
    "duration": 325,
    "start_time": "2023-01-25T07:58:38.947Z"
   },
   {
    "duration": 291,
    "start_time": "2023-01-25T07:59:56.762Z"
   },
   {
    "duration": 356,
    "start_time": "2023-01-25T08:00:28.051Z"
   },
   {
    "duration": 572,
    "start_time": "2023-01-25T08:00:37.964Z"
   },
   {
    "duration": 273,
    "start_time": "2023-01-25T08:02:23.309Z"
   },
   {
    "duration": 453,
    "start_time": "2023-01-25T08:02:30.676Z"
   },
   {
    "duration": 4,
    "start_time": "2023-01-25T08:03:16.756Z"
   },
   {
    "duration": 3,
    "start_time": "2023-01-25T08:03:20.916Z"
   },
   {
    "duration": 27,
    "start_time": "2023-01-25T08:03:35.092Z"
   },
   {
    "duration": 5,
    "start_time": "2023-01-25T08:05:26.561Z"
   },
   {
    "duration": 361,
    "start_time": "2023-01-25T08:05:37.861Z"
   },
   {
    "duration": 368,
    "start_time": "2023-01-25T08:05:45.149Z"
   },
   {
    "duration": 320,
    "start_time": "2023-01-25T08:05:53.896Z"
   },
   {
    "duration": 3,
    "start_time": "2023-01-25T08:08:27.910Z"
   },
   {
    "duration": 6,
    "start_time": "2023-01-25T08:08:43.767Z"
   },
   {
    "duration": 302,
    "start_time": "2023-01-25T08:09:57.306Z"
   },
   {
    "duration": 319,
    "start_time": "2023-01-25T08:10:08.118Z"
   },
   {
    "duration": 23,
    "start_time": "2023-01-25T08:11:20.064Z"
   },
   {
    "duration": 6,
    "start_time": "2023-01-25T08:12:37.680Z"
   },
   {
    "duration": 323,
    "start_time": "2023-01-25T08:13:08.963Z"
   },
   {
    "duration": 328,
    "start_time": "2023-01-25T08:13:21.170Z"
   },
   {
    "duration": 383,
    "start_time": "2023-01-25T08:13:54.391Z"
   },
   {
    "duration": 314,
    "start_time": "2023-01-25T08:14:05.463Z"
   },
   {
    "duration": 318,
    "start_time": "2023-01-25T08:14:12.625Z"
   },
   {
    "duration": 301,
    "start_time": "2023-01-25T08:15:30.976Z"
   },
   {
    "duration": 402,
    "start_time": "2023-01-25T08:18:04.017Z"
   },
   {
    "duration": 88,
    "start_time": "2023-01-25T08:19:18.056Z"
   },
   {
    "duration": 17,
    "start_time": "2023-01-25T08:19:25.857Z"
   },
   {
    "duration": 14,
    "start_time": "2023-01-25T08:19:40.513Z"
   },
   {
    "duration": 157,
    "start_time": "2023-01-25T08:23:22.356Z"
   },
   {
    "duration": 200,
    "start_time": "2023-01-25T08:23:27.745Z"
   },
   {
    "duration": 275,
    "start_time": "2023-01-25T08:24:07.626Z"
   },
   {
    "duration": 286,
    "start_time": "2023-01-25T08:24:14.314Z"
   },
   {
    "duration": 322,
    "start_time": "2023-01-25T08:24:44.997Z"
   },
   {
    "duration": 594,
    "start_time": "2023-01-25T18:48:22.210Z"
   },
   {
    "duration": 3,
    "start_time": "2023-01-25T18:48:29.908Z"
   },
   {
    "duration": 3,
    "start_time": "2023-01-25T18:48:38.645Z"
   },
   {
    "duration": 3,
    "start_time": "2023-01-25T19:00:45.265Z"
   },
   {
    "duration": 5,
    "start_time": "2023-01-25T19:03:37.219Z"
   },
   {
    "duration": 1523,
    "start_time": "2023-01-25T19:03:55.981Z"
   },
   {
    "duration": 1246,
    "start_time": "2023-01-25T19:06:22.449Z"
   },
   {
    "duration": 3,
    "start_time": "2023-01-25T19:06:42.365Z"
   },
   {
    "duration": 78,
    "start_time": "2023-01-25T19:07:32.663Z"
   },
   {
    "duration": 9,
    "start_time": "2023-01-25T19:09:29.738Z"
   },
   {
    "duration": 683,
    "start_time": "2023-01-25T19:09:37.013Z"
   },
   {
    "duration": 7,
    "start_time": "2023-01-25T19:12:06.723Z"
   },
   {
    "duration": 6,
    "start_time": "2023-01-25T19:12:29.366Z"
   },
   {
    "duration": 9,
    "start_time": "2023-01-25T19:13:48.327Z"
   },
   {
    "duration": 9,
    "start_time": "2023-01-25T19:14:43.006Z"
   },
   {
    "duration": 119,
    "start_time": "2023-01-25T19:27:15.711Z"
   },
   {
    "duration": 124,
    "start_time": "2023-01-25T19:27:45.125Z"
   },
   {
    "duration": 146,
    "start_time": "2023-01-25T19:28:24.071Z"
   },
   {
    "duration": 176,
    "start_time": "2023-01-25T19:29:11.029Z"
   },
   {
    "duration": 198,
    "start_time": "2023-01-25T19:30:14.734Z"
   },
   {
    "duration": 44,
    "start_time": "2023-01-25T19:33:34.372Z"
   },
   {
    "duration": 20,
    "start_time": "2023-01-25T19:33:53.349Z"
   },
   {
    "duration": 9,
    "start_time": "2023-01-25T19:34:11.709Z"
   },
   {
    "duration": 10,
    "start_time": "2023-01-25T19:34:51.925Z"
   },
   {
    "duration": 10,
    "start_time": "2023-01-25T19:35:40.181Z"
   },
   {
    "duration": 2,
    "start_time": "2023-01-25T19:36:10.736Z"
   },
   {
    "duration": 11,
    "start_time": "2023-01-25T19:36:13.525Z"
   },
   {
    "duration": 6,
    "start_time": "2023-01-25T19:36:23.935Z"
   },
   {
    "duration": 118,
    "start_time": "2023-01-25T19:36:32.928Z"
   },
   {
    "duration": 61,
    "start_time": "2023-01-25T19:36:33.048Z"
   },
   {
    "duration": 2799,
    "start_time": "2023-01-25T19:36:33.111Z"
   },
   {
    "duration": 10,
    "start_time": "2023-01-25T19:36:35.913Z"
   },
   {
    "duration": 22,
    "start_time": "2023-01-25T19:36:35.924Z"
   },
   {
    "duration": 38,
    "start_time": "2023-01-25T19:36:35.948Z"
   },
   {
    "duration": 1555,
    "start_time": "2023-01-25T19:36:35.988Z"
   },
   {
    "duration": 1607,
    "start_time": "2023-01-25T19:36:37.545Z"
   },
   {
    "duration": 12,
    "start_time": "2023-01-25T19:36:39.158Z"
   },
   {
    "duration": 29,
    "start_time": "2023-01-25T19:36:39.174Z"
   },
   {
    "duration": 21,
    "start_time": "2023-01-25T19:36:39.205Z"
   },
   {
    "duration": 55,
    "start_time": "2023-01-25T19:36:39.228Z"
   },
   {
    "duration": 17,
    "start_time": "2023-01-25T19:36:39.285Z"
   },
   {
    "duration": 23,
    "start_time": "2023-01-25T19:36:39.304Z"
   },
   {
    "duration": 13,
    "start_time": "2023-01-25T19:36:39.329Z"
   },
   {
    "duration": 6,
    "start_time": "2023-01-25T19:48:55.141Z"
   },
   {
    "duration": 345,
    "start_time": "2023-01-25T19:52:34.577Z"
   },
   {
    "duration": 34,
    "start_time": "2023-01-25T19:54:22.080Z"
   },
   {
    "duration": 855,
    "start_time": "2023-01-25T19:54:23.930Z"
   },
   {
    "duration": 4,
    "start_time": "2023-01-25T19:54:37.825Z"
   },
   {
    "duration": 745,
    "start_time": "2023-01-25T19:54:43.499Z"
   },
   {
    "duration": 6,
    "start_time": "2023-01-25T19:55:09.488Z"
   },
   {
    "duration": 34,
    "start_time": "2023-01-25T19:55:16.385Z"
   },
   {
    "duration": 4,
    "start_time": "2023-01-25T19:55:47.607Z"
   },
   {
    "duration": 6,
    "start_time": "2023-01-25T19:55:49.404Z"
   },
   {
    "duration": 6,
    "start_time": "2023-01-25T19:55:51.104Z"
   },
   {
    "duration": 6,
    "start_time": "2023-01-25T19:55:51.639Z"
   },
   {
    "duration": 35,
    "start_time": "2023-01-25T19:55:57.483Z"
   },
   {
    "duration": 149,
    "start_time": "2023-01-25T19:58:58.771Z"
   },
   {
    "duration": 148,
    "start_time": "2023-01-25T19:59:24.099Z"
   },
   {
    "duration": 158,
    "start_time": "2023-01-25T19:59:54.391Z"
   },
   {
    "duration": 160,
    "start_time": "2023-01-25T20:00:13.247Z"
   },
   {
    "duration": 10,
    "start_time": "2023-01-25T20:00:54.320Z"
   },
   {
    "duration": 20,
    "start_time": "2023-01-25T20:01:28.549Z"
   },
   {
    "duration": 7,
    "start_time": "2023-01-25T20:01:56.215Z"
   },
   {
    "duration": 213,
    "start_time": "2023-01-25T20:03:21.615Z"
   },
   {
    "duration": 148,
    "start_time": "2023-01-25T20:04:39.485Z"
   },
   {
    "duration": 501,
    "start_time": "2023-01-25T20:13:03.040Z"
   },
   {
    "duration": 428,
    "start_time": "2023-01-25T20:13:31.972Z"
   },
   {
    "duration": 134,
    "start_time": "2023-01-25T20:14:54.075Z"
   },
   {
    "duration": 51,
    "start_time": "2023-01-25T20:16:05.232Z"
   },
   {
    "duration": 51,
    "start_time": "2023-01-25T20:16:56.547Z"
   },
   {
    "duration": 56,
    "start_time": "2023-01-25T20:17:30.019Z"
   },
   {
    "duration": 35,
    "start_time": "2023-01-25T20:20:22.138Z"
   },
   {
    "duration": 34,
    "start_time": "2023-01-25T20:20:49.522Z"
   },
   {
    "duration": 49,
    "start_time": "2023-01-25T20:21:03.258Z"
   },
   {
    "duration": 35,
    "start_time": "2023-01-25T20:21:10.060Z"
   },
   {
    "duration": 36,
    "start_time": "2023-01-25T20:21:14.307Z"
   },
   {
    "duration": 7,
    "start_time": "2023-01-25T20:23:41.287Z"
   },
   {
    "duration": 48,
    "start_time": "2023-01-25T20:23:53.641Z"
   },
   {
    "duration": 8,
    "start_time": "2023-01-25T20:23:58.486Z"
   },
   {
    "duration": 8,
    "start_time": "2023-01-25T20:36:06.727Z"
   },
   {
    "duration": 7,
    "start_time": "2023-01-25T20:37:02.328Z"
   },
   {
    "duration": 16,
    "start_time": "2023-01-25T20:38:36.081Z"
   },
   {
    "duration": 21,
    "start_time": "2023-01-25T20:39:10.763Z"
   },
   {
    "duration": 24,
    "start_time": "2023-01-25T20:39:36.032Z"
   },
   {
    "duration": 50,
    "start_time": "2023-01-26T11:38:10.365Z"
   },
   {
    "duration": 729,
    "start_time": "2023-01-26T11:38:13.615Z"
   },
   {
    "duration": 2236,
    "start_time": "2023-01-26T11:38:20.933Z"
   },
   {
    "duration": 1325,
    "start_time": "2023-01-26T11:39:25.293Z"
   },
   {
    "duration": 8,
    "start_time": "2023-01-26T11:39:38.492Z"
   },
   {
    "duration": 17,
    "start_time": "2023-01-26T11:40:20.919Z"
   },
   {
    "duration": 25,
    "start_time": "2023-01-26T11:40:28.366Z"
   },
   {
    "duration": 8,
    "start_time": "2023-01-26T11:55:41.220Z"
   },
   {
    "duration": 104,
    "start_time": "2023-01-26T11:56:25.213Z"
   },
   {
    "duration": 46,
    "start_time": "2023-01-26T11:56:25.319Z"
   },
   {
    "duration": 1999,
    "start_time": "2023-01-26T11:56:25.367Z"
   },
   {
    "duration": 12,
    "start_time": "2023-01-26T11:56:27.371Z"
   },
   {
    "duration": 53,
    "start_time": "2023-01-26T11:56:27.385Z"
   },
   {
    "duration": 25,
    "start_time": "2023-01-26T11:56:27.441Z"
   },
   {
    "duration": 1362,
    "start_time": "2023-01-26T11:56:27.468Z"
   },
   {
    "duration": 1347,
    "start_time": "2023-01-26T11:56:28.832Z"
   },
   {
    "duration": 3,
    "start_time": "2023-01-26T11:56:30.180Z"
   },
   {
    "duration": 26,
    "start_time": "2023-01-26T11:56:30.187Z"
   },
   {
    "duration": 13,
    "start_time": "2023-01-26T11:56:30.215Z"
   },
   {
    "duration": 30,
    "start_time": "2023-01-26T11:56:30.230Z"
   },
   {
    "duration": 15,
    "start_time": "2023-01-26T11:56:30.262Z"
   },
   {
    "duration": 33,
    "start_time": "2023-01-26T11:56:30.278Z"
   },
   {
    "duration": 43,
    "start_time": "2023-01-26T11:56:30.313Z"
   },
   {
    "duration": 72,
    "start_time": "2023-01-26T11:56:30.358Z"
   },
   {
    "duration": 16,
    "start_time": "2023-01-26T11:56:30.432Z"
   },
   {
    "duration": 90,
    "start_time": "2023-01-26T11:56:30.450Z"
   },
   {
    "duration": 36,
    "start_time": "2023-01-26T11:56:30.541Z"
   },
   {
    "duration": 30,
    "start_time": "2023-01-26T11:56:30.580Z"
   },
   {
    "duration": 34,
    "start_time": "2023-01-26T11:56:30.611Z"
   },
   {
    "duration": 35,
    "start_time": "2023-01-26T11:56:30.647Z"
   },
   {
    "duration": 46,
    "start_time": "2023-01-26T11:56:30.684Z"
   },
   {
    "duration": 42,
    "start_time": "2023-01-26T11:56:30.732Z"
   },
   {
    "duration": 56,
    "start_time": "2023-01-26T11:56:30.776Z"
   },
   {
    "duration": 326,
    "start_time": "2023-01-26T11:56:30.834Z"
   },
   {
    "duration": 7,
    "start_time": "2023-01-26T11:56:31.162Z"
   },
   {
    "duration": 63,
    "start_time": "2023-01-26T11:56:31.172Z"
   },
   {
    "duration": 10,
    "start_time": "2023-01-26T11:56:46.688Z"
   },
   {
    "duration": 583,
    "start_time": "2023-01-26T14:33:08.628Z"
   },
   {
    "duration": 51,
    "start_time": "2023-01-26T14:33:19.796Z"
   },
   {
    "duration": 2444,
    "start_time": "2023-01-26T14:33:48.973Z"
   },
   {
    "duration": 4252,
    "start_time": "2023-01-26T14:34:29.119Z"
   },
   {
    "duration": 4564,
    "start_time": "2023-01-26T14:41:15.235Z"
   },
   {
    "duration": 4077,
    "start_time": "2023-01-26T14:41:45.150Z"
   },
   {
    "duration": 4165,
    "start_time": "2023-01-26T14:42:09.009Z"
   },
   {
    "duration": 3637,
    "start_time": "2023-01-26T14:45:10.707Z"
   },
   {
    "duration": 4250,
    "start_time": "2023-01-26T14:45:36.915Z"
   },
   {
    "duration": 705,
    "start_time": "2023-01-26T19:51:57.177Z"
   },
   {
    "duration": 40,
    "start_time": "2023-01-26T19:51:57.884Z"
   },
   {
    "duration": 3846,
    "start_time": "2023-01-26T19:51:57.926Z"
   },
   {
    "duration": 10,
    "start_time": "2023-01-26T19:52:01.775Z"
   },
   {
    "duration": 5,
    "start_time": "2023-01-26T19:52:01.787Z"
   },
   {
    "duration": 6,
    "start_time": "2023-01-26T19:52:01.794Z"
   },
   {
    "duration": 1298,
    "start_time": "2023-01-26T19:52:37.080Z"
   },
   {
    "duration": 67,
    "start_time": "2023-01-26T19:52:40.215Z"
   },
   {
    "duration": 4,
    "start_time": "2023-01-26T19:52:50.137Z"
   },
   {
    "duration": 1229,
    "start_time": "2023-01-26T19:52:54.440Z"
   },
   {
    "duration": 25,
    "start_time": "2023-01-26T20:16:49.492Z"
   },
   {
    "duration": 13,
    "start_time": "2023-01-26T20:17:06.851Z"
   },
   {
    "duration": 24,
    "start_time": "2023-01-26T20:17:36.882Z"
   },
   {
    "duration": 7,
    "start_time": "2023-01-26T20:17:39.337Z"
   },
   {
    "duration": 7,
    "start_time": "2023-01-26T20:17:47.500Z"
   },
   {
    "duration": 352,
    "start_time": "2023-01-26T20:17:57.755Z"
   },
   {
    "duration": 7,
    "start_time": "2023-01-26T20:19:28.827Z"
   },
   {
    "duration": 7,
    "start_time": "2023-01-26T20:20:15.187Z"
   },
   {
    "duration": 7,
    "start_time": "2023-01-26T20:20:26.905Z"
   },
   {
    "duration": 11,
    "start_time": "2023-01-26T20:20:39.547Z"
   },
   {
    "duration": 6,
    "start_time": "2023-01-26T20:20:52.955Z"
   },
   {
    "duration": 13,
    "start_time": "2023-01-26T20:21:27.388Z"
   },
   {
    "duration": 9,
    "start_time": "2023-01-26T20:21:38.829Z"
   },
   {
    "duration": 99,
    "start_time": "2023-01-26T20:21:44.336Z"
   },
   {
    "duration": 43,
    "start_time": "2023-01-26T20:21:44.436Z"
   },
   {
    "duration": 3617,
    "start_time": "2023-01-26T20:21:44.481Z"
   },
   {
    "duration": 9,
    "start_time": "2023-01-26T20:21:48.100Z"
   },
   {
    "duration": 9,
    "start_time": "2023-01-26T20:21:48.110Z"
   },
   {
    "duration": 3,
    "start_time": "2023-01-26T20:21:48.121Z"
   },
   {
    "duration": 7,
    "start_time": "2023-01-26T20:21:48.126Z"
   },
   {
    "duration": 1246,
    "start_time": "2023-01-26T20:21:48.135Z"
   },
   {
    "duration": 1240,
    "start_time": "2023-01-26T20:21:49.382Z"
   },
   {
    "duration": 3,
    "start_time": "2023-01-26T20:21:50.624Z"
   },
   {
    "duration": 17,
    "start_time": "2023-01-26T20:21:50.629Z"
   },
   {
    "duration": 7,
    "start_time": "2023-01-26T20:21:50.648Z"
   },
   {
    "duration": 17,
    "start_time": "2023-01-26T20:21:50.657Z"
   },
   {
    "duration": 10,
    "start_time": "2023-01-26T20:21:50.676Z"
   },
   {
    "duration": 8,
    "start_time": "2023-01-26T20:21:50.688Z"
   },
   {
    "duration": 16,
    "start_time": "2023-01-26T20:21:50.698Z"
   },
   {
    "duration": 5,
    "start_time": "2023-01-26T20:22:03.868Z"
   },
   {
    "duration": 22,
    "start_time": "2023-01-26T20:22:07.580Z"
   },
   {
    "duration": 7,
    "start_time": "2023-01-26T20:22:12.347Z"
   },
   {
    "duration": 10,
    "start_time": "2023-01-26T20:22:22.843Z"
   },
   {
    "duration": 10,
    "start_time": "2023-01-26T20:31:45.149Z"
   },
   {
    "duration": 99,
    "start_time": "2023-01-26T20:31:57.753Z"
   },
   {
    "duration": 47,
    "start_time": "2023-01-26T20:31:57.854Z"
   },
   {
    "duration": 4087,
    "start_time": "2023-01-26T20:31:57.903Z"
   },
   {
    "duration": 9,
    "start_time": "2023-01-26T20:32:01.992Z"
   },
   {
    "duration": 17,
    "start_time": "2023-01-26T20:32:02.002Z"
   },
   {
    "duration": 34,
    "start_time": "2023-01-26T20:32:02.020Z"
   },
   {
    "duration": 24,
    "start_time": "2023-01-26T20:32:02.056Z"
   },
   {
    "duration": 1293,
    "start_time": "2023-01-26T20:32:02.082Z"
   },
   {
    "duration": 1277,
    "start_time": "2023-01-26T20:32:03.376Z"
   },
   {
    "duration": 2,
    "start_time": "2023-01-26T20:32:04.656Z"
   },
   {
    "duration": 18,
    "start_time": "2023-01-26T20:32:04.659Z"
   },
   {
    "duration": 22,
    "start_time": "2023-01-26T20:32:04.678Z"
   },
   {
    "duration": 10,
    "start_time": "2023-01-26T20:32:04.701Z"
   },
   {
    "duration": 7,
    "start_time": "2023-01-26T20:32:04.712Z"
   },
   {
    "duration": 11,
    "start_time": "2023-01-26T20:32:04.721Z"
   },
   {
    "duration": 13,
    "start_time": "2023-01-26T20:32:04.733Z"
   },
   {
    "duration": 6,
    "start_time": "2023-01-26T20:32:04.748Z"
   },
   {
    "duration": 40,
    "start_time": "2023-01-26T20:32:04.756Z"
   },
   {
    "duration": 7,
    "start_time": "2023-01-26T20:32:04.798Z"
   },
   {
    "duration": 24,
    "start_time": "2023-01-26T20:32:04.807Z"
   },
   {
    "duration": 0,
    "start_time": "2023-01-26T20:32:04.835Z"
   },
   {
    "duration": 0,
    "start_time": "2023-01-26T20:32:04.836Z"
   },
   {
    "duration": 0,
    "start_time": "2023-01-26T20:32:04.837Z"
   },
   {
    "duration": 0,
    "start_time": "2023-01-26T20:32:04.839Z"
   },
   {
    "duration": 0,
    "start_time": "2023-01-26T20:32:04.840Z"
   },
   {
    "duration": 0,
    "start_time": "2023-01-26T20:32:04.842Z"
   },
   {
    "duration": 0,
    "start_time": "2023-01-26T20:32:04.843Z"
   },
   {
    "duration": 0,
    "start_time": "2023-01-26T20:32:04.844Z"
   },
   {
    "duration": 0,
    "start_time": "2023-01-26T20:32:04.846Z"
   },
   {
    "duration": 0,
    "start_time": "2023-01-26T20:32:04.867Z"
   },
   {
    "duration": 8,
    "start_time": "2023-01-26T20:32:52.157Z"
   },
   {
    "duration": 2,
    "start_time": "2023-01-26T20:33:02.301Z"
   },
   {
    "duration": 9,
    "start_time": "2023-01-26T20:33:05.126Z"
   },
   {
    "duration": 9,
    "start_time": "2023-01-26T20:33:29.686Z"
   },
   {
    "duration": 97,
    "start_time": "2023-01-26T20:33:41.697Z"
   },
   {
    "duration": 385,
    "start_time": "2023-01-26T20:33:47.871Z"
   },
   {
    "duration": 99,
    "start_time": "2023-01-26T20:34:10.898Z"
   },
   {
    "duration": 42,
    "start_time": "2023-01-26T20:34:11.000Z"
   },
   {
    "duration": 3630,
    "start_time": "2023-01-26T20:34:11.044Z"
   },
   {
    "duration": 8,
    "start_time": "2023-01-26T20:34:14.676Z"
   },
   {
    "duration": 7,
    "start_time": "2023-01-26T20:34:14.685Z"
   },
   {
    "duration": 3,
    "start_time": "2023-01-26T20:34:14.693Z"
   },
   {
    "duration": 8,
    "start_time": "2023-01-26T20:34:14.697Z"
   },
   {
    "duration": 1337,
    "start_time": "2023-01-26T20:34:14.706Z"
   },
   {
    "duration": 1174,
    "start_time": "2023-01-26T20:34:16.045Z"
   },
   {
    "duration": 3,
    "start_time": "2023-01-26T20:34:17.221Z"
   },
   {
    "duration": 11,
    "start_time": "2023-01-26T20:34:17.225Z"
   },
   {
    "duration": 5,
    "start_time": "2023-01-26T20:34:17.237Z"
   },
   {
    "duration": 4,
    "start_time": "2023-01-26T20:34:17.244Z"
   },
   {
    "duration": 4,
    "start_time": "2023-01-26T20:34:17.249Z"
   },
   {
    "duration": 4,
    "start_time": "2023-01-26T20:34:17.267Z"
   },
   {
    "duration": 8,
    "start_time": "2023-01-26T20:34:17.272Z"
   },
   {
    "duration": 5,
    "start_time": "2023-01-26T20:34:17.281Z"
   },
   {
    "duration": 22,
    "start_time": "2023-01-26T20:34:19.329Z"
   },
   {
    "duration": 7,
    "start_time": "2023-01-26T20:34:23.325Z"
   },
   {
    "duration": 16,
    "start_time": "2023-01-26T20:34:29.722Z"
   },
   {
    "duration": 34,
    "start_time": "2023-01-26T20:34:39.135Z"
   },
   {
    "duration": 2,
    "start_time": "2023-01-26T20:35:09.184Z"
   },
   {
    "duration": 10,
    "start_time": "2023-01-26T20:35:11.989Z"
   },
   {
    "duration": 9,
    "start_time": "2023-01-26T20:35:32.087Z"
   },
   {
    "duration": 129,
    "start_time": "2023-01-26T20:36:24.559Z"
   },
   {
    "duration": 239,
    "start_time": "2023-01-26T20:36:49.336Z"
   },
   {
    "duration": 354,
    "start_time": "2023-01-26T20:37:04.967Z"
   },
   {
    "duration": 8,
    "start_time": "2023-01-26T20:38:32.220Z"
   },
   {
    "duration": 572,
    "start_time": "2023-01-26T20:39:00.771Z"
   },
   {
    "duration": 250,
    "start_time": "2023-01-26T20:39:07.919Z"
   },
   {
    "duration": 267,
    "start_time": "2023-01-26T20:39:31.135Z"
   },
   {
    "duration": 232,
    "start_time": "2023-01-26T20:39:44.195Z"
   },
   {
    "duration": 9,
    "start_time": "2023-01-26T20:41:57.679Z"
   },
   {
    "duration": 246,
    "start_time": "2023-01-26T20:42:26.855Z"
   },
   {
    "duration": 248,
    "start_time": "2023-01-26T20:42:39.452Z"
   },
   {
    "duration": 256,
    "start_time": "2023-01-26T20:42:45.683Z"
   },
   {
    "duration": 1212,
    "start_time": "2023-01-26T20:43:49.783Z"
   },
   {
    "duration": 9,
    "start_time": "2023-01-26T20:44:16.399Z"
   },
   {
    "duration": 235,
    "start_time": "2023-01-26T20:44:38.353Z"
   },
   {
    "duration": 233,
    "start_time": "2023-01-26T20:44:57.745Z"
   },
   {
    "duration": 246,
    "start_time": "2023-01-26T20:45:06.816Z"
   },
   {
    "duration": 249,
    "start_time": "2023-01-26T20:45:14.263Z"
   },
   {
    "duration": 229,
    "start_time": "2023-01-26T20:45:23.471Z"
   },
   {
    "duration": 232,
    "start_time": "2023-01-26T20:45:31.314Z"
   },
   {
    "duration": 1694,
    "start_time": "2023-01-26T20:45:45.169Z"
   },
   {
    "duration": 683,
    "start_time": "2023-01-26T20:45:51.907Z"
   },
   {
    "duration": 13,
    "start_time": "2023-01-27T19:17:03.991Z"
   },
   {
    "duration": 73,
    "start_time": "2023-01-27T19:17:07.588Z"
   },
   {
    "duration": 597,
    "start_time": "2023-01-27T19:17:12.119Z"
   },
   {
    "duration": 50,
    "start_time": "2023-01-27T19:17:12.718Z"
   },
   {
    "duration": 4740,
    "start_time": "2023-01-27T19:17:12.770Z"
   },
   {
    "duration": 11,
    "start_time": "2023-01-27T19:17:17.513Z"
   },
   {
    "duration": 12,
    "start_time": "2023-01-27T19:17:17.526Z"
   },
   {
    "duration": 20,
    "start_time": "2023-01-27T19:17:17.540Z"
   },
   {
    "duration": 18,
    "start_time": "2023-01-27T19:17:17.562Z"
   },
   {
    "duration": 1559,
    "start_time": "2023-01-27T19:17:17.582Z"
   },
   {
    "duration": 1575,
    "start_time": "2023-01-27T19:17:19.144Z"
   },
   {
    "duration": 3,
    "start_time": "2023-01-27T19:17:20.722Z"
   },
   {
    "duration": 28,
    "start_time": "2023-01-27T19:17:20.727Z"
   },
   {
    "duration": 10,
    "start_time": "2023-01-27T19:17:20.757Z"
   },
   {
    "duration": 8,
    "start_time": "2023-01-27T19:17:20.769Z"
   },
   {
    "duration": 10,
    "start_time": "2023-01-27T19:17:20.778Z"
   },
   {
    "duration": 33,
    "start_time": "2023-01-27T19:17:20.790Z"
   },
   {
    "duration": 13,
    "start_time": "2023-01-27T19:17:20.825Z"
   },
   {
    "duration": 6,
    "start_time": "2023-01-27T19:17:20.840Z"
   },
   {
    "duration": 29,
    "start_time": "2023-01-27T19:17:20.848Z"
   },
   {
    "duration": 8,
    "start_time": "2023-01-27T19:17:20.879Z"
   },
   {
    "duration": 10,
    "start_time": "2023-01-27T19:17:20.889Z"
   },
   {
    "duration": 43,
    "start_time": "2023-01-27T19:17:53.017Z"
   },
   {
    "duration": 6,
    "start_time": "2023-01-27T19:18:12.809Z"
   },
   {
    "duration": 8,
    "start_time": "2023-01-27T19:18:29.825Z"
   },
   {
    "duration": 42,
    "start_time": "2023-01-27T19:18:43.442Z"
   },
   {
    "duration": 8,
    "start_time": "2023-01-27T19:19:49.181Z"
   },
   {
    "duration": 4,
    "start_time": "2023-01-27T19:20:20.815Z"
   },
   {
    "duration": 7,
    "start_time": "2023-01-27T19:20:22.361Z"
   },
   {
    "duration": 8,
    "start_time": "2023-01-27T19:20:47.337Z"
   },
   {
    "duration": 28,
    "start_time": "2023-01-27T19:21:35.841Z"
   },
   {
    "duration": 12,
    "start_time": "2023-01-27T19:32:08.342Z"
   },
   {
    "duration": 4624,
    "start_time": "2023-01-27T19:33:43.059Z"
   },
   {
    "duration": 5164,
    "start_time": "2023-01-27T19:33:57.716Z"
   },
   {
    "duration": 8,
    "start_time": "2023-01-27T19:40:30.373Z"
   },
   {
    "duration": 6,
    "start_time": "2023-01-27T19:40:35.559Z"
   },
   {
    "duration": 32,
    "start_time": "2023-01-27T19:40:47.028Z"
   },
   {
    "duration": 39,
    "start_time": "2023-01-27T19:41:09.662Z"
   },
   {
    "duration": 8,
    "start_time": "2023-01-27T19:45:15.446Z"
   },
   {
    "duration": 7,
    "start_time": "2023-01-27T19:45:42.262Z"
   },
   {
    "duration": 5,
    "start_time": "2023-01-27T19:53:07.306Z"
   },
   {
    "duration": 16,
    "start_time": "2023-01-27T19:53:56.310Z"
   },
   {
    "duration": 7,
    "start_time": "2023-01-27T19:55:04.670Z"
   },
   {
    "duration": 8,
    "start_time": "2023-01-27T19:55:19.230Z"
   },
   {
    "duration": 8,
    "start_time": "2023-01-27T19:55:27.342Z"
   },
   {
    "duration": 8,
    "start_time": "2023-01-27T19:55:41.326Z"
   },
   {
    "duration": 17,
    "start_time": "2023-01-27T19:57:44.638Z"
   },
   {
    "duration": 43,
    "start_time": "2023-01-27T19:57:53.008Z"
   },
   {
    "duration": 42,
    "start_time": "2023-01-27T19:58:17.863Z"
   },
   {
    "duration": 47,
    "start_time": "2023-01-27T19:58:45.776Z"
   },
   {
    "duration": 13,
    "start_time": "2023-01-27T19:59:27.078Z"
   },
   {
    "duration": 8,
    "start_time": "2023-01-27T19:59:44.833Z"
   },
   {
    "duration": 13,
    "start_time": "2023-01-27T19:59:54.090Z"
   },
   {
    "duration": 13,
    "start_time": "2023-01-27T20:04:18.518Z"
   },
   {
    "duration": 4,
    "start_time": "2023-01-27T20:06:39.127Z"
   },
   {
    "duration": 16,
    "start_time": "2023-01-27T20:07:18.054Z"
   },
   {
    "duration": 32,
    "start_time": "2023-01-27T20:07:38.503Z"
   },
   {
    "duration": 759,
    "start_time": "2023-01-27T20:09:10.808Z"
   },
   {
    "duration": 33,
    "start_time": "2023-01-27T20:09:30.365Z"
   },
   {
    "duration": 7,
    "start_time": "2023-01-27T20:09:56.975Z"
   },
   {
    "duration": 5,
    "start_time": "2023-01-27T20:10:05.463Z"
   },
   {
    "duration": 10,
    "start_time": "2023-01-27T20:10:25.208Z"
   },
   {
    "duration": 45,
    "start_time": "2023-01-27T20:12:04.376Z"
   },
   {
    "duration": 32,
    "start_time": "2023-01-27T20:12:11.243Z"
   },
   {
    "duration": 1637,
    "start_time": "2023-01-27T20:12:30.623Z"
   },
   {
    "duration": 1676,
    "start_time": "2023-01-27T20:13:01.224Z"
   },
   {
    "duration": 1338,
    "start_time": "2023-01-27T20:13:06.042Z"
   },
   {
    "duration": 29,
    "start_time": "2023-01-27T20:19:21.049Z"
   },
   {
    "duration": 5,
    "start_time": "2023-01-27T20:19:27.201Z"
   },
   {
    "duration": 11,
    "start_time": "2023-01-27T20:20:19.658Z"
   },
   {
    "duration": 28,
    "start_time": "2023-01-27T20:20:43.922Z"
   },
   {
    "duration": 9,
    "start_time": "2023-01-27T20:20:47.172Z"
   },
   {
    "duration": 114,
    "start_time": "2023-01-27T20:22:42.056Z"
   },
   {
    "duration": 39,
    "start_time": "2023-01-27T20:22:44.539Z"
   },
   {
    "duration": 4664,
    "start_time": "2023-01-27T20:22:46.833Z"
   },
   {
    "duration": 12,
    "start_time": "2023-01-27T20:23:01.482Z"
   },
   {
    "duration": 6,
    "start_time": "2023-01-27T20:23:09.355Z"
   },
   {
    "duration": 4,
    "start_time": "2023-01-27T20:23:11.619Z"
   },
   {
    "duration": 5,
    "start_time": "2023-01-27T20:23:14.097Z"
   },
   {
    "duration": 1332,
    "start_time": "2023-01-27T20:23:17.227Z"
   },
   {
    "duration": 1449,
    "start_time": "2023-01-27T20:23:21.682Z"
   },
   {
    "duration": 1289,
    "start_time": "2023-01-27T20:24:08.105Z"
   },
   {
    "duration": 1301,
    "start_time": "2023-01-27T20:24:15.514Z"
   },
   {
    "duration": 31,
    "start_time": "2023-01-27T20:24:19.161Z"
   },
   {
    "duration": 33,
    "start_time": "2023-01-27T20:24:33.288Z"
   },
   {
    "duration": 1333,
    "start_time": "2023-01-27T20:24:47.046Z"
   },
   {
    "duration": 40,
    "start_time": "2023-01-27T20:24:49.668Z"
   },
   {
    "duration": 32,
    "start_time": "2023-01-27T20:24:54.228Z"
   },
   {
    "duration": 9,
    "start_time": "2023-01-27T20:25:02.245Z"
   },
   {
    "duration": 6,
    "start_time": "2023-01-27T20:27:02.105Z"
   },
   {
    "duration": 10,
    "start_time": "2023-01-27T20:27:04.920Z"
   },
   {
    "duration": 32,
    "start_time": "2023-01-27T20:27:55.265Z"
   },
   {
    "duration": 9,
    "start_time": "2023-01-27T20:27:59.131Z"
   },
   {
    "duration": 9,
    "start_time": "2023-01-27T20:28:26.401Z"
   },
   {
    "duration": 32,
    "start_time": "2023-01-27T20:29:10.617Z"
   },
   {
    "duration": 31,
    "start_time": "2023-01-27T20:29:16.402Z"
   },
   {
    "duration": 10,
    "start_time": "2023-01-27T20:29:19.999Z"
   },
   {
    "duration": 10,
    "start_time": "2023-01-27T20:31:47.153Z"
   },
   {
    "duration": 27,
    "start_time": "2023-01-27T20:32:13.890Z"
   },
   {
    "duration": 9,
    "start_time": "2023-01-27T20:32:16.585Z"
   },
   {
    "duration": 32,
    "start_time": "2023-01-27T20:32:25.138Z"
   },
   {
    "duration": 14,
    "start_time": "2023-01-27T20:35:07.526Z"
   },
   {
    "duration": 6,
    "start_time": "2023-01-27T20:36:41.810Z"
   },
   {
    "duration": 26,
    "start_time": "2023-01-27T20:36:51.874Z"
   },
   {
    "duration": 9,
    "start_time": "2023-01-27T20:37:01.195Z"
   },
   {
    "duration": 108,
    "start_time": "2023-01-27T20:37:45.823Z"
   },
   {
    "duration": 60,
    "start_time": "2023-01-27T20:37:45.933Z"
   },
   {
    "duration": 4413,
    "start_time": "2023-01-27T20:37:45.995Z"
   },
   {
    "duration": 10,
    "start_time": "2023-01-27T20:37:50.410Z"
   },
   {
    "duration": 12,
    "start_time": "2023-01-27T20:37:50.422Z"
   },
   {
    "duration": 5,
    "start_time": "2023-01-27T20:37:50.436Z"
   },
   {
    "duration": 9,
    "start_time": "2023-01-27T20:37:50.443Z"
   },
   {
    "duration": 8,
    "start_time": "2023-01-27T20:37:50.454Z"
   },
   {
    "duration": 48,
    "start_time": "2023-01-27T20:37:50.464Z"
   },
   {
    "duration": 29,
    "start_time": "2023-01-27T20:37:50.515Z"
   },
   {
    "duration": 48,
    "start_time": "2023-01-27T20:37:50.546Z"
   },
   {
    "duration": 11,
    "start_time": "2023-01-27T20:37:50.596Z"
   },
   {
    "duration": 37,
    "start_time": "2023-01-27T20:37:50.609Z"
   },
   {
    "duration": 9,
    "start_time": "2023-01-27T20:37:50.648Z"
   },
   {
    "duration": 20,
    "start_time": "2023-01-27T20:37:50.659Z"
   },
   {
    "duration": 19,
    "start_time": "2023-01-27T20:37:50.681Z"
   },
   {
    "duration": 10,
    "start_time": "2023-01-27T20:37:50.702Z"
   },
   {
    "duration": 26,
    "start_time": "2023-01-27T20:37:50.714Z"
   },
   {
    "duration": 20,
    "start_time": "2023-01-27T20:37:50.742Z"
   },
   {
    "duration": 11,
    "start_time": "2023-01-27T20:37:50.764Z"
   },
   {
    "duration": 52,
    "start_time": "2023-01-27T20:37:50.776Z"
   },
   {
    "duration": 12,
    "start_time": "2023-01-27T20:37:50.829Z"
   },
   {
    "duration": 25,
    "start_time": "2023-01-27T20:37:50.843Z"
   },
   {
    "duration": 35,
    "start_time": "2023-01-27T20:37:50.870Z"
   },
   {
    "duration": 14,
    "start_time": "2023-01-27T20:37:50.907Z"
   },
   {
    "duration": 49,
    "start_time": "2023-01-27T20:37:50.922Z"
   },
   {
    "duration": 8,
    "start_time": "2023-01-27T20:37:50.973Z"
   },
   {
    "duration": 26,
    "start_time": "2023-01-27T20:37:50.985Z"
   },
   {
    "duration": 28,
    "start_time": "2023-01-27T20:37:51.013Z"
   },
   {
    "duration": 20,
    "start_time": "2023-01-27T20:37:51.043Z"
   },
   {
    "duration": 19,
    "start_time": "2023-01-27T20:37:51.065Z"
   },
   {
    "duration": 18,
    "start_time": "2023-01-27T20:37:51.086Z"
   },
   {
    "duration": 291,
    "start_time": "2023-01-27T20:37:51.106Z"
   },
   {
    "duration": 6,
    "start_time": "2023-01-27T20:37:51.399Z"
   },
   {
    "duration": 59,
    "start_time": "2023-01-27T20:37:51.406Z"
   },
   {
    "duration": 28,
    "start_time": "2023-01-27T20:37:51.467Z"
   },
   {
    "duration": 282,
    "start_time": "2023-01-27T20:37:51.496Z"
   },
   {
    "duration": 10,
    "start_time": "2023-01-27T20:37:51.783Z"
   },
   {
    "duration": 282,
    "start_time": "2023-01-27T20:37:51.795Z"
   },
   {
    "duration": 13,
    "start_time": "2023-01-27T20:37:52.084Z"
   },
   {
    "duration": 286,
    "start_time": "2023-01-27T20:37:52.100Z"
   },
   {
    "duration": 10,
    "start_time": "2023-01-27T20:37:52.388Z"
   },
   {
    "duration": 757,
    "start_time": "2023-01-27T20:37:52.399Z"
   },
   {
    "duration": 3,
    "start_time": "2023-01-27T20:50:23.721Z"
   },
   {
    "duration": 6,
    "start_time": "2023-01-27T20:50:34.792Z"
   },
   {
    "duration": 4,
    "start_time": "2023-01-27T20:50:38.856Z"
   },
   {
    "duration": 10,
    "start_time": "2023-01-27T20:50:40.625Z"
   },
   {
    "duration": 12,
    "start_time": "2023-01-27T20:51:35.025Z"
   },
   {
    "duration": 11,
    "start_time": "2023-01-27T20:51:59.185Z"
   },
   {
    "duration": 5,
    "start_time": "2023-01-27T20:56:42.185Z"
   },
   {
    "duration": 5,
    "start_time": "2023-01-27T20:56:54.345Z"
   },
   {
    "duration": 6,
    "start_time": "2023-01-27T20:57:26.336Z"
   },
   {
    "duration": 7,
    "start_time": "2023-01-27T20:57:29.329Z"
   },
   {
    "duration": 12,
    "start_time": "2023-01-27T20:57:38.106Z"
   },
   {
    "duration": 18,
    "start_time": "2023-01-27T20:57:47.313Z"
   },
   {
    "duration": 18,
    "start_time": "2023-01-27T20:57:53.290Z"
   },
   {
    "duration": 18,
    "start_time": "2023-01-27T20:58:01.019Z"
   },
   {
    "duration": 105,
    "start_time": "2023-01-27T20:58:08.679Z"
   },
   {
    "duration": 41,
    "start_time": "2023-01-27T20:58:08.786Z"
   },
   {
    "duration": 4502,
    "start_time": "2023-01-27T20:58:08.829Z"
   },
   {
    "duration": 13,
    "start_time": "2023-01-27T20:58:13.334Z"
   },
   {
    "duration": 8,
    "start_time": "2023-01-27T20:58:13.349Z"
   },
   {
    "duration": 33,
    "start_time": "2023-01-27T20:58:13.359Z"
   },
   {
    "duration": 9,
    "start_time": "2023-01-27T20:58:13.394Z"
   },
   {
    "duration": 9,
    "start_time": "2023-01-27T20:58:13.405Z"
   },
   {
    "duration": 44,
    "start_time": "2023-01-27T20:58:13.416Z"
   },
   {
    "duration": 50,
    "start_time": "2023-01-27T20:58:13.464Z"
   },
   {
    "duration": 32,
    "start_time": "2023-01-27T20:58:13.517Z"
   },
   {
    "duration": 9,
    "start_time": "2023-01-27T20:58:13.550Z"
   },
   {
    "duration": 16,
    "start_time": "2023-01-27T20:58:13.583Z"
   },
   {
    "duration": 10,
    "start_time": "2023-01-27T20:58:13.601Z"
   },
   {
    "duration": 12,
    "start_time": "2023-01-27T20:58:13.612Z"
   },
   {
    "duration": 6,
    "start_time": "2023-01-27T20:58:13.626Z"
   },
   {
    "duration": 6,
    "start_time": "2023-01-27T20:58:13.634Z"
   },
   {
    "duration": 8,
    "start_time": "2023-01-27T20:58:13.642Z"
   },
   {
    "duration": 42,
    "start_time": "2023-01-27T20:58:13.652Z"
   },
   {
    "duration": 15,
    "start_time": "2023-01-27T20:58:13.696Z"
   },
   {
    "duration": 29,
    "start_time": "2023-01-27T20:58:13.713Z"
   },
   {
    "duration": 11,
    "start_time": "2023-01-27T20:58:13.743Z"
   },
   {
    "duration": 7,
    "start_time": "2023-01-27T20:58:13.755Z"
   },
   {
    "duration": 12,
    "start_time": "2023-01-27T20:58:13.764Z"
   },
   {
    "duration": 16,
    "start_time": "2023-01-27T20:58:13.777Z"
   },
   {
    "duration": 8,
    "start_time": "2023-01-27T20:58:13.795Z"
   },
   {
    "duration": 6,
    "start_time": "2023-01-27T20:58:18.731Z"
   },
   {
    "duration": 9,
    "start_time": "2023-01-27T20:59:48.332Z"
   },
   {
    "duration": 7,
    "start_time": "2023-01-27T20:59:59.992Z"
   },
   {
    "duration": 9,
    "start_time": "2023-01-27T21:00:54.360Z"
   },
   {
    "duration": 6,
    "start_time": "2023-01-27T21:00:55.882Z"
   },
   {
    "duration": 8,
    "start_time": "2023-01-27T21:01:00.851Z"
   },
   {
    "duration": 6,
    "start_time": "2023-01-27T21:01:08.872Z"
   },
   {
    "duration": 6,
    "start_time": "2023-01-27T21:01:11.050Z"
   },
   {
    "duration": 6,
    "start_time": "2023-01-27T21:01:12.560Z"
   },
   {
    "duration": 5,
    "start_time": "2023-01-27T21:01:12.980Z"
   },
   {
    "duration": 239,
    "start_time": "2023-01-27T21:01:32.887Z"
   },
   {
    "duration": 5,
    "start_time": "2023-01-27T21:01:41.841Z"
   },
   {
    "duration": 33,
    "start_time": "2023-01-27T21:01:44.721Z"
   },
   {
    "duration": 14,
    "start_time": "2023-01-27T21:02:43.264Z"
   },
   {
    "duration": 847,
    "start_time": "2023-01-27T21:02:52.220Z"
   },
   {
    "duration": 9,
    "start_time": "2023-01-27T21:03:00.937Z"
   },
   {
    "duration": 266,
    "start_time": "2023-01-27T21:03:10.972Z"
   },
   {
    "duration": 10,
    "start_time": "2023-01-27T21:03:26.977Z"
   },
   {
    "duration": 250,
    "start_time": "2023-01-27T21:03:34.761Z"
   },
   {
    "duration": 9,
    "start_time": "2023-01-27T21:04:48.375Z"
   },
   {
    "duration": 8,
    "start_time": "2023-01-27T21:05:12.569Z"
   },
   {
    "duration": 9,
    "start_time": "2023-01-27T21:05:18.408Z"
   },
   {
    "duration": 246,
    "start_time": "2023-01-27T21:05:21.511Z"
   },
   {
    "duration": 10,
    "start_time": "2023-01-27T21:05:24.321Z"
   },
   {
    "duration": 270,
    "start_time": "2023-01-27T21:05:32.825Z"
   },
   {
    "duration": 9,
    "start_time": "2023-01-27T21:05:41.073Z"
   },
   {
    "duration": 265,
    "start_time": "2023-01-27T21:05:45.376Z"
   },
   {
    "duration": 12,
    "start_time": "2023-01-27T21:07:35.288Z"
   },
   {
    "duration": 3,
    "start_time": "2023-01-27T21:07:40.154Z"
   },
   {
    "duration": 7,
    "start_time": "2023-01-27T21:07:57.081Z"
   },
   {
    "duration": 108,
    "start_time": "2023-01-27T21:08:23.113Z"
   },
   {
    "duration": 37,
    "start_time": "2023-01-27T21:08:23.222Z"
   },
   {
    "duration": 3893,
    "start_time": "2023-01-27T21:08:23.261Z"
   },
   {
    "duration": 9,
    "start_time": "2023-01-27T21:08:27.157Z"
   },
   {
    "duration": 21,
    "start_time": "2023-01-27T21:08:27.168Z"
   },
   {
    "duration": 5,
    "start_time": "2023-01-27T21:08:27.191Z"
   },
   {
    "duration": 8,
    "start_time": "2023-01-27T21:08:27.197Z"
   },
   {
    "duration": 10,
    "start_time": "2023-01-27T21:08:27.207Z"
   },
   {
    "duration": 32,
    "start_time": "2023-01-27T21:08:27.219Z"
   },
   {
    "duration": 51,
    "start_time": "2023-01-27T21:08:27.253Z"
   },
   {
    "duration": 32,
    "start_time": "2023-01-27T21:08:27.306Z"
   },
   {
    "duration": 9,
    "start_time": "2023-01-27T21:08:27.340Z"
   },
   {
    "duration": 716,
    "start_time": "2023-01-27T21:08:27.351Z"
   },
   {
    "duration": 17,
    "start_time": "2023-01-27T21:08:28.068Z"
   },
   {
    "duration": 11,
    "start_time": "2023-01-27T21:08:28.087Z"
   },
   {
    "duration": 7,
    "start_time": "2023-01-27T21:08:28.100Z"
   },
   {
    "duration": 5,
    "start_time": "2023-01-27T21:08:28.108Z"
   },
   {
    "duration": 13,
    "start_time": "2023-01-27T21:08:28.114Z"
   },
   {
    "duration": 8,
    "start_time": "2023-01-27T21:08:28.129Z"
   },
   {
    "duration": 12,
    "start_time": "2023-01-27T21:08:28.139Z"
   },
   {
    "duration": 38,
    "start_time": "2023-01-27T21:08:28.153Z"
   },
   {
    "duration": 12,
    "start_time": "2023-01-27T21:08:28.193Z"
   },
   {
    "duration": 8,
    "start_time": "2023-01-27T21:08:28.206Z"
   },
   {
    "duration": 12,
    "start_time": "2023-01-27T21:08:28.216Z"
   },
   {
    "duration": 13,
    "start_time": "2023-01-27T21:08:28.230Z"
   },
   {
    "duration": 7,
    "start_time": "2023-01-27T21:08:28.244Z"
   },
   {
    "duration": 31,
    "start_time": "2023-01-27T21:08:28.253Z"
   },
   {
    "duration": 6,
    "start_time": "2023-01-27T21:08:43.640Z"
   },
   {
    "duration": 9,
    "start_time": "2023-01-27T21:08:47.568Z"
   },
   {
    "duration": 6,
    "start_time": "2023-01-27T21:09:12.010Z"
   },
   {
    "duration": 6,
    "start_time": "2023-01-27T21:09:23.205Z"
   },
   {
    "duration": 8,
    "start_time": "2023-01-27T21:09:40.911Z"
   },
   {
    "duration": 5,
    "start_time": "2023-01-27T21:09:47.266Z"
   },
   {
    "duration": 8,
    "start_time": "2023-01-27T21:09:49.618Z"
   },
   {
    "duration": 6,
    "start_time": "2023-01-27T21:09:49.809Z"
   },
   {
    "duration": 7,
    "start_time": "2023-01-27T21:09:50.010Z"
   },
   {
    "duration": 241,
    "start_time": "2023-01-27T21:09:50.714Z"
   },
   {
    "duration": 5,
    "start_time": "2023-01-27T21:09:52.369Z"
   },
   {
    "duration": 35,
    "start_time": "2023-01-27T21:09:52.910Z"
   },
   {
    "duration": 16,
    "start_time": "2023-01-27T21:10:12.137Z"
   },
   {
    "duration": 10,
    "start_time": "2023-01-27T21:12:58.986Z"
   },
   {
    "duration": 10,
    "start_time": "2023-01-27T21:13:03.089Z"
   },
   {
    "duration": 255,
    "start_time": "2023-01-27T21:13:06.018Z"
   },
   {
    "duration": 11,
    "start_time": "2023-01-27T21:13:14.130Z"
   },
   {
    "duration": 777,
    "start_time": "2023-01-27T21:13:16.707Z"
   },
   {
    "duration": 9,
    "start_time": "2023-01-27T21:22:42.828Z"
   },
   {
    "duration": 10,
    "start_time": "2023-01-27T21:22:53.948Z"
   },
   {
    "duration": 8,
    "start_time": "2023-01-27T21:23:02.510Z"
   },
   {
    "duration": 10,
    "start_time": "2023-01-27T21:23:33.757Z"
   },
   {
    "duration": 702,
    "start_time": "2023-01-27T21:23:53.796Z"
   },
   {
    "duration": 9,
    "start_time": "2023-01-27T21:24:08.284Z"
   },
   {
    "duration": 10,
    "start_time": "2023-01-27T21:24:43.045Z"
   },
   {
    "duration": 10,
    "start_time": "2023-01-27T21:25:26.408Z"
   },
   {
    "duration": 10,
    "start_time": "2023-01-27T21:26:04.418Z"
   },
   {
    "duration": 9,
    "start_time": "2023-01-27T21:26:47.174Z"
   },
   {
    "duration": 693,
    "start_time": "2023-01-27T21:27:02.978Z"
   },
   {
    "duration": 8,
    "start_time": "2023-01-27T21:27:08.397Z"
   },
   {
    "duration": 823,
    "start_time": "2023-01-27T21:27:31.329Z"
   },
   {
    "duration": 209,
    "start_time": "2023-01-27T21:27:51.197Z"
   },
   {
    "duration": 156,
    "start_time": "2023-01-27T21:27:58.524Z"
   },
   {
    "duration": 162,
    "start_time": "2023-01-27T21:28:03.700Z"
   },
   {
    "duration": 264,
    "start_time": "2023-01-27T21:28:40.292Z"
   },
   {
    "duration": 266,
    "start_time": "2023-01-27T21:28:51.222Z"
   },
   {
    "duration": 165,
    "start_time": "2023-01-27T21:28:56.799Z"
   },
   {
    "duration": 177,
    "start_time": "2023-01-27T21:29:55.999Z"
   },
   {
    "duration": 163,
    "start_time": "2023-01-27T21:30:33.375Z"
   },
   {
    "duration": 174,
    "start_time": "2023-01-27T21:30:43.261Z"
   },
   {
    "duration": 165,
    "start_time": "2023-01-27T21:31:04.173Z"
   },
   {
    "duration": 155,
    "start_time": "2023-01-27T21:31:08.413Z"
   },
   {
    "duration": 142,
    "start_time": "2023-01-27T21:31:30.725Z"
   },
   {
    "duration": 208,
    "start_time": "2023-01-27T21:31:39.722Z"
   },
   {
    "duration": 182,
    "start_time": "2023-01-27T21:32:41.213Z"
   },
   {
    "duration": 206,
    "start_time": "2023-01-27T21:33:22.021Z"
   },
   {
    "duration": 16,
    "start_time": "2023-01-27T21:38:19.842Z"
   },
   {
    "duration": 630,
    "start_time": "2023-01-27T21:41:02.299Z"
   },
   {
    "duration": 47,
    "start_time": "2023-01-27T21:43:47.063Z"
   },
   {
    "duration": 15,
    "start_time": "2023-01-27T21:44:04.454Z"
   },
   {
    "duration": 15,
    "start_time": "2023-01-27T21:44:14.117Z"
   },
   {
    "duration": 11,
    "start_time": "2023-01-27T21:44:43.072Z"
   },
   {
    "duration": 231,
    "start_time": "2023-01-27T21:45:01.629Z"
   },
   {
    "duration": 15,
    "start_time": "2023-01-27T21:45:16.290Z"
   },
   {
    "duration": 27,
    "start_time": "2023-01-27T21:45:53.839Z"
   },
   {
    "duration": 33,
    "start_time": "2023-01-27T21:46:15.266Z"
   },
   {
    "duration": 27,
    "start_time": "2023-01-27T21:47:02.635Z"
   },
   {
    "duration": 12,
    "start_time": "2023-01-27T21:47:29.158Z"
   },
   {
    "duration": 26,
    "start_time": "2023-01-27T21:47:43.298Z"
   },
   {
    "duration": 14,
    "start_time": "2023-01-27T21:48:48.210Z"
   },
   {
    "duration": 697,
    "start_time": "2023-01-27T21:49:07.577Z"
   },
   {
    "duration": 18,
    "start_time": "2023-01-27T21:49:18.710Z"
   },
   {
    "duration": 18,
    "start_time": "2023-01-27T21:49:57.726Z"
   },
   {
    "duration": 11,
    "start_time": "2023-01-27T21:50:56.354Z"
   },
   {
    "duration": 13,
    "start_time": "2023-01-27T21:51:03.769Z"
   },
   {
    "duration": 13,
    "start_time": "2023-01-27T21:51:33.511Z"
   },
   {
    "duration": 10,
    "start_time": "2023-01-27T21:52:18.831Z"
   },
   {
    "duration": 10,
    "start_time": "2023-01-27T21:52:24.148Z"
   },
   {
    "duration": 11,
    "start_time": "2023-01-27T21:52:32.604Z"
   },
   {
    "duration": 11,
    "start_time": "2023-01-27T21:52:35.151Z"
   },
   {
    "duration": 14,
    "start_time": "2023-01-27T21:52:42.640Z"
   },
   {
    "duration": 763,
    "start_time": "2023-01-27T21:55:50.512Z"
   },
   {
    "duration": 16,
    "start_time": "2023-01-27T21:58:00.354Z"
   },
   {
    "duration": 705,
    "start_time": "2023-01-27T21:58:12.326Z"
   },
   {
    "duration": 20,
    "start_time": "2023-01-27T21:58:19.586Z"
   },
   {
    "duration": 1389,
    "start_time": "2023-01-27T21:58:44.658Z"
   },
   {
    "duration": 17,
    "start_time": "2023-01-27T22:02:08.547Z"
   },
   {
    "duration": 111,
    "start_time": "2023-01-27T22:08:48.243Z"
   },
   {
    "duration": 699,
    "start_time": "2023-01-27T22:09:35.291Z"
   },
   {
    "duration": 10,
    "start_time": "2023-01-27T22:10:34.522Z"
   },
   {
    "duration": 759,
    "start_time": "2023-01-27T22:10:46.786Z"
   },
   {
    "duration": 17,
    "start_time": "2023-01-27T22:11:02.748Z"
   },
   {
    "duration": 13,
    "start_time": "2023-01-27T22:11:23.639Z"
   },
   {
    "duration": 119,
    "start_time": "2023-01-27T22:11:36.070Z"
   },
   {
    "duration": 14,
    "start_time": "2023-01-27T22:12:57.115Z"
   },
   {
    "duration": 113,
    "start_time": "2023-01-27T22:13:00.426Z"
   },
   {
    "duration": 135,
    "start_time": "2023-01-27T22:13:12.122Z"
   },
   {
    "duration": 122,
    "start_time": "2023-01-27T22:13:20.650Z"
   },
   {
    "duration": 138,
    "start_time": "2023-01-27T22:14:02.490Z"
   },
   {
    "duration": 131,
    "start_time": "2023-01-27T22:14:16.527Z"
   },
   {
    "duration": 117,
    "start_time": "2023-01-27T22:14:27.358Z"
   },
   {
    "duration": 14,
    "start_time": "2023-01-27T22:15:46.971Z"
   },
   {
    "duration": 116,
    "start_time": "2023-01-27T22:15:58.612Z"
   },
   {
    "duration": 103,
    "start_time": "2023-01-27T22:17:03.643Z"
   },
   {
    "duration": 30,
    "start_time": "2023-01-27T22:17:24.339Z"
   },
   {
    "duration": 23,
    "start_time": "2023-01-27T22:18:36.371Z"
   },
   {
    "duration": 114,
    "start_time": "2023-01-27T22:18:49.770Z"
   },
   {
    "duration": 646,
    "start_time": "2023-01-27T22:22:51.034Z"
   },
   {
    "duration": 106,
    "start_time": "2023-01-27T22:22:58.059Z"
   },
   {
    "duration": 40,
    "start_time": "2023-01-27T22:22:58.184Z"
   },
   {
    "duration": 4796,
    "start_time": "2023-01-27T22:22:58.226Z"
   },
   {
    "duration": 10,
    "start_time": "2023-01-27T22:23:03.024Z"
   },
   {
    "duration": 11,
    "start_time": "2023-01-27T22:23:03.036Z"
   },
   {
    "duration": 13,
    "start_time": "2023-01-27T22:23:03.049Z"
   },
   {
    "duration": 28,
    "start_time": "2023-01-27T22:23:03.064Z"
   },
   {
    "duration": 14,
    "start_time": "2023-01-27T22:23:03.093Z"
   },
   {
    "duration": 47,
    "start_time": "2023-01-27T22:23:03.108Z"
   },
   {
    "duration": 31,
    "start_time": "2023-01-27T22:23:03.158Z"
   },
   {
    "duration": 33,
    "start_time": "2023-01-27T22:23:03.191Z"
   },
   {
    "duration": 10,
    "start_time": "2023-01-27T22:23:03.226Z"
   },
   {
    "duration": 19,
    "start_time": "2023-01-27T22:23:03.238Z"
   },
   {
    "duration": 28,
    "start_time": "2023-01-27T22:23:03.259Z"
   },
   {
    "duration": 27,
    "start_time": "2023-01-27T22:23:03.289Z"
   },
   {
    "duration": 21,
    "start_time": "2023-01-27T22:23:03.318Z"
   },
   {
    "duration": 5,
    "start_time": "2023-01-27T22:23:03.341Z"
   },
   {
    "duration": 16,
    "start_time": "2023-01-27T22:23:03.348Z"
   },
   {
    "duration": 21,
    "start_time": "2023-01-27T22:23:03.366Z"
   },
   {
    "duration": 16,
    "start_time": "2023-01-27T22:23:03.389Z"
   },
   {
    "duration": 36,
    "start_time": "2023-01-27T22:23:03.407Z"
   },
   {
    "duration": 27,
    "start_time": "2023-01-27T22:23:03.445Z"
   },
   {
    "duration": 27,
    "start_time": "2023-01-27T22:23:03.474Z"
   },
   {
    "duration": 11,
    "start_time": "2023-01-27T22:23:03.503Z"
   },
   {
    "duration": 36,
    "start_time": "2023-01-27T22:23:03.515Z"
   },
   {
    "duration": 28,
    "start_time": "2023-01-27T22:23:03.553Z"
   },
   {
    "duration": 20,
    "start_time": "2023-01-27T22:23:03.582Z"
   },
   {
    "duration": 10,
    "start_time": "2023-01-27T22:23:03.607Z"
   },
   {
    "duration": 18,
    "start_time": "2023-01-27T22:23:03.618Z"
   },
   {
    "duration": 16,
    "start_time": "2023-01-27T22:23:03.638Z"
   },
   {
    "duration": 11,
    "start_time": "2023-01-27T22:23:03.656Z"
   },
   {
    "duration": 6,
    "start_time": "2023-01-27T22:23:03.668Z"
   },
   {
    "duration": 11,
    "start_time": "2023-01-27T22:23:03.675Z"
   },
   {
    "duration": 7,
    "start_time": "2023-01-27T22:23:03.687Z"
   },
   {
    "duration": 8,
    "start_time": "2023-01-27T22:23:03.696Z"
   },
   {
    "duration": 250,
    "start_time": "2023-01-27T22:23:03.706Z"
   },
   {
    "duration": 5,
    "start_time": "2023-01-27T22:23:03.958Z"
   },
   {
    "duration": 42,
    "start_time": "2023-01-27T22:23:03.965Z"
   },
   {
    "duration": 9,
    "start_time": "2023-01-27T22:23:04.009Z"
   },
   {
    "duration": 268,
    "start_time": "2023-01-27T22:23:04.019Z"
   },
   {
    "duration": 9,
    "start_time": "2023-01-27T22:23:04.288Z"
   },
   {
    "duration": 280,
    "start_time": "2023-01-27T22:23:04.299Z"
   },
   {
    "duration": 9,
    "start_time": "2023-01-27T22:23:04.584Z"
   },
   {
    "duration": 283,
    "start_time": "2023-01-27T22:23:04.595Z"
   },
   {
    "duration": 10,
    "start_time": "2023-01-27T22:23:04.883Z"
   },
   {
    "duration": 794,
    "start_time": "2023-01-27T22:23:04.894Z"
   },
   {
    "duration": 10,
    "start_time": "2023-01-27T22:23:05.690Z"
   },
   {
    "duration": 180,
    "start_time": "2023-01-27T22:23:05.702Z"
   },
   {
    "duration": 9,
    "start_time": "2023-01-27T22:23:05.885Z"
   },
   {
    "duration": 169,
    "start_time": "2023-01-27T22:23:05.896Z"
   },
   {
    "duration": 18,
    "start_time": "2023-01-27T22:23:06.067Z"
   },
   {
    "duration": 161,
    "start_time": "2023-01-27T22:23:06.087Z"
   },
   {
    "duration": 10,
    "start_time": "2023-01-27T22:23:06.250Z"
   },
   {
    "duration": 32,
    "start_time": "2023-01-27T22:23:06.261Z"
   },
   {
    "duration": 117,
    "start_time": "2023-01-27T22:23:06.295Z"
   },
   {
    "duration": 9,
    "start_time": "2023-01-27T22:23:06.414Z"
   },
   {
    "duration": 184,
    "start_time": "2023-01-27T22:23:06.424Z"
   },
   {
    "duration": 9,
    "start_time": "2023-01-27T22:23:06.610Z"
   },
   {
    "duration": 226,
    "start_time": "2023-01-27T22:23:06.621Z"
   },
   {
    "duration": 9,
    "start_time": "2023-01-27T22:23:06.849Z"
   },
   {
    "duration": 189,
    "start_time": "2023-01-27T22:23:06.860Z"
   },
   {
    "duration": 11,
    "start_time": "2023-01-27T22:23:07.051Z"
   },
   {
    "duration": 212,
    "start_time": "2023-01-27T22:23:07.064Z"
   },
   {
    "duration": 13,
    "start_time": "2023-01-27T22:23:07.278Z"
   },
   {
    "duration": 233,
    "start_time": "2023-01-27T22:23:07.293Z"
   },
   {
    "duration": 149,
    "start_time": "2023-01-27T22:24:09.085Z"
   },
   {
    "duration": 148,
    "start_time": "2023-01-27T22:24:23.213Z"
   },
   {
    "duration": 157,
    "start_time": "2023-01-27T22:24:28.846Z"
   },
   {
    "duration": 161,
    "start_time": "2023-01-27T22:24:39.369Z"
   },
   {
    "duration": 150,
    "start_time": "2023-01-27T22:24:43.987Z"
   },
   {
    "duration": 145,
    "start_time": "2023-01-27T22:24:56.075Z"
   },
   {
    "duration": 684,
    "start_time": "2023-01-27T22:25:22.058Z"
   },
   {
    "duration": 133,
    "start_time": "2023-01-27T22:25:32.778Z"
   },
   {
    "duration": 139,
    "start_time": "2023-01-27T22:25:42.195Z"
   },
   {
    "duration": 140,
    "start_time": "2023-01-27T22:25:46.756Z"
   },
   {
    "duration": 146,
    "start_time": "2023-01-27T22:26:05.906Z"
   },
   {
    "duration": 159,
    "start_time": "2023-01-27T22:27:07.707Z"
   },
   {
    "duration": 147,
    "start_time": "2023-01-27T22:27:14.608Z"
   },
   {
    "duration": 146,
    "start_time": "2023-01-27T22:27:26.227Z"
   },
   {
    "duration": 10,
    "start_time": "2023-01-27T22:29:50.091Z"
   },
   {
    "duration": 230,
    "start_time": "2023-01-27T22:30:22.082Z"
   },
   {
    "duration": 226,
    "start_time": "2023-01-27T22:31:00.498Z"
   },
   {
    "duration": 222,
    "start_time": "2023-01-27T22:31:09.188Z"
   },
   {
    "duration": 257,
    "start_time": "2023-01-27T22:31:40.300Z"
   },
   {
    "duration": 237,
    "start_time": "2023-01-27T22:31:50.259Z"
   },
   {
    "duration": 47,
    "start_time": "2023-01-27T22:33:15.668Z"
   },
   {
    "duration": 46,
    "start_time": "2023-01-27T22:33:27.816Z"
   },
   {
    "duration": 238,
    "start_time": "2023-01-27T22:34:48.205Z"
   },
   {
    "duration": 1138,
    "start_time": "2023-01-27T22:35:02.995Z"
   },
   {
    "duration": 139,
    "start_time": "2023-01-27T22:35:42.458Z"
   },
   {
    "duration": 1142,
    "start_time": "2023-01-27T22:35:49.618Z"
   },
   {
    "duration": 226,
    "start_time": "2023-01-27T22:35:59.082Z"
   },
   {
    "duration": 226,
    "start_time": "2023-01-27T22:36:13.849Z"
   },
   {
    "duration": 227,
    "start_time": "2023-01-27T22:36:23.511Z"
   },
   {
    "duration": 246,
    "start_time": "2023-01-27T22:36:49.738Z"
   },
   {
    "duration": 231,
    "start_time": "2023-01-27T22:38:30.730Z"
   },
   {
    "duration": 231,
    "start_time": "2023-01-27T22:39:48.818Z"
   },
   {
    "duration": 255,
    "start_time": "2023-01-27T22:40:10.732Z"
   },
   {
    "duration": 19,
    "start_time": "2023-01-27T22:42:06.442Z"
   },
   {
    "duration": 32,
    "start_time": "2023-01-27T22:42:14.786Z"
   },
   {
    "duration": 9,
    "start_time": "2023-01-27T22:43:17.077Z"
   },
   {
    "duration": 8,
    "start_time": "2023-01-27T22:43:22.914Z"
   },
   {
    "duration": 48,
    "start_time": "2023-01-27T22:45:04.266Z"
   },
   {
    "duration": 39,
    "start_time": "2023-01-27T22:46:28.597Z"
   },
   {
    "duration": 1699,
    "start_time": "2023-01-29T08:57:32.445Z"
   },
   {
    "duration": 41,
    "start_time": "2023-01-29T08:57:40.260Z"
   },
   {
    "duration": 3886,
    "start_time": "2023-01-29T08:57:44.823Z"
   },
   {
    "duration": 9,
    "start_time": "2023-01-29T08:58:30.237Z"
   },
   {
    "duration": 6,
    "start_time": "2023-01-29T08:58:47.916Z"
   },
   {
    "duration": 4,
    "start_time": "2023-01-29T08:59:01.601Z"
   },
   {
    "duration": 5,
    "start_time": "2023-01-29T08:59:03.727Z"
   },
   {
    "duration": 6,
    "start_time": "2023-01-29T08:59:06.067Z"
   },
   {
    "duration": 31,
    "start_time": "2023-01-29T08:59:08.750Z"
   },
   {
    "duration": 29,
    "start_time": "2023-01-29T08:59:12.938Z"
   },
   {
    "duration": 31,
    "start_time": "2023-01-29T08:59:15.384Z"
   },
   {
    "duration": 9,
    "start_time": "2023-01-29T08:59:51.323Z"
   },
   {
    "duration": 15,
    "start_time": "2023-01-29T09:00:47.939Z"
   },
   {
    "duration": 8,
    "start_time": "2023-01-29T09:00:59.099Z"
   },
   {
    "duration": 6,
    "start_time": "2023-01-29T09:01:15.690Z"
   },
   {
    "duration": 5,
    "start_time": "2023-01-29T09:01:16.726Z"
   },
   {
    "duration": 4,
    "start_time": "2023-01-29T09:01:20.772Z"
   },
   {
    "duration": 5,
    "start_time": "2023-01-29T09:01:23.460Z"
   },
   {
    "duration": 8,
    "start_time": "2023-01-29T09:01:28.925Z"
   },
   {
    "duration": 5,
    "start_time": "2023-01-29T09:01:33.130Z"
   },
   {
    "duration": 25,
    "start_time": "2023-01-29T09:01:35.567Z"
   },
   {
    "duration": 5,
    "start_time": "2023-01-29T09:01:50.270Z"
   },
   {
    "duration": 23,
    "start_time": "2023-01-29T09:07:54.029Z"
   },
   {
    "duration": 92,
    "start_time": "2023-01-29T09:07:55.468Z"
   },
   {
    "duration": 13,
    "start_time": "2023-01-29T09:08:30.936Z"
   },
   {
    "duration": 14,
    "start_time": "2023-01-29T09:08:36.398Z"
   },
   {
    "duration": 13,
    "start_time": "2023-01-29T09:08:45.644Z"
   },
   {
    "duration": 106,
    "start_time": "2023-01-29T09:08:58.550Z"
   },
   {
    "duration": 55,
    "start_time": "2023-01-29T09:08:58.658Z"
   },
   {
    "duration": 4433,
    "start_time": "2023-01-29T09:08:58.715Z"
   },
   {
    "duration": 10,
    "start_time": "2023-01-29T09:09:03.151Z"
   },
   {
    "duration": 23,
    "start_time": "2023-01-29T09:09:03.163Z"
   },
   {
    "duration": 4,
    "start_time": "2023-01-29T09:09:03.189Z"
   },
   {
    "duration": 16,
    "start_time": "2023-01-29T09:09:03.195Z"
   },
   {
    "duration": 9,
    "start_time": "2023-01-29T09:09:03.214Z"
   },
   {
    "duration": 40,
    "start_time": "2023-01-29T09:09:03.225Z"
   },
   {
    "duration": 42,
    "start_time": "2023-01-29T09:09:03.267Z"
   },
   {
    "duration": 44,
    "start_time": "2023-01-29T09:09:03.311Z"
   },
   {
    "duration": 25,
    "start_time": "2023-01-29T09:09:03.357Z"
   },
   {
    "duration": 19,
    "start_time": "2023-01-29T09:09:03.385Z"
   },
   {
    "duration": 12,
    "start_time": "2023-01-29T09:09:03.406Z"
   },
   {
    "duration": 11,
    "start_time": "2023-01-29T09:09:03.420Z"
   },
   {
    "duration": 6,
    "start_time": "2023-01-29T09:09:03.434Z"
   },
   {
    "duration": 8,
    "start_time": "2023-01-29T09:09:03.443Z"
   },
   {
    "duration": 30,
    "start_time": "2023-01-29T09:09:03.453Z"
   },
   {
    "duration": 14,
    "start_time": "2023-01-29T09:09:03.485Z"
   },
   {
    "duration": 6,
    "start_time": "2023-01-29T09:09:11.124Z"
   },
   {
    "duration": 24,
    "start_time": "2023-01-29T09:09:12.902Z"
   },
   {
    "duration": 7,
    "start_time": "2023-01-29T09:09:17.228Z"
   },
   {
    "duration": 25,
    "start_time": "2023-01-29T09:10:06.528Z"
   },
   {
    "duration": 6,
    "start_time": "2023-01-29T09:10:08.004Z"
   },
   {
    "duration": 28,
    "start_time": "2023-01-29T09:11:51.924Z"
   },
   {
    "duration": 7,
    "start_time": "2023-01-29T09:11:53.277Z"
   },
   {
    "duration": 69,
    "start_time": "2023-01-29T09:12:05.522Z"
   },
   {
    "duration": 6,
    "start_time": "2023-01-29T09:12:46.156Z"
   },
   {
    "duration": 3,
    "start_time": "2023-01-29T09:12:47.654Z"
   },
   {
    "duration": 9,
    "start_time": "2023-01-29T09:12:48.640Z"
   },
   {
    "duration": 6,
    "start_time": "2023-01-29T09:12:54.779Z"
   },
   {
    "duration": 8,
    "start_time": "2023-01-29T09:12:55.900Z"
   },
   {
    "duration": 5,
    "start_time": "2023-01-29T09:12:59.221Z"
   },
   {
    "duration": 7,
    "start_time": "2023-01-29T09:13:02.059Z"
   },
   {
    "duration": 5,
    "start_time": "2023-01-29T09:13:03.227Z"
   },
   {
    "duration": 8,
    "start_time": "2023-01-29T09:13:13.623Z"
   },
   {
    "duration": 5,
    "start_time": "2023-01-29T09:13:34.749Z"
   },
   {
    "duration": 6,
    "start_time": "2023-01-29T09:13:38.725Z"
   },
   {
    "duration": 5,
    "start_time": "2023-01-29T09:13:39.226Z"
   },
   {
    "duration": 5,
    "start_time": "2023-01-29T09:13:39.726Z"
   },
   {
    "duration": 461,
    "start_time": "2023-01-29T09:13:42.335Z"
   },
   {
    "duration": 4,
    "start_time": "2023-01-29T09:13:45.372Z"
   },
   {
    "duration": 30,
    "start_time": "2023-01-29T09:13:47.766Z"
   },
   {
    "duration": 9,
    "start_time": "2023-01-29T09:13:59.279Z"
   },
   {
    "duration": 258,
    "start_time": "2023-01-29T09:14:03.341Z"
   },
   {
    "duration": 9,
    "start_time": "2023-01-29T09:16:14.772Z"
   },
   {
    "duration": 279,
    "start_time": "2023-01-29T09:16:16.927Z"
   },
   {
    "duration": 115,
    "start_time": "2023-01-29T09:18:07.535Z"
   },
   {
    "duration": 269,
    "start_time": "2023-01-29T09:18:13.726Z"
   },
   {
    "duration": 95,
    "start_time": "2023-01-29T09:18:42.348Z"
   },
   {
    "duration": 53,
    "start_time": "2023-01-29T09:18:42.445Z"
   },
   {
    "duration": 4092,
    "start_time": "2023-01-29T09:18:42.500Z"
   },
   {
    "duration": 13,
    "start_time": "2023-01-29T09:18:46.595Z"
   },
   {
    "duration": 14,
    "start_time": "2023-01-29T09:18:46.610Z"
   },
   {
    "duration": 6,
    "start_time": "2023-01-29T09:18:46.625Z"
   },
   {
    "duration": 19,
    "start_time": "2023-01-29T09:18:46.633Z"
   },
   {
    "duration": 14,
    "start_time": "2023-01-29T09:18:46.653Z"
   },
   {
    "duration": 39,
    "start_time": "2023-01-29T09:18:46.668Z"
   },
   {
    "duration": 31,
    "start_time": "2023-01-29T09:18:46.710Z"
   },
   {
    "duration": 44,
    "start_time": "2023-01-29T09:18:46.743Z"
   },
   {
    "duration": 9,
    "start_time": "2023-01-29T09:18:46.789Z"
   },
   {
    "duration": 353,
    "start_time": "2023-01-29T09:18:46.800Z"
   },
   {
    "duration": 12,
    "start_time": "2023-01-29T09:18:47.155Z"
   },
   {
    "duration": 12,
    "start_time": "2023-01-29T09:18:47.169Z"
   },
   {
    "duration": 34,
    "start_time": "2023-01-29T09:18:47.183Z"
   },
   {
    "duration": 23,
    "start_time": "2023-01-29T09:18:47.218Z"
   },
   {
    "duration": 12,
    "start_time": "2023-01-29T09:18:47.242Z"
   },
   {
    "duration": 8,
    "start_time": "2023-01-29T09:18:47.255Z"
   },
   {
    "duration": 6,
    "start_time": "2023-01-29T09:18:47.265Z"
   },
   {
    "duration": 30,
    "start_time": "2023-01-29T09:18:47.273Z"
   },
   {
    "duration": 6,
    "start_time": "2023-01-29T09:18:47.304Z"
   },
   {
    "duration": 77,
    "start_time": "2023-01-29T09:18:47.312Z"
   },
   {
    "duration": 5,
    "start_time": "2023-01-29T09:18:47.391Z"
   },
   {
    "duration": 6,
    "start_time": "2023-01-29T09:18:47.398Z"
   },
   {
    "duration": 9,
    "start_time": "2023-01-29T09:18:47.406Z"
   },
   {
    "duration": 6,
    "start_time": "2023-01-29T09:18:47.417Z"
   },
   {
    "duration": 13,
    "start_time": "2023-01-29T09:18:47.427Z"
   },
   {
    "duration": 8,
    "start_time": "2023-01-29T09:18:47.442Z"
   },
   {
    "duration": 30,
    "start_time": "2023-01-29T09:18:47.451Z"
   },
   {
    "duration": 5,
    "start_time": "2023-01-29T09:18:47.483Z"
   },
   {
    "duration": 9,
    "start_time": "2023-01-29T09:18:47.489Z"
   },
   {
    "duration": 5,
    "start_time": "2023-01-29T09:18:47.500Z"
   },
   {
    "duration": 8,
    "start_time": "2023-01-29T09:18:47.507Z"
   },
   {
    "duration": 239,
    "start_time": "2023-01-29T09:18:47.517Z"
   },
   {
    "duration": 4,
    "start_time": "2023-01-29T09:18:47.757Z"
   },
   {
    "duration": 38,
    "start_time": "2023-01-29T09:18:47.763Z"
   },
   {
    "duration": 8,
    "start_time": "2023-01-29T09:18:47.802Z"
   },
   {
    "duration": 266,
    "start_time": "2023-01-29T09:18:47.812Z"
   },
   {
    "duration": 9,
    "start_time": "2023-01-29T09:18:57.764Z"
   },
   {
    "duration": 279,
    "start_time": "2023-01-29T09:18:59.453Z"
   },
   {
    "duration": 10,
    "start_time": "2023-01-29T09:24:03.701Z"
   },
   {
    "duration": 272,
    "start_time": "2023-01-29T09:24:05.993Z"
   },
   {
    "duration": 14,
    "start_time": "2023-01-29T09:30:28.275Z"
   },
   {
    "duration": 832,
    "start_time": "2023-01-29T09:30:30.301Z"
   },
   {
    "duration": 9,
    "start_time": "2023-01-29T09:32:12.445Z"
   },
   {
    "duration": 166,
    "start_time": "2023-01-29T09:32:14.079Z"
   },
   {
    "duration": 10,
    "start_time": "2023-01-29T09:32:46.101Z"
   },
   {
    "duration": 169,
    "start_time": "2023-01-29T09:32:47.766Z"
   },
   {
    "duration": 151,
    "start_time": "2023-01-29T09:33:04.357Z"
   },
   {
    "duration": 9,
    "start_time": "2023-01-29T09:33:34.895Z"
   },
   {
    "duration": 167,
    "start_time": "2023-01-29T09:33:36.544Z"
   },
   {
    "duration": 10,
    "start_time": "2023-01-29T09:34:00.951Z"
   },
   {
    "duration": 16,
    "start_time": "2023-01-29T09:34:05.904Z"
   },
   {
    "duration": 14,
    "start_time": "2023-01-29T09:34:49.574Z"
   },
   {
    "duration": 130,
    "start_time": "2023-01-29T09:35:57.568Z"
   },
   {
    "duration": 114,
    "start_time": "2023-01-29T09:36:20.079Z"
   },
   {
    "duration": 104,
    "start_time": "2023-01-29T09:36:29.231Z"
   },
   {
    "duration": 110,
    "start_time": "2023-01-29T09:38:14.392Z"
   },
   {
    "duration": 9,
    "start_time": "2023-01-29T09:38:59.347Z"
   },
   {
    "duration": 151,
    "start_time": "2023-01-29T09:39:01.379Z"
   },
   {
    "duration": 9,
    "start_time": "2023-01-29T09:39:59.266Z"
   },
   {
    "duration": 186,
    "start_time": "2023-01-29T09:40:01.266Z"
   },
   {
    "duration": 10,
    "start_time": "2023-01-29T09:40:39.129Z"
   },
   {
    "duration": 176,
    "start_time": "2023-01-29T09:40:41.028Z"
   },
   {
    "duration": 9,
    "start_time": "2023-01-29T09:44:04.399Z"
   },
   {
    "duration": 209,
    "start_time": "2023-01-29T09:44:12.350Z"
   },
   {
    "duration": 263,
    "start_time": "2023-01-29T09:44:20.697Z"
   },
   {
    "duration": 407,
    "start_time": "2023-01-29T09:45:09.186Z"
   },
   {
    "duration": 242,
    "start_time": "2023-01-29T09:45:48.561Z"
   },
   {
    "duration": 7,
    "start_time": "2023-01-29T09:45:59.837Z"
   },
   {
    "duration": 234,
    "start_time": "2023-01-29T09:46:05.568Z"
   },
   {
    "duration": 10,
    "start_time": "2023-01-29T09:46:56.708Z"
   },
   {
    "duration": 244,
    "start_time": "2023-01-29T09:46:59.057Z"
   },
   {
    "duration": 15,
    "start_time": "2023-01-29T09:49:28.846Z"
   },
   {
    "duration": 19,
    "start_time": "2023-01-29T09:49:41.685Z"
   },
   {
    "duration": 32,
    "start_time": "2023-01-29T09:49:56.956Z"
   },
   {
    "duration": 33,
    "start_time": "2023-01-29T09:50:14.415Z"
   },
   {
    "duration": 34,
    "start_time": "2023-01-29T09:50:21.265Z"
   },
   {
    "duration": 85,
    "start_time": "2023-01-29T09:50:59.042Z"
   },
   {
    "duration": 78,
    "start_time": "2023-01-29T09:51:21.274Z"
   },
   {
    "duration": 30,
    "start_time": "2023-01-29T09:51:24.526Z"
   },
   {
    "duration": 19,
    "start_time": "2023-01-29T09:52:07.928Z"
   },
   {
    "duration": 30,
    "start_time": "2023-01-29T09:52:20.985Z"
   },
   {
    "duration": 19,
    "start_time": "2023-01-29T09:52:38.426Z"
   },
   {
    "duration": 20,
    "start_time": "2023-01-29T09:52:55.929Z"
   },
   {
    "duration": 29,
    "start_time": "2023-01-29T09:53:51.950Z"
   },
   {
    "duration": 35,
    "start_time": "2023-01-29T09:54:14.252Z"
   },
   {
    "duration": 30,
    "start_time": "2023-01-29T09:56:44.624Z"
   },
   {
    "duration": 30,
    "start_time": "2023-01-29T09:57:22.727Z"
   },
   {
    "duration": 29,
    "start_time": "2023-01-29T09:57:41.841Z"
   },
   {
    "duration": 35,
    "start_time": "2023-01-29T09:57:56.763Z"
   },
   {
    "duration": 30,
    "start_time": "2023-01-29T09:58:02.894Z"
   },
   {
    "duration": 73,
    "start_time": "2023-01-29T09:59:05.037Z"
   },
   {
    "duration": 275,
    "start_time": "2023-01-29T09:59:14.301Z"
   },
   {
    "duration": 12,
    "start_time": "2023-01-29T10:00:04.835Z"
   },
   {
    "duration": 8,
    "start_time": "2023-01-29T10:00:11.643Z"
   },
   {
    "duration": 229,
    "start_time": "2023-01-29T10:05:24.321Z"
   },
   {
    "duration": 272,
    "start_time": "2023-01-29T10:05:29.440Z"
   },
   {
    "duration": 7,
    "start_time": "2023-01-29T10:05:59.643Z"
   },
   {
    "duration": 63,
    "start_time": "2023-01-29T12:10:34.187Z"
   },
   {
    "duration": 6,
    "start_time": "2023-01-29T12:13:31.237Z"
   },
   {
    "duration": 5,
    "start_time": "2023-01-29T12:13:43.677Z"
   },
   {
    "duration": 5,
    "start_time": "2023-01-29T12:15:13.533Z"
   },
   {
    "duration": 7,
    "start_time": "2023-01-29T12:15:15.932Z"
   },
   {
    "duration": 308,
    "start_time": "2023-01-29T12:15:23.646Z"
   },
   {
    "duration": 27147,
    "start_time": "2023-01-29T12:17:09.752Z"
   },
   {
    "duration": 1022,
    "start_time": "2023-01-29T12:22:34.773Z"
   },
   {
    "duration": 200,
    "start_time": "2023-01-29T12:49:35.948Z"
   },
   {
    "duration": 18,
    "start_time": "2023-01-29T12:57:07.450Z"
   },
   {
    "duration": 33,
    "start_time": "2023-01-29T12:57:22.264Z"
   },
   {
    "duration": 20,
    "start_time": "2023-01-29T12:58:35.652Z"
   },
   {
    "duration": 1190,
    "start_time": "2023-01-29T13:05:33.190Z"
   },
   {
    "duration": 218,
    "start_time": "2023-01-29T13:05:56.327Z"
   },
   {
    "duration": 17,
    "start_time": "2023-01-29T13:11:52.227Z"
   },
   {
    "duration": 200,
    "start_time": "2023-01-29T13:11:56.451Z"
   },
   {
    "duration": 9,
    "start_time": "2023-01-29T13:14:19.648Z"
   },
   {
    "duration": 180,
    "start_time": "2023-01-29T13:14:21.265Z"
   },
   {
    "duration": 14,
    "start_time": "2023-01-29T13:18:07.073Z"
   },
   {
    "duration": 140,
    "start_time": "2023-01-29T13:18:24.124Z"
   },
   {
    "duration": 10,
    "start_time": "2023-01-29T13:21:43.927Z"
   },
   {
    "duration": 15,
    "start_time": "2023-01-29T13:21:45.162Z"
   },
   {
    "duration": 10,
    "start_time": "2023-01-29T13:21:58.290Z"
   },
   {
    "duration": 10,
    "start_time": "2023-01-29T13:22:00.650Z"
   },
   {
    "duration": 135,
    "start_time": "2023-01-29T13:22:13.060Z"
   },
   {
    "duration": 8,
    "start_time": "2023-01-29T13:22:25.128Z"
   },
   {
    "duration": 137,
    "start_time": "2023-01-29T13:22:29.746Z"
   },
   {
    "duration": 151,
    "start_time": "2023-01-29T13:22:40.642Z"
   },
   {
    "duration": 10,
    "start_time": "2023-01-29T14:03:09.084Z"
   },
   {
    "duration": 32,
    "start_time": "2023-01-29T14:03:16.570Z"
   },
   {
    "duration": 11,
    "start_time": "2023-01-29T14:04:44.944Z"
   },
   {
    "duration": 15,
    "start_time": "2023-01-29T14:04:48.199Z"
   },
   {
    "duration": 13,
    "start_time": "2023-01-29T14:05:02.141Z"
   },
   {
    "duration": 17,
    "start_time": "2023-01-29T14:05:32.936Z"
   },
   {
    "duration": 1222,
    "start_time": "2023-01-29T14:05:56.136Z"
   },
   {
    "duration": 16,
    "start_time": "2023-01-29T14:06:26.807Z"
   },
   {
    "duration": 25,
    "start_time": "2023-01-29T14:07:00.737Z"
   },
   {
    "duration": 26,
    "start_time": "2023-01-29T14:07:17.200Z"
   },
   {
    "duration": 22,
    "start_time": "2023-01-29T14:07:34.219Z"
   },
   {
    "duration": 18,
    "start_time": "2023-01-29T14:08:42.840Z"
   },
   {
    "duration": 23,
    "start_time": "2023-01-29T14:08:53.831Z"
   },
   {
    "duration": 24,
    "start_time": "2023-01-29T14:09:07.004Z"
   },
   {
    "duration": 25,
    "start_time": "2023-01-29T14:09:30.376Z"
   },
   {
    "duration": 26,
    "start_time": "2023-01-29T14:09:35.752Z"
   },
   {
    "duration": 27,
    "start_time": "2023-01-29T14:10:19.899Z"
   },
   {
    "duration": 27,
    "start_time": "2023-01-29T14:10:25.841Z"
   },
   {
    "duration": 23,
    "start_time": "2023-01-29T14:11:25.060Z"
   },
   {
    "duration": 38,
    "start_time": "2023-01-29T14:16:21.605Z"
   },
   {
    "duration": 19,
    "start_time": "2023-01-29T14:25:53.552Z"
   },
   {
    "duration": 19,
    "start_time": "2023-01-29T14:26:58.080Z"
   },
   {
    "duration": 22,
    "start_time": "2023-01-29T14:27:24.031Z"
   },
   {
    "duration": 20,
    "start_time": "2023-01-29T14:27:36.799Z"
   },
   {
    "duration": 25,
    "start_time": "2023-01-29T14:28:08.848Z"
   },
   {
    "duration": 20,
    "start_time": "2023-01-29T14:28:12.200Z"
   },
   {
    "duration": 4,
    "start_time": "2023-01-29T14:29:30.671Z"
   },
   {
    "duration": 21,
    "start_time": "2023-01-29T14:29:44.416Z"
   },
   {
    "duration": 46,
    "start_time": "2023-01-29T14:29:48.743Z"
   },
   {
    "duration": 19,
    "start_time": "2023-01-29T14:31:14.351Z"
   },
   {
    "duration": 138,
    "start_time": "2023-01-29T14:31:25.749Z"
   },
   {
    "duration": 12,
    "start_time": "2023-01-29T14:32:09.401Z"
   },
   {
    "duration": 20,
    "start_time": "2023-01-29T14:32:19.277Z"
   },
   {
    "duration": 142,
    "start_time": "2023-01-29T14:32:23.016Z"
   },
   {
    "duration": 20,
    "start_time": "2023-01-29T14:33:32.550Z"
   },
   {
    "duration": 135,
    "start_time": "2023-01-29T14:34:03.313Z"
   },
   {
    "duration": 1601,
    "start_time": "2023-01-29T16:48:21.575Z"
   },
   {
    "duration": 38,
    "start_time": "2023-01-29T16:48:23.178Z"
   },
   {
    "duration": 3732,
    "start_time": "2023-01-29T16:48:23.217Z"
   },
   {
    "duration": 10,
    "start_time": "2023-01-29T16:48:26.950Z"
   },
   {
    "duration": 6,
    "start_time": "2023-01-29T16:48:26.962Z"
   },
   {
    "duration": 12,
    "start_time": "2023-01-29T16:48:26.969Z"
   },
   {
    "duration": 17,
    "start_time": "2023-01-29T16:48:26.983Z"
   },
   {
    "duration": 13,
    "start_time": "2023-01-29T16:48:27.002Z"
   },
   {
    "duration": 35,
    "start_time": "2023-01-29T16:48:27.017Z"
   },
   {
    "duration": 29,
    "start_time": "2023-01-29T16:48:27.054Z"
   },
   {
    "duration": 33,
    "start_time": "2023-01-29T16:48:27.085Z"
   },
   {
    "duration": 29,
    "start_time": "2023-01-29T16:48:27.120Z"
   },
   {
    "duration": 14,
    "start_time": "2023-01-29T16:48:27.151Z"
   },
   {
    "duration": 7,
    "start_time": "2023-01-29T16:48:27.168Z"
   },
   {
    "duration": 13,
    "start_time": "2023-01-29T16:48:27.176Z"
   },
   {
    "duration": 8,
    "start_time": "2023-01-29T16:48:27.191Z"
   },
   {
    "duration": 6,
    "start_time": "2023-01-29T16:48:27.200Z"
   },
   {
    "duration": 7,
    "start_time": "2023-01-29T16:48:27.208Z"
   },
   {
    "duration": 9,
    "start_time": "2023-01-29T16:48:27.217Z"
   },
   {
    "duration": 22,
    "start_time": "2023-01-29T16:48:27.228Z"
   },
   {
    "duration": 28,
    "start_time": "2023-01-29T16:48:27.252Z"
   },
   {
    "duration": 6,
    "start_time": "2023-01-29T16:48:27.281Z"
   },
   {
    "duration": 78,
    "start_time": "2023-01-29T16:48:27.288Z"
   },
   {
    "duration": 4,
    "start_time": "2023-01-29T16:48:27.368Z"
   },
   {
    "duration": 7,
    "start_time": "2023-01-29T16:48:27.374Z"
   },
   {
    "duration": 9,
    "start_time": "2023-01-29T16:48:27.382Z"
   },
   {
    "duration": 5,
    "start_time": "2023-01-29T16:48:27.392Z"
   },
   {
    "duration": 9,
    "start_time": "2023-01-29T16:48:27.398Z"
   },
   {
    "duration": 14,
    "start_time": "2023-01-29T16:48:27.408Z"
   },
   {
    "duration": 27,
    "start_time": "2023-01-29T16:48:27.424Z"
   },
   {
    "duration": 3,
    "start_time": "2023-01-29T16:48:27.453Z"
   },
   {
    "duration": 6,
    "start_time": "2023-01-29T16:48:27.458Z"
   },
   {
    "duration": 7,
    "start_time": "2023-01-29T16:48:27.465Z"
   },
   {
    "duration": 5,
    "start_time": "2023-01-29T16:48:27.473Z"
   },
   {
    "duration": 242,
    "start_time": "2023-01-29T16:48:27.479Z"
   },
   {
    "duration": 4,
    "start_time": "2023-01-29T16:48:27.723Z"
   },
   {
    "duration": 36,
    "start_time": "2023-01-29T16:48:27.728Z"
   },
   {
    "duration": 9,
    "start_time": "2023-01-29T16:48:27.765Z"
   },
   {
    "duration": 360,
    "start_time": "2023-01-29T16:48:27.775Z"
   },
   {
    "duration": 17,
    "start_time": "2023-01-29T16:48:28.137Z"
   },
   {
    "duration": 249,
    "start_time": "2023-01-29T16:48:28.159Z"
   },
   {
    "duration": 10,
    "start_time": "2023-01-29T16:48:28.410Z"
   },
   {
    "duration": 247,
    "start_time": "2023-01-29T16:48:28.421Z"
   },
   {
    "duration": 9,
    "start_time": "2023-01-29T16:48:28.669Z"
   },
   {
    "duration": 723,
    "start_time": "2023-01-29T16:48:28.679Z"
   },
   {
    "duration": 8,
    "start_time": "2023-01-29T16:48:29.404Z"
   },
   {
    "duration": 305,
    "start_time": "2023-01-29T16:48:29.413Z"
   },
   {
    "duration": 8,
    "start_time": "2023-01-29T16:48:29.720Z"
   },
   {
    "duration": 133,
    "start_time": "2023-01-29T16:48:29.729Z"
   },
   {
    "duration": 8,
    "start_time": "2023-01-29T16:48:29.863Z"
   },
   {
    "duration": 152,
    "start_time": "2023-01-29T16:48:29.872Z"
   },
   {
    "duration": 10,
    "start_time": "2023-01-29T16:48:30.025Z"
   },
   {
    "duration": 26,
    "start_time": "2023-01-29T16:48:30.036Z"
   },
   {
    "duration": 118,
    "start_time": "2023-01-29T16:48:30.064Z"
   },
   {
    "duration": 8,
    "start_time": "2023-01-29T16:48:30.185Z"
   },
   {
    "duration": 181,
    "start_time": "2023-01-29T16:48:30.195Z"
   },
   {
    "duration": 10,
    "start_time": "2023-01-29T16:48:30.377Z"
   },
   {
    "duration": 206,
    "start_time": "2023-01-29T16:48:30.388Z"
   },
   {
    "duration": 9,
    "start_time": "2023-01-29T16:48:30.596Z"
   },
   {
    "duration": 201,
    "start_time": "2023-01-29T16:48:30.606Z"
   },
   {
    "duration": 9,
    "start_time": "2023-01-29T16:48:30.809Z"
   },
   {
    "duration": 215,
    "start_time": "2023-01-29T16:48:30.819Z"
   },
   {
    "duration": 136,
    "start_time": "2023-01-29T16:48:31.036Z"
   },
   {
    "duration": 131,
    "start_time": "2023-01-29T16:48:31.173Z"
   },
   {
    "duration": 8,
    "start_time": "2023-01-29T16:48:31.305Z"
   },
   {
    "duration": 211,
    "start_time": "2023-01-29T16:48:31.315Z"
   },
   {
    "duration": 243,
    "start_time": "2023-01-29T16:48:31.527Z"
   },
   {
    "duration": 8,
    "start_time": "2023-01-29T16:48:31.771Z"
   },
   {
    "duration": 5,
    "start_time": "2023-01-29T16:48:31.780Z"
   },
   {
    "duration": 7,
    "start_time": "2023-01-29T16:48:31.786Z"
   },
   {
    "duration": 9,
    "start_time": "2023-01-29T16:48:31.794Z"
   },
   {
    "duration": 8,
    "start_time": "2023-01-29T16:48:31.805Z"
   },
   {
    "duration": 167,
    "start_time": "2023-01-29T16:48:31.815Z"
   },
   {
    "duration": 9,
    "start_time": "2023-01-29T16:48:31.984Z"
   },
   {
    "duration": 140,
    "start_time": "2023-01-29T16:48:31.995Z"
   },
   {
    "duration": 13,
    "start_time": "2023-01-29T16:48:32.137Z"
   },
   {
    "duration": 141,
    "start_time": "2023-01-29T16:48:32.151Z"
   },
   {
    "duration": 12,
    "start_time": "2023-01-29T16:48:32.294Z"
   },
   {
    "duration": 143,
    "start_time": "2023-01-29T16:48:32.308Z"
   },
   {
    "duration": 9,
    "start_time": "2023-01-29T16:48:32.452Z"
   },
   {
    "duration": 145,
    "start_time": "2023-01-29T16:48:32.462Z"
   },
   {
    "duration": 23,
    "start_time": "2023-01-29T16:48:32.609Z"
   },
   {
    "duration": 33,
    "start_time": "2023-01-29T16:48:32.633Z"
   },
   {
    "duration": 137,
    "start_time": "2023-01-29T16:48:32.668Z"
   },
   {
    "duration": 294,
    "start_time": "2023-01-29T16:52:04.982Z"
   },
   {
    "duration": 103,
    "start_time": "2023-01-29T16:52:19.452Z"
   },
   {
    "duration": 9,
    "start_time": "2023-01-29T16:52:36.773Z"
   },
   {
    "duration": 219,
    "start_time": "2023-01-29T16:52:41.518Z"
   },
   {
    "duration": 371,
    "start_time": "2023-01-29T16:52:48.349Z"
   },
   {
    "duration": 201,
    "start_time": "2023-01-29T16:53:23.396Z"
   },
   {
    "duration": 182,
    "start_time": "2023-01-29T16:54:27.276Z"
   },
   {
    "duration": 189,
    "start_time": "2023-01-29T16:54:41.372Z"
   },
   {
    "duration": 219,
    "start_time": "2023-01-29T16:56:09.620Z"
   },
   {
    "duration": 210,
    "start_time": "2023-01-29T16:56:16.680Z"
   },
   {
    "duration": 214,
    "start_time": "2023-01-29T16:56:21.929Z"
   },
   {
    "duration": 222,
    "start_time": "2023-01-29T16:56:27.396Z"
   },
   {
    "duration": 197,
    "start_time": "2023-01-29T16:56:30.587Z"
   },
   {
    "duration": 206,
    "start_time": "2023-01-29T17:11:17.695Z"
   },
   {
    "duration": 205,
    "start_time": "2023-01-29T17:14:51.858Z"
   },
   {
    "duration": 6,
    "start_time": "2023-01-29T17:20:34.864Z"
   },
   {
    "duration": 5,
    "start_time": "2023-01-29T17:20:45.353Z"
   },
   {
    "duration": 225,
    "start_time": "2023-01-29T17:20:53.312Z"
   },
   {
    "duration": 5,
    "start_time": "2023-01-29T17:21:05.991Z"
   },
   {
    "duration": 210,
    "start_time": "2023-01-29T17:21:10.347Z"
   },
   {
    "duration": 210,
    "start_time": "2023-01-29T17:21:17.576Z"
   },
   {
    "duration": 209,
    "start_time": "2023-01-29T17:21:22.145Z"
   },
   {
    "duration": 207,
    "start_time": "2023-01-29T17:21:30.777Z"
   },
   {
    "duration": 209,
    "start_time": "2023-01-29T17:21:46.050Z"
   },
   {
    "duration": 205,
    "start_time": "2023-01-29T17:21:52.441Z"
   },
   {
    "duration": 424,
    "start_time": "2023-01-29T17:30:10.851Z"
   },
   {
    "duration": 208,
    "start_time": "2023-01-29T17:30:17.111Z"
   },
   {
    "duration": 1286,
    "start_time": "2023-01-29T17:43:45.069Z"
   },
   {
    "duration": 40,
    "start_time": "2023-01-29T17:43:46.357Z"
   },
   {
    "duration": 4030,
    "start_time": "2023-01-29T17:43:46.399Z"
   },
   {
    "duration": 13,
    "start_time": "2023-01-29T17:43:50.432Z"
   },
   {
    "duration": 8,
    "start_time": "2023-01-29T17:43:50.446Z"
   },
   {
    "duration": 6,
    "start_time": "2023-01-29T17:43:50.456Z"
   },
   {
    "duration": 12,
    "start_time": "2023-01-29T17:43:50.463Z"
   },
   {
    "duration": 12,
    "start_time": "2023-01-29T17:43:50.477Z"
   },
   {
    "duration": 47,
    "start_time": "2023-01-29T17:43:50.491Z"
   },
   {
    "duration": 36,
    "start_time": "2023-01-29T17:43:50.542Z"
   },
   {
    "duration": 37,
    "start_time": "2023-01-29T17:43:50.581Z"
   },
   {
    "duration": 27,
    "start_time": "2023-01-29T17:43:50.621Z"
   },
   {
    "duration": 18,
    "start_time": "2023-01-29T17:43:50.650Z"
   },
   {
    "duration": 11,
    "start_time": "2023-01-29T17:43:50.670Z"
   },
   {
    "duration": 19,
    "start_time": "2023-01-29T17:43:50.683Z"
   },
   {
    "duration": 7,
    "start_time": "2023-01-29T17:43:50.705Z"
   },
   {
    "duration": 14,
    "start_time": "2023-01-29T17:43:50.713Z"
   },
   {
    "duration": 19,
    "start_time": "2023-01-29T17:43:50.729Z"
   },
   {
    "duration": 24,
    "start_time": "2023-01-29T17:43:50.750Z"
   },
   {
    "duration": 8,
    "start_time": "2023-01-29T17:43:50.776Z"
   },
   {
    "duration": 37,
    "start_time": "2023-01-29T17:43:50.786Z"
   },
   {
    "duration": 9,
    "start_time": "2023-01-29T17:43:50.825Z"
   },
   {
    "duration": 68,
    "start_time": "2023-01-29T17:43:50.835Z"
   },
   {
    "duration": 5,
    "start_time": "2023-01-29T17:43:50.905Z"
   },
   {
    "duration": 6,
    "start_time": "2023-01-29T17:43:50.912Z"
   },
   {
    "duration": 16,
    "start_time": "2023-01-29T17:43:50.919Z"
   },
   {
    "duration": 14,
    "start_time": "2023-01-29T17:43:50.937Z"
   },
   {
    "duration": 9,
    "start_time": "2023-01-29T17:43:50.956Z"
   },
   {
    "duration": 9,
    "start_time": "2023-01-29T17:43:50.967Z"
   },
   {
    "duration": 7,
    "start_time": "2023-01-29T17:43:50.978Z"
   },
   {
    "duration": 6,
    "start_time": "2023-01-29T17:43:50.987Z"
   },
   {
    "duration": 9,
    "start_time": "2023-01-29T17:43:50.994Z"
   },
   {
    "duration": 5,
    "start_time": "2023-01-29T17:43:51.005Z"
   },
   {
    "duration": 6,
    "start_time": "2023-01-29T17:43:51.012Z"
   },
   {
    "duration": 235,
    "start_time": "2023-01-29T17:43:51.049Z"
   },
   {
    "duration": 5,
    "start_time": "2023-01-29T17:43:51.286Z"
   },
   {
    "duration": 48,
    "start_time": "2023-01-29T17:43:51.292Z"
   },
   {
    "duration": 9,
    "start_time": "2023-01-29T17:43:51.348Z"
   },
   {
    "duration": 388,
    "start_time": "2023-01-29T17:43:51.358Z"
   },
   {
    "duration": 9,
    "start_time": "2023-01-29T17:43:51.749Z"
   },
   {
    "duration": 251,
    "start_time": "2023-01-29T17:43:51.759Z"
   },
   {
    "duration": 10,
    "start_time": "2023-01-29T17:43:52.011Z"
   },
   {
    "duration": 258,
    "start_time": "2023-01-29T17:43:52.022Z"
   },
   {
    "duration": 10,
    "start_time": "2023-01-29T17:43:52.282Z"
   },
   {
    "duration": 758,
    "start_time": "2023-01-29T17:43:52.294Z"
   },
   {
    "duration": 8,
    "start_time": "2023-01-29T17:43:53.053Z"
   },
   {
    "duration": 325,
    "start_time": "2023-01-29T17:43:53.063Z"
   },
   {
    "duration": 10,
    "start_time": "2023-01-29T17:43:53.390Z"
   },
   {
    "duration": 162,
    "start_time": "2023-01-29T17:43:53.402Z"
   },
   {
    "duration": 8,
    "start_time": "2023-01-29T17:43:53.566Z"
   },
   {
    "duration": 158,
    "start_time": "2023-01-29T17:43:53.576Z"
   },
   {
    "duration": 17,
    "start_time": "2023-01-29T17:43:53.736Z"
   },
   {
    "duration": 29,
    "start_time": "2023-01-29T17:43:53.754Z"
   },
   {
    "duration": 138,
    "start_time": "2023-01-29T17:43:53.785Z"
   },
   {
    "duration": 9,
    "start_time": "2023-01-29T17:43:53.924Z"
   },
   {
    "duration": 174,
    "start_time": "2023-01-29T17:43:53.934Z"
   },
   {
    "duration": 10,
    "start_time": "2023-01-29T17:43:54.110Z"
   },
   {
    "duration": 203,
    "start_time": "2023-01-29T17:43:54.122Z"
   },
   {
    "duration": 10,
    "start_time": "2023-01-29T17:43:54.326Z"
   },
   {
    "duration": 178,
    "start_time": "2023-01-29T17:43:54.348Z"
   },
   {
    "duration": 10,
    "start_time": "2023-01-29T17:43:54.528Z"
   },
   {
    "duration": 200,
    "start_time": "2023-01-29T17:43:54.549Z"
   },
   {
    "duration": 165,
    "start_time": "2023-01-29T17:43:54.751Z"
   },
   {
    "duration": 146,
    "start_time": "2023-01-29T17:43:54.917Z"
   },
   {
    "duration": 9,
    "start_time": "2023-01-29T17:43:55.065Z"
   },
   {
    "duration": 226,
    "start_time": "2023-01-29T17:43:55.076Z"
   },
   {
    "duration": 259,
    "start_time": "2023-01-29T17:43:55.304Z"
   },
   {
    "duration": 9,
    "start_time": "2023-01-29T17:43:55.565Z"
   },
   {
    "duration": 213,
    "start_time": "2023-01-29T17:43:55.576Z"
   },
   {
    "duration": 230,
    "start_time": "2023-01-29T17:43:55.791Z"
   },
   {
    "duration": 7,
    "start_time": "2023-01-29T17:43:56.023Z"
   },
   {
    "duration": 20,
    "start_time": "2023-01-29T17:43:56.032Z"
   },
   {
    "duration": 236,
    "start_time": "2023-01-29T17:43:56.053Z"
   },
   {
    "duration": 7,
    "start_time": "2023-01-29T17:43:56.291Z"
   },
   {
    "duration": 281,
    "start_time": "2023-01-29T17:43:56.300Z"
   },
   {
    "duration": 12,
    "start_time": "2023-01-29T17:43:56.583Z"
   },
   {
    "duration": 163,
    "start_time": "2023-01-29T17:43:56.597Z"
   },
   {
    "duration": 10,
    "start_time": "2023-01-29T17:43:56.762Z"
   },
   {
    "duration": 184,
    "start_time": "2023-01-29T17:43:56.774Z"
   },
   {
    "duration": 8,
    "start_time": "2023-01-29T17:43:56.960Z"
   },
   {
    "duration": 149,
    "start_time": "2023-01-29T17:43:56.970Z"
   },
   {
    "duration": 10,
    "start_time": "2023-01-29T17:43:57.125Z"
   },
   {
    "duration": 142,
    "start_time": "2023-01-29T17:43:57.148Z"
   },
   {
    "duration": 10,
    "start_time": "2023-01-29T17:43:57.292Z"
   },
   {
    "duration": 354,
    "start_time": "2023-01-29T17:43:57.303Z"
   },
   {
    "duration": 23,
    "start_time": "2023-01-29T17:43:57.659Z"
   },
   {
    "duration": 19,
    "start_time": "2023-01-29T17:43:57.684Z"
   },
   {
    "duration": 164,
    "start_time": "2023-01-29T17:43:57.705Z"
   },
   {
    "duration": 1491,
    "start_time": "2023-01-29T18:25:35.202Z"
   },
   {
    "duration": 60,
    "start_time": "2023-01-29T18:25:36.695Z"
   },
   {
    "duration": 9774,
    "start_time": "2023-01-29T18:25:36.759Z"
   },
   {
    "duration": 28,
    "start_time": "2023-01-29T18:25:46.535Z"
   },
   {
    "duration": 70,
    "start_time": "2023-01-29T18:25:46.565Z"
   },
   {
    "duration": 62,
    "start_time": "2023-01-29T18:25:46.637Z"
   },
   {
    "duration": 103,
    "start_time": "2023-01-29T18:25:46.701Z"
   },
   {
    "duration": 90,
    "start_time": "2023-01-29T18:25:46.806Z"
   },
   {
    "duration": 95,
    "start_time": "2023-01-29T18:25:46.898Z"
   },
   {
    "duration": 38,
    "start_time": "2023-01-29T18:25:46.996Z"
   },
   {
    "duration": 40,
    "start_time": "2023-01-29T18:25:47.036Z"
   },
   {
    "duration": 82,
    "start_time": "2023-01-29T18:25:47.078Z"
   },
   {
    "duration": 33,
    "start_time": "2023-01-29T18:25:47.162Z"
   },
   {
    "duration": 61,
    "start_time": "2023-01-29T18:25:47.197Z"
   },
   {
    "duration": 599,
    "start_time": "2023-01-29T18:25:47.260Z"
   },
   {
    "duration": 28,
    "start_time": "2023-01-29T18:25:47.861Z"
   },
   {
    "duration": 43,
    "start_time": "2023-01-29T18:25:47.891Z"
   },
   {
    "duration": 47,
    "start_time": "2023-01-29T18:25:47.936Z"
   },
   {
    "duration": 51,
    "start_time": "2023-01-29T18:25:47.984Z"
   },
   {
    "duration": 54,
    "start_time": "2023-01-29T18:25:48.036Z"
   },
   {
    "duration": 89,
    "start_time": "2023-01-29T18:25:48.092Z"
   },
   {
    "duration": 49,
    "start_time": "2023-01-29T18:25:48.183Z"
   },
   {
    "duration": 128,
    "start_time": "2023-01-29T18:25:48.234Z"
   },
   {
    "duration": 6,
    "start_time": "2023-01-29T18:25:48.364Z"
   },
   {
    "duration": 33,
    "start_time": "2023-01-29T18:25:48.372Z"
   },
   {
    "duration": 64,
    "start_time": "2023-01-29T18:25:48.407Z"
   },
   {
    "duration": 22,
    "start_time": "2023-01-29T18:25:48.473Z"
   },
   {
    "duration": 22,
    "start_time": "2023-01-29T18:25:48.500Z"
   },
   {
    "duration": 43,
    "start_time": "2023-01-29T18:25:48.523Z"
   },
   {
    "duration": 24,
    "start_time": "2023-01-29T18:25:48.568Z"
   },
   {
    "duration": 12,
    "start_time": "2023-01-29T18:25:48.594Z"
   },
   {
    "duration": 31,
    "start_time": "2023-01-29T18:25:48.607Z"
   },
   {
    "duration": 28,
    "start_time": "2023-01-29T18:25:48.643Z"
   },
   {
    "duration": 29,
    "start_time": "2023-01-29T18:25:48.672Z"
   },
   {
    "duration": 466,
    "start_time": "2023-01-29T18:25:48.702Z"
   },
   {
    "duration": 68,
    "start_time": "2023-01-29T18:25:49.171Z"
   },
   {
    "duration": 107,
    "start_time": "2023-01-29T18:25:49.241Z"
   },
   {
    "duration": 12,
    "start_time": "2023-01-29T18:25:49.353Z"
   },
   {
    "duration": 696,
    "start_time": "2023-01-29T18:25:49.368Z"
   },
   {
    "duration": 78,
    "start_time": "2023-01-29T18:25:50.066Z"
   },
   {
    "duration": 1082,
    "start_time": "2023-01-29T18:25:50.152Z"
   },
   {
    "duration": 13,
    "start_time": "2023-01-29T18:25:51.235Z"
   },
   {
    "duration": 681,
    "start_time": "2023-01-29T18:25:51.250Z"
   },
   {
    "duration": 19,
    "start_time": "2023-01-29T18:25:51.933Z"
   },
   {
    "duration": 1894,
    "start_time": "2023-01-29T18:25:51.957Z"
   },
   {
    "duration": 11,
    "start_time": "2023-01-29T18:25:53.857Z"
   },
   {
    "duration": 403,
    "start_time": "2023-01-29T18:25:53.870Z"
   },
   {
    "duration": 14,
    "start_time": "2023-01-29T18:25:54.334Z"
   },
   {
    "duration": 879,
    "start_time": "2023-01-29T18:25:54.350Z"
   },
   {
    "duration": 14,
    "start_time": "2023-01-29T18:25:55.232Z"
   },
   {
    "duration": 320,
    "start_time": "2023-01-29T18:25:55.248Z"
   },
   {
    "duration": 74,
    "start_time": "2023-01-29T18:25:55.570Z"
   },
   {
    "duration": 31,
    "start_time": "2023-01-29T18:25:55.646Z"
   },
   {
    "duration": 367,
    "start_time": "2023-01-29T18:25:55.679Z"
   },
   {
    "duration": 10,
    "start_time": "2023-01-29T18:25:56.048Z"
   },
   {
    "duration": 398,
    "start_time": "2023-01-29T18:25:56.059Z"
   },
   {
    "duration": 72,
    "start_time": "2023-01-29T18:25:56.461Z"
   },
   {
    "duration": 503,
    "start_time": "2023-01-29T18:25:56.540Z"
   },
   {
    "duration": 14,
    "start_time": "2023-01-29T18:25:57.046Z"
   },
   {
    "duration": 499,
    "start_time": "2023-01-29T18:25:57.061Z"
   },
   {
    "duration": 9,
    "start_time": "2023-01-29T18:25:57.562Z"
   },
   {
    "duration": 531,
    "start_time": "2023-01-29T18:25:57.629Z"
   },
   {
    "duration": 371,
    "start_time": "2023-01-29T18:25:58.162Z"
   },
   {
    "duration": 328,
    "start_time": "2023-01-29T18:25:58.534Z"
   },
   {
    "duration": 82,
    "start_time": "2023-01-29T18:25:58.864Z"
   },
   {
    "duration": 524,
    "start_time": "2023-01-29T18:25:58.947Z"
   },
   {
    "duration": 658,
    "start_time": "2023-01-29T18:25:59.473Z"
   },
   {
    "duration": 11,
    "start_time": "2023-01-29T18:26:00.132Z"
   },
   {
    "duration": 615,
    "start_time": "2023-01-29T18:26:00.146Z"
   },
   {
    "duration": 318,
    "start_time": "2023-01-29T18:26:00.764Z"
   },
   {
    "duration": 7,
    "start_time": "2023-01-29T18:26:01.083Z"
   },
   {
    "duration": 68,
    "start_time": "2023-01-29T18:26:01.091Z"
   },
   {
    "duration": 287,
    "start_time": "2023-01-29T18:26:01.161Z"
   },
   {
    "duration": 9,
    "start_time": "2023-01-29T18:26:01.453Z"
   },
   {
    "duration": 291,
    "start_time": "2023-01-29T18:26:01.464Z"
   },
   {
    "duration": 10,
    "start_time": "2023-01-29T18:26:01.757Z"
   },
   {
    "duration": 204,
    "start_time": "2023-01-29T18:26:01.768Z"
   },
   {
    "duration": 10,
    "start_time": "2023-01-29T18:26:01.974Z"
   },
   {
    "duration": 171,
    "start_time": "2023-01-29T18:26:01.986Z"
   },
   {
    "duration": 11,
    "start_time": "2023-01-29T18:26:02.159Z"
   },
   {
    "duration": 183,
    "start_time": "2023-01-29T18:26:02.171Z"
   },
   {
    "duration": 10,
    "start_time": "2023-01-29T18:26:02.359Z"
   },
   {
    "duration": 180,
    "start_time": "2023-01-29T18:26:02.370Z"
   },
   {
    "duration": 10,
    "start_time": "2023-01-29T18:26:02.553Z"
   },
   {
    "duration": 178,
    "start_time": "2023-01-29T18:26:02.564Z"
   },
   {
    "duration": 26,
    "start_time": "2023-01-29T18:26:02.748Z"
   },
   {
    "duration": 20,
    "start_time": "2023-01-29T18:26:02.775Z"
   },
   {
    "duration": 164,
    "start_time": "2023-01-29T18:26:02.796Z"
   },
   {
    "duration": 11,
    "start_time": "2023-01-29T18:47:50.319Z"
   },
   {
    "duration": 17,
    "start_time": "2023-01-29T18:48:09.848Z"
   },
   {
    "duration": 311,
    "start_time": "2023-01-29T18:48:13.851Z"
   },
   {
    "duration": 7,
    "start_time": "2023-01-29T18:48:46.397Z"
   },
   {
    "duration": 6,
    "start_time": "2023-01-29T18:48:50.999Z"
   },
   {
    "duration": 1427,
    "start_time": "2023-01-29T20:54:01.602Z"
   },
   {
    "duration": 163,
    "start_time": "2023-01-29T20:54:05.070Z"
   },
   {
    "duration": 3,
    "start_time": "2023-01-29T20:54:49.320Z"
   },
   {
    "duration": 4,
    "start_time": "2023-01-29T20:55:58.367Z"
   },
   {
    "duration": 59,
    "start_time": "2023-01-29T20:56:22.004Z"
   },
   {
    "duration": 4485,
    "start_time": "2023-01-29T20:56:49.384Z"
   },
   {
    "duration": 3,
    "start_time": "2023-01-29T21:05:26.197Z"
   },
   {
    "duration": 187,
    "start_time": "2023-01-29T21:07:44.353Z"
   },
   {
    "duration": 5,
    "start_time": "2023-01-29T21:07:56.579Z"
   },
   {
    "duration": 161,
    "start_time": "2023-01-29T21:07:56.590Z"
   },
   {
    "duration": 56,
    "start_time": "2023-01-29T21:07:56.754Z"
   },
   {
    "duration": 6361,
    "start_time": "2023-01-29T21:07:56.812Z"
   },
   {
    "duration": 14,
    "start_time": "2023-01-29T21:08:03.175Z"
   },
   {
    "duration": 33,
    "start_time": "2023-01-29T21:08:03.192Z"
   },
   {
    "duration": 25,
    "start_time": "2023-01-29T21:08:03.228Z"
   },
   {
    "duration": 37,
    "start_time": "2023-01-29T21:08:03.256Z"
   },
   {
    "duration": 21,
    "start_time": "2023-01-29T21:08:03.295Z"
   },
   {
    "duration": 24,
    "start_time": "2023-01-29T21:08:03.318Z"
   },
   {
    "duration": 100,
    "start_time": "2023-01-29T21:08:03.346Z"
   },
   {
    "duration": 44,
    "start_time": "2023-01-29T21:08:03.449Z"
   },
   {
    "duration": 13,
    "start_time": "2023-01-29T21:08:03.495Z"
   },
   {
    "duration": 46,
    "start_time": "2023-01-29T21:08:03.510Z"
   },
   {
    "duration": 23,
    "start_time": "2023-01-29T21:08:03.559Z"
   },
   {
    "duration": 73,
    "start_time": "2023-01-29T21:08:08.795Z"
   },
   {
    "duration": 13,
    "start_time": "2023-01-29T21:08:58.261Z"
   },
   {
    "duration": 42,
    "start_time": "2023-01-29T21:18:18.078Z"
   },
   {
    "duration": 4,
    "start_time": "2023-01-29T21:18:38.885Z"
   },
   {
    "duration": 6,
    "start_time": "2023-01-29T21:18:40.825Z"
   },
   {
    "duration": 9,
    "start_time": "2023-01-29T21:18:42.537Z"
   },
   {
    "duration": 6,
    "start_time": "2023-01-29T21:18:45.892Z"
   },
   {
    "duration": 36,
    "start_time": "2023-01-29T21:18:48.355Z"
   },
   {
    "duration": 8,
    "start_time": "2023-01-29T21:18:49.666Z"
   },
   {
    "duration": 79,
    "start_time": "2023-01-29T21:18:52.493Z"
   },
   {
    "duration": 6,
    "start_time": "2023-01-29T21:18:56.855Z"
   },
   {
    "duration": 8,
    "start_time": "2023-01-29T21:18:58.265Z"
   },
   {
    "duration": 10,
    "start_time": "2023-01-29T21:18:58.760Z"
   },
   {
    "duration": 7,
    "start_time": "2023-01-29T21:19:02.033Z"
   },
   {
    "duration": 8,
    "start_time": "2023-01-29T21:19:04.503Z"
   },
   {
    "duration": 12,
    "start_time": "2023-01-29T21:19:06.635Z"
   },
   {
    "duration": 11,
    "start_time": "2023-01-29T21:19:07.529Z"
   },
   {
    "duration": 10,
    "start_time": "2023-01-29T21:19:08.769Z"
   },
   {
    "duration": 10,
    "start_time": "2023-01-29T21:23:15.352Z"
   },
   {
    "duration": 6,
    "start_time": "2023-01-29T21:23:17.170Z"
   },
   {
    "duration": 5,
    "start_time": "2023-01-29T21:23:22.625Z"
   },
   {
    "duration": 11,
    "start_time": "2023-01-29T21:23:25.956Z"
   },
   {
    "duration": 6,
    "start_time": "2023-01-29T21:23:28.161Z"
   },
   {
    "duration": 4,
    "start_time": "2023-01-29T21:23:31.977Z"
   },
   {
    "duration": 12,
    "start_time": "2023-01-29T21:23:33.378Z"
   },
   {
    "duration": 6,
    "start_time": "2023-01-29T21:23:35.522Z"
   },
   {
    "duration": 10,
    "start_time": "2023-01-29T21:23:55.901Z"
   },
   {
    "duration": 5,
    "start_time": "2023-01-29T21:24:10.067Z"
   },
   {
    "duration": 55,
    "start_time": "2023-01-29T21:24:32.373Z"
   },
   {
    "duration": 1279,
    "start_time": "2023-01-29T21:24:51.567Z"
   },
   {
    "duration": 113,
    "start_time": "2023-01-29T21:24:52.848Z"
   },
   {
    "duration": 47,
    "start_time": "2023-01-29T21:24:52.963Z"
   },
   {
    "duration": 4627,
    "start_time": "2023-01-29T21:24:53.014Z"
   },
   {
    "duration": 12,
    "start_time": "2023-01-29T21:24:57.643Z"
   },
   {
    "duration": 40,
    "start_time": "2023-01-29T21:24:57.656Z"
   },
   {
    "duration": 26,
    "start_time": "2023-01-29T21:24:57.698Z"
   },
   {
    "duration": 41,
    "start_time": "2023-01-29T21:24:57.726Z"
   },
   {
    "duration": 29,
    "start_time": "2023-01-29T21:24:57.768Z"
   },
   {
    "duration": 122,
    "start_time": "2023-01-29T21:24:57.804Z"
   },
   {
    "duration": 67,
    "start_time": "2023-01-29T21:24:57.928Z"
   },
   {
    "duration": 40,
    "start_time": "2023-01-29T21:24:57.998Z"
   },
   {
    "duration": 11,
    "start_time": "2023-01-29T21:24:58.041Z"
   },
   {
    "duration": 29,
    "start_time": "2023-01-29T21:24:58.053Z"
   },
   {
    "duration": 19,
    "start_time": "2023-01-29T21:24:58.085Z"
   },
   {
    "duration": 78,
    "start_time": "2023-01-29T21:24:58.106Z"
   },
   {
    "duration": 4,
    "start_time": "2023-01-29T21:24:58.186Z"
   },
   {
    "duration": 45,
    "start_time": "2023-01-29T21:24:58.192Z"
   },
   {
    "duration": 26,
    "start_time": "2023-01-29T21:24:58.240Z"
   },
   {
    "duration": 17,
    "start_time": "2023-01-29T21:24:58.269Z"
   },
   {
    "duration": 59,
    "start_time": "2023-01-29T21:24:58.288Z"
   },
   {
    "duration": 9,
    "start_time": "2023-01-29T21:24:58.349Z"
   },
   {
    "duration": 69,
    "start_time": "2023-01-29T21:24:58.360Z"
   },
   {
    "duration": 11,
    "start_time": "2023-01-29T21:24:58.432Z"
   },
   {
    "duration": 10,
    "start_time": "2023-01-29T21:24:58.445Z"
   },
   {
    "duration": 29,
    "start_time": "2023-01-29T21:24:58.457Z"
   },
   {
    "duration": 19,
    "start_time": "2023-01-29T21:24:58.488Z"
   },
   {
    "duration": 24,
    "start_time": "2023-01-29T21:24:58.512Z"
   },
   {
    "duration": 14,
    "start_time": "2023-01-29T21:24:58.538Z"
   },
   {
    "duration": 40,
    "start_time": "2023-01-29T21:24:58.554Z"
   },
   {
    "duration": 38,
    "start_time": "2023-01-29T21:24:58.596Z"
   },
   {
    "duration": 24,
    "start_time": "2023-01-29T21:24:58.636Z"
   },
   {
    "duration": 42,
    "start_time": "2023-01-29T21:24:58.662Z"
   },
   {
    "duration": 14,
    "start_time": "2023-01-29T21:24:58.706Z"
   },
   {
    "duration": 18,
    "start_time": "2023-01-29T21:24:58.722Z"
   },
   {
    "duration": 404,
    "start_time": "2023-01-29T21:24:58.742Z"
   },
   {
    "duration": 7,
    "start_time": "2023-01-29T21:24:59.148Z"
   },
   {
    "duration": 55,
    "start_time": "2023-01-29T21:24:59.157Z"
   },
   {
    "duration": 9,
    "start_time": "2023-01-29T21:24:59.214Z"
   },
   {
    "duration": 363,
    "start_time": "2023-01-29T21:24:59.225Z"
   },
   {
    "duration": 10,
    "start_time": "2023-01-29T21:24:59.590Z"
   },
   {
    "duration": 547,
    "start_time": "2023-01-29T21:24:59.602Z"
   },
   {
    "duration": 13,
    "start_time": "2023-01-29T21:25:00.152Z"
   },
   {
    "duration": 351,
    "start_time": "2023-01-29T21:25:00.167Z"
   },
   {
    "duration": 22,
    "start_time": "2023-01-29T21:25:00.519Z"
   },
   {
    "duration": 854,
    "start_time": "2023-01-29T21:25:00.543Z"
   },
   {
    "duration": 10,
    "start_time": "2023-01-29T21:25:01.400Z"
   },
   {
    "duration": 233,
    "start_time": "2023-01-29T21:25:01.412Z"
   },
   {
    "duration": 10,
    "start_time": "2023-01-29T21:25:01.647Z"
   },
   {
    "duration": 305,
    "start_time": "2023-01-29T21:25:01.659Z"
   },
   {
    "duration": 11,
    "start_time": "2023-01-29T21:25:01.966Z"
   },
   {
    "duration": 193,
    "start_time": "2023-01-29T21:25:01.980Z"
   },
   {
    "duration": 11,
    "start_time": "2023-01-29T21:25:02.175Z"
   },
   {
    "duration": 25,
    "start_time": "2023-01-29T21:25:02.187Z"
   },
   {
    "duration": 154,
    "start_time": "2023-01-29T21:25:02.214Z"
   },
   {
    "duration": 11,
    "start_time": "2023-01-29T21:25:02.370Z"
   },
   {
    "duration": 190,
    "start_time": "2023-01-29T21:25:02.383Z"
   },
   {
    "duration": 12,
    "start_time": "2023-01-29T21:25:02.575Z"
   },
   {
    "duration": 232,
    "start_time": "2023-01-29T21:25:02.588Z"
   },
   {
    "duration": 20,
    "start_time": "2023-01-29T21:25:02.822Z"
   },
   {
    "duration": 199,
    "start_time": "2023-01-29T21:25:02.844Z"
   },
   {
    "duration": 11,
    "start_time": "2023-01-29T21:25:03.045Z"
   },
   {
    "duration": 240,
    "start_time": "2023-01-29T21:25:03.058Z"
   },
   {
    "duration": 151,
    "start_time": "2023-01-29T21:25:03.300Z"
   },
   {
    "duration": 180,
    "start_time": "2023-01-29T21:25:03.453Z"
   },
   {
    "duration": 12,
    "start_time": "2023-01-29T21:25:03.635Z"
   },
   {
    "duration": 265,
    "start_time": "2023-01-29T21:25:03.649Z"
   },
   {
    "duration": 384,
    "start_time": "2023-01-29T21:25:03.916Z"
   },
   {
    "duration": 9,
    "start_time": "2023-01-29T21:25:04.302Z"
   },
   {
    "duration": 237,
    "start_time": "2023-01-29T21:25:04.312Z"
   },
   {
    "duration": 249,
    "start_time": "2023-01-29T21:25:04.551Z"
   },
   {
    "duration": 7,
    "start_time": "2023-01-29T21:25:04.801Z"
   },
   {
    "duration": 21,
    "start_time": "2023-01-29T21:25:04.810Z"
   },
   {
    "duration": 259,
    "start_time": "2023-01-29T21:25:04.833Z"
   },
   {
    "duration": 6,
    "start_time": "2023-01-29T21:25:05.095Z"
   },
   {
    "duration": 231,
    "start_time": "2023-01-29T21:25:05.105Z"
   },
   {
    "duration": 10,
    "start_time": "2023-01-29T21:25:05.339Z"
   },
   {
    "duration": 168,
    "start_time": "2023-01-29T21:25:05.351Z"
   },
   {
    "duration": 20,
    "start_time": "2023-01-29T21:25:05.520Z"
   },
   {
    "duration": 149,
    "start_time": "2023-01-29T21:25:05.542Z"
   },
   {
    "duration": 11,
    "start_time": "2023-01-29T21:25:05.693Z"
   },
   {
    "duration": 190,
    "start_time": "2023-01-29T21:25:05.711Z"
   },
   {
    "duration": 11,
    "start_time": "2023-01-29T21:25:05.903Z"
   },
   {
    "duration": 184,
    "start_time": "2023-01-29T21:25:05.916Z"
   },
   {
    "duration": 11,
    "start_time": "2023-01-29T21:25:06.102Z"
   },
   {
    "duration": 183,
    "start_time": "2023-01-29T21:25:06.115Z"
   },
   {
    "duration": 26,
    "start_time": "2023-01-29T21:25:06.301Z"
   },
   {
    "duration": 29,
    "start_time": "2023-01-29T21:25:06.340Z"
   },
   {
    "duration": 197,
    "start_time": "2023-01-29T21:25:06.372Z"
   },
   {
    "duration": 3,
    "start_time": "2023-01-29T21:26:55.764Z"
   },
   {
    "duration": 3,
    "start_time": "2023-01-29T21:27:19.622Z"
   },
   {
    "duration": 6,
    "start_time": "2023-01-29T21:27:21.585Z"
   },
   {
    "duration": 6,
    "start_time": "2023-01-29T21:27:23.251Z"
   },
   {
    "duration": 6,
    "start_time": "2023-01-29T21:27:23.649Z"
   },
   {
    "duration": 6,
    "start_time": "2023-01-29T21:27:24.100Z"
   },
   {
    "duration": 249,
    "start_time": "2023-01-29T21:27:26.268Z"
   },
   {
    "duration": 6,
    "start_time": "2023-01-29T21:27:28.068Z"
   },
   {
    "duration": 39,
    "start_time": "2023-01-29T21:27:29.959Z"
   },
   {
    "duration": 10,
    "start_time": "2023-01-29T21:27:34.123Z"
   },
   {
    "duration": 266,
    "start_time": "2023-01-29T21:27:36.154Z"
   },
   {
    "duration": 10,
    "start_time": "2023-01-29T21:27:40.729Z"
   },
   {
    "duration": 396,
    "start_time": "2023-01-29T21:27:42.555Z"
   },
   {
    "duration": 11,
    "start_time": "2023-01-29T21:27:45.425Z"
   },
   {
    "duration": 263,
    "start_time": "2023-01-29T21:27:47.368Z"
   },
   {
    "duration": 12,
    "start_time": "2023-01-29T21:27:50.425Z"
   },
   {
    "duration": 784,
    "start_time": "2023-01-29T21:27:52.938Z"
   },
   {
    "duration": 996,
    "start_time": "2023-01-29T21:28:17.070Z"
   },
   {
    "duration": 799,
    "start_time": "2023-01-29T21:28:26.371Z"
   },
   {
    "duration": 977,
    "start_time": "2023-01-29T21:28:51.355Z"
   },
   {
    "duration": 145,
    "start_time": "2023-01-29T21:28:58.725Z"
   },
   {
    "duration": 172,
    "start_time": "2023-01-29T21:29:06.129Z"
   },
   {
    "duration": 9,
    "start_time": "2023-01-29T21:29:22.163Z"
   },
   {
    "duration": 800,
    "start_time": "2023-01-29T21:29:42.171Z"
   },
   {
    "duration": 1070,
    "start_time": "2023-01-29T21:29:49.341Z"
   },
   {
    "duration": 12,
    "start_time": "2023-01-29T21:30:02.723Z"
   },
   {
    "duration": 3,
    "start_time": "2023-01-29T21:30:17.442Z"
   },
   {
    "duration": 116,
    "start_time": "2023-01-29T21:30:17.448Z"
   },
   {
    "duration": 39,
    "start_time": "2023-01-29T21:30:17.567Z"
   },
   {
    "duration": 4292,
    "start_time": "2023-01-29T21:30:17.608Z"
   },
   {
    "duration": 11,
    "start_time": "2023-01-29T21:30:21.902Z"
   },
   {
    "duration": 25,
    "start_time": "2023-01-29T21:30:21.915Z"
   },
   {
    "duration": 4,
    "start_time": "2023-01-29T21:30:21.942Z"
   },
   {
    "duration": 9,
    "start_time": "2023-01-29T21:30:21.948Z"
   },
   {
    "duration": 7,
    "start_time": "2023-01-29T21:30:21.959Z"
   },
   {
    "duration": 5,
    "start_time": "2023-01-29T21:30:21.968Z"
   },
   {
    "duration": 44,
    "start_time": "2023-01-29T21:30:21.976Z"
   },
   {
    "duration": 42,
    "start_time": "2023-01-29T21:30:22.041Z"
   },
   {
    "duration": 11,
    "start_time": "2023-01-29T21:30:22.085Z"
   },
   {
    "duration": 45,
    "start_time": "2023-01-29T21:30:22.098Z"
   },
   {
    "duration": 13,
    "start_time": "2023-01-29T21:30:22.145Z"
   },
   {
    "duration": 48,
    "start_time": "2023-01-29T21:30:22.160Z"
   },
   {
    "duration": 5,
    "start_time": "2023-01-29T21:30:22.211Z"
   },
   {
    "duration": 57,
    "start_time": "2023-01-29T21:30:22.218Z"
   },
   {
    "duration": 23,
    "start_time": "2023-01-29T21:30:22.278Z"
   },
   {
    "duration": 11,
    "start_time": "2023-01-29T21:30:22.303Z"
   },
   {
    "duration": 33,
    "start_time": "2023-01-29T21:30:22.316Z"
   },
   {
    "duration": 6,
    "start_time": "2023-01-29T21:30:22.351Z"
   },
   {
    "duration": 57,
    "start_time": "2023-01-29T21:30:22.359Z"
   },
   {
    "duration": 22,
    "start_time": "2023-01-29T21:30:22.418Z"
   },
   {
    "duration": 5,
    "start_time": "2023-01-29T21:30:22.443Z"
   },
   {
    "duration": 19,
    "start_time": "2023-01-29T21:30:22.450Z"
   },
   {
    "duration": 11,
    "start_time": "2023-01-29T21:30:22.471Z"
   },
   {
    "duration": 17,
    "start_time": "2023-01-29T21:30:22.484Z"
   },
   {
    "duration": 9,
    "start_time": "2023-01-29T21:30:22.506Z"
   },
   {
    "duration": 32,
    "start_time": "2023-01-29T21:30:22.517Z"
   },
   {
    "duration": 4,
    "start_time": "2023-01-29T21:30:22.551Z"
   },
   {
    "duration": 13,
    "start_time": "2023-01-29T21:30:22.557Z"
   },
   {
    "duration": 16,
    "start_time": "2023-01-29T21:30:22.573Z"
   },
   {
    "duration": 8,
    "start_time": "2023-01-29T21:30:22.591Z"
   },
   {
    "duration": 6,
    "start_time": "2023-01-29T21:30:22.601Z"
   },
   {
    "duration": 6,
    "start_time": "2023-01-29T21:30:22.609Z"
   },
   {
    "duration": 754,
    "start_time": "2023-01-29T21:30:22.618Z"
   },
   {
    "duration": 5,
    "start_time": "2023-01-29T21:30:23.373Z"
   },
   {
    "duration": 50,
    "start_time": "2023-01-29T21:30:23.380Z"
   },
   {
    "duration": 21,
    "start_time": "2023-01-29T21:30:23.432Z"
   },
   {
    "duration": 273,
    "start_time": "2023-01-29T21:30:23.456Z"
   },
   {
    "duration": 16,
    "start_time": "2023-01-29T21:30:23.731Z"
   },
   {
    "duration": 285,
    "start_time": "2023-01-29T21:30:23.749Z"
   },
   {
    "duration": 9,
    "start_time": "2023-01-29T21:30:24.040Z"
   },
   {
    "duration": 283,
    "start_time": "2023-01-29T21:30:24.050Z"
   },
   {
    "duration": 9,
    "start_time": "2023-01-29T21:30:41.196Z"
   },
   {
    "duration": 4,
    "start_time": "2023-01-29T21:31:14.994Z"
   },
   {
    "duration": 793,
    "start_time": "2023-01-29T21:31:19.565Z"
   },
   {
    "duration": 800,
    "start_time": "2023-01-29T21:31:40.357Z"
   },
   {
    "duration": 4,
    "start_time": "2023-01-29T21:31:49.586Z"
   },
   {
    "duration": 1054,
    "start_time": "2023-01-29T21:31:51.051Z"
   },
   {
    "duration": 779,
    "start_time": "2023-01-29T21:32:00.135Z"
   },
   {
    "duration": 5,
    "start_time": "2023-01-29T21:32:25.322Z"
   },
   {
    "duration": 807,
    "start_time": "2023-01-29T21:32:26.756Z"
   },
   {
    "duration": 4,
    "start_time": "2023-01-29T21:35:12.822Z"
   },
   {
    "duration": 257,
    "start_time": "2023-01-29T21:36:27.001Z"
   },
   {
    "duration": 147,
    "start_time": "2023-01-29T21:36:36.826Z"
   },
   {
    "duration": 153,
    "start_time": "2023-01-29T21:37:32.975Z"
   },
   {
    "duration": 148,
    "start_time": "2023-01-29T21:37:42.784Z"
   },
   {
    "duration": 190,
    "start_time": "2023-01-29T21:38:13.025Z"
   },
   {
    "duration": 207,
    "start_time": "2023-01-29T21:38:27.896Z"
   },
   {
    "duration": 562,
    "start_time": "2023-01-29T21:38:41.425Z"
   },
   {
    "duration": 205,
    "start_time": "2023-01-29T21:38:57.473Z"
   },
   {
    "duration": 151,
    "start_time": "2023-01-29T21:39:13.604Z"
   },
   {
    "duration": 147,
    "start_time": "2023-01-29T21:39:22.820Z"
   },
   {
    "duration": 135,
    "start_time": "2023-01-29T21:39:47.250Z"
   },
   {
    "duration": 124,
    "start_time": "2023-01-29T21:39:57.773Z"
   },
   {
    "duration": 167,
    "start_time": "2023-01-29T21:40:15.933Z"
   },
   {
    "duration": 143,
    "start_time": "2023-01-29T21:40:27.847Z"
   },
   {
    "duration": 175,
    "start_time": "2023-01-29T21:40:42.233Z"
   },
   {
    "duration": 790,
    "start_time": "2023-01-29T21:40:59.450Z"
   },
   {
    "duration": 290,
    "start_time": "2023-01-29T21:41:11.518Z"
   },
   {
    "duration": 270,
    "start_time": "2023-01-29T21:41:25.425Z"
   },
   {
    "duration": 268,
    "start_time": "2023-01-29T21:41:40.248Z"
   },
   {
    "duration": 4,
    "start_time": "2023-01-29T21:41:59.452Z"
   },
   {
    "duration": 765,
    "start_time": "2023-01-29T21:42:01.208Z"
   },
   {
    "duration": 26,
    "start_time": "2023-01-29T21:57:17.421Z"
   },
   {
    "duration": 25,
    "start_time": "2023-01-29T21:57:31.339Z"
   },
   {
    "duration": 26,
    "start_time": "2023-01-29T21:57:37.893Z"
   },
   {
    "duration": 1149,
    "start_time": "2023-01-29T21:57:53.391Z"
   },
   {
    "duration": 103,
    "start_time": "2023-01-29T21:57:54.542Z"
   },
   {
    "duration": 36,
    "start_time": "2023-01-29T21:57:54.647Z"
   },
   {
    "duration": 4288,
    "start_time": "2023-01-29T21:57:54.685Z"
   },
   {
    "duration": 13,
    "start_time": "2023-01-29T21:57:58.975Z"
   },
   {
    "duration": 7,
    "start_time": "2023-01-29T21:57:58.991Z"
   },
   {
    "duration": 7,
    "start_time": "2023-01-29T21:57:59.000Z"
   },
   {
    "duration": 10,
    "start_time": "2023-01-29T21:57:59.010Z"
   },
   {
    "duration": 8,
    "start_time": "2023-01-29T21:57:59.021Z"
   },
   {
    "duration": 9,
    "start_time": "2023-01-29T21:57:59.031Z"
   },
   {
    "duration": 32,
    "start_time": "2023-01-29T21:57:59.042Z"
   },
   {
    "duration": 30,
    "start_time": "2023-01-29T21:57:59.075Z"
   },
   {
    "duration": 33,
    "start_time": "2023-01-29T21:57:59.108Z"
   },
   {
    "duration": 15,
    "start_time": "2023-01-29T21:57:59.143Z"
   },
   {
    "duration": 8,
    "start_time": "2023-01-29T21:57:59.160Z"
   },
   {
    "duration": 50,
    "start_time": "2023-01-29T21:57:59.170Z"
   },
   {
    "duration": 20,
    "start_time": "2023-01-29T21:57:59.222Z"
   },
   {
    "duration": 7,
    "start_time": "2023-01-29T21:57:59.244Z"
   },
   {
    "duration": 11,
    "start_time": "2023-01-29T21:57:59.253Z"
   },
   {
    "duration": 7,
    "start_time": "2023-01-29T21:57:59.267Z"
   },
   {
    "duration": 40,
    "start_time": "2023-01-29T21:57:59.276Z"
   },
   {
    "duration": 25,
    "start_time": "2023-01-29T21:57:59.317Z"
   },
   {
    "duration": 55,
    "start_time": "2023-01-29T21:57:59.344Z"
   },
   {
    "duration": 5,
    "start_time": "2023-01-29T21:57:59.401Z"
   },
   {
    "duration": 11,
    "start_time": "2023-01-29T21:57:59.408Z"
   },
   {
    "duration": 40,
    "start_time": "2023-01-29T21:57:59.420Z"
   },
   {
    "duration": 17,
    "start_time": "2023-01-29T21:57:59.463Z"
   },
   {
    "duration": 13,
    "start_time": "2023-01-29T21:57:59.487Z"
   },
   {
    "duration": 10,
    "start_time": "2023-01-29T21:57:59.502Z"
   },
   {
    "duration": 11,
    "start_time": "2023-01-29T21:57:59.514Z"
   },
   {
    "duration": 10,
    "start_time": "2023-01-29T21:57:59.526Z"
   },
   {
    "duration": 10,
    "start_time": "2023-01-29T21:57:59.539Z"
   },
   {
    "duration": 10,
    "start_time": "2023-01-29T21:57:59.551Z"
   },
   {
    "duration": 8,
    "start_time": "2023-01-29T21:57:59.563Z"
   },
   {
    "duration": 13,
    "start_time": "2023-01-29T21:57:59.573Z"
   },
   {
    "duration": 6,
    "start_time": "2023-01-29T21:57:59.588Z"
   },
   {
    "duration": 263,
    "start_time": "2023-01-29T21:57:59.596Z"
   },
   {
    "duration": 5,
    "start_time": "2023-01-29T21:57:59.860Z"
   },
   {
    "duration": 46,
    "start_time": "2023-01-29T21:57:59.867Z"
   },
   {
    "duration": 26,
    "start_time": "2023-01-29T21:57:59.915Z"
   },
   {
    "duration": 282,
    "start_time": "2023-01-29T21:57:59.943Z"
   },
   {
    "duration": 15,
    "start_time": "2023-01-29T21:58:00.228Z"
   },
   {
    "duration": 538,
    "start_time": "2023-01-29T21:58:00.245Z"
   },
   {
    "duration": 9,
    "start_time": "2023-01-29T21:58:00.785Z"
   },
   {
    "duration": 269,
    "start_time": "2023-01-29T21:58:00.796Z"
   },
   {
    "duration": 10,
    "start_time": "2023-01-29T21:58:01.067Z"
   },
   {
    "duration": 21,
    "start_time": "2023-01-29T21:58:01.078Z"
   },
   {
    "duration": 744,
    "start_time": "2023-01-29T21:58:01.101Z"
   },
   {
    "duration": 9,
    "start_time": "2023-01-29T21:58:01.847Z"
   },
   {
    "duration": 178,
    "start_time": "2023-01-29T21:58:01.858Z"
   },
   {
    "duration": 11,
    "start_time": "2023-01-29T21:58:02.040Z"
   },
   {
    "duration": 294,
    "start_time": "2023-01-29T21:58:02.053Z"
   },
   {
    "duration": 10,
    "start_time": "2023-01-29T21:58:02.349Z"
   },
   {
    "duration": 175,
    "start_time": "2023-01-29T21:58:02.360Z"
   },
   {
    "duration": 11,
    "start_time": "2023-01-29T21:58:02.536Z"
   },
   {
    "duration": 16,
    "start_time": "2023-01-29T21:58:02.549Z"
   },
   {
    "duration": 131,
    "start_time": "2023-01-29T21:58:02.567Z"
   },
   {
    "duration": 12,
    "start_time": "2023-01-29T21:58:02.701Z"
   },
   {
    "duration": 182,
    "start_time": "2023-01-29T21:58:02.715Z"
   },
   {
    "duration": 11,
    "start_time": "2023-01-29T21:58:02.899Z"
   },
   {
    "duration": 216,
    "start_time": "2023-01-29T21:58:02.912Z"
   },
   {
    "duration": 18,
    "start_time": "2023-01-29T21:58:03.130Z"
   },
   {
    "duration": 183,
    "start_time": "2023-01-29T21:58:03.150Z"
   },
   {
    "duration": 12,
    "start_time": "2023-01-29T21:58:03.335Z"
   },
   {
    "duration": 215,
    "start_time": "2023-01-29T21:58:03.348Z"
   },
   {
    "duration": 150,
    "start_time": "2023-01-29T21:58:03.565Z"
   },
   {
    "duration": 135,
    "start_time": "2023-01-29T21:58:03.717Z"
   },
   {
    "duration": 9,
    "start_time": "2023-01-29T21:58:03.854Z"
   },
   {
    "duration": 330,
    "start_time": "2023-01-29T21:58:03.865Z"
   },
   {
    "duration": 270,
    "start_time": "2023-01-29T21:58:04.196Z"
   },
   {
    "duration": 8,
    "start_time": "2023-01-29T21:58:04.468Z"
   },
   {
    "duration": 230,
    "start_time": "2023-01-29T21:58:04.478Z"
   },
   {
    "duration": 227,
    "start_time": "2023-01-29T21:58:04.710Z"
   },
   {
    "duration": 6,
    "start_time": "2023-01-29T21:58:04.939Z"
   },
   {
    "duration": 5,
    "start_time": "2023-01-29T21:58:04.947Z"
   },
   {
    "duration": 218,
    "start_time": "2023-01-29T21:58:04.954Z"
   },
   {
    "duration": 6,
    "start_time": "2023-01-29T21:58:05.174Z"
   },
   {
    "duration": 224,
    "start_time": "2023-01-29T21:58:05.182Z"
   },
   {
    "duration": 12,
    "start_time": "2023-01-29T21:58:05.408Z"
   },
   {
    "duration": 180,
    "start_time": "2023-01-29T21:58:05.422Z"
   },
   {
    "duration": 11,
    "start_time": "2023-01-29T21:58:05.603Z"
   },
   {
    "duration": 150,
    "start_time": "2023-01-29T21:58:05.619Z"
   },
   {
    "duration": 10,
    "start_time": "2023-01-29T21:58:05.770Z"
   },
   {
    "duration": 159,
    "start_time": "2023-01-29T21:58:05.781Z"
   },
   {
    "duration": 10,
    "start_time": "2023-01-29T21:58:05.942Z"
   },
   {
    "duration": 250,
    "start_time": "2023-01-29T21:58:05.954Z"
   },
   {
    "duration": 11,
    "start_time": "2023-01-29T21:58:06.205Z"
   },
   {
    "duration": 159,
    "start_time": "2023-01-29T21:58:06.218Z"
   },
   {
    "duration": 125,
    "start_time": "2023-01-29T21:58:06.379Z"
   },
   {
    "duration": 0,
    "start_time": "2023-01-29T21:58:06.506Z"
   },
   {
    "duration": 0,
    "start_time": "2023-01-29T21:58:06.507Z"
   },
   {
    "duration": 27,
    "start_time": "2023-01-29T21:58:41.932Z"
   },
   {
    "duration": 19,
    "start_time": "2023-01-29T21:58:49.286Z"
   },
   {
    "duration": 33,
    "start_time": "2023-01-29T21:59:05.284Z"
   },
   {
    "duration": 211,
    "start_time": "2023-01-29T21:59:34.637Z"
   },
   {
    "duration": 778,
    "start_time": "2023-01-29T22:00:08.903Z"
   },
   {
    "duration": 851,
    "start_time": "2023-01-29T22:00:16.658Z"
   },
   {
    "duration": 20,
    "start_time": "2023-01-29T22:13:18.023Z"
   },
   {
    "duration": 149,
    "start_time": "2023-01-29T22:13:21.228Z"
   },
   {
    "duration": 1217,
    "start_time": "2023-01-29T22:22:22.869Z"
   },
   {
    "duration": 108,
    "start_time": "2023-01-29T22:22:24.088Z"
   },
   {
    "duration": 45,
    "start_time": "2023-01-29T22:22:24.197Z"
   },
   {
    "duration": 4076,
    "start_time": "2023-01-29T22:22:24.244Z"
   },
   {
    "duration": 11,
    "start_time": "2023-01-29T22:22:28.322Z"
   },
   {
    "duration": 6,
    "start_time": "2023-01-29T22:22:28.335Z"
   },
   {
    "duration": 3,
    "start_time": "2023-01-29T22:22:28.343Z"
   },
   {
    "duration": 6,
    "start_time": "2023-01-29T22:22:28.348Z"
   },
   {
    "duration": 6,
    "start_time": "2023-01-29T22:22:28.355Z"
   },
   {
    "duration": 5,
    "start_time": "2023-01-29T22:22:28.364Z"
   },
   {
    "duration": 33,
    "start_time": "2023-01-29T22:22:28.370Z"
   },
   {
    "duration": 56,
    "start_time": "2023-01-29T22:22:28.405Z"
   },
   {
    "duration": 10,
    "start_time": "2023-01-29T22:22:28.462Z"
   },
   {
    "duration": 16,
    "start_time": "2023-01-29T22:22:28.473Z"
   },
   {
    "duration": 9,
    "start_time": "2023-01-29T22:22:28.491Z"
   },
   {
    "duration": 67,
    "start_time": "2023-01-29T22:22:28.502Z"
   },
   {
    "duration": 4,
    "start_time": "2023-01-29T22:22:28.571Z"
   },
   {
    "duration": 13,
    "start_time": "2023-01-29T22:22:28.577Z"
   },
   {
    "duration": 9,
    "start_time": "2023-01-29T22:22:28.591Z"
   },
   {
    "duration": 8,
    "start_time": "2023-01-29T22:22:28.602Z"
   },
   {
    "duration": 48,
    "start_time": "2023-01-29T22:22:28.611Z"
   },
   {
    "duration": 6,
    "start_time": "2023-01-29T22:22:28.661Z"
   },
   {
    "duration": 64,
    "start_time": "2023-01-29T22:22:28.669Z"
   },
   {
    "duration": 6,
    "start_time": "2023-01-29T22:22:28.740Z"
   },
   {
    "duration": 10,
    "start_time": "2023-01-29T22:22:28.748Z"
   },
   {
    "duration": 15,
    "start_time": "2023-01-29T22:22:28.760Z"
   },
   {
    "duration": 5,
    "start_time": "2023-01-29T22:22:28.777Z"
   },
   {
    "duration": 13,
    "start_time": "2023-01-29T22:22:28.786Z"
   },
   {
    "duration": 17,
    "start_time": "2023-01-29T22:22:28.808Z"
   },
   {
    "duration": 22,
    "start_time": "2023-01-29T22:22:28.827Z"
   },
   {
    "duration": 5,
    "start_time": "2023-01-29T22:22:28.851Z"
   },
   {
    "duration": 18,
    "start_time": "2023-01-29T22:22:28.858Z"
   },
   {
    "duration": 44,
    "start_time": "2023-01-29T22:22:28.879Z"
   },
   {
    "duration": 11,
    "start_time": "2023-01-29T22:22:28.925Z"
   },
   {
    "duration": 18,
    "start_time": "2023-01-29T22:22:28.939Z"
   },
   {
    "duration": 20,
    "start_time": "2023-01-29T22:22:28.959Z"
   },
   {
    "duration": 265,
    "start_time": "2023-01-29T22:22:28.982Z"
   },
   {
    "duration": 4,
    "start_time": "2023-01-29T22:22:29.249Z"
   },
   {
    "duration": 39,
    "start_time": "2023-01-29T22:22:29.255Z"
   },
   {
    "duration": 9,
    "start_time": "2023-01-29T22:22:29.296Z"
   },
   {
    "duration": 295,
    "start_time": "2023-01-29T22:22:29.306Z"
   },
   {
    "duration": 9,
    "start_time": "2023-01-29T22:22:29.603Z"
   },
   {
    "duration": 526,
    "start_time": "2023-01-29T22:22:29.614Z"
   },
   {
    "duration": 8,
    "start_time": "2023-01-29T22:22:30.142Z"
   },
   {
    "duration": 268,
    "start_time": "2023-01-29T22:22:30.152Z"
   },
   {
    "duration": 19,
    "start_time": "2023-01-29T22:22:30.422Z"
   },
   {
    "duration": 47,
    "start_time": "2023-01-29T22:22:30.442Z"
   },
   {
    "duration": 761,
    "start_time": "2023-01-29T22:22:30.491Z"
   },
   {
    "duration": 9,
    "start_time": "2023-01-29T22:22:31.254Z"
   },
   {
    "duration": 214,
    "start_time": "2023-01-29T22:22:31.265Z"
   },
   {
    "duration": 11,
    "start_time": "2023-01-29T22:22:31.482Z"
   },
   {
    "duration": 275,
    "start_time": "2023-01-29T22:22:31.495Z"
   },
   {
    "duration": 8,
    "start_time": "2023-01-29T22:22:31.772Z"
   },
   {
    "duration": 161,
    "start_time": "2023-01-29T22:22:31.781Z"
   },
   {
    "duration": 9,
    "start_time": "2023-01-29T22:22:31.944Z"
   },
   {
    "duration": 34,
    "start_time": "2023-01-29T22:22:31.955Z"
   },
   {
    "duration": 120,
    "start_time": "2023-01-29T22:22:31.990Z"
   },
   {
    "duration": 8,
    "start_time": "2023-01-29T22:22:32.112Z"
   },
   {
    "duration": 160,
    "start_time": "2023-01-29T22:22:32.122Z"
   },
   {
    "duration": 11,
    "start_time": "2023-01-29T22:22:32.284Z"
   },
   {
    "duration": 202,
    "start_time": "2023-01-29T22:22:32.297Z"
   },
   {
    "duration": 10,
    "start_time": "2023-01-29T22:22:32.500Z"
   },
   {
    "duration": 194,
    "start_time": "2023-01-29T22:22:32.511Z"
   },
   {
    "duration": 9,
    "start_time": "2023-01-29T22:22:32.707Z"
   },
   {
    "duration": 207,
    "start_time": "2023-01-29T22:22:32.718Z"
   },
   {
    "duration": 156,
    "start_time": "2023-01-29T22:22:32.926Z"
   },
   {
    "duration": 141,
    "start_time": "2023-01-29T22:22:33.084Z"
   },
   {
    "duration": 18,
    "start_time": "2023-01-29T22:22:33.227Z"
   },
   {
    "duration": 331,
    "start_time": "2023-01-29T22:22:33.247Z"
   },
   {
    "duration": 263,
    "start_time": "2023-01-29T22:22:33.581Z"
   },
   {
    "duration": 8,
    "start_time": "2023-01-29T22:22:33.846Z"
   },
   {
    "duration": 223,
    "start_time": "2023-01-29T22:22:33.856Z"
   },
   {
    "duration": 233,
    "start_time": "2023-01-29T22:22:34.080Z"
   },
   {
    "duration": 5,
    "start_time": "2023-01-29T22:22:34.315Z"
   },
   {
    "duration": 7,
    "start_time": "2023-01-29T22:22:34.322Z"
   },
   {
    "duration": 197,
    "start_time": "2023-01-29T22:22:34.340Z"
   },
   {
    "duration": 6,
    "start_time": "2023-01-29T22:22:34.539Z"
   },
   {
    "duration": 215,
    "start_time": "2023-01-29T22:22:34.546Z"
   },
   {
    "duration": 11,
    "start_time": "2023-01-29T22:22:34.763Z"
   },
   {
    "duration": 173,
    "start_time": "2023-01-29T22:22:34.776Z"
   },
   {
    "duration": 13,
    "start_time": "2023-01-29T22:22:34.950Z"
   },
   {
    "duration": 170,
    "start_time": "2023-01-29T22:22:34.970Z"
   },
   {
    "duration": 12,
    "start_time": "2023-01-29T22:22:35.141Z"
   },
   {
    "duration": 158,
    "start_time": "2023-01-29T22:22:35.155Z"
   },
   {
    "duration": 10,
    "start_time": "2023-01-29T22:22:35.316Z"
   },
   {
    "duration": 236,
    "start_time": "2023-01-29T22:22:35.328Z"
   },
   {
    "duration": 12,
    "start_time": "2023-01-29T22:22:35.565Z"
   },
   {
    "duration": 166,
    "start_time": "2023-01-29T22:22:35.579Z"
   },
   {
    "duration": 27,
    "start_time": "2023-01-29T22:22:35.748Z"
   },
   {
    "duration": 234,
    "start_time": "2023-01-29T22:22:35.776Z"
   },
   {
    "duration": 29,
    "start_time": "2023-01-29T22:22:36.012Z"
   },
   {
    "duration": 166,
    "start_time": "2023-01-29T22:22:36.043Z"
   },
   {
    "duration": 3,
    "start_time": "2023-01-29T22:24:14.574Z"
   },
   {
    "duration": 213,
    "start_time": "2023-01-29T22:28:10.948Z"
   },
   {
    "duration": 200,
    "start_time": "2023-01-29T22:28:14.396Z"
   },
   {
    "duration": 99,
    "start_time": "2023-01-29T22:29:30.918Z"
   },
   {
    "duration": 4,
    "start_time": "2023-01-29T22:30:08.372Z"
   },
   {
    "duration": 873,
    "start_time": "2023-01-29T22:30:17.221Z"
   },
   {
    "duration": 1197,
    "start_time": "2023-01-29T22:30:31.843Z"
   },
   {
    "duration": 104,
    "start_time": "2023-01-29T22:30:33.042Z"
   },
   {
    "duration": 38,
    "start_time": "2023-01-29T22:30:33.148Z"
   },
   {
    "duration": 3957,
    "start_time": "2023-01-29T22:30:33.188Z"
   },
   {
    "duration": 11,
    "start_time": "2023-01-29T22:30:37.147Z"
   },
   {
    "duration": 15,
    "start_time": "2023-01-29T22:30:37.159Z"
   },
   {
    "duration": 9,
    "start_time": "2023-01-29T22:30:37.176Z"
   },
   {
    "duration": 5,
    "start_time": "2023-01-29T22:30:37.187Z"
   },
   {
    "duration": 10,
    "start_time": "2023-01-29T22:30:37.193Z"
   },
   {
    "duration": 3,
    "start_time": "2023-01-29T22:30:37.205Z"
   },
   {
    "duration": 43,
    "start_time": "2023-01-29T22:30:37.209Z"
   },
   {
    "duration": 32,
    "start_time": "2023-01-29T22:30:37.254Z"
   },
   {
    "duration": 9,
    "start_time": "2023-01-29T22:30:37.287Z"
   },
   {
    "duration": 20,
    "start_time": "2023-01-29T22:30:37.298Z"
   },
   {
    "duration": 25,
    "start_time": "2023-01-29T22:30:37.320Z"
   },
   {
    "duration": 46,
    "start_time": "2023-01-29T22:30:37.347Z"
   },
   {
    "duration": 3,
    "start_time": "2023-01-29T22:30:37.396Z"
   },
   {
    "duration": 10,
    "start_time": "2023-01-29T22:30:37.401Z"
   },
   {
    "duration": 27,
    "start_time": "2023-01-29T22:30:37.413Z"
   },
   {
    "duration": 5,
    "start_time": "2023-01-29T22:30:37.442Z"
   },
   {
    "duration": 306,
    "start_time": "2023-01-29T22:30:37.449Z"
   },
   {
    "duration": 0,
    "start_time": "2023-01-29T22:30:37.760Z"
   },
   {
    "duration": 0,
    "start_time": "2023-01-29T22:30:37.761Z"
   },
   {
    "duration": 0,
    "start_time": "2023-01-29T22:30:37.762Z"
   },
   {
    "duration": 0,
    "start_time": "2023-01-29T22:30:37.763Z"
   },
   {
    "duration": 0,
    "start_time": "2023-01-29T22:30:37.764Z"
   },
   {
    "duration": 0,
    "start_time": "2023-01-29T22:30:37.765Z"
   },
   {
    "duration": 0,
    "start_time": "2023-01-29T22:30:37.766Z"
   },
   {
    "duration": 0,
    "start_time": "2023-01-29T22:30:37.767Z"
   },
   {
    "duration": 0,
    "start_time": "2023-01-29T22:30:37.768Z"
   },
   {
    "duration": 0,
    "start_time": "2023-01-29T22:30:37.769Z"
   },
   {
    "duration": 0,
    "start_time": "2023-01-29T22:30:37.770Z"
   },
   {
    "duration": 0,
    "start_time": "2023-01-29T22:30:37.771Z"
   },
   {
    "duration": 0,
    "start_time": "2023-01-29T22:30:37.772Z"
   },
   {
    "duration": 0,
    "start_time": "2023-01-29T22:30:37.773Z"
   },
   {
    "duration": 0,
    "start_time": "2023-01-29T22:30:37.774Z"
   },
   {
    "duration": 0,
    "start_time": "2023-01-29T22:30:37.775Z"
   },
   {
    "duration": 0,
    "start_time": "2023-01-29T22:30:37.776Z"
   },
   {
    "duration": 0,
    "start_time": "2023-01-29T22:30:37.777Z"
   },
   {
    "duration": 0,
    "start_time": "2023-01-29T22:30:37.778Z"
   },
   {
    "duration": 0,
    "start_time": "2023-01-29T22:30:37.779Z"
   },
   {
    "duration": 0,
    "start_time": "2023-01-29T22:30:37.780Z"
   },
   {
    "duration": 0,
    "start_time": "2023-01-29T22:30:37.781Z"
   },
   {
    "duration": 0,
    "start_time": "2023-01-29T22:30:37.782Z"
   },
   {
    "duration": 0,
    "start_time": "2023-01-29T22:30:37.783Z"
   },
   {
    "duration": 0,
    "start_time": "2023-01-29T22:30:37.784Z"
   },
   {
    "duration": 0,
    "start_time": "2023-01-29T22:30:37.785Z"
   },
   {
    "duration": 0,
    "start_time": "2023-01-29T22:30:37.786Z"
   },
   {
    "duration": 0,
    "start_time": "2023-01-29T22:30:37.787Z"
   },
   {
    "duration": 0,
    "start_time": "2023-01-29T22:30:37.788Z"
   },
   {
    "duration": 0,
    "start_time": "2023-01-29T22:30:37.789Z"
   },
   {
    "duration": 0,
    "start_time": "2023-01-29T22:30:37.790Z"
   },
   {
    "duration": 0,
    "start_time": "2023-01-29T22:30:37.791Z"
   },
   {
    "duration": 0,
    "start_time": "2023-01-29T22:30:37.791Z"
   },
   {
    "duration": 0,
    "start_time": "2023-01-29T22:30:37.792Z"
   },
   {
    "duration": 0,
    "start_time": "2023-01-29T22:30:37.793Z"
   },
   {
    "duration": 0,
    "start_time": "2023-01-29T22:30:37.794Z"
   },
   {
    "duration": 0,
    "start_time": "2023-01-29T22:30:37.795Z"
   },
   {
    "duration": 0,
    "start_time": "2023-01-29T22:30:37.841Z"
   },
   {
    "duration": 0,
    "start_time": "2023-01-29T22:30:37.842Z"
   },
   {
    "duration": 0,
    "start_time": "2023-01-29T22:30:37.844Z"
   },
   {
    "duration": 0,
    "start_time": "2023-01-29T22:30:37.845Z"
   },
   {
    "duration": 0,
    "start_time": "2023-01-29T22:30:37.846Z"
   },
   {
    "duration": 0,
    "start_time": "2023-01-29T22:30:37.847Z"
   },
   {
    "duration": 0,
    "start_time": "2023-01-29T22:30:37.848Z"
   },
   {
    "duration": 0,
    "start_time": "2023-01-29T22:30:37.849Z"
   },
   {
    "duration": 0,
    "start_time": "2023-01-29T22:30:37.851Z"
   },
   {
    "duration": 0,
    "start_time": "2023-01-29T22:30:37.852Z"
   },
   {
    "duration": 0,
    "start_time": "2023-01-29T22:30:37.853Z"
   },
   {
    "duration": 0,
    "start_time": "2023-01-29T22:30:37.855Z"
   },
   {
    "duration": 0,
    "start_time": "2023-01-29T22:30:37.856Z"
   },
   {
    "duration": 0,
    "start_time": "2023-01-29T22:30:37.857Z"
   },
   {
    "duration": 0,
    "start_time": "2023-01-29T22:30:37.858Z"
   },
   {
    "duration": 0,
    "start_time": "2023-01-29T22:30:37.859Z"
   },
   {
    "duration": 0,
    "start_time": "2023-01-29T22:30:37.860Z"
   },
   {
    "duration": 0,
    "start_time": "2023-01-29T22:30:37.861Z"
   },
   {
    "duration": 0,
    "start_time": "2023-01-29T22:30:37.862Z"
   },
   {
    "duration": 0,
    "start_time": "2023-01-29T22:30:37.863Z"
   },
   {
    "duration": 0,
    "start_time": "2023-01-29T22:30:37.864Z"
   },
   {
    "duration": 0,
    "start_time": "2023-01-29T22:30:37.865Z"
   },
   {
    "duration": 0,
    "start_time": "2023-01-29T22:30:37.866Z"
   },
   {
    "duration": 0,
    "start_time": "2023-01-29T22:30:37.867Z"
   },
   {
    "duration": 0,
    "start_time": "2023-01-29T22:30:37.867Z"
   },
   {
    "duration": 0,
    "start_time": "2023-01-29T22:30:37.868Z"
   },
   {
    "duration": 0,
    "start_time": "2023-01-29T22:30:37.869Z"
   },
   {
    "duration": 0,
    "start_time": "2023-01-29T22:30:37.871Z"
   },
   {
    "duration": 0,
    "start_time": "2023-01-29T22:30:37.872Z"
   },
   {
    "duration": 0,
    "start_time": "2023-01-29T22:30:37.873Z"
   },
   {
    "duration": 0,
    "start_time": "2023-01-29T22:30:37.874Z"
   },
   {
    "duration": 0,
    "start_time": "2023-01-29T22:30:37.876Z"
   },
   {
    "duration": 0,
    "start_time": "2023-01-29T22:30:37.876Z"
   },
   {
    "duration": 0,
    "start_time": "2023-01-29T22:30:37.878Z"
   },
   {
    "duration": 1321,
    "start_time": "2023-01-29T22:31:07.612Z"
   },
   {
    "duration": 109,
    "start_time": "2023-01-29T22:31:08.936Z"
   },
   {
    "duration": 40,
    "start_time": "2023-01-29T22:31:09.047Z"
   },
   {
    "duration": 4007,
    "start_time": "2023-01-29T22:31:09.089Z"
   },
   {
    "duration": 9,
    "start_time": "2023-01-29T22:31:13.098Z"
   },
   {
    "duration": 6,
    "start_time": "2023-01-29T22:31:13.109Z"
   },
   {
    "duration": 3,
    "start_time": "2023-01-29T22:31:13.116Z"
   },
   {
    "duration": 4,
    "start_time": "2023-01-29T22:31:13.121Z"
   },
   {
    "duration": 8,
    "start_time": "2023-01-29T22:31:13.126Z"
   },
   {
    "duration": 9,
    "start_time": "2023-01-29T22:31:13.136Z"
   },
   {
    "duration": 33,
    "start_time": "2023-01-29T22:31:13.146Z"
   },
   {
    "duration": 30,
    "start_time": "2023-01-29T22:31:13.181Z"
   },
   {
    "duration": 8,
    "start_time": "2023-01-29T22:31:13.213Z"
   },
   {
    "duration": 14,
    "start_time": "2023-01-29T22:31:13.241Z"
   },
   {
    "duration": 8,
    "start_time": "2023-01-29T22:31:13.257Z"
   },
   {
    "duration": 46,
    "start_time": "2023-01-29T22:31:13.267Z"
   },
   {
    "duration": 3,
    "start_time": "2023-01-29T22:31:13.315Z"
   },
   {
    "duration": 5,
    "start_time": "2023-01-29T22:31:13.341Z"
   },
   {
    "duration": 17,
    "start_time": "2023-01-29T22:31:13.348Z"
   },
   {
    "duration": 7,
    "start_time": "2023-01-29T22:31:13.366Z"
   },
   {
    "duration": 324,
    "start_time": "2023-01-29T22:31:13.375Z"
   },
   {
    "duration": 0,
    "start_time": "2023-01-29T22:31:13.702Z"
   },
   {
    "duration": 0,
    "start_time": "2023-01-29T22:31:13.703Z"
   },
   {
    "duration": 0,
    "start_time": "2023-01-29T22:31:13.704Z"
   },
   {
    "duration": 0,
    "start_time": "2023-01-29T22:31:13.705Z"
   },
   {
    "duration": 0,
    "start_time": "2023-01-29T22:31:13.706Z"
   },
   {
    "duration": 0,
    "start_time": "2023-01-29T22:31:13.707Z"
   },
   {
    "duration": 0,
    "start_time": "2023-01-29T22:31:13.708Z"
   },
   {
    "duration": 0,
    "start_time": "2023-01-29T22:31:13.709Z"
   },
   {
    "duration": 0,
    "start_time": "2023-01-29T22:31:13.710Z"
   },
   {
    "duration": 0,
    "start_time": "2023-01-29T22:31:13.711Z"
   },
   {
    "duration": 0,
    "start_time": "2023-01-29T22:31:13.712Z"
   },
   {
    "duration": 0,
    "start_time": "2023-01-29T22:31:13.713Z"
   },
   {
    "duration": 0,
    "start_time": "2023-01-29T22:31:13.714Z"
   },
   {
    "duration": 0,
    "start_time": "2023-01-29T22:31:13.715Z"
   },
   {
    "duration": 0,
    "start_time": "2023-01-29T22:31:13.717Z"
   },
   {
    "duration": 0,
    "start_time": "2023-01-29T22:31:13.717Z"
   },
   {
    "duration": 0,
    "start_time": "2023-01-29T22:31:13.719Z"
   },
   {
    "duration": 0,
    "start_time": "2023-01-29T22:31:13.720Z"
   },
   {
    "duration": 0,
    "start_time": "2023-01-29T22:31:13.721Z"
   },
   {
    "duration": 0,
    "start_time": "2023-01-29T22:31:13.722Z"
   },
   {
    "duration": 0,
    "start_time": "2023-01-29T22:31:13.723Z"
   },
   {
    "duration": 0,
    "start_time": "2023-01-29T22:31:13.724Z"
   },
   {
    "duration": 0,
    "start_time": "2023-01-29T22:31:13.725Z"
   },
   {
    "duration": 0,
    "start_time": "2023-01-29T22:31:13.726Z"
   },
   {
    "duration": 0,
    "start_time": "2023-01-29T22:31:13.727Z"
   },
   {
    "duration": 0,
    "start_time": "2023-01-29T22:31:13.728Z"
   },
   {
    "duration": 0,
    "start_time": "2023-01-29T22:31:13.729Z"
   },
   {
    "duration": 0,
    "start_time": "2023-01-29T22:31:13.730Z"
   },
   {
    "duration": 0,
    "start_time": "2023-01-29T22:31:13.731Z"
   },
   {
    "duration": 0,
    "start_time": "2023-01-29T22:31:13.732Z"
   },
   {
    "duration": 0,
    "start_time": "2023-01-29T22:31:13.733Z"
   },
   {
    "duration": 0,
    "start_time": "2023-01-29T22:31:13.734Z"
   },
   {
    "duration": 0,
    "start_time": "2023-01-29T22:31:13.735Z"
   },
   {
    "duration": 0,
    "start_time": "2023-01-29T22:31:13.736Z"
   },
   {
    "duration": 0,
    "start_time": "2023-01-29T22:31:13.738Z"
   },
   {
    "duration": 0,
    "start_time": "2023-01-29T22:31:13.739Z"
   },
   {
    "duration": 0,
    "start_time": "2023-01-29T22:31:13.740Z"
   },
   {
    "duration": 0,
    "start_time": "2023-01-29T22:31:13.741Z"
   },
   {
    "duration": 0,
    "start_time": "2023-01-29T22:31:13.741Z"
   },
   {
    "duration": 0,
    "start_time": "2023-01-29T22:31:13.742Z"
   },
   {
    "duration": 0,
    "start_time": "2023-01-29T22:31:13.743Z"
   },
   {
    "duration": 0,
    "start_time": "2023-01-29T22:31:13.745Z"
   },
   {
    "duration": 0,
    "start_time": "2023-01-29T22:31:13.746Z"
   },
   {
    "duration": 0,
    "start_time": "2023-01-29T22:31:13.747Z"
   },
   {
    "duration": 0,
    "start_time": "2023-01-29T22:31:13.748Z"
   },
   {
    "duration": 0,
    "start_time": "2023-01-29T22:31:13.749Z"
   },
   {
    "duration": 0,
    "start_time": "2023-01-29T22:31:13.750Z"
   },
   {
    "duration": 0,
    "start_time": "2023-01-29T22:31:13.751Z"
   },
   {
    "duration": 0,
    "start_time": "2023-01-29T22:31:13.751Z"
   },
   {
    "duration": 0,
    "start_time": "2023-01-29T22:31:13.752Z"
   },
   {
    "duration": 0,
    "start_time": "2023-01-29T22:31:13.753Z"
   },
   {
    "duration": 0,
    "start_time": "2023-01-29T22:31:13.754Z"
   },
   {
    "duration": 0,
    "start_time": "2023-01-29T22:31:13.756Z"
   },
   {
    "duration": 0,
    "start_time": "2023-01-29T22:31:13.757Z"
   },
   {
    "duration": 0,
    "start_time": "2023-01-29T22:31:13.758Z"
   },
   {
    "duration": 0,
    "start_time": "2023-01-29T22:31:13.759Z"
   },
   {
    "duration": 0,
    "start_time": "2023-01-29T22:31:13.759Z"
   },
   {
    "duration": 0,
    "start_time": "2023-01-29T22:31:13.760Z"
   },
   {
    "duration": 0,
    "start_time": "2023-01-29T22:31:13.761Z"
   },
   {
    "duration": 0,
    "start_time": "2023-01-29T22:31:13.762Z"
   },
   {
    "duration": 0,
    "start_time": "2023-01-29T22:31:13.763Z"
   },
   {
    "duration": 0,
    "start_time": "2023-01-29T22:31:13.764Z"
   },
   {
    "duration": 0,
    "start_time": "2023-01-29T22:31:13.765Z"
   },
   {
    "duration": 0,
    "start_time": "2023-01-29T22:31:13.765Z"
   },
   {
    "duration": 0,
    "start_time": "2023-01-29T22:31:13.766Z"
   },
   {
    "duration": 0,
    "start_time": "2023-01-29T22:31:13.767Z"
   },
   {
    "duration": 0,
    "start_time": "2023-01-29T22:31:13.768Z"
   },
   {
    "duration": 0,
    "start_time": "2023-01-29T22:31:13.769Z"
   },
   {
    "duration": 0,
    "start_time": "2023-01-29T22:31:13.770Z"
   },
   {
    "duration": 0,
    "start_time": "2023-01-29T22:31:13.771Z"
   },
   {
    "duration": 0,
    "start_time": "2023-01-29T22:31:13.772Z"
   },
   {
    "duration": 218,
    "start_time": "2023-01-29T22:33:27.763Z"
   },
   {
    "duration": 5,
    "start_time": "2023-01-29T22:33:45.798Z"
   },
   {
    "duration": 27,
    "start_time": "2023-01-29T22:33:59.194Z"
   },
   {
    "duration": 7,
    "start_time": "2023-01-29T22:34:01.237Z"
   },
   {
    "duration": 57,
    "start_time": "2023-01-29T22:34:04.383Z"
   },
   {
    "duration": 6,
    "start_time": "2023-01-29T22:34:09.149Z"
   },
   {
    "duration": 4,
    "start_time": "2023-01-29T22:34:09.701Z"
   },
   {
    "duration": 10,
    "start_time": "2023-01-29T22:34:10.135Z"
   },
   {
    "duration": 6,
    "start_time": "2023-01-29T22:34:12.132Z"
   },
   {
    "duration": 11,
    "start_time": "2023-01-29T22:34:12.549Z"
   },
   {
    "duration": 8,
    "start_time": "2023-01-29T22:34:15.213Z"
   },
   {
    "duration": 9,
    "start_time": "2023-01-29T22:34:15.686Z"
   },
   {
    "duration": 5,
    "start_time": "2023-01-29T22:34:16.092Z"
   },
   {
    "duration": 3,
    "start_time": "2023-01-29T22:34:22.693Z"
   },
   {
    "duration": 5,
    "start_time": "2023-01-29T22:34:25.167Z"
   },
   {
    "duration": 5,
    "start_time": "2023-01-29T22:34:27.693Z"
   },
   {
    "duration": 6,
    "start_time": "2023-01-29T22:34:28.129Z"
   },
   {
    "duration": 5,
    "start_time": "2023-01-29T22:34:28.516Z"
   },
   {
    "duration": 224,
    "start_time": "2023-01-29T22:34:31.496Z"
   },
   {
    "duration": 4,
    "start_time": "2023-01-29T22:34:35.308Z"
   },
   {
    "duration": 36,
    "start_time": "2023-01-29T22:34:37.616Z"
   },
   {
    "duration": 9,
    "start_time": "2023-01-29T22:34:41.229Z"
   },
   {
    "duration": 251,
    "start_time": "2023-01-29T22:34:43.149Z"
   },
   {
    "duration": 9,
    "start_time": "2023-01-29T22:34:46.031Z"
   },
   {
    "duration": 514,
    "start_time": "2023-01-29T22:34:47.533Z"
   },
   {
    "duration": 10,
    "start_time": "2023-01-29T22:34:53.510Z"
   },
   {
    "duration": 251,
    "start_time": "2023-01-29T22:34:54.429Z"
   },
   {
    "duration": 10,
    "start_time": "2023-01-29T22:34:59.532Z"
   },
   {
    "duration": 4,
    "start_time": "2023-01-29T22:35:00.030Z"
   },
   {
    "duration": 718,
    "start_time": "2023-01-29T22:35:01.741Z"
   },
   {
    "duration": 9,
    "start_time": "2023-01-29T22:35:21.772Z"
   },
   {
    "duration": 144,
    "start_time": "2023-01-29T22:35:23.877Z"
   },
   {
    "duration": 9,
    "start_time": "2023-01-29T22:35:27.420Z"
   },
   {
    "duration": 256,
    "start_time": "2023-01-29T22:35:28.212Z"
   },
   {
    "duration": 10,
    "start_time": "2023-01-29T22:35:30.992Z"
   },
   {
    "duration": 158,
    "start_time": "2023-01-29T22:35:31.735Z"
   },
   {
    "duration": 10,
    "start_time": "2023-01-29T22:35:34.324Z"
   },
   {
    "duration": 15,
    "start_time": "2023-01-29T22:35:36.918Z"
   },
   {
    "duration": 149,
    "start_time": "2023-01-29T22:35:38.828Z"
   },
   {
    "duration": 10,
    "start_time": "2023-01-29T22:35:42.343Z"
   },
   {
    "duration": 154,
    "start_time": "2023-01-29T22:35:43.086Z"
   },
   {
    "duration": 9,
    "start_time": "2023-01-29T22:35:45.668Z"
   },
   {
    "duration": 224,
    "start_time": "2023-01-29T22:35:46.544Z"
   },
   {
    "duration": 10,
    "start_time": "2023-01-29T22:35:49.012Z"
   },
   {
    "duration": 172,
    "start_time": "2023-01-29T22:35:49.877Z"
   },
   {
    "duration": 10,
    "start_time": "2023-01-29T22:35:52.493Z"
   },
   {
    "duration": 202,
    "start_time": "2023-01-29T22:35:52.932Z"
   },
   {
    "duration": 140,
    "start_time": "2023-01-29T22:35:56.683Z"
   },
   {
    "duration": 128,
    "start_time": "2023-01-29T22:35:57.406Z"
   },
   {
    "duration": 10,
    "start_time": "2023-01-29T22:36:01.182Z"
   },
   {
    "duration": 319,
    "start_time": "2023-01-29T22:36:01.660Z"
   },
   {
    "duration": 269,
    "start_time": "2023-01-29T22:36:02.073Z"
   },
   {
    "duration": 8,
    "start_time": "2023-01-29T22:36:05.248Z"
   },
   {
    "duration": 219,
    "start_time": "2023-01-29T22:36:09.597Z"
   },
   {
    "duration": 278,
    "start_time": "2023-01-29T22:36:13.237Z"
   },
   {
    "duration": 7,
    "start_time": "2023-01-29T22:36:17.114Z"
   },
   {
    "duration": 6,
    "start_time": "2023-01-29T22:36:19.412Z"
   },
   {
    "duration": 221,
    "start_time": "2023-01-29T22:36:19.912Z"
   },
   {
    "duration": 6,
    "start_time": "2023-01-29T22:36:20.377Z"
   },
   {
    "duration": 233,
    "start_time": "2023-01-29T22:36:24.517Z"
   },
   {
    "duration": 11,
    "start_time": "2023-01-29T22:36:32.445Z"
   },
   {
    "duration": 161,
    "start_time": "2023-01-29T22:36:32.966Z"
   },
   {
    "duration": 14,
    "start_time": "2023-01-29T22:36:38.231Z"
   },
   {
    "duration": 175,
    "start_time": "2023-01-29T22:36:38.816Z"
   },
   {
    "duration": 11,
    "start_time": "2023-01-29T22:36:42.029Z"
   },
   {
    "duration": 143,
    "start_time": "2023-01-29T22:36:42.461Z"
   },
   {
    "duration": 11,
    "start_time": "2023-01-29T22:36:44.973Z"
   },
   {
    "duration": 222,
    "start_time": "2023-01-29T22:36:45.417Z"
   },
   {
    "duration": 11,
    "start_time": "2023-01-29T22:36:48.044Z"
   },
   {
    "duration": 146,
    "start_time": "2023-01-29T22:36:48.557Z"
   },
   {
    "duration": 25,
    "start_time": "2023-01-29T22:36:53.661Z"
   },
   {
    "duration": 210,
    "start_time": "2023-01-29T22:36:54.424Z"
   },
   {
    "duration": 21,
    "start_time": "2023-01-29T22:37:44.655Z"
   },
   {
    "duration": 154,
    "start_time": "2023-01-29T22:37:49.021Z"
   },
   {
    "duration": 1229,
    "start_time": "2023-01-29T22:38:25.886Z"
   },
   {
    "duration": 111,
    "start_time": "2023-01-29T22:38:27.118Z"
   },
   {
    "duration": 52,
    "start_time": "2023-01-29T22:38:27.232Z"
   },
   {
    "duration": 4095,
    "start_time": "2023-01-29T22:38:27.286Z"
   },
   {
    "duration": 15,
    "start_time": "2023-01-29T22:38:31.383Z"
   },
   {
    "duration": 13,
    "start_time": "2023-01-29T22:38:31.400Z"
   },
   {
    "duration": 15,
    "start_time": "2023-01-29T22:38:31.415Z"
   },
   {
    "duration": 19,
    "start_time": "2023-01-29T22:38:31.433Z"
   },
   {
    "duration": 11,
    "start_time": "2023-01-29T22:38:31.454Z"
   },
   {
    "duration": 9,
    "start_time": "2023-01-29T22:38:31.468Z"
   },
   {
    "duration": 50,
    "start_time": "2023-01-29T22:38:31.479Z"
   },
   {
    "duration": 37,
    "start_time": "2023-01-29T22:38:31.531Z"
   },
   {
    "duration": 9,
    "start_time": "2023-01-29T22:38:31.570Z"
   },
   {
    "duration": 20,
    "start_time": "2023-01-29T22:38:31.580Z"
   },
   {
    "duration": 7,
    "start_time": "2023-01-29T22:38:31.602Z"
   },
   {
    "duration": 68,
    "start_time": "2023-01-29T22:38:31.611Z"
   },
   {
    "duration": 3,
    "start_time": "2023-01-29T22:38:31.681Z"
   },
   {
    "duration": 7,
    "start_time": "2023-01-29T22:38:31.686Z"
   },
   {
    "duration": 7,
    "start_time": "2023-01-29T22:38:31.695Z"
   },
   {
    "duration": 24,
    "start_time": "2023-01-29T22:38:31.704Z"
   },
   {
    "duration": 34,
    "start_time": "2023-01-29T22:38:31.739Z"
   },
   {
    "duration": 15,
    "start_time": "2023-01-29T22:38:31.774Z"
   },
   {
    "duration": 60,
    "start_time": "2023-01-29T22:38:31.790Z"
   },
   {
    "duration": 6,
    "start_time": "2023-01-29T22:38:31.851Z"
   },
   {
    "duration": 14,
    "start_time": "2023-01-29T22:38:31.859Z"
   },
   {
    "duration": 32,
    "start_time": "2023-01-29T22:38:31.875Z"
   },
   {
    "duration": 17,
    "start_time": "2023-01-29T22:38:31.909Z"
   },
   {
    "duration": 10,
    "start_time": "2023-01-29T22:38:31.930Z"
   },
   {
    "duration": 23,
    "start_time": "2023-01-29T22:38:31.941Z"
   },
   {
    "duration": 15,
    "start_time": "2023-01-29T22:38:31.966Z"
   },
   {
    "duration": 23,
    "start_time": "2023-01-29T22:38:31.983Z"
   },
   {
    "duration": 14,
    "start_time": "2023-01-29T22:38:32.008Z"
   },
   {
    "duration": 20,
    "start_time": "2023-01-29T22:38:32.024Z"
   },
   {
    "duration": 14,
    "start_time": "2023-01-29T22:38:32.046Z"
   },
   {
    "duration": 6,
    "start_time": "2023-01-29T22:38:32.062Z"
   },
   {
    "duration": 11,
    "start_time": "2023-01-29T22:38:32.070Z"
   },
   {
    "duration": 240,
    "start_time": "2023-01-29T22:38:32.083Z"
   },
   {
    "duration": 5,
    "start_time": "2023-01-29T22:38:32.325Z"
   },
   {
    "duration": 57,
    "start_time": "2023-01-29T22:38:32.331Z"
   },
   {
    "duration": 9,
    "start_time": "2023-01-29T22:38:32.390Z"
   },
   {
    "duration": 263,
    "start_time": "2023-01-29T22:38:32.401Z"
   },
   {
    "duration": 9,
    "start_time": "2023-01-29T22:38:32.666Z"
   },
   {
    "duration": 539,
    "start_time": "2023-01-29T22:38:32.676Z"
   },
   {
    "duration": 9,
    "start_time": "2023-01-29T22:38:33.216Z"
   },
   {
    "duration": 267,
    "start_time": "2023-01-29T22:38:33.226Z"
   },
   {
    "duration": 11,
    "start_time": "2023-01-29T22:38:33.494Z"
   },
   {
    "duration": 5,
    "start_time": "2023-01-29T22:38:33.507Z"
   },
   {
    "duration": 770,
    "start_time": "2023-01-29T22:38:33.514Z"
   },
   {
    "duration": 9,
    "start_time": "2023-01-29T22:38:34.286Z"
   },
   {
    "duration": 171,
    "start_time": "2023-01-29T22:38:34.296Z"
   },
   {
    "duration": 10,
    "start_time": "2023-01-29T22:38:34.469Z"
   },
   {
    "duration": 266,
    "start_time": "2023-01-29T22:38:34.480Z"
   },
   {
    "duration": 9,
    "start_time": "2023-01-29T22:38:34.748Z"
   },
   {
    "duration": 177,
    "start_time": "2023-01-29T22:38:34.759Z"
   },
   {
    "duration": 10,
    "start_time": "2023-01-29T22:38:34.939Z"
   },
   {
    "duration": 28,
    "start_time": "2023-01-29T22:38:34.951Z"
   },
   {
    "duration": 139,
    "start_time": "2023-01-29T22:38:34.981Z"
   },
   {
    "duration": 19,
    "start_time": "2023-01-29T22:38:35.122Z"
   },
   {
    "duration": 165,
    "start_time": "2023-01-29T22:38:35.143Z"
   },
   {
    "duration": 10,
    "start_time": "2023-01-29T22:38:35.309Z"
   },
   {
    "duration": 223,
    "start_time": "2023-01-29T22:38:35.321Z"
   },
   {
    "duration": 10,
    "start_time": "2023-01-29T22:38:35.546Z"
   },
   {
    "duration": 187,
    "start_time": "2023-01-29T22:38:35.557Z"
   },
   {
    "duration": 10,
    "start_time": "2023-01-29T22:38:35.745Z"
   },
   {
    "duration": 216,
    "start_time": "2023-01-29T22:38:35.757Z"
   },
   {
    "duration": 156,
    "start_time": "2023-01-29T22:38:35.975Z"
   },
   {
    "duration": 146,
    "start_time": "2023-01-29T22:38:36.133Z"
   },
   {
    "duration": 9,
    "start_time": "2023-01-29T22:38:36.281Z"
   },
   {
    "duration": 339,
    "start_time": "2023-01-29T22:38:36.292Z"
   },
   {
    "duration": 264,
    "start_time": "2023-01-29T22:38:36.633Z"
   },
   {
    "duration": 8,
    "start_time": "2023-01-29T22:38:36.899Z"
   },
   {
    "duration": 234,
    "start_time": "2023-01-29T22:38:36.909Z"
   },
   {
    "duration": 248,
    "start_time": "2023-01-29T22:38:37.146Z"
   },
   {
    "duration": 7,
    "start_time": "2023-01-29T22:38:37.396Z"
   },
   {
    "duration": 6,
    "start_time": "2023-01-29T22:38:37.405Z"
   },
   {
    "duration": 250,
    "start_time": "2023-01-29T22:38:37.413Z"
   },
   {
    "duration": 7,
    "start_time": "2023-01-29T22:38:37.665Z"
   },
   {
    "duration": 253,
    "start_time": "2023-01-29T22:38:37.674Z"
   },
   {
    "duration": 14,
    "start_time": "2023-01-29T22:38:37.929Z"
   },
   {
    "duration": 176,
    "start_time": "2023-01-29T22:38:37.945Z"
   },
   {
    "duration": 17,
    "start_time": "2023-01-29T22:38:38.123Z"
   },
   {
    "duration": 175,
    "start_time": "2023-01-29T22:38:38.146Z"
   },
   {
    "duration": 22,
    "start_time": "2023-01-29T22:38:38.323Z"
   },
   {
    "duration": 164,
    "start_time": "2023-01-29T22:38:38.347Z"
   },
   {
    "duration": 11,
    "start_time": "2023-01-29T22:38:38.513Z"
   },
   {
    "duration": 246,
    "start_time": "2023-01-29T22:38:38.525Z"
   },
   {
    "duration": 10,
    "start_time": "2023-01-29T22:38:38.773Z"
   },
   {
    "duration": 206,
    "start_time": "2023-01-29T22:38:38.785Z"
   },
   {
    "duration": 25,
    "start_time": "2023-01-29T22:38:38.992Z"
   },
   {
    "duration": 223,
    "start_time": "2023-01-29T22:38:39.019Z"
   },
   {
    "duration": 21,
    "start_time": "2023-01-29T22:38:39.244Z"
   },
   {
    "duration": 173,
    "start_time": "2023-01-29T22:38:39.267Z"
   },
   {
    "duration": 1378,
    "start_time": "2023-01-30T06:45:20.569Z"
   },
   {
    "duration": 98,
    "start_time": "2023-01-30T06:45:21.950Z"
   },
   {
    "duration": 38,
    "start_time": "2023-01-30T06:45:22.050Z"
   },
   {
    "duration": 3545,
    "start_time": "2023-01-30T06:45:22.091Z"
   },
   {
    "duration": 10,
    "start_time": "2023-01-30T06:45:25.637Z"
   },
   {
    "duration": 23,
    "start_time": "2023-01-30T06:45:25.649Z"
   },
   {
    "duration": 25,
    "start_time": "2023-01-30T06:45:25.674Z"
   },
   {
    "duration": 11,
    "start_time": "2023-01-30T06:45:25.700Z"
   },
   {
    "duration": 17,
    "start_time": "2023-01-30T06:45:25.713Z"
   },
   {
    "duration": 19,
    "start_time": "2023-01-30T06:45:25.732Z"
   },
   {
    "duration": 31,
    "start_time": "2023-01-30T06:45:25.752Z"
   },
   {
    "duration": 27,
    "start_time": "2023-01-30T06:45:25.784Z"
   },
   {
    "duration": 9,
    "start_time": "2023-01-30T06:45:25.813Z"
   },
   {
    "duration": 20,
    "start_time": "2023-01-30T06:45:25.824Z"
   },
   {
    "duration": 18,
    "start_time": "2023-01-30T06:45:25.846Z"
   },
   {
    "duration": 67,
    "start_time": "2023-01-30T06:45:25.866Z"
   },
   {
    "duration": 3,
    "start_time": "2023-01-30T06:45:25.935Z"
   },
   {
    "duration": 12,
    "start_time": "2023-01-30T06:45:25.939Z"
   },
   {
    "duration": 23,
    "start_time": "2023-01-30T06:45:25.953Z"
   },
   {
    "duration": 15,
    "start_time": "2023-01-30T06:45:25.978Z"
   },
   {
    "duration": 41,
    "start_time": "2023-01-30T06:45:25.994Z"
   },
   {
    "duration": 6,
    "start_time": "2023-01-30T06:45:26.037Z"
   },
   {
    "duration": 69,
    "start_time": "2023-01-30T06:45:26.044Z"
   },
   {
    "duration": 5,
    "start_time": "2023-01-30T06:45:26.114Z"
   },
   {
    "duration": 10,
    "start_time": "2023-01-30T06:45:26.120Z"
   },
   {
    "duration": 10,
    "start_time": "2023-01-30T06:45:26.132Z"
   },
   {
    "duration": 6,
    "start_time": "2023-01-30T06:45:26.144Z"
   },
   {
    "duration": 9,
    "start_time": "2023-01-30T06:45:26.156Z"
   },
   {
    "duration": 12,
    "start_time": "2023-01-30T06:45:26.167Z"
   },
   {
    "duration": 31,
    "start_time": "2023-01-30T06:45:26.180Z"
   },
   {
    "duration": 8,
    "start_time": "2023-01-30T06:45:26.213Z"
   },
   {
    "duration": 4,
    "start_time": "2023-01-30T06:45:26.223Z"
   },
   {
    "duration": 16,
    "start_time": "2023-01-30T06:45:26.228Z"
   },
   {
    "duration": 7,
    "start_time": "2023-01-30T06:45:26.245Z"
   },
   {
    "duration": 6,
    "start_time": "2023-01-30T06:45:26.254Z"
   },
   {
    "duration": 5,
    "start_time": "2023-01-30T06:45:26.262Z"
   },
   {
    "duration": 267,
    "start_time": "2023-01-30T06:45:26.268Z"
   },
   {
    "duration": 4,
    "start_time": "2023-01-30T06:45:26.537Z"
   },
   {
    "duration": 62,
    "start_time": "2023-01-30T06:45:26.542Z"
   },
   {
    "duration": 15,
    "start_time": "2023-01-30T06:45:26.606Z"
   },
   {
    "duration": 314,
    "start_time": "2023-01-30T06:45:26.623Z"
   },
   {
    "duration": 13,
    "start_time": "2023-01-30T06:45:26.939Z"
   },
   {
    "duration": 506,
    "start_time": "2023-01-30T06:45:26.955Z"
   },
   {
    "duration": 11,
    "start_time": "2023-01-30T06:45:27.463Z"
   },
   {
    "duration": 259,
    "start_time": "2023-01-30T06:45:27.476Z"
   },
   {
    "duration": 10,
    "start_time": "2023-01-30T06:45:27.736Z"
   },
   {
    "duration": 30,
    "start_time": "2023-01-30T06:45:27.748Z"
   },
   {
    "duration": 670,
    "start_time": "2023-01-30T06:45:27.780Z"
   },
   {
    "duration": 8,
    "start_time": "2023-01-30T06:45:28.452Z"
   },
   {
    "duration": 164,
    "start_time": "2023-01-30T06:45:28.461Z"
   },
   {
    "duration": 9,
    "start_time": "2023-01-30T06:45:28.627Z"
   },
   {
    "duration": 240,
    "start_time": "2023-01-30T06:45:28.638Z"
   },
   {
    "duration": 10,
    "start_time": "2023-01-30T06:45:28.880Z"
   },
   {
    "duration": 169,
    "start_time": "2023-01-30T06:45:28.891Z"
   },
   {
    "duration": 9,
    "start_time": "2023-01-30T06:45:29.061Z"
   },
   {
    "duration": 23,
    "start_time": "2023-01-30T06:45:29.071Z"
   },
   {
    "duration": 127,
    "start_time": "2023-01-30T06:45:29.096Z"
   },
   {
    "duration": 11,
    "start_time": "2023-01-30T06:45:29.224Z"
   },
   {
    "duration": 182,
    "start_time": "2023-01-30T06:45:29.237Z"
   },
   {
    "duration": 11,
    "start_time": "2023-01-30T06:45:29.421Z"
   },
   {
    "duration": 197,
    "start_time": "2023-01-30T06:45:29.434Z"
   },
   {
    "duration": 11,
    "start_time": "2023-01-30T06:45:29.633Z"
   },
   {
    "duration": 205,
    "start_time": "2023-01-30T06:45:29.646Z"
   },
   {
    "duration": 11,
    "start_time": "2023-01-30T06:45:29.853Z"
   },
   {
    "duration": 225,
    "start_time": "2023-01-30T06:45:29.866Z"
   },
   {
    "duration": 196,
    "start_time": "2023-01-30T06:45:30.093Z"
   },
   {
    "duration": 137,
    "start_time": "2023-01-30T06:45:30.290Z"
   },
   {
    "duration": 11,
    "start_time": "2023-01-30T06:45:30.429Z"
   },
   {
    "duration": 297,
    "start_time": "2023-01-30T06:45:30.442Z"
   },
   {
    "duration": 276,
    "start_time": "2023-01-30T06:45:30.741Z"
   },
   {
    "duration": 10,
    "start_time": "2023-01-30T06:45:31.018Z"
   },
   {
    "duration": 221,
    "start_time": "2023-01-30T06:45:31.029Z"
   },
   {
    "duration": 261,
    "start_time": "2023-01-30T06:45:31.252Z"
   },
   {
    "duration": 6,
    "start_time": "2023-01-30T06:45:31.515Z"
   },
   {
    "duration": 35,
    "start_time": "2023-01-30T06:45:31.523Z"
   },
   {
    "duration": 227,
    "start_time": "2023-01-30T06:45:31.560Z"
   },
   {
    "duration": 4,
    "start_time": "2023-01-30T06:45:31.789Z"
   },
   {
    "duration": 242,
    "start_time": "2023-01-30T06:45:31.796Z"
   },
   {
    "duration": 12,
    "start_time": "2023-01-30T06:45:32.040Z"
   },
   {
    "duration": 174,
    "start_time": "2023-01-30T06:45:32.053Z"
   },
   {
    "duration": 11,
    "start_time": "2023-01-30T06:45:32.229Z"
   },
   {
    "duration": 155,
    "start_time": "2023-01-30T06:45:32.247Z"
   },
   {
    "duration": 10,
    "start_time": "2023-01-30T06:45:32.410Z"
   },
   {
    "duration": 147,
    "start_time": "2023-01-30T06:45:32.421Z"
   },
   {
    "duration": 11,
    "start_time": "2023-01-30T06:45:32.569Z"
   },
   {
    "duration": 209,
    "start_time": "2023-01-30T06:45:32.581Z"
   },
   {
    "duration": 18,
    "start_time": "2023-01-30T06:45:32.792Z"
   },
   {
    "duration": 140,
    "start_time": "2023-01-30T06:45:32.811Z"
   },
   {
    "duration": 27,
    "start_time": "2023-01-30T06:45:32.955Z"
   },
   {
    "duration": 237,
    "start_time": "2023-01-30T06:45:32.984Z"
   },
   {
    "duration": 20,
    "start_time": "2023-01-30T06:45:33.224Z"
   },
   {
    "duration": 180,
    "start_time": "2023-01-30T06:45:33.245Z"
   },
   {
    "duration": 18,
    "start_time": "2023-01-30T06:46:58.526Z"
   }
  ],
  "kernelspec": {
   "display_name": "Python 3 (ipykernel)",
   "language": "python",
   "name": "python3"
  },
  "language_info": {
   "codemirror_mode": {
    "name": "ipython",
    "version": 3
   },
   "file_extension": ".py",
   "mimetype": "text/x-python",
   "name": "python",
   "nbconvert_exporter": "python",
   "pygments_lexer": "ipython3",
   "version": "3.10.9"
  },
  "toc": {
   "base_numbering": 1,
   "nav_menu": {},
   "number_sections": true,
   "sideBar": true,
   "skip_h1_title": true,
   "title_cell": "Table of Contents",
   "title_sidebar": "Contents",
   "toc_cell": false,
   "toc_position": {},
   "toc_section_display": true,
   "toc_window_display": false
  }
 },
 "nbformat": 4,
 "nbformat_minor": 2
}
