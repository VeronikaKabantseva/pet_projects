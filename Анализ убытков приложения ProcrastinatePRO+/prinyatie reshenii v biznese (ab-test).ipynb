{
 "cells": [
  {
   "cell_type": "markdown",
   "metadata": {},
   "source": [
    "# Проект "
   ]
  },
  {
   "cell_type": "markdown",
   "metadata": {},
   "source": [
    "Цель: Приоритизировать гипотезы по увеличению выручки, подготовленные совместно с отделом маркетинга, запустить A/B-тест и проанализировать результаты."
   ]
  },
  {
   "cell_type": "code",
   "execution_count": 1,
   "metadata": {},
   "outputs": [],
   "source": [
    "#импорт необходимых библиотек\n",
    "\n",
    "import pandas as pd\n",
    "import scipy.stats as stats\n",
    "import datetime as dt\n",
    "import numpy as np\n",
    "import matplotlib.pyplot as plt\n",
    "from scipy import stats as st\n",
    "from pandas.plotting import register_matplotlib_converters\n",
    "import warnings\n",
    "# конвертеры, которые позволяют использовать типы pandas в matplotlib  \n",
    "register_matplotlib_converters()\n"
   ]
  },
  {
   "cell_type": "markdown",
   "metadata": {},
   "source": [
    "## часть. Приоритизация гипотез."
   ]
  },
  {
   "cell_type": "markdown",
   "metadata": {},
   "source": [
    "### Предобработка данных"
   ]
  },
  {
   "cell_type": "code",
   "execution_count": 2,
   "metadata": {},
   "outputs": [],
   "source": [
    "try:\n",
    "    hypothesis= pd.read_csv('/datasets/hypothesis.csv')\n",
    "except:\n",
    "    hypothesis= pd.read_csv('https://code.s3.yandex.net/datasets/hypothesis.csv')\n",
    "pd.set_option('max_colwidth', 400) #для полного отображения информации в датафреймах"
   ]
  },
  {
   "cell_type": "code",
   "execution_count": 3,
   "metadata": {},
   "outputs": [
    {
     "name": "stdout",
     "output_type": "stream",
     "text": [
      "<class 'pandas.core.frame.DataFrame'>\n",
      "RangeIndex: 9 entries, 0 to 8\n",
      "Data columns (total 5 columns):\n",
      " #   Column      Non-Null Count  Dtype \n",
      "---  ------      --------------  ----- \n",
      " 0   Hypothesis  9 non-null      object\n",
      " 1   Reach       9 non-null      int64 \n",
      " 2   Impact      9 non-null      int64 \n",
      " 3   Confidence  9 non-null      int64 \n",
      " 4   Efforts     9 non-null      int64 \n",
      "dtypes: int64(4), object(1)\n",
      "memory usage: 488.0+ bytes\n"
     ]
    }
   ],
   "source": [
    "hypothesis.info() #получаем информацию о датасете"
   ]
  },
  {
   "cell_type": "code",
   "execution_count": 4,
   "metadata": {},
   "outputs": [
    {
     "data": {
      "text/html": [
       "<div>\n",
       "<style scoped>\n",
       "    .dataframe tbody tr th:only-of-type {\n",
       "        vertical-align: middle;\n",
       "    }\n",
       "\n",
       "    .dataframe tbody tr th {\n",
       "        vertical-align: top;\n",
       "    }\n",
       "\n",
       "    .dataframe thead th {\n",
       "        text-align: right;\n",
       "    }\n",
       "</style>\n",
       "<table border=\"1\" class=\"dataframe\">\n",
       "  <thead>\n",
       "    <tr style=\"text-align: right;\">\n",
       "      <th></th>\n",
       "      <th>Hypothesis</th>\n",
       "      <th>Reach</th>\n",
       "      <th>Impact</th>\n",
       "      <th>Confidence</th>\n",
       "      <th>Efforts</th>\n",
       "    </tr>\n",
       "  </thead>\n",
       "  <tbody>\n",
       "    <tr>\n",
       "      <th>0</th>\n",
       "      <td>Добавить два новых канала привлечения трафика, что позволит привлекать на 30% больше пользователей</td>\n",
       "      <td>3</td>\n",
       "      <td>10</td>\n",
       "      <td>8</td>\n",
       "      <td>6</td>\n",
       "    </tr>\n",
       "    <tr>\n",
       "      <th>1</th>\n",
       "      <td>Запустить собственную службу доставки, что сократит срок доставки заказов</td>\n",
       "      <td>2</td>\n",
       "      <td>5</td>\n",
       "      <td>4</td>\n",
       "      <td>10</td>\n",
       "    </tr>\n",
       "    <tr>\n",
       "      <th>2</th>\n",
       "      <td>Добавить блоки рекомендаций товаров на сайт интернет магазина, чтобы повысить конверсию и средний чек заказа</td>\n",
       "      <td>8</td>\n",
       "      <td>3</td>\n",
       "      <td>7</td>\n",
       "      <td>3</td>\n",
       "    </tr>\n",
       "    <tr>\n",
       "      <th>3</th>\n",
       "      <td>Изменить структура категорий, что увеличит конверсию, т.к. пользователи быстрее найдут нужный товар</td>\n",
       "      <td>8</td>\n",
       "      <td>3</td>\n",
       "      <td>3</td>\n",
       "      <td>8</td>\n",
       "    </tr>\n",
       "    <tr>\n",
       "      <th>4</th>\n",
       "      <td>Изменить цвет фона главной страницы, чтобы увеличить вовлеченность пользователей</td>\n",
       "      <td>3</td>\n",
       "      <td>1</td>\n",
       "      <td>1</td>\n",
       "      <td>1</td>\n",
       "    </tr>\n",
       "    <tr>\n",
       "      <th>5</th>\n",
       "      <td>Добавить страницу отзывов клиентов о магазине, что позволит увеличить количество заказов</td>\n",
       "      <td>3</td>\n",
       "      <td>2</td>\n",
       "      <td>2</td>\n",
       "      <td>3</td>\n",
       "    </tr>\n",
       "    <tr>\n",
       "      <th>6</th>\n",
       "      <td>Показать на главной странице баннеры с актуальными акциями и распродажами, чтобы увеличить конверсию</td>\n",
       "      <td>5</td>\n",
       "      <td>3</td>\n",
       "      <td>8</td>\n",
       "      <td>3</td>\n",
       "    </tr>\n",
       "    <tr>\n",
       "      <th>7</th>\n",
       "      <td>Добавить форму подписки на все основные страницы, чтобы собрать базу клиентов для email-рассылок</td>\n",
       "      <td>10</td>\n",
       "      <td>7</td>\n",
       "      <td>8</td>\n",
       "      <td>5</td>\n",
       "    </tr>\n",
       "    <tr>\n",
       "      <th>8</th>\n",
       "      <td>Запустить акцию, дающую скидку на товар в день рождения</td>\n",
       "      <td>1</td>\n",
       "      <td>9</td>\n",
       "      <td>9</td>\n",
       "      <td>5</td>\n",
       "    </tr>\n",
       "  </tbody>\n",
       "</table>\n",
       "</div>"
      ],
      "text/plain": [
       "                                                                                                     Hypothesis  \\\n",
       "0            Добавить два новых канала привлечения трафика, что позволит привлекать на 30% больше пользователей   \n",
       "1                                     Запустить собственную службу доставки, что сократит срок доставки заказов   \n",
       "2  Добавить блоки рекомендаций товаров на сайт интернет магазина, чтобы повысить конверсию и средний чек заказа   \n",
       "3           Изменить структура категорий, что увеличит конверсию, т.к. пользователи быстрее найдут нужный товар   \n",
       "4                              Изменить цвет фона главной страницы, чтобы увеличить вовлеченность пользователей   \n",
       "5                      Добавить страницу отзывов клиентов о магазине, что позволит увеличить количество заказов   \n",
       "6          Показать на главной странице баннеры с актуальными акциями и распродажами, чтобы увеличить конверсию   \n",
       "7              Добавить форму подписки на все основные страницы, чтобы собрать базу клиентов для email-рассылок   \n",
       "8                                                       Запустить акцию, дающую скидку на товар в день рождения   \n",
       "\n",
       "   Reach  Impact  Confidence  Efforts  \n",
       "0      3      10           8        6  \n",
       "1      2       5           4       10  \n",
       "2      8       3           7        3  \n",
       "3      8       3           3        8  \n",
       "4      3       1           1        1  \n",
       "5      3       2           2        3  \n",
       "6      5       3           8        3  \n",
       "7     10       7           8        5  \n",
       "8      1       9           9        5  "
      ]
     },
     "execution_count": 4,
     "metadata": {},
     "output_type": "execute_result"
    }
   ],
   "source": [
    "hypothesis.head(9)"
   ]
  },
  {
   "cell_type": "markdown",
   "metadata": {},
   "source": [
    "В данном датасете нет пропусков, столбцы имеют корректный тип, поэтому можно переходить к определению приоритета гипотез."
   ]
  },
  {
   "cell_type": "markdown",
   "metadata": {},
   "source": [
    "### Применение фреймворка ICE для приоритизации гипотез"
   ]
  },
  {
   "cell_type": "code",
   "execution_count": 5,
   "metadata": {},
   "outputs": [
    {
     "data": {
      "text/html": [
       "<div>\n",
       "<style scoped>\n",
       "    .dataframe tbody tr th:only-of-type {\n",
       "        vertical-align: middle;\n",
       "    }\n",
       "\n",
       "    .dataframe tbody tr th {\n",
       "        vertical-align: top;\n",
       "    }\n",
       "\n",
       "    .dataframe thead th {\n",
       "        text-align: right;\n",
       "    }\n",
       "</style>\n",
       "<table border=\"1\" class=\"dataframe\">\n",
       "  <thead>\n",
       "    <tr style=\"text-align: right;\">\n",
       "      <th></th>\n",
       "      <th>Hypothesis</th>\n",
       "      <th>ICE</th>\n",
       "    </tr>\n",
       "  </thead>\n",
       "  <tbody>\n",
       "    <tr>\n",
       "      <th>8</th>\n",
       "      <td>Запустить акцию, дающую скидку на товар в день рождения</td>\n",
       "      <td>16.20</td>\n",
       "    </tr>\n",
       "    <tr>\n",
       "      <th>0</th>\n",
       "      <td>Добавить два новых канала привлечения трафика, что позволит привлекать на 30% больше пользователей</td>\n",
       "      <td>13.33</td>\n",
       "    </tr>\n",
       "    <tr>\n",
       "      <th>7</th>\n",
       "      <td>Добавить форму подписки на все основные страницы, чтобы собрать базу клиентов для email-рассылок</td>\n",
       "      <td>11.20</td>\n",
       "    </tr>\n",
       "    <tr>\n",
       "      <th>6</th>\n",
       "      <td>Показать на главной странице баннеры с актуальными акциями и распродажами, чтобы увеличить конверсию</td>\n",
       "      <td>8.00</td>\n",
       "    </tr>\n",
       "    <tr>\n",
       "      <th>2</th>\n",
       "      <td>Добавить блоки рекомендаций товаров на сайт интернет магазина, чтобы повысить конверсию и средний чек заказа</td>\n",
       "      <td>7.00</td>\n",
       "    </tr>\n",
       "    <tr>\n",
       "      <th>1</th>\n",
       "      <td>Запустить собственную службу доставки, что сократит срок доставки заказов</td>\n",
       "      <td>2.00</td>\n",
       "    </tr>\n",
       "    <tr>\n",
       "      <th>5</th>\n",
       "      <td>Добавить страницу отзывов клиентов о магазине, что позволит увеличить количество заказов</td>\n",
       "      <td>1.33</td>\n",
       "    </tr>\n",
       "    <tr>\n",
       "      <th>3</th>\n",
       "      <td>Изменить структура категорий, что увеличит конверсию, т.к. пользователи быстрее найдут нужный товар</td>\n",
       "      <td>1.12</td>\n",
       "    </tr>\n",
       "    <tr>\n",
       "      <th>4</th>\n",
       "      <td>Изменить цвет фона главной страницы, чтобы увеличить вовлеченность пользователей</td>\n",
       "      <td>1.00</td>\n",
       "    </tr>\n",
       "  </tbody>\n",
       "</table>\n",
       "</div>"
      ],
      "text/plain": [
       "                                                                                                     Hypothesis  \\\n",
       "8                                                       Запустить акцию, дающую скидку на товар в день рождения   \n",
       "0            Добавить два новых канала привлечения трафика, что позволит привлекать на 30% больше пользователей   \n",
       "7              Добавить форму подписки на все основные страницы, чтобы собрать базу клиентов для email-рассылок   \n",
       "6          Показать на главной странице баннеры с актуальными акциями и распродажами, чтобы увеличить конверсию   \n",
       "2  Добавить блоки рекомендаций товаров на сайт интернет магазина, чтобы повысить конверсию и средний чек заказа   \n",
       "1                                     Запустить собственную службу доставки, что сократит срок доставки заказов   \n",
       "5                      Добавить страницу отзывов клиентов о магазине, что позволит увеличить количество заказов   \n",
       "3           Изменить структура категорий, что увеличит конверсию, т.к. пользователи быстрее найдут нужный товар   \n",
       "4                              Изменить цвет фона главной страницы, чтобы увеличить вовлеченность пользователей   \n",
       "\n",
       "     ICE  \n",
       "8  16.20  \n",
       "0  13.33  \n",
       "7  11.20  \n",
       "6   8.00  \n",
       "2   7.00  \n",
       "1   2.00  \n",
       "5   1.33  \n",
       "3   1.12  \n",
       "4   1.00  "
      ]
     },
     "execution_count": 5,
     "metadata": {},
     "output_type": "execute_result"
    }
   ],
   "source": [
    "hypothesis['ICE'] = round((hypothesis['Impact'] * hypothesis['Confidence'] / hypothesis['Efforts']), 2)\n",
    "hypothesis[['Hypothesis', 'ICE']].sort_values(by = 'ICE', ascending = False)"
   ]
  },
  {
   "cell_type": "markdown",
   "metadata": {},
   "source": [
    "Вывод: По ICE наиболее перспективными являются следующие гипотезы: \n",
    "\n",
    "8 \"Запустить акцию, дающую скидку на товар в день рождения\", \n",
    "\n",
    "0 \"Добавить два новых канала привлечения трафика, что позволит привлекать на 30% больше пользователей\", \n",
    "\n",
    "7 \"Добавить форму подписки на все основные страницы, чтобы собрать базу клиентов для email-рассылок\""
   ]
  },
  {
   "cell_type": "markdown",
   "metadata": {},
   "source": [
    "### Применение фреймворка RICE для приоритизации гипотез"
   ]
  },
  {
   "cell_type": "code",
   "execution_count": 6,
   "metadata": {},
   "outputs": [
    {
     "data": {
      "text/html": [
       "<div>\n",
       "<style scoped>\n",
       "    .dataframe tbody tr th:only-of-type {\n",
       "        vertical-align: middle;\n",
       "    }\n",
       "\n",
       "    .dataframe tbody tr th {\n",
       "        vertical-align: top;\n",
       "    }\n",
       "\n",
       "    .dataframe thead th {\n",
       "        text-align: right;\n",
       "    }\n",
       "</style>\n",
       "<table border=\"1\" class=\"dataframe\">\n",
       "  <thead>\n",
       "    <tr style=\"text-align: right;\">\n",
       "      <th></th>\n",
       "      <th>Hypothesis</th>\n",
       "      <th>RICE</th>\n",
       "    </tr>\n",
       "  </thead>\n",
       "  <tbody>\n",
       "    <tr>\n",
       "      <th>7</th>\n",
       "      <td>Добавить форму подписки на все основные страницы, чтобы собрать базу клиентов для email-рассылок</td>\n",
       "      <td>112.0</td>\n",
       "    </tr>\n",
       "    <tr>\n",
       "      <th>2</th>\n",
       "      <td>Добавить блоки рекомендаций товаров на сайт интернет магазина, чтобы повысить конверсию и средний чек заказа</td>\n",
       "      <td>56.0</td>\n",
       "    </tr>\n",
       "    <tr>\n",
       "      <th>0</th>\n",
       "      <td>Добавить два новых канала привлечения трафика, что позволит привлекать на 30% больше пользователей</td>\n",
       "      <td>40.0</td>\n",
       "    </tr>\n",
       "    <tr>\n",
       "      <th>6</th>\n",
       "      <td>Показать на главной странице баннеры с актуальными акциями и распродажами, чтобы увеличить конверсию</td>\n",
       "      <td>40.0</td>\n",
       "    </tr>\n",
       "    <tr>\n",
       "      <th>8</th>\n",
       "      <td>Запустить акцию, дающую скидку на товар в день рождения</td>\n",
       "      <td>16.2</td>\n",
       "    </tr>\n",
       "    <tr>\n",
       "      <th>3</th>\n",
       "      <td>Изменить структура категорий, что увеличит конверсию, т.к. пользователи быстрее найдут нужный товар</td>\n",
       "      <td>9.0</td>\n",
       "    </tr>\n",
       "    <tr>\n",
       "      <th>1</th>\n",
       "      <td>Запустить собственную службу доставки, что сократит срок доставки заказов</td>\n",
       "      <td>4.0</td>\n",
       "    </tr>\n",
       "    <tr>\n",
       "      <th>5</th>\n",
       "      <td>Добавить страницу отзывов клиентов о магазине, что позволит увеличить количество заказов</td>\n",
       "      <td>4.0</td>\n",
       "    </tr>\n",
       "    <tr>\n",
       "      <th>4</th>\n",
       "      <td>Изменить цвет фона главной страницы, чтобы увеличить вовлеченность пользователей</td>\n",
       "      <td>3.0</td>\n",
       "    </tr>\n",
       "  </tbody>\n",
       "</table>\n",
       "</div>"
      ],
      "text/plain": [
       "                                                                                                     Hypothesis  \\\n",
       "7              Добавить форму подписки на все основные страницы, чтобы собрать базу клиентов для email-рассылок   \n",
       "2  Добавить блоки рекомендаций товаров на сайт интернет магазина, чтобы повысить конверсию и средний чек заказа   \n",
       "0            Добавить два новых канала привлечения трафика, что позволит привлекать на 30% больше пользователей   \n",
       "6          Показать на главной странице баннеры с актуальными акциями и распродажами, чтобы увеличить конверсию   \n",
       "8                                                       Запустить акцию, дающую скидку на товар в день рождения   \n",
       "3           Изменить структура категорий, что увеличит конверсию, т.к. пользователи быстрее найдут нужный товар   \n",
       "1                                     Запустить собственную службу доставки, что сократит срок доставки заказов   \n",
       "5                      Добавить страницу отзывов клиентов о магазине, что позволит увеличить количество заказов   \n",
       "4                              Изменить цвет фона главной страницы, чтобы увеличить вовлеченность пользователей   \n",
       "\n",
       "    RICE  \n",
       "7  112.0  \n",
       "2   56.0  \n",
       "0   40.0  \n",
       "6   40.0  \n",
       "8   16.2  \n",
       "3    9.0  \n",
       "1    4.0  \n",
       "5    4.0  \n",
       "4    3.0  "
      ]
     },
     "execution_count": 6,
     "metadata": {},
     "output_type": "execute_result"
    }
   ],
   "source": [
    "hypothesis['RICE'] = hypothesis['Reach'] * hypothesis['Impact'] * hypothesis['Confidence'] / hypothesis['Efforts']\n",
    "hypothesis[['Hypothesis', 'RICE']].sort_values(by = 'RICE', ascending = False)"
   ]
  },
  {
   "cell_type": "markdown",
   "metadata": {},
   "source": [
    "Вывод: По методу RICE наиболее перспективными также остаются гипотезы 7 и 0, однако также добавляется гипотеза под номером 2 - \"Добавить блоки рекомендаций товаров на сайт интернет магазина, чтобы повысить конверсию и средний чек заказа\". Также стоит отметить, что гипотеза под номером 7 поднялась с третьего на первое место. Это связано с тем, что расчет по методу RICE включает важный параметр Reach- вовлечение других пользователей. "
   ]
  },
  {
   "cell_type": "markdown",
   "metadata": {},
   "source": [
    "## часть. Анализ A/B-теста."
   ]
  },
  {
   "cell_type": "code",
   "execution_count": 7,
   "metadata": {},
   "outputs": [],
   "source": [
    "try:\n",
    "    orders = pd.read_csv('/datasets/orders.csv', parse_dates=['date'])\n",
    "except:\n",
    "    orders = pd.read_csv('https://code.s3.yandex.net/datasets/orders.csv', parse_dates=['date'])# меняем тип данных столбца data на datetime64[ns]     \n",
    "try:\n",
    "    visitors= pd.read_csv('/datasets/visitors.csv', parse_dates=['date'])\n",
    "except:\n",
    "    visitors= pd.read_csv('https://code.s3.yandex.net/datasets/visitors.csv', parse_dates=['date'])"
   ]
  },
  {
   "cell_type": "markdown",
   "metadata": {},
   "source": [
    "### Предобработка данных"
   ]
  },
  {
   "cell_type": "code",
   "execution_count": 8,
   "metadata": {},
   "outputs": [
    {
     "name": "stdout",
     "output_type": "stream",
     "text": [
      "<class 'pandas.core.frame.DataFrame'>\n",
      "RangeIndex: 1197 entries, 0 to 1196\n",
      "Data columns (total 5 columns):\n",
      " #   Column         Non-Null Count  Dtype         \n",
      "---  ------         --------------  -----         \n",
      " 0   transactionId  1197 non-null   int64         \n",
      " 1   visitorId      1197 non-null   int64         \n",
      " 2   date           1197 non-null   datetime64[ns]\n",
      " 3   revenue        1197 non-null   int64         \n",
      " 4   group          1197 non-null   object        \n",
      "dtypes: datetime64[ns](1), int64(3), object(1)\n",
      "memory usage: 46.9+ KB\n"
     ]
    }
   ],
   "source": [
    "orders.info()"
   ]
  },
  {
   "cell_type": "code",
   "execution_count": 9,
   "metadata": {},
   "outputs": [
    {
     "data": {
      "text/html": [
       "<div>\n",
       "<style scoped>\n",
       "    .dataframe tbody tr th:only-of-type {\n",
       "        vertical-align: middle;\n",
       "    }\n",
       "\n",
       "    .dataframe tbody tr th {\n",
       "        vertical-align: top;\n",
       "    }\n",
       "\n",
       "    .dataframe thead th {\n",
       "        text-align: right;\n",
       "    }\n",
       "</style>\n",
       "<table border=\"1\" class=\"dataframe\">\n",
       "  <thead>\n",
       "    <tr style=\"text-align: right;\">\n",
       "      <th></th>\n",
       "      <th>transactionId</th>\n",
       "      <th>visitorId</th>\n",
       "      <th>date</th>\n",
       "      <th>revenue</th>\n",
       "      <th>group</th>\n",
       "    </tr>\n",
       "  </thead>\n",
       "  <tbody>\n",
       "    <tr>\n",
       "      <th>0</th>\n",
       "      <td>3667963787</td>\n",
       "      <td>3312258926</td>\n",
       "      <td>2019-08-15</td>\n",
       "      <td>1650</td>\n",
       "      <td>B</td>\n",
       "    </tr>\n",
       "    <tr>\n",
       "      <th>1</th>\n",
       "      <td>2804400009</td>\n",
       "      <td>3642806036</td>\n",
       "      <td>2019-08-15</td>\n",
       "      <td>730</td>\n",
       "      <td>B</td>\n",
       "    </tr>\n",
       "    <tr>\n",
       "      <th>2</th>\n",
       "      <td>2961555356</td>\n",
       "      <td>4069496402</td>\n",
       "      <td>2019-08-15</td>\n",
       "      <td>400</td>\n",
       "      <td>A</td>\n",
       "    </tr>\n",
       "    <tr>\n",
       "      <th>3</th>\n",
       "      <td>3797467345</td>\n",
       "      <td>1196621759</td>\n",
       "      <td>2019-08-15</td>\n",
       "      <td>9759</td>\n",
       "      <td>B</td>\n",
       "    </tr>\n",
       "    <tr>\n",
       "      <th>4</th>\n",
       "      <td>2282983706</td>\n",
       "      <td>2322279887</td>\n",
       "      <td>2019-08-15</td>\n",
       "      <td>2308</td>\n",
       "      <td>B</td>\n",
       "    </tr>\n",
       "  </tbody>\n",
       "</table>\n",
       "</div>"
      ],
      "text/plain": [
       "   transactionId   visitorId       date  revenue group\n",
       "0     3667963787  3312258926 2019-08-15     1650     B\n",
       "1     2804400009  3642806036 2019-08-15      730     B\n",
       "2     2961555356  4069496402 2019-08-15      400     A\n",
       "3     3797467345  1196621759 2019-08-15     9759     B\n",
       "4     2282983706  2322279887 2019-08-15     2308     B"
      ]
     },
     "execution_count": 9,
     "metadata": {},
     "output_type": "execute_result"
    }
   ],
   "source": [
    "orders.head()"
   ]
  },
  {
   "cell_type": "code",
   "execution_count": 10,
   "metadata": {},
   "outputs": [
    {
     "data": {
      "text/plain": [
       "0"
      ]
     },
     "execution_count": 10,
     "metadata": {},
     "output_type": "execute_result"
    }
   ],
   "source": [
    "orders.duplicated().sum() #проверка на дубликаты"
   ]
  },
  {
   "cell_type": "code",
   "execution_count": 11,
   "metadata": {},
   "outputs": [
    {
     "data": {
      "text/plain": [
       "transactionId    0\n",
       "visitorId        0\n",
       "date             0\n",
       "revenue          0\n",
       "group            0\n",
       "dtype: int64"
      ]
     },
     "execution_count": 11,
     "metadata": {},
     "output_type": "execute_result"
    }
   ],
   "source": [
    "orders.isna().sum() #проверка на наличие пропусков"
   ]
  },
  {
   "cell_type": "code",
   "execution_count": 12,
   "metadata": {},
   "outputs": [],
   "source": [
    "#orders['date'] = pd.to_datetime(orders['date']) #изменим тип"
   ]
  },
  {
   "cell_type": "code",
   "execution_count": 13,
   "metadata": {},
   "outputs": [],
   "source": [
    "orders = orders.rename(columns={'transactionId': 'transaction_id', 'visitorId': 'visitor_id'}) #переименование столбцов"
   ]
  },
  {
   "cell_type": "markdown",
   "metadata": {},
   "source": [
    "Посчитаем сколько пользователей в каждой группе."
   ]
  },
  {
   "cell_type": "code",
   "execution_count": 14,
   "metadata": {},
   "outputs": [
    {
     "data": {
      "text/plain": [
       "group\n",
       "A    503\n",
       "B    586\n",
       "Name: visitor_id, dtype: int64"
      ]
     },
     "execution_count": 14,
     "metadata": {},
     "output_type": "execute_result"
    }
   ],
   "source": [
    "orders.groupby('group')['visitor_id'].nunique()"
   ]
  },
  {
   "cell_type": "markdown",
   "metadata": {},
   "source": [
    "Найдем количество пользователей, по ошибке попавших сразу в обе группы  и удалим из датафрейма."
   ]
  },
  {
   "cell_type": "code",
   "execution_count": 15,
   "metadata": {},
   "outputs": [
    {
     "data": {
      "text/plain": [
       "58"
      ]
     },
     "execution_count": 15,
     "metadata": {},
     "output_type": "execute_result"
    }
   ],
   "source": [
    "two_group = pd.Series(orders.loc[orders['visitor_id'].isin(orders.loc[orders['group'] == 'A']['visitor_id']) &\n",
    "                orders['visitor_id'].isin(orders.loc[orders['group'] == 'B']['visitor_id']),'visitor_id'].unique())\n",
    "two_group.nunique()"
   ]
  },
  {
   "cell_type": "code",
   "execution_count": 16,
   "metadata": {},
   "outputs": [
    {
     "data": {
      "text/plain": [
       "1197"
      ]
     },
     "execution_count": 16,
     "metadata": {},
     "output_type": "execute_result"
    }
   ],
   "source": [
    "orders['visitor_id'].count() #общее количество пользователей"
   ]
  },
  {
   "cell_type": "markdown",
   "metadata": {},
   "source": [
    "Пользователи, попавшие в обе группы, составляют менее 5% от общего количества, что не является критичным."
   ]
  },
  {
   "cell_type": "code",
   "execution_count": 17,
   "metadata": {},
   "outputs": [
    {
     "name": "stdout",
     "output_type": "stream",
     "text": [
      "<class 'pandas.core.frame.DataFrame'>\n",
      "RangeIndex: 62 entries, 0 to 61\n",
      "Data columns (total 3 columns):\n",
      " #   Column    Non-Null Count  Dtype         \n",
      "---  ------    --------------  -----         \n",
      " 0   date      62 non-null     datetime64[ns]\n",
      " 1   group     62 non-null     object        \n",
      " 2   visitors  62 non-null     int64         \n",
      "dtypes: datetime64[ns](1), int64(1), object(1)\n",
      "memory usage: 1.6+ KB\n"
     ]
    }
   ],
   "source": [
    "visitors.info()"
   ]
  },
  {
   "cell_type": "code",
   "execution_count": 18,
   "metadata": {},
   "outputs": [],
   "source": [
    "#visitors['date'] = pd.to_datetime(visitors['date']) #изменим тип"
   ]
  },
  {
   "cell_type": "code",
   "execution_count": 19,
   "metadata": {},
   "outputs": [
    {
     "data": {
      "text/plain": [
       "0"
      ]
     },
     "execution_count": 19,
     "metadata": {},
     "output_type": "execute_result"
    }
   ],
   "source": [
    "visitors.duplicated().sum() #проверка на дубликаты"
   ]
  },
  {
   "cell_type": "code",
   "execution_count": 20,
   "metadata": {},
   "outputs": [
    {
     "data": {
      "text/plain": [
       "date        0\n",
       "group       0\n",
       "visitors    0\n",
       "dtype: int64"
      ]
     },
     "execution_count": 20,
     "metadata": {},
     "output_type": "execute_result"
    }
   ],
   "source": [
    "visitors.isna().sum() #проверка на пропуски"
   ]
  },
  {
   "cell_type": "markdown",
   "metadata": {},
   "source": [
    "Вывод: На этапе предобработки данных были переименованы столбцы в датафрейме orders, выполнена проверка на дубликаты и на наличие пропусков, а также изменен тип данных в столбцах с датой. Помимо этого, была проведена проверка на попадание пользователей в обе группы теста - таких пользователей оказалось 58, что составляет менее 5 % от общего числа - приняла решение ничего с ними не делать."
   ]
  },
  {
   "cell_type": "markdown",
   "metadata": {},
   "source": [
    "Так как у нас всего две группы в тесте - он является парным. Ниже определим дату начала и окончания теста, чтобы понимать временные рамки исследования"
   ]
  },
  {
   "cell_type": "code",
   "execution_count": 21,
   "metadata": {},
   "outputs": [
    {
     "data": {
      "text/plain": [
       "Timestamp('2019-08-01 00:00:00')"
      ]
     },
     "execution_count": 21,
     "metadata": {},
     "output_type": "execute_result"
    }
   ],
   "source": [
    "orders['date'].min() #минимальная дата теста"
   ]
  },
  {
   "cell_type": "code",
   "execution_count": 22,
   "metadata": {},
   "outputs": [
    {
     "data": {
      "text/plain": [
       "Timestamp('2019-08-31 00:00:00')"
      ]
     },
     "execution_count": 22,
     "metadata": {},
     "output_type": "execute_result"
    }
   ],
   "source": [
    "orders['date'].max() #максимальная дата теста"
   ]
  },
  {
   "cell_type": "markdown",
   "metadata": {},
   "source": [
    "### График кумулятивной выручки по группам"
   ]
  },
  {
   "cell_type": "code",
   "execution_count": 23,
   "metadata": {},
   "outputs": [
    {
     "name": "stdout",
     "output_type": "stream",
     "text": [
      "        date group  orders  buyers  revenue  visitors\n",
      "0 2019-08-01     A      24      20   148579       719\n",
      "1 2019-08-01     B      21      20   101217       713\n",
      "2 2019-08-02     A      44      38   242401      1338\n",
      "3 2019-08-02     B      45      43   266748      1294\n",
      "4 2019-08-03     A      68      62   354874      1845\n"
     ]
    }
   ],
   "source": [
    "# создаем массив уникальных пар значений дат и групп теста\n",
    "dates_groups = orders[['date','group']].drop_duplicates()\n",
    "\n",
    "# получаем агрегированные кумулятивные по дням данные о заказах \n",
    "orders_aggregated = dates_groups.apply(lambda x: orders[np.logical_and(orders['date'] <= x['date'], orders['group'] == x['group'])]\n",
    "    .agg({'date' : 'max', 'group' : 'max', 'transaction_id' : 'nunique', 'visitor_id' : 'nunique', 'revenue' : 'sum'}), axis=1).sort_values(by=['date','group'])\n",
    "\n",
    "# получаем агрегированные кумулятивные по дням данные о посетителях интернет-магазина \n",
    "visitors_aggregated = dates_groups.apply(lambda x: visitors[np.logical_and(visitors['date'] <= x['date'], visitors['group'] == x['group'])]\n",
    "                                         .agg({'date' : 'max', 'group' : 'max', 'visitors' : 'sum'}), axis=1).sort_values(by=['date','group'])\n",
    "\n",
    "# объединяем кумулятивные данные в одной таблице и присваиваем ее столбцам понятные названия\n",
    "cumulative_data = orders_aggregated.merge(visitors_aggregated, left_on=['date', 'group'], right_on=['date', 'group'])\n",
    "cumulative_data.columns = ['date', 'group', 'orders', 'buyers', 'revenue', 'visitors']\n",
    "\n",
    "print(cumulative_data.head(5))"
   ]
  },
  {
   "cell_type": "code",
   "execution_count": 24,
   "metadata": {},
   "outputs": [
    {
     "data": {
      "image/png": "[encoded data removed]",
      "text/plain": [
       "<Figure size 1000x800 with 1 Axes>"
      ]
     },
     "metadata": {},
     "output_type": "display_data"
    }
   ],
   "source": [
    "# задаём размер для графиков\n",
    "plt.figure(figsize=(10, 8))\n",
    "\n",
    "# датафрейм с кумулятивным количеством заказов и кумулятивной выручкой по дням в группе А\n",
    "cumulative_revenueA = cumulative_data[cumulative_data['group']=='A'][['date', 'revenue', 'orders']]\n",
    "\n",
    "# датафрейм с кумулятивным количеством заказов и кумулятивной выручкой по дням в группе B\n",
    "cumulative_revenueB = cumulative_data[cumulative_data['group']=='B'][['date', 'revenue', 'orders']]\n",
    "\n",
    "# строим график выручки группы А\n",
    "plt.plot(cumulative_revenueA['date'], cumulative_revenueA['revenue'], label='A')\n",
    "\n",
    "# строим график выручки группы B\n",
    "plt.plot(cumulative_revenueB['date'], cumulative_revenueB['revenue'], label='B')\n",
    "\n",
    "plt.grid(visible=True)\n",
    "plt.title('Графики кумулятивной выручки по группам', fontsize=14)\n",
    "plt.xlabel('Дата', fontsize=14)\n",
    "plt.ylabel('Выручка', fontsize=14)\n",
    "plt.legend()\n",
    "plt.show()"
   ]
  },
  {
   "cell_type": "markdown",
   "metadata": {},
   "source": [
    "Вывод: Выручка почти равномерно увеличивается в течение всего теста. Однако график выручки группы B имеет резкий рост в определенной точке. Возможно дело в аномальном количестве заказов или же заказ один, но аномально дорогой. "
   ]
  },
  {
   "cell_type": "markdown",
   "metadata": {},
   "source": [
    "### График кумулятивного среднего чека по группам"
   ]
  },
  {
   "cell_type": "code",
   "execution_count": 25,
   "metadata": {},
   "outputs": [
    {
     "data": {
      "image/png": "[encoded data removed]",
      "text/plain": [
       "<Figure size 1000x800 with 1 Axes>"
      ]
     },
     "metadata": {},
     "output_type": "display_data"
    }
   ],
   "source": [
    "# задаём размер для графиков\n",
    "plt.figure(figsize=(10, 8))\n",
    "#аналогично предыдущему пункту выплдним построение графика с данными о среднем чеке по группам\n",
    "plt.plot(cumulative_revenueA['date'], cumulative_revenueA['revenue']/cumulative_revenueA['orders'], label='A')\n",
    "plt.plot(cumulative_revenueB['date'], cumulative_revenueB['revenue']/cumulative_revenueB['orders'], label='B')\n",
    "plt.legend()\n",
    "\n",
    "plt.grid(visible=True)\n",
    "plt.title('Графики кумулятивного среднего чека по группам', fontsize=14)\n",
    "plt.xlabel('Дата', fontsize=14)\n",
    "plt.ylabel('Средний чек', fontsize=14)\n",
    "plt.legend() \n",
    "plt.show()"
   ]
  },
  {
   "cell_type": "markdown",
   "metadata": {},
   "source": [
    "Вывод: Средний чек в группе A снижается в начале, далее интенсивный рост и стабилизация ориентировочно после 17 августа. Средний чек в группе B имеет некоторую тенденцию к росту, затем сильный скачок в районе 17-21 августа и дальше тренд на снижение."
   ]
  },
  {
   "cell_type": "markdown",
   "metadata": {},
   "source": [
    "### График относительного изменения кумулятивного среднего чека группы B к группе A"
   ]
  },
  {
   "cell_type": "code",
   "execution_count": 26,
   "metadata": {},
   "outputs": [
    {
     "data": {
      "image/png": "[encoded data removed]",
      "text/plain": [
       "<Figure size 1000x800 with 1 Axes>"
      ]
     },
     "metadata": {},
     "output_type": "display_data"
    }
   ],
   "source": [
    "# собираем данные в одном датафрейме\n",
    "merged_cumulative_revenue = cumulative_revenueA.merge(cumulative_revenueB, left_on='date', right_on='date', how='left', suffixes=['A', 'B'])\n",
    "\n",
    "# cтроим отношение средних чеков\n",
    "plt.figure(figsize=(10, 8))\n",
    "plt.plot(merged_cumulative_revenue['date'], (merged_cumulative_revenue['revenueB']/merged_cumulative_revenue['ordersB'])/(merged_cumulative_revenue['revenueA']/merged_cumulative_revenue['ordersA'])-1)\n",
    "plt.grid(visible=True)\n",
    "plt.title('График относительного изменения кумулятивного среднего чека группы B к группе A', fontsize=14)\n",
    "plt.xlabel('Дата', fontsize=12)\n",
    "plt.ylabel('Отношение среднего чека группы B к группе A', fontsize=12)\n",
    "plt.axhline(y=0.0, color='black', linestyle='--');"
   ]
  },
  {
   "cell_type": "markdown",
   "metadata": {},
   "source": [
    "Вывод: Данный график подтверждает выводы, сделанные выше, о наличии аномально крупных заказов в группе B."
   ]
  },
  {
   "cell_type": "markdown",
   "metadata": {},
   "source": [
    "### График кумулятивного среднего количества заказов на посетителя по группам"
   ]
  },
  {
   "cell_type": "code",
   "execution_count": 27,
   "metadata": {},
   "outputs": [
    {
     "data": {
      "image/png": "[encoded data removed]",
      "text/plain": [
       "<Figure size 1000x800 with 1 Axes>"
      ]
     },
     "metadata": {},
     "output_type": "display_data"
    }
   ],
   "source": [
    "# считаем кумулятивное среднее количество закзазов\n",
    "cumulative_data['avg_orders'] = cumulative_data['orders']/cumulative_data['visitors']\n",
    "\n",
    "# отделяем данные по группе A\n",
    "cumulative_data_a = cumulative_data[cumulative_data['group']=='A']\n",
    "\n",
    "# отделяем данные по группе B\n",
    "cumulative_data_b = cumulative_data[cumulative_data['group']=='B']\n",
    "\n",
    "# задаём размер для графиков\n",
    "plt.figure(figsize=(10, 8))\n",
    "\n",
    "# строим графики\n",
    "plt.plot(cumulative_data_a['date'], cumulative_data_a['avg_orders'], label='A')\n",
    "plt.plot(cumulative_data_b['date'], cumulative_data_b['avg_orders'], label='B')\n",
    "\n",
    "# задаем масштаб осей\n",
    "plt.axis([dt.datetime(2019, 8, 1), dt.datetime(2019, 8, 31), 0, 0.05]) \n",
    "\n",
    "plt.grid(visible=True)\n",
    "plt.title('График кумулятивного среднего количества заказов на посетителя по группам', fontsize=14)\n",
    "plt.ylim(0.028, 0.038)\n",
    "plt.xlabel('Дата', fontsize=12)\n",
    "plt.ylabel('Среднее количество заказов на посетителя', fontsize=12)\n",
    "plt.legend()\n",
    "plt.show()"
   ]
  },
  {
   "cell_type": "markdown",
   "metadata": {},
   "source": [
    "Вывод: В начале видны сильные скачки среднего количества заказов на посетителя в обеих группах, после 13 августа тоже заметны колебания, но незначительные, можно сказать, что значения стабилизируются. Данные в группе B показывают более хороший результат."
   ]
  },
  {
   "cell_type": "markdown",
   "metadata": {},
   "source": [
    "### График относительного изменения кумулятивного среднего количества заказов на посетителя группы B к группе A"
   ]
  },
  {
   "cell_type": "code",
   "execution_count": 28,
   "metadata": {},
   "outputs": [
    {
     "data": {
      "image/png": "[encoded data removed]",
      "text/plain": [
       "<Figure size 1000x800 with 1 Axes>"
      ]
     },
     "metadata": {},
     "output_type": "display_data"
    }
   ],
   "source": [
    "merged_cumulative_avg_orders = cumulative_data_a[['date','avg_orders']].merge(\n",
    "    cumulative_data_b[['date','avg_orders']],\n",
    "    left_on='date',\n",
    "    right_on='date',\n",
    "    how='left',\n",
    "    suffixes=['A', 'B'])\n",
    "\n",
    "# задаём размер для графика\n",
    "plt.figure(figsize=(10, 8))\n",
    "\n",
    "# cтроим отношение конверсий\n",
    "plt.plot(merged_cumulative_avg_orders['date'],\n",
    "         merged_cumulative_avg_orders['avg_ordersB']/\n",
    "         merged_cumulative_avg_orders['avg_ordersA']-1)\n",
    "\n",
    "# добавляем оси X\n",
    "plt.axhline(y=0, color='orange', linestyle='--')\n",
    "plt.axhline(y=0.15, color='green', linestyle='--')\n",
    "\n",
    "# задаем масштаб осей\n",
    "plt.axis([dt.datetime(2019, 8, 1), dt.datetime(2019, 8, 31), -0.12, 0.22])\n",
    "\n",
    "plt.grid(visible=True)\n",
    "plt.title('График относительного изменения кумулятивного среднего количества заказов на посетителя группы B к группе A', fontsize=14)\n",
    "plt.xlabel('Дата', fontsize=12)\n",
    "plt.ylabel('Отношение среднего количества заказов на посетителя', fontsize=12)\n",
    "plt.show()"
   ]
  },
  {
   "cell_type": "markdown",
   "metadata": {},
   "source": [
    "Вывод: Начиная с 5 августа группа B лидирует по среднему количеству заказов на пользователя. Наблюдается прирост в 15% относительно группы А, однако после 17 августа начинает снижаться."
   ]
  },
  {
   "cell_type": "markdown",
   "metadata": {},
   "source": [
    "### Точечный график количества заказов по пользователям"
   ]
  },
  {
   "cell_type": "code",
   "execution_count": 29,
   "metadata": {},
   "outputs": [
    {
     "data": {
      "image/png": "[encoded data removed]",
      "text/plain": [
       "<Figure size 1000x500 with 1 Axes>"
      ]
     },
     "metadata": {},
     "output_type": "display_data"
    }
   ],
   "source": [
    "orders_by_users = orders.groupby(['visitor_id', 'group'], as_index=False).agg({'transaction_id': 'nunique'})\n",
    "\n",
    "orders_by_users.columns = ['visitor_id','group','orders']\n",
    "\n",
    "x_values = pd.Series(range(0,len(orders_by_users)))\n",
    "plt.figure(figsize=(10, 5))\n",
    "plt.scatter(x_values, orders_by_users['orders'], alpha=0.3)\n",
    "plt.xlabel('Пользователи', fontsize=12)\n",
    "plt.title('Точечный график количества заказов по пользователям', fontsize=14)\n",
    "plt.ylabel('Количество заказов', fontsize=12)\n",
    "plt.show()\n"
   ]
  },
  {
   "cell_type": "markdown",
   "metadata": {},
   "source": [
    "Вывод: Наибольшее количество пользователей делают 1 заказ, гораздо меньшее количество делают 2 заказа. Более 3 заказов большая редкость, но считать ли их выбросами посмотрим далее."
   ]
  },
  {
   "cell_type": "markdown",
   "metadata": {},
   "source": [
    "### Расчет 95-ого и 99-ого перцентилей количества заказов на пользователя"
   ]
  },
  {
   "cell_type": "code",
   "execution_count": 30,
   "metadata": {},
   "outputs": [
    {
     "data": {
      "text/plain": [
       "array([2., 4.])"
      ]
     },
     "execution_count": 30,
     "metadata": {},
     "output_type": "execute_result"
    }
   ],
   "source": [
    "orders_by_users.sort_values(by='orders', ascending=False).head(10)\n",
    "\n",
    "np.percentile(orders_by_users['orders'], [95, 99])"
   ]
  },
  {
   "cell_type": "markdown",
   "metadata": {},
   "source": [
    "Вывод: 4 и более заказов совершало 1 % пользователей, более 2 заказов совершали 5% пользоваетелей. Для следующего этапа расчета за аномальных пользователей примем тех, кто совершил более 2 заказов."
   ]
  },
  {
   "cell_type": "markdown",
   "metadata": {},
   "source": [
    "### Точечный график стоимостей заказов"
   ]
  },
  {
   "cell_type": "code",
   "execution_count": 31,
   "metadata": {},
   "outputs": [
    {
     "data": {
      "image/png": "[encoded data removed]",
      "text/plain": [
       "<Figure size 1000x500 with 1 Axes>"
      ]
     },
     "metadata": {},
     "output_type": "display_data"
    }
   ],
   "source": [
    "x_values = pd.Series(range(0,len(orders['revenue'])))\n",
    "plt.figure(figsize=(10, 5))\n",
    "plt.scatter(x_values, orders['revenue'], alpha=0.4)\n",
    "plt.title('Точечный график распределения стоимостей заказов', fontsize=14)\n",
    "plt.ylabel('Стоимость заказа, ₽', fontsize=12)\n",
    "plt.xlabel('Пользователи', fontsize=12)\n",
    "plt.show()"
   ]
  },
  {
   "cell_type": "markdown",
   "metadata": {},
   "source": [
    "Вывод: На графике сразу бросается в глаза аномальный выброс стоимости заказа. Построим второй график без него для лучшей наглядности распределения"
   ]
  },
  {
   "cell_type": "code",
   "execution_count": 32,
   "metadata": {},
   "outputs": [],
   "source": [
    "orders_new = orders.query('revenue < 40000')"
   ]
  },
  {
   "cell_type": "code",
   "execution_count": 33,
   "metadata": {},
   "outputs": [
    {
     "data": {
      "image/png": "[encoded data removed]",
      "text/plain": [
       "<Figure size 1000x500 with 1 Axes>"
      ]
     },
     "metadata": {},
     "output_type": "display_data"
    }
   ],
   "source": [
    "x_values = pd.Series(range(0,len(orders_new['revenue'])))\n",
    "plt.figure(figsize=(10, 5))\n",
    "plt.scatter(x_values, orders_new['revenue'], alpha=0.4)\n",
    "plt.title('Точечный график распределения стоимостей заказов до 40тыс.', fontsize=14)\n",
    "plt.ylabel('Стоимость заказа, ₽', fontsize=12)\n",
    "plt.xlabel('Пользователи', fontsize=12)\n",
    "plt.show()"
   ]
  },
  {
   "cell_type": "markdown",
   "metadata": {},
   "source": [
    "Вывод: В основном стоимость заказов находится в диапазоне до 20тыс.руб. Более крупные заказы делают реже."
   ]
  },
  {
   "cell_type": "markdown",
   "metadata": {},
   "source": [
    "### Расчет 95-ого и 99-ого перцентилей стоимости заказов"
   ]
  },
  {
   "cell_type": "code",
   "execution_count": 34,
   "metadata": {},
   "outputs": [
    {
     "data": {
      "text/plain": [
       "array([28000. , 58233.2])"
      ]
     },
     "execution_count": 34,
     "metadata": {},
     "output_type": "execute_result"
    }
   ],
   "source": [
    "np.percentile(orders['revenue'], [95, 99])"
   ]
  },
  {
   "cell_type": "markdown",
   "metadata": {},
   "source": [
    "Вывод: Стоимость заказа 28тыс.руб. и выше имеют 5% заказов, стоимость заказа в районе 58тыс.руб. - не более 1%. Для следующего этапа расчета за аномальных пользователей примем тех, кто совершил заказ более чем на 28 тыс.руб."
   ]
  },
  {
   "cell_type": "markdown",
   "metadata": {},
   "source": [
    "### Расчет статистической значимости различий в среднем количестве заказов на посетителя между группами по «сырым» данным."
   ]
  },
  {
   "cell_type": "markdown",
   "metadata": {},
   "source": [
    "Для расчета статистической значимости сформулируем нулевую и альтернативную гипотезы:\n",
    "\n",
    "H_0 - различий в среднем количестве заказов на посетителя между группами нет,\n",
    "\n",
    "H_a - различия в среднем количестве заказов на посетителя между группами есть."
   ]
  },
  {
   "cell_type": "markdown",
   "metadata": {},
   "source": [
    "Для проверки гипотез будем применять непараметрический тест Уилкоксона-Манна-Уитни. Его применение обосновано наличием в данных аномально выскоих значений - выбросов, а также тем, что эти данные распределены ненормально: могут быть крупные покупки или множество заказов."
   ]
  },
  {
   "cell_type": "code",
   "execution_count": 35,
   "metadata": {},
   "outputs": [],
   "source": [
    "ordersA = orders.query('group == \"A\"').reset_index(drop=True)\n",
    "ordersB = orders.query('group == \"B\"').reset_index(drop=True)\n",
    "orders_by_usersA = orders_by_users.query('group == \"A\"').reset_index(drop=True)\n",
    "orders_by_usersB = orders_by_users.query('group == \"B\"').reset_index(drop=True)"
   ]
  },
  {
   "cell_type": "code",
   "execution_count": 36,
   "metadata": {},
   "outputs": [],
   "source": [
    "sampleA = pd.concat([orders_by_usersA['orders'],\n",
    "                     pd.Series(0, index=np.arange(visitors[visitors['group'] == 'A']['visitors'].sum() - len(orders_by_usersA['orders'])),\n",
    "                               name='orders')],axis=0)\n",
    "\n",
    "sampleB = pd.concat([orders_by_usersB['orders'],\n",
    "                     pd.Series(0, index=np.arange(visitors[visitors['group'] == 'B']['visitors'].sum() - len(orders_by_usersB['orders'])),\n",
    "                               name='orders')],axis=0)"
   ]
  },
  {
   "cell_type": "code",
   "execution_count": 37,
   "metadata": {},
   "outputs": [
    {
     "name": "stdout",
     "output_type": "stream",
     "text": [
      "p_value =  0.017\n",
      "Относительное различие в среднем количестве заказов на посетителя между группами по «сырым» данным 0.138\n"
     ]
    }
   ],
   "source": [
    "print('p_value = ', \"{0:.3f}\".format(stats.mannwhitneyu(sampleA, sampleB)[1]))\n",
    "\n",
    "print('Относительное различие в среднем количестве заказов на посетителя между группами по «сырым» данным', \"{0:.3f}\".format(sampleB.mean()/sampleA.mean()-1))"
   ]
  },
  {
   "cell_type": "markdown",
   "metadata": {},
   "source": [
    "Вывод: p-value меньше 0,05, поэтому нулевую гипотезу отвергаем. Анализ \"сырых\" данных показывает, что в среднем количестве заказов на посетителя между группами есть статистически значимые различия"
   ]
  },
  {
   "cell_type": "markdown",
   "metadata": {},
   "source": [
    "### Расчет статистической значимости различий в среднем чеке заказа между группами по «сырым» данным."
   ]
  },
  {
   "cell_type": "code",
   "execution_count": 38,
   "metadata": {},
   "outputs": [
    {
     "name": "stdout",
     "output_type": "stream",
     "text": [
      "p_value =  0.729\n",
      "Относительный прирост среднего чека группы B = 0.259\n"
     ]
    }
   ],
   "source": [
    "print('p_value = ', '{0:.3f}'.format(stats.mannwhitneyu(orders[orders['group']=='A']['revenue'], orders[orders['group']=='B']['revenue'])[1]))\n",
    "print('Относительный прирост среднего чека группы B =', '{0:.3f}'.format(orders[orders['group']=='B']['revenue'].mean()/orders[orders['group']=='A']['revenue'].mean()-1))"
   ]
  },
  {
   "cell_type": "markdown",
   "metadata": {},
   "source": [
    "Вывод: p-value гораздо больше 0,05 - статистически значимых отличий в среднем чеке между группами нет. Относительное различие среднего чека между группами всего 2,6%."
   ]
  },
  {
   "cell_type": "markdown",
   "metadata": {},
   "source": [
    "### Расчет статистической значимости различий в среднем количестве заказов на посетителя между группами по «очищенным» данным"
   ]
  },
  {
   "cell_type": "markdown",
   "metadata": {},
   "source": [
    "Для расчета статистической значимости сформулируем нулевую и альтернативную гипотезы:\n",
    "\n",
    "H_0 - различий в среднем чеке между группами нет,\n",
    "\n",
    "H_a - различия в среднем чеке между группами есть."
   ]
  },
  {
   "cell_type": "code",
   "execution_count": 39,
   "metadata": {},
   "outputs": [],
   "source": [
    "users_many_orders = pd.concat(\n",
    "    [orders_by_usersA[orders_by_usersA['orders'] > np.percentile(orders_by_users['orders'], 95)]['visitor_id'],\n",
    "    orders_by_usersB[orders_by_usersB['orders'] > np.percentile(orders_by_users['orders'], 95)]['visitor_id']],\n",
    "    axis=0)\n",
    "\n",
    "users_expensive_orders = orders[orders['revenue'] > np.percentile(orders['revenue'], 95)]['visitor_id']\n",
    "abnormal_users = (pd.concat([users_many_orders, users_expensive_orders], axis=0)\n",
    "    .drop_duplicates()\n",
    "    .sort_values())\n"
   ]
  },
  {
   "cell_type": "markdown",
   "metadata": {},
   "source": [
    "Посчитаем абсолютные и относительные потери пользователей. "
   ]
  },
  {
   "cell_type": "code",
   "execution_count": 40,
   "metadata": {},
   "outputs": [
    {
     "data": {
      "text/plain": [
       "74"
      ]
     },
     "execution_count": 40,
     "metadata": {},
     "output_type": "execute_result"
    }
   ],
   "source": [
    "absolute_loss = abnormal_users.nunique()\n",
    "absolute_loss"
   ]
  },
  {
   "cell_type": "code",
   "execution_count": 41,
   "metadata": {},
   "outputs": [
    {
     "data": {
      "text/plain": [
       "7.177497575169738"
      ]
     },
     "execution_count": 41,
     "metadata": {},
     "output_type": "execute_result"
    }
   ],
   "source": [
    "relative_loss = abnormal_users.nunique() * 100 / orders['visitor_id'].nunique()\n",
    "relative_loss"
   ]
  },
  {
   "cell_type": "markdown",
   "metadata": {},
   "source": [
    "Абсолютные потери составляют 74 пользователя, относительные потери составили 7%, что является приемлемым."
   ]
  },
  {
   "cell_type": "code",
   "execution_count": 42,
   "metadata": {},
   "outputs": [
    {
     "name": "stdout",
     "output_type": "stream",
     "text": [
      "p_value =  0.013\n",
      "Относительное различие в среднем количестве заказов между группами по «очищенным» данным: 0.173\n"
     ]
    }
   ],
   "source": [
    "sampleA_filtered = pd.concat(\n",
    "    [orders_by_usersA[np.logical_not(orders_by_usersA['visitor_id'].isin(abnormal_users))]['orders'],\n",
    "        pd.Series(0, index=np.arange(visitors[visitors['group'] == 'A']['visitors'].sum() - len(orders_by_usersA['orders'])),\n",
    "            name='orders')],axis=0)\n",
    "\n",
    "sampleB_filtered = pd.concat(\n",
    "    [orders_by_usersB[np.logical_not(orders_by_usersB['visitor_id'].isin(abnormal_users))]['orders'],\n",
    "        pd.Series(0, index=np.arange(visitors[visitors['group'] == 'B']['visitors'].sum() - len(orders_by_usersB['orders'])),\n",
    "            name='orders',),],axis=0)\n",
    "\n",
    "print('p_value = ', '{0:.3f}'.format(stats.mannwhitneyu(sampleA_filtered, sampleB_filtered)[1]))\n",
    "print('Относительное различие в среднем количестве заказов между группами по «очищенным» данным:', '{0:.3f}'.format(sampleB_filtered.mean()/sampleA_filtered.mean()-1))"
   ]
  },
  {
   "cell_type": "markdown",
   "metadata": {},
   "source": [
    "Вывод: Результаты по \"очищенным\" данным почти не отличаются от результатов по \"сырым\" данным: p-value также меньше, чем 0,05, а относительное различие в среднем количестве заказов на посетителя между группами показывает, что сегмент B лучше, чем сегмент А."
   ]
  },
  {
   "cell_type": "markdown",
   "metadata": {},
   "source": [
    "### Расчет статистической значимости различий в среднем чеке заказа между группами по «очищенным» данным. "
   ]
  },
  {
   "cell_type": "code",
   "execution_count": 43,
   "metadata": {},
   "outputs": [
    {
     "name": "stdout",
     "output_type": "stream",
     "text": [
      "p_value =  0.738\n",
      "Относительное различие в среднем чеке между группами по «очищенным» данным: -0.020\n"
     ]
    }
   ],
   "source": [
    "print('p_value = ', '{0:.3f}'.format(stats.mannwhitneyu(orders[np.logical_and(orders['group'] == 'A',\n",
    "                    np.logical_not(orders['visitor_id'].isin(abnormal_users)),)]['revenue'],\n",
    "            orders[np.logical_and(orders['group'] == 'B',np.logical_not(orders['visitor_id']\n",
    "           .isin(abnormal_users)),)]['revenue'],)[1]))\n",
    "\n",
    "print('Относительное различие в среднем чеке между группами по «очищенным» данным:', '{0:.3f}'.format(\n",
    "    orders[np.logical_and(orders['group'] == 'B',\n",
    "        np.logical_not(orders['visitor_id']\n",
    "                       .isin(abnormal_users)))]['revenue'].mean() / orders[np.logical_and(orders['group'] == 'A',\n",
    "        np.logical_not(orders['visitor_id']\n",
    "                       .isin(abnormal_users)))]['revenue'].mean() - 1))"
   ]
  },
  {
   "cell_type": "markdown",
   "metadata": {},
   "source": [
    "Вывод:  p-value больше 0,05, что означет что в среднем чеке по «очищенным» данным различий нет. Но относительное различие в среднем чеке между группами по «очищенным» данным отрицательное, то есть средний чек группы А больше среднего чека группы В. Значит аномлаьно высокий чек в группе В существенно улучшал показатели данной группы."
   ]
  },
  {
   "cell_type": "markdown",
   "metadata": {},
   "source": [
    "### Решение по результатам теста"
   ]
  },
  {
   "cell_type": "markdown",
   "metadata": {},
   "source": [
    "Вывод: По результатам проведенного A/B теста, считаю, что можно завершить тест и зафиксировать,что группа В показала себя лучше относительно группы А. Относительное преимущество в количестве заказов на посетителя группы B над группой A составляет 13,8 % по \"сырым\" данным и 17,4% по \"очищенным\". Как по сырым, так и по очищенным данным нет статистически значимого различия по среднему чеку на посетителя между группами."
   ]
  },
  {
   "cell_type": "markdown",
   "metadata": {},
   "source": [
    "## Вывод:"
   ]
  },
  {
   "cell_type": "markdown",
   "metadata": {},
   "source": [
    "В ходе проекта было необходимо провести предобработку имеющихся данных, приоритизировать гипотезы по увеличению выручки, запустить A/B-тест и проанализировать результаты.\n",
    "\n",
    "Оценивая совокупность данных методов ICE и RICE наиболее перспективными являются такие гипотезы: 0 \"Добавить два новых канала привлечения трафика, что позволит привлекать на 30% больше пользователей\", 7 \"Добавить форму подписки на все основные страницы, чтобы собрать базу клиентов для email-рассылок\".\n",
    "\n",
    "По результатам A/B теста было принято решение завершить тест и признать победу группы B.\n"
   ]
  }
 ],
 "metadata": {
  "ExecuteTimeLog": [
   {
    "duration": 840,
    "start_time": "2023-04-13T15:43:48.846Z"
   },
   {
    "duration": 83,
    "start_time": "2023-04-13T15:44:34.586Z"
   },
   {
    "duration": 13,
    "start_time": "2023-04-13T15:44:45.676Z"
   },
   {
    "duration": 15,
    "start_time": "2023-04-13T15:45:15.170Z"
   },
   {
    "duration": 99,
    "start_time": "2023-04-13T15:56:06.981Z"
   },
   {
    "duration": 23,
    "start_time": "2023-04-13T15:56:12.583Z"
   },
   {
    "duration": 15,
    "start_time": "2023-04-13T15:56:20.260Z"
   },
   {
    "duration": 14,
    "start_time": "2023-04-13T15:57:28.164Z"
   },
   {
    "duration": 13,
    "start_time": "2023-04-13T15:57:44.157Z"
   },
   {
    "duration": 10,
    "start_time": "2023-04-13T15:58:10.589Z"
   },
   {
    "duration": 3727,
    "start_time": "2023-04-13T15:59:02.053Z"
   },
   {
    "duration": 16,
    "start_time": "2023-04-13T15:59:21.741Z"
   },
   {
    "duration": 31,
    "start_time": "2023-04-13T15:59:42.105Z"
   },
   {
    "duration": 13,
    "start_time": "2023-04-13T16:00:42.209Z"
   },
   {
    "duration": 27,
    "start_time": "2023-04-13T16:00:52.829Z"
   },
   {
    "duration": 15,
    "start_time": "2023-04-13T16:00:53.861Z"
   },
   {
    "duration": 12,
    "start_time": "2023-04-13T16:00:56.741Z"
   },
   {
    "duration": 12,
    "start_time": "2023-04-13T16:01:08.507Z"
   },
   {
    "duration": 28,
    "start_time": "2023-04-13T16:01:11.047Z"
   },
   {
    "duration": 170,
    "start_time": "2023-04-13T16:06:29.407Z"
   },
   {
    "duration": 112,
    "start_time": "2023-04-13T16:07:24.694Z"
   },
   {
    "duration": 12,
    "start_time": "2023-04-13T16:07:48.205Z"
   },
   {
    "duration": 9,
    "start_time": "2023-04-13T16:08:19.894Z"
   },
   {
    "duration": 13,
    "start_time": "2023-04-13T16:08:34.845Z"
   },
   {
    "duration": 939,
    "start_time": "2023-04-14T10:50:52.134Z"
   },
   {
    "duration": 61,
    "start_time": "2023-04-14T10:50:53.075Z"
   },
   {
    "duration": 13,
    "start_time": "2023-04-14T10:50:53.138Z"
   },
   {
    "duration": 63,
    "start_time": "2023-04-14T10:50:53.152Z"
   },
   {
    "duration": 20,
    "start_time": "2023-04-14T10:50:53.221Z"
   },
   {
    "duration": 16,
    "start_time": "2023-04-14T10:50:53.243Z"
   },
   {
    "duration": 127,
    "start_time": "2023-04-14T10:50:53.260Z"
   },
   {
    "duration": 16,
    "start_time": "2023-04-14T10:50:53.389Z"
   },
   {
    "duration": 16,
    "start_time": "2023-04-14T10:50:53.408Z"
   },
   {
    "duration": 7,
    "start_time": "2023-04-14T10:50:53.426Z"
   },
   {
    "duration": 14,
    "start_time": "2023-04-14T10:50:53.435Z"
   },
   {
    "duration": 5,
    "start_time": "2023-04-14T10:50:53.451Z"
   },
   {
    "duration": 236,
    "start_time": "2023-04-14T10:50:53.457Z"
   },
   {
    "duration": 132,
    "start_time": "2023-04-14T10:52:12.155Z"
   },
   {
    "duration": 207,
    "start_time": "2023-04-14T10:52:38.914Z"
   },
   {
    "duration": 263,
    "start_time": "2023-04-14T10:53:16.885Z"
   },
   {
    "duration": 780,
    "start_time": "2023-04-14T20:30:58.061Z"
   },
   {
    "duration": 66,
    "start_time": "2023-04-14T20:30:58.843Z"
   },
   {
    "duration": 35,
    "start_time": "2023-04-14T20:30:58.910Z"
   },
   {
    "duration": 18,
    "start_time": "2023-04-14T20:30:58.947Z"
   },
   {
    "duration": 18,
    "start_time": "2023-04-14T20:30:58.971Z"
   },
   {
    "duration": 13,
    "start_time": "2023-04-14T20:30:58.991Z"
   },
   {
    "duration": 141,
    "start_time": "2023-04-14T20:30:59.006Z"
   },
   {
    "duration": 14,
    "start_time": "2023-04-14T20:30:59.151Z"
   },
   {
    "duration": 10,
    "start_time": "2023-04-14T20:30:59.167Z"
   },
   {
    "duration": 7,
    "start_time": "2023-04-14T20:30:59.180Z"
   },
   {
    "duration": 12,
    "start_time": "2023-04-14T20:30:59.189Z"
   },
   {
    "duration": 7,
    "start_time": "2023-04-14T20:30:59.203Z"
   },
   {
    "duration": 261,
    "start_time": "2023-04-14T20:30:59.212Z"
   },
   {
    "duration": 6,
    "start_time": "2023-04-14T20:35:07.296Z"
   },
   {
    "duration": 6,
    "start_time": "2023-04-14T20:35:20.220Z"
   },
   {
    "duration": 4,
    "start_time": "2023-04-14T20:39:06.857Z"
   },
   {
    "duration": 4,
    "start_time": "2023-04-14T20:39:15.625Z"
   },
   {
    "duration": 81,
    "start_time": "2023-04-14T20:41:36.692Z"
   },
   {
    "duration": 25,
    "start_time": "2023-04-14T20:47:42.079Z"
   },
   {
    "duration": 23,
    "start_time": "2023-04-14T20:49:14.983Z"
   },
   {
    "duration": 252,
    "start_time": "2023-04-14T20:49:22.786Z"
   },
   {
    "duration": 13,
    "start_time": "2023-04-14T20:49:27.117Z"
   },
   {
    "duration": 401,
    "start_time": "2023-04-14T20:50:22.773Z"
   },
   {
    "duration": 358,
    "start_time": "2023-04-14T20:50:28.752Z"
   },
   {
    "duration": 156,
    "start_time": "2023-04-14T20:51:22.570Z"
   },
   {
    "duration": 258,
    "start_time": "2023-04-14T20:52:19.551Z"
   },
   {
    "duration": 247,
    "start_time": "2023-04-14T20:52:29.197Z"
   },
   {
    "duration": 218,
    "start_time": "2023-04-14T20:52:36.990Z"
   },
   {
    "duration": 1205,
    "start_time": "2023-04-15T19:28:40.118Z"
   },
   {
    "duration": 68,
    "start_time": "2023-04-15T19:28:41.325Z"
   },
   {
    "duration": 11,
    "start_time": "2023-04-15T19:28:41.395Z"
   },
   {
    "duration": 17,
    "start_time": "2023-04-15T19:28:41.408Z"
   },
   {
    "duration": 19,
    "start_time": "2023-04-15T19:28:41.428Z"
   },
   {
    "duration": 10,
    "start_time": "2023-04-15T19:28:41.449Z"
   },
   {
    "duration": 123,
    "start_time": "2023-04-15T19:28:41.460Z"
   },
   {
    "duration": 10,
    "start_time": "2023-04-15T19:28:41.584Z"
   },
   {
    "duration": 8,
    "start_time": "2023-04-15T19:28:41.595Z"
   },
   {
    "duration": 5,
    "start_time": "2023-04-15T19:28:41.604Z"
   },
   {
    "duration": 6,
    "start_time": "2023-04-15T19:28:41.611Z"
   },
   {
    "duration": 11,
    "start_time": "2023-04-15T19:28:41.618Z"
   },
   {
    "duration": 5,
    "start_time": "2023-04-15T19:28:41.630Z"
   },
   {
    "duration": 17,
    "start_time": "2023-04-15T19:28:41.636Z"
   },
   {
    "duration": 8,
    "start_time": "2023-04-15T19:28:41.654Z"
   },
   {
    "duration": 5,
    "start_time": "2023-04-15T19:28:41.663Z"
   },
   {
    "duration": 264,
    "start_time": "2023-04-15T19:28:41.670Z"
   },
   {
    "duration": 339,
    "start_time": "2023-04-15T19:28:41.935Z"
   },
   {
    "duration": 100,
    "start_time": "2023-04-15T19:28:42.275Z"
   },
   {
    "duration": 193,
    "start_time": "2023-04-15T19:29:10.664Z"
   },
   {
    "duration": 222,
    "start_time": "2023-04-15T19:29:34.749Z"
   },
   {
    "duration": 209,
    "start_time": "2023-04-15T19:30:26.663Z"
   },
   {
    "duration": 217,
    "start_time": "2023-04-15T19:30:38.107Z"
   },
   {
    "duration": 201,
    "start_time": "2023-04-15T19:30:55.604Z"
   },
   {
    "duration": 201,
    "start_time": "2023-04-15T19:31:04.464Z"
   },
   {
    "duration": 13,
    "start_time": "2023-04-15T19:32:33.933Z"
   },
   {
    "duration": 200,
    "start_time": "2023-04-15T19:33:22.167Z"
   },
   {
    "duration": 229,
    "start_time": "2023-04-15T19:33:42.512Z"
   },
   {
    "duration": 360,
    "start_time": "2023-04-15T19:33:45.668Z"
   },
   {
    "duration": 243,
    "start_time": "2023-04-15T19:33:55.073Z"
   },
   {
    "duration": 8,
    "start_time": "2023-04-15T19:36:01.327Z"
   },
   {
    "duration": 9,
    "start_time": "2023-04-15T19:43:53.651Z"
   },
   {
    "duration": 20,
    "start_time": "2023-04-15T19:44:13.525Z"
   },
   {
    "duration": 15,
    "start_time": "2023-04-15T19:45:36.271Z"
   },
   {
    "duration": 13,
    "start_time": "2023-04-15T19:45:57.464Z"
   },
   {
    "duration": 137,
    "start_time": "2023-04-15T19:46:12.797Z"
   },
   {
    "duration": 6,
    "start_time": "2023-04-15T19:47:14.479Z"
   },
   {
    "duration": 9,
    "start_time": "2023-04-15T19:47:50.145Z"
   },
   {
    "duration": 43,
    "start_time": "2023-04-15T19:48:15.936Z"
   },
   {
    "duration": 149,
    "start_time": "2023-04-15T19:49:16.416Z"
   },
   {
    "duration": 159,
    "start_time": "2023-04-15T19:49:26.037Z"
   },
   {
    "duration": 135,
    "start_time": "2023-04-15T19:49:39.651Z"
   },
   {
    "duration": 137,
    "start_time": "2023-04-15T19:49:46.725Z"
   },
   {
    "duration": 789,
    "start_time": "2023-04-15T19:50:20.932Z"
   },
   {
    "duration": 5,
    "start_time": "2023-04-15T19:51:42.417Z"
   },
   {
    "duration": 14,
    "start_time": "2023-04-15T19:52:55.656Z"
   },
   {
    "duration": 18,
    "start_time": "2023-04-15T19:53:19.938Z"
   },
   {
    "duration": 151,
    "start_time": "2023-04-15T19:54:12.447Z"
   },
   {
    "duration": 148,
    "start_time": "2023-04-15T19:54:23.398Z"
   },
   {
    "duration": 193,
    "start_time": "2023-04-15T19:57:42.971Z"
   },
   {
    "duration": 148,
    "start_time": "2023-04-15T19:57:51.353Z"
   },
   {
    "duration": 260,
    "start_time": "2023-04-15T19:58:22.325Z"
   },
   {
    "duration": 180,
    "start_time": "2023-04-15T19:58:29.130Z"
   },
   {
    "duration": 154,
    "start_time": "2023-04-15T19:58:48.524Z"
   },
   {
    "duration": 42,
    "start_time": "2023-04-15T19:58:55.272Z"
   },
   {
    "duration": 15,
    "start_time": "2023-04-15T19:59:28.624Z"
   },
   {
    "duration": 14,
    "start_time": "2023-04-15T19:59:40.337Z"
   },
   {
    "duration": 9,
    "start_time": "2023-04-15T20:00:05.467Z"
   },
   {
    "duration": 53,
    "start_time": "2023-04-15T20:00:14.177Z"
   },
   {
    "duration": 707,
    "start_time": "2023-04-15T20:05:47.713Z"
   },
   {
    "duration": 46,
    "start_time": "2023-04-15T20:06:32.623Z"
   },
   {
    "duration": 26,
    "start_time": "2023-04-15T20:07:56.447Z"
   },
   {
    "duration": 29,
    "start_time": "2023-04-15T20:08:14.562Z"
   },
   {
    "duration": 663,
    "start_time": "2023-04-15T20:08:23.507Z"
   },
   {
    "duration": 13,
    "start_time": "2023-04-15T20:08:44.732Z"
   },
   {
    "duration": 69,
    "start_time": "2023-04-15T20:09:22.210Z"
   },
   {
    "duration": 282,
    "start_time": "2023-04-15T20:10:12.354Z"
   },
   {
    "duration": 300,
    "start_time": "2023-04-15T20:10:25.186Z"
   },
   {
    "duration": 334,
    "start_time": "2023-04-15T20:10:37.531Z"
   },
   {
    "duration": 85,
    "start_time": "2023-04-16T19:08:12.583Z"
   },
   {
    "duration": 1612,
    "start_time": "2023-04-16T19:08:15.834Z"
   },
   {
    "duration": 113,
    "start_time": "2023-04-16T19:08:17.448Z"
   },
   {
    "duration": 13,
    "start_time": "2023-04-16T19:08:17.563Z"
   },
   {
    "duration": 103,
    "start_time": "2023-04-16T19:08:17.577Z"
   },
   {
    "duration": 33,
    "start_time": "2023-04-16T19:08:17.683Z"
   },
   {
    "duration": 14,
    "start_time": "2023-04-16T19:08:17.718Z"
   },
   {
    "duration": 271,
    "start_time": "2023-04-16T19:08:17.737Z"
   },
   {
    "duration": 29,
    "start_time": "2023-04-16T19:08:18.010Z"
   },
   {
    "duration": 22,
    "start_time": "2023-04-16T19:08:18.040Z"
   },
   {
    "duration": 18,
    "start_time": "2023-04-16T19:08:18.063Z"
   },
   {
    "duration": 68,
    "start_time": "2023-04-16T19:08:18.082Z"
   },
   {
    "duration": 28,
    "start_time": "2023-04-16T19:08:18.152Z"
   },
   {
    "duration": 92,
    "start_time": "2023-04-16T19:08:18.182Z"
   },
   {
    "duration": 78,
    "start_time": "2023-04-16T19:08:18.278Z"
   },
   {
    "duration": 22,
    "start_time": "2023-04-16T19:08:18.358Z"
   },
   {
    "duration": 64,
    "start_time": "2023-04-16T19:08:18.384Z"
   },
   {
    "duration": 16,
    "start_time": "2023-04-16T19:08:18.450Z"
   },
   {
    "duration": 337,
    "start_time": "2023-04-16T19:08:18.468Z"
   },
   {
    "duration": 392,
    "start_time": "2023-04-16T19:08:18.806Z"
   },
   {
    "duration": 272,
    "start_time": "2023-04-16T19:08:19.199Z"
   },
   {
    "duration": 411,
    "start_time": "2023-04-16T19:08:19.473Z"
   },
   {
    "duration": 326,
    "start_time": "2023-04-16T19:08:19.889Z"
   },
   {
    "duration": 376,
    "start_time": "2023-04-16T19:08:20.216Z"
   },
   {
    "duration": 183,
    "start_time": "2023-04-16T19:08:20.594Z"
   },
   {
    "duration": 39,
    "start_time": "2023-04-16T19:08:20.779Z"
   },
   {
    "duration": 281,
    "start_time": "2023-04-16T19:08:20.831Z"
   },
   {
    "duration": 23,
    "start_time": "2023-04-16T19:08:21.115Z"
   },
   {
    "duration": 317,
    "start_time": "2023-04-16T19:08:21.150Z"
   },
   {
    "duration": 206,
    "start_time": "2023-04-16T19:08:21.471Z"
   },
   {
    "duration": 18,
    "start_time": "2023-04-16T19:08:21.679Z"
   },
   {
    "duration": 119,
    "start_time": "2023-04-16T19:08:21.700Z"
   },
   {
    "duration": 33,
    "start_time": "2023-04-16T19:08:21.821Z"
   },
   {
    "duration": 10,
    "start_time": "2023-04-16T19:10:01.743Z"
   },
   {
    "duration": 8,
    "start_time": "2023-04-16T19:10:30.158Z"
   },
   {
    "duration": 125,
    "start_time": "2023-04-16T19:10:56.821Z"
   },
   {
    "duration": 65,
    "start_time": "2023-04-16T19:33:45.570Z"
   },
   {
    "duration": 15,
    "start_time": "2023-04-16T19:33:47.309Z"
   },
   {
    "duration": 11,
    "start_time": "2023-04-16T19:33:50.260Z"
   },
   {
    "duration": 26,
    "start_time": "2023-04-16T19:34:15.541Z"
   },
   {
    "duration": 23,
    "start_time": "2023-04-16T19:34:23.475Z"
   },
   {
    "duration": 12,
    "start_time": "2023-04-16T19:34:26.566Z"
   },
   {
    "duration": 5,
    "start_time": "2023-04-16T19:42:53.945Z"
   },
   {
    "duration": 10,
    "start_time": "2023-04-16T19:42:58.867Z"
   },
   {
    "duration": 13,
    "start_time": "2023-04-16T19:47:05.977Z"
   },
   {
    "duration": 11,
    "start_time": "2023-04-16T19:47:19.883Z"
   },
   {
    "duration": 7,
    "start_time": "2023-04-16T19:47:33.449Z"
   },
   {
    "duration": 12,
    "start_time": "2023-04-16T19:47:47.534Z"
   },
   {
    "duration": 16,
    "start_time": "2023-04-16T19:47:53.578Z"
   },
   {
    "duration": 4,
    "start_time": "2023-04-16T19:52:42.441Z"
   },
   {
    "duration": 3,
    "start_time": "2023-04-16T19:52:55.363Z"
   },
   {
    "duration": 89,
    "start_time": "2023-04-16T19:52:57.245Z"
   },
   {
    "duration": 4,
    "start_time": "2023-04-16T19:53:19.451Z"
   },
   {
    "duration": 7,
    "start_time": "2023-04-16T19:53:21.755Z"
   },
   {
    "duration": 11,
    "start_time": "2023-04-16T20:00:57.206Z"
   },
   {
    "duration": 9,
    "start_time": "2023-04-16T20:00:58.535Z"
   },
   {
    "duration": 5,
    "start_time": "2023-04-16T20:06:49.167Z"
   },
   {
    "duration": 2429,
    "start_time": "2023-04-16T20:09:37.338Z"
   },
   {
    "duration": 15,
    "start_time": "2023-04-16T20:10:01.578Z"
   },
   {
    "duration": 9,
    "start_time": "2023-04-16T20:10:13.346Z"
   },
   {
    "duration": 18,
    "start_time": "2023-04-16T20:10:36.726Z"
   },
   {
    "duration": 1211,
    "start_time": "2023-04-16T20:11:04.735Z"
   },
   {
    "duration": 11,
    "start_time": "2023-04-16T20:11:59.578Z"
   },
   {
    "duration": 8,
    "start_time": "2023-04-16T20:12:08.746Z"
   },
   {
    "duration": 9,
    "start_time": "2023-04-16T20:14:04.449Z"
   },
   {
    "duration": 11,
    "start_time": "2023-04-16T20:14:13.508Z"
   },
   {
    "duration": 9,
    "start_time": "2023-04-16T20:14:23.257Z"
   },
   {
    "duration": 7,
    "start_time": "2023-04-16T20:14:43.270Z"
   },
   {
    "duration": 21,
    "start_time": "2023-04-16T20:14:47.934Z"
   },
   {
    "duration": 30,
    "start_time": "2023-04-16T20:15:04.912Z"
   },
   {
    "duration": 132,
    "start_time": "2023-04-16T20:17:25.320Z"
   },
   {
    "duration": 15,
    "start_time": "2023-04-16T20:17:36.747Z"
   },
   {
    "duration": 30,
    "start_time": "2023-04-16T20:21:07.285Z"
   },
   {
    "duration": 119,
    "start_time": "2023-04-16T20:21:27.259Z"
   },
   {
    "duration": 10,
    "start_time": "2023-04-16T20:22:05.068Z"
   },
   {
    "duration": 120,
    "start_time": "2023-04-16T20:23:45.097Z"
   },
   {
    "duration": 101,
    "start_time": "2023-04-16T20:26:01.541Z"
   },
   {
    "duration": 8,
    "start_time": "2023-04-16T20:26:12.330Z"
   },
   {
    "duration": 13,
    "start_time": "2023-04-16T20:26:54.197Z"
   },
   {
    "duration": 14,
    "start_time": "2023-04-16T20:28:02.889Z"
   },
   {
    "duration": 16,
    "start_time": "2023-04-16T20:28:08.380Z"
   },
   {
    "duration": 1245,
    "start_time": "2023-04-16T20:28:29.761Z"
   },
   {
    "duration": 39,
    "start_time": "2023-04-16T20:28:31.007Z"
   },
   {
    "duration": 22,
    "start_time": "2023-04-16T20:28:31.047Z"
   },
   {
    "duration": 79,
    "start_time": "2023-04-16T20:28:31.072Z"
   },
   {
    "duration": 35,
    "start_time": "2023-04-16T20:28:31.153Z"
   },
   {
    "duration": 53,
    "start_time": "2023-04-16T20:28:31.191Z"
   },
   {
    "duration": 104,
    "start_time": "2023-04-16T20:28:31.246Z"
   },
   {
    "duration": 10,
    "start_time": "2023-04-16T20:28:31.352Z"
   },
   {
    "duration": 75,
    "start_time": "2023-04-16T20:28:31.363Z"
   },
   {
    "duration": 51,
    "start_time": "2023-04-16T20:28:31.441Z"
   },
   {
    "duration": 57,
    "start_time": "2023-04-16T20:28:31.494Z"
   },
   {
    "duration": 28,
    "start_time": "2023-04-16T20:28:31.553Z"
   },
   {
    "duration": 63,
    "start_time": "2023-04-16T20:28:31.582Z"
   },
   {
    "duration": 29,
    "start_time": "2023-04-16T20:28:31.647Z"
   },
   {
    "duration": 32,
    "start_time": "2023-04-16T20:28:31.678Z"
   },
   {
    "duration": 39,
    "start_time": "2023-04-16T20:28:31.711Z"
   },
   {
    "duration": 25,
    "start_time": "2023-04-16T20:28:31.752Z"
   },
   {
    "duration": 44,
    "start_time": "2023-04-16T20:28:31.779Z"
   },
   {
    "duration": 35,
    "start_time": "2023-04-16T20:28:31.824Z"
   },
   {
    "duration": 74,
    "start_time": "2023-04-16T20:28:31.860Z"
   },
   {
    "duration": 201,
    "start_time": "2023-04-16T20:28:31.935Z"
   },
   {
    "duration": 0,
    "start_time": "2023-04-16T20:28:32.141Z"
   },
   {
    "duration": 0,
    "start_time": "2023-04-16T20:28:32.142Z"
   },
   {
    "duration": 0,
    "start_time": "2023-04-16T20:28:32.144Z"
   },
   {
    "duration": 0,
    "start_time": "2023-04-16T20:28:32.145Z"
   },
   {
    "duration": 0,
    "start_time": "2023-04-16T20:28:32.146Z"
   },
   {
    "duration": 0,
    "start_time": "2023-04-16T20:28:32.147Z"
   },
   {
    "duration": 0,
    "start_time": "2023-04-16T20:28:32.148Z"
   },
   {
    "duration": 0,
    "start_time": "2023-04-16T20:28:32.149Z"
   },
   {
    "duration": 0,
    "start_time": "2023-04-16T20:28:32.151Z"
   },
   {
    "duration": 0,
    "start_time": "2023-04-16T20:28:32.155Z"
   },
   {
    "duration": 0,
    "start_time": "2023-04-16T20:28:32.156Z"
   },
   {
    "duration": 0,
    "start_time": "2023-04-16T20:28:32.157Z"
   },
   {
    "duration": 0,
    "start_time": "2023-04-16T20:28:32.159Z"
   },
   {
    "duration": 0,
    "start_time": "2023-04-16T20:28:32.160Z"
   },
   {
    "duration": 0,
    "start_time": "2023-04-16T20:28:32.161Z"
   },
   {
    "duration": 0,
    "start_time": "2023-04-16T20:28:32.162Z"
   },
   {
    "duration": 10,
    "start_time": "2023-04-16T20:30:01.206Z"
   },
   {
    "duration": 17,
    "start_time": "2023-04-16T20:30:32.015Z"
   },
   {
    "duration": 4,
    "start_time": "2023-04-16T20:30:37.269Z"
   },
   {
    "duration": 32,
    "start_time": "2023-04-16T20:36:11.911Z"
   },
   {
    "duration": 26,
    "start_time": "2023-04-16T20:36:29.151Z"
   },
   {
    "duration": 7,
    "start_time": "2023-04-16T20:36:58.810Z"
   },
   {
    "duration": 318,
    "start_time": "2023-04-16T20:37:01.943Z"
   },
   {
    "duration": 288,
    "start_time": "2023-04-16T20:37:50.519Z"
   },
   {
    "duration": 415,
    "start_time": "2023-04-16T20:38:58.140Z"
   },
   {
    "duration": 262,
    "start_time": "2023-04-16T20:42:43.348Z"
   },
   {
    "duration": 219,
    "start_time": "2023-04-16T20:44:15.117Z"
   },
   {
    "duration": 205,
    "start_time": "2023-04-16T20:44:30.339Z"
   },
   {
    "duration": 240,
    "start_time": "2023-04-16T20:44:42.621Z"
   },
   {
    "duration": 329,
    "start_time": "2023-04-16T20:49:08.458Z"
   },
   {
    "duration": 319,
    "start_time": "2023-04-16T20:49:23.581Z"
   },
   {
    "duration": 422,
    "start_time": "2023-04-16T20:52:22.131Z"
   },
   {
    "duration": 320,
    "start_time": "2023-04-16T20:52:31.601Z"
   },
   {
    "duration": 302,
    "start_time": "2023-04-16T20:52:40.225Z"
   },
   {
    "duration": 366,
    "start_time": "2023-04-16T20:53:00.401Z"
   },
   {
    "duration": 5,
    "start_time": "2023-04-16T20:57:46.701Z"
   },
   {
    "duration": 5,
    "start_time": "2023-04-16T20:57:48.508Z"
   },
   {
    "duration": 20,
    "start_time": "2023-04-16T20:57:57.409Z"
   },
   {
    "duration": 259,
    "start_time": "2023-04-16T20:58:44.505Z"
   },
   {
    "duration": 348,
    "start_time": "2023-04-16T20:59:01.456Z"
   },
   {
    "duration": 17,
    "start_time": "2023-04-16T20:59:37.539Z"
   },
   {
    "duration": 440,
    "start_time": "2023-04-16T21:01:46.271Z"
   },
   {
    "duration": 374,
    "start_time": "2023-04-16T21:02:02.777Z"
   },
   {
    "duration": 393,
    "start_time": "2023-04-16T21:02:10.480Z"
   },
   {
    "duration": 441,
    "start_time": "2023-04-16T21:02:21.456Z"
   },
   {
    "duration": 474,
    "start_time": "2023-04-16T21:02:37.225Z"
   },
   {
    "duration": 337,
    "start_time": "2023-04-16T21:02:44.832Z"
   },
   {
    "duration": 244,
    "start_time": "2023-04-16T21:03:00.126Z"
   },
   {
    "duration": 366,
    "start_time": "2023-04-16T21:03:04.275Z"
   },
   {
    "duration": 356,
    "start_time": "2023-04-16T21:04:59.000Z"
   },
   {
    "duration": 426,
    "start_time": "2023-04-16T21:05:49.068Z"
   },
   {
    "duration": 342,
    "start_time": "2023-04-16T21:06:30.027Z"
   },
   {
    "duration": 342,
    "start_time": "2023-04-16T21:06:41.024Z"
   },
   {
    "duration": 156,
    "start_time": "2023-04-16T21:11:49.499Z"
   },
   {
    "duration": 14,
    "start_time": "2023-04-16T21:14:57.011Z"
   },
   {
    "duration": 175,
    "start_time": "2023-04-16T21:16:49.902Z"
   },
   {
    "duration": 153,
    "start_time": "2023-04-16T21:18:40.438Z"
   },
   {
    "duration": 136,
    "start_time": "2023-04-16T21:18:54.567Z"
   },
   {
    "duration": 287,
    "start_time": "2023-04-16T21:21:08.329Z"
   },
   {
    "duration": 137,
    "start_time": "2023-04-16T21:21:18.064Z"
   },
   {
    "duration": 15,
    "start_time": "2023-04-16T21:21:48.114Z"
   },
   {
    "duration": 286,
    "start_time": "2023-04-16T21:22:17.533Z"
   },
   {
    "duration": 8,
    "start_time": "2023-04-16T21:22:36.510Z"
   },
   {
    "duration": 215,
    "start_time": "2023-04-16T21:22:58.612Z"
   },
   {
    "duration": 6,
    "start_time": "2023-04-16T21:24:44.450Z"
   },
   {
    "duration": 11,
    "start_time": "2023-04-16T21:29:37.062Z"
   },
   {
    "duration": 183,
    "start_time": "2023-04-16T21:36:08.072Z"
   },
   {
    "duration": 25,
    "start_time": "2023-04-16T21:37:03.649Z"
   },
   {
    "duration": 13,
    "start_time": "2023-04-16T21:37:18.011Z"
   },
   {
    "duration": 43,
    "start_time": "2023-04-16T21:38:09.106Z"
   },
   {
    "duration": 5,
    "start_time": "2023-04-16T21:38:49.865Z"
   },
   {
    "duration": 41,
    "start_time": "2023-04-16T21:38:59.266Z"
   },
   {
    "duration": 110,
    "start_time": "2023-04-16T21:41:55.684Z"
   },
   {
    "duration": 111,
    "start_time": "2023-04-16T21:45:07.355Z"
   },
   {
    "duration": 138,
    "start_time": "2023-04-16T21:46:39.075Z"
   },
   {
    "duration": 113,
    "start_time": "2023-04-16T21:47:04.125Z"
   },
   {
    "duration": 119,
    "start_time": "2023-04-16T21:47:21.412Z"
   },
   {
    "duration": 234,
    "start_time": "2023-04-16T21:47:37.636Z"
   },
   {
    "duration": 234,
    "start_time": "2023-04-16T21:47:53.208Z"
   },
   {
    "duration": 236,
    "start_time": "2023-04-16T21:51:40.907Z"
   },
   {
    "duration": 1701,
    "start_time": "2023-04-16T21:51:46.315Z"
   },
   {
    "duration": 204,
    "start_time": "2023-04-16T21:52:57.113Z"
   },
   {
    "duration": 162,
    "start_time": "2023-04-16T22:00:58.612Z"
   },
   {
    "duration": 184,
    "start_time": "2023-04-16T22:01:48.037Z"
   },
   {
    "duration": 10,
    "start_time": "2023-04-16T22:04:44.114Z"
   },
   {
    "duration": 33,
    "start_time": "2023-04-16T22:13:15.437Z"
   },
   {
    "duration": 1762,
    "start_time": "2023-04-16T22:14:23.778Z"
   },
   {
    "duration": 11,
    "start_time": "2023-04-16T22:14:35.458Z"
   },
   {
    "duration": 1951,
    "start_time": "2023-04-16T22:14:47.162Z"
   },
   {
    "duration": 16,
    "start_time": "2023-04-16T22:15:35.962Z"
   },
   {
    "duration": 14,
    "start_time": "2023-04-16T22:17:18.062Z"
   },
   {
    "duration": 16,
    "start_time": "2023-04-16T22:17:33.510Z"
   },
   {
    "duration": 33,
    "start_time": "2023-04-16T22:17:42.747Z"
   },
   {
    "duration": 51,
    "start_time": "2023-04-16T22:18:11.783Z"
   },
   {
    "duration": 14,
    "start_time": "2023-04-16T22:18:15.937Z"
   },
   {
    "duration": 1168,
    "start_time": "2023-04-16T22:45:49.068Z"
   },
   {
    "duration": 27,
    "start_time": "2023-04-16T22:45:50.239Z"
   },
   {
    "duration": 13,
    "start_time": "2023-04-16T22:45:50.268Z"
   },
   {
    "duration": 28,
    "start_time": "2023-04-16T22:45:50.284Z"
   },
   {
    "duration": 29,
    "start_time": "2023-04-16T22:45:50.313Z"
   },
   {
    "duration": 17,
    "start_time": "2023-04-16T22:45:50.344Z"
   },
   {
    "duration": 65,
    "start_time": "2023-04-16T22:45:50.362Z"
   },
   {
    "duration": 11,
    "start_time": "2023-04-16T22:45:50.429Z"
   },
   {
    "duration": 10,
    "start_time": "2023-04-16T22:45:50.442Z"
   },
   {
    "duration": 17,
    "start_time": "2023-04-16T22:45:50.456Z"
   },
   {
    "duration": 12,
    "start_time": "2023-04-16T22:45:50.474Z"
   },
   {
    "duration": 15,
    "start_time": "2023-04-16T22:45:50.488Z"
   },
   {
    "duration": 15,
    "start_time": "2023-04-16T22:45:50.505Z"
   },
   {
    "duration": 24,
    "start_time": "2023-04-16T22:45:50.522Z"
   },
   {
    "duration": 32,
    "start_time": "2023-04-16T22:45:50.548Z"
   },
   {
    "duration": 34,
    "start_time": "2023-04-16T22:45:50.582Z"
   },
   {
    "duration": 30,
    "start_time": "2023-04-16T22:45:50.618Z"
   },
   {
    "duration": 29,
    "start_time": "2023-04-16T22:45:50.650Z"
   },
   {
    "duration": 20,
    "start_time": "2023-04-16T22:45:50.681Z"
   },
   {
    "duration": 16,
    "start_time": "2023-04-16T22:45:50.702Z"
   },
   {
    "duration": 302,
    "start_time": "2023-04-16T22:45:50.720Z"
   },
   {
    "duration": 334,
    "start_time": "2023-04-16T22:45:51.024Z"
   },
   {
    "duration": 236,
    "start_time": "2023-04-16T22:45:51.359Z"
   },
   {
    "duration": 335,
    "start_time": "2023-04-16T22:45:51.598Z"
   },
   {
    "duration": 4,
    "start_time": "2023-04-16T22:45:51.935Z"
   },
   {
    "duration": 24,
    "start_time": "2023-04-16T22:45:51.941Z"
   },
   {
    "duration": 271,
    "start_time": "2023-04-16T22:45:51.967Z"
   },
   {
    "duration": 386,
    "start_time": "2023-04-16T22:45:52.241Z"
   },
   {
    "duration": 158,
    "start_time": "2023-04-16T22:45:52.629Z"
   },
   {
    "duration": 7,
    "start_time": "2023-04-16T22:45:52.788Z"
   },
   {
    "duration": 181,
    "start_time": "2023-04-16T22:45:52.797Z"
   },
   {
    "duration": 7,
    "start_time": "2023-04-16T22:45:52.980Z"
   },
   {
    "duration": 223,
    "start_time": "2023-04-16T22:45:52.989Z"
   },
   {
    "duration": 5,
    "start_time": "2023-04-16T22:45:53.214Z"
   },
   {
    "duration": 253,
    "start_time": "2023-04-16T22:45:53.222Z"
   },
   {
    "duration": 222,
    "start_time": "2023-04-16T22:45:53.477Z"
   },
   {
    "duration": 13,
    "start_time": "2023-04-16T22:45:53.700Z"
   },
   {
    "duration": 35,
    "start_time": "2023-04-16T22:45:53.715Z"
   },
   {
    "duration": 41,
    "start_time": "2023-04-16T22:45:53.752Z"
   },
   {
    "duration": 1344,
    "start_time": "2023-04-17T00:37:37.475Z"
   },
   {
    "duration": 82,
    "start_time": "2023-04-17T00:37:38.820Z"
   },
   {
    "duration": 14,
    "start_time": "2023-04-17T00:37:38.904Z"
   },
   {
    "duration": 16,
    "start_time": "2023-04-17T00:37:38.921Z"
   },
   {
    "duration": 17,
    "start_time": "2023-04-17T00:37:38.938Z"
   },
   {
    "duration": 28,
    "start_time": "2023-04-17T00:37:38.957Z"
   },
   {
    "duration": 155,
    "start_time": "2023-04-17T00:37:38.987Z"
   },
   {
    "duration": 11,
    "start_time": "2023-04-17T00:37:39.144Z"
   },
   {
    "duration": 21,
    "start_time": "2023-04-17T00:37:39.156Z"
   },
   {
    "duration": 5,
    "start_time": "2023-04-17T00:37:39.180Z"
   },
   {
    "duration": 13,
    "start_time": "2023-04-17T00:37:39.187Z"
   },
   {
    "duration": 10,
    "start_time": "2023-04-17T00:37:39.201Z"
   },
   {
    "duration": 6,
    "start_time": "2023-04-17T00:37:39.212Z"
   },
   {
    "duration": 15,
    "start_time": "2023-04-17T00:37:39.219Z"
   },
   {
    "duration": 10,
    "start_time": "2023-04-17T00:37:39.236Z"
   },
   {
    "duration": 17,
    "start_time": "2023-04-17T00:37:39.247Z"
   },
   {
    "duration": 14,
    "start_time": "2023-04-17T00:37:39.265Z"
   },
   {
    "duration": 11,
    "start_time": "2023-04-17T00:37:39.281Z"
   },
   {
    "duration": 20,
    "start_time": "2023-04-17T00:37:39.294Z"
   },
   {
    "duration": 21,
    "start_time": "2023-04-17T00:37:39.315Z"
   },
   {
    "duration": 262,
    "start_time": "2023-04-17T00:37:39.338Z"
   },
   {
    "duration": 286,
    "start_time": "2023-04-17T00:37:39.601Z"
   },
   {
    "duration": 204,
    "start_time": "2023-04-17T00:37:39.889Z"
   },
   {
    "duration": 322,
    "start_time": "2023-04-17T00:37:40.095Z"
   },
   {
    "duration": 4,
    "start_time": "2023-04-17T00:37:40.419Z"
   },
   {
    "duration": 6,
    "start_time": "2023-04-17T00:37:40.424Z"
   },
   {
    "duration": 209,
    "start_time": "2023-04-17T00:37:40.431Z"
   },
   {
    "duration": 338,
    "start_time": "2023-04-17T00:37:40.643Z"
   },
   {
    "duration": 128,
    "start_time": "2023-04-17T00:37:40.982Z"
   },
   {
    "duration": 6,
    "start_time": "2023-04-17T00:37:41.111Z"
   },
   {
    "duration": 154,
    "start_time": "2023-04-17T00:37:41.118Z"
   },
   {
    "duration": 6,
    "start_time": "2023-04-17T00:37:41.274Z"
   },
   {
    "duration": 178,
    "start_time": "2023-04-17T00:37:41.281Z"
   },
   {
    "duration": 14,
    "start_time": "2023-04-17T00:37:41.461Z"
   },
   {
    "duration": 211,
    "start_time": "2023-04-17T00:37:41.476Z"
   },
   {
    "duration": 158,
    "start_time": "2023-04-17T00:37:41.689Z"
   },
   {
    "duration": 9,
    "start_time": "2023-04-17T00:37:41.849Z"
   },
   {
    "duration": 16,
    "start_time": "2023-04-17T00:37:41.860Z"
   },
   {
    "duration": 23,
    "start_time": "2023-04-17T00:37:41.877Z"
   },
   {
    "duration": 11,
    "start_time": "2023-04-17T00:37:41.901Z"
   },
   {
    "duration": 68,
    "start_time": "2023-04-17T07:55:56.334Z"
   },
   {
    "duration": 1627,
    "start_time": "2023-04-17T07:56:00.092Z"
   },
   {
    "duration": 87,
    "start_time": "2023-04-17T07:56:01.723Z"
   },
   {
    "duration": 16,
    "start_time": "2023-04-17T07:56:01.813Z"
   },
   {
    "duration": 77,
    "start_time": "2023-04-17T07:56:01.832Z"
   },
   {
    "duration": 50,
    "start_time": "2023-04-17T07:56:01.913Z"
   },
   {
    "duration": 48,
    "start_time": "2023-04-17T07:56:01.965Z"
   },
   {
    "duration": 197,
    "start_time": "2023-04-17T07:56:02.016Z"
   },
   {
    "duration": 18,
    "start_time": "2023-04-17T07:56:02.216Z"
   },
   {
    "duration": 48,
    "start_time": "2023-04-17T07:56:02.237Z"
   },
   {
    "duration": 45,
    "start_time": "2023-04-17T07:56:02.288Z"
   },
   {
    "duration": 46,
    "start_time": "2023-04-17T07:56:02.336Z"
   },
   {
    "duration": 39,
    "start_time": "2023-04-17T07:56:02.384Z"
   },
   {
    "duration": 65,
    "start_time": "2023-04-17T07:56:02.426Z"
   },
   {
    "duration": 69,
    "start_time": "2023-04-17T07:56:02.495Z"
   },
   {
    "duration": 65,
    "start_time": "2023-04-17T07:56:02.566Z"
   },
   {
    "duration": 46,
    "start_time": "2023-04-17T07:56:02.633Z"
   },
   {
    "duration": 83,
    "start_time": "2023-04-17T07:56:02.681Z"
   },
   {
    "duration": 42,
    "start_time": "2023-04-17T07:56:02.766Z"
   },
   {
    "duration": 28,
    "start_time": "2023-04-17T07:56:02.811Z"
   },
   {
    "duration": 46,
    "start_time": "2023-04-17T07:56:02.841Z"
   },
   {
    "duration": 365,
    "start_time": "2023-04-17T07:56:02.890Z"
   },
   {
    "duration": 358,
    "start_time": "2023-04-17T07:56:03.257Z"
   },
   {
    "duration": 280,
    "start_time": "2023-04-17T07:56:03.617Z"
   },
   {
    "duration": 420,
    "start_time": "2023-04-17T07:56:03.899Z"
   },
   {
    "duration": 6,
    "start_time": "2023-04-17T07:56:04.321Z"
   },
   {
    "duration": 41,
    "start_time": "2023-04-17T07:56:04.329Z"
   },
   {
    "duration": 252,
    "start_time": "2023-04-17T07:56:04.372Z"
   },
   {
    "duration": 559,
    "start_time": "2023-04-17T07:56:04.626Z"
   },
   {
    "duration": 466,
    "start_time": "2023-04-17T07:56:05.187Z"
   },
   {
    "duration": 10,
    "start_time": "2023-04-17T07:56:05.656Z"
   },
   {
    "duration": 418,
    "start_time": "2023-04-17T07:56:05.668Z"
   },
   {
    "duration": 10,
    "start_time": "2023-04-17T07:56:06.141Z"
   },
   {
    "duration": 621,
    "start_time": "2023-04-17T07:56:06.154Z"
   },
   {
    "duration": 6,
    "start_time": "2023-04-17T07:56:06.778Z"
   },
   {
    "duration": 493,
    "start_time": "2023-04-17T07:56:06.787Z"
   },
   {
    "duration": 193,
    "start_time": "2023-04-17T07:56:07.282Z"
   },
   {
    "duration": 14,
    "start_time": "2023-04-17T07:56:07.477Z"
   },
   {
    "duration": 39,
    "start_time": "2023-04-17T07:56:07.494Z"
   },
   {
    "duration": 81,
    "start_time": "2023-04-17T07:56:07.535Z"
   },
   {
    "duration": 61,
    "start_time": "2023-04-17T07:56:07.619Z"
   },
   {
    "duration": 13,
    "start_time": "2023-04-17T07:56:52.153Z"
   },
   {
    "duration": 11,
    "start_time": "2023-04-17T07:57:03.116Z"
   },
   {
    "duration": 50,
    "start_time": "2023-04-17T12:08:51.025Z"
   },
   {
    "duration": 1348,
    "start_time": "2023-04-17T12:08:54.316Z"
   },
   {
    "duration": 73,
    "start_time": "2023-04-17T12:08:55.666Z"
   },
   {
    "duration": 16,
    "start_time": "2023-04-17T12:08:55.741Z"
   },
   {
    "duration": 11,
    "start_time": "2023-04-17T12:08:55.759Z"
   },
   {
    "duration": 12,
    "start_time": "2023-04-17T12:08:55.772Z"
   },
   {
    "duration": 11,
    "start_time": "2023-04-17T12:08:55.786Z"
   },
   {
    "duration": 161,
    "start_time": "2023-04-17T12:08:55.799Z"
   },
   {
    "duration": 12,
    "start_time": "2023-04-17T12:08:55.962Z"
   },
   {
    "duration": 27,
    "start_time": "2023-04-17T12:08:55.976Z"
   },
   {
    "duration": 20,
    "start_time": "2023-04-17T12:08:56.005Z"
   },
   {
    "duration": 8,
    "start_time": "2023-04-17T12:08:56.026Z"
   },
   {
    "duration": 7,
    "start_time": "2023-04-17T12:08:56.035Z"
   },
   {
    "duration": 9,
    "start_time": "2023-04-17T12:08:56.043Z"
   },
   {
    "duration": 13,
    "start_time": "2023-04-17T12:08:56.055Z"
   },
   {
    "duration": 16,
    "start_time": "2023-04-17T12:08:56.069Z"
   },
   {
    "duration": 8,
    "start_time": "2023-04-17T12:08:56.086Z"
   },
   {
    "duration": 28,
    "start_time": "2023-04-17T12:08:56.096Z"
   },
   {
    "duration": 7,
    "start_time": "2023-04-17T12:08:56.126Z"
   },
   {
    "duration": 18,
    "start_time": "2023-04-17T12:08:56.135Z"
   },
   {
    "duration": 10,
    "start_time": "2023-04-17T12:08:56.155Z"
   },
   {
    "duration": 6,
    "start_time": "2023-04-17T12:08:56.167Z"
   },
   {
    "duration": 8,
    "start_time": "2023-04-17T12:08:56.175Z"
   },
   {
    "duration": 347,
    "start_time": "2023-04-17T12:08:56.185Z"
   },
   {
    "duration": 343,
    "start_time": "2023-04-17T12:08:56.534Z"
   },
   {
    "duration": 252,
    "start_time": "2023-04-17T12:08:56.878Z"
   },
   {
    "duration": 388,
    "start_time": "2023-04-17T12:08:57.132Z"
   },
   {
    "duration": 241,
    "start_time": "2023-04-17T12:08:57.522Z"
   },
   {
    "duration": 352,
    "start_time": "2023-04-17T12:08:57.765Z"
   },
   {
    "duration": 154,
    "start_time": "2023-04-17T12:08:58.119Z"
   },
   {
    "duration": 7,
    "start_time": "2023-04-17T12:08:58.274Z"
   },
   {
    "duration": 165,
    "start_time": "2023-04-17T12:08:58.282Z"
   },
   {
    "duration": 5,
    "start_time": "2023-04-17T12:08:58.449Z"
   },
   {
    "duration": 220,
    "start_time": "2023-04-17T12:08:58.456Z"
   },
   {
    "duration": 7,
    "start_time": "2023-04-17T12:08:58.678Z"
   },
   {
    "duration": 227,
    "start_time": "2023-04-17T12:08:58.687Z"
   },
   {
    "duration": 171,
    "start_time": "2023-04-17T12:08:58.916Z"
   },
   {
    "duration": 23,
    "start_time": "2023-04-17T12:08:59.089Z"
   },
   {
    "duration": 10,
    "start_time": "2023-04-17T12:08:59.114Z"
   },
   {
    "duration": 44,
    "start_time": "2023-04-17T12:08:59.126Z"
   },
   {
    "duration": 17,
    "start_time": "2023-04-17T12:08:59.172Z"
   },
   {
    "duration": 424,
    "start_time": "2023-04-17T12:10:34.518Z"
   },
   {
    "duration": 246,
    "start_time": "2023-04-17T12:11:30.165Z"
   },
   {
    "duration": 214,
    "start_time": "2023-04-17T12:11:44.772Z"
   },
   {
    "duration": 149,
    "start_time": "2023-04-17T12:25:45.911Z"
   },
   {
    "duration": 148,
    "start_time": "2023-04-17T12:28:19.910Z"
   },
   {
    "duration": 144,
    "start_time": "2023-04-17T12:44:31.288Z"
   },
   {
    "duration": 166,
    "start_time": "2023-04-17T12:44:52.832Z"
   },
   {
    "duration": 167,
    "start_time": "2023-04-17T12:44:58.240Z"
   },
   {
    "duration": 72,
    "start_time": "2023-04-17T12:55:38.921Z"
   },
   {
    "duration": 70,
    "start_time": "2023-04-17T12:57:48.083Z"
   },
   {
    "duration": 9,
    "start_time": "2023-04-17T12:59:17.299Z"
   },
   {
    "duration": 49,
    "start_time": "2023-04-17T13:00:21.170Z"
   },
   {
    "duration": 174,
    "start_time": "2023-04-17T13:06:18.780Z"
   },
   {
    "duration": 11,
    "start_time": "2023-04-17T13:16:02.365Z"
   },
   {
    "duration": 9,
    "start_time": "2023-04-17T13:18:02.325Z"
   },
   {
    "duration": 11,
    "start_time": "2023-04-17T13:18:56.036Z"
   },
   {
    "duration": 4,
    "start_time": "2023-04-17T13:20:02.404Z"
   },
   {
    "duration": 12,
    "start_time": "2023-04-17T13:20:07.869Z"
   },
   {
    "duration": 10,
    "start_time": "2023-04-17T13:20:11.933Z"
   },
   {
    "duration": 10,
    "start_time": "2023-04-17T13:20:15.148Z"
   },
   {
    "duration": 5,
    "start_time": "2023-04-17T13:21:46.221Z"
   },
   {
    "duration": 6,
    "start_time": "2023-04-17T13:21:53.469Z"
   },
   {
    "duration": 8,
    "start_time": "2023-04-17T13:22:04.580Z"
   },
   {
    "duration": 1244,
    "start_time": "2023-04-17T19:10:19.262Z"
   },
   {
    "duration": 68,
    "start_time": "2023-04-17T19:10:20.508Z"
   },
   {
    "duration": 16,
    "start_time": "2023-04-17T19:10:20.578Z"
   },
   {
    "duration": 12,
    "start_time": "2023-04-17T19:10:20.596Z"
   },
   {
    "duration": 11,
    "start_time": "2023-04-17T19:10:20.609Z"
   },
   {
    "duration": 12,
    "start_time": "2023-04-17T19:10:20.622Z"
   },
   {
    "duration": 152,
    "start_time": "2023-04-17T19:10:20.635Z"
   },
   {
    "duration": 12,
    "start_time": "2023-04-17T19:10:20.791Z"
   },
   {
    "duration": 11,
    "start_time": "2023-04-17T19:10:20.804Z"
   },
   {
    "duration": 5,
    "start_time": "2023-04-17T19:10:20.818Z"
   },
   {
    "duration": 5,
    "start_time": "2023-04-17T19:10:20.824Z"
   },
   {
    "duration": 6,
    "start_time": "2023-04-17T19:10:20.831Z"
   },
   {
    "duration": 7,
    "start_time": "2023-04-17T19:10:20.839Z"
   },
   {
    "duration": 23,
    "start_time": "2023-04-17T19:10:20.848Z"
   },
   {
    "duration": 17,
    "start_time": "2023-04-17T19:10:20.873Z"
   },
   {
    "duration": 5,
    "start_time": "2023-04-17T19:10:20.891Z"
   },
   {
    "duration": 15,
    "start_time": "2023-04-17T19:10:20.898Z"
   },
   {
    "duration": 36,
    "start_time": "2023-04-17T19:10:20.915Z"
   },
   {
    "duration": 14,
    "start_time": "2023-04-17T19:10:20.953Z"
   },
   {
    "duration": 13,
    "start_time": "2023-04-17T19:10:20.969Z"
   },
   {
    "duration": 9,
    "start_time": "2023-04-17T19:10:20.984Z"
   },
   {
    "duration": 7,
    "start_time": "2023-04-17T19:10:20.996Z"
   },
   {
    "duration": 320,
    "start_time": "2023-04-17T19:10:21.005Z"
   },
   {
    "duration": 339,
    "start_time": "2023-04-17T19:10:21.327Z"
   },
   {
    "duration": 249,
    "start_time": "2023-04-17T19:10:21.668Z"
   },
   {
    "duration": 392,
    "start_time": "2023-04-17T19:10:21.918Z"
   },
   {
    "duration": 231,
    "start_time": "2023-04-17T19:10:22.312Z"
   },
   {
    "duration": 397,
    "start_time": "2023-04-17T19:10:22.547Z"
   },
   {
    "duration": 152,
    "start_time": "2023-04-17T19:10:22.946Z"
   },
   {
    "duration": 7,
    "start_time": "2023-04-17T19:10:23.100Z"
   },
   {
    "duration": 184,
    "start_time": "2023-04-17T19:10:23.109Z"
   },
   {
    "duration": 8,
    "start_time": "2023-04-17T19:10:23.295Z"
   },
   {
    "duration": 251,
    "start_time": "2023-04-17T19:10:23.304Z"
   },
   {
    "duration": 6,
    "start_time": "2023-04-17T19:10:23.557Z"
   },
   {
    "duration": 18,
    "start_time": "2023-04-17T19:10:23.577Z"
   },
   {
    "duration": 250,
    "start_time": "2023-04-17T19:10:23.596Z"
   },
   {
    "duration": 0,
    "start_time": "2023-04-17T19:10:23.847Z"
   },
   {
    "duration": 0,
    "start_time": "2023-04-17T19:10:23.849Z"
   },
   {
    "duration": 0,
    "start_time": "2023-04-17T19:10:23.850Z"
   },
   {
    "duration": 0,
    "start_time": "2023-04-17T19:10:23.851Z"
   },
   {
    "duration": 0,
    "start_time": "2023-04-17T19:10:23.852Z"
   },
   {
    "duration": 0,
    "start_time": "2023-04-17T19:10:23.854Z"
   },
   {
    "duration": 11,
    "start_time": "2023-04-17T19:14:24.108Z"
   },
   {
    "duration": 176,
    "start_time": "2023-04-17T19:14:51.048Z"
   },
   {
    "duration": 5,
    "start_time": "2023-04-17T19:24:40.526Z"
   },
   {
    "duration": 14,
    "start_time": "2023-04-17T19:24:41.716Z"
   },
   {
    "duration": 16,
    "start_time": "2023-04-17T19:24:42.599Z"
   },
   {
    "duration": 157,
    "start_time": "2023-04-17T19:24:44.907Z"
   },
   {
    "duration": 894,
    "start_time": "2023-04-17T19:25:36.160Z"
   },
   {
    "duration": 13,
    "start_time": "2023-04-17T19:26:15.620Z"
   },
   {
    "duration": 928,
    "start_time": "2023-04-17T19:26:17.488Z"
   },
   {
    "duration": 965,
    "start_time": "2023-04-17T19:26:48.028Z"
   },
   {
    "duration": 867,
    "start_time": "2023-04-17T19:29:54.431Z"
   },
   {
    "duration": 11,
    "start_time": "2023-04-17T19:44:18.137Z"
   },
   {
    "duration": 12,
    "start_time": "2023-04-17T19:46:09.350Z"
   },
   {
    "duration": 9,
    "start_time": "2023-04-17T19:46:14.736Z"
   },
   {
    "duration": 8,
    "start_time": "2023-04-17T19:46:20.585Z"
   },
   {
    "duration": 7,
    "start_time": "2023-04-17T19:46:27.520Z"
   },
   {
    "duration": 5,
    "start_time": "2023-04-17T19:46:30.440Z"
   },
   {
    "duration": 12,
    "start_time": "2023-04-17T19:54:25.285Z"
   },
   {
    "duration": 30,
    "start_time": "2023-04-17T19:55:29.419Z"
   },
   {
    "duration": 4,
    "start_time": "2023-04-17T19:55:57.155Z"
   },
   {
    "duration": 26,
    "start_time": "2023-04-17T19:55:57.184Z"
   },
   {
    "duration": 12,
    "start_time": "2023-04-17T19:55:57.212Z"
   },
   {
    "duration": 11,
    "start_time": "2023-04-17T19:55:57.226Z"
   },
   {
    "duration": 13,
    "start_time": "2023-04-17T19:55:57.239Z"
   },
   {
    "duration": 17,
    "start_time": "2023-04-17T19:55:57.254Z"
   },
   {
    "duration": 49,
    "start_time": "2023-04-17T19:55:57.273Z"
   },
   {
    "duration": 13,
    "start_time": "2023-04-17T19:55:57.324Z"
   },
   {
    "duration": 12,
    "start_time": "2023-04-17T19:55:57.339Z"
   },
   {
    "duration": 16,
    "start_time": "2023-04-17T19:55:57.352Z"
   },
   {
    "duration": 7,
    "start_time": "2023-04-17T19:55:57.369Z"
   },
   {
    "duration": 8,
    "start_time": "2023-04-17T19:55:57.377Z"
   },
   {
    "duration": 13,
    "start_time": "2023-04-17T19:55:57.387Z"
   },
   {
    "duration": 18,
    "start_time": "2023-04-17T19:55:57.401Z"
   },
   {
    "duration": 13,
    "start_time": "2023-04-17T19:55:57.424Z"
   },
   {
    "duration": 13,
    "start_time": "2023-04-17T19:55:57.438Z"
   },
   {
    "duration": 15,
    "start_time": "2023-04-17T19:55:57.452Z"
   },
   {
    "duration": 5,
    "start_time": "2023-04-17T19:55:57.469Z"
   },
   {
    "duration": 18,
    "start_time": "2023-04-17T19:55:57.475Z"
   },
   {
    "duration": 14,
    "start_time": "2023-04-17T19:55:57.494Z"
   },
   {
    "duration": 9,
    "start_time": "2023-04-17T19:55:57.510Z"
   },
   {
    "duration": 22,
    "start_time": "2023-04-17T19:55:57.521Z"
   },
   {
    "duration": 260,
    "start_time": "2023-04-17T19:55:57.545Z"
   },
   {
    "duration": 276,
    "start_time": "2023-04-17T19:55:57.806Z"
   },
   {
    "duration": 214,
    "start_time": "2023-04-17T19:55:58.084Z"
   },
   {
    "duration": 312,
    "start_time": "2023-04-17T19:55:58.299Z"
   },
   {
    "duration": 209,
    "start_time": "2023-04-17T19:55:58.613Z"
   },
   {
    "duration": 325,
    "start_time": "2023-04-17T19:55:58.824Z"
   },
   {
    "duration": 133,
    "start_time": "2023-04-17T19:55:59.150Z"
   },
   {
    "duration": 5,
    "start_time": "2023-04-17T19:55:59.285Z"
   },
   {
    "duration": 164,
    "start_time": "2023-04-17T19:55:59.291Z"
   },
   {
    "duration": 9,
    "start_time": "2023-04-17T19:55:59.457Z"
   },
   {
    "duration": 177,
    "start_time": "2023-04-17T19:55:59.467Z"
   },
   {
    "duration": 5,
    "start_time": "2023-04-17T19:55:59.645Z"
   },
   {
    "duration": 38,
    "start_time": "2023-04-17T19:55:59.651Z"
   },
   {
    "duration": 0,
    "start_time": "2023-04-17T19:55:59.691Z"
   },
   {
    "duration": 0,
    "start_time": "2023-04-17T19:55:59.693Z"
   },
   {
    "duration": 0,
    "start_time": "2023-04-17T19:55:59.693Z"
   },
   {
    "duration": 0,
    "start_time": "2023-04-17T19:55:59.695Z"
   },
   {
    "duration": 0,
    "start_time": "2023-04-17T19:55:59.696Z"
   },
   {
    "duration": 0,
    "start_time": "2023-04-17T19:55:59.697Z"
   },
   {
    "duration": 0,
    "start_time": "2023-04-17T19:55:59.698Z"
   },
   {
    "duration": 0,
    "start_time": "2023-04-17T19:55:59.698Z"
   },
   {
    "duration": 0,
    "start_time": "2023-04-17T19:55:59.700Z"
   },
   {
    "duration": 1101,
    "start_time": "2023-04-17T19:56:02.557Z"
   },
   {
    "duration": 27,
    "start_time": "2023-04-17T19:56:03.663Z"
   },
   {
    "duration": 12,
    "start_time": "2023-04-17T19:56:03.692Z"
   },
   {
    "duration": 13,
    "start_time": "2023-04-17T19:56:03.706Z"
   },
   {
    "duration": 13,
    "start_time": "2023-04-17T19:56:03.721Z"
   },
   {
    "duration": 12,
    "start_time": "2023-04-17T19:56:03.735Z"
   },
   {
    "duration": 246,
    "start_time": "2023-04-17T19:56:03.749Z"
   },
   {
    "duration": 11,
    "start_time": "2023-04-17T19:56:03.996Z"
   },
   {
    "duration": 8,
    "start_time": "2023-04-17T19:56:04.009Z"
   },
   {
    "duration": 9,
    "start_time": "2023-04-17T19:56:04.019Z"
   },
   {
    "duration": 7,
    "start_time": "2023-04-17T19:56:04.029Z"
   },
   {
    "duration": 7,
    "start_time": "2023-04-17T19:56:04.038Z"
   },
   {
    "duration": 4,
    "start_time": "2023-04-17T19:56:04.047Z"
   },
   {
    "duration": 8,
    "start_time": "2023-04-17T19:56:04.053Z"
   },
   {
    "duration": 34,
    "start_time": "2023-04-17T19:56:04.063Z"
   },
   {
    "duration": 41,
    "start_time": "2023-04-17T19:56:04.098Z"
   },
   {
    "duration": 41,
    "start_time": "2023-04-17T19:56:04.141Z"
   },
   {
    "duration": 29,
    "start_time": "2023-04-17T19:56:04.184Z"
   },
   {
    "duration": 5,
    "start_time": "2023-04-17T19:56:04.216Z"
   },
   {
    "duration": 6,
    "start_time": "2023-04-17T19:56:04.222Z"
   },
   {
    "duration": 4,
    "start_time": "2023-04-17T19:56:04.230Z"
   },
   {
    "duration": 4,
    "start_time": "2023-04-17T19:56:04.235Z"
   },
   {
    "duration": 266,
    "start_time": "2023-04-17T19:56:04.240Z"
   },
   {
    "duration": 302,
    "start_time": "2023-04-17T19:56:04.507Z"
   },
   {
    "duration": 216,
    "start_time": "2023-04-17T19:56:04.811Z"
   },
   {
    "duration": 341,
    "start_time": "2023-04-17T19:56:05.028Z"
   },
   {
    "duration": 235,
    "start_time": "2023-04-17T19:56:05.371Z"
   },
   {
    "duration": 305,
    "start_time": "2023-04-17T19:56:05.609Z"
   },
   {
    "duration": 141,
    "start_time": "2023-04-17T19:56:05.916Z"
   },
   {
    "duration": 9,
    "start_time": "2023-04-17T19:56:06.058Z"
   },
   {
    "duration": 156,
    "start_time": "2023-04-17T19:56:06.068Z"
   },
   {
    "duration": 5,
    "start_time": "2023-04-17T19:56:06.225Z"
   },
   {
    "duration": 200,
    "start_time": "2023-04-17T19:56:06.232Z"
   },
   {
    "duration": 6,
    "start_time": "2023-04-17T19:56:06.434Z"
   },
   {
    "duration": 132,
    "start_time": "2023-04-17T19:56:06.442Z"
   },
   {
    "duration": 0,
    "start_time": "2023-04-17T19:56:06.577Z"
   },
   {
    "duration": 0,
    "start_time": "2023-04-17T19:56:06.578Z"
   },
   {
    "duration": 0,
    "start_time": "2023-04-17T19:56:06.579Z"
   },
   {
    "duration": 0,
    "start_time": "2023-04-17T19:56:06.581Z"
   },
   {
    "duration": 0,
    "start_time": "2023-04-17T19:56:06.583Z"
   },
   {
    "duration": 0,
    "start_time": "2023-04-17T19:56:06.584Z"
   },
   {
    "duration": 0,
    "start_time": "2023-04-17T19:56:06.585Z"
   },
   {
    "duration": 0,
    "start_time": "2023-04-17T19:56:06.587Z"
   },
   {
    "duration": 0,
    "start_time": "2023-04-17T19:56:06.588Z"
   },
   {
    "duration": 49,
    "start_time": "2023-04-17T19:58:30.195Z"
   },
   {
    "duration": 142,
    "start_time": "2023-04-17T19:58:38.340Z"
   },
   {
    "duration": 12,
    "start_time": "2023-04-17T19:58:52.446Z"
   },
   {
    "duration": 211,
    "start_time": "2023-04-17T19:59:16.882Z"
   },
   {
    "duration": 10,
    "start_time": "2023-04-17T20:00:09.750Z"
   },
   {
    "duration": 20,
    "start_time": "2023-04-17T20:03:16.531Z"
   },
   {
    "duration": 45,
    "start_time": "2023-04-17T20:04:38.835Z"
   },
   {
    "duration": 339,
    "start_time": "2023-04-17T20:04:46.444Z"
   },
   {
    "duration": 1004,
    "start_time": "2023-04-17T20:08:25.612Z"
   },
   {
    "duration": 26,
    "start_time": "2023-04-17T20:08:26.618Z"
   },
   {
    "duration": 10,
    "start_time": "2023-04-17T20:08:26.645Z"
   },
   {
    "duration": 16,
    "start_time": "2023-04-17T20:08:26.657Z"
   },
   {
    "duration": 11,
    "start_time": "2023-04-17T20:08:26.674Z"
   },
   {
    "duration": 11,
    "start_time": "2023-04-17T20:08:26.686Z"
   },
   {
    "duration": 52,
    "start_time": "2023-04-17T20:08:26.699Z"
   },
   {
    "duration": 9,
    "start_time": "2023-04-17T20:08:26.753Z"
   },
   {
    "duration": 17,
    "start_time": "2023-04-17T20:08:26.764Z"
   },
   {
    "duration": 8,
    "start_time": "2023-04-17T20:08:26.784Z"
   },
   {
    "duration": 8,
    "start_time": "2023-04-17T20:08:26.793Z"
   },
   {
    "duration": 7,
    "start_time": "2023-04-17T20:08:26.802Z"
   },
   {
    "duration": 8,
    "start_time": "2023-04-17T20:08:26.811Z"
   },
   {
    "duration": 9,
    "start_time": "2023-04-17T20:08:26.821Z"
   },
   {
    "duration": 10,
    "start_time": "2023-04-17T20:08:26.831Z"
   },
   {
    "duration": 4,
    "start_time": "2023-04-17T20:08:26.843Z"
   },
   {
    "duration": 20,
    "start_time": "2023-04-17T20:08:26.849Z"
   },
   {
    "duration": 4,
    "start_time": "2023-04-17T20:08:26.870Z"
   },
   {
    "duration": 17,
    "start_time": "2023-04-17T20:08:26.875Z"
   },
   {
    "duration": 13,
    "start_time": "2023-04-17T20:08:26.893Z"
   },
   {
    "duration": 4,
    "start_time": "2023-04-17T20:08:26.908Z"
   },
   {
    "duration": 9,
    "start_time": "2023-04-17T20:08:26.913Z"
   },
   {
    "duration": 279,
    "start_time": "2023-04-17T20:08:26.923Z"
   },
   {
    "duration": 361,
    "start_time": "2023-04-17T20:08:27.203Z"
   },
   {
    "duration": 224,
    "start_time": "2023-04-17T20:08:27.566Z"
   },
   {
    "duration": 320,
    "start_time": "2023-04-17T20:08:27.791Z"
   },
   {
    "duration": 231,
    "start_time": "2023-04-17T20:08:28.113Z"
   },
   {
    "duration": 381,
    "start_time": "2023-04-17T20:08:28.347Z"
   },
   {
    "duration": 154,
    "start_time": "2023-04-17T20:08:28.730Z"
   },
   {
    "duration": 6,
    "start_time": "2023-04-17T20:08:28.886Z"
   },
   {
    "duration": 176,
    "start_time": "2023-04-17T20:08:28.893Z"
   },
   {
    "duration": 6,
    "start_time": "2023-04-17T20:08:29.071Z"
   },
   {
    "duration": 229,
    "start_time": "2023-04-17T20:08:29.079Z"
   },
   {
    "duration": 6,
    "start_time": "2023-04-17T20:08:29.310Z"
   },
   {
    "duration": 18,
    "start_time": "2023-04-17T20:08:29.317Z"
   },
   {
    "duration": 34,
    "start_time": "2023-04-17T20:08:29.336Z"
   },
   {
    "duration": 395,
    "start_time": "2023-04-17T20:08:29.372Z"
   },
   {
    "duration": 12,
    "start_time": "2023-04-17T20:08:29.769Z"
   },
   {
    "duration": 25,
    "start_time": "2023-04-17T20:08:29.783Z"
   },
   {
    "duration": 5,
    "start_time": "2023-04-17T20:08:29.810Z"
   },
   {
    "duration": 12,
    "start_time": "2023-04-17T20:08:29.816Z"
   },
   {
    "duration": 110,
    "start_time": "2023-04-17T20:08:29.829Z"
   },
   {
    "duration": 0,
    "start_time": "2023-04-17T20:08:29.940Z"
   },
   {
    "duration": 112,
    "start_time": "2023-04-18T19:27:45.202Z"
   },
   {
    "duration": 1186,
    "start_time": "2023-04-18T19:45:21.863Z"
   },
   {
    "duration": 68,
    "start_time": "2023-04-18T19:45:23.051Z"
   },
   {
    "duration": 12,
    "start_time": "2023-04-18T19:45:23.120Z"
   },
   {
    "duration": 12,
    "start_time": "2023-04-18T19:45:23.134Z"
   },
   {
    "duration": 13,
    "start_time": "2023-04-18T19:45:23.147Z"
   },
   {
    "duration": 21,
    "start_time": "2023-04-18T19:45:23.161Z"
   },
   {
    "duration": 158,
    "start_time": "2023-04-18T19:45:23.184Z"
   },
   {
    "duration": 10,
    "start_time": "2023-04-18T19:45:23.343Z"
   },
   {
    "duration": 9,
    "start_time": "2023-04-18T19:45:23.354Z"
   },
   {
    "duration": 5,
    "start_time": "2023-04-18T19:45:23.365Z"
   },
   {
    "duration": 5,
    "start_time": "2023-04-18T19:45:23.371Z"
   },
   {
    "duration": 7,
    "start_time": "2023-04-18T19:45:23.378Z"
   },
   {
    "duration": 22,
    "start_time": "2023-04-18T19:45:23.386Z"
   },
   {
    "duration": 11,
    "start_time": "2023-04-18T19:45:23.410Z"
   },
   {
    "duration": 14,
    "start_time": "2023-04-18T19:45:23.423Z"
   },
   {
    "duration": 3,
    "start_time": "2023-04-18T19:45:23.438Z"
   },
   {
    "duration": 14,
    "start_time": "2023-04-18T19:45:23.443Z"
   },
   {
    "duration": 10,
    "start_time": "2023-04-18T19:45:23.458Z"
   },
   {
    "duration": 6,
    "start_time": "2023-04-18T19:45:23.469Z"
   },
   {
    "duration": 12,
    "start_time": "2023-04-18T19:45:23.476Z"
   },
   {
    "duration": 6,
    "start_time": "2023-04-18T19:45:23.489Z"
   },
   {
    "duration": 4,
    "start_time": "2023-04-18T19:45:23.497Z"
   },
   {
    "duration": 252,
    "start_time": "2023-04-18T19:45:23.502Z"
   },
   {
    "duration": 262,
    "start_time": "2023-04-18T19:45:23.755Z"
   },
   {
    "duration": 192,
    "start_time": "2023-04-18T19:45:24.018Z"
   },
   {
    "duration": 332,
    "start_time": "2023-04-18T19:45:24.212Z"
   },
   {
    "duration": 189,
    "start_time": "2023-04-18T19:45:24.546Z"
   },
   {
    "duration": 295,
    "start_time": "2023-04-18T19:45:24.739Z"
   },
   {
    "duration": 142,
    "start_time": "2023-04-18T19:45:25.035Z"
   },
   {
    "duration": 6,
    "start_time": "2023-04-18T19:45:25.178Z"
   },
   {
    "duration": 141,
    "start_time": "2023-04-18T19:45:25.185Z"
   },
   {
    "duration": 4,
    "start_time": "2023-04-18T19:45:25.328Z"
   },
   {
    "duration": 190,
    "start_time": "2023-04-18T19:45:25.334Z"
   },
   {
    "duration": 5,
    "start_time": "2023-04-18T19:45:25.525Z"
   },
   {
    "duration": 13,
    "start_time": "2023-04-18T19:45:25.531Z"
   },
   {
    "duration": 4,
    "start_time": "2023-04-18T19:45:25.546Z"
   },
   {
    "duration": 86,
    "start_time": "2023-04-18T19:45:25.551Z"
   },
   {
    "duration": 0,
    "start_time": "2023-04-18T19:45:25.639Z"
   },
   {
    "duration": 0,
    "start_time": "2023-04-18T19:45:25.640Z"
   },
   {
    "duration": 0,
    "start_time": "2023-04-18T19:45:25.641Z"
   },
   {
    "duration": 0,
    "start_time": "2023-04-18T19:45:25.642Z"
   },
   {
    "duration": 0,
    "start_time": "2023-04-18T19:45:25.643Z"
   },
   {
    "duration": 0,
    "start_time": "2023-04-18T19:45:25.644Z"
   },
   {
    "duration": 5,
    "start_time": "2023-04-18T19:47:09.324Z"
   },
   {
    "duration": 5,
    "start_time": "2023-04-18T19:47:10.660Z"
   },
   {
    "duration": 1037,
    "start_time": "2023-04-18T19:52:02.115Z"
   },
   {
    "duration": 26,
    "start_time": "2023-04-18T19:52:03.154Z"
   },
   {
    "duration": 11,
    "start_time": "2023-04-18T19:52:03.182Z"
   },
   {
    "duration": 15,
    "start_time": "2023-04-18T19:52:03.194Z"
   },
   {
    "duration": 9,
    "start_time": "2023-04-18T19:52:03.211Z"
   },
   {
    "duration": 9,
    "start_time": "2023-04-18T19:52:03.222Z"
   },
   {
    "duration": 50,
    "start_time": "2023-04-18T19:52:03.232Z"
   },
   {
    "duration": 9,
    "start_time": "2023-04-18T19:52:03.284Z"
   },
   {
    "duration": 57,
    "start_time": "2023-04-18T19:52:03.295Z"
   },
   {
    "duration": 30,
    "start_time": "2023-04-18T19:52:03.354Z"
   },
   {
    "duration": 33,
    "start_time": "2023-04-18T19:52:03.386Z"
   },
   {
    "duration": 29,
    "start_time": "2023-04-18T19:52:03.421Z"
   },
   {
    "duration": 14,
    "start_time": "2023-04-18T19:52:03.451Z"
   },
   {
    "duration": 12,
    "start_time": "2023-04-18T19:52:03.468Z"
   },
   {
    "duration": 9,
    "start_time": "2023-04-18T19:52:03.481Z"
   },
   {
    "duration": 6,
    "start_time": "2023-04-18T19:52:03.491Z"
   },
   {
    "duration": 11,
    "start_time": "2023-04-18T19:52:03.499Z"
   },
   {
    "duration": 15,
    "start_time": "2023-04-18T19:52:03.512Z"
   },
   {
    "duration": 11,
    "start_time": "2023-04-18T19:52:03.529Z"
   },
   {
    "duration": 18,
    "start_time": "2023-04-18T19:52:03.541Z"
   },
   {
    "duration": 8,
    "start_time": "2023-04-18T19:52:03.561Z"
   },
   {
    "duration": 14,
    "start_time": "2023-04-18T19:52:03.571Z"
   },
   {
    "duration": 253,
    "start_time": "2023-04-18T19:52:03.587Z"
   },
   {
    "duration": 265,
    "start_time": "2023-04-18T19:52:03.841Z"
   },
   {
    "duration": 200,
    "start_time": "2023-04-18T19:52:04.108Z"
   },
   {
    "duration": 323,
    "start_time": "2023-04-18T19:52:04.309Z"
   },
   {
    "duration": 195,
    "start_time": "2023-04-18T19:52:04.634Z"
   },
   {
    "duration": 290,
    "start_time": "2023-04-18T19:52:04.831Z"
   },
   {
    "duration": 136,
    "start_time": "2023-04-18T19:52:05.122Z"
   },
   {
    "duration": 5,
    "start_time": "2023-04-18T19:52:05.259Z"
   },
   {
    "duration": 157,
    "start_time": "2023-04-18T19:52:05.265Z"
   },
   {
    "duration": 5,
    "start_time": "2023-04-18T19:52:05.424Z"
   },
   {
    "duration": 193,
    "start_time": "2023-04-18T19:52:05.431Z"
   },
   {
    "duration": 5,
    "start_time": "2023-04-18T19:52:05.625Z"
   },
   {
    "duration": 21,
    "start_time": "2023-04-18T19:52:05.631Z"
   },
   {
    "duration": 26,
    "start_time": "2023-04-18T19:52:05.654Z"
   },
   {
    "duration": 14,
    "start_time": "2023-04-18T19:52:05.682Z"
   },
   {
    "duration": 9,
    "start_time": "2023-04-18T19:52:05.698Z"
   },
   {
    "duration": 12,
    "start_time": "2023-04-18T19:52:05.709Z"
   },
   {
    "duration": 9,
    "start_time": "2023-04-18T19:52:05.722Z"
   },
   {
    "duration": 10,
    "start_time": "2023-04-18T19:52:05.734Z"
   },
   {
    "duration": 98,
    "start_time": "2023-04-18T19:52:05.745Z"
   },
   {
    "duration": 0,
    "start_time": "2023-04-18T19:52:05.844Z"
   },
   {
    "duration": 5,
    "start_time": "2023-04-18T19:59:18.016Z"
   },
   {
    "duration": 11,
    "start_time": "2023-04-18T19:59:19.536Z"
   },
   {
    "duration": 7,
    "start_time": "2023-04-18T19:59:37.049Z"
   },
   {
    "duration": 8,
    "start_time": "2023-04-18T19:59:58.729Z"
   },
   {
    "duration": 10,
    "start_time": "2023-04-18T20:02:22.897Z"
   },
   {
    "duration": 25,
    "start_time": "2023-04-18T20:02:24.999Z"
   },
   {
    "duration": 18,
    "start_time": "2023-04-18T20:03:09.082Z"
   },
   {
    "duration": 10,
    "start_time": "2023-04-18T20:03:41.995Z"
   },
   {
    "duration": 25,
    "start_time": "2023-04-18T20:05:25.649Z"
   },
   {
    "duration": 13,
    "start_time": "2023-04-18T20:05:50.881Z"
   },
   {
    "duration": 1035,
    "start_time": "2023-04-18T20:10:00.544Z"
   },
   {
    "duration": 27,
    "start_time": "2023-04-18T20:10:01.583Z"
   },
   {
    "duration": 11,
    "start_time": "2023-04-18T20:10:01.612Z"
   },
   {
    "duration": 84,
    "start_time": "2023-04-18T20:10:01.624Z"
   },
   {
    "duration": 39,
    "start_time": "2023-04-18T20:10:01.709Z"
   },
   {
    "duration": 26,
    "start_time": "2023-04-18T20:10:01.750Z"
   },
   {
    "duration": 78,
    "start_time": "2023-04-18T20:10:01.778Z"
   },
   {
    "duration": 10,
    "start_time": "2023-04-18T20:10:01.857Z"
   },
   {
    "duration": 36,
    "start_time": "2023-04-18T20:10:01.870Z"
   },
   {
    "duration": 26,
    "start_time": "2023-04-18T20:10:01.908Z"
   },
   {
    "duration": 26,
    "start_time": "2023-04-18T20:10:01.935Z"
   },
   {
    "duration": 68,
    "start_time": "2023-04-18T20:10:01.963Z"
   },
   {
    "duration": 21,
    "start_time": "2023-04-18T20:10:02.033Z"
   },
   {
    "duration": 30,
    "start_time": "2023-04-18T20:10:02.056Z"
   },
   {
    "duration": 41,
    "start_time": "2023-04-18T20:10:02.088Z"
   },
   {
    "duration": 40,
    "start_time": "2023-04-18T20:10:02.131Z"
   },
   {
    "duration": 33,
    "start_time": "2023-04-18T20:10:02.172Z"
   },
   {
    "duration": 43,
    "start_time": "2023-04-18T20:10:02.207Z"
   },
   {
    "duration": 16,
    "start_time": "2023-04-18T20:10:02.251Z"
   },
   {
    "duration": 41,
    "start_time": "2023-04-18T20:10:02.268Z"
   },
   {
    "duration": 39,
    "start_time": "2023-04-18T20:10:02.310Z"
   },
   {
    "duration": 41,
    "start_time": "2023-04-18T20:10:02.350Z"
   },
   {
    "duration": 275,
    "start_time": "2023-04-18T20:10:02.392Z"
   },
   {
    "duration": 266,
    "start_time": "2023-04-18T20:10:02.668Z"
   },
   {
    "duration": 201,
    "start_time": "2023-04-18T20:10:02.935Z"
   },
   {
    "duration": 272,
    "start_time": "2023-04-18T20:10:03.138Z"
   },
   {
    "duration": 204,
    "start_time": "2023-04-18T20:10:03.413Z"
   },
   {
    "duration": 312,
    "start_time": "2023-04-18T20:10:03.619Z"
   },
   {
    "duration": 135,
    "start_time": "2023-04-18T20:10:03.933Z"
   },
   {
    "duration": 6,
    "start_time": "2023-04-18T20:10:04.069Z"
   },
   {
    "duration": 145,
    "start_time": "2023-04-18T20:10:04.077Z"
   },
   {
    "duration": 5,
    "start_time": "2023-04-18T20:10:04.223Z"
   },
   {
    "duration": 218,
    "start_time": "2023-04-18T20:10:04.230Z"
   },
   {
    "duration": 5,
    "start_time": "2023-04-18T20:10:04.449Z"
   },
   {
    "duration": 18,
    "start_time": "2023-04-18T20:10:04.456Z"
   },
   {
    "duration": 7,
    "start_time": "2023-04-18T20:10:04.476Z"
   },
   {
    "duration": 28,
    "start_time": "2023-04-18T20:10:04.485Z"
   },
   {
    "duration": 9,
    "start_time": "2023-04-18T20:10:04.515Z"
   },
   {
    "duration": 10,
    "start_time": "2023-04-18T20:10:04.525Z"
   },
   {
    "duration": 5,
    "start_time": "2023-04-18T20:10:04.536Z"
   },
   {
    "duration": 6,
    "start_time": "2023-04-18T20:10:04.542Z"
   },
   {
    "duration": 24,
    "start_time": "2023-04-18T20:10:04.549Z"
   },
   {
    "duration": 12,
    "start_time": "2023-04-18T20:10:04.594Z"
   },
   {
    "duration": 1095,
    "start_time": "2023-04-19T21:34:11.473Z"
   },
   {
    "duration": 30,
    "start_time": "2023-04-19T21:34:12.569Z"
   },
   {
    "duration": 11,
    "start_time": "2023-04-19T21:34:12.600Z"
   },
   {
    "duration": 17,
    "start_time": "2023-04-19T21:34:12.613Z"
   },
   {
    "duration": 12,
    "start_time": "2023-04-19T21:34:12.632Z"
   },
   {
    "duration": 35,
    "start_time": "2023-04-19T21:34:12.645Z"
   },
   {
    "duration": 49,
    "start_time": "2023-04-19T21:34:12.682Z"
   },
   {
    "duration": 10,
    "start_time": "2023-04-19T21:34:12.733Z"
   },
   {
    "duration": 28,
    "start_time": "2023-04-19T21:34:12.745Z"
   },
   {
    "duration": 8,
    "start_time": "2023-04-19T21:34:12.775Z"
   },
   {
    "duration": 6,
    "start_time": "2023-04-19T21:34:12.784Z"
   },
   {
    "duration": 8,
    "start_time": "2023-04-19T21:34:12.792Z"
   },
   {
    "duration": 9,
    "start_time": "2023-04-19T21:34:12.801Z"
   },
   {
    "duration": 6,
    "start_time": "2023-04-19T21:34:12.813Z"
   },
   {
    "duration": 9,
    "start_time": "2023-04-19T21:34:12.821Z"
   },
   {
    "duration": 25,
    "start_time": "2023-04-19T21:34:12.832Z"
   },
   {
    "duration": 11,
    "start_time": "2023-04-19T21:34:12.859Z"
   },
   {
    "duration": 6,
    "start_time": "2023-04-19T21:34:12.872Z"
   },
   {
    "duration": 10,
    "start_time": "2023-04-19T21:34:12.880Z"
   },
   {
    "duration": 12,
    "start_time": "2023-04-19T21:34:12.892Z"
   },
   {
    "duration": 7,
    "start_time": "2023-04-19T21:34:12.906Z"
   },
   {
    "duration": 7,
    "start_time": "2023-04-19T21:34:12.915Z"
   },
   {
    "duration": 319,
    "start_time": "2023-04-19T21:34:12.923Z"
   },
   {
    "duration": 322,
    "start_time": "2023-04-19T21:34:13.249Z"
   },
   {
    "duration": 243,
    "start_time": "2023-04-19T21:34:13.573Z"
   },
   {
    "duration": 375,
    "start_time": "2023-04-19T21:34:13.818Z"
   },
   {
    "duration": 247,
    "start_time": "2023-04-19T21:34:14.194Z"
   },
   {
    "duration": 385,
    "start_time": "2023-04-19T21:34:14.445Z"
   },
   {
    "duration": 166,
    "start_time": "2023-04-19T21:34:14.831Z"
   },
   {
    "duration": 7,
    "start_time": "2023-04-19T21:34:14.999Z"
   },
   {
    "duration": 325,
    "start_time": "2023-04-19T21:34:15.008Z"
   },
   {
    "duration": 28,
    "start_time": "2023-04-19T21:34:15.335Z"
   },
   {
    "duration": 211,
    "start_time": "2023-04-19T21:34:15.372Z"
   },
   {
    "duration": 6,
    "start_time": "2023-04-19T21:34:15.585Z"
   },
   {
    "duration": 20,
    "start_time": "2023-04-19T21:34:15.593Z"
   },
   {
    "duration": 15,
    "start_time": "2023-04-19T21:34:15.614Z"
   },
   {
    "duration": 41,
    "start_time": "2023-04-19T21:34:15.630Z"
   },
   {
    "duration": 12,
    "start_time": "2023-04-19T21:34:15.673Z"
   },
   {
    "duration": 11,
    "start_time": "2023-04-19T21:34:15.687Z"
   },
   {
    "duration": 7,
    "start_time": "2023-04-19T21:34:15.700Z"
   },
   {
    "duration": 7,
    "start_time": "2023-04-19T21:34:15.710Z"
   },
   {
    "duration": 75,
    "start_time": "2023-04-19T21:34:15.718Z"
   },
   {
    "duration": 14,
    "start_time": "2023-04-19T21:34:15.795Z"
   }
  ],
  "kernelspec": {
   "display_name": "Python 3 (ipykernel)",
   "language": "python",
   "name": "python3"
  },
  "language_info": {
   "codemirror_mode": {
    "name": "ipython",
    "version": 3
   },
   "file_extension": ".py",
   "mimetype": "text/x-python",
   "name": "python",
   "nbconvert_exporter": "python",
   "pygments_lexer": "ipython3",
   "version": "3.10.9"
  },
  "toc": {
   "base_numbering": 1,
   "nav_menu": {},
   "number_sections": true,
   "sideBar": true,
   "skip_h1_title": true,
   "title_cell": "Table of Contents",
   "title_sidebar": "Contents",
   "toc_cell": false,
   "toc_position": {
    "height": "calc(100% - 180px)",
    "left": "10px",
    "top": "150px",
    "width": "255.391px"
   },
   "toc_section_display": true,
   "toc_window_display": false
  }
 },
 "nbformat": 4,
 "nbformat_minor": 2
}
