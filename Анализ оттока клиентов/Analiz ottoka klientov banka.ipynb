{
 "cells": [
  {
   "cell_type": "markdown",
   "metadata": {},
   "source": [
    "# Проект \"Анализ оттока клиентов банка 'Метанпром'"
   ]
  },
  {
   "cell_type": "markdown",
   "metadata": {},
   "source": [
    "###### Цель:\n",
    "Проанализировать клиентов регионального банка и выделить портрет клиентов, которые склонны уходить из банка «Метанпром»."
   ]
  },
  {
   "cell_type": "markdown",
   "metadata": {},
   "source": [
    "###### Материалы: \n",
    "\n",
    "Презентация: https://disk.yandex.ru/i/SjfDNrOLJ7kH2A\n",
    "\n",
    "Дашборд: https://public.tableau.com/app/profile/veronika.kabantseva/viz/Metanprombank_16871685278320/Dashboard1"
   ]
  },
  {
   "cell_type": "markdown",
   "metadata": {},
   "source": [
    "## Загрузка данных"
   ]
  },
  {
   "cell_type": "code",
   "execution_count": 1,
   "metadata": {},
   "outputs": [
    {
     "name": "stdout",
     "output_type": "stream",
     "text": [
      "Requirement already satisfied: phik in /opt/conda/lib/python3.9/site-packages (0.12.3)\r\n",
      "Requirement already satisfied: joblib>=0.14.1 in /opt/conda/lib/python3.9/site-packages (from phik) (1.1.0)\r\n",
      "Requirement already satisfied: matplotlib>=2.2.3 in /opt/conda/lib/python3.9/site-packages (from phik) (3.3.4)\r\n",
      "Requirement already satisfied: pandas>=0.25.1 in /opt/conda/lib/python3.9/site-packages (from phik) (1.2.4)\r\n",
      "Requirement already satisfied: scipy>=1.5.2 in /opt/conda/lib/python3.9/site-packages (from phik) (1.9.1)\r\n",
      "Requirement already satisfied: numpy>=1.18.0 in /opt/conda/lib/python3.9/site-packages (from phik) (1.21.1)\r\n",
      "Requirement already satisfied: python-dateutil>=2.1 in /opt/conda/lib/python3.9/site-packages (from matplotlib>=2.2.3->phik) (2.8.1)\r\n",
      "Requirement already satisfied: cycler>=0.10 in /opt/conda/lib/python3.9/site-packages (from matplotlib>=2.2.3->phik) (0.11.0)\r\n",
      "Requirement already satisfied: pyparsing!=2.0.4,!=2.1.2,!=2.1.6,>=2.0.3 in /opt/conda/lib/python3.9/site-packages (from matplotlib>=2.2.3->phik) (2.4.7)\r\n",
      "Requirement already satisfied: kiwisolver>=1.0.1 in /opt/conda/lib/python3.9/site-packages (from matplotlib>=2.2.3->phik) (1.4.4)\r\n",
      "Requirement already satisfied: pillow>=6.2.0 in /opt/conda/lib/python3.9/site-packages (from matplotlib>=2.2.3->phik) (8.4.0)\r\n",
      "Requirement already satisfied: pytz>=2017.3 in /opt/conda/lib/python3.9/site-packages (from pandas>=0.25.1->phik) (2021.1)\r\n",
      "Requirement already satisfied: six>=1.5 in /opt/conda/lib/python3.9/site-packages (from python-dateutil>=2.1->matplotlib>=2.2.3->phik) (1.16.0)\r\n"
     ]
    }
   ],
   "source": [
    "!pip install phik"
   ]
  },
  {
   "cell_type": "code",
   "execution_count": 2,
   "metadata": {},
   "outputs": [],
   "source": [
    "# импорт необходимых библиотек\n",
    "\n",
    "import pandas as pd\n",
    "import datetime as dt\n",
    "import seaborn as sns\n",
    "import math as mth\n",
    "import numpy as np\n",
    "import matplotlib.pyplot as plt\n",
    "from scipy import stats as st\n",
    "from pandas.plotting import register_matplotlib_converters\n",
    "import warnings\n",
    "from plotly import graph_objects as go\n",
    "# конвертеры, которые позволяют использовать типы pandas в matplotlib  \n",
    "register_matplotlib_converters()\n",
    "\n",
    "import phik\n",
    "from phik import report\n",
    "from phik.report import plot_correlation_matrix"
   ]
  },
  {
   "cell_type": "code",
   "execution_count": 3,
   "metadata": {},
   "outputs": [],
   "source": [
    "#полный вид строк и столбцов\n",
    "pd.options.display.max_rows = 100\n",
    "pd.options.display.max_columns = 50\n",
    "#формат вывода данных в ячейках\n",
    "#pd.options.display.float_format ='{:,.1f}'.format"
   ]
  },
  {
   "cell_type": "code",
   "execution_count": 4,
   "metadata": {},
   "outputs": [],
   "source": [
    "bank_df = pd.read_csv('https://code.s3.yandex.net/datasets/bank_scrooge.csv') #загрузка файла"
   ]
  },
  {
   "cell_type": "markdown",
   "metadata": {},
   "source": [
    "## Предобработка данных"
   ]
  },
  {
   "cell_type": "markdown",
   "metadata": {},
   "source": [
    "### Общая информация о датафрейме"
   ]
  },
  {
   "cell_type": "code",
   "execution_count": 5,
   "metadata": {},
   "outputs": [],
   "source": [
    "#функция с основной информацией о датафрейме\n",
    "def basic_information(df):\n",
    "    print('Общая информация о датафрейме:')\n",
    "    print(df.info())\n",
    "    print('********************************')\n",
    "    print('Первые 5 строк датафрейма:')\n",
    "    print(df.head())\n",
    "    print('********************************')\n",
    "    print('Количество пропусков в датафрейме:')\n",
    "    print(df.isna().sum())\n",
    "    print('********************************')\n",
    "    print('Количество дубликатов в датафрейме:')\n",
    "    print(df.duplicated().sum())"
   ]
  },
  {
   "cell_type": "code",
   "execution_count": 6,
   "metadata": {},
   "outputs": [
    {
     "name": "stdout",
     "output_type": "stream",
     "text": [
      "Общая информация о датафрейме:\n",
      "<class 'pandas.core.frame.DataFrame'>\n",
      "RangeIndex: 10000 entries, 0 to 9999\n",
      "Data columns (total 12 columns):\n",
      " #   Column         Non-Null Count  Dtype  \n",
      "---  ------         --------------  -----  \n",
      " 0   USERID         10000 non-null  int64  \n",
      " 1   score          10000 non-null  float64\n",
      " 2   city           10000 non-null  object \n",
      " 3   gender         10000 non-null  object \n",
      " 4   age            9974 non-null   float64\n",
      " 5   equity         10000 non-null  int64  \n",
      " 6   balance        7705 non-null   float64\n",
      " 7   products       10000 non-null  int64  \n",
      " 8   credit_card    10000 non-null  int64  \n",
      " 9   last_activity  10000 non-null  int64  \n",
      " 10  EST_SALARY     10000 non-null  float64\n",
      " 11  churn          10000 non-null  int64  \n",
      "dtypes: float64(4), int64(6), object(2)\n",
      "memory usage: 937.6+ KB\n",
      "None\n",
      "********************************\n",
      "Первые 5 строк датафрейма:\n",
      "   USERID  score       city gender   age  equity     balance  products  \\\n",
      "0  183012  850.0    Рыбинск      Ж  25.0       1    59214.82         2   \n",
      "1  146556  861.0    Рыбинск      Ж  37.0       5   850594.33         3   \n",
      "2  120722  892.0    Рыбинск      Ж  30.0       0         NaN         1   \n",
      "3  225363  866.0  Ярославль      Ж  51.0       5  1524746.26         2   \n",
      "4  157978  730.0  Ярославль      М  34.0       5      174.00         1   \n",
      "\n",
      "   credit_card  last_activity  EST_SALARY  churn  \n",
      "0            0              1    75719.14      1  \n",
      "1            1              0    86621.77      0  \n",
      "2            1              1   107683.34      0  \n",
      "3            0              1   174423.53      1  \n",
      "4            1              0    67353.16      1  \n",
      "********************************\n",
      "Количество пропусков в датафрейме:\n",
      "USERID              0\n",
      "score               0\n",
      "city                0\n",
      "gender              0\n",
      "age                26\n",
      "equity              0\n",
      "balance          2295\n",
      "products            0\n",
      "credit_card         0\n",
      "last_activity       0\n",
      "EST_SALARY          0\n",
      "churn               0\n",
      "dtype: int64\n",
      "********************************\n",
      "Количество дубликатов в датафрейме:\n",
      "0\n"
     ]
    }
   ],
   "source": [
    "basic_information(bank_df)"
   ]
  },
  {
   "cell_type": "markdown",
   "metadata": {},
   "source": [
    "В датафрейме 10000 записей, пропуски присутствуют в столбцах с данными о возрасте ('age') и c остатком на счете ('balance'), дальше следует проверить, есть ли взаимосвязь пропусков с другими значениями в таблице.  Полные дубликаты не обнаружены, стоит проверить наличие задвоенных значений, например, 'userid'."
   ]
  },
  {
   "cell_type": "markdown",
   "metadata": {},
   "source": [
    "Перед анализом приведем названия столбцов к нижнему регистру"
   ]
  },
  {
   "cell_type": "code",
   "execution_count": 7,
   "metadata": {},
   "outputs": [],
   "source": [
    "bank_df.columns = bank_df.columns.str.lower()"
   ]
  },
  {
   "cell_type": "markdown",
   "metadata": {},
   "source": [
    "### Обработка пропусков"
   ]
  },
  {
   "cell_type": "markdown",
   "metadata": {},
   "source": [
    "Проанализируем пропуски для определения, можно ли их корректно заполнить или удалить без потери информативности. "
   ]
  },
  {
   "cell_type": "code",
   "execution_count": 8,
   "metadata": {},
   "outputs": [
    {
     "data": {
      "text/plain": [
       "0.2606777621816723"
      ]
     },
     "execution_count": 8,
     "metadata": {},
     "output_type": "execute_result"
    }
   ],
   "source": [
    "nan_age = bank_df['age'].isna().sum() *100 / bank_df['age'].count()\n",
    "nan_age"
   ]
  },
  {
   "cell_type": "markdown",
   "metadata": {},
   "source": [
    "Строки с пропусками в столбце 'age' составляют менее 0,3% от общего количества строк. Было принято решение удалить такие строки, т.к. они не повлияют на результаты анализа."
   ]
  },
  {
   "cell_type": "code",
   "execution_count": 9,
   "metadata": {},
   "outputs": [],
   "source": [
    "bank_df = bank_df.dropna(subset = ['age'], axis = 0)"
   ]
  },
  {
   "cell_type": "code",
   "execution_count": 10,
   "metadata": {},
   "outputs": [
    {
     "data": {
      "text/html": [
       "<div>\n",
       "<style scoped>\n",
       "    .dataframe tbody tr th:only-of-type {\n",
       "        vertical-align: middle;\n",
       "    }\n",
       "\n",
       "    .dataframe tbody tr th {\n",
       "        vertical-align: top;\n",
       "    }\n",
       "\n",
       "    .dataframe thead th {\n",
       "        text-align: right;\n",
       "    }\n",
       "</style>\n",
       "<table border=\"1\" class=\"dataframe\">\n",
       "  <thead>\n",
       "    <tr style=\"text-align: right;\">\n",
       "      <th></th>\n",
       "      <th>userid</th>\n",
       "      <th>score</th>\n",
       "      <th>city</th>\n",
       "      <th>gender</th>\n",
       "      <th>age</th>\n",
       "      <th>equity</th>\n",
       "      <th>balance</th>\n",
       "      <th>products</th>\n",
       "      <th>credit_card</th>\n",
       "      <th>last_activity</th>\n",
       "      <th>est_salary</th>\n",
       "      <th>churn</th>\n",
       "    </tr>\n",
       "  </thead>\n",
       "  <tbody>\n",
       "    <tr>\n",
       "      <th>2</th>\n",
       "      <td>120722</td>\n",
       "      <td>892.0</td>\n",
       "      <td>Рыбинск</td>\n",
       "      <td>Ж</td>\n",
       "      <td>30.0</td>\n",
       "      <td>0</td>\n",
       "      <td>NaN</td>\n",
       "      <td>1</td>\n",
       "      <td>1</td>\n",
       "      <td>1</td>\n",
       "      <td>107683.34</td>\n",
       "      <td>0</td>\n",
       "    </tr>\n",
       "    <tr>\n",
       "      <th>9</th>\n",
       "      <td>133130</td>\n",
       "      <td>906.0</td>\n",
       "      <td>Ярославль</td>\n",
       "      <td>Ж</td>\n",
       "      <td>67.0</td>\n",
       "      <td>0</td>\n",
       "      <td>NaN</td>\n",
       "      <td>1</td>\n",
       "      <td>0</td>\n",
       "      <td>1</td>\n",
       "      <td>238055.53</td>\n",
       "      <td>0</td>\n",
       "    </tr>\n",
       "    <tr>\n",
       "      <th>10</th>\n",
       "      <td>148929</td>\n",
       "      <td>927.0</td>\n",
       "      <td>Ростов</td>\n",
       "      <td>М</td>\n",
       "      <td>52.0</td>\n",
       "      <td>0</td>\n",
       "      <td>NaN</td>\n",
       "      <td>1</td>\n",
       "      <td>1</td>\n",
       "      <td>1</td>\n",
       "      <td>196820.07</td>\n",
       "      <td>0</td>\n",
       "    </tr>\n",
       "    <tr>\n",
       "      <th>11</th>\n",
       "      <td>172184</td>\n",
       "      <td>921.0</td>\n",
       "      <td>Ростов</td>\n",
       "      <td>М</td>\n",
       "      <td>41.0</td>\n",
       "      <td>0</td>\n",
       "      <td>NaN</td>\n",
       "      <td>1</td>\n",
       "      <td>1</td>\n",
       "      <td>1</td>\n",
       "      <td>217469.48</td>\n",
       "      <td>0</td>\n",
       "    </tr>\n",
       "    <tr>\n",
       "      <th>19</th>\n",
       "      <td>127034</td>\n",
       "      <td>922.0</td>\n",
       "      <td>Рыбинск</td>\n",
       "      <td>Ж</td>\n",
       "      <td>53.0</td>\n",
       "      <td>0</td>\n",
       "      <td>NaN</td>\n",
       "      <td>1</td>\n",
       "      <td>0</td>\n",
       "      <td>0</td>\n",
       "      <td>147094.82</td>\n",
       "      <td>0</td>\n",
       "    </tr>\n",
       "    <tr>\n",
       "      <th>...</th>\n",
       "      <td>...</td>\n",
       "      <td>...</td>\n",
       "      <td>...</td>\n",
       "      <td>...</td>\n",
       "      <td>...</td>\n",
       "      <td>...</td>\n",
       "      <td>...</td>\n",
       "      <td>...</td>\n",
       "      <td>...</td>\n",
       "      <td>...</td>\n",
       "      <td>...</td>\n",
       "      <td>...</td>\n",
       "    </tr>\n",
       "    <tr>\n",
       "      <th>9976</th>\n",
       "      <td>208085</td>\n",
       "      <td>876.0</td>\n",
       "      <td>Ростов</td>\n",
       "      <td>М</td>\n",
       "      <td>38.0</td>\n",
       "      <td>0</td>\n",
       "      <td>NaN</td>\n",
       "      <td>1</td>\n",
       "      <td>0</td>\n",
       "      <td>0</td>\n",
       "      <td>171763.69</td>\n",
       "      <td>0</td>\n",
       "    </tr>\n",
       "    <tr>\n",
       "      <th>9984</th>\n",
       "      <td>125941</td>\n",
       "      <td>729.0</td>\n",
       "      <td>Ярославль</td>\n",
       "      <td>Ж</td>\n",
       "      <td>42.0</td>\n",
       "      <td>0</td>\n",
       "      <td>NaN</td>\n",
       "      <td>1</td>\n",
       "      <td>1</td>\n",
       "      <td>1</td>\n",
       "      <td>687538.70</td>\n",
       "      <td>0</td>\n",
       "    </tr>\n",
       "    <tr>\n",
       "      <th>9993</th>\n",
       "      <td>219924</td>\n",
       "      <td>884.0</td>\n",
       "      <td>Рыбинск</td>\n",
       "      <td>Ж</td>\n",
       "      <td>36.0</td>\n",
       "      <td>0</td>\n",
       "      <td>NaN</td>\n",
       "      <td>1</td>\n",
       "      <td>1</td>\n",
       "      <td>1</td>\n",
       "      <td>169844.88</td>\n",
       "      <td>0</td>\n",
       "    </tr>\n",
       "    <tr>\n",
       "      <th>9996</th>\n",
       "      <td>139170</td>\n",
       "      <td>894.0</td>\n",
       "      <td>Ярославль</td>\n",
       "      <td>М</td>\n",
       "      <td>46.0</td>\n",
       "      <td>0</td>\n",
       "      <td>NaN</td>\n",
       "      <td>1</td>\n",
       "      <td>1</td>\n",
       "      <td>0</td>\n",
       "      <td>196898.29</td>\n",
       "      <td>0</td>\n",
       "    </tr>\n",
       "    <tr>\n",
       "      <th>9997</th>\n",
       "      <td>115639</td>\n",
       "      <td>903.0</td>\n",
       "      <td>Ярославль</td>\n",
       "      <td>М</td>\n",
       "      <td>24.0</td>\n",
       "      <td>0</td>\n",
       "      <td>NaN</td>\n",
       "      <td>2</td>\n",
       "      <td>1</td>\n",
       "      <td>1</td>\n",
       "      <td>108905.09</td>\n",
       "      <td>0</td>\n",
       "    </tr>\n",
       "  </tbody>\n",
       "</table>\n",
       "<p>2279 rows × 12 columns</p>\n",
       "</div>"
      ],
      "text/plain": [
       "      userid  score       city gender   age  equity  balance  products  \\\n",
       "2     120722  892.0    Рыбинск      Ж  30.0       0      NaN         1   \n",
       "9     133130  906.0  Ярославль      Ж  67.0       0      NaN         1   \n",
       "10    148929  927.0     Ростов      М  52.0       0      NaN         1   \n",
       "11    172184  921.0     Ростов      М  41.0       0      NaN         1   \n",
       "19    127034  922.0    Рыбинск      Ж  53.0       0      NaN         1   \n",
       "...      ...    ...        ...    ...   ...     ...      ...       ...   \n",
       "9976  208085  876.0     Ростов      М  38.0       0      NaN         1   \n",
       "9984  125941  729.0  Ярославль      Ж  42.0       0      NaN         1   \n",
       "9993  219924  884.0    Рыбинск      Ж  36.0       0      NaN         1   \n",
       "9996  139170  894.0  Ярославль      М  46.0       0      NaN         1   \n",
       "9997  115639  903.0  Ярославль      М  24.0       0      NaN         2   \n",
       "\n",
       "      credit_card  last_activity  est_salary  churn  \n",
       "2               1              1   107683.34      0  \n",
       "9               0              1   238055.53      0  \n",
       "10              1              1   196820.07      0  \n",
       "11              1              1   217469.48      0  \n",
       "19              0              0   147094.82      0  \n",
       "...           ...            ...         ...    ...  \n",
       "9976            0              0   171763.69      0  \n",
       "9984            1              1   687538.70      0  \n",
       "9993            1              1   169844.88      0  \n",
       "9996            1              0   196898.29      0  \n",
       "9997            1              1   108905.09      0  \n",
       "\n",
       "[2279 rows x 12 columns]"
      ]
     },
     "execution_count": 10,
     "metadata": {},
     "output_type": "execute_result"
    }
   ],
   "source": [
    "nan_balance = bank_df.loc[bank_df.isnull().any(axis = 1)]\n",
    "nan_balance"
   ]
  },
  {
   "cell_type": "markdown",
   "metadata": {},
   "source": [
    "Отсутствие значений баланса в датафрейме значительное. Посмотрим пропущенные значения в зависимости от города, количества продуктов, наличия кредитной карты, оценки собственности и является ли клиент действующим на текущий момент. "
   ]
  },
  {
   "cell_type": "code",
   "execution_count": 11,
   "metadata": {},
   "outputs": [
    {
     "name": "stdout",
     "output_type": "stream",
     "text": [
      "city\n",
      "Ярославль    0.640\n",
      "Рыбинск      0.257\n",
      "Ростов       0.103\n",
      "Name: city, dtype: float64\n",
      "\n",
      "products\n",
      "1    0.849\n",
      "2    0.138\n",
      "3    0.013\n",
      "0    0.000\n",
      "Name: products, dtype: float64\n",
      "\n",
      "credit_card\n",
      "1    0.815\n",
      "0    0.185\n",
      "Name: credit_card, dtype: float64\n",
      "\n",
      "equity\n",
      "0    0.95\n",
      "1    0.05\n",
      "3    0.00\n",
      "Name: equity, dtype: float64\n",
      "\n",
      "last_activity\n",
      "1    0.549\n",
      "0    0.451\n",
      "Name: last_activity, dtype: float64\n",
      "\n",
      "churn\n",
      "0    0.994\n",
      "1    0.006\n",
      "Name: churn, dtype: float64\n",
      "\n"
     ]
    }
   ],
   "source": [
    "for column in ['city', 'products', 'credit_card', 'equity', 'last_activity', 'churn']:\n",
    "    print(column)\n",
    "    print(round(nan_balance[column].value_counts(normalize=True),3))\n",
    "    print() "
   ]
  },
  {
   "cell_type": "markdown",
   "metadata": {},
   "source": [
    "На основе информации полученной выше, больше всего пропусков у клиентов из Ярославля (ошибка системы?). Также значение баланса отсутствует у оставшихся клиентов с 1 продуктом - кредитной картой (81%). "
   ]
  },
  {
   "cell_type": "markdown",
   "metadata": {},
   "source": [
    "Таким образом, логично заполнить пропуски в данном столбце не представляется возможным. Удаление приведет к большой потере данных, а замена может исказить дальнейшие результаты."
   ]
  },
  {
   "cell_type": "markdown",
   "metadata": {},
   "source": [
    "Изменим тип данных в столбцах 'age', 'score' на целочисленный."
   ]
  },
  {
   "cell_type": "code",
   "execution_count": 12,
   "metadata": {},
   "outputs": [],
   "source": [
    "bank_df['age'] = bank_df['age'].astype('int')\n",
    "bank_df['score'] = bank_df['score'].astype('int')"
   ]
  },
  {
   "cell_type": "markdown",
   "metadata": {},
   "source": [
    "### Обработка дубликатов"
   ]
  },
  {
   "cell_type": "markdown",
   "metadata": {},
   "source": [
    "Так как полные дубликаты не обнаружены, выполним проверку на неявные дубликаты, которые могут появиться в случаях, когда данные собирались из разных источников или в системе были какие-то сбои при логировании."
   ]
  },
  {
   "cell_type": "code",
   "execution_count": 13,
   "metadata": {
    "scrolled": true
   },
   "outputs": [
    {
     "data": {
      "text/plain": [
       "50"
      ]
     },
     "execution_count": 13,
     "metadata": {},
     "output_type": "execute_result"
    }
   ],
   "source": [
    "duplicaterows = bank_df[bank_df.duplicated(['userid'])]\n",
    "duplicaterows['userid'].count()"
   ]
  },
  {
   "cell_type": "markdown",
   "metadata": {},
   "source": [
    "Обнаружено 50 дубликата 'userid'. Посмотрим, точно ли они являются дубликатами."
   ]
  },
  {
   "cell_type": "code",
   "execution_count": 14,
   "metadata": {},
   "outputs": [
    {
     "data": {
      "text/html": [
       "<div>\n",
       "<style scoped>\n",
       "    .dataframe tbody tr th:only-of-type {\n",
       "        vertical-align: middle;\n",
       "    }\n",
       "\n",
       "    .dataframe tbody tr th {\n",
       "        vertical-align: top;\n",
       "    }\n",
       "\n",
       "    .dataframe thead th {\n",
       "        text-align: right;\n",
       "    }\n",
       "</style>\n",
       "<table border=\"1\" class=\"dataframe\">\n",
       "  <thead>\n",
       "    <tr style=\"text-align: right;\">\n",
       "      <th></th>\n",
       "      <th>userid</th>\n",
       "      <th>score</th>\n",
       "      <th>city</th>\n",
       "      <th>gender</th>\n",
       "      <th>age</th>\n",
       "      <th>equity</th>\n",
       "      <th>balance</th>\n",
       "      <th>products</th>\n",
       "      <th>credit_card</th>\n",
       "      <th>last_activity</th>\n",
       "      <th>est_salary</th>\n",
       "      <th>churn</th>\n",
       "    </tr>\n",
       "  </thead>\n",
       "  <tbody>\n",
       "    <tr>\n",
       "      <th>1893</th>\n",
       "      <td>116540</td>\n",
       "      <td>883</td>\n",
       "      <td>Рыбинск</td>\n",
       "      <td>Ж</td>\n",
       "      <td>55</td>\n",
       "      <td>1</td>\n",
       "      <td>362756.49</td>\n",
       "      <td>3</td>\n",
       "      <td>0</td>\n",
       "      <td>1</td>\n",
       "      <td>175920.48</td>\n",
       "      <td>1</td>\n",
       "    </tr>\n",
       "    <tr>\n",
       "      <th>7694</th>\n",
       "      <td>116540</td>\n",
       "      <td>887</td>\n",
       "      <td>Ярославль</td>\n",
       "      <td>Ж</td>\n",
       "      <td>38</td>\n",
       "      <td>0</td>\n",
       "      <td>NaN</td>\n",
       "      <td>1</td>\n",
       "      <td>0</td>\n",
       "      <td>1</td>\n",
       "      <td>119247.61</td>\n",
       "      <td>0</td>\n",
       "    </tr>\n",
       "    <tr>\n",
       "      <th>4866</th>\n",
       "      <td>117943</td>\n",
       "      <td>855</td>\n",
       "      <td>Рыбинск</td>\n",
       "      <td>Ж</td>\n",
       "      <td>32</td>\n",
       "      <td>6</td>\n",
       "      <td>1036832.93</td>\n",
       "      <td>4</td>\n",
       "      <td>1</td>\n",
       "      <td>1</td>\n",
       "      <td>107792.71</td>\n",
       "      <td>1</td>\n",
       "    </tr>\n",
       "    <tr>\n",
       "      <th>7542</th>\n",
       "      <td>117943</td>\n",
       "      <td>880</td>\n",
       "      <td>Ярославль</td>\n",
       "      <td>Ж</td>\n",
       "      <td>40</td>\n",
       "      <td>0</td>\n",
       "      <td>NaN</td>\n",
       "      <td>1</td>\n",
       "      <td>1</td>\n",
       "      <td>0</td>\n",
       "      <td>137718.93</td>\n",
       "      <td>0</td>\n",
       "    </tr>\n",
       "    <tr>\n",
       "      <th>5863</th>\n",
       "      <td>120258</td>\n",
       "      <td>908</td>\n",
       "      <td>Рыбинск</td>\n",
       "      <td>Ж</td>\n",
       "      <td>38</td>\n",
       "      <td>4</td>\n",
       "      <td>2213581.63</td>\n",
       "      <td>2</td>\n",
       "      <td>0</td>\n",
       "      <td>1</td>\n",
       "      <td>160327.77</td>\n",
       "      <td>1</td>\n",
       "    </tr>\n",
       "    <tr>\n",
       "      <th>5896</th>\n",
       "      <td>120258</td>\n",
       "      <td>905</td>\n",
       "      <td>Ярославль</td>\n",
       "      <td>М</td>\n",
       "      <td>30</td>\n",
       "      <td>0</td>\n",
       "      <td>NaN</td>\n",
       "      <td>1</td>\n",
       "      <td>1</td>\n",
       "      <td>1</td>\n",
       "      <td>146427.96</td>\n",
       "      <td>0</td>\n",
       "    </tr>\n",
       "    <tr>\n",
       "      <th>1411</th>\n",
       "      <td>123461</td>\n",
       "      <td>829</td>\n",
       "      <td>Ярославль</td>\n",
       "      <td>Ж</td>\n",
       "      <td>59</td>\n",
       "      <td>0</td>\n",
       "      <td>96222.44</td>\n",
       "      <td>2</td>\n",
       "      <td>0</td>\n",
       "      <td>1</td>\n",
       "      <td>102771.55</td>\n",
       "      <td>1</td>\n",
       "    </tr>\n",
       "    <tr>\n",
       "      <th>8638</th>\n",
       "      <td>123461</td>\n",
       "      <td>934</td>\n",
       "      <td>Рыбинск</td>\n",
       "      <td>М</td>\n",
       "      <td>34</td>\n",
       "      <td>0</td>\n",
       "      <td>NaN</td>\n",
       "      <td>2</td>\n",
       "      <td>1</td>\n",
       "      <td>0</td>\n",
       "      <td>291619.27</td>\n",
       "      <td>0</td>\n",
       "    </tr>\n",
       "    <tr>\n",
       "      <th>9775</th>\n",
       "      <td>124450</td>\n",
       "      <td>758</td>\n",
       "      <td>Рыбинск</td>\n",
       "      <td>Ж</td>\n",
       "      <td>36</td>\n",
       "      <td>0</td>\n",
       "      <td>73574.07</td>\n",
       "      <td>2</td>\n",
       "      <td>0</td>\n",
       "      <td>1</td>\n",
       "      <td>79963.59</td>\n",
       "      <td>0</td>\n",
       "    </tr>\n",
       "    <tr>\n",
       "      <th>8164</th>\n",
       "      <td>124450</td>\n",
       "      <td>859</td>\n",
       "      <td>Ярославль</td>\n",
       "      <td>Ж</td>\n",
       "      <td>38</td>\n",
       "      <td>6</td>\n",
       "      <td>516811.20</td>\n",
       "      <td>1</td>\n",
       "      <td>1</td>\n",
       "      <td>1</td>\n",
       "      <td>95144.63</td>\n",
       "      <td>1</td>\n",
       "    </tr>\n",
       "    <tr>\n",
       "      <th>4850</th>\n",
       "      <td>126368</td>\n",
       "      <td>909</td>\n",
       "      <td>Ярославль</td>\n",
       "      <td>Ж</td>\n",
       "      <td>30</td>\n",
       "      <td>4</td>\n",
       "      <td>1322623.29</td>\n",
       "      <td>2</td>\n",
       "      <td>0</td>\n",
       "      <td>1</td>\n",
       "      <td>140675.66</td>\n",
       "      <td>1</td>\n",
       "    </tr>\n",
       "    <tr>\n",
       "      <th>5420</th>\n",
       "      <td>126368</td>\n",
       "      <td>832</td>\n",
       "      <td>Рыбинск</td>\n",
       "      <td>Ж</td>\n",
       "      <td>33</td>\n",
       "      <td>0</td>\n",
       "      <td>NaN</td>\n",
       "      <td>1</td>\n",
       "      <td>0</td>\n",
       "      <td>0</td>\n",
       "      <td>118465.34</td>\n",
       "      <td>0</td>\n",
       "    </tr>\n",
       "    <tr>\n",
       "      <th>3988</th>\n",
       "      <td>129785</td>\n",
       "      <td>904</td>\n",
       "      <td>Рыбинск</td>\n",
       "      <td>М</td>\n",
       "      <td>33</td>\n",
       "      <td>5</td>\n",
       "      <td>2427737.60</td>\n",
       "      <td>3</td>\n",
       "      <td>0</td>\n",
       "      <td>1</td>\n",
       "      <td>188856.75</td>\n",
       "      <td>1</td>\n",
       "    </tr>\n",
       "    <tr>\n",
       "      <th>9504</th>\n",
       "      <td>129785</td>\n",
       "      <td>949</td>\n",
       "      <td>Ярославль</td>\n",
       "      <td>М</td>\n",
       "      <td>43</td>\n",
       "      <td>0</td>\n",
       "      <td>NaN</td>\n",
       "      <td>1</td>\n",
       "      <td>1</td>\n",
       "      <td>1</td>\n",
       "      <td>166845.37</td>\n",
       "      <td>0</td>\n",
       "    </tr>\n",
       "    <tr>\n",
       "      <th>2138</th>\n",
       "      <td>131419</td>\n",
       "      <td>739</td>\n",
       "      <td>Рыбинск</td>\n",
       "      <td>Ж</td>\n",
       "      <td>37</td>\n",
       "      <td>3</td>\n",
       "      <td>1307941.65</td>\n",
       "      <td>3</td>\n",
       "      <td>0</td>\n",
       "      <td>0</td>\n",
       "      <td>103867.47</td>\n",
       "      <td>0</td>\n",
       "    </tr>\n",
       "    <tr>\n",
       "      <th>904</th>\n",
       "      <td>131419</td>\n",
       "      <td>934</td>\n",
       "      <td>Ярославль</td>\n",
       "      <td>М</td>\n",
       "      <td>35</td>\n",
       "      <td>5</td>\n",
       "      <td>2348335.95</td>\n",
       "      <td>2</td>\n",
       "      <td>0</td>\n",
       "      <td>0</td>\n",
       "      <td>217105.13</td>\n",
       "      <td>1</td>\n",
       "    </tr>\n",
       "    <tr>\n",
       "      <th>1608</th>\n",
       "      <td>140377</td>\n",
       "      <td>802</td>\n",
       "      <td>Ярославль</td>\n",
       "      <td>М</td>\n",
       "      <td>26</td>\n",
       "      <td>3</td>\n",
       "      <td>539863.29</td>\n",
       "      <td>4</td>\n",
       "      <td>1</td>\n",
       "      <td>1</td>\n",
       "      <td>112167.83</td>\n",
       "      <td>1</td>\n",
       "    </tr>\n",
       "    <tr>\n",
       "      <th>7487</th>\n",
       "      <td>140377</td>\n",
       "      <td>930</td>\n",
       "      <td>Рыбинск</td>\n",
       "      <td>Ж</td>\n",
       "      <td>34</td>\n",
       "      <td>5</td>\n",
       "      <td>1123967.02</td>\n",
       "      <td>1</td>\n",
       "      <td>1</td>\n",
       "      <td>1</td>\n",
       "      <td>148336.26</td>\n",
       "      <td>0</td>\n",
       "    </tr>\n",
       "    <tr>\n",
       "      <th>2276</th>\n",
       "      <td>141265</td>\n",
       "      <td>858</td>\n",
       "      <td>Ярославль</td>\n",
       "      <td>М</td>\n",
       "      <td>37</td>\n",
       "      <td>4</td>\n",
       "      <td>471599.16</td>\n",
       "      <td>2</td>\n",
       "      <td>1</td>\n",
       "      <td>1</td>\n",
       "      <td>148806.88</td>\n",
       "      <td>1</td>\n",
       "    </tr>\n",
       "    <tr>\n",
       "      <th>5569</th>\n",
       "      <td>141265</td>\n",
       "      <td>811</td>\n",
       "      <td>Рыбинск</td>\n",
       "      <td>Ж</td>\n",
       "      <td>33</td>\n",
       "      <td>3</td>\n",
       "      <td>1044316.88</td>\n",
       "      <td>2</td>\n",
       "      <td>1</td>\n",
       "      <td>0</td>\n",
       "      <td>46055.32</td>\n",
       "      <td>0</td>\n",
       "    </tr>\n",
       "    <tr>\n",
       "      <th>5369</th>\n",
       "      <td>143592</td>\n",
       "      <td>885</td>\n",
       "      <td>Рыбинск</td>\n",
       "      <td>Ж</td>\n",
       "      <td>56</td>\n",
       "      <td>4</td>\n",
       "      <td>1201087.46</td>\n",
       "      <td>2</td>\n",
       "      <td>1</td>\n",
       "      <td>1</td>\n",
       "      <td>88223.89</td>\n",
       "      <td>1</td>\n",
       "    </tr>\n",
       "    <tr>\n",
       "      <th>5557</th>\n",
       "      <td>143592</td>\n",
       "      <td>764</td>\n",
       "      <td>Ярославль</td>\n",
       "      <td>Ж</td>\n",
       "      <td>68</td>\n",
       "      <td>3</td>\n",
       "      <td>508919.15</td>\n",
       "      <td>2</td>\n",
       "      <td>0</td>\n",
       "      <td>1</td>\n",
       "      <td>71211.66</td>\n",
       "      <td>0</td>\n",
       "    </tr>\n",
       "    <tr>\n",
       "      <th>8364</th>\n",
       "      <td>148826</td>\n",
       "      <td>909</td>\n",
       "      <td>Рыбинск</td>\n",
       "      <td>Ж</td>\n",
       "      <td>32</td>\n",
       "      <td>0</td>\n",
       "      <td>NaN</td>\n",
       "      <td>3</td>\n",
       "      <td>1</td>\n",
       "      <td>0</td>\n",
       "      <td>28843.54</td>\n",
       "      <td>0</td>\n",
       "    </tr>\n",
       "    <tr>\n",
       "      <th>5252</th>\n",
       "      <td>148826</td>\n",
       "      <td>895</td>\n",
       "      <td>Ярославль</td>\n",
       "      <td>М</td>\n",
       "      <td>32</td>\n",
       "      <td>5</td>\n",
       "      <td>1470273.14</td>\n",
       "      <td>2</td>\n",
       "      <td>0</td>\n",
       "      <td>0</td>\n",
       "      <td>118058.52</td>\n",
       "      <td>1</td>\n",
       "    </tr>\n",
       "    <tr>\n",
       "      <th>946</th>\n",
       "      <td>149365</td>\n",
       "      <td>877</td>\n",
       "      <td>Ярославль</td>\n",
       "      <td>М</td>\n",
       "      <td>41</td>\n",
       "      <td>5</td>\n",
       "      <td>819182.01</td>\n",
       "      <td>2</td>\n",
       "      <td>0</td>\n",
       "      <td>0</td>\n",
       "      <td>212316.47</td>\n",
       "      <td>1</td>\n",
       "    </tr>\n",
       "    <tr>\n",
       "      <th>8272</th>\n",
       "      <td>149365</td>\n",
       "      <td>793</td>\n",
       "      <td>Рыбинск</td>\n",
       "      <td>Ж</td>\n",
       "      <td>61</td>\n",
       "      <td>0</td>\n",
       "      <td>476496.99</td>\n",
       "      <td>2</td>\n",
       "      <td>1</td>\n",
       "      <td>1</td>\n",
       "      <td>46147.06</td>\n",
       "      <td>0</td>\n",
       "    </tr>\n",
       "    <tr>\n",
       "      <th>2439</th>\n",
       "      <td>150667</td>\n",
       "      <td>813</td>\n",
       "      <td>Рыбинск</td>\n",
       "      <td>Ж</td>\n",
       "      <td>44</td>\n",
       "      <td>0</td>\n",
       "      <td>62504.47</td>\n",
       "      <td>4</td>\n",
       "      <td>1</td>\n",
       "      <td>0</td>\n",
       "      <td>152393.79</td>\n",
       "      <td>1</td>\n",
       "    </tr>\n",
       "    <tr>\n",
       "      <th>9267</th>\n",
       "      <td>150667</td>\n",
       "      <td>931</td>\n",
       "      <td>Ярославль</td>\n",
       "      <td>М</td>\n",
       "      <td>41</td>\n",
       "      <td>0</td>\n",
       "      <td>NaN</td>\n",
       "      <td>1</td>\n",
       "      <td>0</td>\n",
       "      <td>0</td>\n",
       "      <td>261904.44</td>\n",
       "      <td>0</td>\n",
       "    </tr>\n",
       "    <tr>\n",
       "      <th>690</th>\n",
       "      <td>152479</td>\n",
       "      <td>768</td>\n",
       "      <td>Рыбинск</td>\n",
       "      <td>Ж</td>\n",
       "      <td>42</td>\n",
       "      <td>0</td>\n",
       "      <td>126787.79</td>\n",
       "      <td>4</td>\n",
       "      <td>1</td>\n",
       "      <td>1</td>\n",
       "      <td>143233.23</td>\n",
       "      <td>1</td>\n",
       "    </tr>\n",
       "    <tr>\n",
       "      <th>5705</th>\n",
       "      <td>152479</td>\n",
       "      <td>723</td>\n",
       "      <td>Ярославль</td>\n",
       "      <td>Ж</td>\n",
       "      <td>22</td>\n",
       "      <td>0</td>\n",
       "      <td>NaN</td>\n",
       "      <td>1</td>\n",
       "      <td>1</td>\n",
       "      <td>0</td>\n",
       "      <td>83955.65</td>\n",
       "      <td>0</td>\n",
       "    </tr>\n",
       "    <tr>\n",
       "      <th>3274</th>\n",
       "      <td>155765</td>\n",
       "      <td>863</td>\n",
       "      <td>Ярославль</td>\n",
       "      <td>М</td>\n",
       "      <td>30</td>\n",
       "      <td>5</td>\n",
       "      <td>1036114.50</td>\n",
       "      <td>5</td>\n",
       "      <td>1</td>\n",
       "      <td>1</td>\n",
       "      <td>150744.50</td>\n",
       "      <td>1</td>\n",
       "    </tr>\n",
       "    <tr>\n",
       "      <th>5197</th>\n",
       "      <td>155765</td>\n",
       "      <td>923</td>\n",
       "      <td>Рыбинск</td>\n",
       "      <td>М</td>\n",
       "      <td>30</td>\n",
       "      <td>0</td>\n",
       "      <td>NaN</td>\n",
       "      <td>1</td>\n",
       "      <td>1</td>\n",
       "      <td>1</td>\n",
       "      <td>120296.60</td>\n",
       "      <td>0</td>\n",
       "    </tr>\n",
       "    <tr>\n",
       "      <th>1080</th>\n",
       "      <td>155872</td>\n",
       "      <td>896</td>\n",
       "      <td>Ярославль</td>\n",
       "      <td>М</td>\n",
       "      <td>36</td>\n",
       "      <td>3</td>\n",
       "      <td>1113656.92</td>\n",
       "      <td>3</td>\n",
       "      <td>0</td>\n",
       "      <td>1</td>\n",
       "      <td>291176.85</td>\n",
       "      <td>1</td>\n",
       "    </tr>\n",
       "    <tr>\n",
       "      <th>9363</th>\n",
       "      <td>155872</td>\n",
       "      <td>714</td>\n",
       "      <td>Рыбинск</td>\n",
       "      <td>Ж</td>\n",
       "      <td>29</td>\n",
       "      <td>0</td>\n",
       "      <td>NaN</td>\n",
       "      <td>1</td>\n",
       "      <td>1</td>\n",
       "      <td>0</td>\n",
       "      <td>118052.84</td>\n",
       "      <td>0</td>\n",
       "    </tr>\n",
       "    <tr>\n",
       "      <th>3936</th>\n",
       "      <td>160075</td>\n",
       "      <td>899</td>\n",
       "      <td>Ярославль</td>\n",
       "      <td>М</td>\n",
       "      <td>34</td>\n",
       "      <td>4</td>\n",
       "      <td>1647814.67</td>\n",
       "      <td>4</td>\n",
       "      <td>1</td>\n",
       "      <td>0</td>\n",
       "      <td>151888.42</td>\n",
       "      <td>1</td>\n",
       "    </tr>\n",
       "    <tr>\n",
       "      <th>9508</th>\n",
       "      <td>160075</td>\n",
       "      <td>824</td>\n",
       "      <td>Рыбинск</td>\n",
       "      <td>Ж</td>\n",
       "      <td>57</td>\n",
       "      <td>3</td>\n",
       "      <td>355047.33</td>\n",
       "      <td>2</td>\n",
       "      <td>0</td>\n",
       "      <td>0</td>\n",
       "      <td>64351.81</td>\n",
       "      <td>0</td>\n",
       "    </tr>\n",
       "    <tr>\n",
       "      <th>8733</th>\n",
       "      <td>162053</td>\n",
       "      <td>786</td>\n",
       "      <td>Ярославль</td>\n",
       "      <td>М</td>\n",
       "      <td>29</td>\n",
       "      <td>4</td>\n",
       "      <td>205824.97</td>\n",
       "      <td>3</td>\n",
       "      <td>1</td>\n",
       "      <td>0</td>\n",
       "      <td>121371.73</td>\n",
       "      <td>0</td>\n",
       "    </tr>\n",
       "    <tr>\n",
       "      <th>5629</th>\n",
       "      <td>162053</td>\n",
       "      <td>921</td>\n",
       "      <td>Рыбинск</td>\n",
       "      <td>М</td>\n",
       "      <td>33</td>\n",
       "      <td>3</td>\n",
       "      <td>857011.13</td>\n",
       "      <td>2</td>\n",
       "      <td>1</td>\n",
       "      <td>1</td>\n",
       "      <td>113512.57</td>\n",
       "      <td>1</td>\n",
       "    </tr>\n",
       "    <tr>\n",
       "      <th>6786</th>\n",
       "      <td>163207</td>\n",
       "      <td>838</td>\n",
       "      <td>Ярославль</td>\n",
       "      <td>Ж</td>\n",
       "      <td>42</td>\n",
       "      <td>4</td>\n",
       "      <td>652776.60</td>\n",
       "      <td>2</td>\n",
       "      <td>1</td>\n",
       "      <td>1</td>\n",
       "      <td>97545.36</td>\n",
       "      <td>0</td>\n",
       "    </tr>\n",
       "    <tr>\n",
       "      <th>3564</th>\n",
       "      <td>163207</td>\n",
       "      <td>853</td>\n",
       "      <td>Рыбинск</td>\n",
       "      <td>М</td>\n",
       "      <td>42</td>\n",
       "      <td>4</td>\n",
       "      <td>543839.62</td>\n",
       "      <td>1</td>\n",
       "      <td>1</td>\n",
       "      <td>1</td>\n",
       "      <td>105281.97</td>\n",
       "      <td>1</td>\n",
       "    </tr>\n",
       "    <tr>\n",
       "      <th>7271</th>\n",
       "      <td>164676</td>\n",
       "      <td>790</td>\n",
       "      <td>Рыбинск</td>\n",
       "      <td>Ж</td>\n",
       "      <td>77</td>\n",
       "      <td>1</td>\n",
       "      <td>111202.01</td>\n",
       "      <td>1</td>\n",
       "      <td>1</td>\n",
       "      <td>0</td>\n",
       "      <td>32835.45</td>\n",
       "      <td>0</td>\n",
       "    </tr>\n",
       "    <tr>\n",
       "      <th>58</th>\n",
       "      <td>164676</td>\n",
       "      <td>860</td>\n",
       "      <td>Ярославль</td>\n",
       "      <td>М</td>\n",
       "      <td>37</td>\n",
       "      <td>5</td>\n",
       "      <td>648594.03</td>\n",
       "      <td>2</td>\n",
       "      <td>1</td>\n",
       "      <td>1</td>\n",
       "      <td>213586.86</td>\n",
       "      <td>1</td>\n",
       "    </tr>\n",
       "    <tr>\n",
       "      <th>9785</th>\n",
       "      <td>168998</td>\n",
       "      <td>895</td>\n",
       "      <td>Рыбинск</td>\n",
       "      <td>М</td>\n",
       "      <td>44</td>\n",
       "      <td>0</td>\n",
       "      <td>282653.53</td>\n",
       "      <td>3</td>\n",
       "      <td>0</td>\n",
       "      <td>0</td>\n",
       "      <td>255296.47</td>\n",
       "      <td>0</td>\n",
       "    </tr>\n",
       "    <tr>\n",
       "      <th>5020</th>\n",
       "      <td>168998</td>\n",
       "      <td>886</td>\n",
       "      <td>Ярославль</td>\n",
       "      <td>Ж</td>\n",
       "      <td>35</td>\n",
       "      <td>4</td>\n",
       "      <td>394780.61</td>\n",
       "      <td>2</td>\n",
       "      <td>1</td>\n",
       "      <td>1</td>\n",
       "      <td>510577.10</td>\n",
       "      <td>1</td>\n",
       "    </tr>\n",
       "    <tr>\n",
       "      <th>790</th>\n",
       "      <td>170312</td>\n",
       "      <td>901</td>\n",
       "      <td>Ярославль</td>\n",
       "      <td>М</td>\n",
       "      <td>33</td>\n",
       "      <td>4</td>\n",
       "      <td>3276783.93</td>\n",
       "      <td>3</td>\n",
       "      <td>0</td>\n",
       "      <td>1</td>\n",
       "      <td>358700.96</td>\n",
       "      <td>1</td>\n",
       "    </tr>\n",
       "    <tr>\n",
       "      <th>3039</th>\n",
       "      <td>170312</td>\n",
       "      <td>813</td>\n",
       "      <td>Рыбинск</td>\n",
       "      <td>Ж</td>\n",
       "      <td>47</td>\n",
       "      <td>3</td>\n",
       "      <td>370027.67</td>\n",
       "      <td>2</td>\n",
       "      <td>0</td>\n",
       "      <td>0</td>\n",
       "      <td>129835.56</td>\n",
       "      <td>0</td>\n",
       "    </tr>\n",
       "    <tr>\n",
       "      <th>4587</th>\n",
       "      <td>171751</td>\n",
       "      <td>874</td>\n",
       "      <td>Рыбинск</td>\n",
       "      <td>Ж</td>\n",
       "      <td>26</td>\n",
       "      <td>5</td>\n",
       "      <td>292054.42</td>\n",
       "      <td>2</td>\n",
       "      <td>0</td>\n",
       "      <td>1</td>\n",
       "      <td>20528.56</td>\n",
       "      <td>1</td>\n",
       "    </tr>\n",
       "    <tr>\n",
       "      <th>9653</th>\n",
       "      <td>171751</td>\n",
       "      <td>862</td>\n",
       "      <td>Ярославль</td>\n",
       "      <td>М</td>\n",
       "      <td>42</td>\n",
       "      <td>4</td>\n",
       "      <td>481992.19</td>\n",
       "      <td>2</td>\n",
       "      <td>1</td>\n",
       "      <td>0</td>\n",
       "      <td>71816.86</td>\n",
       "      <td>0</td>\n",
       "    </tr>\n",
       "    <tr>\n",
       "      <th>6756</th>\n",
       "      <td>172142</td>\n",
       "      <td>751</td>\n",
       "      <td>Рыбинск</td>\n",
       "      <td>Ж</td>\n",
       "      <td>69</td>\n",
       "      <td>3</td>\n",
       "      <td>396568.03</td>\n",
       "      <td>2</td>\n",
       "      <td>0</td>\n",
       "      <td>1</td>\n",
       "      <td>45608.45</td>\n",
       "      <td>0</td>\n",
       "    </tr>\n",
       "    <tr>\n",
       "      <th>2941</th>\n",
       "      <td>172142</td>\n",
       "      <td>896</td>\n",
       "      <td>Ярославль</td>\n",
       "      <td>Ж</td>\n",
       "      <td>30</td>\n",
       "      <td>4</td>\n",
       "      <td>1009073.14</td>\n",
       "      <td>4</td>\n",
       "      <td>1</td>\n",
       "      <td>0</td>\n",
       "      <td>70866.29</td>\n",
       "      <td>1</td>\n",
       "    </tr>\n",
       "    <tr>\n",
       "      <th>7753</th>\n",
       "      <td>175730</td>\n",
       "      <td>846</td>\n",
       "      <td>Ярославль</td>\n",
       "      <td>Ж</td>\n",
       "      <td>32</td>\n",
       "      <td>7</td>\n",
       "      <td>216764.74</td>\n",
       "      <td>4</td>\n",
       "      <td>1</td>\n",
       "      <td>1</td>\n",
       "      <td>77100.85</td>\n",
       "      <td>1</td>\n",
       "    </tr>\n",
       "    <tr>\n",
       "      <th>9970</th>\n",
       "      <td>175730</td>\n",
       "      <td>816</td>\n",
       "      <td>Рыбинск</td>\n",
       "      <td>М</td>\n",
       "      <td>36</td>\n",
       "      <td>4</td>\n",
       "      <td>477892.07</td>\n",
       "      <td>3</td>\n",
       "      <td>1</td>\n",
       "      <td>0</td>\n",
       "      <td>81100.60</td>\n",
       "      <td>0</td>\n",
       "    </tr>\n",
       "    <tr>\n",
       "      <th>8705</th>\n",
       "      <td>181526</td>\n",
       "      <td>895</td>\n",
       "      <td>Рыбинск</td>\n",
       "      <td>М</td>\n",
       "      <td>29</td>\n",
       "      <td>0</td>\n",
       "      <td>NaN</td>\n",
       "      <td>1</td>\n",
       "      <td>1</td>\n",
       "      <td>1</td>\n",
       "      <td>124786.53</td>\n",
       "      <td>0</td>\n",
       "    </tr>\n",
       "    <tr>\n",
       "      <th>2989</th>\n",
       "      <td>181526</td>\n",
       "      <td>918</td>\n",
       "      <td>Ярославль</td>\n",
       "      <td>Ж</td>\n",
       "      <td>37</td>\n",
       "      <td>5</td>\n",
       "      <td>1366382.35</td>\n",
       "      <td>4</td>\n",
       "      <td>1</td>\n",
       "      <td>1</td>\n",
       "      <td>97932.95</td>\n",
       "      <td>1</td>\n",
       "    </tr>\n",
       "    <tr>\n",
       "      <th>9146</th>\n",
       "      <td>183510</td>\n",
       "      <td>800</td>\n",
       "      <td>Рыбинск</td>\n",
       "      <td>Ж</td>\n",
       "      <td>42</td>\n",
       "      <td>7</td>\n",
       "      <td>473293.81</td>\n",
       "      <td>2</td>\n",
       "      <td>1</td>\n",
       "      <td>0</td>\n",
       "      <td>54049.88</td>\n",
       "      <td>0</td>\n",
       "    </tr>\n",
       "    <tr>\n",
       "      <th>8584</th>\n",
       "      <td>183510</td>\n",
       "      <td>922</td>\n",
       "      <td>Ярославль</td>\n",
       "      <td>М</td>\n",
       "      <td>26</td>\n",
       "      <td>5</td>\n",
       "      <td>448542.42</td>\n",
       "      <td>3</td>\n",
       "      <td>0</td>\n",
       "      <td>1</td>\n",
       "      <td>66063.13</td>\n",
       "      <td>1</td>\n",
       "    </tr>\n",
       "    <tr>\n",
       "      <th>3106</th>\n",
       "      <td>185748</td>\n",
       "      <td>912</td>\n",
       "      <td>Ярославль</td>\n",
       "      <td>Ж</td>\n",
       "      <td>47</td>\n",
       "      <td>5</td>\n",
       "      <td>1598218.98</td>\n",
       "      <td>2</td>\n",
       "      <td>0</td>\n",
       "      <td>0</td>\n",
       "      <td>180256.98</td>\n",
       "      <td>0</td>\n",
       "    </tr>\n",
       "    <tr>\n",
       "      <th>150</th>\n",
       "      <td>185748</td>\n",
       "      <td>850</td>\n",
       "      <td>Рыбинск</td>\n",
       "      <td>М</td>\n",
       "      <td>36</td>\n",
       "      <td>5</td>\n",
       "      <td>1203376.67</td>\n",
       "      <td>2</td>\n",
       "      <td>0</td>\n",
       "      <td>1</td>\n",
       "      <td>89401.82</td>\n",
       "      <td>1</td>\n",
       "    </tr>\n",
       "    <tr>\n",
       "      <th>5454</th>\n",
       "      <td>188957</td>\n",
       "      <td>853</td>\n",
       "      <td>Ярославль</td>\n",
       "      <td>М</td>\n",
       "      <td>35</td>\n",
       "      <td>1</td>\n",
       "      <td>374959.62</td>\n",
       "      <td>2</td>\n",
       "      <td>1</td>\n",
       "      <td>1</td>\n",
       "      <td>197600.97</td>\n",
       "      <td>1</td>\n",
       "    </tr>\n",
       "    <tr>\n",
       "      <th>6005</th>\n",
       "      <td>188957</td>\n",
       "      <td>882</td>\n",
       "      <td>Рыбинск</td>\n",
       "      <td>Ж</td>\n",
       "      <td>64</td>\n",
       "      <td>3</td>\n",
       "      <td>893392.91</td>\n",
       "      <td>3</td>\n",
       "      <td>1</td>\n",
       "      <td>0</td>\n",
       "      <td>69622.58</td>\n",
       "      <td>0</td>\n",
       "    </tr>\n",
       "    <tr>\n",
       "      <th>1583</th>\n",
       "      <td>190253</td>\n",
       "      <td>726</td>\n",
       "      <td>Ярославль</td>\n",
       "      <td>М</td>\n",
       "      <td>49</td>\n",
       "      <td>0</td>\n",
       "      <td>NaN</td>\n",
       "      <td>1</td>\n",
       "      <td>1</td>\n",
       "      <td>1</td>\n",
       "      <td>177700.78</td>\n",
       "      <td>0</td>\n",
       "    </tr>\n",
       "    <tr>\n",
       "      <th>231</th>\n",
       "      <td>190253</td>\n",
       "      <td>823</td>\n",
       "      <td>Рыбинск</td>\n",
       "      <td>М</td>\n",
       "      <td>37</td>\n",
       "      <td>4</td>\n",
       "      <td>373348.39</td>\n",
       "      <td>2</td>\n",
       "      <td>0</td>\n",
       "      <td>1</td>\n",
       "      <td>131947.92</td>\n",
       "      <td>1</td>\n",
       "    </tr>\n",
       "    <tr>\n",
       "      <th>3859</th>\n",
       "      <td>191520</td>\n",
       "      <td>773</td>\n",
       "      <td>Рыбинск</td>\n",
       "      <td>М</td>\n",
       "      <td>36</td>\n",
       "      <td>3</td>\n",
       "      <td>1219918.08</td>\n",
       "      <td>4</td>\n",
       "      <td>1</td>\n",
       "      <td>1</td>\n",
       "      <td>119933.13</td>\n",
       "      <td>1</td>\n",
       "    </tr>\n",
       "    <tr>\n",
       "      <th>7931</th>\n",
       "      <td>191520</td>\n",
       "      <td>767</td>\n",
       "      <td>Ярославль</td>\n",
       "      <td>М</td>\n",
       "      <td>45</td>\n",
       "      <td>0</td>\n",
       "      <td>NaN</td>\n",
       "      <td>1</td>\n",
       "      <td>1</td>\n",
       "      <td>1</td>\n",
       "      <td>880005.05</td>\n",
       "      <td>0</td>\n",
       "    </tr>\n",
       "    <tr>\n",
       "      <th>9659</th>\n",
       "      <td>195884</td>\n",
       "      <td>767</td>\n",
       "      <td>Рыбинск</td>\n",
       "      <td>Ж</td>\n",
       "      <td>45</td>\n",
       "      <td>1</td>\n",
       "      <td>335652.56</td>\n",
       "      <td>3</td>\n",
       "      <td>1</td>\n",
       "      <td>1</td>\n",
       "      <td>100197.67</td>\n",
       "      <td>0</td>\n",
       "    </tr>\n",
       "    <tr>\n",
       "      <th>2226</th>\n",
       "      <td>195884</td>\n",
       "      <td>906</td>\n",
       "      <td>Ярославль</td>\n",
       "      <td>М</td>\n",
       "      <td>49</td>\n",
       "      <td>6</td>\n",
       "      <td>1354552.83</td>\n",
       "      <td>2</td>\n",
       "      <td>0</td>\n",
       "      <td>0</td>\n",
       "      <td>270678.42</td>\n",
       "      <td>1</td>\n",
       "    </tr>\n",
       "    <tr>\n",
       "      <th>4870</th>\n",
       "      <td>197364</td>\n",
       "      <td>889</td>\n",
       "      <td>Ярославль</td>\n",
       "      <td>М</td>\n",
       "      <td>33</td>\n",
       "      <td>0</td>\n",
       "      <td>NaN</td>\n",
       "      <td>2</td>\n",
       "      <td>1</td>\n",
       "      <td>1</td>\n",
       "      <td>96173.48</td>\n",
       "      <td>0</td>\n",
       "    </tr>\n",
       "    <tr>\n",
       "      <th>161</th>\n",
       "      <td>197364</td>\n",
       "      <td>928</td>\n",
       "      <td>Рыбинск</td>\n",
       "      <td>Ж</td>\n",
       "      <td>53</td>\n",
       "      <td>6</td>\n",
       "      <td>1347183.86</td>\n",
       "      <td>2</td>\n",
       "      <td>0</td>\n",
       "      <td>1</td>\n",
       "      <td>168189.49</td>\n",
       "      <td>1</td>\n",
       "    </tr>\n",
       "    <tr>\n",
       "      <th>8822</th>\n",
       "      <td>199312</td>\n",
       "      <td>911</td>\n",
       "      <td>Рыбинск</td>\n",
       "      <td>Ж</td>\n",
       "      <td>43</td>\n",
       "      <td>0</td>\n",
       "      <td>NaN</td>\n",
       "      <td>2</td>\n",
       "      <td>1</td>\n",
       "      <td>1</td>\n",
       "      <td>152189.72</td>\n",
       "      <td>0</td>\n",
       "    </tr>\n",
       "    <tr>\n",
       "      <th>2499</th>\n",
       "      <td>199312</td>\n",
       "      <td>948</td>\n",
       "      <td>Ярославль</td>\n",
       "      <td>М</td>\n",
       "      <td>41</td>\n",
       "      <td>5</td>\n",
       "      <td>3095721.85</td>\n",
       "      <td>4</td>\n",
       "      <td>1</td>\n",
       "      <td>1</td>\n",
       "      <td>307234.69</td>\n",
       "      <td>1</td>\n",
       "    </tr>\n",
       "    <tr>\n",
       "      <th>9035</th>\n",
       "      <td>200863</td>\n",
       "      <td>933</td>\n",
       "      <td>Рыбинск</td>\n",
       "      <td>М</td>\n",
       "      <td>29</td>\n",
       "      <td>7</td>\n",
       "      <td>766924.56</td>\n",
       "      <td>2</td>\n",
       "      <td>0</td>\n",
       "      <td>1</td>\n",
       "      <td>89323.33</td>\n",
       "      <td>1</td>\n",
       "    </tr>\n",
       "    <tr>\n",
       "      <th>9175</th>\n",
       "      <td>200863</td>\n",
       "      <td>832</td>\n",
       "      <td>Ярославль</td>\n",
       "      <td>М</td>\n",
       "      <td>42</td>\n",
       "      <td>5</td>\n",
       "      <td>620064.73</td>\n",
       "      <td>2</td>\n",
       "      <td>0</td>\n",
       "      <td>0</td>\n",
       "      <td>188054.46</td>\n",
       "      <td>0</td>\n",
       "    </tr>\n",
       "    <tr>\n",
       "      <th>1513</th>\n",
       "      <td>208081</td>\n",
       "      <td>873</td>\n",
       "      <td>Ярославль</td>\n",
       "      <td>М</td>\n",
       "      <td>31</td>\n",
       "      <td>2</td>\n",
       "      <td>232814.75</td>\n",
       "      <td>2</td>\n",
       "      <td>1</td>\n",
       "      <td>1</td>\n",
       "      <td>122505.86</td>\n",
       "      <td>1</td>\n",
       "    </tr>\n",
       "    <tr>\n",
       "      <th>2998</th>\n",
       "      <td>208081</td>\n",
       "      <td>821</td>\n",
       "      <td>Рыбинск</td>\n",
       "      <td>Ж</td>\n",
       "      <td>62</td>\n",
       "      <td>3</td>\n",
       "      <td>493608.26</td>\n",
       "      <td>2</td>\n",
       "      <td>1</td>\n",
       "      <td>1</td>\n",
       "      <td>33491.45</td>\n",
       "      <td>0</td>\n",
       "    </tr>\n",
       "    <tr>\n",
       "      <th>5840</th>\n",
       "      <td>208738</td>\n",
       "      <td>839</td>\n",
       "      <td>Ярославль</td>\n",
       "      <td>М</td>\n",
       "      <td>60</td>\n",
       "      <td>5</td>\n",
       "      <td>1102438.37</td>\n",
       "      <td>2</td>\n",
       "      <td>0</td>\n",
       "      <td>1</td>\n",
       "      <td>116500.81</td>\n",
       "      <td>0</td>\n",
       "    </tr>\n",
       "    <tr>\n",
       "      <th>1580</th>\n",
       "      <td>208738</td>\n",
       "      <td>897</td>\n",
       "      <td>Рыбинск</td>\n",
       "      <td>Ж</td>\n",
       "      <td>45</td>\n",
       "      <td>5</td>\n",
       "      <td>859018.19</td>\n",
       "      <td>2</td>\n",
       "      <td>1</td>\n",
       "      <td>1</td>\n",
       "      <td>145510.08</td>\n",
       "      <td>1</td>\n",
       "    </tr>\n",
       "    <tr>\n",
       "      <th>3350</th>\n",
       "      <td>208815</td>\n",
       "      <td>877</td>\n",
       "      <td>Рыбинск</td>\n",
       "      <td>М</td>\n",
       "      <td>25</td>\n",
       "      <td>4</td>\n",
       "      <td>239421.18</td>\n",
       "      <td>1</td>\n",
       "      <td>1</td>\n",
       "      <td>1</td>\n",
       "      <td>48638.00</td>\n",
       "      <td>1</td>\n",
       "    </tr>\n",
       "    <tr>\n",
       "      <th>5570</th>\n",
       "      <td>208815</td>\n",
       "      <td>773</td>\n",
       "      <td>Ярославль</td>\n",
       "      <td>М</td>\n",
       "      <td>39</td>\n",
       "      <td>4</td>\n",
       "      <td>288110.09</td>\n",
       "      <td>2</td>\n",
       "      <td>1</td>\n",
       "      <td>0</td>\n",
       "      <td>56971.91</td>\n",
       "      <td>0</td>\n",
       "    </tr>\n",
       "    <tr>\n",
       "      <th>7453</th>\n",
       "      <td>210627</td>\n",
       "      <td>864</td>\n",
       "      <td>Ярославль</td>\n",
       "      <td>Ж</td>\n",
       "      <td>38</td>\n",
       "      <td>4</td>\n",
       "      <td>1527225.32</td>\n",
       "      <td>4</td>\n",
       "      <td>1</td>\n",
       "      <td>1</td>\n",
       "      <td>162999.17</td>\n",
       "      <td>1</td>\n",
       "    </tr>\n",
       "    <tr>\n",
       "      <th>8521</th>\n",
       "      <td>210627</td>\n",
       "      <td>804</td>\n",
       "      <td>Рыбинск</td>\n",
       "      <td>М</td>\n",
       "      <td>30</td>\n",
       "      <td>2</td>\n",
       "      <td>347818.88</td>\n",
       "      <td>3</td>\n",
       "      <td>1</td>\n",
       "      <td>0</td>\n",
       "      <td>129015.25</td>\n",
       "      <td>0</td>\n",
       "    </tr>\n",
       "    <tr>\n",
       "      <th>869</th>\n",
       "      <td>210662</td>\n",
       "      <td>962</td>\n",
       "      <td>Ярославль</td>\n",
       "      <td>Ж</td>\n",
       "      <td>54</td>\n",
       "      <td>5</td>\n",
       "      <td>5069231.39</td>\n",
       "      <td>1</td>\n",
       "      <td>1</td>\n",
       "      <td>1</td>\n",
       "      <td>955144.85</td>\n",
       "      <td>1</td>\n",
       "    </tr>\n",
       "    <tr>\n",
       "      <th>1837</th>\n",
       "      <td>210662</td>\n",
       "      <td>896</td>\n",
       "      <td>Рыбинск</td>\n",
       "      <td>Ж</td>\n",
       "      <td>37</td>\n",
       "      <td>0</td>\n",
       "      <td>NaN</td>\n",
       "      <td>2</td>\n",
       "      <td>0</td>\n",
       "      <td>0</td>\n",
       "      <td>90916.04</td>\n",
       "      <td>0</td>\n",
       "    </tr>\n",
       "    <tr>\n",
       "      <th>4986</th>\n",
       "      <td>210792</td>\n",
       "      <td>884</td>\n",
       "      <td>Рыбинск</td>\n",
       "      <td>М</td>\n",
       "      <td>48</td>\n",
       "      <td>4</td>\n",
       "      <td>2228037.20</td>\n",
       "      <td>2</td>\n",
       "      <td>0</td>\n",
       "      <td>1</td>\n",
       "      <td>207978.09</td>\n",
       "      <td>1</td>\n",
       "    </tr>\n",
       "    <tr>\n",
       "      <th>7814</th>\n",
       "      <td>210792</td>\n",
       "      <td>839</td>\n",
       "      <td>Ярославль</td>\n",
       "      <td>М</td>\n",
       "      <td>42</td>\n",
       "      <td>2</td>\n",
       "      <td>662646.97</td>\n",
       "      <td>1</td>\n",
       "      <td>1</td>\n",
       "      <td>0</td>\n",
       "      <td>138403.60</td>\n",
       "      <td>0</td>\n",
       "    </tr>\n",
       "    <tr>\n",
       "      <th>1359</th>\n",
       "      <td>211130</td>\n",
       "      <td>833</td>\n",
       "      <td>Ярославль</td>\n",
       "      <td>М</td>\n",
       "      <td>55</td>\n",
       "      <td>3</td>\n",
       "      <td>1231184.90</td>\n",
       "      <td>4</td>\n",
       "      <td>0</td>\n",
       "      <td>1</td>\n",
       "      <td>187758.38</td>\n",
       "      <td>1</td>\n",
       "    </tr>\n",
       "    <tr>\n",
       "      <th>3817</th>\n",
       "      <td>211130</td>\n",
       "      <td>918</td>\n",
       "      <td>Рыбинск</td>\n",
       "      <td>Ж</td>\n",
       "      <td>55</td>\n",
       "      <td>0</td>\n",
       "      <td>NaN</td>\n",
       "      <td>2</td>\n",
       "      <td>1</td>\n",
       "      <td>1</td>\n",
       "      <td>244202.04</td>\n",
       "      <td>0</td>\n",
       "    </tr>\n",
       "    <tr>\n",
       "      <th>9880</th>\n",
       "      <td>217412</td>\n",
       "      <td>886</td>\n",
       "      <td>Ярославль</td>\n",
       "      <td>Ж</td>\n",
       "      <td>35</td>\n",
       "      <td>3</td>\n",
       "      <td>1026172.14</td>\n",
       "      <td>2</td>\n",
       "      <td>1</td>\n",
       "      <td>0</td>\n",
       "      <td>53099.16</td>\n",
       "      <td>0</td>\n",
       "    </tr>\n",
       "    <tr>\n",
       "      <th>7055</th>\n",
       "      <td>217412</td>\n",
       "      <td>879</td>\n",
       "      <td>Рыбинск</td>\n",
       "      <td>М</td>\n",
       "      <td>42</td>\n",
       "      <td>5</td>\n",
       "      <td>568140.15</td>\n",
       "      <td>3</td>\n",
       "      <td>0</td>\n",
       "      <td>0</td>\n",
       "      <td>231658.67</td>\n",
       "      <td>1</td>\n",
       "    </tr>\n",
       "    <tr>\n",
       "      <th>4611</th>\n",
       "      <td>217619</td>\n",
       "      <td>903</td>\n",
       "      <td>Рыбинск</td>\n",
       "      <td>Ж</td>\n",
       "      <td>59</td>\n",
       "      <td>5</td>\n",
       "      <td>844055.83</td>\n",
       "      <td>2</td>\n",
       "      <td>0</td>\n",
       "      <td>1</td>\n",
       "      <td>133999.76</td>\n",
       "      <td>1</td>\n",
       "    </tr>\n",
       "    <tr>\n",
       "      <th>5807</th>\n",
       "      <td>217619</td>\n",
       "      <td>766</td>\n",
       "      <td>Ярославль</td>\n",
       "      <td>М</td>\n",
       "      <td>52</td>\n",
       "      <td>2</td>\n",
       "      <td>218199.47</td>\n",
       "      <td>1</td>\n",
       "      <td>1</td>\n",
       "      <td>0</td>\n",
       "      <td>120356.44</td>\n",
       "      <td>0</td>\n",
       "    </tr>\n",
       "    <tr>\n",
       "      <th>4186</th>\n",
       "      <td>217643</td>\n",
       "      <td>804</td>\n",
       "      <td>Рыбинск</td>\n",
       "      <td>Ж</td>\n",
       "      <td>40</td>\n",
       "      <td>2</td>\n",
       "      <td>301836.65</td>\n",
       "      <td>2</td>\n",
       "      <td>1</td>\n",
       "      <td>1</td>\n",
       "      <td>81137.22</td>\n",
       "      <td>0</td>\n",
       "    </tr>\n",
       "    <tr>\n",
       "      <th>1970</th>\n",
       "      <td>217643</td>\n",
       "      <td>845</td>\n",
       "      <td>Ярославль</td>\n",
       "      <td>М</td>\n",
       "      <td>29</td>\n",
       "      <td>5</td>\n",
       "      <td>733098.45</td>\n",
       "      <td>4</td>\n",
       "      <td>1</td>\n",
       "      <td>1</td>\n",
       "      <td>41443.01</td>\n",
       "      <td>1</td>\n",
       "    </tr>\n",
       "    <tr>\n",
       "      <th>9406</th>\n",
       "      <td>217826</td>\n",
       "      <td>790</td>\n",
       "      <td>Рыбинск</td>\n",
       "      <td>Ж</td>\n",
       "      <td>46</td>\n",
       "      <td>4</td>\n",
       "      <td>430414.80</td>\n",
       "      <td>2</td>\n",
       "      <td>1</td>\n",
       "      <td>1</td>\n",
       "      <td>49400.37</td>\n",
       "      <td>0</td>\n",
       "    </tr>\n",
       "    <tr>\n",
       "      <th>4623</th>\n",
       "      <td>217826</td>\n",
       "      <td>842</td>\n",
       "      <td>Ярославль</td>\n",
       "      <td>М</td>\n",
       "      <td>39</td>\n",
       "      <td>4</td>\n",
       "      <td>439747.65</td>\n",
       "      <td>2</td>\n",
       "      <td>0</td>\n",
       "      <td>1</td>\n",
       "      <td>116736.75</td>\n",
       "      <td>1</td>\n",
       "    </tr>\n",
       "    <tr>\n",
       "      <th>1740</th>\n",
       "      <td>220816</td>\n",
       "      <td>840</td>\n",
       "      <td>Ярославль</td>\n",
       "      <td>Ж</td>\n",
       "      <td>41</td>\n",
       "      <td>3</td>\n",
       "      <td>1193287.13</td>\n",
       "      <td>2</td>\n",
       "      <td>1</td>\n",
       "      <td>1</td>\n",
       "      <td>76434.94</td>\n",
       "      <td>1</td>\n",
       "    </tr>\n",
       "    <tr>\n",
       "      <th>2302</th>\n",
       "      <td>220816</td>\n",
       "      <td>934</td>\n",
       "      <td>Рыбинск</td>\n",
       "      <td>Ж</td>\n",
       "      <td>74</td>\n",
       "      <td>5</td>\n",
       "      <td>1294285.39</td>\n",
       "      <td>3</td>\n",
       "      <td>1</td>\n",
       "      <td>0</td>\n",
       "      <td>95606.80</td>\n",
       "      <td>0</td>\n",
       "    </tr>\n",
       "    <tr>\n",
       "      <th>2597</th>\n",
       "      <td>226719</td>\n",
       "      <td>990</td>\n",
       "      <td>Ярославль</td>\n",
       "      <td>М</td>\n",
       "      <td>37</td>\n",
       "      <td>4</td>\n",
       "      <td>14648692.14</td>\n",
       "      <td>2</td>\n",
       "      <td>0</td>\n",
       "      <td>0</td>\n",
       "      <td>934412.61</td>\n",
       "      <td>1</td>\n",
       "    </tr>\n",
       "    <tr>\n",
       "      <th>4216</th>\n",
       "      <td>226719</td>\n",
       "      <td>903</td>\n",
       "      <td>Рыбинск</td>\n",
       "      <td>Ж</td>\n",
       "      <td>63</td>\n",
       "      <td>0</td>\n",
       "      <td>NaN</td>\n",
       "      <td>1</td>\n",
       "      <td>1</td>\n",
       "      <td>0</td>\n",
       "      <td>138582.58</td>\n",
       "      <td>0</td>\n",
       "    </tr>\n",
       "    <tr>\n",
       "      <th>8205</th>\n",
       "      <td>227795</td>\n",
       "      <td>840</td>\n",
       "      <td>Рыбинск</td>\n",
       "      <td>М</td>\n",
       "      <td>34</td>\n",
       "      <td>2</td>\n",
       "      <td>350768.03</td>\n",
       "      <td>1</td>\n",
       "      <td>1</td>\n",
       "      <td>0</td>\n",
       "      <td>102036.14</td>\n",
       "      <td>1</td>\n",
       "    </tr>\n",
       "    <tr>\n",
       "      <th>8497</th>\n",
       "      <td>227795</td>\n",
       "      <td>839</td>\n",
       "      <td>Ярославль</td>\n",
       "      <td>М</td>\n",
       "      <td>34</td>\n",
       "      <td>2</td>\n",
       "      <td>326593.14</td>\n",
       "      <td>2</td>\n",
       "      <td>1</td>\n",
       "      <td>0</td>\n",
       "      <td>103314.92</td>\n",
       "      <td>0</td>\n",
       "    </tr>\n",
       "  </tbody>\n",
       "</table>\n",
       "</div>"
      ],
      "text/plain": [
       "      userid  score       city gender  age  equity      balance  products  \\\n",
       "1893  116540    883    Рыбинск      Ж   55       1    362756.49         3   \n",
       "7694  116540    887  Ярославль      Ж   38       0          NaN         1   \n",
       "4866  117943    855    Рыбинск      Ж   32       6   1036832.93         4   \n",
       "7542  117943    880  Ярославль      Ж   40       0          NaN         1   \n",
       "5863  120258    908    Рыбинск      Ж   38       4   2213581.63         2   \n",
       "5896  120258    905  Ярославль      М   30       0          NaN         1   \n",
       "1411  123461    829  Ярославль      Ж   59       0     96222.44         2   \n",
       "8638  123461    934    Рыбинск      М   34       0          NaN         2   \n",
       "9775  124450    758    Рыбинск      Ж   36       0     73574.07         2   \n",
       "8164  124450    859  Ярославль      Ж   38       6    516811.20         1   \n",
       "4850  126368    909  Ярославль      Ж   30       4   1322623.29         2   \n",
       "5420  126368    832    Рыбинск      Ж   33       0          NaN         1   \n",
       "3988  129785    904    Рыбинск      М   33       5   2427737.60         3   \n",
       "9504  129785    949  Ярославль      М   43       0          NaN         1   \n",
       "2138  131419    739    Рыбинск      Ж   37       3   1307941.65         3   \n",
       "904   131419    934  Ярославль      М   35       5   2348335.95         2   \n",
       "1608  140377    802  Ярославль      М   26       3    539863.29         4   \n",
       "7487  140377    930    Рыбинск      Ж   34       5   1123967.02         1   \n",
       "2276  141265    858  Ярославль      М   37       4    471599.16         2   \n",
       "5569  141265    811    Рыбинск      Ж   33       3   1044316.88         2   \n",
       "5369  143592    885    Рыбинск      Ж   56       4   1201087.46         2   \n",
       "5557  143592    764  Ярославль      Ж   68       3    508919.15         2   \n",
       "8364  148826    909    Рыбинск      Ж   32       0          NaN         3   \n",
       "5252  148826    895  Ярославль      М   32       5   1470273.14         2   \n",
       "946   149365    877  Ярославль      М   41       5    819182.01         2   \n",
       "8272  149365    793    Рыбинск      Ж   61       0    476496.99         2   \n",
       "2439  150667    813    Рыбинск      Ж   44       0     62504.47         4   \n",
       "9267  150667    931  Ярославль      М   41       0          NaN         1   \n",
       "690   152479    768    Рыбинск      Ж   42       0    126787.79         4   \n",
       "5705  152479    723  Ярославль      Ж   22       0          NaN         1   \n",
       "3274  155765    863  Ярославль      М   30       5   1036114.50         5   \n",
       "5197  155765    923    Рыбинск      М   30       0          NaN         1   \n",
       "1080  155872    896  Ярославль      М   36       3   1113656.92         3   \n",
       "9363  155872    714    Рыбинск      Ж   29       0          NaN         1   \n",
       "3936  160075    899  Ярославль      М   34       4   1647814.67         4   \n",
       "9508  160075    824    Рыбинск      Ж   57       3    355047.33         2   \n",
       "8733  162053    786  Ярославль      М   29       4    205824.97         3   \n",
       "5629  162053    921    Рыбинск      М   33       3    857011.13         2   \n",
       "6786  163207    838  Ярославль      Ж   42       4    652776.60         2   \n",
       "3564  163207    853    Рыбинск      М   42       4    543839.62         1   \n",
       "7271  164676    790    Рыбинск      Ж   77       1    111202.01         1   \n",
       "58    164676    860  Ярославль      М   37       5    648594.03         2   \n",
       "9785  168998    895    Рыбинск      М   44       0    282653.53         3   \n",
       "5020  168998    886  Ярославль      Ж   35       4    394780.61         2   \n",
       "790   170312    901  Ярославль      М   33       4   3276783.93         3   \n",
       "3039  170312    813    Рыбинск      Ж   47       3    370027.67         2   \n",
       "4587  171751    874    Рыбинск      Ж   26       5    292054.42         2   \n",
       "9653  171751    862  Ярославль      М   42       4    481992.19         2   \n",
       "6756  172142    751    Рыбинск      Ж   69       3    396568.03         2   \n",
       "2941  172142    896  Ярославль      Ж   30       4   1009073.14         4   \n",
       "7753  175730    846  Ярославль      Ж   32       7    216764.74         4   \n",
       "9970  175730    816    Рыбинск      М   36       4    477892.07         3   \n",
       "8705  181526    895    Рыбинск      М   29       0          NaN         1   \n",
       "2989  181526    918  Ярославль      Ж   37       5   1366382.35         4   \n",
       "9146  183510    800    Рыбинск      Ж   42       7    473293.81         2   \n",
       "8584  183510    922  Ярославль      М   26       5    448542.42         3   \n",
       "3106  185748    912  Ярославль      Ж   47       5   1598218.98         2   \n",
       "150   185748    850    Рыбинск      М   36       5   1203376.67         2   \n",
       "5454  188957    853  Ярославль      М   35       1    374959.62         2   \n",
       "6005  188957    882    Рыбинск      Ж   64       3    893392.91         3   \n",
       "1583  190253    726  Ярославль      М   49       0          NaN         1   \n",
       "231   190253    823    Рыбинск      М   37       4    373348.39         2   \n",
       "3859  191520    773    Рыбинск      М   36       3   1219918.08         4   \n",
       "7931  191520    767  Ярославль      М   45       0          NaN         1   \n",
       "9659  195884    767    Рыбинск      Ж   45       1    335652.56         3   \n",
       "2226  195884    906  Ярославль      М   49       6   1354552.83         2   \n",
       "4870  197364    889  Ярославль      М   33       0          NaN         2   \n",
       "161   197364    928    Рыбинск      Ж   53       6   1347183.86         2   \n",
       "8822  199312    911    Рыбинск      Ж   43       0          NaN         2   \n",
       "2499  199312    948  Ярославль      М   41       5   3095721.85         4   \n",
       "9035  200863    933    Рыбинск      М   29       7    766924.56         2   \n",
       "9175  200863    832  Ярославль      М   42       5    620064.73         2   \n",
       "1513  208081    873  Ярославль      М   31       2    232814.75         2   \n",
       "2998  208081    821    Рыбинск      Ж   62       3    493608.26         2   \n",
       "5840  208738    839  Ярославль      М   60       5   1102438.37         2   \n",
       "1580  208738    897    Рыбинск      Ж   45       5    859018.19         2   \n",
       "3350  208815    877    Рыбинск      М   25       4    239421.18         1   \n",
       "5570  208815    773  Ярославль      М   39       4    288110.09         2   \n",
       "7453  210627    864  Ярославль      Ж   38       4   1527225.32         4   \n",
       "8521  210627    804    Рыбинск      М   30       2    347818.88         3   \n",
       "869   210662    962  Ярославль      Ж   54       5   5069231.39         1   \n",
       "1837  210662    896    Рыбинск      Ж   37       0          NaN         2   \n",
       "4986  210792    884    Рыбинск      М   48       4   2228037.20         2   \n",
       "7814  210792    839  Ярославль      М   42       2    662646.97         1   \n",
       "1359  211130    833  Ярославль      М   55       3   1231184.90         4   \n",
       "3817  211130    918    Рыбинск      Ж   55       0          NaN         2   \n",
       "9880  217412    886  Ярославль      Ж   35       3   1026172.14         2   \n",
       "7055  217412    879    Рыбинск      М   42       5    568140.15         3   \n",
       "4611  217619    903    Рыбинск      Ж   59       5    844055.83         2   \n",
       "5807  217619    766  Ярославль      М   52       2    218199.47         1   \n",
       "4186  217643    804    Рыбинск      Ж   40       2    301836.65         2   \n",
       "1970  217643    845  Ярославль      М   29       5    733098.45         4   \n",
       "9406  217826    790    Рыбинск      Ж   46       4    430414.80         2   \n",
       "4623  217826    842  Ярославль      М   39       4    439747.65         2   \n",
       "1740  220816    840  Ярославль      Ж   41       3   1193287.13         2   \n",
       "2302  220816    934    Рыбинск      Ж   74       5   1294285.39         3   \n",
       "2597  226719    990  Ярославль      М   37       4  14648692.14         2   \n",
       "4216  226719    903    Рыбинск      Ж   63       0          NaN         1   \n",
       "8205  227795    840    Рыбинск      М   34       2    350768.03         1   \n",
       "8497  227795    839  Ярославль      М   34       2    326593.14         2   \n",
       "\n",
       "      credit_card  last_activity  est_salary  churn  \n",
       "1893            0              1   175920.48      1  \n",
       "7694            0              1   119247.61      0  \n",
       "4866            1              1   107792.71      1  \n",
       "7542            1              0   137718.93      0  \n",
       "5863            0              1   160327.77      1  \n",
       "5896            1              1   146427.96      0  \n",
       "1411            0              1   102771.55      1  \n",
       "8638            1              0   291619.27      0  \n",
       "9775            0              1    79963.59      0  \n",
       "8164            1              1    95144.63      1  \n",
       "4850            0              1   140675.66      1  \n",
       "5420            0              0   118465.34      0  \n",
       "3988            0              1   188856.75      1  \n",
       "9504            1              1   166845.37      0  \n",
       "2138            0              0   103867.47      0  \n",
       "904             0              0   217105.13      1  \n",
       "1608            1              1   112167.83      1  \n",
       "7487            1              1   148336.26      0  \n",
       "2276            1              1   148806.88      1  \n",
       "5569            1              0    46055.32      0  \n",
       "5369            1              1    88223.89      1  \n",
       "5557            0              1    71211.66      0  \n",
       "8364            1              0    28843.54      0  \n",
       "5252            0              0   118058.52      1  \n",
       "946             0              0   212316.47      1  \n",
       "8272            1              1    46147.06      0  \n",
       "2439            1              0   152393.79      1  \n",
       "9267            0              0   261904.44      0  \n",
       "690             1              1   143233.23      1  \n",
       "5705            1              0    83955.65      0  \n",
       "3274            1              1   150744.50      1  \n",
       "5197            1              1   120296.60      0  \n",
       "1080            0              1   291176.85      1  \n",
       "9363            1              0   118052.84      0  \n",
       "3936            1              0   151888.42      1  \n",
       "9508            0              0    64351.81      0  \n",
       "8733            1              0   121371.73      0  \n",
       "5629            1              1   113512.57      1  \n",
       "6786            1              1    97545.36      0  \n",
       "3564            1              1   105281.97      1  \n",
       "7271            1              0    32835.45      0  \n",
       "58              1              1   213586.86      1  \n",
       "9785            0              0   255296.47      0  \n",
       "5020            1              1   510577.10      1  \n",
       "790             0              1   358700.96      1  \n",
       "3039            0              0   129835.56      0  \n",
       "4587            0              1    20528.56      1  \n",
       "9653            1              0    71816.86      0  \n",
       "6756            0              1    45608.45      0  \n",
       "2941            1              0    70866.29      1  \n",
       "7753            1              1    77100.85      1  \n",
       "9970            1              0    81100.60      0  \n",
       "8705            1              1   124786.53      0  \n",
       "2989            1              1    97932.95      1  \n",
       "9146            1              0    54049.88      0  \n",
       "8584            0              1    66063.13      1  \n",
       "3106            0              0   180256.98      0  \n",
       "150             0              1    89401.82      1  \n",
       "5454            1              1   197600.97      1  \n",
       "6005            1              0    69622.58      0  \n",
       "1583            1              1   177700.78      0  \n",
       "231             0              1   131947.92      1  \n",
       "3859            1              1   119933.13      1  \n",
       "7931            1              1   880005.05      0  \n",
       "9659            1              1   100197.67      0  \n",
       "2226            0              0   270678.42      1  \n",
       "4870            1              1    96173.48      0  \n",
       "161             0              1   168189.49      1  \n",
       "8822            1              1   152189.72      0  \n",
       "2499            1              1   307234.69      1  \n",
       "9035            0              1    89323.33      1  \n",
       "9175            0              0   188054.46      0  \n",
       "1513            1              1   122505.86      1  \n",
       "2998            1              1    33491.45      0  \n",
       "5840            0              1   116500.81      0  \n",
       "1580            1              1   145510.08      1  \n",
       "3350            1              1    48638.00      1  \n",
       "5570            1              0    56971.91      0  \n",
       "7453            1              1   162999.17      1  \n",
       "8521            1              0   129015.25      0  \n",
       "869             1              1   955144.85      1  \n",
       "1837            0              0    90916.04      0  \n",
       "4986            0              1   207978.09      1  \n",
       "7814            1              0   138403.60      0  \n",
       "1359            0              1   187758.38      1  \n",
       "3817            1              1   244202.04      0  \n",
       "9880            1              0    53099.16      0  \n",
       "7055            0              0   231658.67      1  \n",
       "4611            0              1   133999.76      1  \n",
       "5807            1              0   120356.44      0  \n",
       "4186            1              1    81137.22      0  \n",
       "1970            1              1    41443.01      1  \n",
       "9406            1              1    49400.37      0  \n",
       "4623            0              1   116736.75      1  \n",
       "1740            1              1    76434.94      1  \n",
       "2302            1              0    95606.80      0  \n",
       "2597            0              0   934412.61      1  \n",
       "4216            1              0   138582.58      0  \n",
       "8205            1              0   102036.14      1  \n",
       "8497            1              0   103314.92      0  "
      ]
     },
     "execution_count": 14,
     "metadata": {},
     "output_type": "execute_result"
    }
   ],
   "source": [
    "bank_df[bank_df[\"userid\"].isin(bank_df[\"userid\"][bank_df[\"userid\"].duplicated()])].sort_values(\"userid\")"
   ]
  },
  {
   "cell_type": "markdown",
   "metadata": {},
   "source": [
    "В данных строках повторяется только 'userid', в остальных столбцах значения разные, поэтому удалять их из датафрейма не стоит. Возможно в разных городах по-разному идет присвоение идентификационного номера (нет общей базы), поэтому и получилось задвоение 'userid'."
   ]
  },
  {
   "cell_type": "markdown",
   "metadata": {},
   "source": [
    "### Обработка аномалий"
   ]
  },
  {
   "cell_type": "markdown",
   "metadata": {},
   "source": [
    "Проверим столбцы с числовыми значениями на предмет аномалий."
   ]
  },
  {
   "cell_type": "code",
   "execution_count": 15,
   "metadata": {},
   "outputs": [
    {
     "data": {
      "text/html": [
       "<div>\n",
       "<style scoped>\n",
       "    .dataframe tbody tr th:only-of-type {\n",
       "        vertical-align: middle;\n",
       "    }\n",
       "\n",
       "    .dataframe tbody tr th {\n",
       "        vertical-align: top;\n",
       "    }\n",
       "\n",
       "    .dataframe thead th {\n",
       "        text-align: right;\n",
       "    }\n",
       "</style>\n",
       "<table border=\"1\" class=\"dataframe\">\n",
       "  <thead>\n",
       "    <tr style=\"text-align: right;\">\n",
       "      <th></th>\n",
       "      <th>score</th>\n",
       "      <th>age</th>\n",
       "      <th>equity</th>\n",
       "      <th>balance</th>\n",
       "      <th>products</th>\n",
       "      <th>est_salary</th>\n",
       "    </tr>\n",
       "  </thead>\n",
       "  <tbody>\n",
       "    <tr>\n",
       "      <th>count</th>\n",
       "      <td>9974.000000</td>\n",
       "      <td>9974.000000</td>\n",
       "      <td>9974.000000</td>\n",
       "      <td>7.695000e+03</td>\n",
       "      <td>9974.000000</td>\n",
       "      <td>9.974000e+03</td>\n",
       "    </tr>\n",
       "    <tr>\n",
       "      <th>mean</th>\n",
       "      <td>848.682575</td>\n",
       "      <td>42.734409</td>\n",
       "      <td>2.630840</td>\n",
       "      <td>8.272456e+05</td>\n",
       "      <td>1.871466</td>\n",
       "      <td>1.477868e+05</td>\n",
       "    </tr>\n",
       "    <tr>\n",
       "      <th>std</th>\n",
       "      <td>65.399720</td>\n",
       "      <td>12.179971</td>\n",
       "      <td>1.979965</td>\n",
       "      <td>1.980327e+06</td>\n",
       "      <td>0.792729</td>\n",
       "      <td>1.392855e+05</td>\n",
       "    </tr>\n",
       "    <tr>\n",
       "      <th>min</th>\n",
       "      <td>642.000000</td>\n",
       "      <td>18.000000</td>\n",
       "      <td>0.000000</td>\n",
       "      <td>0.000000e+00</td>\n",
       "      <td>0.000000</td>\n",
       "      <td>2.546300e+03</td>\n",
       "    </tr>\n",
       "    <tr>\n",
       "      <th>25%</th>\n",
       "      <td>802.000000</td>\n",
       "      <td>33.000000</td>\n",
       "      <td>0.000000</td>\n",
       "      <td>2.956987e+05</td>\n",
       "      <td>1.000000</td>\n",
       "      <td>7.525166e+04</td>\n",
       "    </tr>\n",
       "    <tr>\n",
       "      <th>50%</th>\n",
       "      <td>853.000000</td>\n",
       "      <td>40.000000</td>\n",
       "      <td>3.000000</td>\n",
       "      <td>5.242953e+05</td>\n",
       "      <td>2.000000</td>\n",
       "      <td>1.196268e+05</td>\n",
       "    </tr>\n",
       "    <tr>\n",
       "      <th>75%</th>\n",
       "      <td>900.000000</td>\n",
       "      <td>51.000000</td>\n",
       "      <td>4.000000</td>\n",
       "      <td>9.800512e+05</td>\n",
       "      <td>2.000000</td>\n",
       "      <td>1.744998e+05</td>\n",
       "    </tr>\n",
       "    <tr>\n",
       "      <th>max</th>\n",
       "      <td>1000.000000</td>\n",
       "      <td>86.000000</td>\n",
       "      <td>9.000000</td>\n",
       "      <td>1.191136e+08</td>\n",
       "      <td>5.000000</td>\n",
       "      <td>1.395064e+06</td>\n",
       "    </tr>\n",
       "  </tbody>\n",
       "</table>\n",
       "</div>"
      ],
      "text/plain": [
       "             score          age       equity       balance     products  \\\n",
       "count  9974.000000  9974.000000  9974.000000  7.695000e+03  9974.000000   \n",
       "mean    848.682575    42.734409     2.630840  8.272456e+05     1.871466   \n",
       "std      65.399720    12.179971     1.979965  1.980327e+06     0.792729   \n",
       "min     642.000000    18.000000     0.000000  0.000000e+00     0.000000   \n",
       "25%     802.000000    33.000000     0.000000  2.956987e+05     1.000000   \n",
       "50%     853.000000    40.000000     3.000000  5.242953e+05     2.000000   \n",
       "75%     900.000000    51.000000     4.000000  9.800512e+05     2.000000   \n",
       "max    1000.000000    86.000000     9.000000  1.191136e+08     5.000000   \n",
       "\n",
       "         est_salary  \n",
       "count  9.974000e+03  \n",
       "mean   1.477868e+05  \n",
       "std    1.392855e+05  \n",
       "min    2.546300e+03  \n",
       "25%    7.525166e+04  \n",
       "50%    1.196268e+05  \n",
       "75%    1.744998e+05  \n",
       "max    1.395064e+06  "
      ]
     },
     "execution_count": 15,
     "metadata": {},
     "output_type": "execute_result"
    }
   ],
   "source": [
    "bank_df[['score','age','equity', 'balance', 'products', 'est_salary']].describe()"
   ]
  },
  {
   "cell_type": "code",
   "execution_count": 16,
   "metadata": {
    "scrolled": false
   },
   "outputs": [
    {
     "data": {
      "image/png": "[encoded data removed]",
      "text/plain": [
       "<Figure size 432x288 with 1 Axes>"
      ]
     },
     "metadata": {
      "needs_background": "light"
     },
     "output_type": "display_data"
    },
    {
     "data": {
      "image/png": "[encoded data removed]",
      "text/plain": [
       "<Figure size 432x288 with 1 Axes>"
      ]
     },
     "metadata": {
      "needs_background": "light"
     },
     "output_type": "display_data"
    },
    {
     "data": {
      "image/png": "[encoded data removed]",
      "text/plain": [
       "<Figure size 432x288 with 1 Axes>"
      ]
     },
     "metadata": {
      "needs_background": "light"
     },
     "output_type": "display_data"
    },
    {
     "data": {
      "image/png": "[encoded data removed]",
      "text/plain": [
       "<Figure size 432x288 with 1 Axes>"
      ]
     },
     "metadata": {
      "needs_background": "light"
     },
     "output_type": "display_data"
    },
    {
     "data": {
      "image/png": "[encoded data removed]",
      "text/plain": [
       "<Figure size 432x288 with 1 Axes>"
      ]
     },
     "metadata": {
      "needs_background": "light"
     },
     "output_type": "display_data"
    },
    {
     "data": {
      "image/png": "[encoded data removed]",
      "text/plain": [
       "<Figure size 432x288 with 1 Axes>"
      ]
     },
     "metadata": {
      "needs_background": "light"
     },
     "output_type": "display_data"
    }
   ],
   "source": [
    "for column in ['score','age', 'equity', 'balance', 'products', 'est_salary']:\n",
    "    fig,ax = plt.subplots(figsize=(6, 4))\n",
    "    sns.boxplot(data=bank_df, x=column, dodge=True)\n",
    "    plt.title(f'График выборки по признаку {column}', fontsize = 12)\n",
    "    plt.show()"
   ]
  },
  {
   "cell_type": "markdown",
   "metadata": {},
   "source": [
    "На графиках выборки видны большие хвосты в значениях баланса и заработной платы. Однако такое распределение зарплаты соответствует экономической ситуации и данные значения не являются выбросами."
   ]
  },
  {
   "cell_type": "markdown",
   "metadata": {},
   "source": [
    "###### Вывод:\n",
    "Была выполнена предобработка данных, а именно: \n",
    " * Названия столбцов приведены к нижнему регистру;\n",
    " * Исследована природа пропусков. Принято решение удалить строки с пропусками в столбце 'age' и смириться с пропусками в столбце 'balance';\n",
    " * Изменены типы данных в столбцах 'age' и 'score' на целочисленный;\n",
    " * Обнаружены задвоения 'userid', однако остальные значения различаются. Принято решение ничего не делать с такими строками;\n",
    " * Построены графики выборки по численным характеристикам. Отфильтрованы аномальные значения в столбцах 'balance' и 'est_salary'.\n"
   ]
  },
  {
   "cell_type": "markdown",
   "metadata": {},
   "source": [
    "## Исследовательский анализ данных"
   ]
  },
  {
   "cell_type": "markdown",
   "metadata": {},
   "source": [
    "### Распределение клиентов банка по разным признакам"
   ]
  },
  {
   "cell_type": "markdown",
   "metadata": {},
   "source": [
    "Для начала посмотрим общий портрет клиентов банка."
   ]
  },
  {
   "cell_type": "code",
   "execution_count": 19,
   "metadata": {},
   "outputs": [
    {
     "data": {
      "image/png": "[encoded data removed]",
      "text/plain": [
       "<Figure size 432x288 with 1 Axes>"
      ]
     },
     "metadata": {},
     "output_type": "display_data"
    },
    {
     "data": {
      "image/png": "[encoded data removed]",
      "text/plain": [
       "<Figure size 432x288 with 1 Axes>"
      ]
     },
     "metadata": {},
     "output_type": "display_data"
    },
    {
     "data": {
      "image/png": "[encoded data removed]",
      "text/plain": [
       "<Figure size 432x288 with 1 Axes>"
      ]
     },
     "metadata": {},
     "output_type": "display_data"
    },
    {
     "data": {
      "image/png": "[encoded data removed]",
      "text/plain": [
       "<Figure size 432x288 with 1 Axes>"
      ]
     },
     "metadata": {},
     "output_type": "display_data"
    },
    {
     "data": {
      "image/png": "[encoded data removed]",
      "text/plain": [
       "<Figure size 432x288 with 1 Axes>"
      ]
     },
     "metadata": {},
     "output_type": "display_data"
    }
   ],
   "source": [
    "#дискретные значения\n",
    "colors = sns.color_palette('tab10')\n",
    "for column in ['city', 'gender', 'credit_card', 'last_activity', 'churn']:\n",
    "    group = bank_df.pivot_table(index = column, values = 'userid', aggfunc = 'count')\n",
    "    plt.pie(group['userid'], labels=group.index, colors = colors, autopct='%.1f%%')\n",
    "    plt.title(f'Распределение клиентов по признаку {column}')\n",
    "    plt.show()"
   ]
  },
  {
   "cell_type": "markdown",
   "metadata": {},
   "source": [
    "Большинство клиентов из Ярославля, что логично - это самый крупный город из предложенных. Соотношение мужчин и женщин - 50/50. Кредитную карту имеют 68% клиентов. Большинство клиентов (50%) имеют 2 продукта от банка. 48% процентов клиентов давно не пользовалось услугами банка. Количество ушедших клиентов составляет 18%, это достаточно значимая цифра."
   ]
  },
  {
   "cell_type": "markdown",
   "metadata": {},
   "source": [
    "Рассмотрим распределение клиентов в зависимости от баллов собственности и количества продуктов."
   ]
  },
  {
   "cell_type": "code",
   "execution_count": 20,
   "metadata": {},
   "outputs": [
    {
     "name": "stderr",
     "output_type": "stream",
     "text": [
      "/opt/conda/lib/python3.9/site-packages/seaborn/_decorators.py:36: FutureWarning: Pass the following variable as a keyword arg: x. From version 0.12, the only valid positional argument will be `data`, and passing other arguments without an explicit keyword will result in an error or misinterpretation.\n",
      "  warnings.warn(\n"
     ]
    },
    {
     "data": {
      "image/png": "[encoded data removed]",
      "text/plain": [
       "<Figure size 432x288 with 1 Axes>"
      ]
     },
     "metadata": {
      "needs_background": "light"
     },
     "output_type": "display_data"
    },
    {
     "name": "stderr",
     "output_type": "stream",
     "text": [
      "/opt/conda/lib/python3.9/site-packages/seaborn/_decorators.py:36: FutureWarning: Pass the following variable as a keyword arg: x. From version 0.12, the only valid positional argument will be `data`, and passing other arguments without an explicit keyword will result in an error or misinterpretation.\n",
      "  warnings.warn(\n"
     ]
    },
    {
     "data": {
      "image/png": "[encoded data removed]",
      "text/plain": [
       "<Figure size 432x288 with 1 Axes>"
      ]
     },
     "metadata": {
      "needs_background": "light"
     },
     "output_type": "display_data"
    }
   ],
   "source": [
    "for column in ['equity', 'products']:\n",
    "    sns.countplot(bank_df[column])\n",
    "    plt.title(f'Распределение клиентов по признаку {column}')\n",
    "    plt.ylabel('Количество клиентов')\n",
    "    plt.show()"
   ]
  },
  {
   "cell_type": "markdown",
   "metadata": {},
   "source": [
    "Клиентами банка в основном являются люди, пользующиеся 1-2 продуктами банка, неимеющие баллов или имеющие 4-5 баллов собственности."
   ]
  },
  {
   "cell_type": "markdown",
   "metadata": {},
   "source": [
    "Рассмотрим распределение клиентов банка по возрасту, балансу на счете и заработной плате."
   ]
  },
  {
   "cell_type": "code",
   "execution_count": 21,
   "metadata": {
    "scrolled": false
   },
   "outputs": [
    {
     "name": "stderr",
     "output_type": "stream",
     "text": [
      "/opt/conda/lib/python3.9/site-packages/seaborn/distributions.py:2557: FutureWarning: `distplot` is a deprecated function and will be removed in a future version. Please adapt your code to use either `displot` (a figure-level function with similar flexibility) or `histplot` (an axes-level function for histograms).\n",
      "  warnings.warn(msg, FutureWarning)\n"
     ]
    },
    {
     "data": {
      "image/png": "[encoded data removed]",
      "text/plain": [
       "<Figure size 432x432 with 1 Axes>"
      ]
     },
     "metadata": {
      "needs_background": "light"
     },
     "output_type": "display_data"
    },
    {
     "name": "stderr",
     "output_type": "stream",
     "text": [
      "/opt/conda/lib/python3.9/site-packages/seaborn/distributions.py:2557: FutureWarning: `distplot` is a deprecated function and will be removed in a future version. Please adapt your code to use either `displot` (a figure-level function with similar flexibility) or `histplot` (an axes-level function for histograms).\n",
      "  warnings.warn(msg, FutureWarning)\n"
     ]
    },
    {
     "data": {
      "image/png": "[encoded data removed]",
      "text/plain": [
       "<Figure size 432x432 with 1 Axes>"
      ]
     },
     "metadata": {
      "needs_background": "light"
     },
     "output_type": "display_data"
    },
    {
     "name": "stderr",
     "output_type": "stream",
     "text": [
      "/opt/conda/lib/python3.9/site-packages/seaborn/distributions.py:2557: FutureWarning: `distplot` is a deprecated function and will be removed in a future version. Please adapt your code to use either `displot` (a figure-level function with similar flexibility) or `histplot` (an axes-level function for histograms).\n",
      "  warnings.warn(msg, FutureWarning)\n"
     ]
    },
    {
     "data": {
      "image/png": "[encoded data removed]",
      "text/plain": [
       "<Figure size 432x432 with 1 Axes>"
      ]
     },
     "metadata": {
      "needs_background": "light"
     },
     "output_type": "display_data"
    },
    {
     "name": "stderr",
     "output_type": "stream",
     "text": [
      "/opt/conda/lib/python3.9/site-packages/seaborn/distributions.py:2557: FutureWarning: `distplot` is a deprecated function and will be removed in a future version. Please adapt your code to use either `displot` (a figure-level function with similar flexibility) or `histplot` (an axes-level function for histograms).\n",
      "  warnings.warn(msg, FutureWarning)\n"
     ]
    },
    {
     "data": {
      "image/png": "[encoded data removed]",
      "text/plain": [
       "<Figure size 432x432 with 1 Axes>"
      ]
     },
     "metadata": {
      "needs_background": "light"
     },
     "output_type": "display_data"
    }
   ],
   "source": [
    "for column in ['age', 'score', 'balance', 'est_salary']:\n",
    "    fig,ax = plt.subplots(figsize=(6, 6))\n",
    "    sns.distplot(bank_df[column], hist=True,  bins=50) \n",
    "    plt.title(f'Распределение клиентов по признаку {column}')\n",
    "    plt.show()"
   ]
  },
  {
   "cell_type": "markdown",
   "metadata": {},
   "source": [
    "Превалирующее число клиентов банка в возрасте от 25 до 45 лет, с рейтингом 750-950, имеющие от 100 тыс до 1,5 млн.руб. на балансе и с заработной платой 100 тыс. до 400 тыс."
   ]
  },
  {
   "cell_type": "markdown",
   "metadata": {},
   "source": [
    "### Распределение клиентов банка по разным признакам в зависимости от статуса"
   ]
  },
  {
   "cell_type": "code",
   "execution_count": 22,
   "metadata": {
    "scrolled": false
   },
   "outputs": [
    {
     "name": "stdout",
     "output_type": "stream",
     "text": [
      "           Остались  Ушли  Процент_оттока\n",
      "city                                     \n",
      "Ростов         1151   265       18.714689\n",
      "Рыбинск        2246   437       16.287738\n",
      "Ярославль      4758  1117       19.012766\n"
     ]
    },
    {
     "data": {
      "image/png": "[encoded data removed]",
      "text/plain": [
       "<Figure size 432x288 with 1 Axes>"
      ]
     },
     "metadata": {
      "needs_background": "light"
     },
     "output_type": "display_data"
    },
    {
     "name": "stdout",
     "output_type": "stream",
     "text": [
      "        Остались  Ушли  Процент_оттока\n",
      "gender                                \n",
      "Ж           4347   636       12.763396\n",
      "М           3808  1183       23.702665\n"
     ]
    },
    {
     "data": {
      "image/png": "[encoded data removed]",
      "text/plain": [
       "<Figure size 432x288 with 1 Axes>"
      ]
     },
     "metadata": {
      "needs_background": "light"
     },
     "output_type": "display_data"
    },
    {
     "name": "stdout",
     "output_type": "stream",
     "text": [
      "             Остались  Ушли  Процент_оттока\n",
      "credit_card                                \n",
      "0                2374   816       25.579937\n",
      "1                5781  1003       14.784788\n"
     ]
    },
    {
     "data": {
      "image/png": "[encoded data removed]",
      "text/plain": [
       "<Figure size 432x288 with 1 Axes>"
      ]
     },
     "metadata": {
      "needs_background": "light"
     },
     "output_type": "display_data"
    },
    {
     "name": "stdout",
     "output_type": "stream",
     "text": [
      "               Остались  Ушли  Процент_оттока\n",
      "last_activity                                \n",
      "0                  4217   542       11.388947\n",
      "1                  3938  1277       24.487057\n"
     ]
    },
    {
     "data": {
      "image/png": "[encoded data removed]",
      "text/plain": [
       "<Figure size 432x288 with 1 Axes>"
      ]
     },
     "metadata": {
      "needs_background": "light"
     },
     "output_type": "display_data"
    },
    {
     "name": "stdout",
     "output_type": "stream",
     "text": [
      "        Остались  Ушли  Процент_оттока\n",
      "equity                                \n",
      "0           2486    90        3.493789\n",
      "1            680    93       12.031048\n",
      "2            885   166       15.794481\n",
      "3           1219   322       20.895522\n",
      "4           1383   464       25.121819\n",
      "5           1339   576       30.078329\n",
      "6            103    58       36.024845\n",
      "7             43    37       46.250000\n",
      "8             11     6       35.294118\n",
      "9              6     7       53.846154\n"
     ]
    },
    {
     "data": {
      "image/png": "[encoded data removed]",
      "text/plain": [
       "<Figure size 432x288 with 1 Axes>"
      ]
     },
     "metadata": {
      "needs_background": "light"
     },
     "output_type": "display_data"
    },
    {
     "name": "stdout",
     "output_type": "stream",
     "text": [
      "          Остались   Ушли  Процент_оттока\n",
      "products                                 \n",
      "0              NaN    1.0             NaN\n",
      "1           3088.0  235.0        7.071923\n",
      "2           4141.0  978.0       19.105294\n",
      "3            741.0  297.0       28.612717\n",
      "4            174.0  300.0       63.291139\n",
      "5             11.0    8.0       42.105263\n"
     ]
    },
    {
     "data": {
      "image/png": "[encoded data removed]",
      "text/plain": [
       "<Figure size 432x288 with 1 Axes>"
      ]
     },
     "metadata": {
      "needs_background": "light"
     },
     "output_type": "display_data"
    }
   ],
   "source": [
    "for column in ['city','gender', 'credit_card', 'last_activity', 'equity', 'products']:\n",
    "    group = bank_df.pivot_table(index = column, columns = 'churn', values = 'userid', aggfunc = 'count')\n",
    "    group.columns = ['Остались', 'Ушли']\n",
    "    group['Процент_оттока'] = group['Ушли'] *100 / (group['Ушли']+group['Остались'])\n",
    "    print(group)\n",
    "    ax = sns.countplot(data=bank_df, x=column, hue='churn');\n",
    "    plt.title(f'Распределение клиентов по признаку {column} в зависимости от статуса')\n",
    "    plt.legend(['Остались', 'Ушли'])\n",
    "    plt.ylabel('Количество')\n",
    "    plt.show()"
   ]
  },
  {
   "cell_type": "code",
   "execution_count": 23,
   "metadata": {},
   "outputs": [
    {
     "data": {
      "image/png": "[encoded data removed]",
      "text/plain": [
       "<Figure size 432x288 with 1 Axes>"
      ]
     },
     "metadata": {
      "needs_background": "light"
     },
     "output_type": "display_data"
    },
    {
     "data": {
      "image/png": "[encoded data removed]",
      "text/plain": [
       "<Figure size 432x288 with 1 Axes>"
      ]
     },
     "metadata": {
      "needs_background": "light"
     },
     "output_type": "display_data"
    },
    {
     "data": {
      "image/png": "[encoded data removed]",
      "text/plain": [
       "<Figure size 432x288 with 1 Axes>"
      ]
     },
     "metadata": {
      "needs_background": "light"
     },
     "output_type": "display_data"
    },
    {
     "data": {
      "image/png": "[encoded data removed]",
      "text/plain": [
       "<Figure size 432x288 with 1 Axes>"
      ]
     },
     "metadata": {
      "needs_background": "light"
     },
     "output_type": "display_data"
    }
   ],
   "source": [
    "for column in ['age', 'score',  'balance', 'est_salary']:\n",
    "    sns.kdeplot(data=bank_df, x=column, hue='churn');\n",
    "    plt.title(f'Распределение клиентов по признаку {column}', fontsize = 16, color = 'black')\n",
    "    plt.legend(['Остались', 'Ушли'])\n",
    "    plt.show()"
   ]
  },
  {
   "cell_type": "markdown",
   "metadata": {},
   "source": [
    "###### Вывод: \n",
    "Самый большой отток в Ярославле и Рыбинске (~19%). Мужчины более склонны к уходу, чем женщины(23,7% против 12,8%). Гораздо чаще уходят клиенты, не имеющие кредитной карты в банке. Также в два раза выше процент оттока у активных клиентов. Если рассматривать  количество баллов собственности – чем больше баллов,  тем выше процент оттока. Самый высокий процент оттока(63%) у клиентов с 4 продуктами от банка."
   ]
  },
  {
   "cell_type": "markdown",
   "metadata": {},
   "source": [
    "Построим график плотности вероятностей, чтобы увидеть значения признаков при которых клиенты уходят чаще."
   ]
  },
  {
   "cell_type": "code",
   "execution_count": 24,
   "metadata": {},
   "outputs": [
    {
     "data": {
      "image/png": "[encoded data removed]",
      "text/plain": [
       "<Figure size 1080x360 with 1 Axes>"
      ]
     },
     "metadata": {
      "needs_background": "light"
     },
     "output_type": "display_data"
    },
    {
     "data": {
      "image/png": "[encoded data removed]",
      "text/plain": [
       "<Figure size 1080x360 with 1 Axes>"
      ]
     },
     "metadata": {
      "needs_background": "light"
     },
     "output_type": "display_data"
    },
    {
     "data": {
      "image/png": "[encoded data removed]",
      "text/plain": [
       "<Figure size 1080x360 with 1 Axes>"
      ]
     },
     "metadata": {
      "needs_background": "light"
     },
     "output_type": "display_data"
    },
    {
     "data": {
      "image/png": "[encoded data removed]",
      "text/plain": [
       "<Figure size 1080x360 with 1 Axes>"
      ]
     },
     "metadata": {
      "needs_background": "light"
     },
     "output_type": "display_data"
    }
   ],
   "source": [
    "for column in ['age', 'score', 'balance', 'est_salary']:\n",
    "    plt.figure(figsize=(15, 5))\n",
    "    sns.histplot(data = bank_df, hue = 'churn', x = column, stat = 'density', common_norm = False, palette = 'turbo_r')\n",
    "    plt.title(f'Распределение клиентов по признаку {column}')\n",
    "    plt.legend(['Остались', 'Ушли'])\n",
    "    plt.show()"
   ]
  },
  {
   "cell_type": "markdown",
   "metadata": {},
   "source": [
    "Наиболее склонны к оттоку клиенты в возрасте 35-50 лет и старше 60 лет. Наиболее часто уходят клиенты с назким кредитным скорингом - менее 800."
   ]
  },
  {
   "cell_type": "markdown",
   "metadata": {},
   "source": [
    "### Построение матрицы корреляции"
   ]
  },
  {
   "cell_type": "markdown",
   "metadata": {},
   "source": [
    "Построим матрицу корреляции Phik, чтобы определить, коррелируют ли какие-либо признаки между собой."
   ]
  },
  {
   "cell_type": "code",
   "execution_count": 25,
   "metadata": {},
   "outputs": [],
   "source": [
    "for_matrix = bank_df.drop(['userid'], axis=1)"
   ]
  },
  {
   "cell_type": "code",
   "execution_count": 26,
   "metadata": {},
   "outputs": [],
   "source": [
    "interval_cols=for_matrix[['balance','est_salary','age','score']]"
   ]
  },
  {
   "cell_type": "code",
   "execution_count": 27,
   "metadata": {},
   "outputs": [
    {
     "data": {
      "text/html": [
       "<div>\n",
       "<style scoped>\n",
       "    .dataframe tbody tr th:only-of-type {\n",
       "        vertical-align: middle;\n",
       "    }\n",
       "\n",
       "    .dataframe tbody tr th {\n",
       "        vertical-align: top;\n",
       "    }\n",
       "\n",
       "    .dataframe thead th {\n",
       "        text-align: right;\n",
       "    }\n",
       "</style>\n",
       "<table border=\"1\" class=\"dataframe\">\n",
       "  <thead>\n",
       "    <tr style=\"text-align: right;\">\n",
       "      <th></th>\n",
       "      <th>score</th>\n",
       "      <th>city</th>\n",
       "      <th>gender</th>\n",
       "      <th>age</th>\n",
       "      <th>equity</th>\n",
       "      <th>balance</th>\n",
       "      <th>products</th>\n",
       "      <th>credit_card</th>\n",
       "      <th>last_activity</th>\n",
       "      <th>est_salary</th>\n",
       "      <th>churn</th>\n",
       "    </tr>\n",
       "  </thead>\n",
       "  <tbody>\n",
       "    <tr>\n",
       "      <th>score</th>\n",
       "      <td>1.000000</td>\n",
       "      <td>0.090925</td>\n",
       "      <td>0.070446</td>\n",
       "      <td>0.036178</td>\n",
       "      <td>0.527334</td>\n",
       "      <td>0.170887</td>\n",
       "      <td>0.307399</td>\n",
       "      <td>0.208318</td>\n",
       "      <td>0.053418</td>\n",
       "      <td>0.395214</td>\n",
       "      <td>0.228080</td>\n",
       "    </tr>\n",
       "    <tr>\n",
       "      <th>city</th>\n",
       "      <td>0.090925</td>\n",
       "      <td>1.000000</td>\n",
       "      <td>0.011924</td>\n",
       "      <td>0.093705</td>\n",
       "      <td>0.062559</td>\n",
       "      <td>0.039931</td>\n",
       "      <td>0.223196</td>\n",
       "      <td>0.074660</td>\n",
       "      <td>0.030399</td>\n",
       "      <td>0.170948</td>\n",
       "      <td>0.016431</td>\n",
       "    </tr>\n",
       "    <tr>\n",
       "      <th>gender</th>\n",
       "      <td>0.070446</td>\n",
       "      <td>0.011924</td>\n",
       "      <td>1.000000</td>\n",
       "      <td>0.286026</td>\n",
       "      <td>0.063699</td>\n",
       "      <td>0.045434</td>\n",
       "      <td>0.122023</td>\n",
       "      <td>0.195831</td>\n",
       "      <td>0.012733</td>\n",
       "      <td>0.144090</td>\n",
       "      <td>0.219731</td>\n",
       "    </tr>\n",
       "    <tr>\n",
       "      <th>age</th>\n",
       "      <td>0.036178</td>\n",
       "      <td>0.093705</td>\n",
       "      <td>0.286026</td>\n",
       "      <td>1.000000</td>\n",
       "      <td>0.043708</td>\n",
       "      <td>0.024989</td>\n",
       "      <td>0.133418</td>\n",
       "      <td>0.157196</td>\n",
       "      <td>0.089172</td>\n",
       "      <td>0.358167</td>\n",
       "      <td>0.182538</td>\n",
       "    </tr>\n",
       "    <tr>\n",
       "      <th>equity</th>\n",
       "      <td>0.527334</td>\n",
       "      <td>0.062559</td>\n",
       "      <td>0.063699</td>\n",
       "      <td>0.043708</td>\n",
       "      <td>1.000000</td>\n",
       "      <td>0.000000</td>\n",
       "      <td>0.441413</td>\n",
       "      <td>0.221467</td>\n",
       "      <td>0.051218</td>\n",
       "      <td>0.285543</td>\n",
       "      <td>0.352103</td>\n",
       "    </tr>\n",
       "    <tr>\n",
       "      <th>balance</th>\n",
       "      <td>0.170887</td>\n",
       "      <td>0.039931</td>\n",
       "      <td>0.045434</td>\n",
       "      <td>0.024989</td>\n",
       "      <td>0.000000</td>\n",
       "      <td>1.000000</td>\n",
       "      <td>0.000000</td>\n",
       "      <td>0.000000</td>\n",
       "      <td>0.000000</td>\n",
       "      <td>0.374366</td>\n",
       "      <td>0.024672</td>\n",
       "    </tr>\n",
       "    <tr>\n",
       "      <th>products</th>\n",
       "      <td>0.307399</td>\n",
       "      <td>0.223196</td>\n",
       "      <td>0.122023</td>\n",
       "      <td>0.133418</td>\n",
       "      <td>0.441413</td>\n",
       "      <td>0.000000</td>\n",
       "      <td>1.000000</td>\n",
       "      <td>0.459117</td>\n",
       "      <td>0.191921</td>\n",
       "      <td>0.157477</td>\n",
       "      <td>0.440923</td>\n",
       "    </tr>\n",
       "    <tr>\n",
       "      <th>credit_card</th>\n",
       "      <td>0.208318</td>\n",
       "      <td>0.074660</td>\n",
       "      <td>0.195831</td>\n",
       "      <td>0.157196</td>\n",
       "      <td>0.221467</td>\n",
       "      <td>0.000000</td>\n",
       "      <td>0.459117</td>\n",
       "      <td>1.000000</td>\n",
       "      <td>0.049306</td>\n",
       "      <td>0.038496</td>\n",
       "      <td>0.202374</td>\n",
       "    </tr>\n",
       "    <tr>\n",
       "      <th>last_activity</th>\n",
       "      <td>0.053418</td>\n",
       "      <td>0.030399</td>\n",
       "      <td>0.012733</td>\n",
       "      <td>0.089172</td>\n",
       "      <td>0.051218</td>\n",
       "      <td>0.000000</td>\n",
       "      <td>0.191921</td>\n",
       "      <td>0.049306</td>\n",
       "      <td>1.000000</td>\n",
       "      <td>0.044890</td>\n",
       "      <td>0.262164</td>\n",
       "    </tr>\n",
       "    <tr>\n",
       "      <th>est_salary</th>\n",
       "      <td>0.395214</td>\n",
       "      <td>0.170948</td>\n",
       "      <td>0.144090</td>\n",
       "      <td>0.358167</td>\n",
       "      <td>0.285543</td>\n",
       "      <td>0.374366</td>\n",
       "      <td>0.157477</td>\n",
       "      <td>0.038496</td>\n",
       "      <td>0.044890</td>\n",
       "      <td>1.000000</td>\n",
       "      <td>0.048803</td>\n",
       "    </tr>\n",
       "    <tr>\n",
       "      <th>churn</th>\n",
       "      <td>0.228080</td>\n",
       "      <td>0.016431</td>\n",
       "      <td>0.219731</td>\n",
       "      <td>0.182538</td>\n",
       "      <td>0.352103</td>\n",
       "      <td>0.024672</td>\n",
       "      <td>0.440923</td>\n",
       "      <td>0.202374</td>\n",
       "      <td>0.262164</td>\n",
       "      <td>0.048803</td>\n",
       "      <td>1.000000</td>\n",
       "    </tr>\n",
       "  </tbody>\n",
       "</table>\n",
       "</div>"
      ],
      "text/plain": [
       "                  score      city    gender       age    equity   balance  \\\n",
       "score          1.000000  0.090925  0.070446  0.036178  0.527334  0.170887   \n",
       "city           0.090925  1.000000  0.011924  0.093705  0.062559  0.039931   \n",
       "gender         0.070446  0.011924  1.000000  0.286026  0.063699  0.045434   \n",
       "age            0.036178  0.093705  0.286026  1.000000  0.043708  0.024989   \n",
       "equity         0.527334  0.062559  0.063699  0.043708  1.000000  0.000000   \n",
       "balance        0.170887  0.039931  0.045434  0.024989  0.000000  1.000000   \n",
       "products       0.307399  0.223196  0.122023  0.133418  0.441413  0.000000   \n",
       "credit_card    0.208318  0.074660  0.195831  0.157196  0.221467  0.000000   \n",
       "last_activity  0.053418  0.030399  0.012733  0.089172  0.051218  0.000000   \n",
       "est_salary     0.395214  0.170948  0.144090  0.358167  0.285543  0.374366   \n",
       "churn          0.228080  0.016431  0.219731  0.182538  0.352103  0.024672   \n",
       "\n",
       "               products  credit_card  last_activity  est_salary     churn  \n",
       "score          0.307399     0.208318       0.053418    0.395214  0.228080  \n",
       "city           0.223196     0.074660       0.030399    0.170948  0.016431  \n",
       "gender         0.122023     0.195831       0.012733    0.144090  0.219731  \n",
       "age            0.133418     0.157196       0.089172    0.358167  0.182538  \n",
       "equity         0.441413     0.221467       0.051218    0.285543  0.352103  \n",
       "balance        0.000000     0.000000       0.000000    0.374366  0.024672  \n",
       "products       1.000000     0.459117       0.191921    0.157477  0.440923  \n",
       "credit_card    0.459117     1.000000       0.049306    0.038496  0.202374  \n",
       "last_activity  0.191921     0.049306       1.000000    0.044890  0.262164  \n",
       "est_salary     0.157477     0.038496       0.044890    1.000000  0.048803  \n",
       "churn          0.440923     0.202374       0.262164    0.048803  1.000000  "
      ]
     },
     "execution_count": 27,
     "metadata": {},
     "output_type": "execute_result"
    }
   ],
   "source": [
    "phik_overview = for_matrix.phik_matrix(interval_cols=interval_cols)\n",
    "phik_overview"
   ]
  },
  {
   "cell_type": "code",
   "execution_count": 28,
   "metadata": {},
   "outputs": [
    {
     "data": {
      "image/png": "[encoded data removed]",
      "text/plain": [
       "<Figure size 576x576 with 2 Axes>"
      ]
     },
     "metadata": {
      "needs_background": "light"
     },
     "output_type": "display_data"
    }
   ],
   "source": [
    "plot_correlation_matrix(phik_overview.values, x_labels=phik_overview.columns, y_labels=phik_overview.index, \n",
    "                        vmin=0, vmax=1, color_map='Blues', title=r'correlation $\\phi_K$', fontsize_factor=1.2,\n",
    "                        figsize=(8,8))\n",
    "plt.tight_layout()\n",
    "plt.title('Матрица корреляции Phik')\n",
    "plt.show()"
   ]
  },
  {
   "cell_type": "markdown",
   "metadata": {},
   "source": [
    "По матрице корреляции видно, что большой зависимости между признаками нет. Существует небольшая зависимость между количеством продуктов банка и вероятностью ухода (53%)"
   ]
  },
  {
   "cell_type": "markdown",
   "metadata": {},
   "source": [
    "## Сегментация клиентов банка"
   ]
  },
  {
   "cell_type": "markdown",
   "metadata": {},
   "source": [
    "По результатам проведенного анализа были выделены следующие 3 сегмента клиентов банка:\n",
    " * Мужчины, пользующиеся двумя и более продуктами банка, но не имеющие кредитную карту;\n",
    " * Клиенты из Ярославля и Ростова, которые являются активными пользователями с 2-4 баллами собственности;\n",
    " * Клиенты, имеющие зарплату более 100 тыс.рублей, более 500 тыс. на счете и не имеющие кредитную карту."
   ]
  },
  {
   "cell_type": "code",
   "execution_count": 29,
   "metadata": {},
   "outputs": [
    {
     "name": "stdout",
     "output_type": "stream",
     "text": [
      "Количество клиентов в сегменте: 1079\n",
      "Показатель оттока в сегменте: 41.24\n"
     ]
    },
    {
     "data": {
      "text/plain": [
       "Text(0, 0.5, 'Количество')"
      ]
     },
     "execution_count": 29,
     "metadata": {},
     "output_type": "execute_result"
    },
    {
     "data": {
      "image/png": "[encoded data removed]",
      "text/plain": [
       "<Figure size 432x288 with 1 Axes>"
      ]
     },
     "metadata": {
      "needs_background": "light"
     },
     "output_type": "display_data"
    }
   ],
   "source": [
    "seg1 = bank_df.query('gender == \"М\" & products >= 2 & credit_card == 0')\n",
    "ottok = round((seg1.query('churn == 1').count() *100 / seg1.count()), 2)\n",
    "print('Количество клиентов в сегменте:', len(seg1))\n",
    "print('Показатель оттока в сегменте:', ottok['churn'])\n",
    "ax = sns.countplot(data=seg1, x = 'churn')\n",
    "ax.set_ylabel('Количество', fontsize = 12, color='black')"
   ]
  },
  {
   "cell_type": "code",
   "execution_count": 30,
   "metadata": {},
   "outputs": [
    {
     "name": "stdout",
     "output_type": "stream",
     "text": [
      "Количество клиентов в сегменте: 1567\n",
      "Показатель оттока в сегменте: 31.72\n"
     ]
    },
    {
     "data": {
      "text/plain": [
       "Text(0, 0.5, 'Количество')"
      ]
     },
     "execution_count": 30,
     "metadata": {},
     "output_type": "execute_result"
    },
    {
     "data": {
      "image/png": "[encoded data removed]",
      "text/plain": [
       "<Figure size 432x288 with 1 Axes>"
      ]
     },
     "metadata": {
      "needs_background": "light"
     },
     "output_type": "display_data"
    }
   ],
   "source": [
    "seg2 = bank_df.query('city != \"Рыбинск\" & 2<=equity<=4 & last_activity == 1')\n",
    "ottok = round((seg2.query('churn == 1').count() *100 / seg2.count()), 2)\n",
    "print('Количество клиентов в сегменте:', len(seg2))\n",
    "print('Показатель оттока в сегменте:', ottok['churn'])\n",
    "ax = sns.countplot(data=seg2, x = 'churn')\n",
    "ax.set_ylabel('Количество', fontsize = 12, color='black')"
   ]
  },
  {
   "cell_type": "code",
   "execution_count": 31,
   "metadata": {},
   "outputs": [
    {
     "name": "stdout",
     "output_type": "stream",
     "text": [
      "Количество клиентов в сегменте: 1103\n",
      "Показатель оттока в сегменте: 43.7\n"
     ]
    },
    {
     "data": {
      "text/plain": [
       "Text(0, 0.5, 'Количество')"
      ]
     },
     "execution_count": 31,
     "metadata": {},
     "output_type": "execute_result"
    },
    {
     "data": {
      "image/png": "[encoded data removed]",
      "text/plain": [
       "<Figure size 432x288 with 1 Axes>"
      ]
     },
     "metadata": {
      "needs_background": "light"
     },
     "output_type": "display_data"
    }
   ],
   "source": [
    "seg3 = bank_df.query('balance > 500000 & credit_card == 0 & est_salary > 100000')\n",
    "ottok = round((seg3.query('churn == 1').count() *100 / seg3.count()), 2)\n",
    "print('Количество клиентов в сегменте:', len(seg3))\n",
    "print('Показатель оттока в сегменте:', ottok['churn'])\n",
    "ax = sns.countplot(data=seg3, x = 'churn')\n",
    "ax.set_ylabel('Количество', fontsize = 12, color='black')"
   ]
  },
  {
   "cell_type": "markdown",
   "metadata": {},
   "source": [
    "Вывод: По итогам анализа сегментов получилось, что самый высокий показатель оттока - 44% у хорошо обеспеченных клиентов, имеющих зарплату более 100 тыс.рублей, более 500 тыс. на счете и не имеющие кредитную карту. На втором месте клиенты - мужчины, пользующиеся двумя и более продуктами банка, но не имеющие кредитную карту, отток в этом сегменте составляет 41%. Замыкают тройку клиенты из Ярославля и Ростова, которые являются активными пользователями с 2-4 баллами собственности, у них отток 32%."
   ]
  },
  {
   "cell_type": "markdown",
   "metadata": {},
   "source": [
    "## Проверка статистических гипотез"
   ]
  },
  {
   "cell_type": "markdown",
   "metadata": {},
   "source": [
    "Для проверки гипотез будем применять t-тест, так как наиболее частые случаи применения t-критерия связаны как раз с проверкой равенства средних значений в двух выборках.\n",
    "\n",
    "Значение alpha приму за 0.05 чтобы получить результат с 95-процентным уровнем достоверности."
   ]
  },
  {
   "cell_type": "markdown",
   "metadata": {},
   "source": [
    "### Проверка 1 гипотезы"
   ]
  },
  {
   "cell_type": "markdown",
   "metadata": {},
   "source": [
    "Для начала сформулируем нулевую и альтернативные гипотезы:\n",
    "\n",
    "H_0: Различий дохода между теми клиентами, которые ушли и теми, которые остались, нет.\n",
    "\n",
    "H_a: Различия дохода между теми клиентами, которые ушли и теми, которые остались, есть."
   ]
  },
  {
   "cell_type": "code",
   "execution_count": 32,
   "metadata": {},
   "outputs": [
    {
     "name": "stdout",
     "output_type": "stream",
     "text": [
      "Количество ушедших клиентов: 1819\n",
      "Количество оставшихся клиентов: 8155\n"
     ]
    }
   ],
   "source": [
    "client_churn = bank_df.query('churn == 1')['est_salary']\n",
    "client_stayed = bank_df.query('churn == 0')['est_salary']\n",
    "print('Количество ушедших клиентов:',len(client_churn))\n",
    "print('Количество оставшихся клиентов:',len(client_stayed))"
   ]
  },
  {
   "cell_type": "code",
   "execution_count": 33,
   "metadata": {},
   "outputs": [
    {
     "name": "stdout",
     "output_type": "stream",
     "text": [
      "p-значение:  0.8647861589211189\n",
      "Не получилось отвергнуть нулевую гипотезу\n"
     ]
    }
   ],
   "source": [
    "alpha = .05\n",
    "\n",
    "results = st.ttest_ind(client_churn, client_stayed)\n",
    "\n",
    "print('p-значение: ', results.pvalue)\n",
    "\n",
    "if results.pvalue < alpha:\n",
    "    print(\"Отвергаем нулевую гипотезу\")\n",
    "else:\n",
    "    print(\"Не получилось отвергнуть нулевую гипотезу\")"
   ]
  },
  {
   "cell_type": "markdown",
   "metadata": {},
   "source": [
    "Нулевую гипотезу отвергнуть не получилось, значит, статистически значимых различий дохода между теми клиентами, которые ушли и теми, которые остались нет."
   ]
  },
  {
   "cell_type": "markdown",
   "metadata": {},
   "source": [
    "### Проверка 2 гипотезы"
   ]
  },
  {
   "cell_type": "markdown",
   "metadata": {},
   "source": [
    "Для начала сформулируем нулевую и альтернативные гипотезы:\n",
    "\n",
    "H_0: Различий в количестве продуктов банка между теми клиентами, которые ушли и теми, которые остались, нет.\n",
    "\n",
    "H_a: Различия в количестве продуктов банка между теми клиентами, которые ушли и теми, которые остались, есть."
   ]
  },
  {
   "cell_type": "code",
   "execution_count": 34,
   "metadata": {},
   "outputs": [],
   "source": [
    "prod_churn = bank_df.query('churn == 1')['products']\n",
    "prod_stayed = bank_df.query('churn == 0')['products']"
   ]
  },
  {
   "cell_type": "code",
   "execution_count": 35,
   "metadata": {},
   "outputs": [
    {
     "name": "stdout",
     "output_type": "stream",
     "text": [
      "p-значение:  2.0765646697701624e-207\n",
      "Отвергаем нулевую гипотезу\n"
     ]
    }
   ],
   "source": [
    "alpha = .05\n",
    "\n",
    "results = st.ttest_ind(prod_churn, prod_stayed)\n",
    "\n",
    "print('p-значение: ', results.pvalue)\n",
    "\n",
    "if results.pvalue < alpha:\n",
    "    print(\"Отвергаем нулевую гипотезу\")\n",
    "else:\n",
    "    print(\"Не получилось отвергнуть нулевую гипотезу\")"
   ]
  },
  {
   "cell_type": "markdown",
   "metadata": {},
   "source": [
    "Отвергаем нулевую гипотезу, значит, статистически значимые различия в количестве продуктов банка между теми клиентами, которые ушли и теми, которые остались, есть."
   ]
  },
  {
   "cell_type": "markdown",
   "metadata": {},
   "source": [
    "## Вывод"
   ]
  },
  {
   "cell_type": "markdown",
   "metadata": {},
   "source": [
    "В ходе проекты были проанализированы клиенты регионального банка \"Метанпром\". \n",
    "\n",
    " Клиентами являются мужчины и женщины примерно в равном соотношении, с возрастом от 18 до 92 лет. Большинство клиентов из Ярославля(58,7%), далее идет Рыбинск(27%) и наименьшее количество в Ростове(14,3%). Кредитную карту имеют 68% клиентов. Большинство клиентов (50%) имеют 2 продукта от банка. 48% процентов клиентов давно не пользовалось услугами банка. Примерно половина клиентов пользуются только двумя продуктами банка. Большее числа клиентов банка имеют выскоий уровень кредитного скоринга. Платежеспособность клиентов тоже не смущает - у большинства высокий уровнь заработной платы и достаточное количество денег на балансе. \n",
    " \n",
    " При анализе оттока клиентов выяснилось следующее - самый большой отток в Ярославле и Рыбинске (18%). Мужчины более склонны к уходу, чем женщины(23,5% против 12,7%). Гораздо чаще уходят клиенты, не имеющие кредитной карты в банке. Также в два раза выше процент оттока у активных клиентов. Если рассматривать количество баллов собственности – чем больше баллов, тем выше процент оттока. Самый высокий процент оттока(63%) у клиентов с 4 продуктами от банка.\n",
    " \n",
    " Было выделено 3 группы клиентов с высоким уровнем оттока: \n",
    "  * Мужчины, пользующиеся двумя и более продуктами банка, но не имеющие кредитную карту - 41,2% оттока;\n",
    "  * Клиенты из Ярославля и Ростова, которые являются активными пользователями с 2-4 баллами собственности - 31,7% оттока;\n",
    "  * Клиенты, имеющие зарплату более 100 тыс.рублей, более 500 тыс. на счете и не имеющие кредитную карту - 43,7% оттока.\n",
    " \n",
    "Были проверены две статистические гипотезы методом t-критерия Стьюдента. Первую нулевую гипотезу отвергнуть не получилось, значит, статистически значимых различий дохода между теми клиентами, которые ушли и теми, которые остались нет. Вторая нулевая гипотеза была отвергнута - статистически значимые различия в количестве продуктов банка между теми клиентами, которые ушли и теми, которые остались, есть.\n"
   ]
  },
  {
   "cell_type": "markdown",
   "metadata": {},
   "source": [
    "###### Рекомендации:\n",
    " * Предусмотреть программы лояльности для лиц мужского пола. Например, кэшбек при посещении барбершопов.\n",
    " * Предусмотреть премиальное обслуживание для клиентов с большим количеством баллов собственности, балансе на счете и высокой зарплатой.\n",
    " * Предлагать более выгодные условия по кредитной карте.\n",
    " * Привлекать людей льготными условиями кредитования"
   ]
  }
 ],
 "metadata": {
  "ExecuteTimeLog": [
   {
    "duration": 3,
    "start_time": "2023-06-13T09:08:44.530Z"
   },
   {
    "duration": 47,
    "start_time": "2023-06-13T09:08:47.018Z"
   },
   {
    "duration": 3,
    "start_time": "2023-06-13T09:13:31.456Z"
   },
   {
    "duration": 3,
    "start_time": "2023-06-13T09:13:40.982Z"
   },
   {
    "duration": 24,
    "start_time": "2023-06-13T09:13:57.502Z"
   },
   {
    "duration": 14,
    "start_time": "2023-06-13T09:15:00.084Z"
   },
   {
    "duration": 32,
    "start_time": "2023-06-13T09:17:20.403Z"
   },
   {
    "duration": 12,
    "start_time": "2023-06-13T09:18:16.917Z"
   },
   {
    "duration": 26,
    "start_time": "2023-06-13T09:19:08.595Z"
   },
   {
    "duration": 24,
    "start_time": "2023-06-13T09:20:15.545Z"
   },
   {
    "duration": 3,
    "start_time": "2023-06-13T09:20:36.180Z"
   },
   {
    "duration": 23,
    "start_time": "2023-06-13T09:20:38.179Z"
   },
   {
    "duration": 3,
    "start_time": "2023-06-13T09:21:05.616Z"
   },
   {
    "duration": 9,
    "start_time": "2023-06-13T09:21:50.910Z"
   },
   {
    "duration": 2,
    "start_time": "2023-06-13T09:22:07.534Z"
   },
   {
    "duration": 21,
    "start_time": "2023-06-13T09:22:15.138Z"
   },
   {
    "duration": 10,
    "start_time": "2023-06-13T09:22:22.596Z"
   },
   {
    "duration": 11,
    "start_time": "2023-06-13T09:22:27.539Z"
   },
   {
    "duration": 24,
    "start_time": "2023-06-13T09:22:40.326Z"
   },
   {
    "duration": 15,
    "start_time": "2023-06-13T09:37:03.487Z"
   },
   {
    "duration": 18,
    "start_time": "2023-06-13T09:39:21.882Z"
   },
   {
    "duration": 22,
    "start_time": "2023-06-13T09:39:58.112Z"
   },
   {
    "duration": 11,
    "start_time": "2023-06-13T10:01:06.548Z"
   },
   {
    "duration": 13,
    "start_time": "2023-06-13T10:01:35.967Z"
   },
   {
    "duration": 16,
    "start_time": "2023-06-13T10:15:01.984Z"
   },
   {
    "duration": 104,
    "start_time": "2023-06-13T10:16:48.177Z"
   },
   {
    "duration": 13,
    "start_time": "2023-06-13T10:16:52.592Z"
   },
   {
    "duration": 10,
    "start_time": "2023-06-13T10:17:16.882Z"
   },
   {
    "duration": 14,
    "start_time": "2023-06-13T10:17:23.188Z"
   },
   {
    "duration": 10,
    "start_time": "2023-06-13T10:25:35.556Z"
   },
   {
    "duration": 12,
    "start_time": "2023-06-13T10:25:41.728Z"
   },
   {
    "duration": 2851,
    "start_time": "2023-06-13T10:25:57.082Z"
   },
   {
    "duration": 4,
    "start_time": "2023-06-13T10:26:05.202Z"
   },
   {
    "duration": 1719,
    "start_time": "2023-06-13T19:16:39.078Z"
   },
   {
    "duration": 3,
    "start_time": "2023-06-13T19:16:40.800Z"
   },
   {
    "duration": 277,
    "start_time": "2023-06-13T19:16:40.805Z"
   },
   {
    "duration": 4,
    "start_time": "2023-06-13T19:16:41.084Z"
   },
   {
    "duration": 40,
    "start_time": "2023-06-13T19:16:41.091Z"
   },
   {
    "duration": 35,
    "start_time": "2023-06-13T19:16:41.133Z"
   },
   {
    "duration": 1671,
    "start_time": "2023-06-13T19:16:41.170Z"
   },
   {
    "duration": 0,
    "start_time": "2023-06-13T19:16:42.842Z"
   },
   {
    "duration": 0,
    "start_time": "2023-06-13T19:16:42.844Z"
   },
   {
    "duration": 0,
    "start_time": "2023-06-13T19:16:42.845Z"
   },
   {
    "duration": 0,
    "start_time": "2023-06-13T19:16:42.846Z"
   },
   {
    "duration": 24,
    "start_time": "2023-06-13T19:17:12.367Z"
   },
   {
    "duration": 11,
    "start_time": "2023-06-13T19:17:15.109Z"
   },
   {
    "duration": 20,
    "start_time": "2023-06-13T19:17:19.491Z"
   },
   {
    "duration": 44,
    "start_time": "2023-06-13T19:17:22.578Z"
   },
   {
    "duration": 15,
    "start_time": "2023-06-13T19:18:12.216Z"
   },
   {
    "duration": 19,
    "start_time": "2023-06-13T19:18:19.052Z"
   },
   {
    "duration": 47,
    "start_time": "2023-06-13T19:18:39.469Z"
   },
   {
    "duration": 9,
    "start_time": "2023-06-13T19:19:25.130Z"
   },
   {
    "duration": 8,
    "start_time": "2023-06-13T19:19:36.463Z"
   },
   {
    "duration": 22,
    "start_time": "2023-06-13T19:19:45.346Z"
   },
   {
    "duration": 21,
    "start_time": "2023-06-13T19:25:06.560Z"
   },
   {
    "duration": 21,
    "start_time": "2023-06-13T19:25:18.066Z"
   },
   {
    "duration": 16,
    "start_time": "2023-06-13T19:25:49.322Z"
   },
   {
    "duration": 33,
    "start_time": "2023-06-13T19:25:59.990Z"
   },
   {
    "duration": 4,
    "start_time": "2023-06-13T19:28:13.501Z"
   },
   {
    "duration": 30,
    "start_time": "2023-06-13T19:30:36.806Z"
   },
   {
    "duration": 33,
    "start_time": "2023-06-13T19:30:49.244Z"
   },
   {
    "duration": 12,
    "start_time": "2023-06-13T19:52:15.158Z"
   },
   {
    "duration": 29,
    "start_time": "2023-06-13T19:52:24.957Z"
   },
   {
    "duration": 19,
    "start_time": "2023-06-13T19:56:47.431Z"
   },
   {
    "duration": 10,
    "start_time": "2023-06-13T20:02:00.684Z"
   },
   {
    "duration": 12,
    "start_time": "2023-06-13T20:02:55.277Z"
   },
   {
    "duration": 8,
    "start_time": "2023-06-13T20:05:54.116Z"
   },
   {
    "duration": 1298,
    "start_time": "2023-06-14T06:32:50.846Z"
   },
   {
    "duration": 3,
    "start_time": "2023-06-14T06:32:57.307Z"
   },
   {
    "duration": 7,
    "start_time": "2023-06-14T06:32:57.312Z"
   },
   {
    "duration": 197,
    "start_time": "2023-06-14T06:32:57.321Z"
   },
   {
    "duration": 3,
    "start_time": "2023-06-14T06:32:57.520Z"
   },
   {
    "duration": 29,
    "start_time": "2023-06-14T06:32:57.525Z"
   },
   {
    "duration": 3,
    "start_time": "2023-06-14T06:32:57.555Z"
   },
   {
    "duration": 31,
    "start_time": "2023-06-14T06:32:57.560Z"
   },
   {
    "duration": 5,
    "start_time": "2023-06-14T06:32:57.593Z"
   },
   {
    "duration": 6,
    "start_time": "2023-06-14T06:32:57.600Z"
   },
   {
    "duration": 23,
    "start_time": "2023-06-14T06:32:57.608Z"
   },
   {
    "duration": 44,
    "start_time": "2023-06-14T06:32:57.633Z"
   },
   {
    "duration": 18,
    "start_time": "2023-06-14T06:32:57.679Z"
   },
   {
    "duration": 22,
    "start_time": "2023-06-14T06:32:57.699Z"
   },
   {
    "duration": 35,
    "start_time": "2023-06-14T06:33:12.012Z"
   },
   {
    "duration": 34,
    "start_time": "2023-06-14T06:36:08.975Z"
   },
   {
    "duration": 34,
    "start_time": "2023-06-14T06:36:30.217Z"
   },
   {
    "duration": 20,
    "start_time": "2023-06-14T06:38:30.820Z"
   },
   {
    "duration": 22,
    "start_time": "2023-06-14T06:38:56.312Z"
   },
   {
    "duration": 242,
    "start_time": "2023-06-14T07:12:33.802Z"
   },
   {
    "duration": 1305,
    "start_time": "2023-06-14T07:12:44.846Z"
   },
   {
    "duration": 1181,
    "start_time": "2023-06-14T07:12:59.110Z"
   },
   {
    "duration": 27,
    "start_time": "2023-06-14T07:13:12.394Z"
   },
   {
    "duration": 202,
    "start_time": "2023-06-14T07:13:19.406Z"
   },
   {
    "duration": 173,
    "start_time": "2023-06-14T07:13:43.038Z"
   },
   {
    "duration": 1362,
    "start_time": "2023-06-14T07:14:52.382Z"
   },
   {
    "duration": 11,
    "start_time": "2023-06-14T07:15:44.803Z"
   },
   {
    "duration": 58,
    "start_time": "2023-06-14T07:16:05.170Z"
   },
   {
    "duration": 0,
    "start_time": "2023-06-14T07:19:49.894Z"
   },
   {
    "duration": 12,
    "start_time": "2023-06-14T07:19:53.098Z"
   },
   {
    "duration": 4,
    "start_time": "2023-06-14T07:19:56.918Z"
   },
   {
    "duration": 471865,
    "start_time": "2023-06-14T07:19:58.506Z"
   },
   {
    "duration": 150,
    "start_time": "2023-06-14T07:34:10.050Z"
   },
   {
    "duration": 88,
    "start_time": "2023-06-14T07:38:43.743Z"
   },
   {
    "duration": 87,
    "start_time": "2023-06-14T07:38:53.037Z"
   },
   {
    "duration": 136,
    "start_time": "2023-06-14T07:38:58.553Z"
   },
   {
    "duration": 127,
    "start_time": "2023-06-14T07:40:17.006Z"
   },
   {
    "duration": 116,
    "start_time": "2023-06-14T07:40:21.414Z"
   },
   {
    "duration": 7,
    "start_time": "2023-06-14T11:07:17.776Z"
   },
   {
    "duration": 12,
    "start_time": "2023-06-14T11:07:44.387Z"
   },
   {
    "duration": 13,
    "start_time": "2023-06-14T11:08:08.006Z"
   },
   {
    "duration": 127,
    "start_time": "2023-06-14T11:08:33.586Z"
   },
   {
    "duration": 3349,
    "start_time": "2023-06-14T11:08:45.345Z"
   },
   {
    "duration": 378,
    "start_time": "2023-06-14T11:09:27.958Z"
   },
   {
    "duration": 486,
    "start_time": "2023-06-14T11:10:03.344Z"
   },
   {
    "duration": 6473,
    "start_time": "2023-06-14T11:10:47.524Z"
   },
   {
    "duration": 8,
    "start_time": "2023-06-14T11:25:27.234Z"
   },
   {
    "duration": 6,
    "start_time": "2023-06-14T11:25:29.820Z"
   },
   {
    "duration": 10,
    "start_time": "2023-06-14T11:28:37.830Z"
   },
   {
    "duration": 9,
    "start_time": "2023-06-14T11:28:46.271Z"
   },
   {
    "duration": 5,
    "start_time": "2023-06-14T11:29:10.678Z"
   },
   {
    "duration": 8,
    "start_time": "2023-06-14T11:31:56.137Z"
   },
   {
    "duration": 7,
    "start_time": "2023-06-14T11:32:03.584Z"
   },
   {
    "duration": 9,
    "start_time": "2023-06-14T11:45:48.368Z"
   },
   {
    "duration": 7,
    "start_time": "2023-06-14T11:46:13.143Z"
   },
   {
    "duration": 5,
    "start_time": "2023-06-14T11:46:19.346Z"
   },
   {
    "duration": 5112,
    "start_time": "2023-06-14T12:21:47.743Z"
   },
   {
    "duration": 988,
    "start_time": "2023-06-14T12:21:52.897Z"
   },
   {
    "duration": 1172,
    "start_time": "2023-06-14T12:26:55.657Z"
   },
   {
    "duration": 5075,
    "start_time": "2023-06-14T12:27:16.615Z"
   },
   {
    "duration": 11,
    "start_time": "2023-06-14T12:29:50.753Z"
   },
   {
    "duration": 6081,
    "start_time": "2023-06-14T12:29:55.983Z"
   },
   {
    "duration": 90,
    "start_time": "2023-06-14T12:33:33.828Z"
   },
   {
    "duration": 139,
    "start_time": "2023-06-14T12:41:20.358Z"
   },
   {
    "duration": 11,
    "start_time": "2023-06-14T12:42:41.351Z"
   },
   {
    "duration": 161,
    "start_time": "2023-06-14T12:42:58.803Z"
   },
   {
    "duration": 117,
    "start_time": "2023-06-14T12:43:13.043Z"
   },
   {
    "duration": 121,
    "start_time": "2023-06-14T12:43:21.103Z"
   },
   {
    "duration": 1211,
    "start_time": "2023-06-14T12:43:30.691Z"
   },
   {
    "duration": 88,
    "start_time": "2023-06-14T12:44:04.626Z"
   },
   {
    "duration": 82,
    "start_time": "2023-06-14T12:44:23.795Z"
   },
   {
    "duration": 83,
    "start_time": "2023-06-14T12:44:30.503Z"
   },
   {
    "duration": 33,
    "start_time": "2023-06-14T12:57:03.447Z"
   },
   {
    "duration": 379,
    "start_time": "2023-06-14T12:57:15.755Z"
   },
   {
    "duration": 2543,
    "start_time": "2023-06-14T12:57:39.419Z"
   },
   {
    "duration": 6642,
    "start_time": "2023-06-14T12:58:02.427Z"
   },
   {
    "duration": 6676,
    "start_time": "2023-06-14T12:58:14.602Z"
   },
   {
    "duration": 15,
    "start_time": "2023-06-14T12:59:17.245Z"
   },
   {
    "duration": 6631,
    "start_time": "2023-06-14T12:59:21.688Z"
   },
   {
    "duration": 6472,
    "start_time": "2023-06-14T12:59:33.862Z"
   },
   {
    "duration": 68,
    "start_time": "2023-06-14T13:01:36.816Z"
   },
   {
    "duration": 6812,
    "start_time": "2023-06-14T13:01:54.384Z"
   },
   {
    "duration": 6561,
    "start_time": "2023-06-14T13:04:05.322Z"
   },
   {
    "duration": 913,
    "start_time": "2023-06-14T13:06:43.340Z"
   },
   {
    "duration": 23,
    "start_time": "2023-06-14T13:16:30.949Z"
   },
   {
    "duration": 3444,
    "start_time": "2023-06-14T13:17:42.288Z"
   },
   {
    "duration": 49,
    "start_time": "2023-06-14T13:17:49.790Z"
   },
   {
    "duration": 23,
    "start_time": "2023-06-14T13:22:22.476Z"
   },
   {
    "duration": 165,
    "start_time": "2023-06-14T13:22:38.246Z"
   },
   {
    "duration": 346,
    "start_time": "2023-06-14T13:23:17.684Z"
   },
   {
    "duration": 169,
    "start_time": "2023-06-14T13:26:06.234Z"
   },
   {
    "duration": 3,
    "start_time": "2023-06-14T13:26:41.884Z"
   },
   {
    "duration": 567,
    "start_time": "2023-06-14T13:28:27.945Z"
   },
   {
    "duration": 4,
    "start_time": "2023-06-14T13:30:22.714Z"
   },
   {
    "duration": 110,
    "start_time": "2023-06-14T13:30:27.802Z"
   },
   {
    "duration": 29,
    "start_time": "2023-06-14T13:31:38.620Z"
   },
   {
    "duration": 10,
    "start_time": "2023-06-14T13:31:56.544Z"
   },
   {
    "duration": 44265,
    "start_time": "2023-06-14T13:32:03.397Z"
   },
   {
    "duration": 17396,
    "start_time": "2023-06-14T13:33:58.356Z"
   },
   {
    "duration": 31639,
    "start_time": "2023-06-14T13:37:31.508Z"
   },
   {
    "duration": 37645,
    "start_time": "2023-06-14T13:38:47.219Z"
   },
   {
    "duration": 1971,
    "start_time": "2023-06-14T13:39:24.868Z"
   },
   {
    "duration": 1786,
    "start_time": "2023-06-14T13:39:37.637Z"
   },
   {
    "duration": 30673,
    "start_time": "2023-06-14T13:42:17.672Z"
   },
   {
    "duration": 3236,
    "start_time": "2023-06-14T18:30:21.832Z"
   },
   {
    "duration": 1465,
    "start_time": "2023-06-14T18:30:25.070Z"
   },
   {
    "duration": 2,
    "start_time": "2023-06-14T18:30:26.538Z"
   },
   {
    "duration": 76,
    "start_time": "2023-06-14T18:30:26.542Z"
   },
   {
    "duration": 4,
    "start_time": "2023-06-14T18:30:26.620Z"
   },
   {
    "duration": 30,
    "start_time": "2023-06-14T18:30:26.625Z"
   },
   {
    "duration": 6,
    "start_time": "2023-06-14T18:30:26.658Z"
   },
   {
    "duration": 37,
    "start_time": "2023-06-14T18:30:26.666Z"
   },
   {
    "duration": 8,
    "start_time": "2023-06-14T18:30:26.707Z"
   },
   {
    "duration": 22,
    "start_time": "2023-06-14T18:30:26.717Z"
   },
   {
    "duration": 32,
    "start_time": "2023-06-14T18:30:26.754Z"
   },
   {
    "duration": 218,
    "start_time": "2023-06-14T18:30:26.788Z"
   },
   {
    "duration": 4,
    "start_time": "2023-06-14T18:30:27.008Z"
   },
   {
    "duration": 14,
    "start_time": "2023-06-14T18:30:27.014Z"
   },
   {
    "duration": 99,
    "start_time": "2023-06-14T18:30:27.030Z"
   },
   {
    "duration": 117,
    "start_time": "2023-06-14T18:30:27.131Z"
   },
   {
    "duration": 0,
    "start_time": "2023-06-14T18:30:27.250Z"
   },
   {
    "duration": 0,
    "start_time": "2023-06-14T18:30:27.254Z"
   },
   {
    "duration": 0,
    "start_time": "2023-06-14T18:30:27.255Z"
   },
   {
    "duration": 0,
    "start_time": "2023-06-14T18:30:27.257Z"
   },
   {
    "duration": 0,
    "start_time": "2023-06-14T18:30:27.258Z"
   },
   {
    "duration": 0,
    "start_time": "2023-06-14T18:30:27.259Z"
   },
   {
    "duration": 0,
    "start_time": "2023-06-14T18:30:27.260Z"
   },
   {
    "duration": 0,
    "start_time": "2023-06-14T18:30:27.261Z"
   },
   {
    "duration": 0,
    "start_time": "2023-06-14T18:30:27.263Z"
   },
   {
    "duration": 0,
    "start_time": "2023-06-14T18:30:27.263Z"
   },
   {
    "duration": 0,
    "start_time": "2023-06-14T18:30:27.265Z"
   },
   {
    "duration": 0,
    "start_time": "2023-06-14T18:30:27.266Z"
   },
   {
    "duration": 0,
    "start_time": "2023-06-14T18:30:27.267Z"
   },
   {
    "duration": 0,
    "start_time": "2023-06-14T18:30:27.268Z"
   },
   {
    "duration": 0,
    "start_time": "2023-06-14T18:30:27.269Z"
   },
   {
    "duration": 3,
    "start_time": "2023-06-14T18:30:47.771Z"
   },
   {
    "duration": 16,
    "start_time": "2023-06-14T18:30:49.393Z"
   },
   {
    "duration": 20,
    "start_time": "2023-06-14T18:30:51.609Z"
   },
   {
    "duration": 783,
    "start_time": "2023-06-14T18:30:53.563Z"
   },
   {
    "duration": 1267,
    "start_time": "2023-06-14T18:30:57.364Z"
   },
   {
    "duration": 150,
    "start_time": "2023-06-14T18:31:02.031Z"
   },
   {
    "duration": 1024,
    "start_time": "2023-06-14T18:33:51.789Z"
   },
   {
    "duration": 4,
    "start_time": "2023-06-14T18:34:05.519Z"
   },
   {
    "duration": 3,
    "start_time": "2023-06-14T18:34:34.447Z"
   },
   {
    "duration": 395,
    "start_time": "2023-06-14T18:34:36.390Z"
   },
   {
    "duration": 1506,
    "start_time": "2023-06-14T18:34:46.681Z"
   },
   {
    "duration": 1259,
    "start_time": "2023-06-14T18:34:59.314Z"
   },
   {
    "duration": 1240,
    "start_time": "2023-06-14T18:35:13.717Z"
   },
   {
    "duration": 228,
    "start_time": "2023-06-14T18:35:54.932Z"
   },
   {
    "duration": 1270,
    "start_time": "2023-06-14T18:36:00.704Z"
   },
   {
    "duration": 136,
    "start_time": "2023-06-14T18:36:13.039Z"
   },
   {
    "duration": 124,
    "start_time": "2023-06-14T18:36:19.339Z"
   },
   {
    "duration": 119,
    "start_time": "2023-06-14T18:36:31.693Z"
   },
   {
    "duration": 1273,
    "start_time": "2023-06-14T18:36:34.636Z"
   },
   {
    "duration": 125,
    "start_time": "2023-06-14T18:36:52.507Z"
   },
   {
    "duration": 155,
    "start_time": "2023-06-14T18:36:57.325Z"
   },
   {
    "duration": 134,
    "start_time": "2023-06-14T18:37:03.787Z"
   },
   {
    "duration": 125,
    "start_time": "2023-06-14T18:37:09.101Z"
   },
   {
    "duration": 1437,
    "start_time": "2023-06-14T18:37:36.493Z"
   },
   {
    "duration": 14,
    "start_time": "2023-06-14T18:52:40.795Z"
   },
   {
    "duration": 12,
    "start_time": "2023-06-14T18:52:48.482Z"
   },
   {
    "duration": 12,
    "start_time": "2023-06-14T18:53:04.112Z"
   },
   {
    "duration": 13,
    "start_time": "2023-06-14T18:53:10.222Z"
   },
   {
    "duration": 4,
    "start_time": "2023-06-14T18:53:25.894Z"
   },
   {
    "duration": 377,
    "start_time": "2023-06-14T18:53:29.254Z"
   },
   {
    "duration": 1254,
    "start_time": "2023-06-14T18:53:31.726Z"
   },
   {
    "duration": 1390,
    "start_time": "2023-06-14T18:54:42.547Z"
   },
   {
    "duration": 1288,
    "start_time": "2023-06-14T18:54:55.186Z"
   },
   {
    "duration": 1284,
    "start_time": "2023-06-14T18:55:05.286Z"
   },
   {
    "duration": 14,
    "start_time": "2023-06-14T19:02:46.898Z"
   },
   {
    "duration": 151,
    "start_time": "2023-06-14T19:02:56.790Z"
   },
   {
    "duration": 399,
    "start_time": "2023-06-14T19:15:53.790Z"
   },
   {
    "duration": 581,
    "start_time": "2023-06-14T19:16:56.698Z"
   },
   {
    "duration": 51,
    "start_time": "2023-06-15T06:47:10.907Z"
   },
   {
    "duration": 3177,
    "start_time": "2023-06-15T06:47:14.661Z"
   },
   {
    "duration": 1434,
    "start_time": "2023-06-15T06:47:17.840Z"
   },
   {
    "duration": 3,
    "start_time": "2023-06-15T06:47:19.276Z"
   },
   {
    "duration": 195,
    "start_time": "2023-06-15T06:47:19.281Z"
   },
   {
    "duration": 5,
    "start_time": "2023-06-15T06:47:19.478Z"
   },
   {
    "duration": 45,
    "start_time": "2023-06-15T06:47:19.484Z"
   },
   {
    "duration": 4,
    "start_time": "2023-06-15T06:47:19.531Z"
   },
   {
    "duration": 26,
    "start_time": "2023-06-15T06:47:19.537Z"
   },
   {
    "duration": 7,
    "start_time": "2023-06-15T06:47:19.565Z"
   },
   {
    "duration": 47,
    "start_time": "2023-06-15T06:47:19.576Z"
   },
   {
    "duration": 30,
    "start_time": "2023-06-15T06:47:19.624Z"
   },
   {
    "duration": 216,
    "start_time": "2023-06-15T06:47:19.656Z"
   },
   {
    "duration": 4,
    "start_time": "2023-06-15T06:47:19.874Z"
   },
   {
    "duration": 24,
    "start_time": "2023-06-15T06:47:19.879Z"
   },
   {
    "duration": 90,
    "start_time": "2023-06-15T06:47:19.905Z"
   },
   {
    "duration": 3,
    "start_time": "2023-06-15T06:47:19.997Z"
   },
   {
    "duration": 78,
    "start_time": "2023-06-15T06:47:20.001Z"
   },
   {
    "duration": 23,
    "start_time": "2023-06-15T06:47:20.080Z"
   },
   {
    "duration": 982,
    "start_time": "2023-06-15T06:47:20.105Z"
   },
   {
    "duration": 1300,
    "start_time": "2023-06-15T06:47:21.089Z"
   },
   {
    "duration": 177,
    "start_time": "2023-06-15T06:47:22.391Z"
   },
   {
    "duration": 684,
    "start_time": "2023-06-15T06:47:22.570Z"
   },
   {
    "duration": 4,
    "start_time": "2023-06-15T06:47:23.256Z"
   },
   {
    "duration": 34,
    "start_time": "2023-06-15T06:47:23.262Z"
   },
   {
    "duration": 449,
    "start_time": "2023-06-15T06:47:23.298Z"
   },
   {
    "duration": 1545,
    "start_time": "2023-06-15T06:47:23.749Z"
   },
   {
    "duration": 84,
    "start_time": "2023-06-15T06:47:25.296Z"
   },
   {
    "duration": 0,
    "start_time": "2023-06-15T06:47:25.382Z"
   },
   {
    "duration": 0,
    "start_time": "2023-06-15T06:47:25.384Z"
   },
   {
    "duration": 0,
    "start_time": "2023-06-15T06:47:25.385Z"
   },
   {
    "duration": 0,
    "start_time": "2023-06-15T06:47:25.386Z"
   },
   {
    "duration": 0,
    "start_time": "2023-06-15T06:47:25.387Z"
   },
   {
    "duration": 0,
    "start_time": "2023-06-15T06:47:25.388Z"
   },
   {
    "duration": 2,
    "start_time": "2023-06-15T06:47:41.277Z"
   },
   {
    "duration": 9,
    "start_time": "2023-06-15T06:47:44.010Z"
   },
   {
    "duration": 6,
    "start_time": "2023-06-15T06:47:45.470Z"
   },
   {
    "duration": 8,
    "start_time": "2023-06-15T06:47:48.764Z"
   },
   {
    "duration": 6,
    "start_time": "2023-06-15T06:47:49.474Z"
   },
   {
    "duration": 10,
    "start_time": "2023-06-15T06:47:53.956Z"
   },
   {
    "duration": 6,
    "start_time": "2023-06-15T06:47:55.097Z"
   },
   {
    "duration": 21,
    "start_time": "2023-06-15T07:03:16.102Z"
   },
   {
    "duration": 25,
    "start_time": "2023-06-15T07:34:04.340Z"
   },
   {
    "duration": 14,
    "start_time": "2023-06-15T07:34:12.750Z"
   },
   {
    "duration": 14,
    "start_time": "2023-06-15T07:34:48.381Z"
   },
   {
    "duration": 150,
    "start_time": "2023-06-15T07:58:35.376Z"
   },
   {
    "duration": 120,
    "start_time": "2023-06-15T07:59:51.041Z"
   },
   {
    "duration": 251,
    "start_time": "2023-06-15T08:00:03.410Z"
   },
   {
    "duration": 235,
    "start_time": "2023-06-15T08:00:13.229Z"
   },
   {
    "duration": 627,
    "start_time": "2023-06-15T08:01:03.855Z"
   },
   {
    "duration": 23,
    "start_time": "2023-06-15T08:07:24.568Z"
   },
   {
    "duration": 2284,
    "start_time": "2023-06-15T08:08:19.194Z"
   },
   {
    "duration": 14,
    "start_time": "2023-06-15T08:08:27.819Z"
   },
   {
    "duration": 9,
    "start_time": "2023-06-15T08:08:35.623Z"
   },
   {
    "duration": 9,
    "start_time": "2023-06-15T08:08:58.956Z"
   },
   {
    "duration": 8,
    "start_time": "2023-06-15T08:09:03.249Z"
   },
   {
    "duration": 9,
    "start_time": "2023-06-15T08:09:34.151Z"
   },
   {
    "duration": 7,
    "start_time": "2023-06-15T08:09:47.106Z"
   },
   {
    "duration": 9,
    "start_time": "2023-06-15T08:09:52.807Z"
   },
   {
    "duration": 9,
    "start_time": "2023-06-15T08:09:58.424Z"
   },
   {
    "duration": 37,
    "start_time": "2023-06-15T08:10:57.790Z"
   },
   {
    "duration": 38,
    "start_time": "2023-06-15T08:11:03.396Z"
   },
   {
    "duration": 8,
    "start_time": "2023-06-15T08:11:09.492Z"
   },
   {
    "duration": 15,
    "start_time": "2023-06-15T08:14:37.108Z"
   },
   {
    "duration": 37,
    "start_time": "2023-06-15T08:16:38.431Z"
   },
   {
    "duration": 9,
    "start_time": "2023-06-15T08:17:17.431Z"
   },
   {
    "duration": 11,
    "start_time": "2023-06-15T08:20:00.433Z"
   },
   {
    "duration": 11,
    "start_time": "2023-06-15T08:20:08.160Z"
   },
   {
    "duration": 10,
    "start_time": "2023-06-15T08:20:18.472Z"
   },
   {
    "duration": 778,
    "start_time": "2023-06-15T08:20:36.596Z"
   },
   {
    "duration": 9,
    "start_time": "2023-06-15T08:20:55.923Z"
   },
   {
    "duration": 8,
    "start_time": "2023-06-15T08:21:02.282Z"
   },
   {
    "duration": 55,
    "start_time": "2023-06-15T10:55:59.907Z"
   },
   {
    "duration": 1563,
    "start_time": "2023-06-15T10:56:07.115Z"
   },
   {
    "duration": 6,
    "start_time": "2023-06-15T10:56:08.819Z"
   },
   {
    "duration": 4182,
    "start_time": "2023-06-15T10:56:13.548Z"
   },
   {
    "duration": 68,
    "start_time": "2023-06-15T10:56:17.732Z"
   },
   {
    "duration": 3,
    "start_time": "2023-06-15T10:56:20.055Z"
   },
   {
    "duration": 157,
    "start_time": "2023-06-15T10:56:21.594Z"
   },
   {
    "duration": 9,
    "start_time": "2023-06-15T10:56:23.980Z"
   },
   {
    "duration": 40,
    "start_time": "2023-06-15T10:56:25.711Z"
   },
   {
    "duration": 4,
    "start_time": "2023-06-15T10:56:31.336Z"
   },
   {
    "duration": 30,
    "start_time": "2023-06-15T10:56:32.729Z"
   },
   {
    "duration": 58,
    "start_time": "2023-06-15T10:59:31.364Z"
   },
   {
    "duration": 36,
    "start_time": "2023-06-15T10:59:50.991Z"
   },
   {
    "duration": 32,
    "start_time": "2023-06-15T10:59:54.854Z"
   },
   {
    "duration": 24,
    "start_time": "2023-06-15T11:00:06.264Z"
   },
   {
    "duration": 2986,
    "start_time": "2023-06-15T11:00:31.967Z"
   },
   {
    "duration": 1400,
    "start_time": "2023-06-15T11:00:34.956Z"
   },
   {
    "duration": 5,
    "start_time": "2023-06-15T11:00:36.359Z"
   },
   {
    "duration": 381,
    "start_time": "2023-06-15T11:00:36.367Z"
   },
   {
    "duration": 10,
    "start_time": "2023-06-15T11:00:36.751Z"
   },
   {
    "duration": 54,
    "start_time": "2023-06-15T11:00:36.763Z"
   },
   {
    "duration": 6,
    "start_time": "2023-06-15T11:00:36.819Z"
   },
   {
    "duration": 59,
    "start_time": "2023-06-15T11:00:36.830Z"
   },
   {
    "duration": 142,
    "start_time": "2023-06-15T11:00:36.893Z"
   },
   {
    "duration": 0,
    "start_time": "2023-06-15T11:00:37.038Z"
   },
   {
    "duration": 0,
    "start_time": "2023-06-15T11:00:37.039Z"
   },
   {
    "duration": 0,
    "start_time": "2023-06-15T11:00:37.040Z"
   },
   {
    "duration": 0,
    "start_time": "2023-06-15T11:00:37.041Z"
   },
   {
    "duration": 0,
    "start_time": "2023-06-15T11:00:37.043Z"
   },
   {
    "duration": 0,
    "start_time": "2023-06-15T11:00:37.044Z"
   },
   {
    "duration": 0,
    "start_time": "2023-06-15T11:00:37.045Z"
   },
   {
    "duration": 0,
    "start_time": "2023-06-15T11:00:37.046Z"
   },
   {
    "duration": 0,
    "start_time": "2023-06-15T11:00:37.047Z"
   },
   {
    "duration": 0,
    "start_time": "2023-06-15T11:00:37.049Z"
   },
   {
    "duration": 0,
    "start_time": "2023-06-15T11:00:37.050Z"
   },
   {
    "duration": 0,
    "start_time": "2023-06-15T11:00:37.051Z"
   },
   {
    "duration": 0,
    "start_time": "2023-06-15T11:00:37.052Z"
   },
   {
    "duration": 0,
    "start_time": "2023-06-15T11:00:37.053Z"
   },
   {
    "duration": 0,
    "start_time": "2023-06-15T11:00:37.054Z"
   },
   {
    "duration": 0,
    "start_time": "2023-06-15T11:00:37.056Z"
   },
   {
    "duration": 0,
    "start_time": "2023-06-15T11:00:37.057Z"
   },
   {
    "duration": 0,
    "start_time": "2023-06-15T11:00:37.058Z"
   },
   {
    "duration": 0,
    "start_time": "2023-06-15T11:00:37.060Z"
   },
   {
    "duration": 0,
    "start_time": "2023-06-15T11:00:37.061Z"
   },
   {
    "duration": 0,
    "start_time": "2023-06-15T11:00:37.063Z"
   },
   {
    "duration": 0,
    "start_time": "2023-06-15T11:00:37.065Z"
   },
   {
    "duration": 0,
    "start_time": "2023-06-15T11:00:37.066Z"
   },
   {
    "duration": 0,
    "start_time": "2023-06-15T11:00:37.068Z"
   },
   {
    "duration": 0,
    "start_time": "2023-06-15T11:00:37.069Z"
   },
   {
    "duration": 0,
    "start_time": "2023-06-15T11:00:37.070Z"
   },
   {
    "duration": 0,
    "start_time": "2023-06-15T11:00:37.072Z"
   },
   {
    "duration": 0,
    "start_time": "2023-06-15T11:00:37.073Z"
   },
   {
    "duration": 6,
    "start_time": "2023-06-15T11:01:05.352Z"
   },
   {
    "duration": 12,
    "start_time": "2023-06-15T11:01:06.811Z"
   },
   {
    "duration": 16,
    "start_time": "2023-06-15T11:01:16.016Z"
   },
   {
    "duration": 23,
    "start_time": "2023-06-15T11:01:44.364Z"
   },
   {
    "duration": 4,
    "start_time": "2023-06-15T11:02:07.151Z"
   },
   {
    "duration": 17,
    "start_time": "2023-06-15T11:02:08.471Z"
   },
   {
    "duration": 2540,
    "start_time": "2023-06-15T11:02:14.583Z"
   },
   {
    "duration": 1236,
    "start_time": "2023-06-15T11:02:17.125Z"
   },
   {
    "duration": 3,
    "start_time": "2023-06-15T11:02:18.363Z"
   },
   {
    "duration": 97,
    "start_time": "2023-06-15T11:02:18.367Z"
   },
   {
    "duration": 7,
    "start_time": "2023-06-15T11:02:18.467Z"
   },
   {
    "duration": 37,
    "start_time": "2023-06-15T11:02:18.491Z"
   },
   {
    "duration": 3,
    "start_time": "2023-06-15T11:02:18.529Z"
   },
   {
    "duration": 8,
    "start_time": "2023-06-15T11:02:18.533Z"
   },
   {
    "duration": 8,
    "start_time": "2023-06-15T11:02:18.542Z"
   },
   {
    "duration": 40,
    "start_time": "2023-06-15T11:02:18.552Z"
   },
   {
    "duration": 21,
    "start_time": "2023-06-15T11:02:18.594Z"
   },
   {
    "duration": 6,
    "start_time": "2023-06-15T11:02:18.617Z"
   },
   {
    "duration": 38,
    "start_time": "2023-06-15T11:02:18.624Z"
   },
   {
    "duration": 36,
    "start_time": "2023-06-15T11:02:18.665Z"
   },
   {
    "duration": 12,
    "start_time": "2023-06-15T11:02:18.704Z"
   },
   {
    "duration": 27,
    "start_time": "2023-06-15T11:02:18.717Z"
   },
   {
    "duration": 7,
    "start_time": "2023-06-15T11:02:18.745Z"
   },
   {
    "duration": 619,
    "start_time": "2023-06-15T11:02:18.753Z"
   },
   {
    "duration": 19,
    "start_time": "2023-06-15T11:02:19.374Z"
   },
   {
    "duration": 19,
    "start_time": "2023-06-15T11:02:19.395Z"
   },
   {
    "duration": 85,
    "start_time": "2023-06-15T11:02:19.417Z"
   },
   {
    "duration": 2,
    "start_time": "2023-06-15T11:02:19.503Z"
   },
   {
    "duration": 23,
    "start_time": "2023-06-15T11:02:19.506Z"
   },
   {
    "duration": 24,
    "start_time": "2023-06-15T11:02:19.530Z"
   },
   {
    "duration": 970,
    "start_time": "2023-06-15T11:02:19.556Z"
   },
   {
    "duration": 1268,
    "start_time": "2023-06-15T11:02:20.528Z"
   },
   {
    "duration": 190,
    "start_time": "2023-06-15T11:02:21.802Z"
   },
   {
    "duration": 808,
    "start_time": "2023-06-15T11:02:21.993Z"
   },
   {
    "duration": 7,
    "start_time": "2023-06-15T11:02:22.805Z"
   },
   {
    "duration": 20,
    "start_time": "2023-06-15T11:02:22.814Z"
   },
   {
    "duration": 477,
    "start_time": "2023-06-15T11:02:22.835Z"
   },
   {
    "duration": 1575,
    "start_time": "2023-06-15T11:02:23.314Z"
   },
   {
    "duration": 3,
    "start_time": "2023-06-15T11:02:24.891Z"
   },
   {
    "duration": 12,
    "start_time": "2023-06-15T11:02:24.896Z"
   },
   {
    "duration": 7,
    "start_time": "2023-06-15T11:02:24.909Z"
   },
   {
    "duration": 7,
    "start_time": "2023-06-15T11:02:24.920Z"
   },
   {
    "duration": 4,
    "start_time": "2023-06-15T11:02:24.929Z"
   },
   {
    "duration": 10,
    "start_time": "2023-06-15T11:02:24.934Z"
   },
   {
    "duration": 4,
    "start_time": "2023-06-15T11:02:24.945Z"
   },
   {
    "duration": 17,
    "start_time": "2023-06-15T11:04:56.219Z"
   },
   {
    "duration": 14,
    "start_time": "2023-06-15T11:05:16.870Z"
   },
   {
    "duration": 32,
    "start_time": "2023-06-15T11:05:19.725Z"
   },
   {
    "duration": 4,
    "start_time": "2023-06-15T11:32:41.076Z"
   },
   {
    "duration": 101,
    "start_time": "2023-06-15T11:35:04.122Z"
   },
   {
    "duration": 2942,
    "start_time": "2023-06-15T11:35:59.822Z"
   },
   {
    "duration": 6,
    "start_time": "2023-06-15T11:36:14.630Z"
   },
   {
    "duration": 13,
    "start_time": "2023-06-15T11:36:16.200Z"
   },
   {
    "duration": 1060,
    "start_time": "2023-06-15T11:36:31.063Z"
   },
   {
    "duration": 614,
    "start_time": "2023-06-15T11:37:02.528Z"
   },
   {
    "duration": 10,
    "start_time": "2023-06-15T11:38:10.504Z"
   },
   {
    "duration": 13,
    "start_time": "2023-06-15T11:38:29.565Z"
   },
   {
    "duration": 23,
    "start_time": "2023-06-15T11:38:33.955Z"
   },
   {
    "duration": 21867,
    "start_time": "2023-06-15T11:38:58.433Z"
   },
   {
    "duration": 1693,
    "start_time": "2023-06-15T11:39:20.302Z"
   },
   {
    "duration": 3,
    "start_time": "2023-06-15T11:39:28.431Z"
   },
   {
    "duration": 193,
    "start_time": "2023-06-15T11:39:34.128Z"
   },
   {
    "duration": 14,
    "start_time": "2023-06-15T11:40:20.994Z"
   },
   {
    "duration": 14,
    "start_time": "2023-06-15T11:40:26.795Z"
   },
   {
    "duration": 4,
    "start_time": "2023-06-15T11:42:12.226Z"
   },
   {
    "duration": 4,
    "start_time": "2023-06-15T11:42:39.692Z"
   },
   {
    "duration": 17,
    "start_time": "2023-06-15T11:42:46.365Z"
   },
   {
    "duration": 2257,
    "start_time": "2023-06-15T11:44:36.403Z"
   },
   {
    "duration": 4547,
    "start_time": "2023-06-15T11:44:38.662Z"
   },
   {
    "duration": 1248,
    "start_time": "2023-06-15T11:44:43.211Z"
   },
   {
    "duration": 8,
    "start_time": "2023-06-15T11:44:44.461Z"
   },
   {
    "duration": 168,
    "start_time": "2023-06-15T11:44:44.476Z"
   },
   {
    "duration": 4,
    "start_time": "2023-06-15T11:44:44.645Z"
   },
   {
    "duration": 38,
    "start_time": "2023-06-15T11:44:44.650Z"
   },
   {
    "duration": 4,
    "start_time": "2023-06-15T11:44:44.691Z"
   },
   {
    "duration": 22,
    "start_time": "2023-06-15T11:44:44.697Z"
   },
   {
    "duration": 8,
    "start_time": "2023-06-15T11:44:44.720Z"
   },
   {
    "duration": 7,
    "start_time": "2023-06-15T11:44:44.729Z"
   },
   {
    "duration": 11,
    "start_time": "2023-06-15T11:44:44.737Z"
   },
   {
    "duration": 35,
    "start_time": "2023-06-15T11:44:44.749Z"
   },
   {
    "duration": 6,
    "start_time": "2023-06-15T11:44:44.787Z"
   },
   {
    "duration": 612,
    "start_time": "2023-06-15T11:44:44.795Z"
   },
   {
    "duration": 11,
    "start_time": "2023-06-15T11:44:45.409Z"
   },
   {
    "duration": 18,
    "start_time": "2023-06-15T11:44:45.422Z"
   },
   {
    "duration": 44,
    "start_time": "2023-06-15T11:44:45.442Z"
   },
   {
    "duration": 15,
    "start_time": "2023-06-15T11:44:45.488Z"
   },
   {
    "duration": 9,
    "start_time": "2023-06-15T11:44:45.505Z"
   },
   {
    "duration": 44,
    "start_time": "2023-06-15T11:44:45.515Z"
   },
   {
    "duration": 13,
    "start_time": "2023-06-15T11:44:45.560Z"
   },
   {
    "duration": 654,
    "start_time": "2023-06-15T11:44:45.575Z"
   },
   {
    "duration": 11,
    "start_time": "2023-06-15T11:44:46.231Z"
   },
   {
    "duration": 18,
    "start_time": "2023-06-15T11:44:46.243Z"
   },
   {
    "duration": 87,
    "start_time": "2023-06-15T11:44:46.268Z"
   },
   {
    "duration": 2,
    "start_time": "2023-06-15T11:44:46.357Z"
   },
   {
    "duration": 29,
    "start_time": "2023-06-15T11:44:46.367Z"
   },
   {
    "duration": 109,
    "start_time": "2023-06-15T11:44:46.398Z"
   },
   {
    "duration": 857,
    "start_time": "2023-06-15T11:44:46.508Z"
   },
   {
    "duration": 1156,
    "start_time": "2023-06-15T11:44:47.368Z"
   },
   {
    "duration": 181,
    "start_time": "2023-06-15T11:44:48.526Z"
   },
   {
    "duration": 786,
    "start_time": "2023-06-15T11:44:48.708Z"
   },
   {
    "duration": 8,
    "start_time": "2023-06-15T11:44:49.497Z"
   },
   {
    "duration": 4,
    "start_time": "2023-06-15T11:44:49.508Z"
   },
   {
    "duration": 473,
    "start_time": "2023-06-15T11:44:49.514Z"
   },
   {
    "duration": 1501,
    "start_time": "2023-06-15T11:44:49.996Z"
   },
   {
    "duration": 3,
    "start_time": "2023-06-15T11:44:51.503Z"
   },
   {
    "duration": 15,
    "start_time": "2023-06-15T11:44:51.508Z"
   },
   {
    "duration": 23,
    "start_time": "2023-06-15T11:44:51.524Z"
   },
   {
    "duration": 18,
    "start_time": "2023-06-15T11:44:51.551Z"
   },
   {
    "duration": 8,
    "start_time": "2023-06-15T11:44:51.571Z"
   },
   {
    "duration": 20,
    "start_time": "2023-06-15T11:44:51.581Z"
   },
   {
    "duration": 25,
    "start_time": "2023-06-15T11:44:51.603Z"
   },
   {
    "duration": 4,
    "start_time": "2023-06-15T12:03:00.914Z"
   },
   {
    "duration": 8,
    "start_time": "2023-06-15T12:03:06.272Z"
   },
   {
    "duration": 2400,
    "start_time": "2023-06-15T12:03:19.508Z"
   },
   {
    "duration": 2305,
    "start_time": "2023-06-15T12:03:21.911Z"
   },
   {
    "duration": 1282,
    "start_time": "2023-06-15T12:03:24.219Z"
   },
   {
    "duration": 2,
    "start_time": "2023-06-15T12:03:25.503Z"
   },
   {
    "duration": 81,
    "start_time": "2023-06-15T12:03:25.507Z"
   },
   {
    "duration": 7,
    "start_time": "2023-06-15T12:03:25.590Z"
   },
   {
    "duration": 25,
    "start_time": "2023-06-15T12:03:25.603Z"
   },
   {
    "duration": 3,
    "start_time": "2023-06-15T12:03:25.630Z"
   },
   {
    "duration": 12,
    "start_time": "2023-06-15T12:03:25.634Z"
   },
   {
    "duration": 7,
    "start_time": "2023-06-15T12:03:25.648Z"
   },
   {
    "duration": 19,
    "start_time": "2023-06-15T12:03:25.657Z"
   },
   {
    "duration": 17,
    "start_time": "2023-06-15T12:03:25.677Z"
   },
   {
    "duration": 25,
    "start_time": "2023-06-15T12:03:25.696Z"
   },
   {
    "duration": 10,
    "start_time": "2023-06-15T12:03:25.724Z"
   },
   {
    "duration": 667,
    "start_time": "2023-06-15T12:03:25.736Z"
   },
   {
    "duration": 113,
    "start_time": "2023-06-15T12:03:26.405Z"
   },
   {
    "duration": 0,
    "start_time": "2023-06-15T12:03:26.519Z"
   },
   {
    "duration": 0,
    "start_time": "2023-06-15T12:03:26.520Z"
   },
   {
    "duration": 0,
    "start_time": "2023-06-15T12:03:26.521Z"
   },
   {
    "duration": 0,
    "start_time": "2023-06-15T12:03:26.522Z"
   },
   {
    "duration": 0,
    "start_time": "2023-06-15T12:03:26.524Z"
   },
   {
    "duration": 0,
    "start_time": "2023-06-15T12:03:26.525Z"
   },
   {
    "duration": 0,
    "start_time": "2023-06-15T12:03:26.526Z"
   },
   {
    "duration": 0,
    "start_time": "2023-06-15T12:03:26.527Z"
   },
   {
    "duration": 0,
    "start_time": "2023-06-15T12:03:26.528Z"
   },
   {
    "duration": 0,
    "start_time": "2023-06-15T12:03:26.530Z"
   },
   {
    "duration": 0,
    "start_time": "2023-06-15T12:03:26.531Z"
   },
   {
    "duration": 0,
    "start_time": "2023-06-15T12:03:26.533Z"
   },
   {
    "duration": 0,
    "start_time": "2023-06-15T12:03:26.534Z"
   },
   {
    "duration": 0,
    "start_time": "2023-06-15T12:03:26.535Z"
   },
   {
    "duration": 0,
    "start_time": "2023-06-15T12:03:26.536Z"
   },
   {
    "duration": 0,
    "start_time": "2023-06-15T12:03:26.537Z"
   },
   {
    "duration": 0,
    "start_time": "2023-06-15T12:03:26.570Z"
   },
   {
    "duration": 0,
    "start_time": "2023-06-15T12:03:26.574Z"
   },
   {
    "duration": 0,
    "start_time": "2023-06-15T12:03:26.575Z"
   },
   {
    "duration": 0,
    "start_time": "2023-06-15T12:03:26.576Z"
   },
   {
    "duration": 0,
    "start_time": "2023-06-15T12:03:26.577Z"
   },
   {
    "duration": 0,
    "start_time": "2023-06-15T12:03:26.580Z"
   },
   {
    "duration": 0,
    "start_time": "2023-06-15T12:03:26.582Z"
   },
   {
    "duration": 0,
    "start_time": "2023-06-15T12:03:26.583Z"
   },
   {
    "duration": 0,
    "start_time": "2023-06-15T12:03:26.584Z"
   },
   {
    "duration": 0,
    "start_time": "2023-06-15T12:03:26.584Z"
   },
   {
    "duration": 0,
    "start_time": "2023-06-15T12:03:26.585Z"
   },
   {
    "duration": 0,
    "start_time": "2023-06-15T12:03:26.588Z"
   },
   {
    "duration": 6,
    "start_time": "2023-06-15T12:03:51.800Z"
   },
   {
    "duration": 2291,
    "start_time": "2023-06-15T12:04:00.866Z"
   },
   {
    "duration": 2391,
    "start_time": "2023-06-15T12:04:03.159Z"
   },
   {
    "duration": 1278,
    "start_time": "2023-06-15T12:04:05.552Z"
   },
   {
    "duration": 3,
    "start_time": "2023-06-15T12:04:06.832Z"
   },
   {
    "duration": 103,
    "start_time": "2023-06-15T12:04:06.836Z"
   },
   {
    "duration": 3,
    "start_time": "2023-06-15T12:04:06.940Z"
   },
   {
    "duration": 24,
    "start_time": "2023-06-15T12:04:06.945Z"
   },
   {
    "duration": 3,
    "start_time": "2023-06-15T12:04:06.971Z"
   },
   {
    "duration": 25,
    "start_time": "2023-06-15T12:04:06.975Z"
   },
   {
    "duration": 6,
    "start_time": "2023-06-15T12:04:07.004Z"
   },
   {
    "duration": 15,
    "start_time": "2023-06-15T12:04:07.011Z"
   },
   {
    "duration": 14,
    "start_time": "2023-06-15T12:04:07.027Z"
   },
   {
    "duration": 22,
    "start_time": "2023-06-15T12:04:07.042Z"
   },
   {
    "duration": 7,
    "start_time": "2023-06-15T12:04:07.066Z"
   },
   {
    "duration": 634,
    "start_time": "2023-06-15T12:04:07.074Z"
   },
   {
    "duration": 6,
    "start_time": "2023-06-15T12:04:07.709Z"
   },
   {
    "duration": 31,
    "start_time": "2023-06-15T12:04:07.716Z"
   },
   {
    "duration": 36,
    "start_time": "2023-06-15T12:04:07.748Z"
   },
   {
    "duration": 7,
    "start_time": "2023-06-15T12:04:07.786Z"
   },
   {
    "duration": 30,
    "start_time": "2023-06-15T12:04:07.796Z"
   },
   {
    "duration": 6,
    "start_time": "2023-06-15T12:04:07.828Z"
   },
   {
    "duration": 609,
    "start_time": "2023-06-15T12:04:07.835Z"
   },
   {
    "duration": 12,
    "start_time": "2023-06-15T12:04:08.446Z"
   },
   {
    "duration": 18,
    "start_time": "2023-06-15T12:04:08.468Z"
   },
   {
    "duration": 99,
    "start_time": "2023-06-15T12:04:08.488Z"
   },
   {
    "duration": 2,
    "start_time": "2023-06-15T12:04:08.593Z"
   },
   {
    "duration": 31,
    "start_time": "2023-06-15T12:04:08.597Z"
   },
   {
    "duration": 18,
    "start_time": "2023-06-15T12:04:08.630Z"
   },
   {
    "duration": 888,
    "start_time": "2023-06-15T12:04:08.650Z"
   },
   {
    "duration": 1177,
    "start_time": "2023-06-15T12:04:09.539Z"
   },
   {
    "duration": 173,
    "start_time": "2023-06-15T12:04:10.718Z"
   },
   {
    "duration": 732,
    "start_time": "2023-06-15T12:04:10.893Z"
   },
   {
    "duration": 4,
    "start_time": "2023-06-15T12:04:11.627Z"
   },
   {
    "duration": 7,
    "start_time": "2023-06-15T12:04:11.633Z"
   },
   {
    "duration": 443,
    "start_time": "2023-06-15T12:04:11.641Z"
   },
   {
    "duration": 1438,
    "start_time": "2023-06-15T12:04:12.090Z"
   },
   {
    "duration": 3,
    "start_time": "2023-06-15T12:04:13.529Z"
   },
   {
    "duration": 11,
    "start_time": "2023-06-15T12:04:13.533Z"
   },
   {
    "duration": 8,
    "start_time": "2023-06-15T12:04:13.545Z"
   },
   {
    "duration": 7,
    "start_time": "2023-06-15T12:04:13.554Z"
   },
   {
    "duration": 4,
    "start_time": "2023-06-15T12:04:13.562Z"
   },
   {
    "duration": 11,
    "start_time": "2023-06-15T12:04:13.569Z"
   },
   {
    "duration": 15,
    "start_time": "2023-06-15T12:04:13.583Z"
   },
   {
    "duration": 932,
    "start_time": "2023-06-15T12:09:10.609Z"
   },
   {
    "duration": 30,
    "start_time": "2023-06-15T12:20:18.358Z"
   },
   {
    "duration": 120,
    "start_time": "2023-06-15T12:24:52.461Z"
   },
   {
    "duration": 742,
    "start_time": "2023-06-15T12:24:59.802Z"
   },
   {
    "duration": 2429,
    "start_time": "2023-06-15T12:25:47.544Z"
   },
   {
    "duration": 1304,
    "start_time": "2023-06-15T12:33:04.034Z"
   },
   {
    "duration": 1284,
    "start_time": "2023-06-15T12:33:14.437Z"
   },
   {
    "duration": 13,
    "start_time": "2023-06-15T12:33:59.529Z"
   },
   {
    "duration": 24,
    "start_time": "2023-06-15T12:34:31.469Z"
   },
   {
    "duration": 12,
    "start_time": "2023-06-15T12:34:51.826Z"
   },
   {
    "duration": 20,
    "start_time": "2023-06-15T12:35:23.742Z"
   },
   {
    "duration": 16,
    "start_time": "2023-06-15T12:35:47.690Z"
   },
   {
    "duration": 2589,
    "start_time": "2023-06-15T12:36:33.424Z"
   },
   {
    "duration": 1277,
    "start_time": "2023-06-15T12:36:36.015Z"
   },
   {
    "duration": 5,
    "start_time": "2023-06-15T12:36:37.297Z"
   },
   {
    "duration": 148,
    "start_time": "2023-06-15T12:36:37.304Z"
   },
   {
    "duration": 5,
    "start_time": "2023-06-15T12:36:37.456Z"
   },
   {
    "duration": 67,
    "start_time": "2023-06-15T12:36:37.463Z"
   },
   {
    "duration": 4,
    "start_time": "2023-06-15T12:36:37.532Z"
   },
   {
    "duration": 23,
    "start_time": "2023-06-15T12:36:37.538Z"
   },
   {
    "duration": 20,
    "start_time": "2023-06-15T12:36:37.563Z"
   },
   {
    "duration": 34,
    "start_time": "2023-06-15T12:36:37.587Z"
   },
   {
    "duration": 15,
    "start_time": "2023-06-15T12:36:37.623Z"
   },
   {
    "duration": 115,
    "start_time": "2023-06-15T12:36:37.640Z"
   },
   {
    "duration": 0,
    "start_time": "2023-06-15T12:36:37.757Z"
   },
   {
    "duration": 0,
    "start_time": "2023-06-15T12:36:37.758Z"
   },
   {
    "duration": 0,
    "start_time": "2023-06-15T12:36:37.759Z"
   },
   {
    "duration": 0,
    "start_time": "2023-06-15T12:36:37.761Z"
   },
   {
    "duration": 0,
    "start_time": "2023-06-15T12:36:37.773Z"
   },
   {
    "duration": 0,
    "start_time": "2023-06-15T12:36:37.774Z"
   },
   {
    "duration": 0,
    "start_time": "2023-06-15T12:36:37.779Z"
   },
   {
    "duration": 0,
    "start_time": "2023-06-15T12:36:37.780Z"
   },
   {
    "duration": 0,
    "start_time": "2023-06-15T12:36:37.782Z"
   },
   {
    "duration": 0,
    "start_time": "2023-06-15T12:36:37.783Z"
   },
   {
    "duration": 0,
    "start_time": "2023-06-15T12:36:37.785Z"
   },
   {
    "duration": 0,
    "start_time": "2023-06-15T12:36:37.786Z"
   },
   {
    "duration": 0,
    "start_time": "2023-06-15T12:36:37.787Z"
   },
   {
    "duration": 0,
    "start_time": "2023-06-15T12:36:37.788Z"
   },
   {
    "duration": 0,
    "start_time": "2023-06-15T12:36:37.789Z"
   },
   {
    "duration": 0,
    "start_time": "2023-06-15T12:36:37.790Z"
   },
   {
    "duration": 0,
    "start_time": "2023-06-15T12:36:37.792Z"
   },
   {
    "duration": 0,
    "start_time": "2023-06-15T12:36:37.793Z"
   },
   {
    "duration": 0,
    "start_time": "2023-06-15T12:36:37.794Z"
   },
   {
    "duration": 0,
    "start_time": "2023-06-15T12:36:37.795Z"
   },
   {
    "duration": 0,
    "start_time": "2023-06-15T12:36:37.796Z"
   },
   {
    "duration": 0,
    "start_time": "2023-06-15T12:36:37.798Z"
   },
   {
    "duration": 0,
    "start_time": "2023-06-15T12:36:37.799Z"
   },
   {
    "duration": 0,
    "start_time": "2023-06-15T12:36:37.801Z"
   },
   {
    "duration": 0,
    "start_time": "2023-06-15T12:36:37.802Z"
   },
   {
    "duration": 0,
    "start_time": "2023-06-15T12:36:37.803Z"
   },
   {
    "duration": 0,
    "start_time": "2023-06-15T12:36:37.804Z"
   },
   {
    "duration": 0,
    "start_time": "2023-06-15T12:36:37.805Z"
   },
   {
    "duration": 0,
    "start_time": "2023-06-15T12:36:37.806Z"
   },
   {
    "duration": 1,
    "start_time": "2023-06-15T12:36:37.807Z"
   },
   {
    "duration": 0,
    "start_time": "2023-06-15T12:36:37.809Z"
   },
   {
    "duration": 13,
    "start_time": "2023-06-15T12:41:31.384Z"
   },
   {
    "duration": 19,
    "start_time": "2023-06-15T12:41:44.610Z"
   },
   {
    "duration": 27,
    "start_time": "2023-06-15T12:50:11.146Z"
   },
   {
    "duration": 11,
    "start_time": "2023-06-15T12:50:30.472Z"
   },
   {
    "duration": 31,
    "start_time": "2023-06-15T12:50:33.346Z"
   },
   {
    "duration": 19,
    "start_time": "2023-06-15T12:50:37.257Z"
   },
   {
    "duration": 4,
    "start_time": "2023-06-15T12:52:33.918Z"
   },
   {
    "duration": 7,
    "start_time": "2023-06-15T12:52:45.156Z"
   },
   {
    "duration": 49,
    "start_time": "2023-06-15T12:52:49.741Z"
   },
   {
    "duration": 47,
    "start_time": "2023-06-15T12:54:20.088Z"
   },
   {
    "duration": 82,
    "start_time": "2023-06-15T12:55:23.010Z"
   },
   {
    "duration": 24,
    "start_time": "2023-06-15T12:59:13.567Z"
   },
   {
    "duration": 819,
    "start_time": "2023-06-15T12:59:25.794Z"
   },
   {
    "duration": 7,
    "start_time": "2023-06-15T13:06:44.821Z"
   },
   {
    "duration": 7,
    "start_time": "2023-06-15T13:06:55.058Z"
   },
   {
    "duration": 9,
    "start_time": "2023-06-15T13:07:09.483Z"
   },
   {
    "duration": 635,
    "start_time": "2023-06-15T13:09:27.905Z"
   },
   {
    "duration": 8,
    "start_time": "2023-06-15T13:10:01.338Z"
   },
   {
    "duration": 215,
    "start_time": "2023-06-15T13:11:06.287Z"
   },
   {
    "duration": 1355,
    "start_time": "2023-06-15T13:11:38.449Z"
   },
   {
    "duration": 130,
    "start_time": "2023-06-15T13:11:48.547Z"
   },
   {
    "duration": 19,
    "start_time": "2023-06-15T13:11:52.657Z"
   },
   {
    "duration": 90,
    "start_time": "2023-06-15T13:11:54.847Z"
   },
   {
    "duration": 131,
    "start_time": "2023-06-15T13:13:49.705Z"
   },
   {
    "duration": 1111,
    "start_time": "2023-06-15T13:14:11.859Z"
   },
   {
    "duration": 526,
    "start_time": "2023-06-15T13:14:46.245Z"
   },
   {
    "duration": 393,
    "start_time": "2023-06-15T13:15:31.655Z"
   },
   {
    "duration": 11,
    "start_time": "2023-06-15T13:16:22.962Z"
   },
   {
    "duration": 4,
    "start_time": "2023-06-15T13:16:25.658Z"
   },
   {
    "duration": 4,
    "start_time": "2023-06-15T13:16:26.542Z"
   },
   {
    "duration": 425,
    "start_time": "2023-06-15T13:16:27.506Z"
   },
   {
    "duration": 1435,
    "start_time": "2023-06-15T13:16:31.018Z"
   },
   {
    "duration": 1372,
    "start_time": "2023-06-15T13:16:54.322Z"
   },
   {
    "duration": 1437,
    "start_time": "2023-06-15T13:17:07.983Z"
   },
   {
    "duration": 11,
    "start_time": "2023-06-15T13:27:21.765Z"
   },
   {
    "duration": 638,
    "start_time": "2023-06-15T13:27:24.955Z"
   },
   {
    "duration": 13,
    "start_time": "2023-06-15T13:27:34.860Z"
   },
   {
    "duration": 646,
    "start_time": "2023-06-15T13:27:40.487Z"
   },
   {
    "duration": 529,
    "start_time": "2023-06-15T13:27:56.113Z"
   },
   {
    "duration": 3077,
    "start_time": "2023-06-16T07:29:06.994Z"
   },
   {
    "duration": 1293,
    "start_time": "2023-06-16T07:29:10.073Z"
   },
   {
    "duration": 3,
    "start_time": "2023-06-16T07:29:11.368Z"
   },
   {
    "duration": 162,
    "start_time": "2023-06-16T07:29:11.374Z"
   },
   {
    "duration": 4,
    "start_time": "2023-06-16T07:29:11.537Z"
   },
   {
    "duration": 38,
    "start_time": "2023-06-16T07:29:11.543Z"
   },
   {
    "duration": 3,
    "start_time": "2023-06-16T07:29:11.582Z"
   },
   {
    "duration": 20,
    "start_time": "2023-06-16T07:29:11.586Z"
   },
   {
    "duration": 21,
    "start_time": "2023-06-16T07:29:11.607Z"
   },
   {
    "duration": 45,
    "start_time": "2023-06-16T07:29:11.631Z"
   },
   {
    "duration": 23,
    "start_time": "2023-06-16T07:29:11.678Z"
   },
   {
    "duration": 37,
    "start_time": "2023-06-16T07:29:11.703Z"
   },
   {
    "duration": 29,
    "start_time": "2023-06-16T07:29:11.742Z"
   },
   {
    "duration": 38,
    "start_time": "2023-06-16T07:29:11.773Z"
   },
   {
    "duration": 28,
    "start_time": "2023-06-16T07:29:11.813Z"
   },
   {
    "duration": 540,
    "start_time": "2023-06-16T07:29:11.843Z"
   },
   {
    "duration": 10,
    "start_time": "2023-06-16T07:29:12.385Z"
   },
   {
    "duration": 7,
    "start_time": "2023-06-16T07:29:12.397Z"
   },
   {
    "duration": 216,
    "start_time": "2023-06-16T07:29:12.406Z"
   },
   {
    "duration": 0,
    "start_time": "2023-06-16T07:29:12.624Z"
   },
   {
    "duration": 0,
    "start_time": "2023-06-16T07:29:12.625Z"
   },
   {
    "duration": 0,
    "start_time": "2023-06-16T07:29:12.626Z"
   },
   {
    "duration": 0,
    "start_time": "2023-06-16T07:29:12.627Z"
   },
   {
    "duration": 0,
    "start_time": "2023-06-16T07:29:12.628Z"
   },
   {
    "duration": 0,
    "start_time": "2023-06-16T07:29:12.629Z"
   },
   {
    "duration": 0,
    "start_time": "2023-06-16T07:29:12.631Z"
   },
   {
    "duration": 0,
    "start_time": "2023-06-16T07:29:12.632Z"
   },
   {
    "duration": 0,
    "start_time": "2023-06-16T07:29:12.633Z"
   },
   {
    "duration": 0,
    "start_time": "2023-06-16T07:29:12.654Z"
   },
   {
    "duration": 0,
    "start_time": "2023-06-16T07:29:12.655Z"
   },
   {
    "duration": 0,
    "start_time": "2023-06-16T07:29:12.656Z"
   },
   {
    "duration": 0,
    "start_time": "2023-06-16T07:29:12.658Z"
   },
   {
    "duration": 0,
    "start_time": "2023-06-16T07:29:12.659Z"
   },
   {
    "duration": 0,
    "start_time": "2023-06-16T07:29:12.660Z"
   },
   {
    "duration": 0,
    "start_time": "2023-06-16T07:29:12.662Z"
   },
   {
    "duration": 0,
    "start_time": "2023-06-16T07:29:12.663Z"
   },
   {
    "duration": 0,
    "start_time": "2023-06-16T07:29:12.664Z"
   },
   {
    "duration": 0,
    "start_time": "2023-06-16T07:29:12.666Z"
   },
   {
    "duration": 0,
    "start_time": "2023-06-16T07:29:12.667Z"
   },
   {
    "duration": 0,
    "start_time": "2023-06-16T07:29:12.669Z"
   },
   {
    "duration": 0,
    "start_time": "2023-06-16T07:29:12.670Z"
   },
   {
    "duration": 0,
    "start_time": "2023-06-16T07:29:12.671Z"
   },
   {
    "duration": 19,
    "start_time": "2023-06-16T08:21:47.531Z"
   },
   {
    "duration": 13,
    "start_time": "2023-06-16T08:21:53.462Z"
   },
   {
    "duration": 3,
    "start_time": "2023-06-16T08:26:28.076Z"
   },
   {
    "duration": 8,
    "start_time": "2023-06-16T08:26:32.398Z"
   },
   {
    "duration": 11,
    "start_time": "2023-06-16T08:28:20.267Z"
   },
   {
    "duration": 8,
    "start_time": "2023-06-16T08:28:43.528Z"
   },
   {
    "duration": 595,
    "start_time": "2023-06-16T08:32:48.053Z"
   },
   {
    "duration": 894,
    "start_time": "2023-06-16T08:33:17.667Z"
   },
   {
    "duration": 1028,
    "start_time": "2023-06-16T08:36:13.453Z"
   },
   {
    "duration": 916,
    "start_time": "2023-06-16T08:36:27.628Z"
   },
   {
    "duration": 1018,
    "start_time": "2023-06-16T08:37:05.138Z"
   },
   {
    "duration": 881,
    "start_time": "2023-06-16T08:37:52.295Z"
   },
   {
    "duration": 788,
    "start_time": "2023-06-16T08:38:06.476Z"
   },
   {
    "duration": 8,
    "start_time": "2023-06-16T08:42:30.436Z"
   },
   {
    "duration": 28,
    "start_time": "2023-06-16T08:42:47.581Z"
   },
   {
    "duration": 22,
    "start_time": "2023-06-16T08:42:57.475Z"
   },
   {
    "duration": 8,
    "start_time": "2023-06-16T08:53:43.648Z"
   },
   {
    "duration": 4,
    "start_time": "2023-06-16T08:53:57.088Z"
   },
   {
    "duration": 5,
    "start_time": "2023-06-16T08:54:08.210Z"
   },
   {
    "duration": 5,
    "start_time": "2023-06-16T08:54:17.711Z"
   },
   {
    "duration": 72,
    "start_time": "2023-06-16T08:54:27.180Z"
   },
   {
    "duration": 4,
    "start_time": "2023-06-16T08:54:52.877Z"
   },
   {
    "duration": 8,
    "start_time": "2023-06-16T08:55:00.127Z"
   },
   {
    "duration": 18,
    "start_time": "2023-06-16T08:55:12.925Z"
   },
   {
    "duration": 4,
    "start_time": "2023-06-16T08:55:26.694Z"
   },
   {
    "duration": 9,
    "start_time": "2023-06-16T08:55:30.468Z"
   },
   {
    "duration": 6,
    "start_time": "2023-06-16T08:55:39.158Z"
   },
   {
    "duration": 8,
    "start_time": "2023-06-16T08:55:46.316Z"
   },
   {
    "duration": 5,
    "start_time": "2023-06-16T08:56:06.125Z"
   },
   {
    "duration": 7,
    "start_time": "2023-06-16T08:57:35.548Z"
   },
   {
    "duration": 5,
    "start_time": "2023-06-16T09:02:48.697Z"
   },
   {
    "duration": 4,
    "start_time": "2023-06-16T09:02:54.598Z"
   },
   {
    "duration": 9,
    "start_time": "2023-06-16T09:03:37.335Z"
   },
   {
    "duration": 7,
    "start_time": "2023-06-16T09:04:11.823Z"
   },
   {
    "duration": 8,
    "start_time": "2023-06-16T09:06:00.843Z"
   },
   {
    "duration": 7,
    "start_time": "2023-06-16T09:06:12.555Z"
   },
   {
    "duration": 6,
    "start_time": "2023-06-16T09:06:19.919Z"
   },
   {
    "duration": 9,
    "start_time": "2023-06-16T09:06:24.683Z"
   },
   {
    "duration": 9,
    "start_time": "2023-06-16T09:09:20.341Z"
   },
   {
    "duration": 34,
    "start_time": "2023-06-16T09:10:12.368Z"
   },
   {
    "duration": 38,
    "start_time": "2023-06-16T09:10:19.971Z"
   },
   {
    "duration": 8,
    "start_time": "2023-06-16T09:12:32.431Z"
   },
   {
    "duration": 9,
    "start_time": "2023-06-16T09:14:06.900Z"
   },
   {
    "duration": 32,
    "start_time": "2023-06-16T09:15:50.670Z"
   },
   {
    "duration": 14,
    "start_time": "2023-06-16T09:15:57.499Z"
   },
   {
    "duration": 29,
    "start_time": "2023-06-16T09:16:34.475Z"
   },
   {
    "duration": 10,
    "start_time": "2023-06-16T09:16:52.608Z"
   },
   {
    "duration": 10,
    "start_time": "2023-06-16T09:19:24.692Z"
   },
   {
    "duration": 793,
    "start_time": "2023-06-16T09:19:48.729Z"
   },
   {
    "duration": 163,
    "start_time": "2023-06-16T09:20:57.826Z"
   },
   {
    "duration": 322,
    "start_time": "2023-06-16T09:21:42.575Z"
   },
   {
    "duration": 385,
    "start_time": "2023-06-16T09:22:02.599Z"
   },
   {
    "duration": 12,
    "start_time": "2023-06-16T09:30:27.168Z"
   },
   {
    "duration": 10,
    "start_time": "2023-06-16T09:30:47.868Z"
   },
   {
    "duration": 7,
    "start_time": "2023-06-16T09:31:05.879Z"
   },
   {
    "duration": 6,
    "start_time": "2023-06-16T09:31:18.539Z"
   },
   {
    "duration": 5,
    "start_time": "2023-06-16T09:31:24.735Z"
   },
   {
    "duration": 4,
    "start_time": "2023-06-16T09:31:34.684Z"
   },
   {
    "duration": 5,
    "start_time": "2023-06-16T09:31:39.734Z"
   },
   {
    "duration": 19,
    "start_time": "2023-06-16T09:36:01.811Z"
   },
   {
    "duration": 10,
    "start_time": "2023-06-16T09:36:17.738Z"
   },
   {
    "duration": 8,
    "start_time": "2023-06-16T09:36:56.007Z"
   },
   {
    "duration": 9,
    "start_time": "2023-06-16T09:37:56.821Z"
   },
   {
    "duration": 26,
    "start_time": "2023-06-16T09:38:12.164Z"
   },
   {
    "duration": 774,
    "start_time": "2023-06-16T09:49:33.813Z"
   },
   {
    "duration": 1008,
    "start_time": "2023-06-16T09:49:37.289Z"
   },
   {
    "duration": 139,
    "start_time": "2023-06-16T09:50:27.710Z"
   },
   {
    "duration": 2110,
    "start_time": "2023-06-16T10:02:24.028Z"
   },
   {
    "duration": 1180,
    "start_time": "2023-06-16T10:02:26.140Z"
   },
   {
    "duration": 5,
    "start_time": "2023-06-16T10:02:27.322Z"
   },
   {
    "duration": 82,
    "start_time": "2023-06-16T10:02:27.328Z"
   },
   {
    "duration": 5,
    "start_time": "2023-06-16T10:02:27.413Z"
   },
   {
    "duration": 46,
    "start_time": "2023-06-16T10:02:27.419Z"
   },
   {
    "duration": 4,
    "start_time": "2023-06-16T10:02:27.467Z"
   },
   {
    "duration": 16,
    "start_time": "2023-06-16T10:02:27.473Z"
   },
   {
    "duration": 12,
    "start_time": "2023-06-16T10:02:27.491Z"
   },
   {
    "duration": 50,
    "start_time": "2023-06-16T10:02:27.506Z"
   },
   {
    "duration": 15,
    "start_time": "2023-06-16T10:02:27.558Z"
   },
   {
    "duration": 9,
    "start_time": "2023-06-16T10:02:27.575Z"
   },
   {
    "duration": 15,
    "start_time": "2023-06-16T10:02:27.586Z"
   },
   {
    "duration": 61,
    "start_time": "2023-06-16T10:02:27.606Z"
   },
   {
    "duration": 26,
    "start_time": "2023-06-16T10:02:27.669Z"
   },
   {
    "duration": 571,
    "start_time": "2023-06-16T10:02:27.696Z"
   },
   {
    "duration": 5,
    "start_time": "2023-06-16T10:02:28.269Z"
   },
   {
    "duration": 15,
    "start_time": "2023-06-16T10:02:28.275Z"
   },
   {
    "duration": 216,
    "start_time": "2023-06-16T10:02:28.292Z"
   },
   {
    "duration": 0,
    "start_time": "2023-06-16T10:02:28.510Z"
   },
   {
    "duration": 0,
    "start_time": "2023-06-16T10:02:28.512Z"
   },
   {
    "duration": 0,
    "start_time": "2023-06-16T10:02:28.513Z"
   },
   {
    "duration": 0,
    "start_time": "2023-06-16T10:02:28.515Z"
   },
   {
    "duration": 0,
    "start_time": "2023-06-16T10:02:28.516Z"
   },
   {
    "duration": 0,
    "start_time": "2023-06-16T10:02:28.518Z"
   },
   {
    "duration": 0,
    "start_time": "2023-06-16T10:02:28.519Z"
   },
   {
    "duration": 0,
    "start_time": "2023-06-16T10:02:28.520Z"
   },
   {
    "duration": 0,
    "start_time": "2023-06-16T10:02:28.521Z"
   },
   {
    "duration": 0,
    "start_time": "2023-06-16T10:02:28.522Z"
   },
   {
    "duration": 0,
    "start_time": "2023-06-16T10:02:28.523Z"
   },
   {
    "duration": 0,
    "start_time": "2023-06-16T10:02:28.524Z"
   },
   {
    "duration": 0,
    "start_time": "2023-06-16T10:02:28.525Z"
   },
   {
    "duration": 0,
    "start_time": "2023-06-16T10:02:28.555Z"
   },
   {
    "duration": 0,
    "start_time": "2023-06-16T10:02:28.556Z"
   },
   {
    "duration": 0,
    "start_time": "2023-06-16T10:02:28.558Z"
   },
   {
    "duration": 0,
    "start_time": "2023-06-16T10:02:28.560Z"
   },
   {
    "duration": 0,
    "start_time": "2023-06-16T10:02:28.562Z"
   },
   {
    "duration": 0,
    "start_time": "2023-06-16T10:02:28.563Z"
   },
   {
    "duration": 0,
    "start_time": "2023-06-16T10:02:28.565Z"
   },
   {
    "duration": 0,
    "start_time": "2023-06-16T10:02:28.566Z"
   },
   {
    "duration": 0,
    "start_time": "2023-06-16T10:02:28.568Z"
   },
   {
    "duration": 0,
    "start_time": "2023-06-16T10:02:28.569Z"
   },
   {
    "duration": 427,
    "start_time": "2023-06-16T10:10:04.539Z"
   },
   {
    "duration": 11,
    "start_time": "2023-06-16T10:13:20.509Z"
   },
   {
    "duration": 14,
    "start_time": "2023-06-16T10:13:34.108Z"
   },
   {
    "duration": 771,
    "start_time": "2023-06-16T10:13:41.401Z"
   },
   {
    "duration": 921,
    "start_time": "2023-06-16T10:18:16.409Z"
   },
   {
    "duration": 1272,
    "start_time": "2023-06-16T10:18:57.866Z"
   },
   {
    "duration": 796,
    "start_time": "2023-06-16T10:19:08.109Z"
   },
   {
    "duration": 858,
    "start_time": "2023-06-16T11:25:39.626Z"
   },
   {
    "duration": 131,
    "start_time": "2023-06-16T11:26:01.614Z"
   },
   {
    "duration": 20,
    "start_time": "2023-06-16T11:26:20.623Z"
   },
   {
    "duration": 19,
    "start_time": "2023-06-16T11:26:53.259Z"
   },
   {
    "duration": 13,
    "start_time": "2023-06-16T11:27:56.915Z"
   },
   {
    "duration": 352,
    "start_time": "2023-06-16T11:28:05.943Z"
   },
   {
    "duration": 14,
    "start_time": "2023-06-16T11:28:20.339Z"
   },
   {
    "duration": 435,
    "start_time": "2023-06-16T11:28:31.672Z"
   },
   {
    "duration": 13,
    "start_time": "2023-06-16T11:28:52.307Z"
   },
   {
    "duration": 362,
    "start_time": "2023-06-16T11:29:02.324Z"
   },
   {
    "duration": 336,
    "start_time": "2023-06-16T11:29:58.245Z"
   },
   {
    "duration": 434,
    "start_time": "2023-06-16T11:30:22.833Z"
   },
   {
    "duration": 14,
    "start_time": "2023-06-16T11:31:06.203Z"
   },
   {
    "duration": 318,
    "start_time": "2023-06-16T11:31:15.106Z"
   },
   {
    "duration": 151,
    "start_time": "2023-06-16T11:40:06.582Z"
   },
   {
    "duration": 793,
    "start_time": "2023-06-16T11:40:11.523Z"
   },
   {
    "duration": 15,
    "start_time": "2023-06-16T11:40:56.541Z"
   },
   {
    "duration": 1973,
    "start_time": "2023-06-16T11:41:40.115Z"
   },
   {
    "duration": 1201,
    "start_time": "2023-06-16T11:42:04.012Z"
   },
   {
    "duration": 139,
    "start_time": "2023-06-16T11:42:22.809Z"
   },
   {
    "duration": 591,
    "start_time": "2023-06-16T11:43:29.028Z"
   },
   {
    "duration": 112,
    "start_time": "2023-06-16T11:44:11.515Z"
   },
   {
    "duration": 169,
    "start_time": "2023-06-16T11:44:17.656Z"
   },
   {
    "duration": 145,
    "start_time": "2023-06-16T11:45:11.092Z"
   },
   {
    "duration": 143,
    "start_time": "2023-06-16T11:46:01.432Z"
   },
   {
    "duration": 128,
    "start_time": "2023-06-16T11:46:26.198Z"
   },
   {
    "duration": 124,
    "start_time": "2023-06-16T11:46:32.239Z"
   },
   {
    "duration": 442,
    "start_time": "2023-06-16T11:55:20.345Z"
   },
   {
    "duration": 535,
    "start_time": "2023-06-16T11:55:38.473Z"
   },
   {
    "duration": 525,
    "start_time": "2023-06-16T11:55:57.137Z"
   },
   {
    "duration": 461,
    "start_time": "2023-06-16T11:56:02.795Z"
   },
   {
    "duration": 519,
    "start_time": "2023-06-16T11:57:48.746Z"
   },
   {
    "duration": 1031,
    "start_time": "2023-06-16T11:58:15.266Z"
   },
   {
    "duration": 136081,
    "start_time": "2023-06-16T11:58:28.077Z"
   },
   {
    "duration": 486,
    "start_time": "2023-06-16T12:00:44.160Z"
   },
   {
    "duration": 364,
    "start_time": "2023-06-16T12:01:40.745Z"
   },
   {
    "duration": 154,
    "start_time": "2023-06-16T12:01:51.938Z"
   },
   {
    "duration": 1238,
    "start_time": "2023-06-16T12:02:00.893Z"
   },
   {
    "duration": 1239,
    "start_time": "2023-06-16T12:02:21.643Z"
   },
   {
    "duration": 779,
    "start_time": "2023-06-16T12:02:38.954Z"
   },
   {
    "duration": 775,
    "start_time": "2023-06-16T12:02:59.508Z"
   },
   {
    "duration": 586,
    "start_time": "2023-06-16T12:03:12.328Z"
   },
   {
    "duration": 577,
    "start_time": "2023-06-16T12:03:20.267Z"
   },
   {
    "duration": 4,
    "start_time": "2023-06-16T12:03:37.203Z"
   },
   {
    "duration": 3,
    "start_time": "2023-06-16T12:03:38.641Z"
   },
   {
    "duration": 398,
    "start_time": "2023-06-16T12:03:40.608Z"
   },
   {
    "duration": 1297,
    "start_time": "2023-06-16T12:03:44.178Z"
   },
   {
    "duration": 816,
    "start_time": "2023-06-16T12:06:25.112Z"
   },
   {
    "duration": 1226,
    "start_time": "2023-06-16T12:11:43.133Z"
   },
   {
    "duration": 8,
    "start_time": "2023-06-16T13:30:06.120Z"
   },
   {
    "duration": 7,
    "start_time": "2023-06-16T13:30:07.483Z"
   },
   {
    "duration": 8,
    "start_time": "2023-06-16T13:30:19.469Z"
   },
   {
    "duration": 6,
    "start_time": "2023-06-16T13:30:20.955Z"
   },
   {
    "duration": 9,
    "start_time": "2023-06-16T13:35:38.156Z"
   },
   {
    "duration": 183,
    "start_time": "2023-06-16T13:36:11.505Z"
   },
   {
    "duration": 4,
    "start_time": "2023-06-16T13:36:55.303Z"
   },
   {
    "duration": 9,
    "start_time": "2023-06-16T13:39:17.910Z"
   },
   {
    "duration": 8,
    "start_time": "2023-06-16T13:39:29.024Z"
   },
   {
    "duration": 4,
    "start_time": "2023-06-16T13:39:30.762Z"
   },
   {
    "duration": 8,
    "start_time": "2023-06-16T13:49:06.166Z"
   },
   {
    "duration": 4,
    "start_time": "2023-06-16T13:49:11.746Z"
   },
   {
    "duration": 4,
    "start_time": "2023-06-16T13:49:19.987Z"
   },
   {
    "duration": 5,
    "start_time": "2023-06-16T13:49:49.807Z"
   },
   {
    "duration": 9,
    "start_time": "2023-06-16T13:51:59.513Z"
   },
   {
    "duration": 6,
    "start_time": "2023-06-16T13:52:10.606Z"
   },
   {
    "duration": 80,
    "start_time": "2023-06-16T19:34:43.198Z"
   },
   {
    "duration": 3517,
    "start_time": "2023-06-16T19:34:50.781Z"
   },
   {
    "duration": 1559,
    "start_time": "2023-06-16T19:34:54.300Z"
   },
   {
    "duration": 3,
    "start_time": "2023-06-16T19:34:55.860Z"
   },
   {
    "duration": 84,
    "start_time": "2023-06-16T19:34:55.865Z"
   },
   {
    "duration": 6,
    "start_time": "2023-06-16T19:34:55.952Z"
   },
   {
    "duration": 61,
    "start_time": "2023-06-16T19:34:55.960Z"
   },
   {
    "duration": 18,
    "start_time": "2023-06-16T19:34:56.023Z"
   },
   {
    "duration": 35,
    "start_time": "2023-06-16T19:34:56.044Z"
   },
   {
    "duration": 57,
    "start_time": "2023-06-16T19:34:56.081Z"
   },
   {
    "duration": 38,
    "start_time": "2023-06-16T19:34:56.140Z"
   },
   {
    "duration": 70,
    "start_time": "2023-06-16T19:34:56.181Z"
   },
   {
    "duration": 70,
    "start_time": "2023-06-16T19:34:56.253Z"
   },
   {
    "duration": 27,
    "start_time": "2023-06-16T19:34:56.326Z"
   },
   {
    "duration": 76,
    "start_time": "2023-06-16T19:34:56.356Z"
   },
   {
    "duration": 24,
    "start_time": "2023-06-16T19:34:56.434Z"
   },
   {
    "duration": 603,
    "start_time": "2023-06-16T19:34:56.460Z"
   },
   {
    "duration": 8,
    "start_time": "2023-06-16T19:34:57.065Z"
   },
   {
    "duration": 73,
    "start_time": "2023-06-16T19:34:57.075Z"
   },
   {
    "duration": 516,
    "start_time": "2023-06-16T19:34:57.149Z"
   },
   {
    "duration": 1435,
    "start_time": "2023-06-16T19:34:57.667Z"
   },
   {
    "duration": 937,
    "start_time": "2023-06-16T19:34:59.104Z"
   },
   {
    "duration": 19,
    "start_time": "2023-06-16T19:35:00.044Z"
   },
   {
    "duration": 56,
    "start_time": "2023-06-16T19:35:00.065Z"
   },
   {
    "duration": 938,
    "start_time": "2023-06-16T19:35:00.122Z"
   },
   {
    "duration": 1230,
    "start_time": "2023-06-16T19:35:01.063Z"
   },
   {
    "duration": 746,
    "start_time": "2023-06-16T19:35:02.294Z"
   },
   {
    "duration": 5,
    "start_time": "2023-06-16T19:35:03.042Z"
   },
   {
    "duration": 14,
    "start_time": "2023-06-16T19:35:03.048Z"
   },
   {
    "duration": 384,
    "start_time": "2023-06-16T19:35:03.064Z"
   },
   {
    "duration": 1437,
    "start_time": "2023-06-16T19:35:03.450Z"
   },
   {
    "duration": 168,
    "start_time": "2023-06-16T19:35:04.889Z"
   },
   {
    "duration": 0,
    "start_time": "2023-06-16T19:35:05.059Z"
   },
   {
    "duration": 0,
    "start_time": "2023-06-16T19:35:05.060Z"
   },
   {
    "duration": 0,
    "start_time": "2023-06-16T19:35:05.061Z"
   },
   {
    "duration": 0,
    "start_time": "2023-06-16T19:35:05.062Z"
   },
   {
    "duration": 12,
    "start_time": "2023-06-16T19:35:23.241Z"
   },
   {
    "duration": 14,
    "start_time": "2023-06-16T19:48:36.751Z"
   },
   {
    "duration": 12,
    "start_time": "2023-06-16T19:52:52.124Z"
   },
   {
    "duration": 33,
    "start_time": "2023-06-16T19:53:00.216Z"
   },
   {
    "duration": 13,
    "start_time": "2023-06-16T19:53:08.280Z"
   },
   {
    "duration": 12,
    "start_time": "2023-06-16T19:53:20.291Z"
   },
   {
    "duration": 10,
    "start_time": "2023-06-16T19:53:34.722Z"
   },
   {
    "duration": 11,
    "start_time": "2023-06-16T19:53:40.483Z"
   },
   {
    "duration": 23,
    "start_time": "2023-06-16T19:53:46.218Z"
   },
   {
    "duration": 23,
    "start_time": "2023-06-16T19:55:31.009Z"
   },
   {
    "duration": 41,
    "start_time": "2023-06-16T19:55:45.227Z"
   },
   {
    "duration": 12,
    "start_time": "2023-06-16T19:56:04.984Z"
   },
   {
    "duration": 11,
    "start_time": "2023-06-16T19:56:27.184Z"
   },
   {
    "duration": 141,
    "start_time": "2023-06-16T20:04:36.068Z"
   },
   {
    "duration": 22,
    "start_time": "2023-06-16T20:04:41.154Z"
   },
   {
    "duration": 106,
    "start_time": "2023-06-16T20:04:55.179Z"
   },
   {
    "duration": 1318,
    "start_time": "2023-06-16T20:12:22.351Z"
   },
   {
    "duration": 2146,
    "start_time": "2023-06-16T20:17:11.302Z"
   },
   {
    "duration": 55685,
    "start_time": "2023-06-16T20:22:08.184Z"
   },
   {
    "duration": 114,
    "start_time": "2023-06-16T20:23:20.280Z"
   },
   {
    "duration": 1394,
    "start_time": "2023-06-16T20:34:08.756Z"
   },
   {
    "duration": 1168,
    "start_time": "2023-06-16T20:34:21.752Z"
   },
   {
    "duration": 1540,
    "start_time": "2023-06-16T20:34:32.279Z"
   },
   {
    "duration": 425,
    "start_time": "2023-06-16T20:36:27.277Z"
   },
   {
    "duration": 14,
    "start_time": "2023-06-16T20:39:27.659Z"
   },
   {
    "duration": 10,
    "start_time": "2023-06-16T20:39:45.684Z"
   },
   {
    "duration": 35,
    "start_time": "2023-06-16T20:39:50.896Z"
   },
   {
    "duration": 663,
    "start_time": "2023-06-16T20:39:57.043Z"
   },
   {
    "duration": 1240,
    "start_time": "2023-06-16T20:40:47.966Z"
   },
   {
    "duration": 486,
    "start_time": "2023-06-16T20:41:44.625Z"
   },
   {
    "duration": 915,
    "start_time": "2023-06-16T20:44:13.022Z"
   },
   {
    "duration": 980,
    "start_time": "2023-06-16T20:44:25.948Z"
   },
   {
    "duration": 747,
    "start_time": "2023-06-16T20:44:42.466Z"
   },
   {
    "duration": 342,
    "start_time": "2023-06-16T20:44:49.628Z"
   },
   {
    "duration": 551,
    "start_time": "2023-06-16T20:45:02.988Z"
   },
   {
    "duration": 586,
    "start_time": "2023-06-16T20:45:11.166Z"
   },
   {
    "duration": 13,
    "start_time": "2023-06-16T20:52:26.911Z"
   },
   {
    "duration": 250,
    "start_time": "2023-06-16T20:52:59.827Z"
   },
   {
    "duration": 193,
    "start_time": "2023-06-16T20:53:04.508Z"
   },
   {
    "duration": 188,
    "start_time": "2023-06-16T20:53:12.959Z"
   },
   {
    "duration": 1624,
    "start_time": "2023-06-16T20:53:56.484Z"
   },
   {
    "duration": 1400,
    "start_time": "2023-06-16T20:54:26.405Z"
   },
   {
    "duration": 1571,
    "start_time": "2023-06-16T20:54:34.329Z"
   },
   {
    "duration": 1236,
    "start_time": "2023-06-16T20:54:40.341Z"
   },
   {
    "duration": 1158,
    "start_time": "2023-06-16T20:59:05.635Z"
   },
   {
    "duration": 1120,
    "start_time": "2023-06-16T21:08:29.625Z"
   },
   {
    "duration": 1334,
    "start_time": "2023-06-16T21:08:48.379Z"
   },
   {
    "duration": 1270,
    "start_time": "2023-06-16T21:10:08.630Z"
   },
   {
    "duration": 1248,
    "start_time": "2023-06-16T21:10:32.485Z"
   },
   {
    "duration": 1398,
    "start_time": "2023-06-16T21:30:33.788Z"
   },
   {
    "duration": 1210,
    "start_time": "2023-06-16T21:32:35.063Z"
   },
   {
    "duration": 2157,
    "start_time": "2023-06-16T21:32:52.722Z"
   },
   {
    "duration": 1346,
    "start_time": "2023-06-16T21:33:06.344Z"
   },
   {
    "duration": 1164,
    "start_time": "2023-06-16T21:33:11.171Z"
   },
   {
    "duration": 1112,
    "start_time": "2023-06-16T21:33:17.170Z"
   },
   {
    "duration": 1121,
    "start_time": "2023-06-16T21:33:22.665Z"
   },
   {
    "duration": 1377,
    "start_time": "2023-06-16T21:33:40.924Z"
   },
   {
    "duration": 1244,
    "start_time": "2023-06-16T21:34:02.223Z"
   },
   {
    "duration": 1639,
    "start_time": "2023-06-16T21:35:44.238Z"
   },
   {
    "duration": 1405,
    "start_time": "2023-06-16T21:35:50.558Z"
   },
   {
    "duration": 31,
    "start_time": "2023-06-16T21:36:31.590Z"
   },
   {
    "duration": 2798,
    "start_time": "2023-06-16T21:38:16.245Z"
   },
   {
    "duration": 2173,
    "start_time": "2023-06-16T21:39:47.109Z"
   },
   {
    "duration": 3344,
    "start_time": "2023-06-16T21:40:07.658Z"
   },
   {
    "duration": 1077,
    "start_time": "2023-06-16T21:41:29.161Z"
   },
   {
    "duration": 137,
    "start_time": "2023-06-16T21:42:09.521Z"
   },
   {
    "duration": 3336,
    "start_time": "2023-06-16T21:45:43.907Z"
   },
   {
    "duration": 2107,
    "start_time": "2023-06-16T21:45:47.246Z"
   },
   {
    "duration": 15,
    "start_time": "2023-06-16T21:45:49.362Z"
   },
   {
    "duration": 480,
    "start_time": "2023-06-16T21:45:49.385Z"
   },
   {
    "duration": 18,
    "start_time": "2023-06-16T21:45:49.871Z"
   },
   {
    "duration": 318,
    "start_time": "2023-06-16T21:45:49.895Z"
   },
   {
    "duration": 106,
    "start_time": "2023-06-16T21:45:50.219Z"
   },
   {
    "duration": 219,
    "start_time": "2023-06-16T21:45:50.334Z"
   },
   {
    "duration": 137,
    "start_time": "2023-06-16T21:45:50.558Z"
   },
   {
    "duration": 227,
    "start_time": "2023-06-16T21:45:50.702Z"
   },
   {
    "duration": 168,
    "start_time": "2023-06-16T21:45:50.934Z"
   },
   {
    "duration": 109,
    "start_time": "2023-06-16T21:45:51.112Z"
   },
   {
    "duration": 182,
    "start_time": "2023-06-16T21:45:51.227Z"
   },
   {
    "duration": 181,
    "start_time": "2023-06-16T21:45:51.412Z"
   },
   {
    "duration": 179,
    "start_time": "2023-06-16T21:45:51.595Z"
   },
   {
    "duration": 1002,
    "start_time": "2023-06-16T21:45:51.783Z"
   },
   {
    "duration": 8,
    "start_time": "2023-06-16T21:45:52.789Z"
   },
   {
    "duration": 218,
    "start_time": "2023-06-16T21:45:52.803Z"
   },
   {
    "duration": 810,
    "start_time": "2023-06-16T21:45:53.024Z"
   },
   {
    "duration": 344,
    "start_time": "2023-06-16T21:45:53.839Z"
   },
   {
    "duration": 1996,
    "start_time": "2023-06-16T21:45:54.189Z"
   },
   {
    "duration": 2507,
    "start_time": "2023-06-16T21:45:56.202Z"
   },
   {
    "duration": 1715,
    "start_time": "2023-06-16T21:45:58.726Z"
   },
   {
    "duration": 2611,
    "start_time": "2023-06-16T21:46:00.442Z"
   },
   {
    "duration": 26,
    "start_time": "2023-06-16T21:46:03.065Z"
   },
   {
    "duration": 118,
    "start_time": "2023-06-16T21:46:03.105Z"
   },
   {
    "duration": 1034,
    "start_time": "2023-06-16T21:46:03.237Z"
   },
   {
    "duration": 2571,
    "start_time": "2023-06-16T21:46:04.301Z"
   },
   {
    "duration": 198,
    "start_time": "2023-06-16T21:46:06.887Z"
   },
   {
    "duration": 224,
    "start_time": "2023-06-16T21:46:07.089Z"
   },
   {
    "duration": 31,
    "start_time": "2023-06-16T21:46:07.322Z"
   },
   {
    "duration": 128,
    "start_time": "2023-06-16T21:46:07.358Z"
   },
   {
    "duration": 182,
    "start_time": "2023-06-16T21:46:07.491Z"
   },
   {
    "duration": 102,
    "start_time": "2023-06-16T21:46:07.683Z"
   },
   {
    "duration": 340,
    "start_time": "2023-06-16T21:52:54.863Z"
   },
   {
    "duration": 3346,
    "start_time": "2023-06-16T21:53:05.729Z"
   },
   {
    "duration": 2693,
    "start_time": "2023-06-16T21:53:23.748Z"
   },
   {
    "duration": 68,
    "start_time": "2023-06-16T21:54:05.965Z"
   },
   {
    "duration": 2677,
    "start_time": "2023-06-16T21:54:15.674Z"
   },
   {
    "duration": 31,
    "start_time": "2023-06-16T21:59:27.726Z"
   },
   {
    "duration": 990,
    "start_time": "2023-06-16T21:59:37.919Z"
   },
   {
    "duration": 983,
    "start_time": "2023-06-16T22:00:12.858Z"
   },
   {
    "duration": 1412,
    "start_time": "2023-06-16T22:00:29.444Z"
   },
   {
    "duration": 1564,
    "start_time": "2023-06-16T22:00:51.720Z"
   },
   {
    "duration": 26,
    "start_time": "2023-06-16T22:19:31.337Z"
   },
   {
    "duration": 31,
    "start_time": "2023-06-16T22:19:34.086Z"
   },
   {
    "duration": 342,
    "start_time": "2023-06-16T22:19:40.086Z"
   },
   {
    "duration": 235,
    "start_time": "2023-06-16T22:19:47.694Z"
   },
   {
    "duration": 180,
    "start_time": "2023-06-16T22:22:01.046Z"
   },
   {
    "duration": 184,
    "start_time": "2023-06-16T22:22:44.242Z"
   },
   {
    "duration": 72,
    "start_time": "2023-06-16T22:23:00.349Z"
   },
   {
    "duration": 161,
    "start_time": "2023-06-16T22:23:14.356Z"
   },
   {
    "duration": 220,
    "start_time": "2023-06-16T22:23:42.725Z"
   },
   {
    "duration": 206,
    "start_time": "2023-06-16T22:23:49.870Z"
   },
   {
    "duration": 186,
    "start_time": "2023-06-16T22:24:05.327Z"
   },
   {
    "duration": 180,
    "start_time": "2023-06-16T22:24:25.990Z"
   },
   {
    "duration": 163,
    "start_time": "2023-06-16T22:24:38.715Z"
   },
   {
    "duration": 223,
    "start_time": "2023-06-16T22:25:17.494Z"
   },
   {
    "duration": 155,
    "start_time": "2023-06-16T22:25:28.934Z"
   },
   {
    "duration": 224,
    "start_time": "2023-06-16T22:25:44.421Z"
   },
   {
    "duration": 125,
    "start_time": "2023-06-16T22:25:50.878Z"
   },
   {
    "duration": 173,
    "start_time": "2023-06-16T22:25:59.366Z"
   },
   {
    "duration": 64,
    "start_time": "2023-06-16T22:27:26.889Z"
   },
   {
    "duration": 206,
    "start_time": "2023-06-16T22:27:44.072Z"
   },
   {
    "duration": 176,
    "start_time": "2023-06-16T22:28:21.349Z"
   },
   {
    "duration": 130,
    "start_time": "2023-06-16T22:28:42.850Z"
   },
   {
    "duration": 185,
    "start_time": "2023-06-16T22:29:00.284Z"
   },
   {
    "duration": 183,
    "start_time": "2023-06-16T22:29:27.419Z"
   },
   {
    "duration": 190,
    "start_time": "2023-06-16T22:29:30.983Z"
   },
   {
    "duration": 211,
    "start_time": "2023-06-16T22:32:29.587Z"
   },
   {
    "duration": 141,
    "start_time": "2023-06-16T22:33:01.087Z"
   },
   {
    "duration": 213,
    "start_time": "2023-06-16T22:33:05.448Z"
   },
   {
    "duration": 267,
    "start_time": "2023-06-16T22:33:34.039Z"
   },
   {
    "duration": 178,
    "start_time": "2023-06-16T22:34:15.618Z"
   },
   {
    "duration": 182,
    "start_time": "2023-06-16T22:34:28.689Z"
   },
   {
    "duration": 301,
    "start_time": "2023-06-16T22:34:38.005Z"
   },
   {
    "duration": 251,
    "start_time": "2023-06-16T22:34:45.818Z"
   },
   {
    "duration": 109,
    "start_time": "2023-06-16T22:35:13.492Z"
   },
   {
    "duration": 222,
    "start_time": "2023-06-16T22:35:24.634Z"
   },
   {
    "duration": 250,
    "start_time": "2023-06-16T22:35:51.933Z"
   },
   {
    "duration": 90,
    "start_time": "2023-06-16T22:46:00.699Z"
   },
   {
    "duration": 1788,
    "start_time": "2023-06-16T22:47:46.422Z"
   },
   {
    "duration": 1633,
    "start_time": "2023-06-16T22:48:54.827Z"
   },
   {
    "duration": 1935,
    "start_time": "2023-06-16T22:49:27.574Z"
   },
   {
    "duration": 2303,
    "start_time": "2023-06-16T22:53:43.730Z"
   },
   {
    "duration": 1975,
    "start_time": "2023-06-16T22:54:06.682Z"
   },
   {
    "duration": 1379,
    "start_time": "2023-06-16T22:54:28.342Z"
   },
   {
    "duration": 211,
    "start_time": "2023-06-16T22:59:41.770Z"
   },
   {
    "duration": 271,
    "start_time": "2023-06-16T22:59:46.801Z"
   },
   {
    "duration": 502,
    "start_time": "2023-06-16T23:00:05.667Z"
   },
   {
    "duration": 191,
    "start_time": "2023-06-16T23:00:18.554Z"
   },
   {
    "duration": 3635,
    "start_time": "2023-06-16T23:01:27.682Z"
   },
   {
    "duration": 1747,
    "start_time": "2023-06-16T23:01:31.320Z"
   },
   {
    "duration": 4,
    "start_time": "2023-06-16T23:01:33.074Z"
   },
   {
    "duration": 377,
    "start_time": "2023-06-16T23:01:33.084Z"
   },
   {
    "duration": 12,
    "start_time": "2023-06-16T23:01:33.474Z"
   },
   {
    "duration": 96,
    "start_time": "2023-06-16T23:01:33.487Z"
   },
   {
    "duration": 50,
    "start_time": "2023-06-16T23:01:33.587Z"
   },
   {
    "duration": 18,
    "start_time": "2023-06-16T23:01:33.639Z"
   },
   {
    "duration": 35,
    "start_time": "2023-06-16T23:01:33.658Z"
   },
   {
    "duration": 146,
    "start_time": "2023-06-16T23:01:33.698Z"
   },
   {
    "duration": 32,
    "start_time": "2023-06-16T23:01:33.854Z"
   },
   {
    "duration": 9,
    "start_time": "2023-06-16T23:01:33.888Z"
   },
   {
    "duration": 82,
    "start_time": "2023-06-16T23:01:33.902Z"
   },
   {
    "duration": 57,
    "start_time": "2023-06-16T23:01:33.988Z"
   },
   {
    "duration": 67,
    "start_time": "2023-06-16T23:01:34.049Z"
   },
   {
    "duration": 719,
    "start_time": "2023-06-16T23:01:34.118Z"
   },
   {
    "duration": 15,
    "start_time": "2023-06-16T23:01:34.838Z"
   },
   {
    "duration": 123,
    "start_time": "2023-06-16T23:01:34.854Z"
   },
   {
    "duration": 683,
    "start_time": "2023-06-16T23:01:34.978Z"
   },
   {
    "duration": 378,
    "start_time": "2023-06-16T23:01:35.667Z"
   },
   {
    "duration": 1518,
    "start_time": "2023-06-16T23:01:36.051Z"
   },
   {
    "duration": 1672,
    "start_time": "2023-06-16T23:01:37.571Z"
   },
   {
    "duration": 1199,
    "start_time": "2023-06-16T23:01:39.245Z"
   },
   {
    "duration": 9,
    "start_time": "2023-06-16T23:01:40.447Z"
   },
   {
    "duration": 118,
    "start_time": "2023-06-16T23:01:40.470Z"
   },
   {
    "duration": 84,
    "start_time": "2023-06-16T23:01:40.590Z"
   },
   {
    "duration": 751,
    "start_time": "2023-06-16T23:01:40.678Z"
   },
   {
    "duration": 2030,
    "start_time": "2023-06-16T23:01:41.430Z"
   },
   {
    "duration": 188,
    "start_time": "2023-06-16T23:01:43.462Z"
   },
   {
    "duration": 161,
    "start_time": "2023-06-16T23:01:43.657Z"
   },
   {
    "duration": 139,
    "start_time": "2023-06-16T23:01:43.825Z"
   },
   {
    "duration": 41,
    "start_time": "2023-06-16T23:01:43.968Z"
   },
   {
    "duration": 68,
    "start_time": "2023-06-16T23:01:44.022Z"
   },
   {
    "duration": 45,
    "start_time": "2023-06-16T23:01:44.092Z"
   },
   {
    "duration": 85,
    "start_time": "2023-06-16T23:01:44.145Z"
   },
   {
    "duration": 3469,
    "start_time": "2023-06-16T23:23:10.272Z"
   },
   {
    "duration": 1852,
    "start_time": "2023-06-16T23:23:13.744Z"
   },
   {
    "duration": 10,
    "start_time": "2023-06-16T23:23:15.598Z"
   },
   {
    "duration": 495,
    "start_time": "2023-06-16T23:23:15.611Z"
   },
   {
    "duration": 5,
    "start_time": "2023-06-16T23:23:16.108Z"
   },
   {
    "duration": 196,
    "start_time": "2023-06-16T23:23:16.115Z"
   },
   {
    "duration": 70,
    "start_time": "2023-06-16T23:23:16.313Z"
   },
   {
    "duration": 121,
    "start_time": "2023-06-16T23:23:16.385Z"
   },
   {
    "duration": 117,
    "start_time": "2023-06-16T23:23:16.508Z"
   },
   {
    "duration": 181,
    "start_time": "2023-06-16T23:23:16.638Z"
   },
   {
    "duration": 159,
    "start_time": "2023-06-16T23:23:16.830Z"
   },
   {
    "duration": 96,
    "start_time": "2023-06-16T23:23:16.991Z"
   },
   {
    "duration": 89,
    "start_time": "2023-06-16T23:23:17.091Z"
   },
   {
    "duration": 103,
    "start_time": "2023-06-16T23:23:17.182Z"
   },
   {
    "duration": 107,
    "start_time": "2023-06-16T23:23:17.287Z"
   },
   {
    "duration": 715,
    "start_time": "2023-06-16T23:23:17.407Z"
   },
   {
    "duration": 7,
    "start_time": "2023-06-16T23:23:18.127Z"
   },
   {
    "duration": 150,
    "start_time": "2023-06-16T23:23:18.138Z"
   },
   {
    "duration": 951,
    "start_time": "2023-06-16T23:23:18.290Z"
   },
   {
    "duration": 394,
    "start_time": "2023-06-16T23:23:19.247Z"
   },
   {
    "duration": 1319,
    "start_time": "2023-06-16T23:23:19.646Z"
   },
   {
    "duration": 1387,
    "start_time": "2023-06-16T23:23:20.970Z"
   },
   {
    "duration": 1115,
    "start_time": "2023-06-16T23:23:22.358Z"
   },
   {
    "duration": 10,
    "start_time": "2023-06-16T23:23:23.483Z"
   },
   {
    "duration": 167,
    "start_time": "2023-06-16T23:23:23.498Z"
   },
   {
    "duration": 117,
    "start_time": "2023-06-16T23:23:23.672Z"
   },
   {
    "duration": 874,
    "start_time": "2023-06-16T23:23:23.791Z"
   },
   {
    "duration": 2207,
    "start_time": "2023-06-16T23:23:24.676Z"
   },
   {
    "duration": 204,
    "start_time": "2023-06-16T23:23:26.893Z"
   },
   {
    "duration": 247,
    "start_time": "2023-06-16T23:23:27.104Z"
   },
   {
    "duration": 210,
    "start_time": "2023-06-16T23:23:27.366Z"
   },
   {
    "duration": 14,
    "start_time": "2023-06-16T23:23:27.582Z"
   },
   {
    "duration": 136,
    "start_time": "2023-06-16T23:23:27.601Z"
   },
   {
    "duration": 170,
    "start_time": "2023-06-16T23:23:27.743Z"
   },
   {
    "duration": 172,
    "start_time": "2023-06-16T23:23:27.920Z"
   },
   {
    "duration": 3250,
    "start_time": "2023-06-18T18:40:28.719Z"
   },
   {
    "duration": 1286,
    "start_time": "2023-06-18T18:40:31.971Z"
   },
   {
    "duration": 3,
    "start_time": "2023-06-18T18:40:33.258Z"
   },
   {
    "duration": 163,
    "start_time": "2023-06-18T18:40:33.263Z"
   },
   {
    "duration": 4,
    "start_time": "2023-06-18T18:40:33.429Z"
   },
   {
    "duration": 32,
    "start_time": "2023-06-18T18:40:33.435Z"
   },
   {
    "duration": 3,
    "start_time": "2023-06-18T18:40:33.468Z"
   },
   {
    "duration": 27,
    "start_time": "2023-06-18T18:40:33.472Z"
   },
   {
    "duration": 15,
    "start_time": "2023-06-18T18:40:33.500Z"
   },
   {
    "duration": 27,
    "start_time": "2023-06-18T18:40:33.516Z"
   },
   {
    "duration": 12,
    "start_time": "2023-06-18T18:40:33.544Z"
   },
   {
    "duration": 7,
    "start_time": "2023-06-18T18:40:33.558Z"
   },
   {
    "duration": 10,
    "start_time": "2023-06-18T18:40:33.567Z"
   },
   {
    "duration": 37,
    "start_time": "2023-06-18T18:40:33.579Z"
   },
   {
    "duration": 37,
    "start_time": "2023-06-18T18:40:33.618Z"
   },
   {
    "duration": 549,
    "start_time": "2023-06-18T18:40:33.656Z"
   },
   {
    "duration": 2,
    "start_time": "2023-06-18T18:40:34.206Z"
   },
   {
    "duration": 15,
    "start_time": "2023-06-18T18:40:34.210Z"
   },
   {
    "duration": 108,
    "start_time": "2023-06-18T18:40:34.226Z"
   },
   {
    "duration": 0,
    "start_time": "2023-06-18T18:40:34.335Z"
   },
   {
    "duration": 0,
    "start_time": "2023-06-18T18:40:34.337Z"
   },
   {
    "duration": 0,
    "start_time": "2023-06-18T18:40:34.338Z"
   },
   {
    "duration": 0,
    "start_time": "2023-06-18T18:40:34.339Z"
   },
   {
    "duration": 0,
    "start_time": "2023-06-18T18:40:34.340Z"
   },
   {
    "duration": 0,
    "start_time": "2023-06-18T18:40:34.341Z"
   },
   {
    "duration": 0,
    "start_time": "2023-06-18T18:40:34.342Z"
   },
   {
    "duration": 0,
    "start_time": "2023-06-18T18:40:34.343Z"
   },
   {
    "duration": 0,
    "start_time": "2023-06-18T18:40:34.344Z"
   },
   {
    "duration": 0,
    "start_time": "2023-06-18T18:40:34.344Z"
   },
   {
    "duration": 0,
    "start_time": "2023-06-18T18:40:34.345Z"
   },
   {
    "duration": 0,
    "start_time": "2023-06-18T18:40:34.346Z"
   },
   {
    "duration": 0,
    "start_time": "2023-06-18T18:40:34.347Z"
   },
   {
    "duration": 0,
    "start_time": "2023-06-18T18:40:34.348Z"
   },
   {
    "duration": 0,
    "start_time": "2023-06-18T18:40:34.349Z"
   },
   {
    "duration": 0,
    "start_time": "2023-06-18T18:40:34.350Z"
   },
   {
    "duration": 0,
    "start_time": "2023-06-18T18:40:34.351Z"
   },
   {
    "duration": 454,
    "start_time": "2023-06-18T18:41:30.092Z"
   },
   {
    "duration": 227,
    "start_time": "2023-06-18T18:41:36.397Z"
   },
   {
    "duration": 808,
    "start_time": "2023-06-18T18:41:52.258Z"
   },
   {
    "duration": 22,
    "start_time": "2023-06-18T18:42:09.640Z"
   },
   {
    "duration": 1079,
    "start_time": "2023-06-18T18:42:20.156Z"
   },
   {
    "duration": 664,
    "start_time": "2023-06-18T18:42:50.072Z"
   },
   {
    "duration": 9,
    "start_time": "2023-06-18T18:43:57.248Z"
   },
   {
    "duration": 8,
    "start_time": "2023-06-18T18:43:57.894Z"
   },
   {
    "duration": 4,
    "start_time": "2023-06-18T18:44:01.433Z"
   },
   {
    "duration": 3,
    "start_time": "2023-06-18T18:44:04.054Z"
   },
   {
    "duration": 365,
    "start_time": "2023-06-18T18:44:07.237Z"
   },
   {
    "duration": 1415,
    "start_time": "2023-06-18T18:44:11.894Z"
   },
   {
    "duration": 97,
    "start_time": "2023-06-18T18:44:26.195Z"
   },
   {
    "duration": 117,
    "start_time": "2023-06-18T18:44:29.516Z"
   },
   {
    "duration": 89,
    "start_time": "2023-06-18T18:44:35.099Z"
   },
   {
    "duration": 93,
    "start_time": "2023-06-18T18:48:50.109Z"
   },
   {
    "duration": 91,
    "start_time": "2023-06-18T18:48:55.642Z"
   },
   {
    "duration": 21,
    "start_time": "2023-06-18T18:49:00.695Z"
   },
   {
    "duration": 100,
    "start_time": "2023-06-18T18:49:18.201Z"
   },
   {
    "duration": 107,
    "start_time": "2023-06-18T18:49:25.333Z"
   },
   {
    "duration": 87,
    "start_time": "2023-06-18T18:49:47.429Z"
   },
   {
    "duration": 103,
    "start_time": "2023-06-18T18:49:54.847Z"
   },
   {
    "duration": 109,
    "start_time": "2023-06-18T18:50:05.029Z"
   },
   {
    "duration": 104,
    "start_time": "2023-06-18T18:50:15.303Z"
   },
   {
    "duration": 109,
    "start_time": "2023-06-18T18:51:11.228Z"
   },
   {
    "duration": 99,
    "start_time": "2023-06-18T18:51:23.583Z"
   },
   {
    "duration": 104,
    "start_time": "2023-06-18T18:51:34.471Z"
   },
   {
    "duration": 173,
    "start_time": "2023-06-18T18:51:40.226Z"
   },
   {
    "duration": 109,
    "start_time": "2023-06-18T18:51:48.023Z"
   },
   {
    "duration": 106,
    "start_time": "2023-06-18T18:55:34.309Z"
   },
   {
    "duration": 109,
    "start_time": "2023-06-18T18:55:39.537Z"
   },
   {
    "duration": 93,
    "start_time": "2023-06-18T18:55:47.391Z"
   },
   {
    "duration": 100,
    "start_time": "2023-06-18T18:55:55.408Z"
   },
   {
    "duration": 94,
    "start_time": "2023-06-18T18:56:01.318Z"
   },
   {
    "duration": 90,
    "start_time": "2023-06-18T18:56:16.841Z"
   },
   {
    "duration": 94,
    "start_time": "2023-06-18T18:56:24.191Z"
   },
   {
    "duration": 93,
    "start_time": "2023-06-18T18:58:57.521Z"
   },
   {
    "duration": 108,
    "start_time": "2023-06-18T18:59:13.236Z"
   },
   {
    "duration": 102,
    "start_time": "2023-06-18T18:59:35.993Z"
   },
   {
    "duration": 101,
    "start_time": "2023-06-18T18:59:41.398Z"
   },
   {
    "duration": 138,
    "start_time": "2023-06-18T18:59:44.830Z"
   },
   {
    "duration": 94,
    "start_time": "2023-06-18T18:59:55.891Z"
   },
   {
    "duration": 10,
    "start_time": "2023-06-18T19:04:17.253Z"
   },
   {
    "duration": 5,
    "start_time": "2023-06-18T19:04:20.916Z"
   },
   {
    "duration": 8,
    "start_time": "2023-06-18T19:04:30.416Z"
   },
   {
    "duration": 5,
    "start_time": "2023-06-18T19:04:32.485Z"
   },
   {
    "duration": 104,
    "start_time": "2023-06-18T19:21:31.891Z"
   },
   {
    "duration": 114,
    "start_time": "2023-06-18T19:21:51.055Z"
   },
   {
    "duration": 191,
    "start_time": "2023-06-18T19:22:48.925Z"
   },
   {
    "duration": 95,
    "start_time": "2023-06-18T19:23:15.412Z"
   },
   {
    "duration": 95,
    "start_time": "2023-06-18T19:23:22.709Z"
   },
   {
    "duration": 101,
    "start_time": "2023-06-18T19:23:31.704Z"
   },
   {
    "duration": 124,
    "start_time": "2023-06-18T19:24:06.433Z"
   },
   {
    "duration": 147,
    "start_time": "2023-06-18T19:24:41.286Z"
   },
   {
    "duration": 124,
    "start_time": "2023-06-18T19:27:08.829Z"
   },
   {
    "duration": 122,
    "start_time": "2023-06-18T19:28:11.797Z"
   },
   {
    "duration": 147,
    "start_time": "2023-06-18T19:28:38.667Z"
   },
   {
    "duration": 169,
    "start_time": "2023-06-18T19:28:54.411Z"
   },
   {
    "duration": 147,
    "start_time": "2023-06-18T19:29:05.026Z"
   },
   {
    "duration": 8070,
    "start_time": "2023-06-18T19:29:41.448Z"
   },
   {
    "duration": 135,
    "start_time": "2023-06-18T19:30:06.588Z"
   },
   {
    "duration": 116,
    "start_time": "2023-06-18T19:30:48.902Z"
   },
   {
    "duration": 113,
    "start_time": "2023-06-18T19:31:02.230Z"
   },
   {
    "duration": 129,
    "start_time": "2023-06-18T19:31:27.223Z"
   },
   {
    "duration": 96,
    "start_time": "2023-06-18T19:31:35.255Z"
   },
   {
    "duration": 111,
    "start_time": "2023-06-18T19:31:50.589Z"
   },
   {
    "duration": 101,
    "start_time": "2023-06-18T19:31:57.416Z"
   },
   {
    "duration": 20,
    "start_time": "2023-06-18T19:32:25.307Z"
   },
   {
    "duration": 9451,
    "start_time": "2023-06-18T19:33:21.311Z"
   },
   {
    "duration": 25,
    "start_time": "2023-06-18T19:35:27.039Z"
   },
   {
    "duration": 22,
    "start_time": "2023-06-18T19:35:33.241Z"
   },
   {
    "duration": 30,
    "start_time": "2023-06-18T19:35:49.809Z"
   },
   {
    "duration": 30,
    "start_time": "2023-06-18T19:36:02.310Z"
   },
   {
    "duration": 13,
    "start_time": "2023-06-18T19:36:09.507Z"
   },
   {
    "duration": 27,
    "start_time": "2023-06-18T19:36:20.148Z"
   },
   {
    "duration": 74,
    "start_time": "2023-06-18T19:36:35.696Z"
   },
   {
    "duration": 74,
    "start_time": "2023-06-18T19:37:09.039Z"
   },
   {
    "duration": 113,
    "start_time": "2023-06-18T19:44:16.209Z"
   },
   {
    "duration": 106,
    "start_time": "2023-06-18T19:44:56.332Z"
   },
   {
    "duration": 117,
    "start_time": "2023-06-18T19:45:03.805Z"
   },
   {
    "duration": 99,
    "start_time": "2023-06-18T19:45:19.217Z"
   },
   {
    "duration": 120,
    "start_time": "2023-06-18T19:45:24.982Z"
   },
   {
    "duration": 95,
    "start_time": "2023-06-18T19:45:37.100Z"
   },
   {
    "duration": 96,
    "start_time": "2023-06-18T19:45:42.895Z"
   },
   {
    "duration": 116,
    "start_time": "2023-06-18T19:45:53.809Z"
   },
   {
    "duration": 8378,
    "start_time": "2023-06-18T20:09:19.245Z"
   },
   {
    "duration": 2310,
    "start_time": "2023-06-18T20:40:27.423Z"
   },
   {
    "duration": 1184,
    "start_time": "2023-06-18T20:40:29.736Z"
   },
   {
    "duration": 9,
    "start_time": "2023-06-18T20:40:30.922Z"
   },
   {
    "duration": 83,
    "start_time": "2023-06-18T20:40:30.933Z"
   },
   {
    "duration": 4,
    "start_time": "2023-06-18T20:40:31.019Z"
   },
   {
    "duration": 68,
    "start_time": "2023-06-18T20:40:31.024Z"
   },
   {
    "duration": 3,
    "start_time": "2023-06-18T20:40:31.094Z"
   },
   {
    "duration": 31,
    "start_time": "2023-06-18T20:40:31.099Z"
   },
   {
    "duration": 36,
    "start_time": "2023-06-18T20:40:31.132Z"
   },
   {
    "duration": 52,
    "start_time": "2023-06-18T20:40:31.170Z"
   },
   {
    "duration": 26,
    "start_time": "2023-06-18T20:40:31.223Z"
   },
   {
    "duration": 29,
    "start_time": "2023-06-18T20:40:31.251Z"
   },
   {
    "duration": 28,
    "start_time": "2023-06-18T20:40:31.282Z"
   },
   {
    "duration": 71,
    "start_time": "2023-06-18T20:40:31.313Z"
   },
   {
    "duration": 31,
    "start_time": "2023-06-18T20:40:31.385Z"
   },
   {
    "duration": 583,
    "start_time": "2023-06-18T20:40:31.418Z"
   },
   {
    "duration": 2,
    "start_time": "2023-06-18T20:40:32.003Z"
   },
   {
    "duration": 8,
    "start_time": "2023-06-18T20:40:32.006Z"
   },
   {
    "duration": 462,
    "start_time": "2023-06-18T20:40:32.015Z"
   },
   {
    "duration": 239,
    "start_time": "2023-06-18T20:40:32.478Z"
   },
   {
    "duration": 874,
    "start_time": "2023-06-18T20:40:32.719Z"
   },
   {
    "duration": 1071,
    "start_time": "2023-06-18T20:40:33.595Z"
   },
   {
    "duration": 726,
    "start_time": "2023-06-18T20:40:34.668Z"
   },
   {
    "duration": 7821,
    "start_time": "2023-06-18T20:40:35.397Z"
   },
   {
    "duration": 4,
    "start_time": "2023-06-18T20:40:43.220Z"
   },
   {
    "duration": 4,
    "start_time": "2023-06-18T20:40:43.232Z"
   },
   {
    "duration": 416,
    "start_time": "2023-06-18T20:40:43.238Z"
   },
   {
    "duration": 1793,
    "start_time": "2023-06-18T20:40:43.656Z"
   },
   {
    "duration": 102,
    "start_time": "2023-06-18T20:40:45.451Z"
   },
   {
    "duration": 205,
    "start_time": "2023-06-18T20:40:45.554Z"
   },
   {
    "duration": 208,
    "start_time": "2023-06-18T20:40:45.761Z"
   },
   {
    "duration": 62,
    "start_time": "2023-06-18T20:40:45.970Z"
   },
   {
    "duration": 7,
    "start_time": "2023-06-18T20:40:46.034Z"
   },
   {
    "duration": 12,
    "start_time": "2023-06-18T20:40:46.043Z"
   },
   {
    "duration": 6,
    "start_time": "2023-06-18T20:40:46.058Z"
   },
   {
    "duration": 7,
    "start_time": "2023-06-18T20:40:46.066Z"
   },
   {
    "duration": 99,
    "start_time": "2023-06-18T20:41:04.973Z"
   },
   {
    "duration": 105,
    "start_time": "2023-06-18T20:41:13.119Z"
   },
   {
    "duration": 12,
    "start_time": "2023-06-18T20:41:23.257Z"
   },
   {
    "duration": 282,
    "start_time": "2023-06-18T20:42:27.860Z"
   },
   {
    "duration": 302,
    "start_time": "2023-06-18T20:47:44.643Z"
   },
   {
    "duration": 251,
    "start_time": "2023-06-18T20:47:49.722Z"
   },
   {
    "duration": 266,
    "start_time": "2023-06-18T20:48:32.581Z"
   },
   {
    "duration": 263,
    "start_time": "2023-06-18T20:49:01.005Z"
   },
   {
    "duration": 2194,
    "start_time": "2023-06-18T21:02:56.791Z"
   },
   {
    "duration": 1131,
    "start_time": "2023-06-18T21:02:58.987Z"
   },
   {
    "duration": 3,
    "start_time": "2023-06-18T21:03:00.120Z"
   },
   {
    "duration": 124,
    "start_time": "2023-06-18T21:03:00.133Z"
   },
   {
    "duration": 22,
    "start_time": "2023-06-18T21:03:00.258Z"
   },
   {
    "duration": 80,
    "start_time": "2023-06-18T21:03:00.282Z"
   },
   {
    "duration": 49,
    "start_time": "2023-06-18T21:03:00.364Z"
   },
   {
    "duration": 52,
    "start_time": "2023-06-18T21:03:00.415Z"
   },
   {
    "duration": 50,
    "start_time": "2023-06-18T21:03:00.469Z"
   },
   {
    "duration": 53,
    "start_time": "2023-06-18T21:03:00.521Z"
   },
   {
    "duration": 27,
    "start_time": "2023-06-18T21:03:00.577Z"
   },
   {
    "duration": 41,
    "start_time": "2023-06-18T21:03:00.606Z"
   },
   {
    "duration": 54,
    "start_time": "2023-06-18T21:03:00.648Z"
   },
   {
    "duration": 89,
    "start_time": "2023-06-18T21:03:00.705Z"
   },
   {
    "duration": 110,
    "start_time": "2023-06-18T21:03:00.796Z"
   },
   {
    "duration": 700,
    "start_time": "2023-06-18T21:03:00.908Z"
   },
   {
    "duration": 2,
    "start_time": "2023-06-18T21:03:01.610Z"
   },
   {
    "duration": 92,
    "start_time": "2023-06-18T21:03:01.614Z"
   },
   {
    "duration": 601,
    "start_time": "2023-06-18T21:03:01.708Z"
   },
   {
    "duration": 376,
    "start_time": "2023-06-18T21:03:02.311Z"
   },
   {
    "duration": 922,
    "start_time": "2023-06-18T21:03:02.689Z"
   },
   {
    "duration": 1145,
    "start_time": "2023-06-18T21:03:03.613Z"
   },
   {
    "duration": 756,
    "start_time": "2023-06-18T21:03:04.760Z"
   },
   {
    "duration": 6947,
    "start_time": "2023-06-18T21:03:05.518Z"
   },
   {
    "duration": 4,
    "start_time": "2023-06-18T21:03:12.467Z"
   },
   {
    "duration": 6,
    "start_time": "2023-06-18T21:03:12.473Z"
   },
   {
    "duration": 498,
    "start_time": "2023-06-18T21:03:12.481Z"
   },
   {
    "duration": 1825,
    "start_time": "2023-06-18T21:03:12.984Z"
   },
   {
    "duration": 107,
    "start_time": "2023-06-18T21:03:14.811Z"
   },
   {
    "duration": 129,
    "start_time": "2023-06-18T21:03:14.920Z"
   },
   {
    "duration": 122,
    "start_time": "2023-06-18T21:03:15.051Z"
   },
   {
    "duration": 11,
    "start_time": "2023-06-18T21:03:15.175Z"
   },
   {
    "duration": 24,
    "start_time": "2023-06-18T21:03:15.188Z"
   },
   {
    "duration": 25,
    "start_time": "2023-06-18T21:03:15.214Z"
   },
   {
    "duration": 30,
    "start_time": "2023-06-18T21:03:15.241Z"
   },
   {
    "duration": 158,
    "start_time": "2023-06-18T21:03:15.273Z"
   },
   {
    "duration": 60,
    "start_time": "2023-06-19T07:46:32.261Z"
   },
   {
    "duration": 3196,
    "start_time": "2023-06-19T07:46:40.607Z"
   },
   {
    "duration": 1357,
    "start_time": "2023-06-19T07:46:43.806Z"
   },
   {
    "duration": 3,
    "start_time": "2023-06-19T07:46:45.165Z"
   },
   {
    "duration": 120,
    "start_time": "2023-06-19T07:46:45.169Z"
   },
   {
    "duration": 4,
    "start_time": "2023-06-19T07:46:45.291Z"
   },
   {
    "duration": 67,
    "start_time": "2023-06-19T07:46:45.296Z"
   },
   {
    "duration": 3,
    "start_time": "2023-06-19T07:46:45.365Z"
   },
   {
    "duration": 13,
    "start_time": "2023-06-19T07:46:45.370Z"
   },
   {
    "duration": 31,
    "start_time": "2023-06-19T07:46:45.385Z"
   },
   {
    "duration": 54,
    "start_time": "2023-06-19T07:46:45.418Z"
   },
   {
    "duration": 15,
    "start_time": "2023-06-19T07:46:45.474Z"
   },
   {
    "duration": 39,
    "start_time": "2023-06-19T07:46:45.490Z"
   },
   {
    "duration": 25,
    "start_time": "2023-06-19T07:46:45.531Z"
   },
   {
    "duration": 37,
    "start_time": "2023-06-19T07:46:45.558Z"
   },
   {
    "duration": 24,
    "start_time": "2023-06-19T07:46:45.597Z"
   },
   {
    "duration": 520,
    "start_time": "2023-06-19T07:46:45.623Z"
   },
   {
    "duration": 2,
    "start_time": "2023-06-19T07:46:46.144Z"
   },
   {
    "duration": 15,
    "start_time": "2023-06-19T07:46:46.148Z"
   },
   {
    "duration": 481,
    "start_time": "2023-06-19T07:46:46.165Z"
   },
   {
    "duration": 232,
    "start_time": "2023-06-19T07:46:46.648Z"
   },
   {
    "duration": 780,
    "start_time": "2023-06-19T07:46:46.882Z"
   },
   {
    "duration": 975,
    "start_time": "2023-06-19T07:46:47.664Z"
   },
   {
    "duration": 672,
    "start_time": "2023-06-19T07:46:48.641Z"
   },
   {
    "duration": 5682,
    "start_time": "2023-06-19T07:46:49.314Z"
   },
   {
    "duration": 4,
    "start_time": "2023-06-19T07:46:54.997Z"
   },
   {
    "duration": 62,
    "start_time": "2023-06-19T07:46:55.002Z"
   },
   {
    "duration": 458,
    "start_time": "2023-06-19T07:46:55.065Z"
   },
   {
    "duration": 1549,
    "start_time": "2023-06-19T07:46:55.525Z"
   },
   {
    "duration": 92,
    "start_time": "2023-06-19T07:46:57.076Z"
   },
   {
    "duration": 100,
    "start_time": "2023-06-19T07:46:57.170Z"
   },
   {
    "duration": 102,
    "start_time": "2023-06-19T07:46:57.272Z"
   },
   {
    "duration": 25,
    "start_time": "2023-06-19T07:46:57.376Z"
   },
   {
    "duration": 19,
    "start_time": "2023-06-19T07:46:57.403Z"
   },
   {
    "duration": 14,
    "start_time": "2023-06-19T07:46:57.424Z"
   },
   {
    "duration": 27,
    "start_time": "2023-06-19T07:46:57.440Z"
   },
   {
    "duration": 216,
    "start_time": "2023-06-19T07:46:57.469Z"
   },
   {
    "duration": 639,
    "start_time": "2023-06-19T07:49:44.380Z"
   },
   {
    "duration": 1136,
    "start_time": "2023-06-19T08:03:29.123Z"
   },
   {
    "duration": 831,
    "start_time": "2023-06-19T08:03:38.599Z"
   },
   {
    "duration": 136,
    "start_time": "2023-06-19T08:03:56.244Z"
   },
   {
    "duration": 1472,
    "start_time": "2023-06-19T08:04:27.917Z"
   },
   {
    "duration": 901,
    "start_time": "2023-06-19T08:05:07.768Z"
   },
   {
    "duration": 877,
    "start_time": "2023-06-19T08:05:14.412Z"
   },
   {
    "duration": 104,
    "start_time": "2023-06-19T08:42:09.417Z"
   },
   {
    "duration": 133,
    "start_time": "2023-06-19T08:42:16.273Z"
   },
   {
    "duration": 2737,
    "start_time": "2023-06-19T08:49:04.771Z"
   },
   {
    "duration": 1435,
    "start_time": "2023-06-19T08:49:07.510Z"
   },
   {
    "duration": 3,
    "start_time": "2023-06-19T08:49:08.947Z"
   },
   {
    "duration": 156,
    "start_time": "2023-06-19T08:49:08.952Z"
   },
   {
    "duration": 4,
    "start_time": "2023-06-19T08:49:09.109Z"
   },
   {
    "duration": 75,
    "start_time": "2023-06-19T08:49:09.114Z"
   },
   {
    "duration": 3,
    "start_time": "2023-06-19T08:49:09.190Z"
   },
   {
    "duration": 80,
    "start_time": "2023-06-19T08:49:09.195Z"
   },
   {
    "duration": 75,
    "start_time": "2023-06-19T08:49:09.276Z"
   },
   {
    "duration": 80,
    "start_time": "2023-06-19T08:49:09.354Z"
   },
   {
    "duration": 36,
    "start_time": "2023-06-19T08:49:09.440Z"
   },
   {
    "duration": 12,
    "start_time": "2023-06-19T08:49:09.478Z"
   },
   {
    "duration": 55,
    "start_time": "2023-06-19T08:49:09.491Z"
   },
   {
    "duration": 82,
    "start_time": "2023-06-19T08:49:09.548Z"
   },
   {
    "duration": 46,
    "start_time": "2023-06-19T08:49:09.633Z"
   },
   {
    "duration": 747,
    "start_time": "2023-06-19T08:49:09.681Z"
   },
   {
    "duration": 4,
    "start_time": "2023-06-19T08:49:10.430Z"
   },
   {
    "duration": 47,
    "start_time": "2023-06-19T08:49:10.436Z"
   },
   {
    "duration": 520,
    "start_time": "2023-06-19T08:49:10.484Z"
   },
   {
    "duration": 263,
    "start_time": "2023-06-19T08:49:11.005Z"
   },
   {
    "duration": 960,
    "start_time": "2023-06-19T08:49:11.270Z"
   },
   {
    "duration": 1138,
    "start_time": "2023-06-19T08:49:12.238Z"
   },
   {
    "duration": 785,
    "start_time": "2023-06-19T08:49:13.377Z"
   },
   {
    "duration": 6723,
    "start_time": "2023-06-19T08:49:14.163Z"
   },
   {
    "duration": 3,
    "start_time": "2023-06-19T08:49:20.887Z"
   },
   {
    "duration": 86,
    "start_time": "2023-06-19T08:49:20.891Z"
   },
   {
    "duration": 486,
    "start_time": "2023-06-19T08:49:20.979Z"
   },
   {
    "duration": 1547,
    "start_time": "2023-06-19T08:49:21.468Z"
   },
   {
    "duration": 110,
    "start_time": "2023-06-19T08:49:23.016Z"
   },
   {
    "duration": 105,
    "start_time": "2023-06-19T08:49:23.128Z"
   },
   {
    "duration": 107,
    "start_time": "2023-06-19T08:49:23.235Z"
   },
   {
    "duration": 9,
    "start_time": "2023-06-19T08:49:23.345Z"
   },
   {
    "duration": 22,
    "start_time": "2023-06-19T08:49:23.356Z"
   },
   {
    "duration": 30,
    "start_time": "2023-06-19T08:49:23.380Z"
   },
   {
    "duration": 35,
    "start_time": "2023-06-19T08:49:23.411Z"
   },
   {
    "duration": 409,
    "start_time": "2023-06-19T08:49:23.448Z"
   },
   {
    "duration": 258,
    "start_time": "2023-06-19T08:50:57.323Z"
   },
   {
    "duration": 118,
    "start_time": "2023-06-19T08:53:54.743Z"
   },
   {
    "duration": 12,
    "start_time": "2023-06-19T08:54:03.026Z"
   },
   {
    "duration": 18,
    "start_time": "2023-06-19T08:54:52.224Z"
   },
   {
    "duration": 269,
    "start_time": "2023-06-19T08:54:56.569Z"
   },
   {
    "duration": 319,
    "start_time": "2023-06-19T08:55:04.055Z"
   },
   {
    "duration": 260,
    "start_time": "2023-06-19T08:58:41.099Z"
   },
   {
    "duration": 82,
    "start_time": "2023-06-19T09:02:08.905Z"
   },
   {
    "duration": 80,
    "start_time": "2023-06-19T09:03:10.433Z"
   },
   {
    "duration": 218,
    "start_time": "2023-06-19T09:03:18.036Z"
   },
   {
    "duration": 180,
    "start_time": "2023-06-19T09:03:36.554Z"
   },
   {
    "duration": 240,
    "start_time": "2023-06-19T09:05:35.842Z"
   },
   {
    "duration": 664,
    "start_time": "2023-06-19T09:23:07.072Z"
   }
  ],
  "kernelspec": {
   "display_name": "Python 3 (ipykernel)",
   "language": "python",
   "name": "python3"
  },
  "language_info": {
   "codemirror_mode": {
    "name": "ipython",
    "version": 3
   },
   "file_extension": ".py",
   "mimetype": "text/x-python",
   "name": "python",
   "nbconvert_exporter": "python",
   "pygments_lexer": "ipython3",
   "version": "3.10.9"
  },
  "toc": {
   "base_numbering": 1,
   "nav_menu": {},
   "number_sections": true,
   "sideBar": true,
   "skip_h1_title": true,
   "title_cell": "Table of Contents",
   "title_sidebar": "Contents",
   "toc_cell": false,
   "toc_position": {
    "height": "calc(100% - 180px)",
    "left": "10px",
    "top": "150px",
    "width": "235.438px"
   },
   "toc_section_display": true,
   "toc_window_display": false
  }
 },
 "nbformat": 4,
 "nbformat_minor": 2
}
